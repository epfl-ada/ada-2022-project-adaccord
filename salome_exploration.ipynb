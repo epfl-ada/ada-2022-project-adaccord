{
 "cells": [
  {
   "cell_type": "code",
   "execution_count": 1,
   "id": "cd4e6c5c-e9a9-4f3f-b87b-e2562704687e",
   "metadata": {},
   "outputs": [],
   "source": [
    "import pandas as pd"
   ]
  },
  {
   "cell_type": "code",
   "execution_count": 2,
   "id": "cf3d66bf-335e-4645-9eb9-782664bd342a",
   "metadata": {},
   "outputs": [],
   "source": [
    "movie_column_names = [\"WikiID\", \"FreeID\", \"Title\", \"RelDate\", \"Revenue\", \"Runtime\", \"Languages\", \"Countries\", \"Genres\"]\n",
    "character_column_names = [\"WikiID\", \"FreeID\", \"MovieRelDate\", \"CharName\", \"DOB\", \"Gender\", \"Height\", \"Ethnicity\", \"Actor\", \"Age\", \"FreeMapID\", \"FreeCharID\", \"FreeActorID\"]\n",
    "movies_path = \"movie.metadata.tsv\"\n",
    "character_path = \"character.metadata.tsv\"\n",
    "movies = pd.read_csv(movies_path, sep='\\t', header=None, names=movie_column_names)\n",
    "characters = pd.read_csv(character_path, sep='\\t', header=None, names=character_column_names)"
   ]
  },
  {
   "cell_type": "code",
   "execution_count": 20,
   "id": "5be77bd3-8909-40a6-8838-b9af8133bcd6",
   "metadata": {},
   "outputs": [
    {
     "data": {
      "text/html": [
       "<div>\n",
       "<style scoped>\n",
       "    .dataframe tbody tr th:only-of-type {\n",
       "        vertical-align: middle;\n",
       "    }\n",
       "\n",
       "    .dataframe tbody tr th {\n",
       "        vertical-align: top;\n",
       "    }\n",
       "\n",
       "    .dataframe thead th {\n",
       "        text-align: right;\n",
       "    }\n",
       "</style>\n",
       "<table border=\"1\" class=\"dataframe\">\n",
       "  <thead>\n",
       "    <tr style=\"text-align: right;\">\n",
       "      <th></th>\n",
       "      <th>WikiID</th>\n",
       "      <th>FreeID</th>\n",
       "      <th>Title</th>\n",
       "      <th>RelDate</th>\n",
       "      <th>Revenue</th>\n",
       "      <th>Runtime</th>\n",
       "      <th>Languages</th>\n",
       "      <th>Countries</th>\n",
       "      <th>Genres</th>\n",
       "    </tr>\n",
       "  </thead>\n",
       "  <tbody>\n",
       "    <tr>\n",
       "      <th>0</th>\n",
       "      <td>975900</td>\n",
       "      <td>/m/03vyhn</td>\n",
       "      <td>Ghosts of Mars</td>\n",
       "      <td>2001-08-24</td>\n",
       "      <td>14010832.0</td>\n",
       "      <td>98.0</td>\n",
       "      <td>{\"/m/02h40lc\": \"English Language\"}</td>\n",
       "      <td>{\"/m/09c7w0\": \"United States of America\"}</td>\n",
       "      <td>{\"/m/01jfsb\": \"Thriller\", \"/m/06n90\": \"Science...</td>\n",
       "    </tr>\n",
       "    <tr>\n",
       "      <th>1</th>\n",
       "      <td>3196793</td>\n",
       "      <td>/m/08yl5d</td>\n",
       "      <td>Getting Away with Murder: The JonBenét Ramsey ...</td>\n",
       "      <td>2000-02-16</td>\n",
       "      <td>NaN</td>\n",
       "      <td>95.0</td>\n",
       "      <td>{\"/m/02h40lc\": \"English Language\"}</td>\n",
       "      <td>{\"/m/09c7w0\": \"United States of America\"}</td>\n",
       "      <td>{\"/m/02n4kr\": \"Mystery\", \"/m/03bxz7\": \"Biograp...</td>\n",
       "    </tr>\n",
       "    <tr>\n",
       "      <th>2</th>\n",
       "      <td>28463795</td>\n",
       "      <td>/m/0crgdbh</td>\n",
       "      <td>Brun bitter</td>\n",
       "      <td>1988</td>\n",
       "      <td>NaN</td>\n",
       "      <td>83.0</td>\n",
       "      <td>{\"/m/05f_3\": \"Norwegian Language\"}</td>\n",
       "      <td>{\"/m/05b4w\": \"Norway\"}</td>\n",
       "      <td>{\"/m/0lsxr\": \"Crime Fiction\", \"/m/07s9rl0\": \"D...</td>\n",
       "    </tr>\n",
       "    <tr>\n",
       "      <th>3</th>\n",
       "      <td>9363483</td>\n",
       "      <td>/m/0285_cd</td>\n",
       "      <td>White Of The Eye</td>\n",
       "      <td>1987</td>\n",
       "      <td>NaN</td>\n",
       "      <td>110.0</td>\n",
       "      <td>{\"/m/02h40lc\": \"English Language\"}</td>\n",
       "      <td>{\"/m/07ssc\": \"United Kingdom\"}</td>\n",
       "      <td>{\"/m/01jfsb\": \"Thriller\", \"/m/0glj9q\": \"Erotic...</td>\n",
       "    </tr>\n",
       "    <tr>\n",
       "      <th>4</th>\n",
       "      <td>261236</td>\n",
       "      <td>/m/01mrr1</td>\n",
       "      <td>A Woman in Flames</td>\n",
       "      <td>1983</td>\n",
       "      <td>NaN</td>\n",
       "      <td>106.0</td>\n",
       "      <td>{\"/m/04306rv\": \"German Language\"}</td>\n",
       "      <td>{\"/m/0345h\": \"Germany\"}</td>\n",
       "      <td>{\"/m/07s9rl0\": \"Drama\"}</td>\n",
       "    </tr>\n",
       "  </tbody>\n",
       "</table>\n",
       "</div>"
      ],
      "text/plain": [
       "     WikiID      FreeID                                              Title  \\\n",
       "0    975900   /m/03vyhn                                     Ghosts of Mars   \n",
       "1   3196793   /m/08yl5d  Getting Away with Murder: The JonBenét Ramsey ...   \n",
       "2  28463795  /m/0crgdbh                                        Brun bitter   \n",
       "3   9363483  /m/0285_cd                                   White Of The Eye   \n",
       "4    261236   /m/01mrr1                                  A Woman in Flames   \n",
       "\n",
       "      RelDate     Revenue  Runtime                           Languages  \\\n",
       "0  2001-08-24  14010832.0     98.0  {\"/m/02h40lc\": \"English Language\"}   \n",
       "1  2000-02-16         NaN     95.0  {\"/m/02h40lc\": \"English Language\"}   \n",
       "2        1988         NaN     83.0  {\"/m/05f_3\": \"Norwegian Language\"}   \n",
       "3        1987         NaN    110.0  {\"/m/02h40lc\": \"English Language\"}   \n",
       "4        1983         NaN    106.0   {\"/m/04306rv\": \"German Language\"}   \n",
       "\n",
       "                                   Countries  \\\n",
       "0  {\"/m/09c7w0\": \"United States of America\"}   \n",
       "1  {\"/m/09c7w0\": \"United States of America\"}   \n",
       "2                     {\"/m/05b4w\": \"Norway\"}   \n",
       "3             {\"/m/07ssc\": \"United Kingdom\"}   \n",
       "4                    {\"/m/0345h\": \"Germany\"}   \n",
       "\n",
       "                                              Genres  \n",
       "0  {\"/m/01jfsb\": \"Thriller\", \"/m/06n90\": \"Science...  \n",
       "1  {\"/m/02n4kr\": \"Mystery\", \"/m/03bxz7\": \"Biograp...  \n",
       "2  {\"/m/0lsxr\": \"Crime Fiction\", \"/m/07s9rl0\": \"D...  \n",
       "3  {\"/m/01jfsb\": \"Thriller\", \"/m/0glj9q\": \"Erotic...  \n",
       "4                            {\"/m/07s9rl0\": \"Drama\"}  "
      ]
     },
     "metadata": {},
     "output_type": "display_data"
    },
    {
     "data": {
      "text/html": [
       "<div>\n",
       "<style scoped>\n",
       "    .dataframe tbody tr th:only-of-type {\n",
       "        vertical-align: middle;\n",
       "    }\n",
       "\n",
       "    .dataframe tbody tr th {\n",
       "        vertical-align: top;\n",
       "    }\n",
       "\n",
       "    .dataframe thead th {\n",
       "        text-align: right;\n",
       "    }\n",
       "</style>\n",
       "<table border=\"1\" class=\"dataframe\">\n",
       "  <thead>\n",
       "    <tr style=\"text-align: right;\">\n",
       "      <th></th>\n",
       "      <th>WikiID</th>\n",
       "      <th>FreeID</th>\n",
       "      <th>MovieRelDate</th>\n",
       "      <th>CharName</th>\n",
       "      <th>DOB</th>\n",
       "      <th>Gender</th>\n",
       "      <th>Height</th>\n",
       "      <th>Ethnicity</th>\n",
       "      <th>Actor</th>\n",
       "      <th>Age</th>\n",
       "      <th>FreeMapID</th>\n",
       "      <th>FreeCharID</th>\n",
       "      <th>FreeActorID</th>\n",
       "    </tr>\n",
       "  </thead>\n",
       "  <tbody>\n",
       "    <tr>\n",
       "      <th>0</th>\n",
       "      <td>975900</td>\n",
       "      <td>/m/03vyhn</td>\n",
       "      <td>2001-08-24</td>\n",
       "      <td>Akooshay</td>\n",
       "      <td>1958-08-26</td>\n",
       "      <td>F</td>\n",
       "      <td>1.620</td>\n",
       "      <td>NaN</td>\n",
       "      <td>Wanda De Jesus</td>\n",
       "      <td>42.0</td>\n",
       "      <td>/m/0bgchxw</td>\n",
       "      <td>/m/0bgcj3x</td>\n",
       "      <td>/m/03wcfv7</td>\n",
       "    </tr>\n",
       "    <tr>\n",
       "      <th>1</th>\n",
       "      <td>975900</td>\n",
       "      <td>/m/03vyhn</td>\n",
       "      <td>2001-08-24</td>\n",
       "      <td>Lieutenant Melanie Ballard</td>\n",
       "      <td>1974-08-15</td>\n",
       "      <td>F</td>\n",
       "      <td>1.780</td>\n",
       "      <td>/m/044038p</td>\n",
       "      <td>Natasha Henstridge</td>\n",
       "      <td>27.0</td>\n",
       "      <td>/m/0jys3m</td>\n",
       "      <td>/m/0bgchn4</td>\n",
       "      <td>/m/0346l4</td>\n",
       "    </tr>\n",
       "    <tr>\n",
       "      <th>2</th>\n",
       "      <td>975900</td>\n",
       "      <td>/m/03vyhn</td>\n",
       "      <td>2001-08-24</td>\n",
       "      <td>Desolation Williams</td>\n",
       "      <td>1969-06-15</td>\n",
       "      <td>M</td>\n",
       "      <td>1.727</td>\n",
       "      <td>/m/0x67</td>\n",
       "      <td>Ice Cube</td>\n",
       "      <td>32.0</td>\n",
       "      <td>/m/0jys3g</td>\n",
       "      <td>/m/0bgchn_</td>\n",
       "      <td>/m/01vw26l</td>\n",
       "    </tr>\n",
       "    <tr>\n",
       "      <th>3</th>\n",
       "      <td>975900</td>\n",
       "      <td>/m/03vyhn</td>\n",
       "      <td>2001-08-24</td>\n",
       "      <td>Sgt Jericho Butler</td>\n",
       "      <td>1967-09-12</td>\n",
       "      <td>M</td>\n",
       "      <td>1.750</td>\n",
       "      <td>NaN</td>\n",
       "      <td>Jason Statham</td>\n",
       "      <td>33.0</td>\n",
       "      <td>/m/02vchl6</td>\n",
       "      <td>/m/0bgchnq</td>\n",
       "      <td>/m/034hyc</td>\n",
       "    </tr>\n",
       "    <tr>\n",
       "      <th>4</th>\n",
       "      <td>975900</td>\n",
       "      <td>/m/03vyhn</td>\n",
       "      <td>2001-08-24</td>\n",
       "      <td>Bashira Kincaid</td>\n",
       "      <td>1977-09-25</td>\n",
       "      <td>F</td>\n",
       "      <td>1.650</td>\n",
       "      <td>NaN</td>\n",
       "      <td>Clea DuVall</td>\n",
       "      <td>23.0</td>\n",
       "      <td>/m/02vbb3r</td>\n",
       "      <td>/m/0bgchp9</td>\n",
       "      <td>/m/01y9xg</td>\n",
       "    </tr>\n",
       "  </tbody>\n",
       "</table>\n",
       "</div>"
      ],
      "text/plain": [
       "   WikiID     FreeID MovieRelDate                    CharName         DOB  \\\n",
       "0  975900  /m/03vyhn   2001-08-24                    Akooshay  1958-08-26   \n",
       "1  975900  /m/03vyhn   2001-08-24  Lieutenant Melanie Ballard  1974-08-15   \n",
       "2  975900  /m/03vyhn   2001-08-24         Desolation Williams  1969-06-15   \n",
       "3  975900  /m/03vyhn   2001-08-24          Sgt Jericho Butler  1967-09-12   \n",
       "4  975900  /m/03vyhn   2001-08-24             Bashira Kincaid  1977-09-25   \n",
       "\n",
       "  Gender  Height   Ethnicity               Actor   Age   FreeMapID  \\\n",
       "0      F   1.620         NaN      Wanda De Jesus  42.0  /m/0bgchxw   \n",
       "1      F   1.780  /m/044038p  Natasha Henstridge  27.0   /m/0jys3m   \n",
       "2      M   1.727     /m/0x67            Ice Cube  32.0   /m/0jys3g   \n",
       "3      M   1.750         NaN       Jason Statham  33.0  /m/02vchl6   \n",
       "4      F   1.650         NaN         Clea DuVall  23.0  /m/02vbb3r   \n",
       "\n",
       "   FreeCharID FreeActorID  \n",
       "0  /m/0bgcj3x  /m/03wcfv7  \n",
       "1  /m/0bgchn4   /m/0346l4  \n",
       "2  /m/0bgchn_  /m/01vw26l  \n",
       "3  /m/0bgchnq   /m/034hyc  \n",
       "4  /m/0bgchp9   /m/01y9xg  "
      ]
     },
     "metadata": {},
     "output_type": "display_data"
    }
   ],
   "source": [
    "display(movies.head())\n",
    "display(characters.head())"
   ]
  },
  {
   "cell_type": "code",
   "execution_count": 25,
   "id": "4f28ee03-f80d-43fe-b463-f72fa319135c",
   "metadata": {},
   "outputs": [
    {
     "name": "stdout",
     "output_type": "stream",
     "text": [
      "Number of rows in the movie.metadata dataset : 81741\n",
      "Number of rows in the movie.metadata dataset : 228141\n"
     ]
    }
   ],
   "source": [
    "n_mov = len(movies)\n",
    "n_char = len(characters)\n",
    "print('Number of rows in the movie.metadata dataset :', n_mov)\n",
    "print('Number of rows in the movie.metadata dataset :', n_char)"
   ]
  },
  {
   "cell_type": "markdown",
   "id": "efedd222-e2a7-4fd9-b775-b08628bf7f64",
   "metadata": {},
   "source": [
    "### Check for missing entries :\n",
    "In which columns are they present, and for those columns : what is the percentage how missing entries."
   ]
  },
  {
   "cell_type": "code",
   "execution_count": 4,
   "id": "8a14cca0-d42b-4fce-a1cc-2a7021c74fe8",
   "metadata": {},
   "outputs": [
    {
     "data": {
      "text/plain": [
       "WikiID       False\n",
       "FreeID       False\n",
       "Title        False\n",
       "RelDate       True\n",
       "Revenue       True\n",
       "Runtime       True\n",
       "Languages    False\n",
       "Countries    False\n",
       "Genres       False\n",
       "dtype: bool"
      ]
     },
     "execution_count": 4,
     "metadata": {},
     "output_type": "execute_result"
    }
   ],
   "source": [
    "movies.isna().any()"
   ]
  },
  {
   "cell_type": "code",
   "execution_count": 31,
   "id": "291e2f9e-21fa-43e9-877f-a42d6b7ecd78",
   "metadata": {},
   "outputs": [
    {
     "name": "stdout",
     "output_type": "stream",
     "text": [
      "Percentage of missing entries in the movie dataset:\n",
      " RelDate     8.443743\n",
      "Revenue    89.722416\n",
      "Runtime    25.018045\n",
      "dtype: float64\n"
     ]
    }
   ],
   "source": [
    "print('Percentage of missing entries in the movie dataset:\\n', 100*movies[['RelDate', 'Revenue', 'Runtime']].isna().sum() / n_mov)"
   ]
  },
  {
   "cell_type": "markdown",
   "id": "ff72a03d-5a0a-43f4-92a0-30c4c0b4abef",
   "metadata": {},
   "source": [
    "There are 90% of revenues that are non specified. We probably won't be able to use this feature.  \n",
    "8% of the release dates and 25% of the runtimes are missing, we can fill them if we find the correct ones."
   ]
  },
  {
   "cell_type": "code",
   "execution_count": 5,
   "id": "0448a174-995e-478e-b566-ca4d10f92cae",
   "metadata": {},
   "outputs": [
    {
     "data": {
      "text/plain": [
       "WikiID          False\n",
       "FreeID           True\n",
       "MovieRelDate     True\n",
       "CharName         True\n",
       "DOB              True\n",
       "Gender           True\n",
       "Height           True\n",
       "Ethnicity        True\n",
       "Actor            True\n",
       "Age              True\n",
       "FreeMapID        True\n",
       "FreeCharID       True\n",
       "FreeActorID      True\n",
       "dtype: bool"
      ]
     },
     "execution_count": 5,
     "metadata": {},
     "output_type": "execute_result"
    }
   ],
   "source": [
    "characters.isna().any()"
   ]
  },
  {
   "cell_type": "code",
   "execution_count": 35,
   "id": "c37c4263-034c-4694-9afe-a926dfa03bba",
   "metadata": {},
   "outputs": [
    {
     "name": "stdout",
     "output_type": "stream",
     "text": [
      "Percentage of missing entries in the character dataset:\n",
      " FreeID           0.000438\n",
      "MovieRelDate     2.279731\n",
      "CharName        57.650313\n",
      "DOB             23.462683\n",
      "Gender          10.277854\n",
      "Height          65.654573\n",
      "Ethnicity       76.448775\n",
      "Actor            0.281405\n",
      "Age             35.129153\n",
      "FreeMapID        0.000438\n",
      "FreeCharID      57.649874\n",
      "FreeActorID      0.183658\n",
      "dtype: float64\n"
     ]
    }
   ],
   "source": [
    "print('Percentage of missing entries in the character dataset:\\n', 100*characters[['FreeID', 'MovieRelDate', 'CharName',\n",
    "                                                                                   'DOB', 'Gender', 'Height', 'Ethnicity',\n",
    "                                                                                   'Actor', 'Age', 'FreeMapID', 'FreeCharID',\n",
    "                                                                                   'FreeActorID']].isna().sum() / n_char)"
   ]
  },
  {
   "cell_type": "markdown",
   "id": "110baa41-98aa-4d9c-9b25-5299c374b8f4",
   "metadata": {},
   "source": [
    "65% of the actors height information is missing, and 76% of the actors ethnicities are missing.  \n",
    "For the characters, 57% of the names are missing."
   ]
  }
 ],
 "metadata": {
  "kernelspec": {
   "display_name": "Python",
   "language": "python",
   "name": "python3"
  },
  "language_info": {
   "codemirror_mode": {
    "name": "ipython",
    "version": 3
   },
   "file_extension": ".py",
   "mimetype": "text/x-python",
   "name": "python",
   "nbconvert_exporter": "python",
   "pygments_lexer": "ipython3",
   "version": "3.8.10"
  }
 },
 "nbformat": 4,
 "nbformat_minor": 5
}
