{
 "cells": [
  {
   "cell_type": "markdown",
   "id": "dc13842b-ccc1-499b-8dea-ab1151e00d8d",
   "metadata": {},
   "source": [
    "## Importing librairies"
   ]
  },
  {
   "cell_type": "code",
   "execution_count": 124,
   "id": "3cfbb3f4-a56d-4d3d-8c51-2d357980ff1e",
   "metadata": {},
   "outputs": [],
   "source": [
    "import pickle\n",
    "import os \n",
    "import json\n",
    "import string\n",
    "import requests\n",
    "from IPython.display import clear_output\n",
    "\n",
    "# EDA\n",
    "import numpy as np\n",
    "import pandas as pd\n",
    "import matplotlib.pyplot as plt\n",
    "from datetime import datetime\n",
    "from wikidata.client import Client\n",
    "from tqdm import tqdm\n",
    "from collections import Counter\n",
    "\n",
    "# Preprocessing\n",
    "from langdetect import detect\n",
    "from nltk.tokenize import sent_tokenize\n",
    "from nltk.tokenize import word_tokenize\n",
    "from nltk.tokenize import RegexpTokenizer\n",
    "from nltk.stem.wordnet import WordNetLemmatizer\n",
    "from nltk import pos_tag\n",
    "from nltk.corpus import wordnet\n",
    "from names_dataset import NameDataset\n",
    "from nltk.corpus import stopwords\n",
    "from itertools import chain \n",
    "\n",
    "\n",
    "# LDA\n",
    "from gensim.models import Phrases\n",
    "from gensim import corpora\n",
    "from gensim import models\n",
    "\n",
    "# BERTopic\n",
    "from bertopic import BERTopic"
   ]
  },
  {
   "cell_type": "code",
   "execution_count": 110,
   "id": "69d7fc5b-9e8a-4a7a-b221-d992a5387e9c",
   "metadata": {},
   "outputs": [],
   "source": [
    "from tqdm import tqdm_notebook\n",
    "from tqdm import tqdm\n",
    "tqdm.pandas()\n"
   ]
  },
  {
   "cell_type": "code",
   "execution_count": 2,
   "id": "e7cfcc89-a6c7-4e93-a0c0-e3a541e97fa0",
   "metadata": {},
   "outputs": [],
   "source": [
    "!pip install langdetect\n",
    "!pip install names-dataset\n",
    "!pip install bertopic\n",
    "clear_output()"
   ]
  },
  {
   "cell_type": "code",
   "execution_count": 3,
   "id": "eb37f5bd-b35d-470b-8a35-e902780d55ca",
   "metadata": {},
   "outputs": [],
   "source": [
    "from nltk import download\n",
    "download('averaged_perceptron_tagger')\n",
    "download('wordnet')\n",
    "download('omw-1.4')\n",
    "download('punkt')\n",
    "download('stopwords')\n",
    "clear_output()"
   ]
  },
  {
   "cell_type": "markdown",
   "id": "b7abb0f2-ae16-47c4-ab78-49e6e553f2fa",
   "metadata": {
    "tags": []
   },
   "source": [
    "## References"
   ]
  },
  {
   "cell_type": "markdown",
   "id": "3b818408-e96c-4fa8-a186-93bc6bc9d4f5",
   "metadata": {
    "jp-MarkdownHeadingCollapsed": true,
    "tags": []
   },
   "source": [
    "[[1]](http://www.cs.cmu.edu/~ark/personas/) CMU Movie Summary Corpus webpage  \n",
    "[[2]](http://www.cs.cmu.edu/~dbamman/pubs/pdf/bamman+oconnor+smith.acl13.pdf) _Learning Latent Personas of Film Characters_, David Bamman, Brendan O'Connor and Noah A. Smith, ACL 2013, Sofia, Bulgaria, August 2013 \n",
    "\n",
    " \n",
    "\n",
    "# Table of contents\n",
    "[1. Metadata](#1)\\\n",
    "&nbsp;&nbsp;&nbsp;[1.1 The data](#1.1)\\\n",
    "&nbsp;&nbsp;&nbsp;[1.2 Cleaning the dictionaries](#1.2)\\\n",
    "&nbsp;&nbsp;&nbsp;[1.3 Duplicate values](#1.3)\\\n",
    "&nbsp;&nbsp;&nbsp;[1.4 Missing values](#1.4)\\\n",
    "&nbsp;&nbsp;&nbsp;&nbsp;&nbsp;&nbsp;[1.4.1 Recovering Ethnicities](#1.4.1)\\\n",
    "&nbsp;&nbsp;&nbsp;&nbsp;&nbsp;&nbsp;[1.4.2 Recovering missing Actor names ](#1.4.2)\\\n",
    "[2. Plot Summaries and Metascores](#2)\\\n",
    "&nbsp;&nbsp;&nbsp;[2.1 Plot summaries integration to Movies dataset](#2.1)\\\n",
    "&nbsp;&nbsp;&nbsp;[2.2 Missing plot summaries check](#2.2)\\\n",
    "&nbsp;&nbsp;&nbsp;[2.3 Preprocessing](#2.3)\\\n",
    "&nbsp;&nbsp;&nbsp;[2.4 Metascores](#2.4)"
   ]
  },
  {
   "cell_type": "markdown",
   "id": "e85d2834-b45d-4acd-b18d-a7ea3162d664",
   "metadata": {
    "tags": []
   },
   "source": [
    "# 1. Metadata <a id='1'></a>"
   ]
  },
  {
   "cell_type": "markdown",
   "id": "1b9bd975-e18e-4c36-a715-85fc6487dd07",
   "metadata": {
    "jp-MarkdownHeadingCollapsed": true,
    "tags": []
   },
   "source": [
    "## 1.1 The Data  <a id='1.1'></a>"
   ]
  },
  {
   "cell_type": "markdown",
   "id": "e9a61945-1107-422f-bb1c-f7c6b5c0e1ca",
   "metadata": {
    "jp-MarkdownHeadingCollapsed": true,
    "tags": []
   },
   "source": [
    "`movie.metadata.tsv.gz` [3.4 M]\n",
    "\n",
    "\n",
    "Metadata for 81,741 movies, extracted from the Noverber 4, 2012 dump of Freebase. Tab-separated. The columns are:\n",
    "\n",
    "1. Wikipedia movie ID\n",
    "2. Freebase movie ID\n",
    "3. Movie name\n",
    "4. Movie release date\n",
    "5. Movie box office revenue\n",
    "6. Movie runtime\n",
    "7. Movie languages (Freebase ID:name tuples)\n",
    "8. Movie countries (Freebase ID:name tuples)\n",
    "9. Movie genres (Freebase ID:name tuples)\n",
    "\n",
    "\n",
    "`character.metadata.tsv.gz` [14 M]\n",
    "\n",
    "Metadata for 450,669 characters aligned to the movies above, extracted from the November 4, 2012 dump of Freebase. Tab-separated. The columns are:\n",
    "\n",
    "1. Wikipedia movie ID\n",
    "2. Freebase movie ID\n",
    "3. Movie release date\n",
    "4. Character name\n",
    "5. Actor date of birth\n",
    "6. Actor gender\n",
    "7. Actor height (in meters)\n",
    "8. Actor ethnicity (Freebase ID)\n",
    "9. Actor name\n",
    "10. Actor age at movie release\n",
    "11. Freebase character/actor map ID\n",
    "12. Freebase character ID\n",
    "13. Freebase actor ID"
   ]
  },
  {
   "cell_type": "code",
   "execution_count": 6,
   "id": "79c7a779-9aaa-4e27-97b5-9910b2eb808b",
   "metadata": {
    "id": "Lh7MrLDZiVK2"
   },
   "outputs": [
    {
     "data": {
      "text/html": [
       "<div>\n",
       "<style scoped>\n",
       "    .dataframe tbody tr th:only-of-type {\n",
       "        vertical-align: middle;\n",
       "    }\n",
       "\n",
       "    .dataframe tbody tr th {\n",
       "        vertical-align: top;\n",
       "    }\n",
       "\n",
       "    .dataframe thead th {\n",
       "        text-align: right;\n",
       "    }\n",
       "</style>\n",
       "<table border=\"1\" class=\"dataframe\">\n",
       "  <thead>\n",
       "    <tr style=\"text-align: right;\">\n",
       "      <th></th>\n",
       "      <th>WikiMovieID</th>\n",
       "      <th>FreeMovieID</th>\n",
       "      <th>Title</th>\n",
       "      <th>ReleaseDate</th>\n",
       "      <th>Revenue</th>\n",
       "      <th>Runtime</th>\n",
       "      <th>Languages</th>\n",
       "      <th>Countries</th>\n",
       "      <th>Genres</th>\n",
       "    </tr>\n",
       "  </thead>\n",
       "  <tbody>\n",
       "    <tr>\n",
       "      <th>0</th>\n",
       "      <td>975900</td>\n",
       "      <td>/m/03vyhn</td>\n",
       "      <td>Ghosts of Mars</td>\n",
       "      <td>2001-08-24</td>\n",
       "      <td>14010832.0</td>\n",
       "      <td>98.0</td>\n",
       "      <td>{\"/m/02h40lc\": \"English Language\"}</td>\n",
       "      <td>{\"/m/09c7w0\": \"United States of America\"}</td>\n",
       "      <td>{\"/m/01jfsb\": \"Thriller\", \"/m/06n90\": \"Science...</td>\n",
       "    </tr>\n",
       "    <tr>\n",
       "      <th>1</th>\n",
       "      <td>3196793</td>\n",
       "      <td>/m/08yl5d</td>\n",
       "      <td>Getting Away with Murder: The JonBenét Ramsey ...</td>\n",
       "      <td>2000-02-16</td>\n",
       "      <td>NaN</td>\n",
       "      <td>95.0</td>\n",
       "      <td>{\"/m/02h40lc\": \"English Language\"}</td>\n",
       "      <td>{\"/m/09c7w0\": \"United States of America\"}</td>\n",
       "      <td>{\"/m/02n4kr\": \"Mystery\", \"/m/03bxz7\": \"Biograp...</td>\n",
       "    </tr>\n",
       "    <tr>\n",
       "      <th>2</th>\n",
       "      <td>28463795</td>\n",
       "      <td>/m/0crgdbh</td>\n",
       "      <td>Brun bitter</td>\n",
       "      <td>1988</td>\n",
       "      <td>NaN</td>\n",
       "      <td>83.0</td>\n",
       "      <td>{\"/m/05f_3\": \"Norwegian Language\"}</td>\n",
       "      <td>{\"/m/05b4w\": \"Norway\"}</td>\n",
       "      <td>{\"/m/0lsxr\": \"Crime Fiction\", \"/m/07s9rl0\": \"D...</td>\n",
       "    </tr>\n",
       "    <tr>\n",
       "      <th>3</th>\n",
       "      <td>9363483</td>\n",
       "      <td>/m/0285_cd</td>\n",
       "      <td>White Of The Eye</td>\n",
       "      <td>1987</td>\n",
       "      <td>NaN</td>\n",
       "      <td>110.0</td>\n",
       "      <td>{\"/m/02h40lc\": \"English Language\"}</td>\n",
       "      <td>{\"/m/07ssc\": \"United Kingdom\"}</td>\n",
       "      <td>{\"/m/01jfsb\": \"Thriller\", \"/m/0glj9q\": \"Erotic...</td>\n",
       "    </tr>\n",
       "    <tr>\n",
       "      <th>4</th>\n",
       "      <td>261236</td>\n",
       "      <td>/m/01mrr1</td>\n",
       "      <td>A Woman in Flames</td>\n",
       "      <td>1983</td>\n",
       "      <td>NaN</td>\n",
       "      <td>106.0</td>\n",
       "      <td>{\"/m/04306rv\": \"German Language\"}</td>\n",
       "      <td>{\"/m/0345h\": \"Germany\"}</td>\n",
       "      <td>{\"/m/07s9rl0\": \"Drama\"}</td>\n",
       "    </tr>\n",
       "  </tbody>\n",
       "</table>\n",
       "</div>"
      ],
      "text/plain": [
       "   WikiMovieID FreeMovieID                                              Title  \\\n",
       "0       975900   /m/03vyhn                                     Ghosts of Mars   \n",
       "1      3196793   /m/08yl5d  Getting Away with Murder: The JonBenét Ramsey ...   \n",
       "2     28463795  /m/0crgdbh                                        Brun bitter   \n",
       "3      9363483  /m/0285_cd                                   White Of The Eye   \n",
       "4       261236   /m/01mrr1                                  A Woman in Flames   \n",
       "\n",
       "  ReleaseDate     Revenue  Runtime                           Languages  \\\n",
       "0  2001-08-24  14010832.0     98.0  {\"/m/02h40lc\": \"English Language\"}   \n",
       "1  2000-02-16         NaN     95.0  {\"/m/02h40lc\": \"English Language\"}   \n",
       "2        1988         NaN     83.0  {\"/m/05f_3\": \"Norwegian Language\"}   \n",
       "3        1987         NaN    110.0  {\"/m/02h40lc\": \"English Language\"}   \n",
       "4        1983         NaN    106.0   {\"/m/04306rv\": \"German Language\"}   \n",
       "\n",
       "                                   Countries  \\\n",
       "0  {\"/m/09c7w0\": \"United States of America\"}   \n",
       "1  {\"/m/09c7w0\": \"United States of America\"}   \n",
       "2                     {\"/m/05b4w\": \"Norway\"}   \n",
       "3             {\"/m/07ssc\": \"United Kingdom\"}   \n",
       "4                    {\"/m/0345h\": \"Germany\"}   \n",
       "\n",
       "                                              Genres  \n",
       "0  {\"/m/01jfsb\": \"Thriller\", \"/m/06n90\": \"Science...  \n",
       "1  {\"/m/02n4kr\": \"Mystery\", \"/m/03bxz7\": \"Biograp...  \n",
       "2  {\"/m/0lsxr\": \"Crime Fiction\", \"/m/07s9rl0\": \"D...  \n",
       "3  {\"/m/01jfsb\": \"Thriller\", \"/m/0glj9q\": \"Erotic...  \n",
       "4                            {\"/m/07s9rl0\": \"Drama\"}  "
      ]
     },
     "metadata": {},
     "output_type": "display_data"
    },
    {
     "data": {
      "text/html": [
       "<div>\n",
       "<style scoped>\n",
       "    .dataframe tbody tr th:only-of-type {\n",
       "        vertical-align: middle;\n",
       "    }\n",
       "\n",
       "    .dataframe tbody tr th {\n",
       "        vertical-align: top;\n",
       "    }\n",
       "\n",
       "    .dataframe thead th {\n",
       "        text-align: right;\n",
       "    }\n",
       "</style>\n",
       "<table border=\"1\" class=\"dataframe\">\n",
       "  <thead>\n",
       "    <tr style=\"text-align: right;\">\n",
       "      <th></th>\n",
       "      <th>WikiMovieID</th>\n",
       "      <th>FreeMovieID</th>\n",
       "      <th>ReleaseDate</th>\n",
       "      <th>CharName</th>\n",
       "      <th>ActorDOB</th>\n",
       "      <th>ActorGender</th>\n",
       "      <th>ActorHeight</th>\n",
       "      <th>FreeEthnicityID</th>\n",
       "      <th>ActorName</th>\n",
       "      <th>ActorAgeRelease</th>\n",
       "      <th>FreeMapID</th>\n",
       "      <th>FreeCharID</th>\n",
       "      <th>FreeActorID</th>\n",
       "    </tr>\n",
       "  </thead>\n",
       "  <tbody>\n",
       "    <tr>\n",
       "      <th>0</th>\n",
       "      <td>975900</td>\n",
       "      <td>/m/03vyhn</td>\n",
       "      <td>2001-08-24</td>\n",
       "      <td>Akooshay</td>\n",
       "      <td>1958-08-26</td>\n",
       "      <td>F</td>\n",
       "      <td>1.620</td>\n",
       "      <td>NaN</td>\n",
       "      <td>Wanda De Jesus</td>\n",
       "      <td>42.0</td>\n",
       "      <td>/m/0bgchxw</td>\n",
       "      <td>/m/0bgcj3x</td>\n",
       "      <td>/m/03wcfv7</td>\n",
       "    </tr>\n",
       "    <tr>\n",
       "      <th>1</th>\n",
       "      <td>975900</td>\n",
       "      <td>/m/03vyhn</td>\n",
       "      <td>2001-08-24</td>\n",
       "      <td>Lieutenant Melanie Ballard</td>\n",
       "      <td>1974-08-15</td>\n",
       "      <td>F</td>\n",
       "      <td>1.780</td>\n",
       "      <td>/m/044038p</td>\n",
       "      <td>Natasha Henstridge</td>\n",
       "      <td>27.0</td>\n",
       "      <td>/m/0jys3m</td>\n",
       "      <td>/m/0bgchn4</td>\n",
       "      <td>/m/0346l4</td>\n",
       "    </tr>\n",
       "    <tr>\n",
       "      <th>2</th>\n",
       "      <td>975900</td>\n",
       "      <td>/m/03vyhn</td>\n",
       "      <td>2001-08-24</td>\n",
       "      <td>Desolation Williams</td>\n",
       "      <td>1969-06-15</td>\n",
       "      <td>M</td>\n",
       "      <td>1.727</td>\n",
       "      <td>/m/0x67</td>\n",
       "      <td>Ice Cube</td>\n",
       "      <td>32.0</td>\n",
       "      <td>/m/0jys3g</td>\n",
       "      <td>/m/0bgchn_</td>\n",
       "      <td>/m/01vw26l</td>\n",
       "    </tr>\n",
       "    <tr>\n",
       "      <th>3</th>\n",
       "      <td>975900</td>\n",
       "      <td>/m/03vyhn</td>\n",
       "      <td>2001-08-24</td>\n",
       "      <td>Sgt Jericho Butler</td>\n",
       "      <td>1967-09-12</td>\n",
       "      <td>M</td>\n",
       "      <td>1.750</td>\n",
       "      <td>NaN</td>\n",
       "      <td>Jason Statham</td>\n",
       "      <td>33.0</td>\n",
       "      <td>/m/02vchl6</td>\n",
       "      <td>/m/0bgchnq</td>\n",
       "      <td>/m/034hyc</td>\n",
       "    </tr>\n",
       "    <tr>\n",
       "      <th>4</th>\n",
       "      <td>975900</td>\n",
       "      <td>/m/03vyhn</td>\n",
       "      <td>2001-08-24</td>\n",
       "      <td>Bashira Kincaid</td>\n",
       "      <td>1977-09-25</td>\n",
       "      <td>F</td>\n",
       "      <td>1.650</td>\n",
       "      <td>NaN</td>\n",
       "      <td>Clea DuVall</td>\n",
       "      <td>23.0</td>\n",
       "      <td>/m/02vbb3r</td>\n",
       "      <td>/m/0bgchp9</td>\n",
       "      <td>/m/01y9xg</td>\n",
       "    </tr>\n",
       "  </tbody>\n",
       "</table>\n",
       "</div>"
      ],
      "text/plain": [
       "   WikiMovieID FreeMovieID ReleaseDate                    CharName  \\\n",
       "0       975900   /m/03vyhn  2001-08-24                    Akooshay   \n",
       "1       975900   /m/03vyhn  2001-08-24  Lieutenant Melanie Ballard   \n",
       "2       975900   /m/03vyhn  2001-08-24         Desolation Williams   \n",
       "3       975900   /m/03vyhn  2001-08-24          Sgt Jericho Butler   \n",
       "4       975900   /m/03vyhn  2001-08-24             Bashira Kincaid   \n",
       "\n",
       "     ActorDOB ActorGender  ActorHeight FreeEthnicityID           ActorName  \\\n",
       "0  1958-08-26           F        1.620             NaN      Wanda De Jesus   \n",
       "1  1974-08-15           F        1.780      /m/044038p  Natasha Henstridge   \n",
       "2  1969-06-15           M        1.727         /m/0x67            Ice Cube   \n",
       "3  1967-09-12           M        1.750             NaN       Jason Statham   \n",
       "4  1977-09-25           F        1.650             NaN         Clea DuVall   \n",
       "\n",
       "   ActorAgeRelease   FreeMapID  FreeCharID FreeActorID  \n",
       "0             42.0  /m/0bgchxw  /m/0bgcj3x  /m/03wcfv7  \n",
       "1             27.0   /m/0jys3m  /m/0bgchn4   /m/0346l4  \n",
       "2             32.0   /m/0jys3g  /m/0bgchn_  /m/01vw26l  \n",
       "3             33.0  /m/02vchl6  /m/0bgchnq   /m/034hyc  \n",
       "4             23.0  /m/02vbb3r  /m/0bgchp9   /m/01y9xg  "
      ]
     },
     "metadata": {},
     "output_type": "display_data"
    }
   ],
   "source": [
    "movies_path = \"data/movie.metadata.tsv\"\n",
    "characters_path = \"data/character.metadata.tsv\"\n",
    "\n",
    "# naming the columns with adequate names\n",
    "movies_column_names = [\"WikiMovieID\", \"FreeMovieID\", \"Title\", \"ReleaseDate\", \"Revenue\", \"Runtime\", \"Languages\", \"Countries\", \"Genres\"]\n",
    "characters_column_names = [\"WikiMovieID\", \"FreeMovieID\", \"ReleaseDate\", \"CharName\", \"ActorDOB\", \"ActorGender\", \"ActorHeight\", \"FreeEthnicityID\",\\\n",
    "                           \"ActorName\", \"ActorAgeRelease\", \"FreeMapID\", \"FreeCharID\", \"FreeActorID\"]\n",
    "\n",
    "movies = pd.read_csv(movies_path, sep='\\t', header=None, names=movies_column_names)\n",
    "characters = pd.read_csv(characters_path, sep='\\t', header=None, names=characters_column_names)\n",
    "\n",
    "display(movies.head())\n",
    "display(characters.head())"
   ]
  },
  {
   "cell_type": "markdown",
   "id": "ff02e287-fbfa-4fdf-87de-f870fbb5d79a",
   "metadata": {
    "id": "X6iUOgrb_zJk"
   },
   "source": [
    "#### Initial remarks :\n",
    "- `ReleaseDate`doesn't have a standard format.\n",
    "- `Languages`, `Countries`and `Genres`columns have their values in a dictionary of form : `{Freebase id : Actual name}`\n",
    "\n",
    "#### Dataset length\n",
    "We verify that the given dataset entries are indeed as much as we expected : "
   ]
  },
  {
   "cell_type": "code",
   "execution_count": 7,
   "id": "84428475-5926-4e68-9ea8-1de970b4b4a1",
   "metadata": {},
   "outputs": [
    {
     "name": "stdout",
     "output_type": "stream",
     "text": [
      "Number of rows in the movie.metadata dataset : 81741\n",
      "Number of rows in the character.metadata dataset : 450669\n"
     ]
    }
   ],
   "source": [
    "n_mov = len(movies)\n",
    "n_char = len(characters)\n",
    "print('Number of rows in the movie.metadata dataset :', n_mov)\n",
    "print('Number of rows in the character.metadata dataset :', n_char)"
   ]
  },
  {
   "cell_type": "markdown",
   "id": "fd09a5d9-de63-4e2f-a80e-e3f3dc92d490",
   "metadata": {
    "id": "rjVmf5vLn1Ag",
    "jp-MarkdownHeadingCollapsed": true,
    "tags": []
   },
   "source": [
    "## 1.2 Cleaning Dictionaries  <a id='1.2'></a>"
   ]
  },
  {
   "cell_type": "markdown",
   "id": "f33be392-9e32-4194-8567-f874bd950e3d",
   "metadata": {
    "id": "rjVmf5vLn1Ag",
    "jp-MarkdownHeadingCollapsed": true,
    "tags": []
   },
   "source": [
    "Columns `Languages`, `Countries`, `Genres` are dictionaries containing both the Freebase ID and the actual name, for each entry. We will keep only the names for the sake of clarity."
   ]
  },
  {
   "cell_type": "code",
   "execution_count": 8,
   "id": "4955360a-0e6b-4e63-8a1f-4ef8e3888c38",
   "metadata": {
    "id": "jgCSb-o_lbq_"
   },
   "outputs": [
    {
     "data": {
      "text/html": [
       "<div>\n",
       "<style scoped>\n",
       "    .dataframe tbody tr th:only-of-type {\n",
       "        vertical-align: middle;\n",
       "    }\n",
       "\n",
       "    .dataframe tbody tr th {\n",
       "        vertical-align: top;\n",
       "    }\n",
       "\n",
       "    .dataframe thead th {\n",
       "        text-align: right;\n",
       "    }\n",
       "</style>\n",
       "<table border=\"1\" class=\"dataframe\">\n",
       "  <thead>\n",
       "    <tr style=\"text-align: right;\">\n",
       "      <th></th>\n",
       "      <th>Languages</th>\n",
       "      <th>Countries</th>\n",
       "      <th>Genres</th>\n",
       "    </tr>\n",
       "  </thead>\n",
       "  <tbody>\n",
       "    <tr>\n",
       "      <th>0</th>\n",
       "      <td>[English Language]</td>\n",
       "      <td>[United States of America]</td>\n",
       "      <td>[Thriller, Science Fiction, Horror, Adventure,...</td>\n",
       "    </tr>\n",
       "    <tr>\n",
       "      <th>1</th>\n",
       "      <td>[English Language]</td>\n",
       "      <td>[United States of America]</td>\n",
       "      <td>[Mystery, Biographical film, Drama, Crime Drama]</td>\n",
       "    </tr>\n",
       "    <tr>\n",
       "      <th>2</th>\n",
       "      <td>[Norwegian Language]</td>\n",
       "      <td>[Norway]</td>\n",
       "      <td>[Crime Fiction, Drama]</td>\n",
       "    </tr>\n",
       "    <tr>\n",
       "      <th>3</th>\n",
       "      <td>[English Language]</td>\n",
       "      <td>[United Kingdom]</td>\n",
       "      <td>[Thriller, Erotic thriller, Psychological thri...</td>\n",
       "    </tr>\n",
       "    <tr>\n",
       "      <th>4</th>\n",
       "      <td>[German Language]</td>\n",
       "      <td>[Germany]</td>\n",
       "      <td>[Drama]</td>\n",
       "    </tr>\n",
       "  </tbody>\n",
       "</table>\n",
       "</div>"
      ],
      "text/plain": [
       "              Languages                   Countries  \\\n",
       "0    [English Language]  [United States of America]   \n",
       "1    [English Language]  [United States of America]   \n",
       "2  [Norwegian Language]                    [Norway]   \n",
       "3    [English Language]            [United Kingdom]   \n",
       "4     [German Language]                   [Germany]   \n",
       "\n",
       "                                              Genres  \n",
       "0  [Thriller, Science Fiction, Horror, Adventure,...  \n",
       "1   [Mystery, Biographical film, Drama, Crime Drama]  \n",
       "2                             [Crime Fiction, Drama]  \n",
       "3  [Thriller, Erotic thriller, Psychological thri...  \n",
       "4                                            [Drama]  "
      ]
     },
     "metadata": {},
     "output_type": "display_data"
    }
   ],
   "source": [
    "def extract_values(column):\n",
    "    values = []\n",
    "    column=json.loads(column)\n",
    "    for key in column:\n",
    "        values.append(column[key])\n",
    "    return values\n",
    "\n",
    "movies.Languages = movies.Languages.apply(extract_values)\n",
    "movies.Countries = movies.Countries.apply(extract_values)\n",
    "movies.Genres = movies.Genres.apply(extract_values)\n",
    "\n",
    "display(movies[[\"Languages\", \"Countries\", \"Genres\"]].head())"
   ]
  },
  {
   "cell_type": "markdown",
   "id": "34305bd9-2748-4868-af11-9b3125a2686c",
   "metadata": {
    "id": "WVAODRGY4OmE",
    "jp-MarkdownHeadingCollapsed": true,
    "tags": []
   },
   "source": [
    "## 1.3 Duplicate values  <a id='1.3'></a>"
   ]
  },
  {
   "cell_type": "markdown",
   "id": "223f3122-73d5-4c14-a524-a898a64fa1f1",
   "metadata": {
    "id": "WVAODRGY4OmE",
    "jp-MarkdownHeadingCollapsed": true,
    "tags": []
   },
   "source": [
    "Starting with the characters dataset we only care if a whole row is duplicated as there is no specific feature that we prohibit from happenning twice."
   ]
  },
  {
   "cell_type": "code",
   "execution_count": 9,
   "id": "18555917-3a93-4f43-9595-e6afa6555193",
   "metadata": {},
   "outputs": [
    {
     "name": "stdout",
     "output_type": "stream",
     "text": [
      "Duplicated rows in characters : 0\n"
     ]
    }
   ],
   "source": [
    "print(\"Duplicated rows in characters : {}\".format(characters.duplicated().sum()))"
   ]
  },
  {
   "cell_type": "markdown",
   "id": "f5e32fa1-6a54-4776-8e5f-bafd28bf90aa",
   "metadata": {},
   "source": [
    "As for the movies dataset we have to be more careful as we don't want the same movie appearing twice under different release date or freebase id for example."
   ]
  },
  {
   "cell_type": "code",
   "execution_count": 10,
   "id": "6827c8ce-a9cc-49af-866f-c2937e2b5a26",
   "metadata": {
    "colab": {
     "base_uri": "https://localhost:8080/"
    },
    "id": "moSpedsF4QP8",
    "outputId": "68874924-0ddd-4757-e01a-43cfe78e191d"
   },
   "outputs": [
    {
     "name": "stdout",
     "output_type": "stream",
     "text": [
      "Duplicate rows in :\n",
      "\tWikiMovieID : 0 \n",
      "\tFreeMovieID : 0 \n",
      "\tTitle : 6263 \n",
      "\tReleaseDate : 61351 \n",
      "\tRevenue : 74378 \n",
      "\tRuntime : 81143 \n",
      "\tLanguages : 79924 \n",
      "\tCountries : 79617 \n",
      "\tGenres : 57924 \n"
     ]
    }
   ],
   "source": [
    "print(\"Duplicate rows in :\")\n",
    "for column in movies.columns:\n",
    "    duplicated_rows = movies[column].duplicated().sum()\n",
    "    print(\"\\t{} : {} \".format(column, duplicated_rows))"
   ]
  },
  {
   "cell_type": "markdown",
   "id": "71ea4abe-ef1d-4ff8-a8f6-2e0d41ca4b45",
   "metadata": {
    "id": "z-OCRjOv6OLy"
   },
   "source": [
    "The fact that `Title`has a duplicated rows is a bit concerning. We see however than `WikiMovieID` and movies `FreeMovieID` have only unique entries. This can indicate us that movies can have the same title while being actually different movies. We can also check the runtimes of movies with the same name : it is very unlikely that 2 different movies with the same title would have the exact same runtime too. This reasoning can also be done for the release date."
   ]
  },
  {
   "cell_type": "markdown",
   "id": "b6312b97-a038-4674-97dd-edeede4da329",
   "metadata": {},
   "source": [
    "---\n",
    "TODO : a code cell which outputs the movies that have the same name AND that have the same runtime ?   \n",
    "TODO : a code cell which outputs the movies that have the same name AND that have the same release date ?  \n",
    "and then check manually if there is an error in the runtime or the release date, using the freebase id  \n",
    "and then maybe delete the following example cells? as will have been already checked"
   ]
  },
  {
   "cell_type": "code",
   "execution_count": 11,
   "id": "32044cc9-b915-4cb9-adc8-8fbb8e01e67f",
   "metadata": {
    "colab": {
     "base_uri": "https://localhost:8080/",
     "height": 81
    },
    "id": "mwYgX2b9V-fE",
    "outputId": "bdb71854-bdd3-4f21-d866-0faa908a574f"
   },
   "outputs": [
    {
     "data": {
      "text/html": [
       "<div>\n",
       "<style scoped>\n",
       "    .dataframe tbody tr th:only-of-type {\n",
       "        vertical-align: middle;\n",
       "    }\n",
       "\n",
       "    .dataframe tbody tr th {\n",
       "        vertical-align: top;\n",
       "    }\n",
       "\n",
       "    .dataframe thead th {\n",
       "        text-align: right;\n",
       "    }\n",
       "</style>\n",
       "<table border=\"1\" class=\"dataframe\">\n",
       "  <thead>\n",
       "    <tr style=\"text-align: right;\">\n",
       "      <th></th>\n",
       "      <th>WikiMovieID</th>\n",
       "      <th>FreeMovieID</th>\n",
       "      <th>Title</th>\n",
       "      <th>ReleaseDate</th>\n",
       "      <th>Revenue</th>\n",
       "      <th>Runtime</th>\n",
       "      <th>Languages</th>\n",
       "      <th>Countries</th>\n",
       "      <th>Genres</th>\n",
       "    </tr>\n",
       "  </thead>\n",
       "  <tbody>\n",
       "    <tr>\n",
       "      <th>62836</th>\n",
       "      <td>29666067</td>\n",
       "      <td>/m/0fphzrf</td>\n",
       "      <td>Hunting Season</td>\n",
       "      <td>1010-12-02</td>\n",
       "      <td>12160978.0</td>\n",
       "      <td>140.0</td>\n",
       "      <td>[Turkish Language, English Language]</td>\n",
       "      <td>[Turkey]</td>\n",
       "      <td>[Crime Fiction, Mystery, Drama, Thriller]</td>\n",
       "    </tr>\n",
       "  </tbody>\n",
       "</table>\n",
       "</div>"
      ],
      "text/plain": [
       "       WikiMovieID FreeMovieID           Title ReleaseDate     Revenue  \\\n",
       "62836     29666067  /m/0fphzrf  Hunting Season  1010-12-02  12160978.0   \n",
       "\n",
       "       Runtime                             Languages Countries  \\\n",
       "62836    140.0  [Turkish Language, English Language]  [Turkey]   \n",
       "\n",
       "                                          Genres  \n",
       "62836  [Crime Fiction, Mystery, Drama, Thriller]  "
      ]
     },
     "execution_count": 11,
     "metadata": {},
     "output_type": "execute_result"
    }
   ],
   "source": [
    "movies[movies.Title==\"Hunting Season\"]"
   ]
  },
  {
   "cell_type": "markdown",
   "id": "ad55de27-2c8b-4336-aac1-2f37eb46bc3b",
   "metadata": {
    "id": "tAEMhesrWCPY"
   },
   "source": [
    "Wrong input for release date (1010->2010)"
   ]
  },
  {
   "cell_type": "code",
   "execution_count": 12,
   "id": "ee8ab74b-840d-4073-ad2a-674f7b916551",
   "metadata": {
    "colab": {
     "base_uri": "https://localhost:8080/",
     "height": 112
    },
    "id": "C8g5ZN_c7C-b",
    "outputId": "5fc871f2-fb2b-4650-bf6c-381596d624a7"
   },
   "outputs": [
    {
     "data": {
      "text/html": [
       "<div>\n",
       "<style scoped>\n",
       "    .dataframe tbody tr th:only-of-type {\n",
       "        vertical-align: middle;\n",
       "    }\n",
       "\n",
       "    .dataframe tbody tr th {\n",
       "        vertical-align: top;\n",
       "    }\n",
       "\n",
       "    .dataframe thead th {\n",
       "        text-align: right;\n",
       "    }\n",
       "</style>\n",
       "<table border=\"1\" class=\"dataframe\">\n",
       "  <thead>\n",
       "    <tr style=\"text-align: right;\">\n",
       "      <th></th>\n",
       "      <th>WikiMovieID</th>\n",
       "      <th>FreeMovieID</th>\n",
       "      <th>Title</th>\n",
       "      <th>ReleaseDate</th>\n",
       "      <th>Revenue</th>\n",
       "      <th>Runtime</th>\n",
       "      <th>Languages</th>\n",
       "      <th>Countries</th>\n",
       "      <th>Genres</th>\n",
       "    </tr>\n",
       "  </thead>\n",
       "  <tbody>\n",
       "    <tr>\n",
       "      <th>623</th>\n",
       "      <td>3670013</td>\n",
       "      <td>/m/09thsq</td>\n",
       "      <td>Harlow</td>\n",
       "      <td>1965-06-23</td>\n",
       "      <td>1000000.0</td>\n",
       "      <td>109.0</td>\n",
       "      <td>[English Language]</td>\n",
       "      <td>[United States of America]</td>\n",
       "      <td>[Biographical film, Biography, Drama, Black-an...</td>\n",
       "    </tr>\n",
       "    <tr>\n",
       "      <th>1223</th>\n",
       "      <td>27171821</td>\n",
       "      <td>/m/0bwklv0</td>\n",
       "      <td>Harlow</td>\n",
       "      <td>1965</td>\n",
       "      <td>NaN</td>\n",
       "      <td>109.0</td>\n",
       "      <td>[]</td>\n",
       "      <td>[United States of America]</td>\n",
       "      <td>[Biographical film]</td>\n",
       "    </tr>\n",
       "  </tbody>\n",
       "</table>\n",
       "</div>"
      ],
      "text/plain": [
       "      WikiMovieID FreeMovieID   Title ReleaseDate    Revenue  Runtime  \\\n",
       "623       3670013   /m/09thsq  Harlow  1965-06-23  1000000.0    109.0   \n",
       "1223     27171821  /m/0bwklv0  Harlow        1965        NaN    109.0   \n",
       "\n",
       "               Languages                   Countries  \\\n",
       "623   [English Language]  [United States of America]   \n",
       "1223                  []  [United States of America]   \n",
       "\n",
       "                                                 Genres  \n",
       "623   [Biographical film, Biography, Drama, Black-an...  \n",
       "1223                                [Biographical film]  "
      ]
     },
     "execution_count": 12,
     "metadata": {},
     "output_type": "execute_result"
    }
   ],
   "source": [
    "movies[movies.Title==\"Harlow\"]"
   ]
  },
  {
   "cell_type": "markdown",
   "id": "9babb0c8-3c65-4395-9c1c-8692c133c351",
   "metadata": {
    "id": "EM2wFqtq94YV"
   },
   "source": [
    "Actually these are 2 different movies, but the first movie `WikiID`=3670013 has a wrong runtime (the correct runtime for this ID is 125 and not 109).\n",
    "\n",
    "So far couldn't find an example of a duplicated movie + No duplicated Wiki/Freebase IDs "
   ]
  },
  {
   "cell_type": "markdown",
   "id": "92a4270e-94ff-4082-aa00-fbd0aa99602a",
   "metadata": {},
   "source": [
    "---"
   ]
  },
  {
   "cell_type": "markdown",
   "id": "9de76b96-659a-482e-b257-81b8a329d9ba",
   "metadata": {
    "jp-MarkdownHeadingCollapsed": true,
    "tags": []
   },
   "source": [
    "## 1.4 Missing values  <a id='1.4'></a>"
   ]
  },
  {
   "cell_type": "markdown",
   "id": "91d27535-9744-4590-b08c-833c4d170af6",
   "metadata": {},
   "source": [
    "We want to see which columns have missing entries, and for those columns what is the percentage of missing entries."
   ]
  },
  {
   "cell_type": "code",
   "execution_count": 13,
   "id": "96588596-4b8a-4d53-af98-7f56bba206f3",
   "metadata": {},
   "outputs": [
    {
     "data": {
      "text/plain": [
       "WikiMovieID    False\n",
       "FreeMovieID    False\n",
       "Title          False\n",
       "ReleaseDate     True\n",
       "Revenue         True\n",
       "Runtime         True\n",
       "Languages      False\n",
       "Countries      False\n",
       "Genres         False\n",
       "dtype: bool"
      ]
     },
     "execution_count": 13,
     "metadata": {},
     "output_type": "execute_result"
    }
   ],
   "source": [
    "movies.isna().any()"
   ]
  },
  {
   "cell_type": "markdown",
   "id": "71ac441b-8b29-4c13-8f9b-55539475d721",
   "metadata": {},
   "source": [
    "For the movies dataset, only `ReleaseDate`, `Revenue` and `Runtime` have missing entries."
   ]
  },
  {
   "cell_type": "code",
   "execution_count": 21,
   "id": "f4335076-ba5a-4b6b-972c-8af29a0c9453",
   "metadata": {},
   "outputs": [
    {
     "name": "stdout",
     "output_type": "stream",
     "text": [
      "Percentage of missing entries in the movie dataset (%):\n",
      "    ReleaseDate : 8.44\n",
      "    Revenue : 89.72\n",
      "    Runtime : 25.02\n"
     ]
    }
   ],
   "source": [
    "mov_missing = movies[['ReleaseDate', 'Revenue', 'Runtime']].isna().sum()\n",
    "print('Percentage of missing entries in the movie dataset (%):')\n",
    "for x in range(len(mov_missing.values)):\n",
    "    print(\"   \",mov_missing.index[x], ':', round(100*mov_missing.values[x]/n_mov, 2))"
   ]
  },
  {
   "cell_type": "markdown",
   "id": "2482a644-cfd8-4fd4-aad4-a4eb1ddbdf6d",
   "metadata": {},
   "source": [
    "90% of the revenues are non specified. We won't use this feature in our project.  \n",
    "8% of the release dates and 25% of the runtimes are missing, we can fill them if we find the correct ones."
   ]
  },
  {
   "cell_type": "code",
   "execution_count": 16,
   "id": "2685b5f8-07de-4d7a-8475-a82ce2fe6e1b",
   "metadata": {},
   "outputs": [
    {
     "data": {
      "text/plain": [
       "WikiMovieID        False\n",
       "FreeMovieID        False\n",
       "ReleaseDate         True\n",
       "CharName            True\n",
       "ActorDOB            True\n",
       "ActorGender         True\n",
       "ActorHeight         True\n",
       "FreeEthnicityID     True\n",
       "ActorName           True\n",
       "ActorAgeRelease     True\n",
       "FreeMapID          False\n",
       "FreeCharID          True\n",
       "FreeActorID         True\n",
       "dtype: bool"
      ]
     },
     "execution_count": 16,
     "metadata": {},
     "output_type": "execute_result"
    }
   ],
   "source": [
    "characters.isna().any()"
   ]
  },
  {
   "cell_type": "code",
   "execution_count": 20,
   "id": "a2f71fa1-8dec-4799-9515-edacadcee83a",
   "metadata": {},
   "outputs": [
    {
     "name": "stdout",
     "output_type": "stream",
     "text": [
      "Percentage of missing entries in the characters dataset (%):\n",
      "    ReleaseDate : 2.22\n",
      "    CharName : 57.22\n",
      "    ActorDOB : 23.55\n",
      "    ActorGender : 10.12\n",
      "    ActorHeight : 65.65\n",
      "    FreeEthnicityID : 76.47\n",
      "    ActorName : 0.27\n",
      "    ActorAgeRelease : 35.08\n",
      "    FreeCharID : 57.22\n",
      "    FreeActorID : 0.18\n"
     ]
    }
   ],
   "source": [
    "char_missing = characters[['ReleaseDate', 'CharName', 'ActorDOB', 'ActorGender', 'ActorHeight', 'FreeEthnicityID', 'ActorName',\n",
    "                           'ActorAgeRelease', 'FreeCharID', 'FreeActorID']].isna().sum()\n",
    "print('Percentage of missing entries in the characters dataset (%):')\n",
    "for x in range(len(char_missing.values)):\n",
    "    print(\"   \",char_missing.index[x], ':', round(100*char_missing.values[x]/n_char, 2))"
   ]
  },
  {
   "cell_type": "markdown",
   "id": "2bfd3628-75ba-43f1-a170-b99476e8a212",
   "metadata": {
    "jp-MarkdownHeadingCollapsed": true,
    "tags": []
   },
   "source": [
    "### 1.4.1 Recovering Ethnicities  <a id='1.4.1'></a>"
   ]
  },
  {
   "cell_type": "markdown",
   "id": "9e0873b4-e694-4908-a2e0-a0c816129f5f",
   "metadata": {},
   "source": [
    "`Ethnicity` only has the ID of the Freebase database whose API is currently depreciated. To solve this problem we use the [Freebase/Wikidata Mappings](https://developers.google.com/freebase#freebase-wikidata-mappings) which as the name suggests maps the given Freebase Ids to WikiData.\n",
    "\n",
    "- Note : The data has been created based on the Wikidata-Dump of October 28, 2013, and contains only those links that have at least two common Wikipedia-Links and not a single disagreeing Wikipedia-Link. Since the movies/characters dataset were gathered during that time too there is no time conflict."
   ]
  },
  {
   "cell_type": "code",
   "execution_count": 22,
   "id": "ff2dad78-4128-415f-a85c-43b386f64f9f",
   "metadata": {},
   "outputs": [
    {
     "data": {
      "text/html": [
       "<div>\n",
       "<style scoped>\n",
       "    .dataframe tbody tr th:only-of-type {\n",
       "        vertical-align: middle;\n",
       "    }\n",
       "\n",
       "    .dataframe tbody tr th {\n",
       "        vertical-align: top;\n",
       "    }\n",
       "\n",
       "    .dataframe thead th {\n",
       "        text-align: right;\n",
       "    }\n",
       "</style>\n",
       "<table border=\"1\" class=\"dataframe\">\n",
       "  <thead>\n",
       "    <tr style=\"text-align: right;\">\n",
       "      <th></th>\n",
       "      <th>Freebase</th>\n",
       "      <th>W3</th>\n",
       "      <th>Wiki</th>\n",
       "    </tr>\n",
       "  </thead>\n",
       "  <tbody>\n",
       "    <tr>\n",
       "      <th>0</th>\n",
       "      <td>&lt;http://rdf.freebase.com/ns/m.0695j&gt;</td>\n",
       "      <td>&lt;http://www.w3.org/2002/07/owl#sameAs&gt;</td>\n",
       "      <td>&lt;http://www.wikidata.org/entity/Q6718&gt; .</td>\n",
       "    </tr>\n",
       "    <tr>\n",
       "      <th>1</th>\n",
       "      <td>&lt;http://rdf.freebase.com/ns/m.05nrg&gt;</td>\n",
       "      <td>&lt;http://www.w3.org/2002/07/owl#sameAs&gt;</td>\n",
       "      <td>&lt;http://www.wikidata.org/entity/Q538&gt; .</td>\n",
       "    </tr>\n",
       "    <tr>\n",
       "      <th>2</th>\n",
       "      <td>&lt;http://rdf.freebase.com/ns/m.0jgd&gt;</td>\n",
       "      <td>&lt;http://www.w3.org/2002/07/owl#sameAs&gt;</td>\n",
       "      <td>&lt;http://www.wikidata.org/entity/Q414&gt; .</td>\n",
       "    </tr>\n",
       "    <tr>\n",
       "      <th>3</th>\n",
       "      <td>&lt;http://rdf.freebase.com/ns/m.0d_23&gt;</td>\n",
       "      <td>&lt;http://www.w3.org/2002/07/owl#sameAs&gt;</td>\n",
       "      <td>&lt;http://www.wikidata.org/entity/Q2537&gt; .</td>\n",
       "    </tr>\n",
       "    <tr>\n",
       "      <th>4</th>\n",
       "      <td>&lt;http://rdf.freebase.com/ns/m.04g7d&gt;</td>\n",
       "      <td>&lt;http://www.w3.org/2002/07/owl#sameAs&gt;</td>\n",
       "      <td>&lt;http://www.wikidata.org/entity/Q315&gt; .</td>\n",
       "    </tr>\n",
       "  </tbody>\n",
       "</table>\n",
       "</div>"
      ],
      "text/plain": [
       "                               Freebase  \\\n",
       "0  <http://rdf.freebase.com/ns/m.0695j>   \n",
       "1  <http://rdf.freebase.com/ns/m.05nrg>   \n",
       "2   <http://rdf.freebase.com/ns/m.0jgd>   \n",
       "3  <http://rdf.freebase.com/ns/m.0d_23>   \n",
       "4  <http://rdf.freebase.com/ns/m.04g7d>   \n",
       "\n",
       "                                       W3  \\\n",
       "0  <http://www.w3.org/2002/07/owl#sameAs>   \n",
       "1  <http://www.w3.org/2002/07/owl#sameAs>   \n",
       "2  <http://www.w3.org/2002/07/owl#sameAs>   \n",
       "3  <http://www.w3.org/2002/07/owl#sameAs>   \n",
       "4  <http://www.w3.org/2002/07/owl#sameAs>   \n",
       "\n",
       "                                       Wiki  \n",
       "0  <http://www.wikidata.org/entity/Q6718> .  \n",
       "1   <http://www.wikidata.org/entity/Q538> .  \n",
       "2   <http://www.wikidata.org/entity/Q414> .  \n",
       "3  <http://www.wikidata.org/entity/Q2537> .  \n",
       "4   <http://www.wikidata.org/entity/Q315> .  "
      ]
     },
     "metadata": {},
     "output_type": "display_data"
    }
   ],
   "source": [
    "mappings_path = \"data/fb2w.nt.gz\"\n",
    "maps = pd.read_csv(mappings_path, sep='\\t', header=None, skiprows=4, names=[\"Freebase\", \"W3\", \"Wiki\"])\n",
    "display(maps.head())"
   ]
  },
  {
   "cell_type": "markdown",
   "id": "be706919-57e3-4c90-a9b9-42498efca32b",
   "metadata": {},
   "source": [
    "We only need the ID and not the whole website link so we transform columns in the following way :\n",
    "- Freebase : <http://rdf.freebase.com/ns/m.CODE_ID> -> /m/CODE_ID\n",
    "- Wiki : <http://www.wikidata.org/entity/CODE_ID> -> CODE_ID"
   ]
  },
  {
   "cell_type": "code",
   "execution_count": 23,
   "id": "3954eccc-56e9-487c-a1d2-e31c79ee8ec5",
   "metadata": {},
   "outputs": [],
   "source": [
    "\"\"\"\n",
    "Transforms the Freebase website to Freebase ID\n",
    "\"\"\"\n",
    "def elim_freebase(web):\n",
    "    return \"/m/\"+web[30:-1]\n",
    "\n",
    "\"\"\"\n",
    "Transforms the Freebase website to Freebase ID\n",
    "\"\"\"\n",
    "def elim_wiki(web):\n",
    "    return web[32:-3]"
   ]
  },
  {
   "cell_type": "code",
   "execution_count": 24,
   "id": "6d413403-41ab-4e39-b921-4082671e55d5",
   "metadata": {},
   "outputs": [
    {
     "data": {
      "text/html": [
       "<div>\n",
       "<style scoped>\n",
       "    .dataframe tbody tr th:only-of-type {\n",
       "        vertical-align: middle;\n",
       "    }\n",
       "\n",
       "    .dataframe tbody tr th {\n",
       "        vertical-align: top;\n",
       "    }\n",
       "\n",
       "    .dataframe thead th {\n",
       "        text-align: right;\n",
       "    }\n",
       "</style>\n",
       "<table border=\"1\" class=\"dataframe\">\n",
       "  <thead>\n",
       "    <tr style=\"text-align: right;\">\n",
       "      <th></th>\n",
       "      <th>free</th>\n",
       "      <th>wiki</th>\n",
       "    </tr>\n",
       "  </thead>\n",
       "  <tbody>\n",
       "    <tr>\n",
       "      <th>0</th>\n",
       "      <td>/m/0695j</td>\n",
       "      <td>Q6718</td>\n",
       "    </tr>\n",
       "    <tr>\n",
       "      <th>1</th>\n",
       "      <td>/m/05nrg</td>\n",
       "      <td>Q538</td>\n",
       "    </tr>\n",
       "    <tr>\n",
       "      <th>2</th>\n",
       "      <td>/m/0jgd</td>\n",
       "      <td>Q414</td>\n",
       "    </tr>\n",
       "    <tr>\n",
       "      <th>3</th>\n",
       "      <td>/m/0d_23</td>\n",
       "      <td>Q2537</td>\n",
       "    </tr>\n",
       "    <tr>\n",
       "      <th>4</th>\n",
       "      <td>/m/04g7d</td>\n",
       "      <td>Q315</td>\n",
       "    </tr>\n",
       "  </tbody>\n",
       "</table>\n",
       "</div>"
      ],
      "text/plain": [
       "       free   wiki\n",
       "0  /m/0695j  Q6718\n",
       "1  /m/05nrg   Q538\n",
       "2   /m/0jgd   Q414\n",
       "3  /m/0d_23  Q2537\n",
       "4  /m/04g7d   Q315"
      ]
     },
     "execution_count": 24,
     "metadata": {},
     "output_type": "execute_result"
    }
   ],
   "source": [
    "maps[\"free\"] = maps.Freebase.apply(elim_freebase)\n",
    "maps[\"wiki\"] = maps.Wiki.apply(elim_wiki)\n",
    "\n",
    "# We don't need the rest of the columns so we drop them \n",
    "maps.drop(columns = [\"Freebase\", \"W3\", \"Wiki\"], inplace=True)\n",
    "maps.head()"
   ]
  },
  {
   "cell_type": "markdown",
   "id": "fc17333d-c46f-4183-b9f4-8ce6cd317459",
   "metadata": {},
   "source": [
    "Firstly, we get the Wikidata IDs based on the mapping we created :"
   ]
  },
  {
   "cell_type": "code",
   "execution_count": 25,
   "id": "16851c62-50c6-48b2-b029-7123f0f326ba",
   "metadata": {},
   "outputs": [
    {
     "data": {
      "text/html": [
       "<div>\n",
       "<style scoped>\n",
       "    .dataframe tbody tr th:only-of-type {\n",
       "        vertical-align: middle;\n",
       "    }\n",
       "\n",
       "    .dataframe tbody tr th {\n",
       "        vertical-align: top;\n",
       "    }\n",
       "\n",
       "    .dataframe thead th {\n",
       "        text-align: right;\n",
       "    }\n",
       "</style>\n",
       "<table border=\"1\" class=\"dataframe\">\n",
       "  <thead>\n",
       "    <tr style=\"text-align: right;\">\n",
       "      <th></th>\n",
       "      <th>WikiMovieID</th>\n",
       "      <th>FreeMovieID</th>\n",
       "      <th>ReleaseDate</th>\n",
       "      <th>CharName</th>\n",
       "      <th>ActorDOB</th>\n",
       "      <th>ActorGender</th>\n",
       "      <th>ActorHeight</th>\n",
       "      <th>FreeEthnicityID</th>\n",
       "      <th>ActorName</th>\n",
       "      <th>ActorAgeRelease</th>\n",
       "      <th>FreeMapID</th>\n",
       "      <th>FreeCharID</th>\n",
       "      <th>FreeActorID</th>\n",
       "      <th>Ethnicity_W</th>\n",
       "    </tr>\n",
       "  </thead>\n",
       "  <tbody>\n",
       "    <tr>\n",
       "      <th>0</th>\n",
       "      <td>975900</td>\n",
       "      <td>/m/03vyhn</td>\n",
       "      <td>2001-08-24</td>\n",
       "      <td>Akooshay</td>\n",
       "      <td>1958-08-26</td>\n",
       "      <td>F</td>\n",
       "      <td>1.620</td>\n",
       "      <td>NaN</td>\n",
       "      <td>Wanda De Jesus</td>\n",
       "      <td>42.0</td>\n",
       "      <td>/m/0bgchxw</td>\n",
       "      <td>/m/0bgcj3x</td>\n",
       "      <td>/m/03wcfv7</td>\n",
       "      <td>NaN</td>\n",
       "    </tr>\n",
       "    <tr>\n",
       "      <th>1</th>\n",
       "      <td>975900</td>\n",
       "      <td>/m/03vyhn</td>\n",
       "      <td>2001-08-24</td>\n",
       "      <td>Lieutenant Melanie Ballard</td>\n",
       "      <td>1974-08-15</td>\n",
       "      <td>F</td>\n",
       "      <td>1.780</td>\n",
       "      <td>/m/044038p</td>\n",
       "      <td>Natasha Henstridge</td>\n",
       "      <td>27.0</td>\n",
       "      <td>/m/0jys3m</td>\n",
       "      <td>/m/0bgchn4</td>\n",
       "      <td>/m/0346l4</td>\n",
       "      <td>NaN</td>\n",
       "    </tr>\n",
       "    <tr>\n",
       "      <th>2</th>\n",
       "      <td>975900</td>\n",
       "      <td>/m/03vyhn</td>\n",
       "      <td>2001-08-24</td>\n",
       "      <td>Desolation Williams</td>\n",
       "      <td>1969-06-15</td>\n",
       "      <td>M</td>\n",
       "      <td>1.727</td>\n",
       "      <td>/m/0x67</td>\n",
       "      <td>Ice Cube</td>\n",
       "      <td>32.0</td>\n",
       "      <td>/m/0jys3g</td>\n",
       "      <td>/m/0bgchn_</td>\n",
       "      <td>/m/01vw26l</td>\n",
       "      <td>Q49085</td>\n",
       "    </tr>\n",
       "    <tr>\n",
       "      <th>3</th>\n",
       "      <td>975900</td>\n",
       "      <td>/m/03vyhn</td>\n",
       "      <td>2001-08-24</td>\n",
       "      <td>Sgt Jericho Butler</td>\n",
       "      <td>1967-09-12</td>\n",
       "      <td>M</td>\n",
       "      <td>1.750</td>\n",
       "      <td>NaN</td>\n",
       "      <td>Jason Statham</td>\n",
       "      <td>33.0</td>\n",
       "      <td>/m/02vchl6</td>\n",
       "      <td>/m/0bgchnq</td>\n",
       "      <td>/m/034hyc</td>\n",
       "      <td>NaN</td>\n",
       "    </tr>\n",
       "    <tr>\n",
       "      <th>4</th>\n",
       "      <td>975900</td>\n",
       "      <td>/m/03vyhn</td>\n",
       "      <td>2001-08-24</td>\n",
       "      <td>Bashira Kincaid</td>\n",
       "      <td>1977-09-25</td>\n",
       "      <td>F</td>\n",
       "      <td>1.650</td>\n",
       "      <td>NaN</td>\n",
       "      <td>Clea DuVall</td>\n",
       "      <td>23.0</td>\n",
       "      <td>/m/02vbb3r</td>\n",
       "      <td>/m/0bgchp9</td>\n",
       "      <td>/m/01y9xg</td>\n",
       "      <td>NaN</td>\n",
       "    </tr>\n",
       "  </tbody>\n",
       "</table>\n",
       "</div>"
      ],
      "text/plain": [
       "   WikiMovieID FreeMovieID ReleaseDate                    CharName  \\\n",
       "0       975900   /m/03vyhn  2001-08-24                    Akooshay   \n",
       "1       975900   /m/03vyhn  2001-08-24  Lieutenant Melanie Ballard   \n",
       "2       975900   /m/03vyhn  2001-08-24         Desolation Williams   \n",
       "3       975900   /m/03vyhn  2001-08-24          Sgt Jericho Butler   \n",
       "4       975900   /m/03vyhn  2001-08-24             Bashira Kincaid   \n",
       "\n",
       "     ActorDOB ActorGender  ActorHeight FreeEthnicityID           ActorName  \\\n",
       "0  1958-08-26           F        1.620             NaN      Wanda De Jesus   \n",
       "1  1974-08-15           F        1.780      /m/044038p  Natasha Henstridge   \n",
       "2  1969-06-15           M        1.727         /m/0x67            Ice Cube   \n",
       "3  1967-09-12           M        1.750             NaN       Jason Statham   \n",
       "4  1977-09-25           F        1.650             NaN         Clea DuVall   \n",
       "\n",
       "   ActorAgeRelease   FreeMapID  FreeCharID FreeActorID Ethnicity_W  \n",
       "0             42.0  /m/0bgchxw  /m/0bgcj3x  /m/03wcfv7         NaN  \n",
       "1             27.0   /m/0jys3m  /m/0bgchn4   /m/0346l4         NaN  \n",
       "2             32.0   /m/0jys3g  /m/0bgchn_  /m/01vw26l      Q49085  \n",
       "3             33.0  /m/02vchl6  /m/0bgchnq   /m/034hyc         NaN  \n",
       "4             23.0  /m/02vbb3r  /m/0bgchp9   /m/01y9xg         NaN  "
      ]
     },
     "metadata": {},
     "output_type": "display_data"
    }
   ],
   "source": [
    "characters = characters.merge(maps, how=\"left\", left_on=\"FreeEthnicityID\", right_on=\"free\")\n",
    "characters.drop(columns=[\"free\"], inplace=True)\n",
    "characters.rename(columns={\"wiki\":\"Ethnicity_W\"}, inplace=True)\n",
    "display(characters.head())"
   ]
  },
  {
   "cell_type": "markdown",
   "id": "6f42573d-db06-457f-8dd6-b48a2b421590",
   "metadata": {},
   "source": [
    "As we can see the mapping is not complete : Some Freebase IDs do not correspond to any Wikidata ID. "
   ]
  },
  {
   "cell_type": "code",
   "execution_count": 26,
   "id": "61246635-f543-4316-9e2b-15e0ce78e0c7",
   "metadata": {},
   "outputs": [
    {
     "name": "stdout",
     "output_type": "stream",
     "text": [
      "There are 12992 instances of ethnicities that we could not map from Freebase to Wikidata\n"
     ]
    }
   ],
   "source": [
    "unmapped_ethnicities = characters.Ethnicity_W.isna().sum() - characters.FreeEthnicityID.isna().sum()\n",
    "print(\"There are {} instances of ethnicities that we could not map from Freebase to Wikidata\".format(unmapped_ethnicities))\n",
    "# Instances of ethnicities -> Can we replace by number of actors ethnicities? Actors with different initial ethnicities ?"
   ]
  },
  {
   "cell_type": "code",
   "execution_count": 27,
   "id": "46903545-d496-4753-ae8a-c23ced461333",
   "metadata": {},
   "outputs": [],
   "source": [
    "\"\"\"\n",
    "Given a Wikidata ID (eg. \"Q49085\") returns the corresponding label \n",
    "\n",
    "Using this function row by row (pd.apply method) takes enormous time -> improvement? For ethnicities its ok as they're only 350 dinstinct ones\n",
    "\"\"\"\n",
    "def get_wikidata_label(wikidata_id):\n",
    "    client = Client()\n",
    "    entity = client.get(wikidata_id, load=True)\n",
    "    return str(entity.label)"
   ]
  },
  {
   "cell_type": "code",
   "execution_count": 28,
   "id": "2300f41e-6af1-411a-a7d4-32d1b9574b27",
   "metadata": {},
   "outputs": [],
   "source": [
    "# Result is map_Ethnicity_W_to_Ethnicity_name a map between Ethnicity wikidata ID and Ethnicity label\n",
    "map_Ethnicity_W_to_Ethnicity_name = pd.DataFrame(characters.Ethnicity_W.unique(), columns=[\"Ethnicity_W\"]).dropna()\n",
    "\n",
    "# Getting the equivalent label for each Wikidata ID\n",
    "map_Ethnicity_W_to_Ethnicity_name[\"EthnicityName\"] = map_Ethnicity_W_to_Ethnicity_name.Ethnicity_W.apply(get_wikidata_label)"
   ]
  },
  {
   "cell_type": "code",
   "execution_count": 29,
   "id": "8eafa33e-6ad7-4a98-bac1-2c007136219a",
   "metadata": {},
   "outputs": [
    {
     "data": {
      "text/html": [
       "<div>\n",
       "<style scoped>\n",
       "    .dataframe tbody tr th:only-of-type {\n",
       "        vertical-align: middle;\n",
       "    }\n",
       "\n",
       "    .dataframe tbody tr th {\n",
       "        vertical-align: top;\n",
       "    }\n",
       "\n",
       "    .dataframe thead th {\n",
       "        text-align: right;\n",
       "    }\n",
       "</style>\n",
       "<table border=\"1\" class=\"dataframe\">\n",
       "  <thead>\n",
       "    <tr style=\"text-align: right;\">\n",
       "      <th></th>\n",
       "      <th>WikiMovieID</th>\n",
       "      <th>FreeMovieID</th>\n",
       "      <th>ReleaseDate</th>\n",
       "      <th>CharName</th>\n",
       "      <th>ActorDOB</th>\n",
       "      <th>ActorGender</th>\n",
       "      <th>ActorHeight</th>\n",
       "      <th>ActorName</th>\n",
       "      <th>ActorAgeRelease</th>\n",
       "      <th>FreeMapID</th>\n",
       "      <th>FreeCharID</th>\n",
       "      <th>FreeActorID</th>\n",
       "      <th>EthnicityName</th>\n",
       "    </tr>\n",
       "  </thead>\n",
       "  <tbody>\n",
       "    <tr>\n",
       "      <th>0</th>\n",
       "      <td>975900</td>\n",
       "      <td>/m/03vyhn</td>\n",
       "      <td>2001-08-24</td>\n",
       "      <td>Akooshay</td>\n",
       "      <td>1958-08-26</td>\n",
       "      <td>F</td>\n",
       "      <td>1.620</td>\n",
       "      <td>Wanda De Jesus</td>\n",
       "      <td>42.0</td>\n",
       "      <td>/m/0bgchxw</td>\n",
       "      <td>/m/0bgcj3x</td>\n",
       "      <td>/m/03wcfv7</td>\n",
       "      <td>NaN</td>\n",
       "    </tr>\n",
       "    <tr>\n",
       "      <th>1</th>\n",
       "      <td>975900</td>\n",
       "      <td>/m/03vyhn</td>\n",
       "      <td>2001-08-24</td>\n",
       "      <td>Lieutenant Melanie Ballard</td>\n",
       "      <td>1974-08-15</td>\n",
       "      <td>F</td>\n",
       "      <td>1.780</td>\n",
       "      <td>Natasha Henstridge</td>\n",
       "      <td>27.0</td>\n",
       "      <td>/m/0jys3m</td>\n",
       "      <td>/m/0bgchn4</td>\n",
       "      <td>/m/0346l4</td>\n",
       "      <td>NaN</td>\n",
       "    </tr>\n",
       "    <tr>\n",
       "      <th>2</th>\n",
       "      <td>975900</td>\n",
       "      <td>/m/03vyhn</td>\n",
       "      <td>2001-08-24</td>\n",
       "      <td>Desolation Williams</td>\n",
       "      <td>1969-06-15</td>\n",
       "      <td>M</td>\n",
       "      <td>1.727</td>\n",
       "      <td>Ice Cube</td>\n",
       "      <td>32.0</td>\n",
       "      <td>/m/0jys3g</td>\n",
       "      <td>/m/0bgchn_</td>\n",
       "      <td>/m/01vw26l</td>\n",
       "      <td>African Americans</td>\n",
       "    </tr>\n",
       "    <tr>\n",
       "      <th>3</th>\n",
       "      <td>975900</td>\n",
       "      <td>/m/03vyhn</td>\n",
       "      <td>2001-08-24</td>\n",
       "      <td>Sgt Jericho Butler</td>\n",
       "      <td>1967-09-12</td>\n",
       "      <td>M</td>\n",
       "      <td>1.750</td>\n",
       "      <td>Jason Statham</td>\n",
       "      <td>33.0</td>\n",
       "      <td>/m/02vchl6</td>\n",
       "      <td>/m/0bgchnq</td>\n",
       "      <td>/m/034hyc</td>\n",
       "      <td>NaN</td>\n",
       "    </tr>\n",
       "    <tr>\n",
       "      <th>4</th>\n",
       "      <td>975900</td>\n",
       "      <td>/m/03vyhn</td>\n",
       "      <td>2001-08-24</td>\n",
       "      <td>Bashira Kincaid</td>\n",
       "      <td>1977-09-25</td>\n",
       "      <td>F</td>\n",
       "      <td>1.650</td>\n",
       "      <td>Clea DuVall</td>\n",
       "      <td>23.0</td>\n",
       "      <td>/m/02vbb3r</td>\n",
       "      <td>/m/0bgchp9</td>\n",
       "      <td>/m/01y9xg</td>\n",
       "      <td>NaN</td>\n",
       "    </tr>\n",
       "  </tbody>\n",
       "</table>\n",
       "</div>"
      ],
      "text/plain": [
       "   WikiMovieID FreeMovieID ReleaseDate                    CharName  \\\n",
       "0       975900   /m/03vyhn  2001-08-24                    Akooshay   \n",
       "1       975900   /m/03vyhn  2001-08-24  Lieutenant Melanie Ballard   \n",
       "2       975900   /m/03vyhn  2001-08-24         Desolation Williams   \n",
       "3       975900   /m/03vyhn  2001-08-24          Sgt Jericho Butler   \n",
       "4       975900   /m/03vyhn  2001-08-24             Bashira Kincaid   \n",
       "\n",
       "     ActorDOB ActorGender  ActorHeight           ActorName  ActorAgeRelease  \\\n",
       "0  1958-08-26           F        1.620      Wanda De Jesus             42.0   \n",
       "1  1974-08-15           F        1.780  Natasha Henstridge             27.0   \n",
       "2  1969-06-15           M        1.727            Ice Cube             32.0   \n",
       "3  1967-09-12           M        1.750       Jason Statham             33.0   \n",
       "4  1977-09-25           F        1.650         Clea DuVall             23.0   \n",
       "\n",
       "    FreeMapID  FreeCharID FreeActorID      EthnicityName  \n",
       "0  /m/0bgchxw  /m/0bgcj3x  /m/03wcfv7                NaN  \n",
       "1   /m/0jys3m  /m/0bgchn4   /m/0346l4                NaN  \n",
       "2   /m/0jys3g  /m/0bgchn_  /m/01vw26l  African Americans  \n",
       "3  /m/02vchl6  /m/0bgchnq   /m/034hyc                NaN  \n",
       "4  /m/02vbb3r  /m/0bgchp9   /m/01y9xg                NaN  "
      ]
     },
     "metadata": {},
     "output_type": "display_data"
    }
   ],
   "source": [
    "# Assigining the missing ethnicities\n",
    "characters = characters.merge(map_Ethnicity_W_to_Ethnicity_name, how=\"left\", left_on=\"Ethnicity_W\", right_on=\"Ethnicity_W\").drop(columns= [\"FreeEthnicityID\", \"Ethnicity_W\"])\n",
    "display(characters.head())"
   ]
  },
  {
   "cell_type": "code",
   "execution_count": 32,
   "id": "78cbaeda-d227-4a85-9b78-dab8d2a06222",
   "metadata": {},
   "outputs": [
    {
     "name": "stdout",
     "output_type": "stream",
     "text": [
      "Number of unique ethnicities : 355\n"
     ]
    }
   ],
   "source": [
    "ethn_len = characters.EthnicityName.nunique()\n",
    "print(\"Number of unique ethnicities : {}\".format(ethn_len))"
   ]
  },
  {
   "cell_type": "markdown",
   "id": "1ac32caa-c098-4eb5-a73f-4536177d7c3f",
   "metadata": {},
   "source": [
    "The whole ethnicities plot (355 different ethnicities) was not really readable, so :\n",
    "- what are the most present ones (ex 20 first) \n",
    "- group some ethnicities together into big categories"
   ]
  },
  {
   "cell_type": "code",
   "execution_count": 33,
   "id": "15b0d9b1-2067-49a4-bd92-cf538a88426c",
   "metadata": {},
   "outputs": [
    {
     "data": {
      "image/png": "[encoded data removed]",
      "text/plain": [
       "<Figure size 720x360 with 1 Axes>"
      ]
     },
     "metadata": {
      "needs_background": "light"
     },
     "output_type": "display_data"
    }
   ],
   "source": [
    "# Ethnicities visualization\n",
    "plt.figure(figsize=(10,5))\n",
    "characters.EthnicityName.value_counts()[:20].plot(kind=\"bar\")\n",
    "plt.xlabel('Ethnicities')\n",
    "plt.ylabel('Number of actors')\n",
    "plt.title('Distribution of the twenty most represented ethnicities');"
   ]
  },
  {
   "cell_type": "markdown",
   "id": "93842636-d931-4a46-a006-1af2f482920c",
   "metadata": {},
   "source": [
    "#### I don't know on what I should base the big ethnicity categories : maybe\n",
    "- American Indian or Alaska Native\n",
    "- Asian\n",
    "- Black or African American\n",
    "- Hispanic or Latino\n",
    "- Native Hawaiian or Other Pacific Islander\n",
    "- White"
   ]
  },
  {
   "cell_type": "code",
   "execution_count": 34,
   "id": "eba28c02-7306-4b68-b96d-2ba3c5487fed",
   "metadata": {},
   "outputs": [
    {
     "name": "stdout",
     "output_type": "stream",
     "text": [
      "The percentage of missing Ethnicity names is : 79.35 %\n"
     ]
    }
   ],
   "source": [
    "print('The percentage of missing Ethnicity names is :', round(100*characters[['EthnicityName']].isna().sum().values[0]/n_char,2), '%')"
   ]
  },
  {
   "cell_type": "markdown",
   "id": "15c393f4-f036-4385-a051-a31218935a1e",
   "metadata": {},
   "source": [
    "We only have the names of 20% of the actor ethnicities : this is not enough to base our analysis and to draw conclusions. We thus decided to not use the Ethnicity in our project."
   ]
  },
  {
   "cell_type": "markdown",
   "id": "07bc0763-5794-4d65-b3f0-b27e875d3157",
   "metadata": {
    "jp-MarkdownHeadingCollapsed": true,
    "tags": []
   },
   "source": [
    "### 1.4.2 Recovering Missing Actor Names  <a id='1.4.2'></a>"
   ]
  },
  {
   "cell_type": "markdown",
   "id": "bdbe084c-943c-424d-b027-4b613325cf84",
   "metadata": {},
   "source": [
    "In addition, some actors do not have their name and/or date of birth and/or sex specified but the actor freebase ID is present. We can use the actor freebase ID to recover their Wikidata information. This gives us access to the following relevant information about the actor :\n",
    "- Name\n",
    "- Sex/Gender\n",
    "- Date of Birth  \n",
    "We can therefore replace the missing values in those categories, when the Actor Freebase ID is specified."
   ]
  },
  {
   "cell_type": "code",
   "execution_count": 35,
   "id": "8a919fc2-e1db-4ab8-a161-f50af0fbd003",
   "metadata": {},
   "outputs": [
    {
     "name": "stdout",
     "output_type": "stream",
     "text": [
      "Number of rows where:\n",
      "\tActor is missing but actor ID is specified : 413\n",
      "\tActor and DOB are missing but actor ID is specified : 400\n",
      "\tActor and Gender are missing but actor ID is specified : 401\n",
      "\tActor, DOB and Gender are missing but actor ID is specified : 400\n",
      "\tDOB is missing but Actor and actor ID are specified : 104930\n",
      "\tGender is missing but Actor and actor ID are specified : 44393\n",
      "\tDOB and Gender are missing but Actor and actor ID are specified : 62635\n"
     ]
    }
   ],
   "source": [
    "print('Number of rows where:\\n\\tActor is missing but actor ID is specified :', len(characters[(characters['ActorName'].isna() & ~characters['FreeActorID'].isna())]))\n",
    "print('\\tActor and DOB are missing but actor ID is specified :', len(characters[(characters['ActorName'].isna() & characters['ActorDOB'].isna() & ~characters['FreeActorID'].isna())]))\n",
    "print('\\tActor and Gender are missing but actor ID is specified :', len(characters[(characters['ActorName'].isna() & characters['ActorGender'].isna() & ~characters['FreeActorID'].isna())]))\n",
    "print('\\tActor, DOB and Gender are missing but actor ID is specified :', len(characters[(characters['ActorName'].isna() & characters['ActorDOB'].isna() & characters['ActorGender'].isna() & ~characters['FreeActorID'].isna())]))\n",
    "print('\\tDOB is missing but Actor and actor ID are specified :', len(characters[(~characters['ActorName'].isna() & characters['ActorDOB'].isna() & ~characters['FreeActorID'].isna())]))\n",
    "print('\\tGender is missing but Actor and actor ID are specified :', len(characters[(~characters['ActorName'].isna() & characters['ActorGender'].isna() & ~characters['FreeActorID'].isna())]))\n",
    "print('\\tDOB and Gender are missing but Actor and actor ID are specified :', len(characters[(~characters['ActorName'].isna() & characters['ActorDOB'].isna() & characters['ActorGender'] & ~characters['FreeActorID'].isna())]))"
   ]
  },
  {
   "cell_type": "markdown",
   "id": "9fbd38d8-03bc-4984-b968-0db51ef1f5a2",
   "metadata": {},
   "source": [
    "#### Starting with recovery of missing Actor names\n",
    "\n",
    "For this, we perform the same as in the Ethnicity names recovery."
   ]
  },
  {
   "cell_type": "code",
   "execution_count": 36,
   "id": "acd0dbfe-7ea5-45f3-abef-84766dafb0c8",
   "metadata": {},
   "outputs": [
    {
     "data": {
      "text/html": [
       "<div>\n",
       "<style scoped>\n",
       "    .dataframe tbody tr th:only-of-type {\n",
       "        vertical-align: middle;\n",
       "    }\n",
       "\n",
       "    .dataframe tbody tr th {\n",
       "        vertical-align: top;\n",
       "    }\n",
       "\n",
       "    .dataframe thead th {\n",
       "        text-align: right;\n",
       "    }\n",
       "</style>\n",
       "<table border=\"1\" class=\"dataframe\">\n",
       "  <thead>\n",
       "    <tr style=\"text-align: right;\">\n",
       "      <th></th>\n",
       "      <th>WikiMovieID</th>\n",
       "      <th>FreeMovieID</th>\n",
       "      <th>ReleaseDate</th>\n",
       "      <th>CharName</th>\n",
       "      <th>ActorDOB</th>\n",
       "      <th>ActorGender</th>\n",
       "      <th>ActorHeight</th>\n",
       "      <th>ActorName</th>\n",
       "      <th>ActorAgeRelease</th>\n",
       "      <th>FreeMapID</th>\n",
       "      <th>FreeCharID</th>\n",
       "      <th>EthnicityName</th>\n",
       "      <th>free</th>\n",
       "      <th>WikiActorID</th>\n",
       "    </tr>\n",
       "  </thead>\n",
       "  <tbody>\n",
       "    <tr>\n",
       "      <th>0</th>\n",
       "      <td>975900</td>\n",
       "      <td>/m/03vyhn</td>\n",
       "      <td>2001-08-24</td>\n",
       "      <td>Akooshay</td>\n",
       "      <td>1958-08-26</td>\n",
       "      <td>F</td>\n",
       "      <td>1.620</td>\n",
       "      <td>Wanda De Jesus</td>\n",
       "      <td>42.0</td>\n",
       "      <td>/m/0bgchxw</td>\n",
       "      <td>/m/0bgcj3x</td>\n",
       "      <td>NaN</td>\n",
       "      <td>/m/03wcfv7</td>\n",
       "      <td>Q1873468</td>\n",
       "    </tr>\n",
       "    <tr>\n",
       "      <th>1</th>\n",
       "      <td>975900</td>\n",
       "      <td>/m/03vyhn</td>\n",
       "      <td>2001-08-24</td>\n",
       "      <td>Lieutenant Melanie Ballard</td>\n",
       "      <td>1974-08-15</td>\n",
       "      <td>F</td>\n",
       "      <td>1.780</td>\n",
       "      <td>Natasha Henstridge</td>\n",
       "      <td>27.0</td>\n",
       "      <td>/m/0jys3m</td>\n",
       "      <td>/m/0bgchn4</td>\n",
       "      <td>NaN</td>\n",
       "      <td>/m/0346l4</td>\n",
       "      <td>Q230527</td>\n",
       "    </tr>\n",
       "    <tr>\n",
       "      <th>2</th>\n",
       "      <td>975900</td>\n",
       "      <td>/m/03vyhn</td>\n",
       "      <td>2001-08-24</td>\n",
       "      <td>Desolation Williams</td>\n",
       "      <td>1969-06-15</td>\n",
       "      <td>M</td>\n",
       "      <td>1.727</td>\n",
       "      <td>Ice Cube</td>\n",
       "      <td>32.0</td>\n",
       "      <td>/m/0jys3g</td>\n",
       "      <td>/m/0bgchn_</td>\n",
       "      <td>African Americans</td>\n",
       "      <td>/m/01vw26l</td>\n",
       "      <td>Q173637</td>\n",
       "    </tr>\n",
       "    <tr>\n",
       "      <th>3</th>\n",
       "      <td>975900</td>\n",
       "      <td>/m/03vyhn</td>\n",
       "      <td>2001-08-24</td>\n",
       "      <td>Sgt Jericho Butler</td>\n",
       "      <td>1967-09-12</td>\n",
       "      <td>M</td>\n",
       "      <td>1.750</td>\n",
       "      <td>Jason Statham</td>\n",
       "      <td>33.0</td>\n",
       "      <td>/m/02vchl6</td>\n",
       "      <td>/m/0bgchnq</td>\n",
       "      <td>NaN</td>\n",
       "      <td>/m/034hyc</td>\n",
       "      <td>Q169963</td>\n",
       "    </tr>\n",
       "    <tr>\n",
       "      <th>4</th>\n",
       "      <td>975900</td>\n",
       "      <td>/m/03vyhn</td>\n",
       "      <td>2001-08-24</td>\n",
       "      <td>Bashira Kincaid</td>\n",
       "      <td>1977-09-25</td>\n",
       "      <td>F</td>\n",
       "      <td>1.650</td>\n",
       "      <td>Clea DuVall</td>\n",
       "      <td>23.0</td>\n",
       "      <td>/m/02vbb3r</td>\n",
       "      <td>/m/0bgchp9</td>\n",
       "      <td>NaN</td>\n",
       "      <td>/m/01y9xg</td>\n",
       "      <td>Q233347</td>\n",
       "    </tr>\n",
       "  </tbody>\n",
       "</table>\n",
       "</div>"
      ],
      "text/plain": [
       "   WikiMovieID FreeMovieID ReleaseDate                    CharName  \\\n",
       "0       975900   /m/03vyhn  2001-08-24                    Akooshay   \n",
       "1       975900   /m/03vyhn  2001-08-24  Lieutenant Melanie Ballard   \n",
       "2       975900   /m/03vyhn  2001-08-24         Desolation Williams   \n",
       "3       975900   /m/03vyhn  2001-08-24          Sgt Jericho Butler   \n",
       "4       975900   /m/03vyhn  2001-08-24             Bashira Kincaid   \n",
       "\n",
       "     ActorDOB ActorGender  ActorHeight           ActorName  ActorAgeRelease  \\\n",
       "0  1958-08-26           F        1.620      Wanda De Jesus             42.0   \n",
       "1  1974-08-15           F        1.780  Natasha Henstridge             27.0   \n",
       "2  1969-06-15           M        1.727            Ice Cube             32.0   \n",
       "3  1967-09-12           M        1.750       Jason Statham             33.0   \n",
       "4  1977-09-25           F        1.650         Clea DuVall             23.0   \n",
       "\n",
       "    FreeMapID  FreeCharID      EthnicityName        free WikiActorID  \n",
       "0  /m/0bgchxw  /m/0bgcj3x                NaN  /m/03wcfv7    Q1873468  \n",
       "1   /m/0jys3m  /m/0bgchn4                NaN   /m/0346l4     Q230527  \n",
       "2   /m/0jys3g  /m/0bgchn_  African Americans  /m/01vw26l     Q173637  \n",
       "3  /m/02vchl6  /m/0bgchnq                NaN   /m/034hyc     Q169963  \n",
       "4  /m/02vbb3r  /m/0bgchp9                NaN   /m/01y9xg     Q233347  "
      ]
     },
     "metadata": {},
     "output_type": "display_data"
    }
   ],
   "source": [
    "characters = characters.merge(maps, how=\"left\", left_on=\"FreeActorID\", right_on=\"free\")\n",
    "characters.drop(columns=[\"FreeActorID\"], inplace=True)\n",
    "characters.rename(columns={\"wiki\":\"WikiActorID\"}, inplace=True)\n",
    "display(characters.head())"
   ]
  },
  {
   "cell_type": "code",
   "execution_count": 37,
   "id": "e03e410c-2f0a-4017-bfb5-d3396f3be188",
   "metadata": {},
   "outputs": [],
   "source": [
    "missing_actor = characters[(characters['ActorName'].isna() & ~characters['WikiActorID'].isna())]"
   ]
  },
  {
   "cell_type": "code",
   "execution_count": 38,
   "id": "1bc74208-c049-43d3-b140-138c7529520c",
   "metadata": {},
   "outputs": [],
   "source": [
    "map_WikiActorId_Actor = pd.DataFrame(missing_actor.WikiActorID.unique(), columns=[\"WikiActorID\"]).dropna()\n",
    "map_WikiActorId_Actor[\"ActorName\"] = map_WikiActorId_Actor.WikiActorID.apply(get_wikidata_label)"
   ]
  },
  {
   "cell_type": "code",
   "execution_count": 39,
   "id": "9905e025-c1d8-498c-872c-b2d0b596d4d3",
   "metadata": {},
   "outputs": [],
   "source": [
    "characters = characters.merge(map_WikiActorId_Actor, how=\"left\", left_on=\"WikiActorID\", right_on=\"WikiActorID\").drop(columns= [\"WikiActorID\", \"WikiActorID\"])\n",
    "characters.drop(columns=\"free\", inplace=True)"
   ]
  },
  {
   "cell_type": "code",
   "execution_count": 40,
   "id": "fa08b09f-1bb5-4441-b7f3-ebbe2bf533e2",
   "metadata": {},
   "outputs": [],
   "source": [
    "characters[\"ActorName\"] = characters.fillna(value={\"ActorName_x\":\"\"}).ActorName_x + characters.fillna(value={\"ActorName_y\":\"\"}).ActorName_y\n",
    "characters.drop(columns=[\"ActorName_x\", \"ActorName_y\"], inplace=True)"
   ]
  },
  {
   "cell_type": "code",
   "execution_count": 41,
   "id": "a36197e7-911e-4c46-91c3-905ea0890af5",
   "metadata": {},
   "outputs": [
    {
     "data": {
      "text/html": [
       "<div>\n",
       "<style scoped>\n",
       "    .dataframe tbody tr th:only-of-type {\n",
       "        vertical-align: middle;\n",
       "    }\n",
       "\n",
       "    .dataframe tbody tr th {\n",
       "        vertical-align: top;\n",
       "    }\n",
       "\n",
       "    .dataframe thead th {\n",
       "        text-align: right;\n",
       "    }\n",
       "</style>\n",
       "<table border=\"1\" class=\"dataframe\">\n",
       "  <thead>\n",
       "    <tr style=\"text-align: right;\">\n",
       "      <th></th>\n",
       "      <th>WikiMovieID</th>\n",
       "      <th>FreeMovieID</th>\n",
       "      <th>ReleaseDate</th>\n",
       "      <th>CharName</th>\n",
       "      <th>ActorDOB</th>\n",
       "      <th>ActorGender</th>\n",
       "      <th>ActorHeight</th>\n",
       "      <th>ActorAgeRelease</th>\n",
       "      <th>FreeMapID</th>\n",
       "      <th>FreeCharID</th>\n",
       "      <th>EthnicityName</th>\n",
       "      <th>ActorName</th>\n",
       "    </tr>\n",
       "  </thead>\n",
       "  <tbody>\n",
       "    <tr>\n",
       "      <th>0</th>\n",
       "      <td>975900</td>\n",
       "      <td>/m/03vyhn</td>\n",
       "      <td>2001-08-24</td>\n",
       "      <td>Akooshay</td>\n",
       "      <td>1958-08-26</td>\n",
       "      <td>F</td>\n",
       "      <td>1.620</td>\n",
       "      <td>42.0</td>\n",
       "      <td>/m/0bgchxw</td>\n",
       "      <td>/m/0bgcj3x</td>\n",
       "      <td>NaN</td>\n",
       "      <td>Wanda De Jesus</td>\n",
       "    </tr>\n",
       "    <tr>\n",
       "      <th>1</th>\n",
       "      <td>975900</td>\n",
       "      <td>/m/03vyhn</td>\n",
       "      <td>2001-08-24</td>\n",
       "      <td>Lieutenant Melanie Ballard</td>\n",
       "      <td>1974-08-15</td>\n",
       "      <td>F</td>\n",
       "      <td>1.780</td>\n",
       "      <td>27.0</td>\n",
       "      <td>/m/0jys3m</td>\n",
       "      <td>/m/0bgchn4</td>\n",
       "      <td>NaN</td>\n",
       "      <td>Natasha Henstridge</td>\n",
       "    </tr>\n",
       "    <tr>\n",
       "      <th>2</th>\n",
       "      <td>975900</td>\n",
       "      <td>/m/03vyhn</td>\n",
       "      <td>2001-08-24</td>\n",
       "      <td>Desolation Williams</td>\n",
       "      <td>1969-06-15</td>\n",
       "      <td>M</td>\n",
       "      <td>1.727</td>\n",
       "      <td>32.0</td>\n",
       "      <td>/m/0jys3g</td>\n",
       "      <td>/m/0bgchn_</td>\n",
       "      <td>African Americans</td>\n",
       "      <td>Ice Cube</td>\n",
       "    </tr>\n",
       "    <tr>\n",
       "      <th>3</th>\n",
       "      <td>975900</td>\n",
       "      <td>/m/03vyhn</td>\n",
       "      <td>2001-08-24</td>\n",
       "      <td>Sgt Jericho Butler</td>\n",
       "      <td>1967-09-12</td>\n",
       "      <td>M</td>\n",
       "      <td>1.750</td>\n",
       "      <td>33.0</td>\n",
       "      <td>/m/02vchl6</td>\n",
       "      <td>/m/0bgchnq</td>\n",
       "      <td>NaN</td>\n",
       "      <td>Jason Statham</td>\n",
       "    </tr>\n",
       "    <tr>\n",
       "      <th>4</th>\n",
       "      <td>975900</td>\n",
       "      <td>/m/03vyhn</td>\n",
       "      <td>2001-08-24</td>\n",
       "      <td>Bashira Kincaid</td>\n",
       "      <td>1977-09-25</td>\n",
       "      <td>F</td>\n",
       "      <td>1.650</td>\n",
       "      <td>23.0</td>\n",
       "      <td>/m/02vbb3r</td>\n",
       "      <td>/m/0bgchp9</td>\n",
       "      <td>NaN</td>\n",
       "      <td>Clea DuVall</td>\n",
       "    </tr>\n",
       "  </tbody>\n",
       "</table>\n",
       "</div>"
      ],
      "text/plain": [
       "   WikiMovieID FreeMovieID ReleaseDate                    CharName  \\\n",
       "0       975900   /m/03vyhn  2001-08-24                    Akooshay   \n",
       "1       975900   /m/03vyhn  2001-08-24  Lieutenant Melanie Ballard   \n",
       "2       975900   /m/03vyhn  2001-08-24         Desolation Williams   \n",
       "3       975900   /m/03vyhn  2001-08-24          Sgt Jericho Butler   \n",
       "4       975900   /m/03vyhn  2001-08-24             Bashira Kincaid   \n",
       "\n",
       "     ActorDOB ActorGender  ActorHeight  ActorAgeRelease   FreeMapID  \\\n",
       "0  1958-08-26           F        1.620             42.0  /m/0bgchxw   \n",
       "1  1974-08-15           F        1.780             27.0   /m/0jys3m   \n",
       "2  1969-06-15           M        1.727             32.0   /m/0jys3g   \n",
       "3  1967-09-12           M        1.750             33.0  /m/02vchl6   \n",
       "4  1977-09-25           F        1.650             23.0  /m/02vbb3r   \n",
       "\n",
       "   FreeCharID      EthnicityName           ActorName  \n",
       "0  /m/0bgcj3x                NaN      Wanda De Jesus  \n",
       "1  /m/0bgchn4                NaN  Natasha Henstridge  \n",
       "2  /m/0bgchn_  African Americans            Ice Cube  \n",
       "3  /m/0bgchnq                NaN       Jason Statham  \n",
       "4  /m/0bgchp9                NaN         Clea DuVall  "
      ]
     },
     "execution_count": 41,
     "metadata": {},
     "output_type": "execute_result"
    }
   ],
   "source": [
    "characters.head()"
   ]
  },
  {
   "cell_type": "markdown",
   "id": "0a1ff7ff-fa2e-42ad-9ed4-2034883992cf",
   "metadata": {},
   "source": [
    "From wikidata actor page,\n",
    "- sex/gender (P21) is given as : male (Q6581097), female (Q6581072), intersex (Q1097630), transgender female (Q1052281), transgender male (Q2449503).\n",
    "- date of birth (P569) is given as : Day of the month as a zero-padded decimal number, blank space, Month full name, blank space, Year with century as a decimal number. To recover the date of birth in the same format as the ones in the characters dataset, we must read the date given by wikidata without the blank spaces and then use datetime to format it correctly. See example just below :"
   ]
  },
  {
   "cell_type": "code",
   "execution_count": 42,
   "id": "36a0cff1-6ba4-474d-b5bc-a294c23ed2b5",
   "metadata": {},
   "outputs": [
    {
     "name": "stdout",
     "output_type": "stream",
     "text": [
      "1949-12-26\n"
     ]
    }
   ],
   "source": [
    "wiki_date = '26 December 1949'\n",
    "no_space = wiki_date.replace(\" \", \"\")\n",
    "date = datetime.strptime(no_space, '%d''%B''%Y')\n",
    "formated_date = '{:%Y-%m-%d}'.format(date)\n",
    "print(formated_date)"
   ]
  },
  {
   "cell_type": "markdown",
   "id": "99c72edb-fdf2-4742-a7dd-e077a114227c",
   "metadata": {},
   "source": [
    "We later decided that we won't use the actors information, so we didn't push further and didn't recover missing DOB or genders."
   ]
  },
  {
   "cell_type": "markdown",
   "id": "724dc2a8-2446-4003-9b9c-f31238c2e0d2",
   "metadata": {},
   "source": [
    "### Saving out results\n",
    "\n",
    "Extracting from wikidata takes a few minutes so we can save our final `characters` dataframe in case we want to use that directly in further applications."
   ]
  },
  {
   "cell_type": "code",
   "execution_count": 43,
   "id": "458cfe9d-6c87-4541-a457-c7c295193c2f",
   "metadata": {},
   "outputs": [],
   "source": [
    "import os  \n",
    "os.makedirs('data', exist_ok=True)  \n",
    "characters.to_csv('data/characters_aug.tsv', sep=\"\\t\", index=False)"
   ]
  },
  {
   "cell_type": "markdown",
   "id": "3e208e80-1c18-4afc-bb51-37adcb4328c0",
   "metadata": {
    "tags": []
   },
   "source": [
    "# 2. Plot Summaries   <a id='2'></a>"
   ]
  },
  {
   "cell_type": "code",
   "execution_count": 44,
   "id": "938a8bbd-bf5e-4141-b3e3-62028a00e8ec",
   "metadata": {},
   "outputs": [],
   "source": [
    "characters = pd.read_csv('data/characters_aug.tsv.gz', sep='\\t', header=0, index_col=None)"
   ]
  },
  {
   "cell_type": "markdown",
   "id": "30072752-ead7-483a-8d8c-a3f38afcf8d1",
   "metadata": {
    "tags": []
   },
   "source": [
    "## 2.1 Preprocessing  <a id='2.1'></a>"
   ]
  },
  {
   "cell_type": "markdown",
   "id": "34ab965d-13b5-4a01-8f76-ea5aed8073d9",
   "metadata": {
    "jp-MarkdownHeadingCollapsed": true,
    "tags": []
   },
   "source": [
    "### 2.1.1 Integration with movies dataset"
   ]
  },
  {
   "cell_type": "markdown",
   "id": "a5a6f99c-716b-4761-a77f-83bfa1dc2c84",
   "metadata": {},
   "source": [
    "The plot summaries are loaded from the file `plot_summaries.txt` and added to the `movies` dataset according to the Wikipedia movie ID, `WikiMovieID`. "
   ]
  },
  {
   "cell_type": "code",
   "execution_count": 45,
   "id": "3de7d08f-589c-4546-89eb-0f8b3250b212",
   "metadata": {},
   "outputs": [
    {
     "data": {
      "text/html": [
       "<div>\n",
       "<style scoped>\n",
       "    .dataframe tbody tr th:only-of-type {\n",
       "        vertical-align: middle;\n",
       "    }\n",
       "\n",
       "    .dataframe tbody tr th {\n",
       "        vertical-align: top;\n",
       "    }\n",
       "\n",
       "    .dataframe thead th {\n",
       "        text-align: right;\n",
       "    }\n",
       "</style>\n",
       "<table border=\"1\" class=\"dataframe\">\n",
       "  <thead>\n",
       "    <tr style=\"text-align: right;\">\n",
       "      <th></th>\n",
       "      <th>WikiMovieID</th>\n",
       "      <th>Plot</th>\n",
       "    </tr>\n",
       "  </thead>\n",
       "  <tbody>\n",
       "    <tr>\n",
       "      <th>0</th>\n",
       "      <td>23890098</td>\n",
       "      <td>Shlykov, a hard-working taxi driver and Lyosha...</td>\n",
       "    </tr>\n",
       "    <tr>\n",
       "      <th>1</th>\n",
       "      <td>31186339</td>\n",
       "      <td>The nation of Panem consists of a wealthy Capi...</td>\n",
       "    </tr>\n",
       "    <tr>\n",
       "      <th>2</th>\n",
       "      <td>20663735</td>\n",
       "      <td>Poovalli Induchoodan  is sentenced for six yea...</td>\n",
       "    </tr>\n",
       "  </tbody>\n",
       "</table>\n",
       "</div>"
      ],
      "text/plain": [
       "   WikiMovieID                                               Plot\n",
       "0     23890098  Shlykov, a hard-working taxi driver and Lyosha...\n",
       "1     31186339  The nation of Panem consists of a wealthy Capi...\n",
       "2     20663735  Poovalli Induchoodan  is sentenced for six yea..."
      ]
     },
     "execution_count": 45,
     "metadata": {},
     "output_type": "execute_result"
    }
   ],
   "source": [
    "plot_summaries = pd.read_csv('data/plot_summaries.txt', sep=\"\\t\", header=None,names=[\"WikiMovieID\", \"Plot\"])\n",
    "plot_summaries.head(3)"
   ]
  },
  {
   "cell_type": "code",
   "execution_count": 48,
   "id": "c8b84dec-c017-4626-bc9b-f5d6c3154251",
   "metadata": {},
   "outputs": [],
   "source": [
    "# TO DELETE\n",
    "# I moved the merging after the preprocessing cause with the nan values were creating problems\n",
    "#movies = movies.merge(plot_summaries, how=\"left\", on='WikiMovieID') Merging to be moved after preprocessing"
   ]
  },
  {
   "cell_type": "code",
   "execution_count": 49,
   "id": "bd33e58d-6891-4948-8191-4a7e95c757fc",
   "metadata": {},
   "outputs": [
    {
     "data": {
      "text/html": [
       "<div>\n",
       "<style scoped>\n",
       "    .dataframe tbody tr th:only-of-type {\n",
       "        vertical-align: middle;\n",
       "    }\n",
       "\n",
       "    .dataframe tbody tr th {\n",
       "        vertical-align: top;\n",
       "    }\n",
       "\n",
       "    .dataframe thead th {\n",
       "        text-align: right;\n",
       "    }\n",
       "</style>\n",
       "<table border=\"1\" class=\"dataframe\">\n",
       "  <thead>\n",
       "    <tr style=\"text-align: right;\">\n",
       "      <th></th>\n",
       "      <th>WikiMovieID</th>\n",
       "      <th>FreeMovieID</th>\n",
       "      <th>Title</th>\n",
       "      <th>ReleaseDate</th>\n",
       "      <th>Revenue</th>\n",
       "      <th>Runtime</th>\n",
       "      <th>Languages</th>\n",
       "      <th>Countries</th>\n",
       "      <th>Genres</th>\n",
       "      <th>Plot</th>\n",
       "    </tr>\n",
       "  </thead>\n",
       "  <tbody>\n",
       "    <tr>\n",
       "      <th>0</th>\n",
       "      <td>975900</td>\n",
       "      <td>/m/03vyhn</td>\n",
       "      <td>Ghosts of Mars</td>\n",
       "      <td>2001-08-24</td>\n",
       "      <td>14010832.0</td>\n",
       "      <td>98.0</td>\n",
       "      <td>[English Language]</td>\n",
       "      <td>[United States of America]</td>\n",
       "      <td>[Thriller, Science Fiction, Horror, Adventure,...</td>\n",
       "      <td>Set in the second half of the 22nd century, th...</td>\n",
       "    </tr>\n",
       "    <tr>\n",
       "      <th>1</th>\n",
       "      <td>3196793</td>\n",
       "      <td>/m/08yl5d</td>\n",
       "      <td>Getting Away with Murder: The JonBenét Ramsey ...</td>\n",
       "      <td>2000-02-16</td>\n",
       "      <td>NaN</td>\n",
       "      <td>95.0</td>\n",
       "      <td>[English Language]</td>\n",
       "      <td>[United States of America]</td>\n",
       "      <td>[Mystery, Biographical film, Drama, Crime Drama]</td>\n",
       "      <td>NaN</td>\n",
       "    </tr>\n",
       "    <tr>\n",
       "      <th>2</th>\n",
       "      <td>28463795</td>\n",
       "      <td>/m/0crgdbh</td>\n",
       "      <td>Brun bitter</td>\n",
       "      <td>1988</td>\n",
       "      <td>NaN</td>\n",
       "      <td>83.0</td>\n",
       "      <td>[Norwegian Language]</td>\n",
       "      <td>[Norway]</td>\n",
       "      <td>[Crime Fiction, Drama]</td>\n",
       "      <td>NaN</td>\n",
       "    </tr>\n",
       "  </tbody>\n",
       "</table>\n",
       "</div>"
      ],
      "text/plain": [
       "   WikiMovieID FreeMovieID                                              Title  \\\n",
       "0       975900   /m/03vyhn                                     Ghosts of Mars   \n",
       "1      3196793   /m/08yl5d  Getting Away with Murder: The JonBenét Ramsey ...   \n",
       "2     28463795  /m/0crgdbh                                        Brun bitter   \n",
       "\n",
       "  ReleaseDate     Revenue  Runtime             Languages  \\\n",
       "0  2001-08-24  14010832.0     98.0    [English Language]   \n",
       "1  2000-02-16         NaN     95.0    [English Language]   \n",
       "2        1988         NaN     83.0  [Norwegian Language]   \n",
       "\n",
       "                    Countries  \\\n",
       "0  [United States of America]   \n",
       "1  [United States of America]   \n",
       "2                    [Norway]   \n",
       "\n",
       "                                              Genres  \\\n",
       "0  [Thriller, Science Fiction, Horror, Adventure,...   \n",
       "1   [Mystery, Biographical film, Drama, Crime Drama]   \n",
       "2                             [Crime Fiction, Drama]   \n",
       "\n",
       "                                                Plot  \n",
       "0  Set in the second half of the 22nd century, th...  \n",
       "1                                                NaN  \n",
       "2                                                NaN  "
      ]
     },
     "execution_count": 49,
     "metadata": {},
     "output_type": "execute_result"
    }
   ],
   "source": [
    "movies.head(3)"
   ]
  },
  {
   "cell_type": "markdown",
   "id": "7fcc40ac-b6c3-4f35-b6b8-06315720013f",
   "metadata": {
    "jp-MarkdownHeadingCollapsed": true,
    "tags": []
   },
   "source": [
    "### 2.1.2 Missing plot summaries check  <a id='2.2'></a>"
   ]
  },
  {
   "cell_type": "code",
   "execution_count": 51,
   "id": "c977ae7e-73de-4050-a1bb-431cddb21afb",
   "metadata": {},
   "outputs": [
    {
     "name": "stdout",
     "output_type": "stream",
     "text": [
      "Number of missing plot summary: 48.37%\n"
     ]
    }
   ],
   "source": [
    "print('Number of missing plot summary: {:.2f}%'.format(movies.Plot.isna().sum()/len(movies)*100))"
   ]
  },
  {
   "cell_type": "markdown",
   "id": "672e1869-5dac-4868-94fe-1d5237a3c8cc",
   "metadata": {},
   "source": [
    "We can see that we don't have the plot summary for about half of the movies."
   ]
  },
  {
   "cell_type": "markdown",
   "id": "297535d8-5248-4f1c-9f47-eef7ba1a8e11",
   "metadata": {
    "jp-MarkdownHeadingCollapsed": true,
    "tags": []
   },
   "source": [
    "### 2.1.3 Cleaning"
   ]
  },
  {
   "cell_type": "markdown",
   "id": "623196e8-1547-49b9-960a-c1b54bf15b7f",
   "metadata": {},
   "source": [
    "We detect the langage used in the plot summary and keep only the ones written in English."
   ]
  },
  {
   "cell_type": "code",
   "execution_count": 64,
   "id": "a13865d5-1993-416d-8903-b03d7335da0b",
   "metadata": {},
   "outputs": [
    {
     "data": {
      "text/html": [
       "<div>\n",
       "<style scoped>\n",
       "    .dataframe tbody tr th:only-of-type {\n",
       "        vertical-align: middle;\n",
       "    }\n",
       "\n",
       "    .dataframe tbody tr th {\n",
       "        vertical-align: top;\n",
       "    }\n",
       "\n",
       "    .dataframe thead th {\n",
       "        text-align: right;\n",
       "    }\n",
       "</style>\n",
       "<table border=\"1\" class=\"dataframe\">\n",
       "  <thead>\n",
       "    <tr style=\"text-align: right;\">\n",
       "      <th></th>\n",
       "      <th>WikiMovieID</th>\n",
       "      <th>FreeMovieID</th>\n",
       "      <th>Title</th>\n",
       "      <th>ReleaseDate</th>\n",
       "      <th>Revenue</th>\n",
       "      <th>Runtime</th>\n",
       "      <th>Languages</th>\n",
       "      <th>Countries</th>\n",
       "      <th>Genres</th>\n",
       "      <th>Plot</th>\n",
       "    </tr>\n",
       "  </thead>\n",
       "  <tbody>\n",
       "    <tr>\n",
       "      <th>0</th>\n",
       "      <td>975900</td>\n",
       "      <td>/m/03vyhn</td>\n",
       "      <td>Ghosts of Mars</td>\n",
       "      <td>2001-08-24</td>\n",
       "      <td>14010832.0</td>\n",
       "      <td>98.0</td>\n",
       "      <td>[English Language]</td>\n",
       "      <td>[United States of America]</td>\n",
       "      <td>[Thriller, Science Fiction, Horror, Adventure,...</td>\n",
       "      <td>Set in the second half of the 22nd century, th...</td>\n",
       "    </tr>\n",
       "    <tr>\n",
       "      <th>1</th>\n",
       "      <td>3196793</td>\n",
       "      <td>/m/08yl5d</td>\n",
       "      <td>Getting Away with Murder: The JonBenét Ramsey ...</td>\n",
       "      <td>2000-02-16</td>\n",
       "      <td>NaN</td>\n",
       "      <td>95.0</td>\n",
       "      <td>[English Language]</td>\n",
       "      <td>[United States of America]</td>\n",
       "      <td>[Mystery, Biographical film, Drama, Crime Drama]</td>\n",
       "      <td>NaN</td>\n",
       "    </tr>\n",
       "    <tr>\n",
       "      <th>2</th>\n",
       "      <td>28463795</td>\n",
       "      <td>/m/0crgdbh</td>\n",
       "      <td>Brun bitter</td>\n",
       "      <td>1988</td>\n",
       "      <td>NaN</td>\n",
       "      <td>83.0</td>\n",
       "      <td>[Norwegian Language]</td>\n",
       "      <td>[Norway]</td>\n",
       "      <td>[Crime Fiction, Drama]</td>\n",
       "      <td>NaN</td>\n",
       "    </tr>\n",
       "    <tr>\n",
       "      <th>3</th>\n",
       "      <td>9363483</td>\n",
       "      <td>/m/0285_cd</td>\n",
       "      <td>White Of The Eye</td>\n",
       "      <td>1987</td>\n",
       "      <td>NaN</td>\n",
       "      <td>110.0</td>\n",
       "      <td>[English Language]</td>\n",
       "      <td>[United Kingdom]</td>\n",
       "      <td>[Thriller, Erotic thriller, Psychological thri...</td>\n",
       "      <td>A series of murders of rich young women throug...</td>\n",
       "    </tr>\n",
       "    <tr>\n",
       "      <th>4</th>\n",
       "      <td>261236</td>\n",
       "      <td>/m/01mrr1</td>\n",
       "      <td>A Woman in Flames</td>\n",
       "      <td>1983</td>\n",
       "      <td>NaN</td>\n",
       "      <td>106.0</td>\n",
       "      <td>[German Language]</td>\n",
       "      <td>[Germany]</td>\n",
       "      <td>[Drama]</td>\n",
       "      <td>Eva, an upper class housewife, becomes frustra...</td>\n",
       "    </tr>\n",
       "  </tbody>\n",
       "</table>\n",
       "</div>"
      ],
      "text/plain": [
       "   WikiMovieID FreeMovieID                                              Title  \\\n",
       "0       975900   /m/03vyhn                                     Ghosts of Mars   \n",
       "1      3196793   /m/08yl5d  Getting Away with Murder: The JonBenét Ramsey ...   \n",
       "2     28463795  /m/0crgdbh                                        Brun bitter   \n",
       "3      9363483  /m/0285_cd                                   White Of The Eye   \n",
       "4       261236   /m/01mrr1                                  A Woman in Flames   \n",
       "\n",
       "  ReleaseDate     Revenue  Runtime             Languages  \\\n",
       "0  2001-08-24  14010832.0     98.0    [English Language]   \n",
       "1  2000-02-16         NaN     95.0    [English Language]   \n",
       "2        1988         NaN     83.0  [Norwegian Language]   \n",
       "3        1987         NaN    110.0    [English Language]   \n",
       "4        1983         NaN    106.0     [German Language]   \n",
       "\n",
       "                    Countries  \\\n",
       "0  [United States of America]   \n",
       "1  [United States of America]   \n",
       "2                    [Norway]   \n",
       "3            [United Kingdom]   \n",
       "4                   [Germany]   \n",
       "\n",
       "                                              Genres  \\\n",
       "0  [Thriller, Science Fiction, Horror, Adventure,...   \n",
       "1   [Mystery, Biographical film, Drama, Crime Drama]   \n",
       "2                             [Crime Fiction, Drama]   \n",
       "3  [Thriller, Erotic thriller, Psychological thri...   \n",
       "4                                            [Drama]   \n",
       "\n",
       "                                                Plot  \n",
       "0  Set in the second half of the 22nd century, th...  \n",
       "1                                                NaN  \n",
       "2                                                NaN  \n",
       "3  A series of murders of rich young women throug...  \n",
       "4  Eva, an upper class housewife, becomes frustra...  "
      ]
     },
     "execution_count": 64,
     "metadata": {},
     "output_type": "execute_result"
    }
   ],
   "source": [
    "movies.head()"
   ]
  },
  {
   "cell_type": "code",
   "execution_count": 66,
   "id": "8e5064ec-67fc-4beb-b1ac-a72fc0bf4dd8",
   "metadata": {},
   "outputs": [
    {
     "data": {
      "application/vnd.jupyter.widget-view+json": {
       "model_id": "acf2ad041c824f719bc983bd4b124e97",
       "version_major": 2,
       "version_minor": 0
      },
      "text/plain": [
       "  0%|          | 0/42303 [00:00<?, ?it/s]"
      ]
     },
     "metadata": {},
     "output_type": "display_data"
    }
   ],
   "source": [
    "plot_summaries['lang'] = plot_summaries.Plot.progress_apply(detect)"
   ]
  },
  {
   "cell_type": "code",
   "execution_count": 68,
   "id": "5368064f-690d-4a99-8f4f-1ec484d05c89",
   "metadata": {},
   "outputs": [
    {
     "data": {
      "text/plain": [
       "en    42276\n",
       "id       13\n",
       "es        6\n",
       "de        3\n",
       "sw        2\n",
       "sv        1\n",
       "tl        1\n",
       "fr        1\n",
       "Name: lang, dtype: int64"
      ]
     },
     "execution_count": 68,
     "metadata": {},
     "output_type": "execute_result"
    }
   ],
   "source": [
    "plot_summaries.lang.value_counts()"
   ]
  },
  {
   "cell_type": "code",
   "execution_count": 69,
   "id": "02f39905-64a4-4e73-bc2c-b48cf0b101bf",
   "metadata": {
    "tags": []
   },
   "outputs": [],
   "source": [
    "plot_summaries = plot_summaries.loc[plot_summaries.lang=='en']"
   ]
  },
  {
   "cell_type": "markdown",
   "id": "c7dbd99a-58ef-4c9a-bab0-f99361821578",
   "metadata": {
    "jp-MarkdownHeadingCollapsed": true,
    "tags": []
   },
   "source": [
    "### 2.1.4 Tokenization"
   ]
  },
  {
   "cell_type": "markdown",
   "id": "7d2240d8-0af2-47e3-950a-da5c7c37225d",
   "metadata": {},
   "source": [
    "Tokenizers are used to divide strings into lists of substrings. For each `Plot` in `movies` dataset, a list of words and punctuation stored in the `words_punc` column, a list of sentences in `sentences` and a list of tokenized sentences `tokens_sentences`."
   ]
  },
  {
   "cell_type": "code",
   "execution_count": 70,
   "id": "3c8320bc-6d94-4015-9738-4075777160a9",
   "metadata": {},
   "outputs": [
    {
     "data": {
      "application/vnd.jupyter.widget-view+json": {
       "model_id": "3e872eff0b614494b1c310d5dd5051b0",
       "version_major": 2,
       "version_minor": 0
      },
      "text/plain": [
       "  0%|          | 0/42276 [00:00<?, ?it/s]"
      ]
     },
     "metadata": {},
     "output_type": "display_data"
    },
    {
     "data": {
      "application/vnd.jupyter.widget-view+json": {
       "model_id": "99882898f8b34e05b056c6badd26fd63",
       "version_major": 2,
       "version_minor": 0
      },
      "text/plain": [
       "  0%|          | 0/42276 [00:00<?, ?it/s]"
      ]
     },
     "metadata": {},
     "output_type": "display_data"
    },
    {
     "data": {
      "application/vnd.jupyter.widget-view+json": {
       "model_id": "05ad9071b6824596aae6bcffd96312e4",
       "version_major": 2,
       "version_minor": 0
      },
      "text/plain": [
       "  0%|          | 0/42276 [00:00<?, ?it/s]"
      ]
     },
     "metadata": {},
     "output_type": "display_data"
    }
   ],
   "source": [
    "plot_summaries['words_punc'] = plot_summaries.Plot.progress_apply(lambda x: word_tokenize(x))\n",
    "plot_summaries['sentences'] = plot_summaries.Plot.progress_apply(lambda x: sent_tokenize(x))\n",
    "plot_summaries['tokens_sentences'] = plot_summaries['sentences'].progress_apply(lambda sentences: [word_tokenize(sentence) for sentence in sentences])"
   ]
  },
  {
   "cell_type": "markdown",
   "id": "c3480569-a0da-4411-819b-fc5589470cd1",
   "metadata": {
    "jp-MarkdownHeadingCollapsed": true,
    "tags": []
   },
   "source": [
    "### 2.1.5 PoS tagging"
   ]
  },
  {
   "cell_type": "markdown",
   "id": "6f248f5b-3a1d-4f10-b38d-000d89a10280",
   "metadata": {},
   "source": [
    "Part-of-speech (POS) tagging is a popular Natural Language Processing process which refers to categorizing words in a text (corpus) in correspondence with a particular part of speech, depending on the definition of the word and its context. POS tags from the *Penn Treebank* tagset [https://www.ling.upenn.edu/courses/Fall_2003/ling001/penn_treebank_pos.html] are used to describe the lexical terms that we have within our plots."
   ]
  },
  {
   "cell_type": "code",
   "execution_count": 71,
   "id": "8efbb617-f3c6-4db2-a720-7f103b77e39c",
   "metadata": {},
   "outputs": [
    {
     "data": {
      "application/vnd.jupyter.widget-view+json": {
       "model_id": "6fb43492254a484faf099362bae96b1c",
       "version_major": 2,
       "version_minor": 0
      },
      "text/plain": [
       "  0%|          | 0/42276 [00:00<?, ?it/s]"
      ]
     },
     "metadata": {},
     "output_type": "display_data"
    },
    {
     "data": {
      "text/plain": [
       "0    [[(Shlykov, NNP), (,, ,), (a, DT), (hard-worki...\n",
       "1    [[(The, DT), (nation, NN), (of, IN), (Panem, N...\n",
       "2    [[(Poovalli, NNP), (Induchoodan, NNP), (is, VB...\n",
       "Name: POS_tokens, dtype: object"
      ]
     },
     "execution_count": 71,
     "metadata": {},
     "output_type": "execute_result"
    }
   ],
   "source": [
    "plot_summaries['POS_tokens'] = plot_summaries['tokens_sentences'].progress_apply(lambda tokens_sentences: [pos_tag(tokens) for tokens in tokens_sentences])\n",
    "\n",
    "plot_summaries['POS_tokens'].head(3)"
   ]
  },
  {
   "cell_type": "markdown",
   "id": "78d8cd32-af13-4fcb-94e2-b21d12a5a209",
   "metadata": {
    "jp-MarkdownHeadingCollapsed": true,
    "tags": []
   },
   "source": [
    "### 2.1.6 Lemmatization"
   ]
  },
  {
   "cell_type": "markdown",
   "id": "5e2590bf-6a0f-499d-a129-13412664b216",
   "metadata": {},
   "source": [
    "Lemmatization is the process of grouping together the different inflected forms of a word so they can be analyzed as a single item. It links words with similar meanings to one word. "
   ]
  },
  {
   "cell_type": "code",
   "execution_count": null,
   "id": "935d8713-bfc7-42fe-a6a5-2d01c7f79076",
   "metadata": {},
   "outputs": [],
   "source": [
    "#Question: As it was before : Here we're not really ding 'lemmatization' as described above, is it another definition of lematization, just getting the pos is already lemmatization ?"
   ]
  },
  {
   "cell_type": "code",
   "execution_count": 72,
   "id": "feae3149-a293-4529-8638-f1ec07b2da65",
   "metadata": {},
   "outputs": [],
   "source": [
    "def get_wordnet_pos(treebank_tag):\n",
    "\n",
    "    if treebank_tag.startswith('J'):\n",
    "        return wordnet.ADJ\n",
    "    elif treebank_tag.startswith('V'):\n",
    "        return wordnet.VERB\n",
    "    elif treebank_tag.startswith('N'):\n",
    "        return wordnet.NOUN\n",
    "    elif treebank_tag.startswith('R'):\n",
    "        return wordnet.ADV\n",
    "    else:\n",
    "        return ''"
   ]
  },
  {
   "cell_type": "code",
   "execution_count": 79,
   "id": "9f2ca811-7ac5-4e12-a359-291d28e1aa2c",
   "metadata": {},
   "outputs": [
    {
     "data": {
      "application/vnd.jupyter.widget-view+json": {
       "model_id": "eb5cb80d272d403fb992402a18fd9895",
       "version_major": 2,
       "version_minor": 0
      },
      "text/plain": [
       "  0%|          | 0/42276 [00:00<?, ?it/s]"
      ]
     },
     "metadata": {},
     "output_type": "display_data"
    },
    {
     "data": {
      "text/html": [
       "<div>\n",
       "<style scoped>\n",
       "    .dataframe tbody tr th:only-of-type {\n",
       "        vertical-align: middle;\n",
       "    }\n",
       "\n",
       "    .dataframe tbody tr th {\n",
       "        vertical-align: top;\n",
       "    }\n",
       "\n",
       "    .dataframe thead th {\n",
       "        text-align: right;\n",
       "    }\n",
       "</style>\n",
       "<table border=\"1\" class=\"dataframe\">\n",
       "  <thead>\n",
       "    <tr style=\"text-align: right;\">\n",
       "      <th></th>\n",
       "      <th>Plot</th>\n",
       "      <th>tokens_sentences_lemmatized</th>\n",
       "    </tr>\n",
       "  </thead>\n",
       "  <tbody>\n",
       "    <tr>\n",
       "      <th>0</th>\n",
       "      <td>Shlykov, a hard-working taxi driver and Lyosha...</td>\n",
       "      <td>[[Shlykov, ,, a, hard-working, taxi, driver, a...</td>\n",
       "    </tr>\n",
       "    <tr>\n",
       "      <th>1</th>\n",
       "      <td>The nation of Panem consists of a wealthy Capi...</td>\n",
       "      <td>[[The, nation, of, Panem, consist, of, a, weal...</td>\n",
       "    </tr>\n",
       "    <tr>\n",
       "      <th>2</th>\n",
       "      <td>Poovalli Induchoodan  is sentenced for six yea...</td>\n",
       "      <td>[[Poovalli, Induchoodan, be, sentence, for, si...</td>\n",
       "    </tr>\n",
       "  </tbody>\n",
       "</table>\n",
       "</div>"
      ],
      "text/plain": [
       "                                                Plot  \\\n",
       "0  Shlykov, a hard-working taxi driver and Lyosha...   \n",
       "1  The nation of Panem consists of a wealthy Capi...   \n",
       "2  Poovalli Induchoodan  is sentenced for six yea...   \n",
       "\n",
       "                         tokens_sentences_lemmatized  \n",
       "0  [[Shlykov, ,, a, hard-working, taxi, driver, a...  \n",
       "1  [[The, nation, of, Panem, consist, of, a, weal...  \n",
       "2  [[Poovalli, Induchoodan, be, sentence, for, si...  "
      ]
     },
     "execution_count": 79,
     "metadata": {},
     "output_type": "execute_result"
    }
   ],
   "source": [
    "lemmatizer = WordNetLemmatizer()\n",
    "\n",
    "# Lemmatizing each word with its POS tag, in each sentence\n",
    "plot_summaries['tokens_sentences_lemmatized'] = plot_summaries['POS_tokens'].progress_apply(\n",
    "    lambda list_tokens_POS: [\n",
    "        [\n",
    "            lemmatizer.lemmatize(el[0], get_wordnet_pos(el[1])) \n",
    "            if get_wordnet_pos(el[1]) != '' else el[0] for el in tokens_POS\n",
    "        ] \n",
    "        for tokens_POS in list_tokens_POS\n",
    "    ]\n",
    ")\n",
    "\n",
    "plot_summaries[['Plot','tokens_sentences_lemmatized']].head(3)"
   ]
  },
  {
   "cell_type": "markdown",
   "id": "d959291d-98a0-413a-8bef-ae7d8bbfecbc",
   "metadata": {
    "jp-MarkdownHeadingCollapsed": true,
    "tags": []
   },
   "source": [
    "### 2.1.7 Regrouping tokens and removing stop words"
   ]
  },
  {
   "cell_type": "markdown",
   "id": "6c8e0825-8d52-4292-aa98-99ccb94a80fd",
   "metadata": {},
   "source": [
    "What we have seen is that the names of the characters in the plot summaries create a lot of unwanted noise which in turn disturbs greatly our results in the topic extraction methods.Therefore, we introduce the [name-dataset](https://pypi.org/project/names-dataset/), which used a Facebook dump to create a first and last name database. From there  we extract the top 1000 first names for each gender and use them as stopwords. "
   ]
  },
  {
   "cell_type": "code",
   "execution_count": 80,
   "id": "5c51736a-77a4-4281-bde8-8ec1ad75a3bc",
   "metadata": {},
   "outputs": [],
   "source": [
    "nd = NameDataset()\n",
    "names = nd.get_top_names(n=2000, country_alpha2=\"US\")\n",
    "names = names[\"US\"][\"M\"] + names[\"US\"][\"F\"]\n",
    "names = [name.lower() for name in names]"
   ]
  },
  {
   "cell_type": "code",
   "execution_count": 81,
   "id": "a9cf2073-14a1-49fa-9fc4-fb7610b283e5",
   "metadata": {},
   "outputs": [
    {
     "data": {
      "application/vnd.jupyter.widget-view+json": {
       "model_id": "12e4f96a47d94e8eb54a0d9c9f5acbfc",
       "version_major": 2,
       "version_minor": 0
      },
      "text/plain": [
       "  0%|          | 0/42276 [00:00<?, ?it/s]"
      ]
     },
     "metadata": {},
     "output_type": "display_data"
    }
   ],
   "source": [
    "# Words gathered after running the LDA model and collecting the words appearing in more than 4 topics \n",
    "stops = [\"one\", \"two\", \"also\", \"see\", \"take\", \"get\", \"find\", \"try\", \"however\", \"go\", \"come\", \"leave\", \"become\", \"make\", \"back\", \"run\"]\n",
    "my_stopwords = stopwords.words('English') + names + stops\n",
    "\n",
    "plot_summaries['tokens'] = plot_summaries['tokens_sentences_lemmatized'].progress_apply(lambda sentences: list(chain.from_iterable(sentences)))"
   ]
  },
  {
   "cell_type": "code",
   "execution_count": 82,
   "id": "b6b6738f-1861-4312-84a0-8be263271a0a",
   "metadata": {},
   "outputs": [
    {
     "data": {
      "application/vnd.jupyter.widget-view+json": {
       "model_id": "60f1ead1e2c144b7ac156c2902433a7e",
       "version_major": 2,
       "version_minor": 0
      },
      "text/plain": [
       "  0%|          | 0/42276 [00:00<?, ?it/s]"
      ]
     },
     "metadata": {},
     "output_type": "display_data"
    }
   ],
   "source": [
    "plot_summaries['tokens'] = plot_summaries['tokens'].progress_apply(lambda tokens: [token.lower() for token in tokens if token.isalpha() \n",
    "                                                    and token.lower() not in my_stopwords and len(token)>1])"
   ]
  },
  {
   "cell_type": "markdown",
   "id": "a7a4e523-5cd6-43f9-ab04-e716c668a053",
   "metadata": {
    "tags": []
   },
   "source": [
    "### 2.1.8 Preprocessing results"
   ]
  },
  {
   "cell_type": "code",
   "execution_count": 89,
   "id": "2ac2fb2e-1ac2-4e5b-ab1c-43eda31459a6",
   "metadata": {},
   "outputs": [],
   "source": [
    "movies = movies.merge(plot_summaries, how=\"left\", on='WikiMovieID') "
   ]
  },
  {
   "cell_type": "code",
   "execution_count": 90,
   "id": "b8a54ffe-4c48-428f-8be6-21e34ba58aeb",
   "metadata": {},
   "outputs": [
    {
     "data": {
      "text/html": [
       "<div>\n",
       "<style scoped>\n",
       "    .dataframe tbody tr th:only-of-type {\n",
       "        vertical-align: middle;\n",
       "    }\n",
       "\n",
       "    .dataframe tbody tr th {\n",
       "        vertical-align: top;\n",
       "    }\n",
       "\n",
       "    .dataframe thead th {\n",
       "        text-align: right;\n",
       "    }\n",
       "</style>\n",
       "<table border=\"1\" class=\"dataframe\">\n",
       "  <thead>\n",
       "    <tr style=\"text-align: right;\">\n",
       "      <th></th>\n",
       "      <th>Plot</th>\n",
       "      <th>tokens</th>\n",
       "    </tr>\n",
       "  </thead>\n",
       "  <tbody>\n",
       "    <tr>\n",
       "      <th>0</th>\n",
       "      <td>Set in the second half of the 22nd century, th...</td>\n",
       "      <td>[set, second, half, century, film, depict, mar...</td>\n",
       "    </tr>\n",
       "    <tr>\n",
       "      <th>1</th>\n",
       "      <td>NaN</td>\n",
       "      <td>NaN</td>\n",
       "    </tr>\n",
       "    <tr>\n",
       "      <th>2</th>\n",
       "      <td>NaN</td>\n",
       "      <td>NaN</td>\n",
       "    </tr>\n",
       "  </tbody>\n",
       "</table>\n",
       "</div>"
      ],
      "text/plain": [
       "                                                Plot  \\\n",
       "0  Set in the second half of the 22nd century, th...   \n",
       "1                                                NaN   \n",
       "2                                                NaN   \n",
       "\n",
       "                                              tokens  \n",
       "0  [set, second, half, century, film, depict, mar...  \n",
       "1                                                NaN  \n",
       "2                                                NaN  "
      ]
     },
     "execution_count": 90,
     "metadata": {},
     "output_type": "execute_result"
    }
   ],
   "source": [
    "movies[['Plot','tokens']].head(3)"
   ]
  },
  {
   "cell_type": "code",
   "execution_count": 91,
   "id": "c5d9f427-3e5a-427a-bc06-a9171a23a21e",
   "metadata": {},
   "outputs": [
    {
     "name": "stdout",
     "output_type": "stream",
     "text": [
      "Set in the second half of the 22nd century, the film depicts Mars as a planet that has been 84% terraformed, allowing humans to walk on the surface without wearing pressure suits. The Martian society has become largely matriarchal, with women in most positions of authority. The story concerns a police officer, Melanie Ballard , second in command of a small team alongside Sergeant Jericho  sent to pick up and transport a prisoner named Desolation Williams . Arriving at the remote mining town where Williams is being held, Ballard finds virtually all of the people missing. She learns that the miners had discovered an underground doorway created by an ancient Martian civilization. When the door was opened it released \"ghosts,\" disembodied spirits which possessed the miners. Violence ensues, as the possessed miners commit horrific acts of death and destruction, as well as self-mutilation. With their team leader Helena Bradock  murdered, Ballard must fight off the attacking miners, escape the town, and destroy the ghosts, if possible. Unfortunately, her intentions are complicated by the fact that killing a possessed human merely releases the Martian spirit to possess another human. The team eventually decides to blow up a nuclear reactor to try and vaporize all of the ghosts. At several points in the film Sergeant Jericho shows a romantic interest in Ballard, mostly unreciprocated. Ballard's crew along with survivors who manage to gather in the jail are eventually wiped out by the miners after many fierce battles and events , leaving only her and Williams after Sergeant Jericho and the other remaining officers and the two operators of the train are killed upon returning from a brief retreat to finish the fight. Not wanting the authorities to blame the massacre on him, he handcuffs Ballard to her cot and escapes from the train, leaving her to return home and deliver her report, which is received with skepticism by her superiors. While Ballard recuperates at a hospital, the released spirits, who weren't destroyed after all, attack the city. The end scene sets the movie up for a sequel as Williams returns to team up with Ballard to fight the possessed.\n"
     ]
    }
   ],
   "source": [
    "print(movies['Plot'][0])"
   ]
  },
  {
   "cell_type": "code",
   "execution_count": 92,
   "id": "a560868b-d0da-4d37-bf69-6a0d48352154",
   "metadata": {},
   "outputs": [
    {
     "name": "stdout",
     "output_type": "stream",
     "text": [
      "[[('Set', 'NN'), ('in', 'IN'), ('the', 'DT'), ('second', 'JJ'), ('half', 'NN'), ('of', 'IN'), ('the', 'DT'), ('22nd', 'JJ'), ('century', 'NN'), (',', ','), ('the', 'DT'), ('film', 'NN'), ('depicts', 'VBZ'), ('Mars', 'NNP'), ('as', 'IN'), ('a', 'DT'), ('planet', 'NN'), ('that', 'WDT'), ('has', 'VBZ'), ('been', 'VBN'), ('84', 'CD'), ('%', 'NN'), ('terraformed', 'VBN'), (',', ','), ('allowing', 'VBG'), ('humans', 'NNS'), ('to', 'TO'), ('walk', 'VB'), ('on', 'IN'), ('the', 'DT'), ('surface', 'NN'), ('without', 'IN'), ('wearing', 'VBG'), ('pressure', 'NN'), ('suits', 'NNS'), ('.', '.')], [('The', 'DT'), ('Martian', 'JJ'), ('society', 'NN'), ('has', 'VBZ'), ('become', 'VBN'), ('largely', 'RB'), ('matriarchal', 'JJ'), (',', ','), ('with', 'IN'), ('women', 'NNS'), ('in', 'IN'), ('most', 'JJS'), ('positions', 'NNS'), ('of', 'IN'), ('authority', 'NN'), ('.', '.')], [('The', 'DT'), ('story', 'NN'), ('concerns', 'VBZ'), ('a', 'DT'), ('police', 'NN'), ('officer', 'NN'), (',', ','), ('Melanie', 'NNP'), ('Ballard', 'NNP'), (',', ','), ('second', 'JJ'), ('in', 'IN'), ('command', 'NN'), ('of', 'IN'), ('a', 'DT'), ('small', 'JJ'), ('team', 'NN'), ('alongside', 'RB'), ('Sergeant', 'NNP'), ('Jericho', 'NNP'), ('sent', 'VBD'), ('to', 'TO'), ('pick', 'VB'), ('up', 'RP'), ('and', 'CC'), ('transport', 'VB'), ('a', 'DT'), ('prisoner', 'NN'), ('named', 'VBN'), ('Desolation', 'NNP'), ('Williams', 'NNP'), ('.', '.')], [('Arriving', 'VBG'), ('at', 'IN'), ('the', 'DT'), ('remote', 'JJ'), ('mining', 'NN'), ('town', 'NN'), ('where', 'WRB'), ('Williams', 'NNP'), ('is', 'VBZ'), ('being', 'VBG'), ('held', 'VBN'), (',', ','), ('Ballard', 'NNP'), ('finds', 'VBZ'), ('virtually', 'RB'), ('all', 'DT'), ('of', 'IN'), ('the', 'DT'), ('people', 'NNS'), ('missing', 'VBG'), ('.', '.')], [('She', 'PRP'), ('learns', 'VBZ'), ('that', 'IN'), ('the', 'DT'), ('miners', 'NNS'), ('had', 'VBD'), ('discovered', 'VBN'), ('an', 'DT'), ('underground', 'JJ'), ('doorway', 'NN'), ('created', 'VBN'), ('by', 'IN'), ('an', 'DT'), ('ancient', 'JJ'), ('Martian', 'JJ'), ('civilization', 'NN'), ('.', '.')], [('When', 'WRB'), ('the', 'DT'), ('door', 'NN'), ('was', 'VBD'), ('opened', 'VBN'), ('it', 'PRP'), ('released', 'VBD'), ('``', '``'), ('ghosts', 'NNS'), (',', ','), (\"''\", \"''\"), ('disembodied', 'VBD'), ('spirits', 'NNS'), ('which', 'WDT'), ('possessed', 'VBD'), ('the', 'DT'), ('miners', 'NNS'), ('.', '.')], [('Violence', 'NN'), ('ensues', 'NNS'), (',', ','), ('as', 'IN'), ('the', 'DT'), ('possessed', 'JJ'), ('miners', 'NNS'), ('commit', 'VBP'), ('horrific', 'JJ'), ('acts', 'NNS'), ('of', 'IN'), ('death', 'NN'), ('and', 'CC'), ('destruction', 'NN'), (',', ','), ('as', 'RB'), ('well', 'RB'), ('as', 'IN'), ('self-mutilation', 'NN'), ('.', '.')], [('With', 'IN'), ('their', 'PRP$'), ('team', 'NN'), ('leader', 'NN'), ('Helena', 'NNP'), ('Bradock', 'NNP'), ('murdered', 'VBD'), (',', ','), ('Ballard', 'NNP'), ('must', 'MD'), ('fight', 'VB'), ('off', 'RP'), ('the', 'DT'), ('attacking', 'VBG'), ('miners', 'NNS'), (',', ','), ('escape', 'VBP'), ('the', 'DT'), ('town', 'NN'), (',', ','), ('and', 'CC'), ('destroy', 'VB'), ('the', 'DT'), ('ghosts', 'NNS'), (',', ','), ('if', 'IN'), ('possible', 'JJ'), ('.', '.')], [('Unfortunately', 'RB'), (',', ','), ('her', 'PRP'), ('intentions', 'NNS'), ('are', 'VBP'), ('complicated', 'VBN'), ('by', 'IN'), ('the', 'DT'), ('fact', 'NN'), ('that', 'IN'), ('killing', 'VBG'), ('a', 'DT'), ('possessed', 'JJ'), ('human', 'NN'), ('merely', 'RB'), ('releases', 'VBZ'), ('the', 'DT'), ('Martian', 'JJ'), ('spirit', 'NN'), ('to', 'TO'), ('possess', 'VB'), ('another', 'DT'), ('human', 'NN'), ('.', '.')], [('The', 'DT'), ('team', 'NN'), ('eventually', 'RB'), ('decides', 'VBZ'), ('to', 'TO'), ('blow', 'VB'), ('up', 'RP'), ('a', 'DT'), ('nuclear', 'JJ'), ('reactor', 'NN'), ('to', 'TO'), ('try', 'VB'), ('and', 'CC'), ('vaporize', 'VB'), ('all', 'DT'), ('of', 'IN'), ('the', 'DT'), ('ghosts', 'NNS'), ('.', '.')], [('At', 'IN'), ('several', 'JJ'), ('points', 'NNS'), ('in', 'IN'), ('the', 'DT'), ('film', 'NN'), ('Sergeant', 'NNP'), ('Jericho', 'NNP'), ('shows', 'VBZ'), ('a', 'DT'), ('romantic', 'JJ'), ('interest', 'NN'), ('in', 'IN'), ('Ballard', 'NNP'), (',', ','), ('mostly', 'RB'), ('unreciprocated', 'JJ'), ('.', '.')], [('Ballard', 'NNP'), (\"'s\", 'POS'), ('crew', 'NN'), ('along', 'IN'), ('with', 'IN'), ('survivors', 'NNS'), ('who', 'WP'), ('manage', 'VBP'), ('to', 'TO'), ('gather', 'VB'), ('in', 'IN'), ('the', 'DT'), ('jail', 'NN'), ('are', 'VBP'), ('eventually', 'RB'), ('wiped', 'VBN'), ('out', 'RP'), ('by', 'IN'), ('the', 'DT'), ('miners', 'NNS'), ('after', 'IN'), ('many', 'JJ'), ('fierce', 'JJ'), ('battles', 'NNS'), ('and', 'CC'), ('events', 'NNS'), (',', ','), ('leaving', 'VBG'), ('only', 'RB'), ('her', 'PRP$'), ('and', 'CC'), ('Williams', 'NNP'), ('after', 'IN'), ('Sergeant', 'NNP'), ('Jericho', 'NNP'), ('and', 'CC'), ('the', 'DT'), ('other', 'JJ'), ('remaining', 'VBG'), ('officers', 'NNS'), ('and', 'CC'), ('the', 'DT'), ('two', 'CD'), ('operators', 'NNS'), ('of', 'IN'), ('the', 'DT'), ('train', 'NN'), ('are', 'VBP'), ('killed', 'VBN'), ('upon', 'IN'), ('returning', 'VBG'), ('from', 'IN'), ('a', 'DT'), ('brief', 'JJ'), ('retreat', 'NN'), ('to', 'TO'), ('finish', 'VB'), ('the', 'DT'), ('fight', 'NN'), ('.', '.')], [('Not', 'RB'), ('wanting', 'VBG'), ('the', 'DT'), ('authorities', 'NNS'), ('to', 'TO'), ('blame', 'VB'), ('the', 'DT'), ('massacre', 'NN'), ('on', 'IN'), ('him', 'PRP'), (',', ','), ('he', 'PRP'), ('handcuffs', 'VBZ'), ('Ballard', 'NNP'), ('to', 'TO'), ('her', 'PRP$'), ('cot', 'NN'), ('and', 'CC'), ('escapes', 'NNS'), ('from', 'IN'), ('the', 'DT'), ('train', 'NN'), (',', ','), ('leaving', 'VBG'), ('her', 'PRP$'), ('to', 'TO'), ('return', 'VB'), ('home', 'NN'), ('and', 'CC'), ('deliver', 'VB'), ('her', 'PRP$'), ('report', 'NN'), (',', ','), ('which', 'WDT'), ('is', 'VBZ'), ('received', 'VBN'), ('with', 'IN'), ('skepticism', 'NN'), ('by', 'IN'), ('her', 'PRP$'), ('superiors', 'NNS'), ('.', '.')], [('While', 'IN'), ('Ballard', 'NNP'), ('recuperates', 'VBZ'), ('at', 'IN'), ('a', 'DT'), ('hospital', 'NN'), (',', ','), ('the', 'DT'), ('released', 'JJ'), ('spirits', 'NNS'), (',', ','), ('who', 'WP'), ('were', 'VBD'), (\"n't\", 'RB'), ('destroyed', 'VBN'), ('after', 'IN'), ('all', 'DT'), (',', ','), ('attack', 'VBP'), ('the', 'DT'), ('city', 'NN'), ('.', '.')], [('The', 'DT'), ('end', 'NN'), ('scene', 'NN'), ('sets', 'VBZ'), ('the', 'DT'), ('movie', 'NN'), ('up', 'RP'), ('for', 'IN'), ('a', 'DT'), ('sequel', 'NN'), ('as', 'IN'), ('Williams', 'NNP'), ('returns', 'VBZ'), ('to', 'TO'), ('team', 'VB'), ('up', 'RP'), ('with', 'IN'), ('Ballard', 'NNP'), ('to', 'TO'), ('fight', 'VB'), ('the', 'DT'), ('possessed', 'VBN'), ('.', '.')]]\n"
     ]
    }
   ],
   "source": [
    "print(movies['POS_tokens'][0])"
   ]
  },
  {
   "cell_type": "code",
   "execution_count": 93,
   "id": "16623102-4b7c-402c-8b7a-a9d9f68fbf0c",
   "metadata": {},
   "outputs": [
    {
     "name": "stdout",
     "output_type": "stream",
     "text": [
      "[['Set', 'in', 'the', 'second', 'half', 'of', 'the', '22nd', 'century', ',', 'the', 'film', 'depict', 'Mars', 'as', 'a', 'planet', 'that', 'have', 'be', '84', '%', 'terraformed', ',', 'allow', 'human', 'to', 'walk', 'on', 'the', 'surface', 'without', 'wear', 'pressure', 'suit', '.'], ['The', 'Martian', 'society', 'have', 'become', 'largely', 'matriarchal', ',', 'with', 'woman', 'in', 'most', 'position', 'of', 'authority', '.'], ['The', 'story', 'concern', 'a', 'police', 'officer', ',', 'Melanie', 'Ballard', ',', 'second', 'in', 'command', 'of', 'a', 'small', 'team', 'alongside', 'Sergeant', 'Jericho', 'send', 'to', 'pick', 'up', 'and', 'transport', 'a', 'prisoner', 'name', 'Desolation', 'Williams', '.'], ['Arriving', 'at', 'the', 'remote', 'mining', 'town', 'where', 'Williams', 'be', 'be', 'hold', ',', 'Ballard', 'find', 'virtually', 'all', 'of', 'the', 'people', 'miss', '.'], ['She', 'learn', 'that', 'the', 'miner', 'have', 'discover', 'an', 'underground', 'doorway', 'create', 'by', 'an', 'ancient', 'Martian', 'civilization', '.'], ['When', 'the', 'door', 'be', 'open', 'it', 'release', '``', 'ghost', ',', \"''\", 'disembody', 'spirit', 'which', 'possess', 'the', 'miner', '.'], ['Violence', 'ensues', ',', 'as', 'the', 'possessed', 'miner', 'commit', 'horrific', 'act', 'of', 'death', 'and', 'destruction', ',', 'as', 'well', 'as', 'self-mutilation', '.'], ['With', 'their', 'team', 'leader', 'Helena', 'Bradock', 'murder', ',', 'Ballard', 'must', 'fight', 'off', 'the', 'attack', 'miner', ',', 'escape', 'the', 'town', ',', 'and', 'destroy', 'the', 'ghost', ',', 'if', 'possible', '.'], ['Unfortunately', ',', 'her', 'intention', 'be', 'complicate', 'by', 'the', 'fact', 'that', 'kill', 'a', 'possessed', 'human', 'merely', 'release', 'the', 'Martian', 'spirit', 'to', 'possess', 'another', 'human', '.'], ['The', 'team', 'eventually', 'decide', 'to', 'blow', 'up', 'a', 'nuclear', 'reactor', 'to', 'try', 'and', 'vaporize', 'all', 'of', 'the', 'ghost', '.'], ['At', 'several', 'point', 'in', 'the', 'film', 'Sergeant', 'Jericho', 'show', 'a', 'romantic', 'interest', 'in', 'Ballard', ',', 'mostly', 'unreciprocated', '.'], ['Ballard', \"'s\", 'crew', 'along', 'with', 'survivor', 'who', 'manage', 'to', 'gather', 'in', 'the', 'jail', 'be', 'eventually', 'wipe', 'out', 'by', 'the', 'miner', 'after', 'many', 'fierce', 'battle', 'and', 'event', ',', 'leave', 'only', 'her', 'and', 'Williams', 'after', 'Sergeant', 'Jericho', 'and', 'the', 'other', 'remain', 'officer', 'and', 'the', 'two', 'operator', 'of', 'the', 'train', 'be', 'kill', 'upon', 'return', 'from', 'a', 'brief', 'retreat', 'to', 'finish', 'the', 'fight', '.'], ['Not', 'want', 'the', 'authority', 'to', 'blame', 'the', 'massacre', 'on', 'him', ',', 'he', 'handcuff', 'Ballard', 'to', 'her', 'cot', 'and', 'escape', 'from', 'the', 'train', ',', 'leave', 'her', 'to', 'return', 'home', 'and', 'deliver', 'her', 'report', ',', 'which', 'be', 'receive', 'with', 'skepticism', 'by', 'her', 'superior', '.'], ['While', 'Ballard', 'recuperate', 'at', 'a', 'hospital', ',', 'the', 'released', 'spirit', ',', 'who', 'be', \"n't\", 'destroy', 'after', 'all', ',', 'attack', 'the', 'city', '.'], ['The', 'end', 'scene', 'set', 'the', 'movie', 'up', 'for', 'a', 'sequel', 'as', 'Williams', 'return', 'to', 'team', 'up', 'with', 'Ballard', 'to', 'fight', 'the', 'possess', '.']]\n"
     ]
    }
   ],
   "source": [
    "print(movies['tokens_sentences_lemmatized'][0])"
   ]
  },
  {
   "cell_type": "code",
   "execution_count": 94,
   "id": "84bb752e-e658-4d8c-8113-ed8c59ae5474",
   "metadata": {},
   "outputs": [
    {
     "name": "stdout",
     "output_type": "stream",
     "text": [
      "['set', 'second', 'half', 'century', 'film', 'depict', 'mars', 'planet', 'terraformed', 'allow', 'human', 'walk', 'surface', 'without', 'wear', 'pressure', 'suit', 'martian', 'society', 'largely', 'matriarchal', 'woman', 'position', 'authority', 'story', 'concern', 'police', 'officer', 'ballard', 'second', 'command', 'small', 'team', 'alongside', 'sergeant', 'jericho', 'send', 'pick', 'transport', 'prisoner', 'name', 'desolation', 'arriving', 'remote', 'mining', 'town', 'hold', 'ballard', 'virtually', 'people', 'miss', 'learn', 'miner', 'discover', 'underground', 'doorway', 'create', 'ancient', 'martian', 'civilization', 'door', 'open', 'release', 'ghost', 'disembody', 'spirit', 'possess', 'miner', 'violence', 'ensues', 'possessed', 'miner', 'commit', 'horrific', 'act', 'death', 'destruction', 'well', 'team', 'leader', 'bradock', 'murder', 'ballard', 'must', 'fight', 'attack', 'miner', 'escape', 'town', 'destroy', 'ghost', 'possible', 'unfortunately', 'intention', 'complicate', 'fact', 'kill', 'possessed', 'human', 'merely', 'release', 'martian', 'spirit', 'possess', 'another', 'human', 'team', 'eventually', 'decide', 'blow', 'nuclear', 'reactor', 'vaporize', 'ghost', 'several', 'point', 'film', 'sergeant', 'jericho', 'show', 'romantic', 'interest', 'ballard', 'mostly', 'unreciprocated', 'ballard', 'crew', 'along', 'survivor', 'manage', 'gather', 'jail', 'eventually', 'wipe', 'miner', 'many', 'fierce', 'battle', 'event', 'sergeant', 'jericho', 'remain', 'officer', 'operator', 'train', 'kill', 'upon', 'return', 'brief', 'retreat', 'finish', 'fight', 'want', 'authority', 'blame', 'massacre', 'handcuff', 'ballard', 'cot', 'escape', 'train', 'return', 'home', 'deliver', 'report', 'receive', 'skepticism', 'superior', 'ballard', 'recuperate', 'hospital', 'released', 'spirit', 'destroy', 'attack', 'city', 'end', 'scene', 'set', 'movie', 'sequel', 'return', 'team', 'ballard', 'fight', 'possess']\n"
     ]
    }
   ],
   "source": [
    "print(movies['tokens'][0])"
   ]
  },
  {
   "cell_type": "markdown",
   "id": "7dd517b8-b507-45e2-b556-19129b09fc23",
   "metadata": {},
   "source": [
    "#### Saving `movies`"
   ]
  },
  {
   "cell_type": "code",
   "execution_count": 95,
   "id": "e9b65a50-8cd9-4528-8b3b-b5db7c39e929",
   "metadata": {},
   "outputs": [],
   "source": [
    "os.makedirs('data', exist_ok=True)  \n",
    "movies.to_pickle('data/movies_aug.pkl')"
   ]
  },
  {
   "cell_type": "code",
   "execution_count": 137,
   "id": "1dffc252-9bae-4238-860d-e50991a5426a",
   "metadata": {},
   "outputs": [],
   "source": [
    "movies = pd.read_pickle('data/movies_aug.pkl')"
   ]
  },
  {
   "cell_type": "markdown",
   "id": "2e983faf-df08-4f7b-b395-9ae01396d79a",
   "metadata": {
    "jp-MarkdownHeadingCollapsed": true,
    "tags": []
   },
   "source": [
    "## 2.2 Importing Metascore  <a id='2.4'></a>"
   ]
  },
  {
   "cell_type": "markdown",
   "id": "74e2220c-ce30-46d7-b5b5-38cc4e3b46cb",
   "metadata": {},
   "source": [
    "When considering film rating, we can think about using the IMDb database, in particular, it provides the variable `averageRatin` which is the weighted average of all the individual user ratings. However, IMDb user opinions can be given whenever the user wants. So, the ratings of IMDb do not match with the release date of the movie. It only works for analyzing the current opinions, as very recent reviews and can be written for an old film. \n",
    "\n",
    "In order to have an insigth into the movie impression at a time closer to the release date, we can consider metascore. [Metascore](https://github.com/miazhx/metacritic) is a weighted average of reviews from top published critic reviews for a given movie, and thus does not include any votes or comments from our users.\n"
   ]
  },
  {
   "cell_type": "markdown",
   "id": "2373eaff-2c1a-41b6-afe3-8d53962d9dae",
   "metadata": {},
   "source": [
    "We use a dataset which brings together the film title, release date, metascore and other scores. We load it and add the `metascore` information into the `movie` dataset."
   ]
  },
  {
   "cell_type": "code",
   "execution_count": 96,
   "id": "2eed8029-7409-4700-9dec-2b29cc53310e",
   "metadata": {},
   "outputs": [],
   "source": [
    "metacritic_url = \"https://raw.githubusercontent.com/miazhx/metacritic/master/data/metacritic_movies.csv\"\n",
    "\n",
    "metacritic = pd.read_csv(metacritic_url)"
   ]
  },
  {
   "cell_type": "code",
   "execution_count": 97,
   "id": "63fdad99-dd5a-4ff1-82f4-0c852921f0cf",
   "metadata": {},
   "outputs": [
    {
     "data": {
      "text/html": [
       "<div>\n",
       "<style scoped>\n",
       "    .dataframe tbody tr th:only-of-type {\n",
       "        vertical-align: middle;\n",
       "    }\n",
       "\n",
       "    .dataframe tbody tr th {\n",
       "        vertical-align: top;\n",
       "    }\n",
       "\n",
       "    .dataframe thead th {\n",
       "        text-align: right;\n",
       "    }\n",
       "</style>\n",
       "<table border=\"1\" class=\"dataframe\">\n",
       "  <thead>\n",
       "    <tr style=\"text-align: right;\">\n",
       "      <th></th>\n",
       "      <th>movie_title</th>\n",
       "      <th>release_date</th>\n",
       "      <th>genre</th>\n",
       "      <th>meta_mixed</th>\n",
       "      <th>meta_negative</th>\n",
       "      <th>meta_positive</th>\n",
       "      <th>metascore</th>\n",
       "      <th>user_mixed</th>\n",
       "      <th>user_negative</th>\n",
       "      <th>user_positive</th>\n",
       "      <th>userscore</th>\n",
       "    </tr>\n",
       "  </thead>\n",
       "  <tbody>\n",
       "    <tr>\n",
       "      <th>0</th>\n",
       "      <td>Anatomy of a Murder</td>\n",
       "      <td>1-Jul-59</td>\n",
       "      <td>Drama,Mystery,Thriller,Crime</td>\n",
       "      <td>0</td>\n",
       "      <td>0</td>\n",
       "      <td>15</td>\n",
       "      <td>95</td>\n",
       "      <td>0</td>\n",
       "      <td>0</td>\n",
       "      <td>3</td>\n",
       "      <td>tbd</td>\n",
       "    </tr>\n",
       "    <tr>\n",
       "      <th>1</th>\n",
       "      <td>Bringing Up Baby</td>\n",
       "      <td>18-Feb-38</td>\n",
       "      <td>Comedy,Romance,Family</td>\n",
       "      <td>0</td>\n",
       "      <td>1</td>\n",
       "      <td>16</td>\n",
       "      <td>91</td>\n",
       "      <td>1</td>\n",
       "      <td>0</td>\n",
       "      <td>2</td>\n",
       "      <td>tbd</td>\n",
       "    </tr>\n",
       "    <tr>\n",
       "      <th>2</th>\n",
       "      <td>After Life</td>\n",
       "      <td>12-May-99</td>\n",
       "      <td>Drama,Fantasy</td>\n",
       "      <td>0</td>\n",
       "      <td>0</td>\n",
       "      <td>19</td>\n",
       "      <td>91</td>\n",
       "      <td>0</td>\n",
       "      <td>2</td>\n",
       "      <td>1</td>\n",
       "      <td>tbd</td>\n",
       "    </tr>\n",
       "    <tr>\n",
       "      <th>3</th>\n",
       "      <td>Gavagai</td>\n",
       "      <td>3-Aug-18</td>\n",
       "      <td>Drama</td>\n",
       "      <td>1</td>\n",
       "      <td>0</td>\n",
       "      <td>6</td>\n",
       "      <td>91</td>\n",
       "      <td>0</td>\n",
       "      <td>1</td>\n",
       "      <td>2</td>\n",
       "      <td>tbd</td>\n",
       "    </tr>\n",
       "    <tr>\n",
       "      <th>4</th>\n",
       "      <td>The Hustler</td>\n",
       "      <td>25-Sep-61</td>\n",
       "      <td>Drama,Sport</td>\n",
       "      <td>1</td>\n",
       "      <td>0</td>\n",
       "      <td>17</td>\n",
       "      <td>90</td>\n",
       "      <td>0</td>\n",
       "      <td>0</td>\n",
       "      <td>3</td>\n",
       "      <td>tbd</td>\n",
       "    </tr>\n",
       "  </tbody>\n",
       "</table>\n",
       "</div>"
      ],
      "text/plain": [
       "           movie_title release_date                         genre  meta_mixed  \\\n",
       "0  Anatomy of a Murder     1-Jul-59  Drama,Mystery,Thriller,Crime           0   \n",
       "1     Bringing Up Baby    18-Feb-38         Comedy,Romance,Family           0   \n",
       "2           After Life    12-May-99                 Drama,Fantasy           0   \n",
       "3              Gavagai     3-Aug-18                         Drama           1   \n",
       "4          The Hustler    25-Sep-61                   Drama,Sport           1   \n",
       "\n",
       "   meta_negative  meta_positive  metascore user_mixed user_negative  \\\n",
       "0              0             15         95          0             0   \n",
       "1              1             16         91          1             0   \n",
       "2              0             19         91          0             2   \n",
       "3              0              6         91          0             1   \n",
       "4              0             17         90          0             0   \n",
       "\n",
       "  user_positive userscore  \n",
       "0             3       tbd  \n",
       "1             2       tbd  \n",
       "2             1       tbd  \n",
       "3             2       tbd  \n",
       "4             3       tbd  "
      ]
     },
     "execution_count": 97,
     "metadata": {},
     "output_type": "execute_result"
    }
   ],
   "source": [
    "metacritic.head()"
   ]
  },
  {
   "cell_type": "code",
   "execution_count": 98,
   "id": "cf0bd701-f1d5-41c1-979f-746ec887e00e",
   "metadata": {},
   "outputs": [
    {
     "name": "stdout",
     "output_type": "stream",
     "text": [
      "Number of missing metascore: 0\n"
     ]
    }
   ],
   "source": [
    "print('Number of missing metascore: {}'.format(metacritic['metascore'].isna().sum()))"
   ]
  },
  {
   "cell_type": "code",
   "execution_count": 99,
   "id": "5f0ad790-6935-456e-82ba-df93372fbf04",
   "metadata": {},
   "outputs": [],
   "source": [
    "metacritic_score = metacritic[['movie_title','metascore','release_date']].rename(columns = {'movie_title':'Title'})"
   ]
  },
  {
   "cell_type": "code",
   "execution_count": 108,
   "id": "764e3570-d64e-44fd-9715-40907042a0ef",
   "metadata": {},
   "outputs": [],
   "source": [
    "# Trying to convert release_date to date time, in order to compare the movies release date and the metacritic release date\n",
    "# => handle metascore for the movie series (same title but different release date)\n",
    "#metacritic_score[\"release_date\"] = metacritic_score[\"release_date\"].apply( lambda x:'{:%Y-%m-%d}'.format(x.replace(\" \", \"\").strptime(no_space, '%d''%B''%Y')))"
   ]
  },
  {
   "cell_type": "code",
   "execution_count": 101,
   "id": "274d9f60-89ba-4c91-a558-16139413c57d",
   "metadata": {},
   "outputs": [
    {
     "data": {
      "text/html": [
       "<div>\n",
       "<style scoped>\n",
       "    .dataframe tbody tr th:only-of-type {\n",
       "        vertical-align: middle;\n",
       "    }\n",
       "\n",
       "    .dataframe tbody tr th {\n",
       "        vertical-align: top;\n",
       "    }\n",
       "\n",
       "    .dataframe thead th {\n",
       "        text-align: right;\n",
       "    }\n",
       "</style>\n",
       "<table border=\"1\" class=\"dataframe\">\n",
       "  <thead>\n",
       "    <tr style=\"text-align: right;\">\n",
       "      <th></th>\n",
       "      <th>Title</th>\n",
       "      <th>metascore</th>\n",
       "      <th>release_date</th>\n",
       "    </tr>\n",
       "  </thead>\n",
       "  <tbody>\n",
       "    <tr>\n",
       "      <th>0</th>\n",
       "      <td>Anatomy of a Murder</td>\n",
       "      <td>95</td>\n",
       "      <td>1-Jul-59</td>\n",
       "    </tr>\n",
       "    <tr>\n",
       "      <th>1</th>\n",
       "      <td>Bringing Up Baby</td>\n",
       "      <td>91</td>\n",
       "      <td>18-Feb-38</td>\n",
       "    </tr>\n",
       "    <tr>\n",
       "      <th>2</th>\n",
       "      <td>After Life</td>\n",
       "      <td>91</td>\n",
       "      <td>12-May-99</td>\n",
       "    </tr>\n",
       "    <tr>\n",
       "      <th>3</th>\n",
       "      <td>Gavagai</td>\n",
       "      <td>91</td>\n",
       "      <td>3-Aug-18</td>\n",
       "    </tr>\n",
       "    <tr>\n",
       "      <th>4</th>\n",
       "      <td>The Hustler</td>\n",
       "      <td>90</td>\n",
       "      <td>25-Sep-61</td>\n",
       "    </tr>\n",
       "  </tbody>\n",
       "</table>\n",
       "</div>"
      ],
      "text/plain": [
       "                 Title  metascore release_date\n",
       "0  Anatomy of a Murder         95     1-Jul-59\n",
       "1     Bringing Up Baby         91    18-Feb-38\n",
       "2           After Life         91    12-May-99\n",
       "3              Gavagai         91     3-Aug-18\n",
       "4          The Hustler         90    25-Sep-61"
      ]
     },
     "execution_count": 101,
     "metadata": {},
     "output_type": "execute_result"
    }
   ],
   "source": [
    "metacritic_score.head()"
   ]
  },
  {
   "cell_type": "code",
   "execution_count": 139,
   "id": "9c5080bd-17e8-44fc-b4ed-29aa73ca2828",
   "metadata": {},
   "outputs": [],
   "source": [
    "movies = movies.merge(metacritic_score, how=\"left\", on=\"Title\") # Not really sure how this works but there's no duplicates or sth"
   ]
  },
  {
   "cell_type": "code",
   "execution_count": 140,
   "id": "1af351e5-1c8d-4d88-a22b-7789223e6e40",
   "metadata": {},
   "outputs": [
    {
     "data": {
      "text/html": [
       "<div>\n",
       "<style scoped>\n",
       "    .dataframe tbody tr th:only-of-type {\n",
       "        vertical-align: middle;\n",
       "    }\n",
       "\n",
       "    .dataframe tbody tr th {\n",
       "        vertical-align: top;\n",
       "    }\n",
       "\n",
       "    .dataframe thead th {\n",
       "        text-align: right;\n",
       "    }\n",
       "</style>\n",
       "<table border=\"1\" class=\"dataframe\">\n",
       "  <thead>\n",
       "    <tr style=\"text-align: right;\">\n",
       "      <th></th>\n",
       "      <th>WikiMovieID</th>\n",
       "      <th>FreeMovieID</th>\n",
       "      <th>Title</th>\n",
       "      <th>ReleaseDate</th>\n",
       "      <th>Revenue</th>\n",
       "      <th>Runtime</th>\n",
       "      <th>Languages</th>\n",
       "      <th>Countries</th>\n",
       "      <th>Genres</th>\n",
       "      <th>Plot</th>\n",
       "      <th>lang</th>\n",
       "      <th>words_punc</th>\n",
       "      <th>sentences</th>\n",
       "      <th>tokens_sentences</th>\n",
       "      <th>POS_tokens</th>\n",
       "      <th>tokens_sentences_lemmatized</th>\n",
       "      <th>tokens</th>\n",
       "      <th>metascore</th>\n",
       "      <th>release_date</th>\n",
       "    </tr>\n",
       "  </thead>\n",
       "  <tbody>\n",
       "    <tr>\n",
       "      <th>0</th>\n",
       "      <td>975900</td>\n",
       "      <td>/m/03vyhn</td>\n",
       "      <td>Ghosts of Mars</td>\n",
       "      <td>2001-08-24</td>\n",
       "      <td>14010832.0</td>\n",
       "      <td>98.0</td>\n",
       "      <td>[English Language]</td>\n",
       "      <td>[United States of America]</td>\n",
       "      <td>[Thriller, Science Fiction, Horror, Adventure,...</td>\n",
       "      <td>Set in the second half of the 22nd century, th...</td>\n",
       "      <td>en</td>\n",
       "      <td>[Set, in, the, second, half, of, the, 22nd, ce...</td>\n",
       "      <td>[Set in the second half of the 22nd century, t...</td>\n",
       "      <td>[[Set, in, the, second, half, of, the, 22nd, c...</td>\n",
       "      <td>[[(Set, NN), (in, IN), (the, DT), (second, JJ)...</td>\n",
       "      <td>[[Set, in, the, second, half, of, the, 22nd, c...</td>\n",
       "      <td>[set, second, half, century, film, depict, mar...</td>\n",
       "      <td>35.0</td>\n",
       "      <td>24-Aug-01</td>\n",
       "    </tr>\n",
       "    <tr>\n",
       "      <th>1</th>\n",
       "      <td>3196793</td>\n",
       "      <td>/m/08yl5d</td>\n",
       "      <td>Getting Away with Murder: The JonBenét Ramsey ...</td>\n",
       "      <td>2000-02-16</td>\n",
       "      <td>NaN</td>\n",
       "      <td>95.0</td>\n",
       "      <td>[English Language]</td>\n",
       "      <td>[United States of America]</td>\n",
       "      <td>[Mystery, Biographical film, Drama, Crime Drama]</td>\n",
       "      <td>NaN</td>\n",
       "      <td>NaN</td>\n",
       "      <td>NaN</td>\n",
       "      <td>NaN</td>\n",
       "      <td>NaN</td>\n",
       "      <td>NaN</td>\n",
       "      <td>NaN</td>\n",
       "      <td>NaN</td>\n",
       "      <td>NaN</td>\n",
       "      <td>NaN</td>\n",
       "    </tr>\n",
       "    <tr>\n",
       "      <th>2</th>\n",
       "      <td>28463795</td>\n",
       "      <td>/m/0crgdbh</td>\n",
       "      <td>Brun bitter</td>\n",
       "      <td>1988</td>\n",
       "      <td>NaN</td>\n",
       "      <td>83.0</td>\n",
       "      <td>[Norwegian Language]</td>\n",
       "      <td>[Norway]</td>\n",
       "      <td>[Crime Fiction, Drama]</td>\n",
       "      <td>NaN</td>\n",
       "      <td>NaN</td>\n",
       "      <td>NaN</td>\n",
       "      <td>NaN</td>\n",
       "      <td>NaN</td>\n",
       "      <td>NaN</td>\n",
       "      <td>NaN</td>\n",
       "      <td>NaN</td>\n",
       "      <td>NaN</td>\n",
       "      <td>NaN</td>\n",
       "    </tr>\n",
       "    <tr>\n",
       "      <th>3</th>\n",
       "      <td>9363483</td>\n",
       "      <td>/m/0285_cd</td>\n",
       "      <td>White Of The Eye</td>\n",
       "      <td>1987</td>\n",
       "      <td>NaN</td>\n",
       "      <td>110.0</td>\n",
       "      <td>[English Language]</td>\n",
       "      <td>[United Kingdom]</td>\n",
       "      <td>[Thriller, Erotic thriller, Psychological thri...</td>\n",
       "      <td>A series of murders of rich young women throug...</td>\n",
       "      <td>en</td>\n",
       "      <td>[A, series, of, murders, of, rich, young, wome...</td>\n",
       "      <td>[A series of murders of rich young women throu...</td>\n",
       "      <td>[[A, series, of, murders, of, rich, young, wom...</td>\n",
       "      <td>[[(A, DT), (series, NN), (of, IN), (murders, N...</td>\n",
       "      <td>[[A, series, of, murder, of, rich, young, woma...</td>\n",
       "      <td>[series, murder, woman, throughout, arizona, d...</td>\n",
       "      <td>NaN</td>\n",
       "      <td>NaN</td>\n",
       "    </tr>\n",
       "    <tr>\n",
       "      <th>4</th>\n",
       "      <td>261236</td>\n",
       "      <td>/m/01mrr1</td>\n",
       "      <td>A Woman in Flames</td>\n",
       "      <td>1983</td>\n",
       "      <td>NaN</td>\n",
       "      <td>106.0</td>\n",
       "      <td>[German Language]</td>\n",
       "      <td>[Germany]</td>\n",
       "      <td>[Drama]</td>\n",
       "      <td>Eva, an upper class housewife, becomes frustra...</td>\n",
       "      <td>en</td>\n",
       "      <td>[Eva, ,, an, upper, class, housewife, ,, becom...</td>\n",
       "      <td>[Eva, an upper class housewife, becomes frustr...</td>\n",
       "      <td>[[Eva, ,, an, upper, class, housewife, ,, beco...</td>\n",
       "      <td>[[(Eva, NNP), (,, ,), (an, DT), (upper, JJ), (...</td>\n",
       "      <td>[[Eva, ,, an, upper, class, housewife, ,, beco...</td>\n",
       "      <td>[upper, class, housewife, becomes, frustrated,...</td>\n",
       "      <td>NaN</td>\n",
       "      <td>NaN</td>\n",
       "    </tr>\n",
       "  </tbody>\n",
       "</table>\n",
       "</div>"
      ],
      "text/plain": [
       "   WikiMovieID FreeMovieID                                              Title  \\\n",
       "0       975900   /m/03vyhn                                     Ghosts of Mars   \n",
       "1      3196793   /m/08yl5d  Getting Away with Murder: The JonBenét Ramsey ...   \n",
       "2     28463795  /m/0crgdbh                                        Brun bitter   \n",
       "3      9363483  /m/0285_cd                                   White Of The Eye   \n",
       "4       261236   /m/01mrr1                                  A Woman in Flames   \n",
       "\n",
       "  ReleaseDate     Revenue  Runtime             Languages  \\\n",
       "0  2001-08-24  14010832.0     98.0    [English Language]   \n",
       "1  2000-02-16         NaN     95.0    [English Language]   \n",
       "2        1988         NaN     83.0  [Norwegian Language]   \n",
       "3        1987         NaN    110.0    [English Language]   \n",
       "4        1983         NaN    106.0     [German Language]   \n",
       "\n",
       "                    Countries  \\\n",
       "0  [United States of America]   \n",
       "1  [United States of America]   \n",
       "2                    [Norway]   \n",
       "3            [United Kingdom]   \n",
       "4                   [Germany]   \n",
       "\n",
       "                                              Genres  \\\n",
       "0  [Thriller, Science Fiction, Horror, Adventure,...   \n",
       "1   [Mystery, Biographical film, Drama, Crime Drama]   \n",
       "2                             [Crime Fiction, Drama]   \n",
       "3  [Thriller, Erotic thriller, Psychological thri...   \n",
       "4                                            [Drama]   \n",
       "\n",
       "                                                Plot lang  \\\n",
       "0  Set in the second half of the 22nd century, th...   en   \n",
       "1                                                NaN  NaN   \n",
       "2                                                NaN  NaN   \n",
       "3  A series of murders of rich young women throug...   en   \n",
       "4  Eva, an upper class housewife, becomes frustra...   en   \n",
       "\n",
       "                                          words_punc  \\\n",
       "0  [Set, in, the, second, half, of, the, 22nd, ce...   \n",
       "1                                                NaN   \n",
       "2                                                NaN   \n",
       "3  [A, series, of, murders, of, rich, young, wome...   \n",
       "4  [Eva, ,, an, upper, class, housewife, ,, becom...   \n",
       "\n",
       "                                           sentences  \\\n",
       "0  [Set in the second half of the 22nd century, t...   \n",
       "1                                                NaN   \n",
       "2                                                NaN   \n",
       "3  [A series of murders of rich young women throu...   \n",
       "4  [Eva, an upper class housewife, becomes frustr...   \n",
       "\n",
       "                                    tokens_sentences  \\\n",
       "0  [[Set, in, the, second, half, of, the, 22nd, c...   \n",
       "1                                                NaN   \n",
       "2                                                NaN   \n",
       "3  [[A, series, of, murders, of, rich, young, wom...   \n",
       "4  [[Eva, ,, an, upper, class, housewife, ,, beco...   \n",
       "\n",
       "                                          POS_tokens  \\\n",
       "0  [[(Set, NN), (in, IN), (the, DT), (second, JJ)...   \n",
       "1                                                NaN   \n",
       "2                                                NaN   \n",
       "3  [[(A, DT), (series, NN), (of, IN), (murders, N...   \n",
       "4  [[(Eva, NNP), (,, ,), (an, DT), (upper, JJ), (...   \n",
       "\n",
       "                         tokens_sentences_lemmatized  \\\n",
       "0  [[Set, in, the, second, half, of, the, 22nd, c...   \n",
       "1                                                NaN   \n",
       "2                                                NaN   \n",
       "3  [[A, series, of, murder, of, rich, young, woma...   \n",
       "4  [[Eva, ,, an, upper, class, housewife, ,, beco...   \n",
       "\n",
       "                                              tokens  metascore release_date  \n",
       "0  [set, second, half, century, film, depict, mar...       35.0    24-Aug-01  \n",
       "1                                                NaN        NaN          NaN  \n",
       "2                                                NaN        NaN          NaN  \n",
       "3  [series, murder, woman, throughout, arizona, d...        NaN          NaN  \n",
       "4  [upper, class, housewife, becomes, frustrated,...        NaN          NaN  "
      ]
     },
     "execution_count": 140,
     "metadata": {},
     "output_type": "execute_result"
    }
   ],
   "source": [
    "movies.head()"
   ]
  },
  {
   "cell_type": "code",
   "execution_count": 141,
   "id": "6aac4091-0bd0-4491-baa8-8489bae17eb6",
   "metadata": {},
   "outputs": [
    {
     "name": "stdout",
     "output_type": "stream",
     "text": [
      "Missing metascores in movies dataset: 90.50%\n"
     ]
    }
   ],
   "source": [
    "print(\"Missing metascores in movies dataset: {:.2f}%\".format(movies['metascore'].isna().sum()/len(movies)*100))"
   ]
  },
  {
   "cell_type": "markdown",
   "id": "15d1cab9-cb65-4dee-ae60-25c7b734dd21",
   "metadata": {
    "tags": []
   },
   "source": [
    "## 2.3 Summary Statistic  <a id='2.3'></a>"
   ]
  },
  {
   "cell_type": "markdown",
   "id": "f269ce42-d0d1-4778-bf5e-df176850008e",
   "metadata": {
    "jp-MarkdownHeadingCollapsed": true,
    "tags": []
   },
   "source": [
    "### 2.3.1 General\n",
    "number of sentences, number of words, number of punctuation, 10 most used words (global), 10 most used words (without ‘and’, ‘for’ …)  \n",
    "maybe add those as ‘features’ of the dataset : for example a lot of ‘!’ and ‘?’ may give hints about anxiety  \n",
    "histograms and other plots  \n",
    "mean, median, std  "
   ]
  },
  {
   "cell_type": "code",
   "execution_count": 142,
   "id": "fab180bc-d98d-43b8-b541-4e8161fc6cda",
   "metadata": {},
   "outputs": [
    {
     "data": {
      "text/html": [
       "<div>\n",
       "<style scoped>\n",
       "    .dataframe tbody tr th:only-of-type {\n",
       "        vertical-align: middle;\n",
       "    }\n",
       "\n",
       "    .dataframe tbody tr th {\n",
       "        vertical-align: top;\n",
       "    }\n",
       "\n",
       "    .dataframe thead th {\n",
       "        text-align: right;\n",
       "    }\n",
       "</style>\n",
       "<table border=\"1\" class=\"dataframe\">\n",
       "  <thead>\n",
       "    <tr style=\"text-align: right;\">\n",
       "      <th></th>\n",
       "      <th>WikiMovieID</th>\n",
       "      <th>FreeMovieID</th>\n",
       "      <th>Title</th>\n",
       "      <th>ReleaseDate</th>\n",
       "      <th>Revenue</th>\n",
       "      <th>Runtime</th>\n",
       "      <th>Languages</th>\n",
       "      <th>Countries</th>\n",
       "      <th>Genres</th>\n",
       "      <th>Plot</th>\n",
       "      <th>lang</th>\n",
       "      <th>words_punc</th>\n",
       "      <th>sentences</th>\n",
       "      <th>tokens_sentences</th>\n",
       "      <th>POS_tokens</th>\n",
       "      <th>tokens_sentences_lemmatized</th>\n",
       "      <th>tokens</th>\n",
       "      <th>metascore</th>\n",
       "      <th>release_date</th>\n",
       "    </tr>\n",
       "  </thead>\n",
       "  <tbody>\n",
       "    <tr>\n",
       "      <th>0</th>\n",
       "      <td>975900</td>\n",
       "      <td>/m/03vyhn</td>\n",
       "      <td>Ghosts of Mars</td>\n",
       "      <td>2001-08-24</td>\n",
       "      <td>14010832.0</td>\n",
       "      <td>98.0</td>\n",
       "      <td>[English Language]</td>\n",
       "      <td>[United States of America]</td>\n",
       "      <td>[Thriller, Science Fiction, Horror, Adventure,...</td>\n",
       "      <td>Set in the second half of the 22nd century, th...</td>\n",
       "      <td>en</td>\n",
       "      <td>[Set, in, the, second, half, of, the, 22nd, ce...</td>\n",
       "      <td>[Set in the second half of the 22nd century, t...</td>\n",
       "      <td>[[Set, in, the, second, half, of, the, 22nd, c...</td>\n",
       "      <td>[[(Set, NN), (in, IN), (the, DT), (second, JJ)...</td>\n",
       "      <td>[[Set, in, the, second, half, of, the, 22nd, c...</td>\n",
       "      <td>[set, second, half, century, film, depict, mar...</td>\n",
       "      <td>35.0</td>\n",
       "      <td>24-Aug-01</td>\n",
       "    </tr>\n",
       "    <tr>\n",
       "      <th>1</th>\n",
       "      <td>3196793</td>\n",
       "      <td>/m/08yl5d</td>\n",
       "      <td>Getting Away with Murder: The JonBenét Ramsey ...</td>\n",
       "      <td>2000-02-16</td>\n",
       "      <td>NaN</td>\n",
       "      <td>95.0</td>\n",
       "      <td>[English Language]</td>\n",
       "      <td>[United States of America]</td>\n",
       "      <td>[Mystery, Biographical film, Drama, Crime Drama]</td>\n",
       "      <td>NaN</td>\n",
       "      <td>NaN</td>\n",
       "      <td>NaN</td>\n",
       "      <td>NaN</td>\n",
       "      <td>NaN</td>\n",
       "      <td>NaN</td>\n",
       "      <td>NaN</td>\n",
       "      <td>NaN</td>\n",
       "      <td>NaN</td>\n",
       "      <td>NaN</td>\n",
       "    </tr>\n",
       "    <tr>\n",
       "      <th>2</th>\n",
       "      <td>28463795</td>\n",
       "      <td>/m/0crgdbh</td>\n",
       "      <td>Brun bitter</td>\n",
       "      <td>1988</td>\n",
       "      <td>NaN</td>\n",
       "      <td>83.0</td>\n",
       "      <td>[Norwegian Language]</td>\n",
       "      <td>[Norway]</td>\n",
       "      <td>[Crime Fiction, Drama]</td>\n",
       "      <td>NaN</td>\n",
       "      <td>NaN</td>\n",
       "      <td>NaN</td>\n",
       "      <td>NaN</td>\n",
       "      <td>NaN</td>\n",
       "      <td>NaN</td>\n",
       "      <td>NaN</td>\n",
       "      <td>NaN</td>\n",
       "      <td>NaN</td>\n",
       "      <td>NaN</td>\n",
       "    </tr>\n",
       "    <tr>\n",
       "      <th>3</th>\n",
       "      <td>9363483</td>\n",
       "      <td>/m/0285_cd</td>\n",
       "      <td>White Of The Eye</td>\n",
       "      <td>1987</td>\n",
       "      <td>NaN</td>\n",
       "      <td>110.0</td>\n",
       "      <td>[English Language]</td>\n",
       "      <td>[United Kingdom]</td>\n",
       "      <td>[Thriller, Erotic thriller, Psychological thri...</td>\n",
       "      <td>A series of murders of rich young women throug...</td>\n",
       "      <td>en</td>\n",
       "      <td>[A, series, of, murders, of, rich, young, wome...</td>\n",
       "      <td>[A series of murders of rich young women throu...</td>\n",
       "      <td>[[A, series, of, murders, of, rich, young, wom...</td>\n",
       "      <td>[[(A, DT), (series, NN), (of, IN), (murders, N...</td>\n",
       "      <td>[[A, series, of, murder, of, rich, young, woma...</td>\n",
       "      <td>[series, murder, woman, throughout, arizona, d...</td>\n",
       "      <td>NaN</td>\n",
       "      <td>NaN</td>\n",
       "    </tr>\n",
       "    <tr>\n",
       "      <th>4</th>\n",
       "      <td>261236</td>\n",
       "      <td>/m/01mrr1</td>\n",
       "      <td>A Woman in Flames</td>\n",
       "      <td>1983</td>\n",
       "      <td>NaN</td>\n",
       "      <td>106.0</td>\n",
       "      <td>[German Language]</td>\n",
       "      <td>[Germany]</td>\n",
       "      <td>[Drama]</td>\n",
       "      <td>Eva, an upper class housewife, becomes frustra...</td>\n",
       "      <td>en</td>\n",
       "      <td>[Eva, ,, an, upper, class, housewife, ,, becom...</td>\n",
       "      <td>[Eva, an upper class housewife, becomes frustr...</td>\n",
       "      <td>[[Eva, ,, an, upper, class, housewife, ,, beco...</td>\n",
       "      <td>[[(Eva, NNP), (,, ,), (an, DT), (upper, JJ), (...</td>\n",
       "      <td>[[Eva, ,, an, upper, class, housewife, ,, beco...</td>\n",
       "      <td>[upper, class, housewife, becomes, frustrated,...</td>\n",
       "      <td>NaN</td>\n",
       "      <td>NaN</td>\n",
       "    </tr>\n",
       "  </tbody>\n",
       "</table>\n",
       "</div>"
      ],
      "text/plain": [
       "   WikiMovieID FreeMovieID                                              Title  \\\n",
       "0       975900   /m/03vyhn                                     Ghosts of Mars   \n",
       "1      3196793   /m/08yl5d  Getting Away with Murder: The JonBenét Ramsey ...   \n",
       "2     28463795  /m/0crgdbh                                        Brun bitter   \n",
       "3      9363483  /m/0285_cd                                   White Of The Eye   \n",
       "4       261236   /m/01mrr1                                  A Woman in Flames   \n",
       "\n",
       "  ReleaseDate     Revenue  Runtime             Languages  \\\n",
       "0  2001-08-24  14010832.0     98.0    [English Language]   \n",
       "1  2000-02-16         NaN     95.0    [English Language]   \n",
       "2        1988         NaN     83.0  [Norwegian Language]   \n",
       "3        1987         NaN    110.0    [English Language]   \n",
       "4        1983         NaN    106.0     [German Language]   \n",
       "\n",
       "                    Countries  \\\n",
       "0  [United States of America]   \n",
       "1  [United States of America]   \n",
       "2                    [Norway]   \n",
       "3            [United Kingdom]   \n",
       "4                   [Germany]   \n",
       "\n",
       "                                              Genres  \\\n",
       "0  [Thriller, Science Fiction, Horror, Adventure,...   \n",
       "1   [Mystery, Biographical film, Drama, Crime Drama]   \n",
       "2                             [Crime Fiction, Drama]   \n",
       "3  [Thriller, Erotic thriller, Psychological thri...   \n",
       "4                                            [Drama]   \n",
       "\n",
       "                                                Plot lang  \\\n",
       "0  Set in the second half of the 22nd century, th...   en   \n",
       "1                                                NaN  NaN   \n",
       "2                                                NaN  NaN   \n",
       "3  A series of murders of rich young women throug...   en   \n",
       "4  Eva, an upper class housewife, becomes frustra...   en   \n",
       "\n",
       "                                          words_punc  \\\n",
       "0  [Set, in, the, second, half, of, the, 22nd, ce...   \n",
       "1                                                NaN   \n",
       "2                                                NaN   \n",
       "3  [A, series, of, murders, of, rich, young, wome...   \n",
       "4  [Eva, ,, an, upper, class, housewife, ,, becom...   \n",
       "\n",
       "                                           sentences  \\\n",
       "0  [Set in the second half of the 22nd century, t...   \n",
       "1                                                NaN   \n",
       "2                                                NaN   \n",
       "3  [A series of murders of rich young women throu...   \n",
       "4  [Eva, an upper class housewife, becomes frustr...   \n",
       "\n",
       "                                    tokens_sentences  \\\n",
       "0  [[Set, in, the, second, half, of, the, 22nd, c...   \n",
       "1                                                NaN   \n",
       "2                                                NaN   \n",
       "3  [[A, series, of, murders, of, rich, young, wom...   \n",
       "4  [[Eva, ,, an, upper, class, housewife, ,, beco...   \n",
       "\n",
       "                                          POS_tokens  \\\n",
       "0  [[(Set, NN), (in, IN), (the, DT), (second, JJ)...   \n",
       "1                                                NaN   \n",
       "2                                                NaN   \n",
       "3  [[(A, DT), (series, NN), (of, IN), (murders, N...   \n",
       "4  [[(Eva, NNP), (,, ,), (an, DT), (upper, JJ), (...   \n",
       "\n",
       "                         tokens_sentences_lemmatized  \\\n",
       "0  [[Set, in, the, second, half, of, the, 22nd, c...   \n",
       "1                                                NaN   \n",
       "2                                                NaN   \n",
       "3  [[A, series, of, murder, of, rich, young, woma...   \n",
       "4  [[Eva, ,, an, upper, class, housewife, ,, beco...   \n",
       "\n",
       "                                              tokens  metascore release_date  \n",
       "0  [set, second, half, century, film, depict, mar...       35.0    24-Aug-01  \n",
       "1                                                NaN        NaN          NaN  \n",
       "2                                                NaN        NaN          NaN  \n",
       "3  [series, murder, woman, throughout, arizona, d...        NaN          NaN  \n",
       "4  [upper, class, housewife, becomes, frustrated,...        NaN          NaN  "
      ]
     },
     "execution_count": 142,
     "metadata": {},
     "output_type": "execute_result"
    }
   ],
   "source": [
    "movies.head()"
   ]
  },
  {
   "cell_type": "code",
   "execution_count": 119,
   "id": "c7f843ce-8f3f-41e2-a415-850ea1e7e721",
   "metadata": {},
   "outputs": [
    {
     "data": {
      "text/html": [
       "<div>\n",
       "<style scoped>\n",
       "    .dataframe tbody tr th:only-of-type {\n",
       "        vertical-align: middle;\n",
       "    }\n",
       "\n",
       "    .dataframe tbody tr th {\n",
       "        vertical-align: top;\n",
       "    }\n",
       "\n",
       "    .dataframe thead th {\n",
       "        text-align: right;\n",
       "    }\n",
       "</style>\n",
       "<table border=\"1\" class=\"dataframe\">\n",
       "  <thead>\n",
       "    <tr style=\"text-align: right;\">\n",
       "      <th></th>\n",
       "      <th>plot_num_sentences</th>\n",
       "      <th>plot_num_words</th>\n",
       "      <th>plot_num_dot</th>\n",
       "      <th>plot_num_coma</th>\n",
       "      <th>plot_num_interrogation</th>\n",
       "      <th>plot_num_exclamation</th>\n",
       "      <th>plot_num_percentage</th>\n",
       "      <th>plot_num_semicolon</th>\n",
       "      <th>plot_num_colon</th>\n",
       "    </tr>\n",
       "  </thead>\n",
       "  <tbody>\n",
       "    <tr>\n",
       "      <th>0</th>\n",
       "      <td>1</td>\n",
       "      <td>28</td>\n",
       "      <td>1</td>\n",
       "      <td>5</td>\n",
       "      <td>0</td>\n",
       "      <td>0</td>\n",
       "      <td>0</td>\n",
       "      <td>0</td>\n",
       "      <td>0</td>\n",
       "    </tr>\n",
       "    <tr>\n",
       "      <th>1</th>\n",
       "      <td>52</td>\n",
       "      <td>789</td>\n",
       "      <td>52</td>\n",
       "      <td>48</td>\n",
       "      <td>0</td>\n",
       "      <td>0</td>\n",
       "      <td>0</td>\n",
       "      <td>3</td>\n",
       "      <td>0</td>\n",
       "    </tr>\n",
       "    <tr>\n",
       "      <th>2</th>\n",
       "      <td>26</td>\n",
       "      <td>493</td>\n",
       "      <td>26</td>\n",
       "      <td>23</td>\n",
       "      <td>0</td>\n",
       "      <td>0</td>\n",
       "      <td>0</td>\n",
       "      <td>0</td>\n",
       "      <td>0</td>\n",
       "    </tr>\n",
       "    <tr>\n",
       "      <th>3</th>\n",
       "      <td>49</td>\n",
       "      <td>866</td>\n",
       "      <td>49</td>\n",
       "      <td>51</td>\n",
       "      <td>0</td>\n",
       "      <td>0</td>\n",
       "      <td>0</td>\n",
       "      <td>0</td>\n",
       "      <td>0</td>\n",
       "    </tr>\n",
       "    <tr>\n",
       "      <th>4</th>\n",
       "      <td>15</td>\n",
       "      <td>408</td>\n",
       "      <td>15</td>\n",
       "      <td>26</td>\n",
       "      <td>0</td>\n",
       "      <td>0</td>\n",
       "      <td>0</td>\n",
       "      <td>0</td>\n",
       "      <td>0</td>\n",
       "    </tr>\n",
       "  </tbody>\n",
       "</table>\n",
       "</div>"
      ],
      "text/plain": [
       "   plot_num_sentences  plot_num_words  plot_num_dot  plot_num_coma  \\\n",
       "0                   1              28             1              5   \n",
       "1                  52             789            52             48   \n",
       "2                  26             493            26             23   \n",
       "3                  49             866            49             51   \n",
       "4                  15             408            15             26   \n",
       "\n",
       "   plot_num_interrogation  plot_num_exclamation  plot_num_percentage  \\\n",
       "0                       0                     0                    0   \n",
       "1                       0                     0                    0   \n",
       "2                       0                     0                    0   \n",
       "3                       0                     0                    0   \n",
       "4                       0                     0                    0   \n",
       "\n",
       "   plot_num_semicolon  plot_num_colon  \n",
       "0                   0               0  \n",
       "1                   3               0  \n",
       "2                   0               0  \n",
       "3                   0               0  \n",
       "4                   0               0  "
      ]
     },
     "execution_count": 119,
     "metadata": {},
     "output_type": "execute_result"
    }
   ],
   "source": [
    "# Moving back to plot_summaries to avoid nan values\n",
    "\n",
    "plot_summaries['plot_num_sentences'] = plot_summaries.sentences.apply( lambda x: len(x))\n",
    "plot_summaries['plot_num_words'] =  plot_summaries.Plot.apply( lambda x: len(RegexpTokenizer(r'\\w+').tokenize(x)))\n",
    "plot_summaries['plot_num_dot'] = plot_summaries.words_punc.apply( lambda x: list(x).count('.'))\n",
    "plot_summaries['plot_num_coma'] = plot_summaries.words_punc.apply( lambda x: x.count(','))\n",
    "plot_summaries['plot_num_interrogation'] = plot_summaries.words_punc.apply( lambda x: x.count('?'))\n",
    "plot_summaries['plot_num_exclamation'] = plot_summaries.words_punc.apply( lambda x: x.count('!'))\n",
    "plot_summaries['plot_num_percentage'] = plot_summaries.words_punc.apply( lambda x: x.count('%'))\n",
    "plot_summaries['plot_num_semicolon'] = plot_summaries.words_punc.apply( lambda x: x.count(';'))\n",
    "plot_summaries['plot_num_colon'] = plot_summaries.words_punc.apply( lambda x: x.count(':'))\n",
    "\n",
    "plot_summaries[['plot_num_sentences','plot_num_words','plot_num_dot','plot_num_coma','plot_num_interrogation',\\\n",
    "        'plot_num_exclamation','plot_num_percentage','plot_num_semicolon','plot_num_colon']].head()"
   ]
  },
  {
   "cell_type": "markdown",
   "id": "bc1b8454-278c-4e34-ae90-936abeefa9aa",
   "metadata": {
    "jp-MarkdownHeadingCollapsed": true,
    "tags": []
   },
   "source": [
    "### 2.3.2 Statistics"
   ]
  },
  {
   "cell_type": "code",
   "execution_count": 120,
   "id": "43c90b41-3f3a-46e7-9d96-fd37c55bbecc",
   "metadata": {},
   "outputs": [
    {
     "data": {
      "text/html": [
       "<div>\n",
       "<style scoped>\n",
       "    .dataframe tbody tr th:only-of-type {\n",
       "        vertical-align: middle;\n",
       "    }\n",
       "\n",
       "    .dataframe tbody tr th {\n",
       "        vertical-align: top;\n",
       "    }\n",
       "\n",
       "    .dataframe thead th {\n",
       "        text-align: right;\n",
       "    }\n",
       "</style>\n",
       "<table border=\"1\" class=\"dataframe\">\n",
       "  <thead>\n",
       "    <tr style=\"text-align: right;\">\n",
       "      <th></th>\n",
       "      <th>plot_num_sentences</th>\n",
       "      <th>plot_num_words</th>\n",
       "      <th>plot_num_dot</th>\n",
       "      <th>plot_num_coma</th>\n",
       "      <th>plot_num_interrogation</th>\n",
       "      <th>plot_num_exclamation</th>\n",
       "      <th>plot_num_percentage</th>\n",
       "      <th>plot_num_semicolon</th>\n",
       "      <th>plot_num_colon</th>\n",
       "    </tr>\n",
       "  </thead>\n",
       "  <tbody>\n",
       "    <tr>\n",
       "      <th>count</th>\n",
       "      <td>42276.000000</td>\n",
       "      <td>42276.000000</td>\n",
       "      <td>42276.000000</td>\n",
       "      <td>42276.000000</td>\n",
       "      <td>42276.000000</td>\n",
       "      <td>42276.000000</td>\n",
       "      <td>42276.000000</td>\n",
       "      <td>42276.000000</td>\n",
       "      <td>42276.000000</td>\n",
       "    </tr>\n",
       "    <tr>\n",
       "      <th>mean</th>\n",
       "      <td>15.693585</td>\n",
       "      <td>316.079052</td>\n",
       "      <td>15.458180</td>\n",
       "      <td>18.626975</td>\n",
       "      <td>0.079194</td>\n",
       "      <td>0.088703</td>\n",
       "      <td>0.009012</td>\n",
       "      <td>0.415129</td>\n",
       "      <td>0.303908</td>\n",
       "    </tr>\n",
       "    <tr>\n",
       "      <th>std</th>\n",
       "      <td>16.598726</td>\n",
       "      <td>323.456430</td>\n",
       "      <td>16.507334</td>\n",
       "      <td>20.718703</td>\n",
       "      <td>0.449321</td>\n",
       "      <td>0.560378</td>\n",
       "      <td>0.283409</td>\n",
       "      <td>1.202210</td>\n",
       "      <td>0.929971</td>\n",
       "    </tr>\n",
       "    <tr>\n",
       "      <th>min</th>\n",
       "      <td>1.000000</td>\n",
       "      <td>14.000000</td>\n",
       "      <td>0.000000</td>\n",
       "      <td>0.000000</td>\n",
       "      <td>0.000000</td>\n",
       "      <td>0.000000</td>\n",
       "      <td>0.000000</td>\n",
       "      <td>0.000000</td>\n",
       "      <td>0.000000</td>\n",
       "    </tr>\n",
       "    <tr>\n",
       "      <th>25%</th>\n",
       "      <td>4.000000</td>\n",
       "      <td>89.000000</td>\n",
       "      <td>4.000000</td>\n",
       "      <td>4.000000</td>\n",
       "      <td>0.000000</td>\n",
       "      <td>0.000000</td>\n",
       "      <td>0.000000</td>\n",
       "      <td>0.000000</td>\n",
       "      <td>0.000000</td>\n",
       "    </tr>\n",
       "    <tr>\n",
       "      <th>50%</th>\n",
       "      <td>9.000000</td>\n",
       "      <td>190.000000</td>\n",
       "      <td>9.000000</td>\n",
       "      <td>11.000000</td>\n",
       "      <td>0.000000</td>\n",
       "      <td>0.000000</td>\n",
       "      <td>0.000000</td>\n",
       "      <td>0.000000</td>\n",
       "      <td>0.000000</td>\n",
       "    </tr>\n",
       "    <tr>\n",
       "      <th>75%</th>\n",
       "      <td>23.000000</td>\n",
       "      <td>460.000000</td>\n",
       "      <td>23.000000</td>\n",
       "      <td>27.000000</td>\n",
       "      <td>0.000000</td>\n",
       "      <td>0.000000</td>\n",
       "      <td>0.000000</td>\n",
       "      <td>0.000000</td>\n",
       "      <td>0.000000</td>\n",
       "    </tr>\n",
       "    <tr>\n",
       "      <th>max</th>\n",
       "      <td>344.000000</td>\n",
       "      <td>5016.000000</td>\n",
       "      <td>333.000000</td>\n",
       "      <td>307.000000</td>\n",
       "      <td>30.000000</td>\n",
       "      <td>27.000000</td>\n",
       "      <td>52.000000</td>\n",
       "      <td>65.000000</td>\n",
       "      <td>48.000000</td>\n",
       "    </tr>\n",
       "  </tbody>\n",
       "</table>\n",
       "</div>"
      ],
      "text/plain": [
       "       plot_num_sentences  plot_num_words  plot_num_dot  plot_num_coma  \\\n",
       "count        42276.000000    42276.000000  42276.000000   42276.000000   \n",
       "mean            15.693585      316.079052     15.458180      18.626975   \n",
       "std             16.598726      323.456430     16.507334      20.718703   \n",
       "min              1.000000       14.000000      0.000000       0.000000   \n",
       "25%              4.000000       89.000000      4.000000       4.000000   \n",
       "50%              9.000000      190.000000      9.000000      11.000000   \n",
       "75%             23.000000      460.000000     23.000000      27.000000   \n",
       "max            344.000000     5016.000000    333.000000     307.000000   \n",
       "\n",
       "       plot_num_interrogation  plot_num_exclamation  plot_num_percentage  \\\n",
       "count            42276.000000          42276.000000         42276.000000   \n",
       "mean                 0.079194              0.088703             0.009012   \n",
       "std                  0.449321              0.560378             0.283409   \n",
       "min                  0.000000              0.000000             0.000000   \n",
       "25%                  0.000000              0.000000             0.000000   \n",
       "50%                  0.000000              0.000000             0.000000   \n",
       "75%                  0.000000              0.000000             0.000000   \n",
       "max                 30.000000             27.000000            52.000000   \n",
       "\n",
       "       plot_num_semicolon  plot_num_colon  \n",
       "count        42276.000000    42276.000000  \n",
       "mean             0.415129        0.303908  \n",
       "std              1.202210        0.929971  \n",
       "min              0.000000        0.000000  \n",
       "25%              0.000000        0.000000  \n",
       "50%              0.000000        0.000000  \n",
       "75%              0.000000        0.000000  \n",
       "max             65.000000       48.000000  "
      ]
     },
     "execution_count": 120,
     "metadata": {},
     "output_type": "execute_result"
    }
   ],
   "source": [
    "plot_summaries[['plot_num_sentences','plot_num_words','plot_num_dot','plot_num_coma','plot_num_interrogation',\\\n",
    "                'plot_num_exclamation','plot_num_percentage','plot_num_semicolon','plot_num_colon']].describe()"
   ]
  },
  {
   "cell_type": "markdown",
   "id": "5b6bc039-9a83-43d2-93c4-281bab10a2b1",
   "metadata": {
    "jp-MarkdownHeadingCollapsed": true,
    "tags": []
   },
   "source": [
    "### 2.3.3 Most common tokens in plot summaries"
   ]
  },
  {
   "cell_type": "code",
   "execution_count": 122,
   "id": "8f41a5b3-7cb2-417e-aee0-8150aa1706d1",
   "metadata": {},
   "outputs": [],
   "source": [
    "def most_frequent(List,n):\n",
    "    occurence_count = Counter(List)\n",
    "    return occurence_count.most_common(n)"
   ]
  },
  {
   "cell_type": "code",
   "execution_count": 123,
   "id": "8c2b45c8-cb75-4f51-8dec-b43517c24737",
   "metadata": {},
   "outputs": [
    {
     "data": {
      "text/plain": [
       "0    [(shlykov, 1), (taxi, 1), (driver, 1), (lyosha...\n",
       "1    [(katniss, 24), (peeta, 16), (rue, 11), (distr...\n",
       "2    [(induchoodan, 18), (menon, 12), (manapally, 8...\n",
       "3    [(kid, 34), (home, 10), (moran, 8), (money, 7)...\n",
       "4    [(azaria, 4), (guilty, 3), (wife, 2), (baby, 2...\n",
       "Name: plot_top_ten_tokens, dtype: object"
      ]
     },
     "execution_count": 123,
     "metadata": {},
     "output_type": "execute_result"
    }
   ],
   "source": [
    "plot_summaries['plot_top_ten_tokens'] = plot_summaries.tokens.apply( lambda x: most_frequent(x,10))\n",
    "\n",
    "plot_summaries['plot_top_ten_tokens'].head() # maybe do something with filtered proper names"
   ]
  },
  {
   "cell_type": "markdown",
   "id": "a815207c-e31b-41e0-bdaa-fbd3b43494f2",
   "metadata": {
    "tags": []
   },
   "source": [
    "### 2.3.4 Words polarity"
   ]
  },
  {
   "cell_type": "code",
   "execution_count": 125,
   "id": "eb629174-2206-4f65-8411-9268a424c837",
   "metadata": {},
   "outputs": [],
   "source": [
    "#count of the different negative and positive words\n",
    "positive_txt = requests.get('https://ptrckprry.com/course/ssd/data/positive-words.txt').text\n",
    "negative_txt = requests.get('https://ptrckprry.com/course/ssd/data/negative-words.txt').text\n",
    "\n",
    "def parse_str(s):\n",
    "    return list(filter(lambda x:x[0]!=';', list(filter(None, s.split(\"\\n\")))))"
   ]
  },
  {
   "cell_type": "code",
   "execution_count": 126,
   "id": "0ab64bb8-0e83-476a-a3ea-569660b1d5b7",
   "metadata": {},
   "outputs": [
    {
     "data": {
      "text/html": [
       "<div>\n",
       "<style scoped>\n",
       "    .dataframe tbody tr th:only-of-type {\n",
       "        vertical-align: middle;\n",
       "    }\n",
       "\n",
       "    .dataframe tbody tr th {\n",
       "        vertical-align: top;\n",
       "    }\n",
       "\n",
       "    .dataframe thead th {\n",
       "        text-align: right;\n",
       "    }\n",
       "</style>\n",
       "<table border=\"1\" class=\"dataframe\">\n",
       "  <thead>\n",
       "    <tr style=\"text-align: right;\">\n",
       "      <th></th>\n",
       "      <th>plot_num_positive</th>\n",
       "      <th>plot_num_negative</th>\n",
       "    </tr>\n",
       "  </thead>\n",
       "  <tbody>\n",
       "    <tr>\n",
       "      <th>0</th>\n",
       "      <td>1</td>\n",
       "      <td>4</td>\n",
       "    </tr>\n",
       "    <tr>\n",
       "      <th>1</th>\n",
       "      <td>17</td>\n",
       "      <td>33</td>\n",
       "    </tr>\n",
       "    <tr>\n",
       "      <th>2</th>\n",
       "      <td>10</td>\n",
       "      <td>23</td>\n",
       "    </tr>\n",
       "    <tr>\n",
       "      <th>3</th>\n",
       "      <td>19</td>\n",
       "      <td>23</td>\n",
       "    </tr>\n",
       "    <tr>\n",
       "      <th>4</th>\n",
       "      <td>4</td>\n",
       "      <td>14</td>\n",
       "    </tr>\n",
       "  </tbody>\n",
       "</table>\n",
       "</div>"
      ],
      "text/plain": [
       "   plot_num_positive  plot_num_negative\n",
       "0                  1                  4\n",
       "1                 17                 33\n",
       "2                 10                 23\n",
       "3                 19                 23\n",
       "4                  4                 14"
      ]
     },
     "execution_count": 126,
     "metadata": {},
     "output_type": "execute_result"
    }
   ],
   "source": [
    "plot_summaries['plot_num_positive']= plot_summaries.Plot.apply(lambda x : len(set(parse_str(positive_txt)) & set(RegexpTokenizer(r'\\w+').tokenize(x.lower()))))\n",
    "plot_summaries['plot_num_negative']= plot_summaries.Plot.apply(lambda x : len(set(parse_str(negative_txt)) & set(RegexpTokenizer(r'\\w+').tokenize(x.lower()))))\n",
    "\n",
    "plot_summaries[['plot_num_positive','plot_num_negative']].head()"
   ]
  },
  {
   "cell_type": "raw",
   "id": "e39a50e4-42ef-4741-b624-552fab28dd53",
   "metadata": {},
   "source": [
    "len((set(['a','a','b']) & set(['a','c','b']) )) # output: 2"
   ]
  },
  {
   "cell_type": "markdown",
   "id": "09bd5a45-3041-46e2-9cca-feec80906e92",
   "metadata": {
    "tags": []
   },
   "source": [
    "#### Saving `movies`"
   ]
  },
  {
   "cell_type": "code",
   "execution_count": 143,
   "id": "040532e7-ca23-48ec-8ad6-6673cc8cbbb0",
   "metadata": {},
   "outputs": [],
   "source": [
    "merging_cols = list(plot_summaries.columns.difference(movies.columns)) + [\"WikiMovieID\"]\n",
    "movies = movies.merge(plot_summaries[merging_cols], how=\"left\", on=\"WikiMovieID\")"
   ]
  },
  {
   "cell_type": "code",
   "execution_count": 146,
   "id": "25dcba7b-e117-4676-af4a-9f3df27c1f61",
   "metadata": {},
   "outputs": [],
   "source": [
    "os.makedirs('data', exist_ok=True)  \n",
    "movies.to_pickle('data/movies_aug2.pkl')"
   ]
  },
  {
   "cell_type": "code",
   "execution_count": 147,
   "id": "9e0cf646-5d21-40e6-8eb7-864754b1c2ac",
   "metadata": {},
   "outputs": [],
   "source": [
    "movies = pd.read_pickle('data/movies_aug2.pkl')"
   ]
  },
  {
   "cell_type": "markdown",
   "id": "4f26d67e-df8c-4ae4-bf95-cc210ff86325",
   "metadata": {},
   "source": [
    "# 3. Topic Extraction "
   ]
  },
  {
   "cell_type": "markdown",
   "id": "eef5b4cc-73c3-43e2-8d0f-62c70d762c6c",
   "metadata": {
    "tags": []
   },
   "source": [
    "## 3.1 LDA"
   ]
  },
  {
   "cell_type": "markdown",
   "id": "bd8e694b-d470-4a60-8f44-3dabbf64eeab",
   "metadata": {
    "jp-MarkdownHeadingCollapsed": true,
    "tags": []
   },
   "source": [
    "### 3.1.1 Data preparation"
   ]
  },
  {
   "cell_type": "markdown",
   "id": "11c39ceb-2b1c-49f4-96a8-cf6fab608a98",
   "metadata": {},
   "source": [
    "#### Prepare bi-grams and tri-grams"
   ]
  },
  {
   "cell_type": "code",
   "execution_count": 150,
   "id": "697dc7d6-c85c-4319-989e-7b018bc4577f",
   "metadata": {},
   "outputs": [],
   "source": [
    "tokens = plot_summaries['tokens'].tolist()\n",
    "bigram_model = Phrases(tokens)\n",
    "trigram_model = Phrases(bigram_model[tokens], min_count=1)\n",
    "tokens = list(trigram_model[bigram_model[tokens]])"
   ]
  },
  {
   "cell_type": "markdown",
   "id": "e0b8d779-423e-4db7-a3d3-3409cf2fb8c9",
   "metadata": {},
   "source": [
    "#### Prepare objects for LDA gensim implementation"
   ]
  },
  {
   "cell_type": "code",
   "execution_count": 151,
   "id": "d99dc7e9-8e90-4bf4-92d9-5da3c9201876",
   "metadata": {},
   "outputs": [],
   "source": [
    "dictionary_LDA = corpora.Dictionary(tokens)\n",
    "dictionary_LDA.filter_extremes(no_below=3)\n",
    "corpus = [dictionary_LDA.doc2bow(tok) for tok in tokens]"
   ]
  },
  {
   "cell_type": "markdown",
   "id": "2c273232-acd2-4283-934a-8655f53aa73b",
   "metadata": {
    "jp-MarkdownHeadingCollapsed": true,
    "tags": []
   },
   "source": [
    "### 3.1.2 Implementation"
   ]
  },
  {
   "cell_type": "code",
   "execution_count": 152,
   "id": "f91f62ff-5021-4810-84aa-069525b5b3c7",
   "metadata": {},
   "outputs": [
    {
     "name": "stdout",
     "output_type": "stream",
     "text": [
      "CPU times: user 1min 41s, sys: 572 ms, total: 1min 41s\n",
      "Wall time: 1min 42s\n"
     ]
    }
   ],
   "source": [
    "np.random.seed(123456)\n",
    "num_topics = 20\n",
    "%time lda_model = models.LdaModel(corpus, num_topics=num_topics, \\\n",
    "                                  id2word=dictionary_LDA, \\\n",
    "                                  passes=4, alpha=[0.01]*num_topics, \\\n",
    "                                  eta=[0.01]*len(dictionary_LDA.keys()))"
   ]
  },
  {
   "cell_type": "markdown",
   "id": "ca31b691-b27e-41b5-9fe5-c2b69c963246",
   "metadata": {
    "jp-MarkdownHeadingCollapsed": true,
    "tags": []
   },
   "source": [
    "### 3.1.3 Model evaluation \n",
    "\n",
    "(by checking how many topics a word exists in)"
   ]
  },
  {
   "cell_type": "code",
   "execution_count": 153,
   "id": "44db64c4-8274-4e8c-a7c2-f80656ef6634",
   "metadata": {},
   "outputs": [],
   "source": [
    "topics_ = dict()\n",
    "for i,topic in lda_model.show_topics(formatted=False, num_topics=num_topics, num_words=20):\n",
    "    topics_[i]=topic"
   ]
  },
  {
   "cell_type": "code",
   "execution_count": 156,
   "id": "fee322d0-a5a9-4545-bf16-983541af7e5d",
   "metadata": {},
   "outputs": [],
   "source": [
    "\"\"\"\n",
    "Counts for each word the number of topics that include it\n",
    "\"\"\"\n",
    "def count_words(topics_):\n",
    "    counts = dict()\n",
    "    for i in topics_:\n",
    "        for word in topics_[i]:\n",
    "            if word[0] in counts:\n",
    "                counts[word[0]]+=1\n",
    "            else:\n",
    "                counts[word[0]]=1\n",
    "    return counts\n",
    "\n",
    "def takeSecond(elem):\n",
    "    return elem[1]"
   ]
  },
  {
   "cell_type": "code",
   "execution_count": 157,
   "id": "df47136f-9d28-4c34-8986-0b67b8c1993c",
   "metadata": {},
   "outputs": [
    {
     "data": {
      "text/plain": [
       "[('woman', 5),\n",
       " ('fall', 5),\n",
       " ('life', 4),\n",
       " ('play', 4),\n",
       " ('give', 4),\n",
       " ('meet', 4),\n",
       " ('time', 4),\n",
       " ('escape', 4),\n",
       " ('men', 4),\n",
       " ('attack', 4),\n",
       " ('begin', 4),\n",
       " ('group', 4)]"
      ]
     },
     "execution_count": 157,
     "metadata": {},
     "output_type": "execute_result"
    }
   ],
   "source": [
    "counts = count_words(topics_)\n",
    "repeated_words = [(k,v) for k,v in counts.items() if v>=4]\n",
    "repeated_words.sort(reverse=True, key = takeSecond)\n",
    "repeated_words"
   ]
  },
  {
   "cell_type": "markdown",
   "id": "ecb68e21-df28-4ec0-8723-76507cc2bc27",
   "metadata": {
    "jp-MarkdownHeadingCollapsed": true,
    "tags": []
   },
   "source": [
    "### 3.1.4 Resulting topics"
   ]
  },
  {
   "cell_type": "code",
   "execution_count": 158,
   "id": "7f18b94a-8809-4eed-a53b-9716667f5433",
   "metadata": {},
   "outputs": [
    {
     "name": "stdout",
     "output_type": "stream",
     "text": [
      "Topic 0 : ['story', 'raja', 'uncle', 'life', 'hollis', 'kang', 'expand_section', 'lambert', 'cite_web', 'play', 'follow', 'idol', 'guru', 'poet', 'bergman', 'millionaire', 'film_tell_story', 'child', 'woman', 'set']\n",
      "\n",
      "Topic 1 : ['money', 'boy', 'kid', 'steal', 'work', 'gang', 'sell', 'bank', 'pay', 'plan', 'give', 'car', 'decide', 'big', 'new', 'company', 'business', 'buy', 'owner', 'town']\n",
      "\n",
      "Topic 2 : ['family', 'mother', 'life', 'father', 'friend', 'child', 'meet', 'wife', 'marry', 'husband', 'live', 'work', 'home', 'woman', 'daughter', 'decide', 'relationship', 'time', 'return', 'fall']\n",
      "\n",
      "Topic 3 : ['kill', 'police', 'escape', 'men', 'shoot', 'murder', 'tell', 'help', 'meet', 'plan', 'fight', 'reveal', 'brother', 'death', 'arrive', 'arrest', 'later', 'gun', 'gang', 'attack']\n",
      "\n",
      "Topic 4 : ['japanese', 'camp', 'spike', 'bowen', 'japan', 'lion', 'korea', 'tokyo', 'circus', 'mace', 'sullivan', 'whitey', 'toshio', 'tarzan', 'preacher', 'korean', 'finch', 'mississippi', 'pa', 'winter']\n",
      "\n",
      "Topic 5 : ['play', 'show', 'dance', 'perform', 'sex', 'act', 'club', 'woman', 'music', 'sing', 'stage', 'performance', 'song', 'begin', 'audience', 'turn', 'dress', 'guest', 'room', 'appear']\n",
      "\n",
      "Topic 6 : ['tell', 'say', 'ask', 'house', 'call', 'give', 'home', 'show', 'want', 'next', 'later', 'night', 'room', 'friend', 'look', 'talk', 'time', 'arrive', 'start', 'think']\n",
      "\n",
      "Topic 7 : ['dog', 'house', 'kill', 'body', 'ghost', 'attack', 'dead', 'baby', 'begin', 'zombie', 'discover', 'head', 'girl', 'child', 'woman', 'old', 'death', 'group', 'wood', 'mother']\n",
      "\n",
      "Topic 8 : ['return', 'ship', 'captain', 'men', 'sir', 'british', 'send', 'order', 'war', 'french', 'england', 'english', 'island', 'give', 'baron', 'count', 'rescue', 'land', 'france', 'crew']\n",
      "\n",
      "Topic 9 : ['dragon', 'castle', 'queen', 'daffy', 'palace', 'kingdom', 'wu', 'sharpe', 'lord', 'turner', 'knight', 'crown', 'puppet', 'boone', 'give', 'fall', 'harper', 'fairy', 'judah', 'gopal']\n",
      "\n",
      "Topic 10 : ['band', 'race', 'win', 'horse', 'fight', 'mayor', 'competition', 'blue', 'samurai', 'local', 'town', 'roberts', 'match', 'train', 'fighter', 'compete', 'team', 'champion', 'challenge', 'crowd']\n",
      "\n",
      "Topic 11 : ['team', 'soldier', 'game', 'agent', 'mission', 'order', 'president', 'men', 'war', 'player', 'lead', 'base', 'group', 'army', 'vampire', 'use', 'attack', 'force', 'tank', 'general']\n",
      "\n",
      "Topic 12 : ['raju', 'murphy', 'kong', 'miller', 'bond', 'scholar', 'chinese', 'pirate', 'treasure', 'wong', 'smuggler', 'fei', 'gayatri', 'jeb', 'hill', 'baker', 'shanghai', 'crawford', 'meet', 'pizza']\n",
      "\n",
      "Topic 13 : ['island', 'water', 'boat', 'fly', 'attempt', 'fall', 'escape', 'head', 'rescue', 'group', 'plane', 'begin', 'land', 'snake', 'trap', 'egg', 'ship', 'another', 'animal', 'pilot']\n",
      "\n",
      "Topic 14 : ['train', 'group', 'camp', 'truck', 'town', 'gold', 'men', 'station', 'soldier', 'escape', 'travel', 'stop', 'survivor', 'hayes', 'mountain', 'prisoner', 'bus', 'mine', 'area', 'driver']\n",
      "\n",
      "Topic 15 : ['film', 'movie', 'show', 'story', 'character', 'play', 'life', 'scene', 'include', 'first', 'people', 'world', 'end', 'director', 'actor', 'part', 'set', 'interview', 'many', 'event']\n",
      "\n",
      "Topic 16 : ['wife', 'life', 'work', 'people', 'case', 'lead', 'death', 'murder', 'involve', 'woman', 'doctor', 'time', 'story', 'state', 'begin', 'know', 'family', 'even', 'believe', 'place']\n",
      "\n",
      "Topic 17 : ['father', 'school', 'girl', 'brother', 'village', 'daughter', 'family', 'student', 'fall', 'mother', 'boy', 'friend', 'marry', 'help', 'sister', 'know', 'meet', 'want', 'decide', 'start']\n",
      "\n",
      "Topic 18 : ['bugs', 'end', 'mouse', 'godzilla', 'wile', 'start', 'fall', 'porky', 'coyote', 'duck', 'rabbit', 'kamini', 'turn', 'cause', 'hit', 'use', 'head', 'play', 'ball', 'attempt']\n",
      "\n",
      "Topic 19 : ['kill', 'use', 'destroy', 'attack', 'world', 'fight', 'escape', 'earth', 'human', 'force', 'return', 'save', 'discover', 'power', 'capture', 'battle', 'monster', 'time', 'reveal', 'attempt']\n",
      "\n"
     ]
    }
   ],
   "source": [
    "for i in topics_:\n",
    "    message = \"Topic {} : \".format(i) \n",
    "    words = str([k for (k,v) in topics_[i]])\n",
    "    print(message+words)\n",
    "    print()"
   ]
  },
  {
   "cell_type": "markdown",
   "id": "feb8962f-53af-4a72-a9e7-0abc152994b8",
   "metadata": {
    "jp-MarkdownHeadingCollapsed": true,
    "tags": []
   },
   "source": [
    "### 3.1.5 Topic Visualizations"
   ]
  },
  {
   "cell_type": "code",
   "execution_count": null,
   "id": "2c22e302-0b0d-46b2-b79a-76fc6aec61f0",
   "metadata": {},
   "outputs": [],
   "source": [
    "%matplotlib inline\n",
    "import pyLDAvis\n",
    "import pyLDAvis.gensim_models as gensimvis\n",
    "vis = gensimvis.prepare(topic_model=lda_model, corpus=corpus, dictionary=dictionary_LDA)\n",
    "pyLDAvis.enable_notebook()\n",
    "pyLDAvis.display(vis)"
   ]
  },
  {
   "cell_type": "markdown",
   "id": "28eb4b40-0d24-4292-9516-1a61d2d2105c",
   "metadata": {
    "tags": []
   },
   "source": [
    "### 3.1.6 Assigning topics to movies"
   ]
  },
  {
   "cell_type": "code",
   "execution_count": 159,
   "id": "793f9bb7-95f1-4212-afa5-20e9b472a2cc",
   "metadata": {},
   "outputs": [],
   "source": [
    "def most_probable_topic(possible_topics):\n",
    "    possible_topics.sort(reverse=True, key = takeSecond)\n",
    "    return possible_topics[0][0]"
   ]
  },
  {
   "cell_type": "code",
   "execution_count": 160,
   "id": "a37c7083-fc7e-4ce0-9477-2fa10e20938d",
   "metadata": {},
   "outputs": [
    {
     "name": "stderr",
     "output_type": "stream",
     "text": [
      "100%|███████████████████████████████████| 42276/42276 [00:18<00:00, 2309.42it/s]\n"
     ]
    }
   ],
   "source": [
    "chosen_topics = list()\n",
    "for plot in tqdm(corpus):\n",
    "    possible_topics = lda_model[plot]\n",
    "    chosen_topic = most_probable_topic(possible_topics)\n",
    "    chosen_topics.append(chosen_topic)\n",
    "\n",
    "chosen_topics = np.array(chosen_topics)"
   ]
  },
  {
   "cell_type": "code",
   "execution_count": 161,
   "id": "3f2dddda-74f4-4aa0-97a0-f497aa94791b",
   "metadata": {},
   "outputs": [
    {
     "data": {
      "text/html": [
       "<div>\n",
       "<style scoped>\n",
       "    .dataframe tbody tr th:only-of-type {\n",
       "        vertical-align: middle;\n",
       "    }\n",
       "\n",
       "    .dataframe tbody tr th {\n",
       "        vertical-align: top;\n",
       "    }\n",
       "\n",
       "    .dataframe thead th {\n",
       "        text-align: right;\n",
       "    }\n",
       "</style>\n",
       "<table border=\"1\" class=\"dataframe\">\n",
       "  <thead>\n",
       "    <tr style=\"text-align: right;\">\n",
       "      <th></th>\n",
       "      <th>Topic</th>\n",
       "      <th>Index</th>\n",
       "    </tr>\n",
       "  </thead>\n",
       "  <tbody>\n",
       "    <tr>\n",
       "      <th>0</th>\n",
       "      <td>2</td>\n",
       "      <td>0</td>\n",
       "    </tr>\n",
       "    <tr>\n",
       "      <th>1</th>\n",
       "      <td>19</td>\n",
       "      <td>1</td>\n",
       "    </tr>\n",
       "    <tr>\n",
       "      <th>2</th>\n",
       "      <td>16</td>\n",
       "      <td>2</td>\n",
       "    </tr>\n",
       "    <tr>\n",
       "      <th>3</th>\n",
       "      <td>1</td>\n",
       "      <td>3</td>\n",
       "    </tr>\n",
       "    <tr>\n",
       "      <th>4</th>\n",
       "      <td>16</td>\n",
       "      <td>4</td>\n",
       "    </tr>\n",
       "  </tbody>\n",
       "</table>\n",
       "</div>"
      ],
      "text/plain": [
       "   Topic  Index\n",
       "0      2      0\n",
       "1     19      1\n",
       "2     16      2\n",
       "3      1      3\n",
       "4     16      4"
      ]
     },
     "metadata": {},
     "output_type": "display_data"
    }
   ],
   "source": [
    "topics_df = pd.DataFrame(chosen_topics, columns = [\"Topic\"]) #Rename this to Topic_LDA\n",
    "\n",
    "topics_df[\"Index\"] = topics_df.index\n",
    "\n",
    "display(topics_df.head())"
   ]
  },
  {
   "cell_type": "code",
   "execution_count": 163,
   "id": "b5e48388-d82a-472d-8276-f2b7dabb33c2",
   "metadata": {},
   "outputs": [],
   "source": [
    "plot_summaries[\"Index\"] = plot_summaries.index\n",
    "\n",
    "plot_summaries = plot_summaries.merge(topics_df, left_on=\"Index\", right_on=\"Index\").drop(columns=[\"Index\"])"
   ]
  },
  {
   "cell_type": "code",
   "execution_count": 165,
   "id": "01d6c236-cbb9-40e7-bf6e-e5304cda4633",
   "metadata": {},
   "outputs": [
    {
     "data": {
      "text/html": [
       "<div>\n",
       "<style scoped>\n",
       "    .dataframe tbody tr th:only-of-type {\n",
       "        vertical-align: middle;\n",
       "    }\n",
       "\n",
       "    .dataframe tbody tr th {\n",
       "        vertical-align: top;\n",
       "    }\n",
       "\n",
       "    .dataframe thead th {\n",
       "        text-align: right;\n",
       "    }\n",
       "</style>\n",
       "<table border=\"1\" class=\"dataframe\">\n",
       "  <thead>\n",
       "    <tr style=\"text-align: right;\">\n",
       "      <th></th>\n",
       "      <th>WikiMovieID</th>\n",
       "      <th>Plot</th>\n",
       "      <th>Topic</th>\n",
       "    </tr>\n",
       "  </thead>\n",
       "  <tbody>\n",
       "    <tr>\n",
       "      <th>0</th>\n",
       "      <td>23890098</td>\n",
       "      <td>Shlykov, a hard-working taxi driver and Lyosha...</td>\n",
       "      <td>2</td>\n",
       "    </tr>\n",
       "    <tr>\n",
       "      <th>1</th>\n",
       "      <td>31186339</td>\n",
       "      <td>The nation of Panem consists of a wealthy Capi...</td>\n",
       "      <td>19</td>\n",
       "    </tr>\n",
       "    <tr>\n",
       "      <th>2</th>\n",
       "      <td>20663735</td>\n",
       "      <td>Poovalli Induchoodan  is sentenced for six yea...</td>\n",
       "      <td>16</td>\n",
       "    </tr>\n",
       "    <tr>\n",
       "      <th>3</th>\n",
       "      <td>2231378</td>\n",
       "      <td>The Lemon Drop Kid , a New York City swindler,...</td>\n",
       "      <td>1</td>\n",
       "    </tr>\n",
       "    <tr>\n",
       "      <th>4</th>\n",
       "      <td>595909</td>\n",
       "      <td>Seventh-day Adventist Church pastor Michael Ch...</td>\n",
       "      <td>16</td>\n",
       "    </tr>\n",
       "  </tbody>\n",
       "</table>\n",
       "</div>"
      ],
      "text/plain": [
       "   WikiMovieID                                               Plot  Topic\n",
       "0     23890098  Shlykov, a hard-working taxi driver and Lyosha...      2\n",
       "1     31186339  The nation of Panem consists of a wealthy Capi...     19\n",
       "2     20663735  Poovalli Induchoodan  is sentenced for six yea...     16\n",
       "3      2231378  The Lemon Drop Kid , a New York City swindler,...      1\n",
       "4       595909  Seventh-day Adventist Church pastor Michael Ch...     16"
      ]
     },
     "execution_count": 165,
     "metadata": {},
     "output_type": "execute_result"
    }
   ],
   "source": [
    "plot_summaries[[\"WikiMovieID\", \"Plot\", \"Topic\"]].head() # Can merge again with movies "
   ]
  },
  {
   "cell_type": "markdown",
   "id": "3f066e07-ad9c-4999-bcba-902f5be409de",
   "metadata": {},
   "source": [
    "#### Saving `movies`"
   ]
  },
  {
   "cell_type": "code",
   "execution_count": 166,
   "id": "eb0ad984-8f33-4fac-93e6-c97678ffa413",
   "metadata": {},
   "outputs": [],
   "source": [
    "merging_cols = list(plot_summaries.columns.difference(movies.columns)) + [\"WikiMovieID\"]\n",
    "movies = movies.merge(plot_summaries[merging_cols], how=\"left\", on=\"WikiMovieID\")"
   ]
  },
  {
   "cell_type": "code",
   "execution_count": 168,
   "id": "f4666020-617d-49b5-8713-88d44d1aa420",
   "metadata": {},
   "outputs": [],
   "source": [
    "os.makedirs('data', exist_ok=True)  \n",
    "movies.to_pickle('data/movies_aug3.pkl')"
   ]
  },
  {
   "cell_type": "code",
   "execution_count": 169,
   "id": "7b1ea34b-569b-4173-afd5-312f9a4262da",
   "metadata": {},
   "outputs": [],
   "source": [
    "movies = pd.read_pickle('data/movies_aug3.pkl')"
   ]
  },
  {
   "cell_type": "markdown",
   "id": "340f1227-9947-4028-a4cb-4ef5fe7df0f7",
   "metadata": {
    "jp-MarkdownHeadingCollapsed": true,
    "tags": []
   },
   "source": [
    "## 3.2 BERTopic"
   ]
  },
  {
   "cell_type": "markdown",
   "id": "07c53aad-c31e-4ad7-a967-68481579f292",
   "metadata": {
    "jp-MarkdownHeadingCollapsed": true,
    "tags": []
   },
   "source": [
    "### 3.2.1 Data preparation"
   ]
  },
  {
   "cell_type": "code",
   "execution_count": null,
   "id": "6302d761-7e24-4538-9301-43d893709fb1",
   "metadata": {},
   "outputs": [],
   "source": [
    "# List of docs\n",
    "docs = data.Plot.tolist()\n",
    "\n",
    "# List of punctuation marks\n",
    "punctuations = list()\n",
    "for punctuation in string.punctuation:\n",
    "    punctuations.append(punctuation)\n",
    "\n",
    "# Stopwords to use\n",
    "stop_words = list(set(stopwords.words('english'))) + punctuations + names\n",
    "\n",
    "# Tokenization : List of Lists of Tokens\n",
    "docs_tokenized = [word_tokenize(doc) for doc in docs]\n",
    "\n",
    "# Removing the stopwords\n",
    "filtered_docs = list()\n",
    "for doc in tqdm(docs_tokenized):\n",
    "    filtered_doc = \" \".join([w.lower() for w in doc if not w.lower() in stop_words])\n",
    "    filtered_docs.append(filtered_doc)"
   ]
  },
  {
   "cell_type": "markdown",
   "id": "7de940f8-9ac7-49d4-96c8-65556197e352",
   "metadata": {
    "jp-MarkdownHeadingCollapsed": true,
    "tags": []
   },
   "source": [
    "### 3.2.2 Implementation"
   ]
  },
  {
   "cell_type": "code",
   "execution_count": null,
   "id": "7ccb1fa3-378e-4035-9c33-e0454abcef16",
   "metadata": {},
   "outputs": [],
   "source": [
    "model = BERTopic(language=\"english\")\n",
    "topics, probs = model.fit_transform(filtered_docs)"
   ]
  },
  {
   "cell_type": "markdown",
   "id": "0599baab-86a3-4712-9457-67f73858611e",
   "metadata": {
    "jp-MarkdownHeadingCollapsed": true,
    "tags": []
   },
   "source": [
    "### 3.2.3 Resulting topics"
   ]
  },
  {
   "cell_type": "code",
   "execution_count": null,
   "id": "b464387f-de4e-4740-8265-cd58b430f2a2",
   "metadata": {},
   "outputs": [],
   "source": [
    "display(model.get_topic_freq().head(20))\n",
    "model.get_topic(3)"
   ]
  },
  {
   "cell_type": "markdown",
   "id": "376d7a47-d875-4c80-9c5d-2f75ef83aed4",
   "metadata": {},
   "source": [
    "### 3.2.4 Topic Visualizations"
   ]
  },
  {
   "cell_type": "markdown",
   "id": "6a121883-17e3-465b-b839-387a7c71ac4d",
   "metadata": {},
   "source": [
    "### 3.2.5 Assigning topics to movies"
   ]
  }
 ],
 "metadata": {
  "kernelspec": {
   "display_name": "Python 3 (ipykernel)",
   "language": "python",
   "name": "python3"
  },
  "language_info": {
   "codemirror_mode": {
    "name": "ipython",
    "version": 3
   },
   "file_extension": ".py",
   "mimetype": "text/x-python",
   "name": "python",
   "nbconvert_exporter": "python",
   "pygments_lexer": "ipython3",
   "version": "3.8.12"
  }
 },
 "nbformat": 4,
 "nbformat_minor": 5
}
