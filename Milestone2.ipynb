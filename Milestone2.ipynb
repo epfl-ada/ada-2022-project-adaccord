{
 "cells": [
  {
   "cell_type": "markdown",
   "id": "d00dcbed",
   "metadata": {
    "id": "d00dcbed"
   },
   "source": [
    "## Importing librairies"
   ]
  },
  {
   "cell_type": "code",
   "execution_count": 2,
   "id": "7524e6aa",
   "metadata": {
    "executionInfo": {
     "elapsed": 24999,
     "status": "ok",
     "timestamp": 1668730804095,
     "user": {
      "displayName": "Salomé Baup",
      "userId": "07571536397946550023"
     },
     "user_tz": -60
    },
    "id": "7524e6aa"
   },
   "outputs": [],
   "source": [
    "import pickle\n",
    "import os \n",
    "import json\n",
    "import string\n",
    "import requests\n",
    "from IPython.display import clear_output\n",
    "\n",
    "# EDA\n",
    "import numpy as np\n",
    "import pandas as pd\n",
    "import matplotlib.pyplot as plt\n",
    "from datetime import datetime\n",
    "from wikidata.client import Client\n",
    "from tqdm import tqdm\n",
    "from collections import Counter\n",
    "\n",
    "# Preprocessing\n",
    "from langdetect import detect\n",
    "from nltk.tokenize import sent_tokenize\n",
    "from nltk.tokenize import word_tokenize\n",
    "from nltk.tokenize import RegexpTokenizer\n",
    "from nltk.stem.wordnet import WordNetLemmatizer\n",
    "from nltk import pos_tag\n",
    "from nltk.corpus import wordnet\n",
    "from nltk.corpus import stopwords\n",
    "from names_dataset import NameDataset\n",
    "from itertools import chain \n",
    "import seaborn as sns\n",
    "\n",
    "# LDA\n",
    "from gensim.models import Phrases\n",
    "from gensim import corpora\n",
    "from gensim import models\n",
    "\n",
    "#Topic visualization\n",
    "import pyLDAvis\n",
    "import pyLDAvis.gensim_models as gensimvis\n",
    "\n",
    "# BERTopic\n",
    "from bertopic import BERTopic"
   ]
  },
  {
   "cell_type": "code",
   "execution_count": 2,
   "id": "3240ba52",
   "metadata": {
    "executionInfo": {
     "elapsed": 16,
     "status": "ok",
     "timestamp": 1668727207949,
     "user": {
      "displayName": "Salomé Baup",
      "userId": "07571536397946550023"
     },
     "user_tz": -60
    },
    "id": "3240ba52"
   },
   "outputs": [],
   "source": [
    "from tqdm import tqdm_notebook\n",
    "from tqdm import tqdm\n",
    "tqdm.pandas()"
   ]
  },
  {
   "cell_type": "code",
   "execution_count": 3,
   "id": "2f1ea528",
   "metadata": {
    "executionInfo": {
     "elapsed": 14,
     "status": "ok",
     "timestamp": 1668727207950,
     "user": {
      "displayName": "Salomé Baup",
      "userId": "07571536397946550023"
     },
     "user_tz": -60
    },
    "id": "2f1ea528"
   },
   "outputs": [],
   "source": [
    "from nltk import download\n",
    "download('averaged_perceptron_tagger')\n",
    "download('wordnet')\n",
    "download('omw-1.4')\n",
    "download('punkt')\n",
    "download('stopwords')\n",
    "clear_output()"
   ]
  },
  {
   "cell_type": "markdown",
   "id": "5198b3e5",
   "metadata": {
    "id": "5198b3e5",
    "tags": []
   },
   "source": [
    "## References"
   ]
  },
  {
   "cell_type": "markdown",
   "id": "5dabee6f",
   "metadata": {
    "id": "5dabee6f",
    "jp-MarkdownHeadingCollapsed": true,
    "tags": []
   },
   "source": [
    "[[1]](http://www.cs.cmu.edu/~ark/personas/) CMU Movie Summary Corpus webpage  \n",
    "[[2]](http://www.cs.cmu.edu/~dbamman/pubs/pdf/bamman+oconnor+smith.acl13.pdf) _Learning Latent Personas of Film Characters_, David Bamman, Brendan O'Connor and Noah A. Smith, ACL 2013, Sofia, Bulgaria, August 2013 \\\n",
    "[[3]](https://www.nltk.org/) NLKT documentation \\\n",
    "\n",
    "# Table of contents\n",
    "### [1. Metadata](#1)\n",
    "\n",
    "&nbsp;&nbsp;&nbsp;**[1.1 The data](#1.1)**\n",
    "\n",
    "&nbsp;&nbsp;&nbsp;**[1.2 Cleaning the dictionaries](#1.2)**\n",
    "\n",
    "&nbsp;&nbsp;&nbsp;**[1.3 Duplicate values](#1.3)**\n",
    "\n",
    "&nbsp;&nbsp;&nbsp;**[1.4 Missing values](#1.4)**\n",
    "\n",
    "&nbsp;&nbsp;&nbsp;&nbsp;&nbsp;&nbsp;[1.4.1 Recovering Ethnicities](#1.4.1)\\\n",
    "&nbsp;&nbsp;&nbsp;&nbsp;&nbsp;&nbsp;[1.4.2 Recovering missing Actor names ](#1.4.2)\n",
    "\n",
    "### [2. Plot Summaries and Metascores](#2)\n",
    "\n",
    "&nbsp;&nbsp;&nbsp;**[2.1 Preprocessing](#2.1)**\n",
    "\n",
    "&nbsp;&nbsp;&nbsp;&nbsp;&nbsp;&nbsp;[2.1.1 Missing plot summaries check](#2.1.1)\\\n",
    "&nbsp;&nbsp;&nbsp;&nbsp;&nbsp;&nbsp;[2.1.2 Cleaning](#2.1.2)\\\n",
    "&nbsp;&nbsp;&nbsp;&nbsp;&nbsp;&nbsp;[2.1.3 Tokenization](#2.1.3)\\\n",
    "&nbsp;&nbsp;&nbsp;&nbsp;&nbsp;&nbsp;[2.1.4 PoS tagging](#2.1.4)\\\n",
    "&nbsp;&nbsp;&nbsp;&nbsp;&nbsp;&nbsp;[2.1.5 Lemmatization](#2.1.5)\\\n",
    "&nbsp;&nbsp;&nbsp;&nbsp;&nbsp;&nbsp;[2.1.6 Regrouping tokens and removing stop words](#2.1.6)\\\n",
    "&nbsp;&nbsp;&nbsp;&nbsp;&nbsp;&nbsp;[2.1.7 Integration into movies dataset ](#2.1.7)\\\n",
    "&nbsp;&nbsp;&nbsp;&nbsp;&nbsp;&nbsp;[2.1.8 Preprocessing results](#2.1.8)\n",
    "\n",
    "&nbsp;&nbsp;&nbsp;**[2.2 Importing Metascore](#2.2)**\n",
    "\n",
    "&nbsp;&nbsp;&nbsp;**[2.3 Initial analysis](#2.3)**\n",
    "\n",
    "&nbsp;&nbsp;&nbsp;&nbsp;&nbsp;&nbsp;[2.3.1 Plot structure](#2.3.1)\\\n",
    "&nbsp;&nbsp;&nbsp;&nbsp;&nbsp;&nbsp;[2.3.2 Most common tokens](#2.3.2)\\\n",
    "&nbsp;&nbsp;&nbsp;&nbsp;&nbsp;&nbsp;[2.3.3 Words polarity](#2.3.3)\\\n",
    "&nbsp;&nbsp;&nbsp;&nbsp;&nbsp;&nbsp;[2.3.4 Ratings](#2.3.4)\\\n",
    "&nbsp;&nbsp;&nbsp;&nbsp;&nbsp;&nbsp;[2.3.5 Combined infromation](#2.3.5)\n",
    "\n",
    "### [3. Topic extraction](#3)\n",
    "\n",
    "&nbsp;&nbsp;&nbsp;**[3.1 LDA](#3.1)**\n",
    "\n",
    "&nbsp;&nbsp;&nbsp;&nbsp;&nbsp;&nbsp;[3.1.1 Data preparation](#3.1.1)\\\n",
    "&nbsp;&nbsp;&nbsp;&nbsp;&nbsp;&nbsp;[3.1.2 Implementation](#3.1.2)\\\n",
    "&nbsp;&nbsp;&nbsp;&nbsp;&nbsp;&nbsp;[3.1.3 Model evaluation](#3.1.3)\\\n",
    "&nbsp;&nbsp;&nbsp;&nbsp;&nbsp;&nbsp;[3.1.4 Resulting topics](#3.1.4)\\\n",
    "&nbsp;&nbsp;&nbsp;&nbsp;&nbsp;&nbsp;[3.1.5 Topic Visualizations](#3.1.5)\\\n",
    "&nbsp;&nbsp;&nbsp;&nbsp;&nbsp;&nbsp;[3.1.6 Assigning topics to movies](#3.1.6)\n",
    "\n",
    "&nbsp;&nbsp;&nbsp;**[3.2 BERTopic](#3.2)**\n",
    "\n",
    "&nbsp;&nbsp;&nbsp;&nbsp;&nbsp;&nbsp;[3.2.1 Implementation](#3.2.1)\\\n",
    "&nbsp;&nbsp;&nbsp;&nbsp;&nbsp;&nbsp;[3.2.2 Model evaluation](#3.2.2)\\\n",
    "&nbsp;&nbsp;&nbsp;&nbsp;&nbsp;&nbsp;[3.2.3 Resulting topics](#3.2.3)\\\n",
    "&nbsp;&nbsp;&nbsp;&nbsp;&nbsp;&nbsp;[3.2.4 Topic Visualizations](#3.2.4)\\\n",
    "&nbsp;&nbsp;&nbsp;&nbsp;&nbsp;&nbsp;[3.2.5 Assigning topics to movies](#3.2.5)\n",
    "\n",
    "\n"
   ]
  },
  {
   "cell_type": "markdown",
   "id": "e0db749e",
   "metadata": {
    "id": "e0db749e",
    "tags": []
   },
   "source": [
    "# 1. Metadata <a id='1'></a>"
   ]
  },
  {
   "cell_type": "markdown",
   "id": "9392f814",
   "metadata": {
    "id": "9392f814",
    "tags": []
   },
   "source": [
    "## 1.1 The Data  <a id='1.1'></a>"
   ]
  },
  {
   "cell_type": "markdown",
   "id": "dd8b4e47",
   "metadata": {
    "id": "dd8b4e47",
    "jp-MarkdownHeadingCollapsed": true,
    "tags": []
   },
   "source": [
    "`movie.metadata.tsv.gz` [3.4 M]\n",
    "\n",
    "\n",
    "Metadata for 81,741 movies, extracted from the Noverber 4, 2012 dump of Freebase. Tab-separated. The columns are:\n",
    "\n",
    "1. Wikipedia movie ID\n",
    "2. Freebase movie ID\n",
    "3. Movie name\n",
    "4. Movie release date\n",
    "5. Movie box office revenue\n",
    "6. Movie runtime\n",
    "7. Movie languages (Freebase ID:name tuples)\n",
    "8. Movie countries (Freebase ID:name tuples)\n",
    "9. Movie genres (Freebase ID:name tuples)\n",
    "\n",
    "\n",
    "`character.metadata.tsv.gz` [14 M]\n",
    "\n",
    "Metadata for 450,669 characters aligned to the movies above, extracted from the November 4, 2012 dump of Freebase. Tab-separated. The columns are:\n",
    "\n",
    "1. Wikipedia movie ID\n",
    "2. Freebase movie ID\n",
    "3. Movie release date\n",
    "4. Character name\n",
    "5. Actor date of birth\n",
    "6. Actor gender\n",
    "7. Actor height (in meters)\n",
    "8. Actor ethnicity (Freebase ID)\n",
    "9. Actor name\n",
    "10. Actor age at movie release\n",
    "11. Freebase character/actor map ID\n",
    "12. Freebase character ID\n",
    "13. Freebase actor ID"
   ]
  },
  {
   "cell_type": "code",
   "execution_count": 9,
   "id": "df45a638",
   "metadata": {
    "colab": {
     "base_uri": "https://localhost:8080/",
     "height": 668
    },
    "executionInfo": {
     "elapsed": 3393,
     "status": "ok",
     "timestamp": 1668730896425,
     "user": {
      "displayName": "Salomé Baup",
      "userId": "07571536397946550023"
     },
     "user_tz": -60
    },
    "id": "df45a638",
    "outputId": "e75f6045-cb0e-48b9-b893-0e341873fc65"
   },
   "outputs": [
    {
     "data": {
      "text/html": [
       "\n",
       "  <div id=\"df-bcb54eb4-a5c4-4ec5-b7b7-3f455b42699b\">\n",
       "    <div class=\"colab-df-container\">\n",
       "      <div>\n",
       "<style scoped>\n",
       "    .dataframe tbody tr th:only-of-type {\n",
       "        vertical-align: middle;\n",
       "    }\n",
       "\n",
       "    .dataframe tbody tr th {\n",
       "        vertical-align: top;\n",
       "    }\n",
       "\n",
       "    .dataframe thead th {\n",
       "        text-align: right;\n",
       "    }\n",
       "</style>\n",
       "<table border=\"1\" class=\"dataframe\">\n",
       "  <thead>\n",
       "    <tr style=\"text-align: right;\">\n",
       "      <th></th>\n",
       "      <th>WikiMovieID</th>\n",
       "      <th>FreeMovieID</th>\n",
       "      <th>Title</th>\n",
       "      <th>ReleaseDate</th>\n",
       "      <th>Revenue</th>\n",
       "      <th>Runtime</th>\n",
       "      <th>Languages</th>\n",
       "      <th>Countries</th>\n",
       "      <th>Genres</th>\n",
       "    </tr>\n",
       "  </thead>\n",
       "  <tbody>\n",
       "    <tr>\n",
       "      <th>0</th>\n",
       "      <td>975900</td>\n",
       "      <td>/m/03vyhn</td>\n",
       "      <td>Ghosts of Mars</td>\n",
       "      <td>2001-08-24</td>\n",
       "      <td>14010832.0</td>\n",
       "      <td>98.0</td>\n",
       "      <td>{\"/m/02h40lc\": \"English Language\"}</td>\n",
       "      <td>{\"/m/09c7w0\": \"United States of America\"}</td>\n",
       "      <td>{\"/m/01jfsb\": \"Thriller\", \"/m/06n90\": \"Science...</td>\n",
       "    </tr>\n",
       "    <tr>\n",
       "      <th>1</th>\n",
       "      <td>3196793</td>\n",
       "      <td>/m/08yl5d</td>\n",
       "      <td>Getting Away with Murder: The JonBenét Ramsey ...</td>\n",
       "      <td>2000-02-16</td>\n",
       "      <td>NaN</td>\n",
       "      <td>95.0</td>\n",
       "      <td>{\"/m/02h40lc\": \"English Language\"}</td>\n",
       "      <td>{\"/m/09c7w0\": \"United States of America\"}</td>\n",
       "      <td>{\"/m/02n4kr\": \"Mystery\", \"/m/03bxz7\": \"Biograp...</td>\n",
       "    </tr>\n",
       "    <tr>\n",
       "      <th>2</th>\n",
       "      <td>28463795</td>\n",
       "      <td>/m/0crgdbh</td>\n",
       "      <td>Brun bitter</td>\n",
       "      <td>1988</td>\n",
       "      <td>NaN</td>\n",
       "      <td>83.0</td>\n",
       "      <td>{\"/m/05f_3\": \"Norwegian Language\"}</td>\n",
       "      <td>{\"/m/05b4w\": \"Norway\"}</td>\n",
       "      <td>{\"/m/0lsxr\": \"Crime Fiction\", \"/m/07s9rl0\": \"D...</td>\n",
       "    </tr>\n",
       "    <tr>\n",
       "      <th>3</th>\n",
       "      <td>9363483</td>\n",
       "      <td>/m/0285_cd</td>\n",
       "      <td>White Of The Eye</td>\n",
       "      <td>1987</td>\n",
       "      <td>NaN</td>\n",
       "      <td>110.0</td>\n",
       "      <td>{\"/m/02h40lc\": \"English Language\"}</td>\n",
       "      <td>{\"/m/07ssc\": \"United Kingdom\"}</td>\n",
       "      <td>{\"/m/01jfsb\": \"Thriller\", \"/m/0glj9q\": \"Erotic...</td>\n",
       "    </tr>\n",
       "    <tr>\n",
       "      <th>4</th>\n",
       "      <td>261236</td>\n",
       "      <td>/m/01mrr1</td>\n",
       "      <td>A Woman in Flames</td>\n",
       "      <td>1983</td>\n",
       "      <td>NaN</td>\n",
       "      <td>106.0</td>\n",
       "      <td>{\"/m/04306rv\": \"German Language\"}</td>\n",
       "      <td>{\"/m/0345h\": \"Germany\"}</td>\n",
       "      <td>{\"/m/07s9rl0\": \"Drama\"}</td>\n",
       "    </tr>\n",
       "  </tbody>\n",
       "</table>\n",
       "</div>\n",
       "      <button class=\"colab-df-convert\" onclick=\"convertToInteractive('df-bcb54eb4-a5c4-4ec5-b7b7-3f455b42699b')\"\n",
       "              title=\"Convert this dataframe to an interactive table.\"\n",
       "              style=\"display:none;\">\n",
       "        \n",
       "  <svg xmlns=\"http://www.w3.org/2000/svg\" height=\"24px\"viewBox=\"0 0 24 24\"\n",
       "       width=\"24px\">\n",
       "    <path d=\"M0 0h24v24H0V0z\" fill=\"none\"/>\n",
       "    <path d=\"M18.56 5.44l.94 2.06.94-2.06 2.06-.94-2.06-.94-.94-2.06-.94 2.06-2.06.94zm-11 1L8.5 8.5l.94-2.06 2.06-.94-2.06-.94L8.5 2.5l-.94 2.06-2.06.94zm10 10l.94 2.06.94-2.06 2.06-.94-2.06-.94-.94-2.06-.94 2.06-2.06.94z\"/><path d=\"M17.41 7.96l-1.37-1.37c-.4-.4-.92-.59-1.43-.59-.52 0-1.04.2-1.43.59L10.3 9.45l-7.72 7.72c-.78.78-.78 2.05 0 2.83L4 21.41c.39.39.9.59 1.41.59.51 0 1.02-.2 1.41-.59l7.78-7.78 2.81-2.81c.8-.78.8-2.07 0-2.86zM5.41 20L4 18.59l7.72-7.72 1.47 1.35L5.41 20z\"/>\n",
       "  </svg>\n",
       "      </button>\n",
       "      \n",
       "  <style>\n",
       "    .colab-df-container {\n",
       "      display:flex;\n",
       "      flex-wrap:wrap;\n",
       "      gap: 12px;\n",
       "    }\n",
       "\n",
       "    .colab-df-convert {\n",
       "      background-color: #E8F0FE;\n",
       "      border: none;\n",
       "      border-radius: 50%;\n",
       "      cursor: pointer;\n",
       "      display: none;\n",
       "      fill: #1967D2;\n",
       "      height: 32px;\n",
       "      padding: 0 0 0 0;\n",
       "      width: 32px;\n",
       "    }\n",
       "\n",
       "    .colab-df-convert:hover {\n",
       "      background-color: #E2EBFA;\n",
       "      box-shadow: 0px 1px 2px rgba(60, 64, 67, 0.3), 0px 1px 3px 1px rgba(60, 64, 67, 0.15);\n",
       "      fill: #174EA6;\n",
       "    }\n",
       "\n",
       "    [theme=dark] .colab-df-convert {\n",
       "      background-color: #3B4455;\n",
       "      fill: #D2E3FC;\n",
       "    }\n",
       "\n",
       "    [theme=dark] .colab-df-convert:hover {\n",
       "      background-color: #434B5C;\n",
       "      box-shadow: 0px 1px 3px 1px rgba(0, 0, 0, 0.15);\n",
       "      filter: drop-shadow(0px 1px 2px rgba(0, 0, 0, 0.3));\n",
       "      fill: #FFFFFF;\n",
       "    }\n",
       "  </style>\n",
       "\n",
       "      <script>\n",
       "        const buttonEl =\n",
       "          document.querySelector('#df-bcb54eb4-a5c4-4ec5-b7b7-3f455b42699b button.colab-df-convert');\n",
       "        buttonEl.style.display =\n",
       "          google.colab.kernel.accessAllowed ? 'block' : 'none';\n",
       "\n",
       "        async function convertToInteractive(key) {\n",
       "          const element = document.querySelector('#df-bcb54eb4-a5c4-4ec5-b7b7-3f455b42699b');\n",
       "          const dataTable =\n",
       "            await google.colab.kernel.invokeFunction('convertToInteractive',\n",
       "                                                     [key], {});\n",
       "          if (!dataTable) return;\n",
       "\n",
       "          const docLinkHtml = 'Like what you see? Visit the ' +\n",
       "            '<a target=\"_blank\" href=https://colab.research.google.com/notebooks/data_table.ipynb>data table notebook</a>'\n",
       "            + ' to learn more about interactive tables.';\n",
       "          element.innerHTML = '';\n",
       "          dataTable['output_type'] = 'display_data';\n",
       "          await google.colab.output.renderOutput(dataTable, element);\n",
       "          const docLink = document.createElement('div');\n",
       "          docLink.innerHTML = docLinkHtml;\n",
       "          element.appendChild(docLink);\n",
       "        }\n",
       "      </script>\n",
       "    </div>\n",
       "  </div>\n",
       "  "
      ],
      "text/plain": [
       "   WikiMovieID FreeMovieID                                              Title  \\\n",
       "0       975900   /m/03vyhn                                     Ghosts of Mars   \n",
       "1      3196793   /m/08yl5d  Getting Away with Murder: The JonBenét Ramsey ...   \n",
       "2     28463795  /m/0crgdbh                                        Brun bitter   \n",
       "3      9363483  /m/0285_cd                                   White Of The Eye   \n",
       "4       261236   /m/01mrr1                                  A Woman in Flames   \n",
       "\n",
       "  ReleaseDate     Revenue  Runtime                           Languages  \\\n",
       "0  2001-08-24  14010832.0     98.0  {\"/m/02h40lc\": \"English Language\"}   \n",
       "1  2000-02-16         NaN     95.0  {\"/m/02h40lc\": \"English Language\"}   \n",
       "2        1988         NaN     83.0  {\"/m/05f_3\": \"Norwegian Language\"}   \n",
       "3        1987         NaN    110.0  {\"/m/02h40lc\": \"English Language\"}   \n",
       "4        1983         NaN    106.0   {\"/m/04306rv\": \"German Language\"}   \n",
       "\n",
       "                                   Countries  \\\n",
       "0  {\"/m/09c7w0\": \"United States of America\"}   \n",
       "1  {\"/m/09c7w0\": \"United States of America\"}   \n",
       "2                     {\"/m/05b4w\": \"Norway\"}   \n",
       "3             {\"/m/07ssc\": \"United Kingdom\"}   \n",
       "4                    {\"/m/0345h\": \"Germany\"}   \n",
       "\n",
       "                                              Genres  \n",
       "0  {\"/m/01jfsb\": \"Thriller\", \"/m/06n90\": \"Science...  \n",
       "1  {\"/m/02n4kr\": \"Mystery\", \"/m/03bxz7\": \"Biograp...  \n",
       "2  {\"/m/0lsxr\": \"Crime Fiction\", \"/m/07s9rl0\": \"D...  \n",
       "3  {\"/m/01jfsb\": \"Thriller\", \"/m/0glj9q\": \"Erotic...  \n",
       "4                            {\"/m/07s9rl0\": \"Drama\"}  "
      ]
     },
     "metadata": {},
     "output_type": "display_data"
    },
    {
     "data": {
      "text/html": [
       "\n",
       "  <div id=\"df-9d56aa53-92d1-41c3-9c6f-c8c747b1bcde\">\n",
       "    <div class=\"colab-df-container\">\n",
       "      <div>\n",
       "<style scoped>\n",
       "    .dataframe tbody tr th:only-of-type {\n",
       "        vertical-align: middle;\n",
       "    }\n",
       "\n",
       "    .dataframe tbody tr th {\n",
       "        vertical-align: top;\n",
       "    }\n",
       "\n",
       "    .dataframe thead th {\n",
       "        text-align: right;\n",
       "    }\n",
       "</style>\n",
       "<table border=\"1\" class=\"dataframe\">\n",
       "  <thead>\n",
       "    <tr style=\"text-align: right;\">\n",
       "      <th></th>\n",
       "      <th>WikiMovieID</th>\n",
       "      <th>FreeMovieID</th>\n",
       "      <th>ReleaseDate</th>\n",
       "      <th>CharName</th>\n",
       "      <th>ActorDOB</th>\n",
       "      <th>ActorGender</th>\n",
       "      <th>ActorHeight</th>\n",
       "      <th>FreeEthnicityID</th>\n",
       "      <th>ActorName</th>\n",
       "      <th>ActorAgeRelease</th>\n",
       "      <th>FreeMapID</th>\n",
       "      <th>FreeCharID</th>\n",
       "      <th>FreeActorID</th>\n",
       "    </tr>\n",
       "  </thead>\n",
       "  <tbody>\n",
       "    <tr>\n",
       "      <th>0</th>\n",
       "      <td>975900</td>\n",
       "      <td>/m/03vyhn</td>\n",
       "      <td>2001-08-24</td>\n",
       "      <td>Akooshay</td>\n",
       "      <td>1958-08-26</td>\n",
       "      <td>F</td>\n",
       "      <td>1.620</td>\n",
       "      <td>NaN</td>\n",
       "      <td>Wanda De Jesus</td>\n",
       "      <td>42.0</td>\n",
       "      <td>/m/0bgchxw</td>\n",
       "      <td>/m/0bgcj3x</td>\n",
       "      <td>/m/03wcfv7</td>\n",
       "    </tr>\n",
       "    <tr>\n",
       "      <th>1</th>\n",
       "      <td>975900</td>\n",
       "      <td>/m/03vyhn</td>\n",
       "      <td>2001-08-24</td>\n",
       "      <td>Lieutenant Melanie Ballard</td>\n",
       "      <td>1974-08-15</td>\n",
       "      <td>F</td>\n",
       "      <td>1.780</td>\n",
       "      <td>/m/044038p</td>\n",
       "      <td>Natasha Henstridge</td>\n",
       "      <td>27.0</td>\n",
       "      <td>/m/0jys3m</td>\n",
       "      <td>/m/0bgchn4</td>\n",
       "      <td>/m/0346l4</td>\n",
       "    </tr>\n",
       "    <tr>\n",
       "      <th>2</th>\n",
       "      <td>975900</td>\n",
       "      <td>/m/03vyhn</td>\n",
       "      <td>2001-08-24</td>\n",
       "      <td>Desolation Williams</td>\n",
       "      <td>1969-06-15</td>\n",
       "      <td>M</td>\n",
       "      <td>1.727</td>\n",
       "      <td>/m/0x67</td>\n",
       "      <td>Ice Cube</td>\n",
       "      <td>32.0</td>\n",
       "      <td>/m/0jys3g</td>\n",
       "      <td>/m/0bgchn_</td>\n",
       "      <td>/m/01vw26l</td>\n",
       "    </tr>\n",
       "    <tr>\n",
       "      <th>3</th>\n",
       "      <td>975900</td>\n",
       "      <td>/m/03vyhn</td>\n",
       "      <td>2001-08-24</td>\n",
       "      <td>Sgt Jericho Butler</td>\n",
       "      <td>1967-09-12</td>\n",
       "      <td>M</td>\n",
       "      <td>1.750</td>\n",
       "      <td>NaN</td>\n",
       "      <td>Jason Statham</td>\n",
       "      <td>33.0</td>\n",
       "      <td>/m/02vchl6</td>\n",
       "      <td>/m/0bgchnq</td>\n",
       "      <td>/m/034hyc</td>\n",
       "    </tr>\n",
       "    <tr>\n",
       "      <th>4</th>\n",
       "      <td>975900</td>\n",
       "      <td>/m/03vyhn</td>\n",
       "      <td>2001-08-24</td>\n",
       "      <td>Bashira Kincaid</td>\n",
       "      <td>1977-09-25</td>\n",
       "      <td>F</td>\n",
       "      <td>1.650</td>\n",
       "      <td>NaN</td>\n",
       "      <td>Clea DuVall</td>\n",
       "      <td>23.0</td>\n",
       "      <td>/m/02vbb3r</td>\n",
       "      <td>/m/0bgchp9</td>\n",
       "      <td>/m/01y9xg</td>\n",
       "    </tr>\n",
       "  </tbody>\n",
       "</table>\n",
       "</div>\n",
       "      <button class=\"colab-df-convert\" onclick=\"convertToInteractive('df-9d56aa53-92d1-41c3-9c6f-c8c747b1bcde')\"\n",
       "              title=\"Convert this dataframe to an interactive table.\"\n",
       "              style=\"display:none;\">\n",
       "        \n",
       "  <svg xmlns=\"http://www.w3.org/2000/svg\" height=\"24px\"viewBox=\"0 0 24 24\"\n",
       "       width=\"24px\">\n",
       "    <path d=\"M0 0h24v24H0V0z\" fill=\"none\"/>\n",
       "    <path d=\"M18.56 5.44l.94 2.06.94-2.06 2.06-.94-2.06-.94-.94-2.06-.94 2.06-2.06.94zm-11 1L8.5 8.5l.94-2.06 2.06-.94-2.06-.94L8.5 2.5l-.94 2.06-2.06.94zm10 10l.94 2.06.94-2.06 2.06-.94-2.06-.94-.94-2.06-.94 2.06-2.06.94z\"/><path d=\"M17.41 7.96l-1.37-1.37c-.4-.4-.92-.59-1.43-.59-.52 0-1.04.2-1.43.59L10.3 9.45l-7.72 7.72c-.78.78-.78 2.05 0 2.83L4 21.41c.39.39.9.59 1.41.59.51 0 1.02-.2 1.41-.59l7.78-7.78 2.81-2.81c.8-.78.8-2.07 0-2.86zM5.41 20L4 18.59l7.72-7.72 1.47 1.35L5.41 20z\"/>\n",
       "  </svg>\n",
       "      </button>\n",
       "      \n",
       "  <style>\n",
       "    .colab-df-container {\n",
       "      display:flex;\n",
       "      flex-wrap:wrap;\n",
       "      gap: 12px;\n",
       "    }\n",
       "\n",
       "    .colab-df-convert {\n",
       "      background-color: #E8F0FE;\n",
       "      border: none;\n",
       "      border-radius: 50%;\n",
       "      cursor: pointer;\n",
       "      display: none;\n",
       "      fill: #1967D2;\n",
       "      height: 32px;\n",
       "      padding: 0 0 0 0;\n",
       "      width: 32px;\n",
       "    }\n",
       "\n",
       "    .colab-df-convert:hover {\n",
       "      background-color: #E2EBFA;\n",
       "      box-shadow: 0px 1px 2px rgba(60, 64, 67, 0.3), 0px 1px 3px 1px rgba(60, 64, 67, 0.15);\n",
       "      fill: #174EA6;\n",
       "    }\n",
       "\n",
       "    [theme=dark] .colab-df-convert {\n",
       "      background-color: #3B4455;\n",
       "      fill: #D2E3FC;\n",
       "    }\n",
       "\n",
       "    [theme=dark] .colab-df-convert:hover {\n",
       "      background-color: #434B5C;\n",
       "      box-shadow: 0px 1px 3px 1px rgba(0, 0, 0, 0.15);\n",
       "      filter: drop-shadow(0px 1px 2px rgba(0, 0, 0, 0.3));\n",
       "      fill: #FFFFFF;\n",
       "    }\n",
       "  </style>\n",
       "\n",
       "      <script>\n",
       "        const buttonEl =\n",
       "          document.querySelector('#df-9d56aa53-92d1-41c3-9c6f-c8c747b1bcde button.colab-df-convert');\n",
       "        buttonEl.style.display =\n",
       "          google.colab.kernel.accessAllowed ? 'block' : 'none';\n",
       "\n",
       "        async function convertToInteractive(key) {\n",
       "          const element = document.querySelector('#df-9d56aa53-92d1-41c3-9c6f-c8c747b1bcde');\n",
       "          const dataTable =\n",
       "            await google.colab.kernel.invokeFunction('convertToInteractive',\n",
       "                                                     [key], {});\n",
       "          if (!dataTable) return;\n",
       "\n",
       "          const docLinkHtml = 'Like what you see? Visit the ' +\n",
       "            '<a target=\"_blank\" href=https://colab.research.google.com/notebooks/data_table.ipynb>data table notebook</a>'\n",
       "            + ' to learn more about interactive tables.';\n",
       "          element.innerHTML = '';\n",
       "          dataTable['output_type'] = 'display_data';\n",
       "          await google.colab.output.renderOutput(dataTable, element);\n",
       "          const docLink = document.createElement('div');\n",
       "          docLink.innerHTML = docLinkHtml;\n",
       "          element.appendChild(docLink);\n",
       "        }\n",
       "      </script>\n",
       "    </div>\n",
       "  </div>\n",
       "  "
      ],
      "text/plain": [
       "   WikiMovieID FreeMovieID ReleaseDate                    CharName  \\\n",
       "0       975900   /m/03vyhn  2001-08-24                    Akooshay   \n",
       "1       975900   /m/03vyhn  2001-08-24  Lieutenant Melanie Ballard   \n",
       "2       975900   /m/03vyhn  2001-08-24         Desolation Williams   \n",
       "3       975900   /m/03vyhn  2001-08-24          Sgt Jericho Butler   \n",
       "4       975900   /m/03vyhn  2001-08-24             Bashira Kincaid   \n",
       "\n",
       "     ActorDOB ActorGender  ActorHeight FreeEthnicityID           ActorName  \\\n",
       "0  1958-08-26           F        1.620             NaN      Wanda De Jesus   \n",
       "1  1974-08-15           F        1.780      /m/044038p  Natasha Henstridge   \n",
       "2  1969-06-15           M        1.727         /m/0x67            Ice Cube   \n",
       "3  1967-09-12           M        1.750             NaN       Jason Statham   \n",
       "4  1977-09-25           F        1.650             NaN         Clea DuVall   \n",
       "\n",
       "   ActorAgeRelease   FreeMapID  FreeCharID FreeActorID  \n",
       "0             42.0  /m/0bgchxw  /m/0bgcj3x  /m/03wcfv7  \n",
       "1             27.0   /m/0jys3m  /m/0bgchn4   /m/0346l4  \n",
       "2             32.0   /m/0jys3g  /m/0bgchn_  /m/01vw26l  \n",
       "3             33.0  /m/02vchl6  /m/0bgchnq   /m/034hyc  \n",
       "4             23.0  /m/02vbb3r  /m/0bgchp9   /m/01y9xg  "
      ]
     },
     "metadata": {},
     "output_type": "display_data"
    }
   ],
   "source": [
    "movies_path = \"data/movie.metadata.tsv\"\n",
    "characters_path = \"data/character.metadata.tsv\"\n",
    "\n",
    "# naming the columns with adequate names\n",
    "movies_column_names = [\"WikiMovieID\", \"FreeMovieID\", \"Title\", \"ReleaseDate\", \"Revenue\", \"Runtime\", \"Languages\", \"Countries\", \"Genres\"]\n",
    "characters_column_names = [\"WikiMovieID\", \"FreeMovieID\", \"ReleaseDate\", \"CharName\", \"ActorDOB\", \"ActorGender\", \"ActorHeight\", \"FreeEthnicityID\",\\\n",
    "                           \"ActorName\", \"ActorAgeRelease\", \"FreeMapID\", \"FreeCharID\", \"FreeActorID\"]\n",
    "\n",
    "movies = pd.read_csv(movies_path, sep='\\t', header=None, names=movies_column_names)\n",
    "characters = pd.read_csv(characters_path, sep='\\t', header=None, names=characters_column_names)\n",
    "\n",
    "display(movies.head())\n",
    "display(characters.head())"
   ]
  },
  {
   "cell_type": "markdown",
   "id": "851e43f4",
   "metadata": {
    "id": "851e43f4"
   },
   "source": [
    "#### Initial remarks :\n",
    "- `ReleaseDate`doesn't have a standard format.\n",
    "- `Languages`, `Countries`and `Genres`columns have their values in a dictionary of form : `{Freebase id : Actual name}`\n",
    "\n",
    "#### Dataset length\n",
    "We verify that the given dataset entries are indeed as much as we expect : "
   ]
  },
  {
   "cell_type": "code",
   "execution_count": 6,
   "id": "8fecf3e4",
   "metadata": {
    "colab": {
     "base_uri": "https://localhost:8080/"
    },
    "executionInfo": {
     "elapsed": 385,
     "status": "ok",
     "timestamp": 1668727311572,
     "user": {
      "displayName": "Salomé Baup",
      "userId": "07571536397946550023"
     },
     "user_tz": -60
    },
    "id": "8fecf3e4",
    "outputId": "5bc458e1-c51d-4f5e-ceeb-b3b247cf8784"
   },
   "outputs": [
    {
     "name": "stdout",
     "output_type": "stream",
     "text": [
      "Number of rows in the movie.metadata dataset : 81741\n",
      "Number of rows in the character.metadata dataset : 450669\n"
     ]
    }
   ],
   "source": [
    "n_mov = len(movies)\n",
    "n_char = len(characters)\n",
    "print('Number of rows in the movie.metadata dataset :', n_mov)\n",
    "print('Number of rows in the character.metadata dataset :', n_char)"
   ]
  },
  {
   "cell_type": "markdown",
   "id": "8e709333",
   "metadata": {
    "id": "8e709333",
    "tags": []
   },
   "source": [
    "## 1.2 Cleaning Dictionaries  <a id='1.2'></a>"
   ]
  },
  {
   "cell_type": "markdown",
   "id": "bba1660c",
   "metadata": {
    "id": "bba1660c",
    "jp-MarkdownHeadingCollapsed": true,
    "tags": []
   },
   "source": [
    "Columns `Languages`, `Countries`, `Genres` are dictionaries containing both the Freebase ID and the actual name, for each entry. We will keep only the names for the sake of clarity."
   ]
  },
  {
   "cell_type": "code",
   "execution_count": 10,
   "id": "90e8d836",
   "metadata": {
    "colab": {
     "base_uri": "https://localhost:8080/",
     "height": 206
    },
    "executionInfo": {
     "elapsed": 1337,
     "status": "ok",
     "timestamp": 1668730902113,
     "user": {
      "displayName": "Salomé Baup",
      "userId": "07571536397946550023"
     },
     "user_tz": -60
    },
    "id": "90e8d836",
    "outputId": "669f163d-84d5-4b9a-f200-04f45f0673cf"
   },
   "outputs": [
    {
     "data": {
      "text/html": [
       "\n",
       "  <div id=\"df-6d56f650-b1ac-4ed6-8f70-607bf52a6df5\">\n",
       "    <div class=\"colab-df-container\">\n",
       "      <div>\n",
       "<style scoped>\n",
       "    .dataframe tbody tr th:only-of-type {\n",
       "        vertical-align: middle;\n",
       "    }\n",
       "\n",
       "    .dataframe tbody tr th {\n",
       "        vertical-align: top;\n",
       "    }\n",
       "\n",
       "    .dataframe thead th {\n",
       "        text-align: right;\n",
       "    }\n",
       "</style>\n",
       "<table border=\"1\" class=\"dataframe\">\n",
       "  <thead>\n",
       "    <tr style=\"text-align: right;\">\n",
       "      <th></th>\n",
       "      <th>Languages</th>\n",
       "      <th>Countries</th>\n",
       "      <th>Genres</th>\n",
       "    </tr>\n",
       "  </thead>\n",
       "  <tbody>\n",
       "    <tr>\n",
       "      <th>0</th>\n",
       "      <td>[English Language]</td>\n",
       "      <td>[United States of America]</td>\n",
       "      <td>[Thriller, Science Fiction, Horror, Adventure,...</td>\n",
       "    </tr>\n",
       "    <tr>\n",
       "      <th>1</th>\n",
       "      <td>[English Language]</td>\n",
       "      <td>[United States of America]</td>\n",
       "      <td>[Mystery, Biographical film, Drama, Crime Drama]</td>\n",
       "    </tr>\n",
       "    <tr>\n",
       "      <th>2</th>\n",
       "      <td>[Norwegian Language]</td>\n",
       "      <td>[Norway]</td>\n",
       "      <td>[Crime Fiction, Drama]</td>\n",
       "    </tr>\n",
       "    <tr>\n",
       "      <th>3</th>\n",
       "      <td>[English Language]</td>\n",
       "      <td>[United Kingdom]</td>\n",
       "      <td>[Thriller, Erotic thriller, Psychological thri...</td>\n",
       "    </tr>\n",
       "    <tr>\n",
       "      <th>4</th>\n",
       "      <td>[German Language]</td>\n",
       "      <td>[Germany]</td>\n",
       "      <td>[Drama]</td>\n",
       "    </tr>\n",
       "  </tbody>\n",
       "</table>\n",
       "</div>\n",
       "      <button class=\"colab-df-convert\" onclick=\"convertToInteractive('df-6d56f650-b1ac-4ed6-8f70-607bf52a6df5')\"\n",
       "              title=\"Convert this dataframe to an interactive table.\"\n",
       "              style=\"display:none;\">\n",
       "        \n",
       "  <svg xmlns=\"http://www.w3.org/2000/svg\" height=\"24px\"viewBox=\"0 0 24 24\"\n",
       "       width=\"24px\">\n",
       "    <path d=\"M0 0h24v24H0V0z\" fill=\"none\"/>\n",
       "    <path d=\"M18.56 5.44l.94 2.06.94-2.06 2.06-.94-2.06-.94-.94-2.06-.94 2.06-2.06.94zm-11 1L8.5 8.5l.94-2.06 2.06-.94-2.06-.94L8.5 2.5l-.94 2.06-2.06.94zm10 10l.94 2.06.94-2.06 2.06-.94-2.06-.94-.94-2.06-.94 2.06-2.06.94z\"/><path d=\"M17.41 7.96l-1.37-1.37c-.4-.4-.92-.59-1.43-.59-.52 0-1.04.2-1.43.59L10.3 9.45l-7.72 7.72c-.78.78-.78 2.05 0 2.83L4 21.41c.39.39.9.59 1.41.59.51 0 1.02-.2 1.41-.59l7.78-7.78 2.81-2.81c.8-.78.8-2.07 0-2.86zM5.41 20L4 18.59l7.72-7.72 1.47 1.35L5.41 20z\"/>\n",
       "  </svg>\n",
       "      </button>\n",
       "      \n",
       "  <style>\n",
       "    .colab-df-container {\n",
       "      display:flex;\n",
       "      flex-wrap:wrap;\n",
       "      gap: 12px;\n",
       "    }\n",
       "\n",
       "    .colab-df-convert {\n",
       "      background-color: #E8F0FE;\n",
       "      border: none;\n",
       "      border-radius: 50%;\n",
       "      cursor: pointer;\n",
       "      display: none;\n",
       "      fill: #1967D2;\n",
       "      height: 32px;\n",
       "      padding: 0 0 0 0;\n",
       "      width: 32px;\n",
       "    }\n",
       "\n",
       "    .colab-df-convert:hover {\n",
       "      background-color: #E2EBFA;\n",
       "      box-shadow: 0px 1px 2px rgba(60, 64, 67, 0.3), 0px 1px 3px 1px rgba(60, 64, 67, 0.15);\n",
       "      fill: #174EA6;\n",
       "    }\n",
       "\n",
       "    [theme=dark] .colab-df-convert {\n",
       "      background-color: #3B4455;\n",
       "      fill: #D2E3FC;\n",
       "    }\n",
       "\n",
       "    [theme=dark] .colab-df-convert:hover {\n",
       "      background-color: #434B5C;\n",
       "      box-shadow: 0px 1px 3px 1px rgba(0, 0, 0, 0.15);\n",
       "      filter: drop-shadow(0px 1px 2px rgba(0, 0, 0, 0.3));\n",
       "      fill: #FFFFFF;\n",
       "    }\n",
       "  </style>\n",
       "\n",
       "      <script>\n",
       "        const buttonEl =\n",
       "          document.querySelector('#df-6d56f650-b1ac-4ed6-8f70-607bf52a6df5 button.colab-df-convert');\n",
       "        buttonEl.style.display =\n",
       "          google.colab.kernel.accessAllowed ? 'block' : 'none';\n",
       "\n",
       "        async function convertToInteractive(key) {\n",
       "          const element = document.querySelector('#df-6d56f650-b1ac-4ed6-8f70-607bf52a6df5');\n",
       "          const dataTable =\n",
       "            await google.colab.kernel.invokeFunction('convertToInteractive',\n",
       "                                                     [key], {});\n",
       "          if (!dataTable) return;\n",
       "\n",
       "          const docLinkHtml = 'Like what you see? Visit the ' +\n",
       "            '<a target=\"_blank\" href=https://colab.research.google.com/notebooks/data_table.ipynb>data table notebook</a>'\n",
       "            + ' to learn more about interactive tables.';\n",
       "          element.innerHTML = '';\n",
       "          dataTable['output_type'] = 'display_data';\n",
       "          await google.colab.output.renderOutput(dataTable, element);\n",
       "          const docLink = document.createElement('div');\n",
       "          docLink.innerHTML = docLinkHtml;\n",
       "          element.appendChild(docLink);\n",
       "        }\n",
       "      </script>\n",
       "    </div>\n",
       "  </div>\n",
       "  "
      ],
      "text/plain": [
       "              Languages                   Countries  \\\n",
       "0    [English Language]  [United States of America]   \n",
       "1    [English Language]  [United States of America]   \n",
       "2  [Norwegian Language]                    [Norway]   \n",
       "3    [English Language]            [United Kingdom]   \n",
       "4     [German Language]                   [Germany]   \n",
       "\n",
       "                                              Genres  \n",
       "0  [Thriller, Science Fiction, Horror, Adventure,...  \n",
       "1   [Mystery, Biographical film, Drama, Crime Drama]  \n",
       "2                             [Crime Fiction, Drama]  \n",
       "3  [Thriller, Erotic thriller, Psychological thri...  \n",
       "4                                            [Drama]  "
      ]
     },
     "metadata": {},
     "output_type": "display_data"
    }
   ],
   "source": [
    "def extract_values(column):\n",
    "    values = []\n",
    "    column=json.loads(column)\n",
    "    for key in column:\n",
    "        values.append(column[key])\n",
    "    return values\n",
    "\n",
    "movies.Languages = movies.Languages.apply(extract_values)\n",
    "movies.Countries = movies.Countries.apply(extract_values)\n",
    "movies.Genres = movies.Genres.apply(extract_values)\n",
    "\n",
    "display(movies[[\"Languages\", \"Countries\", \"Genres\"]].head())"
   ]
  },
  {
   "cell_type": "markdown",
   "id": "c83c8bbe",
   "metadata": {
    "id": "c83c8bbe",
    "tags": []
   },
   "source": [
    "## 1.3 Duplicate values  <a id='1.3'></a>"
   ]
  },
  {
   "cell_type": "markdown",
   "id": "5b310970",
   "metadata": {
    "id": "5b310970",
    "jp-MarkdownHeadingCollapsed": true,
    "tags": []
   },
   "source": [
    "Starting with the characters dataset we only care if a whole row is duplicated as there is no specific feature that we prohibit from happenning twice."
   ]
  },
  {
   "cell_type": "code",
   "execution_count": null,
   "id": "a99a8151",
   "metadata": {
    "id": "a99a8151",
    "outputId": "5be9aca0-1324-4c5f-9d69-69086c83a9fd"
   },
   "outputs": [
    {
     "name": "stdout",
     "output_type": "stream",
     "text": [
      "Duplicated rows in characters : 0\n"
     ]
    }
   ],
   "source": [
    "print(\"Duplicated rows in characters : {}\".format(characters.duplicated().sum()))"
   ]
  },
  {
   "cell_type": "markdown",
   "id": "bc3c0c8c",
   "metadata": {
    "id": "bc3c0c8c"
   },
   "source": [
    "As for the movies dataset we have to be more careful as we don't want the same movie appearing twice under different release date or freebase id for example."
   ]
  },
  {
   "cell_type": "code",
   "execution_count": null,
   "id": "59a10531",
   "metadata": {
    "colab": {
     "base_uri": "https://localhost:8080/"
    },
    "executionInfo": {
     "elapsed": 19349,
     "status": "ok",
     "timestamp": 1668696122621,
     "user": {
      "displayName": "Salomé Baup",
      "userId": "07571536397946550023"
     },
     "user_tz": -60
    },
    "id": "59a10531",
    "outputId": "d17fd8ea-e36d-4533-813c-aabd39513de5"
   },
   "outputs": [
    {
     "name": "stdout",
     "output_type": "stream",
     "text": [
      "Duplicated rows in :\n",
      "\tWikiMovieID : 0 \n",
      "\tFreeMovieID : 0 \n",
      "\tTitle : 6263 \n",
      "\tReleaseDate : 61351 \n",
      "\tRevenue : 74378 \n",
      "\tRuntime : 81143 \n",
      "\tLanguages : 79924 \n",
      "\tCountries : 79617 \n",
      "\tGenres : 57924 \n"
     ]
    }
   ],
   "source": [
    "print(\"Duplicated rows in :\")\n",
    "for column in movies.columns:\n",
    "    duplicated_rows = movies[column].duplicated().sum()\n",
    "    print(\"\\t{} : {} \".format(column, duplicated_rows))"
   ]
  },
  {
   "cell_type": "markdown",
   "id": "4172f746",
   "metadata": {
    "id": "4172f746"
   },
   "source": [
    "The fact that `Title`has a duplicated rows is a bit concerning. We see however than `WikiMovieID` and movies `FreeMovieID` have only unique entries. This indicates us that movies can have the same title while being actually different movies."
   ]
  },
  {
   "cell_type": "markdown",
   "id": "05f311c4",
   "metadata": {
    "id": "05f311c4",
    "tags": []
   },
   "source": [
    "## 1.4 Missing values  <a id='1.4'></a>"
   ]
  },
  {
   "cell_type": "markdown",
   "id": "c58450f5",
   "metadata": {
    "id": "c58450f5"
   },
   "source": [
    "We want to see which columns have missing entries, and for those columns what is the percentage of missing entries."
   ]
  },
  {
   "cell_type": "code",
   "execution_count": null,
   "id": "d47dd6c4",
   "metadata": {
    "id": "d47dd6c4",
    "outputId": "e887ffa2-2a65-44df-9846-297c8501015e"
   },
   "outputs": [
    {
     "data": {
      "text/plain": [
       "WikiMovieID    False\n",
       "FreeMovieID    False\n",
       "Title          False\n",
       "ReleaseDate     True\n",
       "Revenue         True\n",
       "Runtime         True\n",
       "Languages      False\n",
       "Countries      False\n",
       "Genres         False\n",
       "dtype: bool"
      ]
     },
     "execution_count": 11,
     "metadata": {},
     "output_type": "execute_result"
    }
   ],
   "source": [
    "movies.isna().any()"
   ]
  },
  {
   "cell_type": "markdown",
   "id": "287c3474",
   "metadata": {
    "id": "287c3474"
   },
   "source": [
    "For the movies dataset, only `ReleaseDate`, `Revenue` and `Runtime` have missing entries."
   ]
  },
  {
   "cell_type": "code",
   "execution_count": null,
   "id": "c1d3ec2d",
   "metadata": {
    "id": "c1d3ec2d",
    "outputId": "24b0ccce-3672-4955-f7c0-7f9dbfcdd5f7"
   },
   "outputs": [
    {
     "name": "stdout",
     "output_type": "stream",
     "text": [
      "Percentage of missing entries in the movie dataset (%):\n",
      "    ReleaseDate : 8.44\n",
      "    Revenue : 89.72\n",
      "    Runtime : 25.02\n"
     ]
    }
   ],
   "source": [
    "mov_missing = movies[['ReleaseDate', 'Revenue', 'Runtime']].isna().sum()\n",
    "print('Percentage of missing entries in the movie dataset (%):')\n",
    "for x in range(len(mov_missing.values)):\n",
    "    print(\"   \",mov_missing.index[x], ':', round(100*mov_missing.values[x]/n_mov, 2))"
   ]
  },
  {
   "cell_type": "markdown",
   "id": "ebe2b6a4",
   "metadata": {
    "id": "ebe2b6a4"
   },
   "source": [
    "90% of the revenues are non specified. We won't use this feature in our project.  \n",
    "8% of the release dates and 25% of the runtimes are missing, we can fill them if we find the correct ones."
   ]
  },
  {
   "cell_type": "code",
   "execution_count": null,
   "id": "7e56f5b0",
   "metadata": {
    "id": "7e56f5b0",
    "outputId": "440e58e2-d283-4c22-89ca-ea36c91ec9f2"
   },
   "outputs": [
    {
     "data": {
      "text/plain": [
       "WikiMovieID        False\n",
       "FreeMovieID        False\n",
       "ReleaseDate         True\n",
       "CharName            True\n",
       "ActorDOB            True\n",
       "ActorGender         True\n",
       "ActorHeight         True\n",
       "FreeEthnicityID     True\n",
       "ActorName           True\n",
       "ActorAgeRelease     True\n",
       "FreeMapID          False\n",
       "FreeCharID          True\n",
       "FreeActorID         True\n",
       "dtype: bool"
      ]
     },
     "execution_count": 13,
     "metadata": {},
     "output_type": "execute_result"
    }
   ],
   "source": [
    "characters.isna().any()"
   ]
  },
  {
   "cell_type": "code",
   "execution_count": null,
   "id": "4475c477",
   "metadata": {
    "id": "4475c477",
    "outputId": "eed0f13c-6ff6-4ecd-8ba3-0eb41e585bf1"
   },
   "outputs": [
    {
     "name": "stdout",
     "output_type": "stream",
     "text": [
      "Percentage of missing entries in the characters dataset (%):\n",
      "    ReleaseDate : 2.22\n",
      "    CharName : 57.22\n",
      "    ActorDOB : 23.55\n",
      "    ActorGender : 10.12\n",
      "    ActorHeight : 65.65\n",
      "    FreeEthnicityID : 76.47\n",
      "    ActorName : 0.27\n",
      "    ActorAgeRelease : 35.08\n",
      "    FreeCharID : 57.22\n",
      "    FreeActorID : 0.18\n"
     ]
    }
   ],
   "source": [
    "char_missing = characters[['ReleaseDate', 'CharName', 'ActorDOB', 'ActorGender', 'ActorHeight', 'FreeEthnicityID', 'ActorName',\n",
    "                           'ActorAgeRelease', 'FreeCharID', 'FreeActorID']].isna().sum()\n",
    "print('Percentage of missing entries in the characters dataset (%):')\n",
    "for x in range(len(char_missing.values)):\n",
    "    print(\"   \",char_missing.index[x], ':', round(100*char_missing.values[x]/n_char, 2))"
   ]
  },
  {
   "cell_type": "markdown",
   "id": "b2480e8c",
   "metadata": {
    "id": "b2480e8c",
    "tags": []
   },
   "source": [
    "### 1.4.1 Recovering Ethnicities  <a id='1.4.1'></a>"
   ]
  },
  {
   "cell_type": "markdown",
   "id": "ab2af37c",
   "metadata": {
    "id": "ab2af37c"
   },
   "source": [
    "`Ethnicity` only has the ID of the Freebase database whose API is currently depreciated. To solve this problem we use the [Freebase/Wikidata Mappings](https://developers.google.com/freebase#freebase-wikidata-mappings) which as the name suggests maps the given Freebase Ids to WikiData.\n",
    "\n",
    "- Note : The data has been created based on the Wikidata-Dump of October 28, 2013, and contains only those links that have at least two common Wikipedia-Links and not a single disagreeing Wikipedia-Link. Since the movies/characters dataset were gathered during that time too there is no time conflict."
   ]
  },
  {
   "cell_type": "code",
   "execution_count": null,
   "id": "0ca31ff8",
   "metadata": {
    "id": "0ca31ff8",
    "outputId": "27a4dd39-6205-41fe-b4f0-462ac5df51e5"
   },
   "outputs": [
    {
     "data": {
      "text/html": [
       "<div>\n",
       "<style scoped>\n",
       "    .dataframe tbody tr th:only-of-type {\n",
       "        vertical-align: middle;\n",
       "    }\n",
       "\n",
       "    .dataframe tbody tr th {\n",
       "        vertical-align: top;\n",
       "    }\n",
       "\n",
       "    .dataframe thead th {\n",
       "        text-align: right;\n",
       "    }\n",
       "</style>\n",
       "<table border=\"1\" class=\"dataframe\">\n",
       "  <thead>\n",
       "    <tr style=\"text-align: right;\">\n",
       "      <th></th>\n",
       "      <th>Freebase</th>\n",
       "      <th>W3</th>\n",
       "      <th>Wiki</th>\n",
       "    </tr>\n",
       "  </thead>\n",
       "  <tbody>\n",
       "    <tr>\n",
       "      <th>0</th>\n",
       "      <td>&lt;http://rdf.freebase.com/ns/m.0695j&gt;</td>\n",
       "      <td>&lt;http://www.w3.org/2002/07/owl#sameAs&gt;</td>\n",
       "      <td>&lt;http://www.wikidata.org/entity/Q6718&gt; .</td>\n",
       "    </tr>\n",
       "    <tr>\n",
       "      <th>1</th>\n",
       "      <td>&lt;http://rdf.freebase.com/ns/m.05nrg&gt;</td>\n",
       "      <td>&lt;http://www.w3.org/2002/07/owl#sameAs&gt;</td>\n",
       "      <td>&lt;http://www.wikidata.org/entity/Q538&gt; .</td>\n",
       "    </tr>\n",
       "    <tr>\n",
       "      <th>2</th>\n",
       "      <td>&lt;http://rdf.freebase.com/ns/m.0jgd&gt;</td>\n",
       "      <td>&lt;http://www.w3.org/2002/07/owl#sameAs&gt;</td>\n",
       "      <td>&lt;http://www.wikidata.org/entity/Q414&gt; .</td>\n",
       "    </tr>\n",
       "    <tr>\n",
       "      <th>3</th>\n",
       "      <td>&lt;http://rdf.freebase.com/ns/m.0d_23&gt;</td>\n",
       "      <td>&lt;http://www.w3.org/2002/07/owl#sameAs&gt;</td>\n",
       "      <td>&lt;http://www.wikidata.org/entity/Q2537&gt; .</td>\n",
       "    </tr>\n",
       "    <tr>\n",
       "      <th>4</th>\n",
       "      <td>&lt;http://rdf.freebase.com/ns/m.04g7d&gt;</td>\n",
       "      <td>&lt;http://www.w3.org/2002/07/owl#sameAs&gt;</td>\n",
       "      <td>&lt;http://www.wikidata.org/entity/Q315&gt; .</td>\n",
       "    </tr>\n",
       "  </tbody>\n",
       "</table>\n",
       "</div>"
      ],
      "text/plain": [
       "                               Freebase  \\\n",
       "0  <http://rdf.freebase.com/ns/m.0695j>   \n",
       "1  <http://rdf.freebase.com/ns/m.05nrg>   \n",
       "2   <http://rdf.freebase.com/ns/m.0jgd>   \n",
       "3  <http://rdf.freebase.com/ns/m.0d_23>   \n",
       "4  <http://rdf.freebase.com/ns/m.04g7d>   \n",
       "\n",
       "                                       W3  \\\n",
       "0  <http://www.w3.org/2002/07/owl#sameAs>   \n",
       "1  <http://www.w3.org/2002/07/owl#sameAs>   \n",
       "2  <http://www.w3.org/2002/07/owl#sameAs>   \n",
       "3  <http://www.w3.org/2002/07/owl#sameAs>   \n",
       "4  <http://www.w3.org/2002/07/owl#sameAs>   \n",
       "\n",
       "                                       Wiki  \n",
       "0  <http://www.wikidata.org/entity/Q6718> .  \n",
       "1   <http://www.wikidata.org/entity/Q538> .  \n",
       "2   <http://www.wikidata.org/entity/Q414> .  \n",
       "3  <http://www.wikidata.org/entity/Q2537> .  \n",
       "4   <http://www.wikidata.org/entity/Q315> .  "
      ]
     },
     "metadata": {},
     "output_type": "display_data"
    }
   ],
   "source": [
    "mappings_path = \"data/fb2w.nt.gz\"\n",
    "maps = pd.read_csv(mappings_path, sep='\\t', header=None, skiprows=4, names=[\"Freebase\", \"W3\", \"Wiki\"])\n",
    "display(maps.head())"
   ]
  },
  {
   "cell_type": "markdown",
   "id": "105eeb95",
   "metadata": {
    "id": "105eeb95"
   },
   "source": [
    "We only need the ID and not the whole website link so we transform columns in the following way :\n",
    "- Freebase : <http://rdf.freebase.com/ns/m.CODE_ID> -> /m/CODE_ID\n",
    "- Wiki : <http://www.wikidata.org/entity/CODE_ID> -> CODE_ID"
   ]
  },
  {
   "cell_type": "code",
   "execution_count": null,
   "id": "06c9b794",
   "metadata": {
    "id": "06c9b794"
   },
   "outputs": [],
   "source": [
    "\"\"\"\n",
    "Transforms the Freebase website to Freebase ID\n",
    "\"\"\"\n",
    "def elim_freebase(web):\n",
    "    return \"/m/\"+web[30:-1]\n",
    "\n",
    "\"\"\"\n",
    "Transforms the Freebase website to Freebase ID\n",
    "\"\"\"\n",
    "def elim_wiki(web):\n",
    "    return web[32:-3]"
   ]
  },
  {
   "cell_type": "code",
   "execution_count": null,
   "id": "ea9d3cff",
   "metadata": {
    "id": "ea9d3cff",
    "outputId": "8e719db7-fa30-49ec-b507-042452a1bd8e"
   },
   "outputs": [
    {
     "data": {
      "text/html": [
       "<div>\n",
       "<style scoped>\n",
       "    .dataframe tbody tr th:only-of-type {\n",
       "        vertical-align: middle;\n",
       "    }\n",
       "\n",
       "    .dataframe tbody tr th {\n",
       "        vertical-align: top;\n",
       "    }\n",
       "\n",
       "    .dataframe thead th {\n",
       "        text-align: right;\n",
       "    }\n",
       "</style>\n",
       "<table border=\"1\" class=\"dataframe\">\n",
       "  <thead>\n",
       "    <tr style=\"text-align: right;\">\n",
       "      <th></th>\n",
       "      <th>free</th>\n",
       "      <th>wiki</th>\n",
       "    </tr>\n",
       "  </thead>\n",
       "  <tbody>\n",
       "    <tr>\n",
       "      <th>0</th>\n",
       "      <td>/m/0695j</td>\n",
       "      <td>Q6718</td>\n",
       "    </tr>\n",
       "    <tr>\n",
       "      <th>1</th>\n",
       "      <td>/m/05nrg</td>\n",
       "      <td>Q538</td>\n",
       "    </tr>\n",
       "    <tr>\n",
       "      <th>2</th>\n",
       "      <td>/m/0jgd</td>\n",
       "      <td>Q414</td>\n",
       "    </tr>\n",
       "    <tr>\n",
       "      <th>3</th>\n",
       "      <td>/m/0d_23</td>\n",
       "      <td>Q2537</td>\n",
       "    </tr>\n",
       "    <tr>\n",
       "      <th>4</th>\n",
       "      <td>/m/04g7d</td>\n",
       "      <td>Q315</td>\n",
       "    </tr>\n",
       "  </tbody>\n",
       "</table>\n",
       "</div>"
      ],
      "text/plain": [
       "       free   wiki\n",
       "0  /m/0695j  Q6718\n",
       "1  /m/05nrg   Q538\n",
       "2   /m/0jgd   Q414\n",
       "3  /m/0d_23  Q2537\n",
       "4  /m/04g7d   Q315"
      ]
     },
     "execution_count": 24,
     "metadata": {},
     "output_type": "execute_result"
    }
   ],
   "source": [
    "maps[\"free\"] = maps.Freebase.apply(elim_freebase)\n",
    "maps[\"wiki\"] = maps.Wiki.apply(elim_wiki)\n",
    "\n",
    "# We don't need the rest of the columns so we drop them \n",
    "maps.drop(columns = [\"Freebase\", \"W3\", \"Wiki\"], inplace=True)\n",
    "maps.head()"
   ]
  },
  {
   "cell_type": "markdown",
   "id": "dd1bab75",
   "metadata": {
    "id": "dd1bab75"
   },
   "source": [
    "Firstly, we get the Wikidata IDs based on the mapping we created :"
   ]
  },
  {
   "cell_type": "code",
   "execution_count": null,
   "id": "8f2c92e7",
   "metadata": {
    "id": "8f2c92e7",
    "outputId": "479584ce-5596-42db-e043-e471a6a4b450"
   },
   "outputs": [
    {
     "data": {
      "text/html": [
       "<div>\n",
       "<style scoped>\n",
       "    .dataframe tbody tr th:only-of-type {\n",
       "        vertical-align: middle;\n",
       "    }\n",
       "\n",
       "    .dataframe tbody tr th {\n",
       "        vertical-align: top;\n",
       "    }\n",
       "\n",
       "    .dataframe thead th {\n",
       "        text-align: right;\n",
       "    }\n",
       "</style>\n",
       "<table border=\"1\" class=\"dataframe\">\n",
       "  <thead>\n",
       "    <tr style=\"text-align: right;\">\n",
       "      <th></th>\n",
       "      <th>WikiMovieID</th>\n",
       "      <th>FreeMovieID</th>\n",
       "      <th>ReleaseDate</th>\n",
       "      <th>CharName</th>\n",
       "      <th>ActorDOB</th>\n",
       "      <th>ActorGender</th>\n",
       "      <th>ActorHeight</th>\n",
       "      <th>FreeEthnicityID</th>\n",
       "      <th>ActorName</th>\n",
       "      <th>ActorAgeRelease</th>\n",
       "      <th>FreeMapID</th>\n",
       "      <th>FreeCharID</th>\n",
       "      <th>FreeActorID</th>\n",
       "      <th>Ethnicity_W</th>\n",
       "    </tr>\n",
       "  </thead>\n",
       "  <tbody>\n",
       "    <tr>\n",
       "      <th>0</th>\n",
       "      <td>975900</td>\n",
       "      <td>/m/03vyhn</td>\n",
       "      <td>2001-08-24</td>\n",
       "      <td>Akooshay</td>\n",
       "      <td>1958-08-26</td>\n",
       "      <td>F</td>\n",
       "      <td>1.620</td>\n",
       "      <td>NaN</td>\n",
       "      <td>Wanda De Jesus</td>\n",
       "      <td>42.0</td>\n",
       "      <td>/m/0bgchxw</td>\n",
       "      <td>/m/0bgcj3x</td>\n",
       "      <td>/m/03wcfv7</td>\n",
       "      <td>NaN</td>\n",
       "    </tr>\n",
       "    <tr>\n",
       "      <th>1</th>\n",
       "      <td>975900</td>\n",
       "      <td>/m/03vyhn</td>\n",
       "      <td>2001-08-24</td>\n",
       "      <td>Lieutenant Melanie Ballard</td>\n",
       "      <td>1974-08-15</td>\n",
       "      <td>F</td>\n",
       "      <td>1.780</td>\n",
       "      <td>/m/044038p</td>\n",
       "      <td>Natasha Henstridge</td>\n",
       "      <td>27.0</td>\n",
       "      <td>/m/0jys3m</td>\n",
       "      <td>/m/0bgchn4</td>\n",
       "      <td>/m/0346l4</td>\n",
       "      <td>NaN</td>\n",
       "    </tr>\n",
       "    <tr>\n",
       "      <th>2</th>\n",
       "      <td>975900</td>\n",
       "      <td>/m/03vyhn</td>\n",
       "      <td>2001-08-24</td>\n",
       "      <td>Desolation Williams</td>\n",
       "      <td>1969-06-15</td>\n",
       "      <td>M</td>\n",
       "      <td>1.727</td>\n",
       "      <td>/m/0x67</td>\n",
       "      <td>Ice Cube</td>\n",
       "      <td>32.0</td>\n",
       "      <td>/m/0jys3g</td>\n",
       "      <td>/m/0bgchn_</td>\n",
       "      <td>/m/01vw26l</td>\n",
       "      <td>Q49085</td>\n",
       "    </tr>\n",
       "    <tr>\n",
       "      <th>3</th>\n",
       "      <td>975900</td>\n",
       "      <td>/m/03vyhn</td>\n",
       "      <td>2001-08-24</td>\n",
       "      <td>Sgt Jericho Butler</td>\n",
       "      <td>1967-09-12</td>\n",
       "      <td>M</td>\n",
       "      <td>1.750</td>\n",
       "      <td>NaN</td>\n",
       "      <td>Jason Statham</td>\n",
       "      <td>33.0</td>\n",
       "      <td>/m/02vchl6</td>\n",
       "      <td>/m/0bgchnq</td>\n",
       "      <td>/m/034hyc</td>\n",
       "      <td>NaN</td>\n",
       "    </tr>\n",
       "    <tr>\n",
       "      <th>4</th>\n",
       "      <td>975900</td>\n",
       "      <td>/m/03vyhn</td>\n",
       "      <td>2001-08-24</td>\n",
       "      <td>Bashira Kincaid</td>\n",
       "      <td>1977-09-25</td>\n",
       "      <td>F</td>\n",
       "      <td>1.650</td>\n",
       "      <td>NaN</td>\n",
       "      <td>Clea DuVall</td>\n",
       "      <td>23.0</td>\n",
       "      <td>/m/02vbb3r</td>\n",
       "      <td>/m/0bgchp9</td>\n",
       "      <td>/m/01y9xg</td>\n",
       "      <td>NaN</td>\n",
       "    </tr>\n",
       "  </tbody>\n",
       "</table>\n",
       "</div>"
      ],
      "text/plain": [
       "   WikiMovieID FreeMovieID ReleaseDate                    CharName  \\\n",
       "0       975900   /m/03vyhn  2001-08-24                    Akooshay   \n",
       "1       975900   /m/03vyhn  2001-08-24  Lieutenant Melanie Ballard   \n",
       "2       975900   /m/03vyhn  2001-08-24         Desolation Williams   \n",
       "3       975900   /m/03vyhn  2001-08-24          Sgt Jericho Butler   \n",
       "4       975900   /m/03vyhn  2001-08-24             Bashira Kincaid   \n",
       "\n",
       "     ActorDOB ActorGender  ActorHeight FreeEthnicityID           ActorName  \\\n",
       "0  1958-08-26           F        1.620             NaN      Wanda De Jesus   \n",
       "1  1974-08-15           F        1.780      /m/044038p  Natasha Henstridge   \n",
       "2  1969-06-15           M        1.727         /m/0x67            Ice Cube   \n",
       "3  1967-09-12           M        1.750             NaN       Jason Statham   \n",
       "4  1977-09-25           F        1.650             NaN         Clea DuVall   \n",
       "\n",
       "   ActorAgeRelease   FreeMapID  FreeCharID FreeActorID Ethnicity_W  \n",
       "0             42.0  /m/0bgchxw  /m/0bgcj3x  /m/03wcfv7         NaN  \n",
       "1             27.0   /m/0jys3m  /m/0bgchn4   /m/0346l4         NaN  \n",
       "2             32.0   /m/0jys3g  /m/0bgchn_  /m/01vw26l      Q49085  \n",
       "3             33.0  /m/02vchl6  /m/0bgchnq   /m/034hyc         NaN  \n",
       "4             23.0  /m/02vbb3r  /m/0bgchp9   /m/01y9xg         NaN  "
      ]
     },
     "metadata": {},
     "output_type": "display_data"
    }
   ],
   "source": [
    "characters = characters.merge(maps, how=\"left\", left_on=\"FreeEthnicityID\", right_on=\"free\")\n",
    "characters.drop(columns=[\"free\"], inplace=True)\n",
    "characters.rename(columns={\"wiki\":\"Ethnicity_W\"}, inplace=True)\n",
    "display(characters.head())"
   ]
  },
  {
   "cell_type": "markdown",
   "id": "6ef5e438",
   "metadata": {
    "id": "6ef5e438"
   },
   "source": [
    "As we can see the mapping is not complete : Some Freebase IDs do not correspond to any Wikidata ID. "
   ]
  },
  {
   "cell_type": "code",
   "execution_count": null,
   "id": "f89f7dda",
   "metadata": {
    "id": "f89f7dda",
    "outputId": "ffed60be-4ef0-4bd1-e0a7-6d91b729c017"
   },
   "outputs": [
    {
     "name": "stdout",
     "output_type": "stream",
     "text": [
      "There are 12992 instances of ethnicities that we could not map from Freebase to Wikidata\n"
     ]
    }
   ],
   "source": [
    "unmapped_ethnicities = characters.Ethnicity_W.isna().sum() - characters.FreeEthnicityID.isna().sum()\n",
    "print(\"There are {} instances of ethnicities that we could not map from Freebase to Wikidata\".format(unmapped_ethnicities))\n",
    "# Instances of ethnicities -> Can we replace by number of actors ethnicities? Actors with different initial ethnicities ?"
   ]
  },
  {
   "cell_type": "code",
   "execution_count": null,
   "id": "5106ab7a",
   "metadata": {
    "id": "5106ab7a"
   },
   "outputs": [],
   "source": [
    "\"\"\"\n",
    "Given a Wikidata ID (eg. \"Q49085\") returns the corresponding label \n",
    "\n",
    "Using this function row by row (pd.apply method) takes enormous time -> improvement? For ethnicities its ok as they're only 350 dinstinct ones\n",
    "\"\"\"\n",
    "def get_wikidata_label(wikidata_id):\n",
    "    client = Client()\n",
    "    entity = client.get(wikidata_id, load=True)\n",
    "    return str(entity.label)"
   ]
  },
  {
   "cell_type": "code",
   "execution_count": null,
   "id": "b0d2b302",
   "metadata": {
    "id": "b0d2b302"
   },
   "outputs": [],
   "source": [
    "# Result is map_Ethnicity_W_to_Ethnicity_name a map between Ethnicity wikidata ID and Ethnicity label\n",
    "map_Ethnicity_W_to_Ethnicity_name = pd.DataFrame(characters.Ethnicity_W.unique(), columns=[\"Ethnicity_W\"]).dropna()\n",
    "\n",
    "# Getting the equivalent label for each Wikidata ID\n",
    "map_Ethnicity_W_to_Ethnicity_name[\"EthnicityName\"] = map_Ethnicity_W_to_Ethnicity_name.Ethnicity_W.apply(get_wikidata_label)"
   ]
  },
  {
   "cell_type": "code",
   "execution_count": null,
   "id": "5e0ae846",
   "metadata": {
    "id": "5e0ae846",
    "outputId": "8ec0317d-1665-42d2-bca7-17a55bc06008"
   },
   "outputs": [
    {
     "data": {
      "text/html": [
       "<div>\n",
       "<style scoped>\n",
       "    .dataframe tbody tr th:only-of-type {\n",
       "        vertical-align: middle;\n",
       "    }\n",
       "\n",
       "    .dataframe tbody tr th {\n",
       "        vertical-align: top;\n",
       "    }\n",
       "\n",
       "    .dataframe thead th {\n",
       "        text-align: right;\n",
       "    }\n",
       "</style>\n",
       "<table border=\"1\" class=\"dataframe\">\n",
       "  <thead>\n",
       "    <tr style=\"text-align: right;\">\n",
       "      <th></th>\n",
       "      <th>WikiMovieID</th>\n",
       "      <th>FreeMovieID</th>\n",
       "      <th>ReleaseDate</th>\n",
       "      <th>CharName</th>\n",
       "      <th>ActorDOB</th>\n",
       "      <th>ActorGender</th>\n",
       "      <th>ActorHeight</th>\n",
       "      <th>ActorName</th>\n",
       "      <th>ActorAgeRelease</th>\n",
       "      <th>FreeMapID</th>\n",
       "      <th>FreeCharID</th>\n",
       "      <th>FreeActorID</th>\n",
       "      <th>EthnicityName</th>\n",
       "    </tr>\n",
       "  </thead>\n",
       "  <tbody>\n",
       "    <tr>\n",
       "      <th>0</th>\n",
       "      <td>975900</td>\n",
       "      <td>/m/03vyhn</td>\n",
       "      <td>2001-08-24</td>\n",
       "      <td>Akooshay</td>\n",
       "      <td>1958-08-26</td>\n",
       "      <td>F</td>\n",
       "      <td>1.620</td>\n",
       "      <td>Wanda De Jesus</td>\n",
       "      <td>42.0</td>\n",
       "      <td>/m/0bgchxw</td>\n",
       "      <td>/m/0bgcj3x</td>\n",
       "      <td>/m/03wcfv7</td>\n",
       "      <td>NaN</td>\n",
       "    </tr>\n",
       "    <tr>\n",
       "      <th>1</th>\n",
       "      <td>975900</td>\n",
       "      <td>/m/03vyhn</td>\n",
       "      <td>2001-08-24</td>\n",
       "      <td>Lieutenant Melanie Ballard</td>\n",
       "      <td>1974-08-15</td>\n",
       "      <td>F</td>\n",
       "      <td>1.780</td>\n",
       "      <td>Natasha Henstridge</td>\n",
       "      <td>27.0</td>\n",
       "      <td>/m/0jys3m</td>\n",
       "      <td>/m/0bgchn4</td>\n",
       "      <td>/m/0346l4</td>\n",
       "      <td>NaN</td>\n",
       "    </tr>\n",
       "    <tr>\n",
       "      <th>2</th>\n",
       "      <td>975900</td>\n",
       "      <td>/m/03vyhn</td>\n",
       "      <td>2001-08-24</td>\n",
       "      <td>Desolation Williams</td>\n",
       "      <td>1969-06-15</td>\n",
       "      <td>M</td>\n",
       "      <td>1.727</td>\n",
       "      <td>Ice Cube</td>\n",
       "      <td>32.0</td>\n",
       "      <td>/m/0jys3g</td>\n",
       "      <td>/m/0bgchn_</td>\n",
       "      <td>/m/01vw26l</td>\n",
       "      <td>African Americans</td>\n",
       "    </tr>\n",
       "    <tr>\n",
       "      <th>3</th>\n",
       "      <td>975900</td>\n",
       "      <td>/m/03vyhn</td>\n",
       "      <td>2001-08-24</td>\n",
       "      <td>Sgt Jericho Butler</td>\n",
       "      <td>1967-09-12</td>\n",
       "      <td>M</td>\n",
       "      <td>1.750</td>\n",
       "      <td>Jason Statham</td>\n",
       "      <td>33.0</td>\n",
       "      <td>/m/02vchl6</td>\n",
       "      <td>/m/0bgchnq</td>\n",
       "      <td>/m/034hyc</td>\n",
       "      <td>NaN</td>\n",
       "    </tr>\n",
       "    <tr>\n",
       "      <th>4</th>\n",
       "      <td>975900</td>\n",
       "      <td>/m/03vyhn</td>\n",
       "      <td>2001-08-24</td>\n",
       "      <td>Bashira Kincaid</td>\n",
       "      <td>1977-09-25</td>\n",
       "      <td>F</td>\n",
       "      <td>1.650</td>\n",
       "      <td>Clea DuVall</td>\n",
       "      <td>23.0</td>\n",
       "      <td>/m/02vbb3r</td>\n",
       "      <td>/m/0bgchp9</td>\n",
       "      <td>/m/01y9xg</td>\n",
       "      <td>NaN</td>\n",
       "    </tr>\n",
       "  </tbody>\n",
       "</table>\n",
       "</div>"
      ],
      "text/plain": [
       "   WikiMovieID FreeMovieID ReleaseDate                    CharName  \\\n",
       "0       975900   /m/03vyhn  2001-08-24                    Akooshay   \n",
       "1       975900   /m/03vyhn  2001-08-24  Lieutenant Melanie Ballard   \n",
       "2       975900   /m/03vyhn  2001-08-24         Desolation Williams   \n",
       "3       975900   /m/03vyhn  2001-08-24          Sgt Jericho Butler   \n",
       "4       975900   /m/03vyhn  2001-08-24             Bashira Kincaid   \n",
       "\n",
       "     ActorDOB ActorGender  ActorHeight           ActorName  ActorAgeRelease  \\\n",
       "0  1958-08-26           F        1.620      Wanda De Jesus             42.0   \n",
       "1  1974-08-15           F        1.780  Natasha Henstridge             27.0   \n",
       "2  1969-06-15           M        1.727            Ice Cube             32.0   \n",
       "3  1967-09-12           M        1.750       Jason Statham             33.0   \n",
       "4  1977-09-25           F        1.650         Clea DuVall             23.0   \n",
       "\n",
       "    FreeMapID  FreeCharID FreeActorID      EthnicityName  \n",
       "0  /m/0bgchxw  /m/0bgcj3x  /m/03wcfv7                NaN  \n",
       "1   /m/0jys3m  /m/0bgchn4   /m/0346l4                NaN  \n",
       "2   /m/0jys3g  /m/0bgchn_  /m/01vw26l  African Americans  \n",
       "3  /m/02vchl6  /m/0bgchnq   /m/034hyc                NaN  \n",
       "4  /m/02vbb3r  /m/0bgchp9   /m/01y9xg                NaN  "
      ]
     },
     "metadata": {},
     "output_type": "display_data"
    }
   ],
   "source": [
    "# Assigining the missing ethnicities\n",
    "characters = characters.merge(map_Ethnicity_W_to_Ethnicity_name, how=\"left\", left_on=\"Ethnicity_W\", right_on=\"Ethnicity_W\").drop(columns= [\"FreeEthnicityID\", \"Ethnicity_W\"])\n",
    "display(characters.head())"
   ]
  },
  {
   "cell_type": "code",
   "execution_count": null,
   "id": "0ff777ce",
   "metadata": {
    "id": "0ff777ce",
    "outputId": "a266c96e-a477-4563-9e1e-83cb915dea09"
   },
   "outputs": [
    {
     "name": "stdout",
     "output_type": "stream",
     "text": [
      "Number of unique ethnicities : 355\n"
     ]
    }
   ],
   "source": [
    "ethn_len = characters.EthnicityName.nunique()\n",
    "print(\"Number of unique ethnicities : {}\".format(ethn_len))"
   ]
  },
  {
   "cell_type": "markdown",
   "id": "4bfbc368",
   "metadata": {
    "id": "4bfbc368"
   },
   "source": [
    "The whole ethnicities plot (355 different ethnicities) was not really readable, so we plotted what are the most present ones."
   ]
  },
  {
   "cell_type": "code",
   "execution_count": null,
   "id": "9a2b036e",
   "metadata": {
    "id": "9a2b036e",
    "outputId": "c813afb2-a59b-4845-dd7c-31629e0817af"
   },
   "outputs": [
    {
     "data": {
      "image/png": "[encoded data removed]",
      "text/plain": [
       "<Figure size 720x360 with 1 Axes>"
      ]
     },
     "metadata": {
      "needs_background": "light"
     },
     "output_type": "display_data"
    }
   ],
   "source": [
    "# Ethnicities visualization\n",
    "plt.figure(figsize=(10,5))\n",
    "characters.EthnicityName.value_counts()[:20].plot(kind=\"bar\")\n",
    "plt.xlabel('Ethnicities')\n",
    "plt.ylabel('Number of actors')\n",
    "plt.title('Distribution of the twenty most represented ethnicities');"
   ]
  },
  {
   "cell_type": "code",
   "execution_count": null,
   "id": "78494a52",
   "metadata": {
    "id": "78494a52",
    "outputId": "b06428d7-cb29-4c69-8cb9-abe4aeb4b5d5"
   },
   "outputs": [
    {
     "name": "stdout",
     "output_type": "stream",
     "text": [
      "The percentage of missing Ethnicity names is : 79.35 %\n"
     ]
    }
   ],
   "source": [
    "print('The percentage of missing Ethnicity names is :', round(100*characters[['EthnicityName']].isna().sum().values[0]/n_char,2), '%')"
   ]
  },
  {
   "cell_type": "markdown",
   "id": "04fe362b",
   "metadata": {
    "id": "04fe362b"
   },
   "source": [
    "We only have the names of 20% of the actor ethnicities : this is not enough to base our analysis and to draw conclusions. We thus decided to not use the Ethnicity in our project."
   ]
  },
  {
   "cell_type": "markdown",
   "id": "72ab7127",
   "metadata": {
    "id": "72ab7127",
    "tags": []
   },
   "source": [
    "### 1.4.2 Recovering Missing Actor Names  <a id='1.4.2'></a>"
   ]
  },
  {
   "cell_type": "markdown",
   "id": "1b0496b2",
   "metadata": {
    "id": "1b0496b2"
   },
   "source": [
    "In addition, some actors do not have their name and/or date of birth and/or sex specified but the actor freebase ID is present. We can use the actor freebase ID to recover their Wikidata information. This gives us access to the following relevant information about the actor :\n",
    "- Name\n",
    "- Sex/Gender\n",
    "- Date of Birth  \n",
    "We can therefore replace the missing values in those categories, when the Actor Freebase ID is specified."
   ]
  },
  {
   "cell_type": "code",
   "execution_count": null,
   "id": "85cb4d20",
   "metadata": {
    "id": "85cb4d20",
    "outputId": "a39de198-56fd-440c-f166-1ceed720435d"
   },
   "outputs": [
    {
     "name": "stdout",
     "output_type": "stream",
     "text": [
      "Number of rows where:\n",
      "\tActor is missing but actor ID is specified : 413\n",
      "\tActor and DOB are missing but actor ID is specified : 400\n",
      "\tActor and Gender are missing but actor ID is specified : 401\n",
      "\tActor, DOB and Gender are missing but actor ID is specified : 400\n",
      "\tDOB is missing but Actor and actor ID are specified : 104930\n",
      "\tGender is missing but Actor and actor ID are specified : 44393\n",
      "\tDOB and Gender are missing but Actor and actor ID are specified : 62635\n"
     ]
    }
   ],
   "source": [
    "print('Number of rows where:\\n\\tActor is missing but actor ID is specified :', len(characters[(characters['ActorName'].isna() & ~characters['FreeActorID'].isna())]))\n",
    "print('\\tActor and DOB are missing but actor ID is specified :', len(characters[(characters['ActorName'].isna() & characters['ActorDOB'].isna() & ~characters['FreeActorID'].isna())]))\n",
    "print('\\tActor and Gender are missing but actor ID is specified :', len(characters[(characters['ActorName'].isna() & characters['ActorGender'].isna() & ~characters['FreeActorID'].isna())]))\n",
    "print('\\tActor, DOB and Gender are missing but actor ID is specified :', len(characters[(characters['ActorName'].isna() & characters['ActorDOB'].isna() & characters['ActorGender'].isna() & ~characters['FreeActorID'].isna())]))\n",
    "print('\\tDOB is missing but Actor and actor ID are specified :', len(characters[(~characters['ActorName'].isna() & characters['ActorDOB'].isna() & ~characters['FreeActorID'].isna())]))\n",
    "print('\\tGender is missing but Actor and actor ID are specified :', len(characters[(~characters['ActorName'].isna() & characters['ActorGender'].isna() & ~characters['FreeActorID'].isna())]))\n",
    "print('\\tDOB and Gender are missing but Actor and actor ID are specified :', len(characters[(~characters['ActorName'].isna() & characters['ActorDOB'].isna() & characters['ActorGender'] & ~characters['FreeActorID'].isna())]))"
   ]
  },
  {
   "cell_type": "markdown",
   "id": "f09cec5b",
   "metadata": {
    "id": "f09cec5b"
   },
   "source": [
    "#### Starting with recovery of missing Actor names\n",
    "\n",
    "For this, we perform the same as in the Ethnicity names recovery."
   ]
  },
  {
   "cell_type": "code",
   "execution_count": null,
   "id": "3a1a2774",
   "metadata": {
    "id": "3a1a2774",
    "outputId": "d5dc4850-0871-4888-d182-61ce1f07e99a"
   },
   "outputs": [
    {
     "data": {
      "text/html": [
       "<div>\n",
       "<style scoped>\n",
       "    .dataframe tbody tr th:only-of-type {\n",
       "        vertical-align: middle;\n",
       "    }\n",
       "\n",
       "    .dataframe tbody tr th {\n",
       "        vertical-align: top;\n",
       "    }\n",
       "\n",
       "    .dataframe thead th {\n",
       "        text-align: right;\n",
       "    }\n",
       "</style>\n",
       "<table border=\"1\" class=\"dataframe\">\n",
       "  <thead>\n",
       "    <tr style=\"text-align: right;\">\n",
       "      <th></th>\n",
       "      <th>WikiMovieID</th>\n",
       "      <th>FreeMovieID</th>\n",
       "      <th>ReleaseDate</th>\n",
       "      <th>CharName</th>\n",
       "      <th>ActorDOB</th>\n",
       "      <th>ActorGender</th>\n",
       "      <th>ActorHeight</th>\n",
       "      <th>ActorName</th>\n",
       "      <th>ActorAgeRelease</th>\n",
       "      <th>FreeMapID</th>\n",
       "      <th>FreeCharID</th>\n",
       "      <th>EthnicityName</th>\n",
       "      <th>free</th>\n",
       "      <th>WikiActorID</th>\n",
       "    </tr>\n",
       "  </thead>\n",
       "  <tbody>\n",
       "    <tr>\n",
       "      <th>0</th>\n",
       "      <td>975900</td>\n",
       "      <td>/m/03vyhn</td>\n",
       "      <td>2001-08-24</td>\n",
       "      <td>Akooshay</td>\n",
       "      <td>1958-08-26</td>\n",
       "      <td>F</td>\n",
       "      <td>1.620</td>\n",
       "      <td>Wanda De Jesus</td>\n",
       "      <td>42.0</td>\n",
       "      <td>/m/0bgchxw</td>\n",
       "      <td>/m/0bgcj3x</td>\n",
       "      <td>NaN</td>\n",
       "      <td>/m/03wcfv7</td>\n",
       "      <td>Q1873468</td>\n",
       "    </tr>\n",
       "    <tr>\n",
       "      <th>1</th>\n",
       "      <td>975900</td>\n",
       "      <td>/m/03vyhn</td>\n",
       "      <td>2001-08-24</td>\n",
       "      <td>Lieutenant Melanie Ballard</td>\n",
       "      <td>1974-08-15</td>\n",
       "      <td>F</td>\n",
       "      <td>1.780</td>\n",
       "      <td>Natasha Henstridge</td>\n",
       "      <td>27.0</td>\n",
       "      <td>/m/0jys3m</td>\n",
       "      <td>/m/0bgchn4</td>\n",
       "      <td>NaN</td>\n",
       "      <td>/m/0346l4</td>\n",
       "      <td>Q230527</td>\n",
       "    </tr>\n",
       "    <tr>\n",
       "      <th>2</th>\n",
       "      <td>975900</td>\n",
       "      <td>/m/03vyhn</td>\n",
       "      <td>2001-08-24</td>\n",
       "      <td>Desolation Williams</td>\n",
       "      <td>1969-06-15</td>\n",
       "      <td>M</td>\n",
       "      <td>1.727</td>\n",
       "      <td>Ice Cube</td>\n",
       "      <td>32.0</td>\n",
       "      <td>/m/0jys3g</td>\n",
       "      <td>/m/0bgchn_</td>\n",
       "      <td>African Americans</td>\n",
       "      <td>/m/01vw26l</td>\n",
       "      <td>Q173637</td>\n",
       "    </tr>\n",
       "    <tr>\n",
       "      <th>3</th>\n",
       "      <td>975900</td>\n",
       "      <td>/m/03vyhn</td>\n",
       "      <td>2001-08-24</td>\n",
       "      <td>Sgt Jericho Butler</td>\n",
       "      <td>1967-09-12</td>\n",
       "      <td>M</td>\n",
       "      <td>1.750</td>\n",
       "      <td>Jason Statham</td>\n",
       "      <td>33.0</td>\n",
       "      <td>/m/02vchl6</td>\n",
       "      <td>/m/0bgchnq</td>\n",
       "      <td>NaN</td>\n",
       "      <td>/m/034hyc</td>\n",
       "      <td>Q169963</td>\n",
       "    </tr>\n",
       "    <tr>\n",
       "      <th>4</th>\n",
       "      <td>975900</td>\n",
       "      <td>/m/03vyhn</td>\n",
       "      <td>2001-08-24</td>\n",
       "      <td>Bashira Kincaid</td>\n",
       "      <td>1977-09-25</td>\n",
       "      <td>F</td>\n",
       "      <td>1.650</td>\n",
       "      <td>Clea DuVall</td>\n",
       "      <td>23.0</td>\n",
       "      <td>/m/02vbb3r</td>\n",
       "      <td>/m/0bgchp9</td>\n",
       "      <td>NaN</td>\n",
       "      <td>/m/01y9xg</td>\n",
       "      <td>Q233347</td>\n",
       "    </tr>\n",
       "  </tbody>\n",
       "</table>\n",
       "</div>"
      ],
      "text/plain": [
       "   WikiMovieID FreeMovieID ReleaseDate                    CharName  \\\n",
       "0       975900   /m/03vyhn  2001-08-24                    Akooshay   \n",
       "1       975900   /m/03vyhn  2001-08-24  Lieutenant Melanie Ballard   \n",
       "2       975900   /m/03vyhn  2001-08-24         Desolation Williams   \n",
       "3       975900   /m/03vyhn  2001-08-24          Sgt Jericho Butler   \n",
       "4       975900   /m/03vyhn  2001-08-24             Bashira Kincaid   \n",
       "\n",
       "     ActorDOB ActorGender  ActorHeight           ActorName  ActorAgeRelease  \\\n",
       "0  1958-08-26           F        1.620      Wanda De Jesus             42.0   \n",
       "1  1974-08-15           F        1.780  Natasha Henstridge             27.0   \n",
       "2  1969-06-15           M        1.727            Ice Cube             32.0   \n",
       "3  1967-09-12           M        1.750       Jason Statham             33.0   \n",
       "4  1977-09-25           F        1.650         Clea DuVall             23.0   \n",
       "\n",
       "    FreeMapID  FreeCharID      EthnicityName        free WikiActorID  \n",
       "0  /m/0bgchxw  /m/0bgcj3x                NaN  /m/03wcfv7    Q1873468  \n",
       "1   /m/0jys3m  /m/0bgchn4                NaN   /m/0346l4     Q230527  \n",
       "2   /m/0jys3g  /m/0bgchn_  African Americans  /m/01vw26l     Q173637  \n",
       "3  /m/02vchl6  /m/0bgchnq                NaN   /m/034hyc     Q169963  \n",
       "4  /m/02vbb3r  /m/0bgchp9                NaN   /m/01y9xg     Q233347  "
      ]
     },
     "metadata": {},
     "output_type": "display_data"
    }
   ],
   "source": [
    "characters = characters.merge(maps, how=\"left\", left_on=\"FreeActorID\", right_on=\"free\")\n",
    "characters.drop(columns=[\"FreeActorID\"], inplace=True)\n",
    "characters.rename(columns={\"wiki\":\"WikiActorID\"}, inplace=True)\n",
    "display(characters.head())"
   ]
  },
  {
   "cell_type": "code",
   "execution_count": null,
   "id": "f6698ba2",
   "metadata": {
    "id": "f6698ba2"
   },
   "outputs": [],
   "source": [
    "missing_actor = characters[(characters['ActorName'].isna() & ~characters['WikiActorID'].isna())]"
   ]
  },
  {
   "cell_type": "code",
   "execution_count": null,
   "id": "b39ee4a7",
   "metadata": {
    "id": "b39ee4a7"
   },
   "outputs": [],
   "source": [
    "map_WikiActorId_Actor = pd.DataFrame(missing_actor.WikiActorID.unique(), columns=[\"WikiActorID\"]).dropna()\n",
    "map_WikiActorId_Actor[\"ActorName\"] = map_WikiActorId_Actor.WikiActorID.apply(get_wikidata_label)"
   ]
  },
  {
   "cell_type": "code",
   "execution_count": null,
   "id": "3896aa97",
   "metadata": {
    "id": "3896aa97"
   },
   "outputs": [],
   "source": [
    "characters = characters.merge(map_WikiActorId_Actor, how=\"left\", left_on=\"WikiActorID\", right_on=\"WikiActorID\").drop(columns= [\"WikiActorID\", \"WikiActorID\"])\n",
    "characters.drop(columns=\"free\", inplace=True)"
   ]
  },
  {
   "cell_type": "code",
   "execution_count": null,
   "id": "5b9d77b9",
   "metadata": {
    "id": "5b9d77b9"
   },
   "outputs": [],
   "source": [
    "characters[\"ActorName\"] = characters.fillna(value={\"ActorName_x\":\"\"}).ActorName_x + characters.fillna(value={\"ActorName_y\":\"\"}).ActorName_y\n",
    "characters.drop(columns=[\"ActorName_x\", \"ActorName_y\"], inplace=True)"
   ]
  },
  {
   "cell_type": "code",
   "execution_count": null,
   "id": "2e947d5d",
   "metadata": {
    "id": "2e947d5d",
    "outputId": "61172fd1-b15b-4278-fd91-27391916dbf3"
   },
   "outputs": [
    {
     "data": {
      "text/html": [
       "<div>\n",
       "<style scoped>\n",
       "    .dataframe tbody tr th:only-of-type {\n",
       "        vertical-align: middle;\n",
       "    }\n",
       "\n",
       "    .dataframe tbody tr th {\n",
       "        vertical-align: top;\n",
       "    }\n",
       "\n",
       "    .dataframe thead th {\n",
       "        text-align: right;\n",
       "    }\n",
       "</style>\n",
       "<table border=\"1\" class=\"dataframe\">\n",
       "  <thead>\n",
       "    <tr style=\"text-align: right;\">\n",
       "      <th></th>\n",
       "      <th>WikiMovieID</th>\n",
       "      <th>FreeMovieID</th>\n",
       "      <th>ReleaseDate</th>\n",
       "      <th>CharName</th>\n",
       "      <th>ActorDOB</th>\n",
       "      <th>ActorGender</th>\n",
       "      <th>ActorHeight</th>\n",
       "      <th>ActorAgeRelease</th>\n",
       "      <th>FreeMapID</th>\n",
       "      <th>FreeCharID</th>\n",
       "      <th>EthnicityName</th>\n",
       "      <th>ActorName</th>\n",
       "    </tr>\n",
       "  </thead>\n",
       "  <tbody>\n",
       "    <tr>\n",
       "      <th>0</th>\n",
       "      <td>975900</td>\n",
       "      <td>/m/03vyhn</td>\n",
       "      <td>2001-08-24</td>\n",
       "      <td>Akooshay</td>\n",
       "      <td>1958-08-26</td>\n",
       "      <td>F</td>\n",
       "      <td>1.620</td>\n",
       "      <td>42.0</td>\n",
       "      <td>/m/0bgchxw</td>\n",
       "      <td>/m/0bgcj3x</td>\n",
       "      <td>NaN</td>\n",
       "      <td>Wanda De Jesus</td>\n",
       "    </tr>\n",
       "    <tr>\n",
       "      <th>1</th>\n",
       "      <td>975900</td>\n",
       "      <td>/m/03vyhn</td>\n",
       "      <td>2001-08-24</td>\n",
       "      <td>Lieutenant Melanie Ballard</td>\n",
       "      <td>1974-08-15</td>\n",
       "      <td>F</td>\n",
       "      <td>1.780</td>\n",
       "      <td>27.0</td>\n",
       "      <td>/m/0jys3m</td>\n",
       "      <td>/m/0bgchn4</td>\n",
       "      <td>NaN</td>\n",
       "      <td>Natasha Henstridge</td>\n",
       "    </tr>\n",
       "    <tr>\n",
       "      <th>2</th>\n",
       "      <td>975900</td>\n",
       "      <td>/m/03vyhn</td>\n",
       "      <td>2001-08-24</td>\n",
       "      <td>Desolation Williams</td>\n",
       "      <td>1969-06-15</td>\n",
       "      <td>M</td>\n",
       "      <td>1.727</td>\n",
       "      <td>32.0</td>\n",
       "      <td>/m/0jys3g</td>\n",
       "      <td>/m/0bgchn_</td>\n",
       "      <td>African Americans</td>\n",
       "      <td>Ice Cube</td>\n",
       "    </tr>\n",
       "    <tr>\n",
       "      <th>3</th>\n",
       "      <td>975900</td>\n",
       "      <td>/m/03vyhn</td>\n",
       "      <td>2001-08-24</td>\n",
       "      <td>Sgt Jericho Butler</td>\n",
       "      <td>1967-09-12</td>\n",
       "      <td>M</td>\n",
       "      <td>1.750</td>\n",
       "      <td>33.0</td>\n",
       "      <td>/m/02vchl6</td>\n",
       "      <td>/m/0bgchnq</td>\n",
       "      <td>NaN</td>\n",
       "      <td>Jason Statham</td>\n",
       "    </tr>\n",
       "    <tr>\n",
       "      <th>4</th>\n",
       "      <td>975900</td>\n",
       "      <td>/m/03vyhn</td>\n",
       "      <td>2001-08-24</td>\n",
       "      <td>Bashira Kincaid</td>\n",
       "      <td>1977-09-25</td>\n",
       "      <td>F</td>\n",
       "      <td>1.650</td>\n",
       "      <td>23.0</td>\n",
       "      <td>/m/02vbb3r</td>\n",
       "      <td>/m/0bgchp9</td>\n",
       "      <td>NaN</td>\n",
       "      <td>Clea DuVall</td>\n",
       "    </tr>\n",
       "  </tbody>\n",
       "</table>\n",
       "</div>"
      ],
      "text/plain": [
       "   WikiMovieID FreeMovieID ReleaseDate                    CharName  \\\n",
       "0       975900   /m/03vyhn  2001-08-24                    Akooshay   \n",
       "1       975900   /m/03vyhn  2001-08-24  Lieutenant Melanie Ballard   \n",
       "2       975900   /m/03vyhn  2001-08-24         Desolation Williams   \n",
       "3       975900   /m/03vyhn  2001-08-24          Sgt Jericho Butler   \n",
       "4       975900   /m/03vyhn  2001-08-24             Bashira Kincaid   \n",
       "\n",
       "     ActorDOB ActorGender  ActorHeight  ActorAgeRelease   FreeMapID  \\\n",
       "0  1958-08-26           F        1.620             42.0  /m/0bgchxw   \n",
       "1  1974-08-15           F        1.780             27.0   /m/0jys3m   \n",
       "2  1969-06-15           M        1.727             32.0   /m/0jys3g   \n",
       "3  1967-09-12           M        1.750             33.0  /m/02vchl6   \n",
       "4  1977-09-25           F        1.650             23.0  /m/02vbb3r   \n",
       "\n",
       "   FreeCharID      EthnicityName           ActorName  \n",
       "0  /m/0bgcj3x                NaN      Wanda De Jesus  \n",
       "1  /m/0bgchn4                NaN  Natasha Henstridge  \n",
       "2  /m/0bgchn_  African Americans            Ice Cube  \n",
       "3  /m/0bgchnq                NaN       Jason Statham  \n",
       "4  /m/0bgchp9                NaN         Clea DuVall  "
      ]
     },
     "execution_count": 41,
     "metadata": {},
     "output_type": "execute_result"
    }
   ],
   "source": [
    "characters.head()"
   ]
  },
  {
   "cell_type": "markdown",
   "id": "299d4f25",
   "metadata": {
    "id": "299d4f25"
   },
   "source": [
    "From wikidata actor page,\n",
    "- sex/gender (P21) is given as : male (Q6581097), female (Q6581072), intersex (Q1097630), transgender female (Q1052281), transgender male (Q2449503).\n",
    "- date of birth (P569) is given as : Day of the month as a zero-padded decimal number, blank space, Month full name, blank space, Year with century as a decimal number. To recover the date of birth in the same format as the ones in the characters dataset, we must read the date given by wikidata without the blank spaces and then use datetime to format it correctly. See example just below :"
   ]
  },
  {
   "cell_type": "code",
   "execution_count": null,
   "id": "6f7760b8",
   "metadata": {
    "id": "6f7760b8",
    "outputId": "37ed52d8-2808-4b66-8839-cfa07777c93a"
   },
   "outputs": [
    {
     "name": "stdout",
     "output_type": "stream",
     "text": [
      "1949-12-26\n"
     ]
    }
   ],
   "source": [
    "wiki_date = '26 December 1949'\n",
    "no_space = wiki_date.replace(\" \", \"\")\n",
    "date = datetime.strptime(no_space, '%d''%B''%Y')\n",
    "formated_date = '{:%Y-%m-%d}'.format(date)\n",
    "print(formated_date)"
   ]
  },
  {
   "cell_type": "markdown",
   "id": "64b5ca65",
   "metadata": {
    "id": "64b5ca65"
   },
   "source": [
    "We later decided that we won't use the actors information, so we didn't push further and didn't recover missing DOB or genders."
   ]
  },
  {
   "cell_type": "markdown",
   "id": "ef13684f",
   "metadata": {
    "id": "ef13684f"
   },
   "source": [
    "### Saving out results\n",
    "\n",
    "Extracting from wikidata takes a few minutes so we can save our final `characters` dataframe in case we want to use that directly in further applications."
   ]
  },
  {
   "cell_type": "code",
   "execution_count": null,
   "id": "bccf48c5",
   "metadata": {
    "id": "bccf48c5"
   },
   "outputs": [],
   "source": [
    "os.makedirs('data', exist_ok=True)  \n",
    "characters.to_csv('data/characters_aug.tsv', sep=\"\\t\", index=False)"
   ]
  },
  {
   "cell_type": "markdown",
   "id": "4d3720d7",
   "metadata": {
    "id": "4d3720d7",
    "tags": []
   },
   "source": [
    "# 2. Plot Summaries   <a id='2'></a>"
   ]
  },
  {
   "cell_type": "markdown",
   "id": "98317c17-f90b-4e20-8fda-361c43c43ab3",
   "metadata": {
    "id": "98317c17-f90b-4e20-8fda-361c43c43ab3",
    "tags": []
   },
   "source": [
    "The plot summaries are loaded from the file `plot_summaries.txt` and stored into `plot_summaries`dataset. "
   ]
  },
  {
   "cell_type": "code",
   "execution_count": 8,
   "id": "2b6962e3-2f02-46aa-a34a-d4ba8110a6e2",
   "metadata": {
    "colab": {
     "base_uri": "https://localhost:8080/",
     "height": 143
    },
    "executionInfo": {
     "elapsed": 2103,
     "status": "ok",
     "timestamp": 1668727374787,
     "user": {
      "displayName": "Salomé Baup",
      "userId": "07571536397946550023"
     },
     "user_tz": -60
    },
    "id": "2b6962e3-2f02-46aa-a34a-d4ba8110a6e2",
    "outputId": "b34e2b12-53b2-454a-b44e-03531e371dbe",
    "tags": []
   },
   "outputs": [
    {
     "data": {
      "text/html": [
       "\n",
       "  <div id=\"df-e6e613a4-fd9a-4861-91b7-4870e0fbd71a\">\n",
       "    <div class=\"colab-df-container\">\n",
       "      <div>\n",
       "<style scoped>\n",
       "    .dataframe tbody tr th:only-of-type {\n",
       "        vertical-align: middle;\n",
       "    }\n",
       "\n",
       "    .dataframe tbody tr th {\n",
       "        vertical-align: top;\n",
       "    }\n",
       "\n",
       "    .dataframe thead th {\n",
       "        text-align: right;\n",
       "    }\n",
       "</style>\n",
       "<table border=\"1\" class=\"dataframe\">\n",
       "  <thead>\n",
       "    <tr style=\"text-align: right;\">\n",
       "      <th></th>\n",
       "      <th>WikiMovieID</th>\n",
       "      <th>Plot</th>\n",
       "    </tr>\n",
       "  </thead>\n",
       "  <tbody>\n",
       "    <tr>\n",
       "      <th>0</th>\n",
       "      <td>23890098</td>\n",
       "      <td>Shlykov, a hard-working taxi driver and Lyosha...</td>\n",
       "    </tr>\n",
       "    <tr>\n",
       "      <th>1</th>\n",
       "      <td>31186339</td>\n",
       "      <td>The nation of Panem consists of a wealthy Capi...</td>\n",
       "    </tr>\n",
       "    <tr>\n",
       "      <th>2</th>\n",
       "      <td>20663735</td>\n",
       "      <td>Poovalli Induchoodan  is sentenced for six yea...</td>\n",
       "    </tr>\n",
       "  </tbody>\n",
       "</table>\n",
       "</div>\n",
       "      <button class=\"colab-df-convert\" onclick=\"convertToInteractive('df-e6e613a4-fd9a-4861-91b7-4870e0fbd71a')\"\n",
       "              title=\"Convert this dataframe to an interactive table.\"\n",
       "              style=\"display:none;\">\n",
       "        \n",
       "  <svg xmlns=\"http://www.w3.org/2000/svg\" height=\"24px\"viewBox=\"0 0 24 24\"\n",
       "       width=\"24px\">\n",
       "    <path d=\"M0 0h24v24H0V0z\" fill=\"none\"/>\n",
       "    <path d=\"M18.56 5.44l.94 2.06.94-2.06 2.06-.94-2.06-.94-.94-2.06-.94 2.06-2.06.94zm-11 1L8.5 8.5l.94-2.06 2.06-.94-2.06-.94L8.5 2.5l-.94 2.06-2.06.94zm10 10l.94 2.06.94-2.06 2.06-.94-2.06-.94-.94-2.06-.94 2.06-2.06.94z\"/><path d=\"M17.41 7.96l-1.37-1.37c-.4-.4-.92-.59-1.43-.59-.52 0-1.04.2-1.43.59L10.3 9.45l-7.72 7.72c-.78.78-.78 2.05 0 2.83L4 21.41c.39.39.9.59 1.41.59.51 0 1.02-.2 1.41-.59l7.78-7.78 2.81-2.81c.8-.78.8-2.07 0-2.86zM5.41 20L4 18.59l7.72-7.72 1.47 1.35L5.41 20z\"/>\n",
       "  </svg>\n",
       "      </button>\n",
       "      \n",
       "  <style>\n",
       "    .colab-df-container {\n",
       "      display:flex;\n",
       "      flex-wrap:wrap;\n",
       "      gap: 12px;\n",
       "    }\n",
       "\n",
       "    .colab-df-convert {\n",
       "      background-color: #E8F0FE;\n",
       "      border: none;\n",
       "      border-radius: 50%;\n",
       "      cursor: pointer;\n",
       "      display: none;\n",
       "      fill: #1967D2;\n",
       "      height: 32px;\n",
       "      padding: 0 0 0 0;\n",
       "      width: 32px;\n",
       "    }\n",
       "\n",
       "    .colab-df-convert:hover {\n",
       "      background-color: #E2EBFA;\n",
       "      box-shadow: 0px 1px 2px rgba(60, 64, 67, 0.3), 0px 1px 3px 1px rgba(60, 64, 67, 0.15);\n",
       "      fill: #174EA6;\n",
       "    }\n",
       "\n",
       "    [theme=dark] .colab-df-convert {\n",
       "      background-color: #3B4455;\n",
       "      fill: #D2E3FC;\n",
       "    }\n",
       "\n",
       "    [theme=dark] .colab-df-convert:hover {\n",
       "      background-color: #434B5C;\n",
       "      box-shadow: 0px 1px 3px 1px rgba(0, 0, 0, 0.15);\n",
       "      filter: drop-shadow(0px 1px 2px rgba(0, 0, 0, 0.3));\n",
       "      fill: #FFFFFF;\n",
       "    }\n",
       "  </style>\n",
       "\n",
       "      <script>\n",
       "        const buttonEl =\n",
       "          document.querySelector('#df-e6e613a4-fd9a-4861-91b7-4870e0fbd71a button.colab-df-convert');\n",
       "        buttonEl.style.display =\n",
       "          google.colab.kernel.accessAllowed ? 'block' : 'none';\n",
       "\n",
       "        async function convertToInteractive(key) {\n",
       "          const element = document.querySelector('#df-e6e613a4-fd9a-4861-91b7-4870e0fbd71a');\n",
       "          const dataTable =\n",
       "            await google.colab.kernel.invokeFunction('convertToInteractive',\n",
       "                                                     [key], {});\n",
       "          if (!dataTable) return;\n",
       "\n",
       "          const docLinkHtml = 'Like what you see? Visit the ' +\n",
       "            '<a target=\"_blank\" href=https://colab.research.google.com/notebooks/data_table.ipynb>data table notebook</a>'\n",
       "            + ' to learn more about interactive tables.';\n",
       "          element.innerHTML = '';\n",
       "          dataTable['output_type'] = 'display_data';\n",
       "          await google.colab.output.renderOutput(dataTable, element);\n",
       "          const docLink = document.createElement('div');\n",
       "          docLink.innerHTML = docLinkHtml;\n",
       "          element.appendChild(docLink);\n",
       "        }\n",
       "      </script>\n",
       "    </div>\n",
       "  </div>\n",
       "  "
      ],
      "text/plain": [
       "   WikiMovieID                                               Plot\n",
       "0     23890098  Shlykov, a hard-working taxi driver and Lyosha...\n",
       "1     31186339  The nation of Panem consists of a wealthy Capi...\n",
       "2     20663735  Poovalli Induchoodan  is sentenced for six yea..."
      ]
     },
     "execution_count": 8,
     "metadata": {},
     "output_type": "execute_result"
    }
   ],
   "source": [
    "plot_summaries = pd.read_csv('data/plot_summaries.txt', sep=\"\\t\", header=None,names=[\"WikiMovieID\", \"Plot\"])\n",
    "plot_summaries.head(3)"
   ]
  },
  {
   "cell_type": "markdown",
   "id": "0c393a17",
   "metadata": {
    "id": "0c393a17",
    "tags": []
   },
   "source": [
    "## 2.1 Preprocessing  <a id='2.1'></a>"
   ]
  },
  {
   "cell_type": "markdown",
   "id": "f908b664",
   "metadata": {
    "id": "f908b664",
    "tags": []
   },
   "source": [
    "### 2.1.1 Missing plot summaries check  <a id='2.1.1'></a>"
   ]
  },
  {
   "cell_type": "code",
   "execution_count": 9,
   "id": "cca4e357-2742-470b-8789-834776e5883d",
   "metadata": {
    "colab": {
     "base_uri": "https://localhost:8080/"
    },
    "executionInfo": {
     "elapsed": 395,
     "status": "ok",
     "timestamp": 1668727380164,
     "user": {
      "displayName": "Salomé Baup",
      "userId": "07571536397946550023"
     },
     "user_tz": -60
    },
    "id": "cca4e357-2742-470b-8789-834776e5883d",
    "outputId": "65f772ae-e8b7-4d9d-a771-2e939a80b07e"
   },
   "outputs": [
    {
     "name": "stdout",
     "output_type": "stream",
     "text": [
      "Number of missing plot summary in the plot_summary dataset: 0\n"
     ]
    }
   ],
   "source": [
    "print('Number of missing plot summary in the plot_summary dataset: {}'.format(plot_summaries.Plot.isna().sum()))"
   ]
  },
  {
   "cell_type": "code",
   "execution_count": 10,
   "id": "7a771f9b",
   "metadata": {
    "colab": {
     "base_uri": "https://localhost:8080/"
    },
    "executionInfo": {
     "elapsed": 383,
     "status": "ok",
     "timestamp": 1668727382480,
     "user": {
      "displayName": "Salomé Baup",
      "userId": "07571536397946550023"
     },
     "user_tz": -60
    },
    "id": "7a771f9b",
    "outputId": "6a637e18-15fc-49c0-e3ec-c54a890555ce"
   },
   "outputs": [
    {
     "name": "stdout",
     "output_type": "stream",
     "text": [
      "Number of missing plot summary when matched to films in movies dataset: 48.37%\n"
     ]
    }
   ],
   "source": [
    "print('Number of missing plot summary when matched to films in movies dataset: {:.2f}%'.format((movies.merge(plot_summaries, how=\"left\", on='WikiMovieID')).Plot.isna().sum()/len(movies)*100))"
   ]
  },
  {
   "cell_type": "markdown",
   "id": "86f5f931",
   "metadata": {
    "id": "86f5f931"
   },
   "source": [
    "We can see that we don't have the plot summary for about half of the movies."
   ]
  },
  {
   "cell_type": "markdown",
   "id": "92434f63",
   "metadata": {
    "id": "92434f63",
    "tags": []
   },
   "source": [
    "### 2.1.2 Cleaning <a id='2.1.2'></a>"
   ]
  },
  {
   "cell_type": "markdown",
   "id": "823e2c3a",
   "metadata": {
    "id": "823e2c3a"
   },
   "source": [
    "We detect the langage used in the plot summary and keep only the ones written in English."
   ]
  },
  {
   "cell_type": "code",
   "execution_count": 11,
   "id": "242c3720",
   "metadata": {
    "colab": {
     "base_uri": "https://localhost:8080/"
    },
    "executionInfo": {
     "elapsed": 437962,
     "status": "ok",
     "timestamp": 1668727850976,
     "user": {
      "displayName": "Salomé Baup",
      "userId": "07571536397946550023"
     },
     "user_tz": -60
    },
    "id": "242c3720",
    "outputId": "d37a7f17-2a9a-4530-c1d6-c1a0f10d20b2"
   },
   "outputs": [
    {
     "name": "stderr",
     "output_type": "stream",
     "text": [
      "100%|██████████| 42303/42303 [07:17<00:00, 96.64it/s]\n"
     ]
    }
   ],
   "source": [
    "plot_summaries['lang'] = plot_summaries.Plot.progress_apply(detect)"
   ]
  },
  {
   "cell_type": "code",
   "execution_count": 12,
   "id": "0f8c366f",
   "metadata": {
    "colab": {
     "base_uri": "https://localhost:8080/"
    },
    "executionInfo": {
     "elapsed": 51,
     "status": "ok",
     "timestamp": 1668727850982,
     "user": {
      "displayName": "Salomé Baup",
      "userId": "07571536397946550023"
     },
     "user_tz": -60
    },
    "id": "0f8c366f",
    "outputId": "71020c0f-c35f-46a9-e934-ed4230f6df6d"
   },
   "outputs": [
    {
     "data": {
      "text/plain": [
       "en    42275\n",
       "id       16\n",
       "es        6\n",
       "de        4\n",
       "sw        2\n",
       "Name: lang, dtype: int64"
      ]
     },
     "execution_count": 12,
     "metadata": {},
     "output_type": "execute_result"
    }
   ],
   "source": [
    "plot_summaries.lang.value_counts()"
   ]
  },
  {
   "cell_type": "code",
   "execution_count": 13,
   "id": "71d68739",
   "metadata": {
    "executionInfo": {
     "elapsed": 34,
     "status": "ok",
     "timestamp": 1668727850985,
     "user": {
      "displayName": "Salomé Baup",
      "userId": "07571536397946550023"
     },
     "user_tz": -60
    },
    "id": "71d68739",
    "tags": []
   },
   "outputs": [],
   "source": [
    "plot_summaries = plot_summaries.loc[plot_summaries.lang=='en']"
   ]
  },
  {
   "cell_type": "markdown",
   "id": "de679864",
   "metadata": {
    "id": "de679864",
    "tags": []
   },
   "source": [
    "### 2.1.3 Tokenization <a id='2.1.3'></a>"
   ]
  },
  {
   "cell_type": "markdown",
   "id": "896b1aa5",
   "metadata": {
    "id": "896b1aa5"
   },
   "source": [
    "Tokenizers are used to divide strings into lists of substrings. For each `Plot` in `plot_summaries` dataset, a list of words and punctuation marks stored in the `words_punc` column, a list of sentences in `sentences` and a list of tokenized sentences `tokens_sentences`. To do so, we use the natural langage processing library `NLTK` (Natural Language Toolkit). \"NLTK is a leading platform for building Python programs to work with human language data\"[[3]](https://www.nltk.org/)."
   ]
  },
  {
   "cell_type": "code",
   "execution_count": 14,
   "id": "9c9cee4d",
   "metadata": {
    "colab": {
     "base_uri": "https://localhost:8080/"
    },
    "executionInfo": {
     "elapsed": 267920,
     "status": "ok",
     "timestamp": 1668728126825,
     "user": {
      "displayName": "Salomé Baup",
      "userId": "07571536397946550023"
     },
     "user_tz": -60
    },
    "id": "9c9cee4d",
    "outputId": "0a6af131-95b2-4672-d7d4-f4ac2011272c"
   },
   "outputs": [
    {
     "name": "stderr",
     "output_type": "stream",
     "text": [
      "100%|██████████| 42275/42275 [02:07<00:00, 332.64it/s]\n",
      "100%|██████████| 42275/42275 [00:19<00:00, 2207.36it/s]\n",
      "100%|██████████| 42275/42275 [02:01<00:00, 347.04it/s]\n"
     ]
    }
   ],
   "source": [
    "plot_summaries['words_punc'] = plot_summaries.Plot.progress_apply(lambda x: word_tokenize(x))\n",
    "plot_summaries['sentences'] = plot_summaries.Plot.progress_apply(lambda x: sent_tokenize(x))\n",
    "plot_summaries['tokens_sentences'] = plot_summaries['sentences'].progress_apply(lambda sentences: [word_tokenize(sentence) for sentence in sentences])"
   ]
  },
  {
   "cell_type": "markdown",
   "id": "d60c2c8e",
   "metadata": {
    "id": "d60c2c8e",
    "tags": []
   },
   "source": [
    "### 2.1.4 PoS tagging <a id='2.1.4'></a>"
   ]
  },
  {
   "cell_type": "markdown",
   "id": "51a93d6e",
   "metadata": {
    "id": "51a93d6e"
   },
   "source": [
    "Part-of-speech (POS) tagging is a popular Natural Language Processing process which refers to categorizing words in a text (corpus) in correspondence with a particular part of speech, depending on the definition of the word and its context. POS tags from the [*Penn Treebank* tagset](https://www.ling.upenn.edu/courses/Fall_2003/ling001/penn_treebank_pos.html) are used to describe the lexical terms that we have within our plots."
   ]
  },
  {
   "cell_type": "code",
   "execution_count": 15,
   "id": "0ded4963",
   "metadata": {
    "colab": {
     "base_uri": "https://localhost:8080/"
    },
    "executionInfo": {
     "elapsed": 842792,
     "status": "ok",
     "timestamp": 1668728971651,
     "user": {
      "displayName": "Salomé Baup",
      "userId": "07571536397946550023"
     },
     "user_tz": -60
    },
    "id": "0ded4963",
    "outputId": "94504498-251c-49bf-eddf-30df85b3f62e"
   },
   "outputs": [
    {
     "name": "stderr",
     "output_type": "stream",
     "text": [
      "100%|██████████| 42275/42275 [14:03<00:00, 50.13it/s]\n"
     ]
    },
    {
     "data": {
      "text/plain": [
       "0    [[(Shlykov, NNP), (,, ,), (a, DT), (hard-worki...\n",
       "1    [[(The, DT), (nation, NN), (of, IN), (Panem, N...\n",
       "2    [[(Poovalli, NNP), (Induchoodan, NNP), (is, VB...\n",
       "Name: POS_tokens, dtype: object"
      ]
     },
     "execution_count": 15,
     "metadata": {},
     "output_type": "execute_result"
    }
   ],
   "source": [
    "plot_summaries['POS_tokens'] = plot_summaries['tokens_sentences'].progress_apply(lambda tokens_sentences: [pos_tag(tokens) for tokens in tokens_sentences])\n",
    "\n",
    "plot_summaries['POS_tokens'].head(3)"
   ]
  },
  {
   "cell_type": "markdown",
   "id": "c678b890",
   "metadata": {
    "id": "c678b890",
    "tags": []
   },
   "source": [
    "### 2.1.5 Lemmatization <a id='2.1.5'></a>"
   ]
  },
  {
   "cell_type": "markdown",
   "id": "f4816542",
   "metadata": {
    "id": "f4816542"
   },
   "source": [
    "Lemmatization is the process of grouping together the different inflected forms of a word so they can be analyzed as a single item. It links words with similar meanings to one word. "
   ]
  },
  {
   "cell_type": "code",
   "execution_count": 16,
   "id": "1821b30d",
   "metadata": {
    "executionInfo": {
     "elapsed": 29,
     "status": "ok",
     "timestamp": 1668728971654,
     "user": {
      "displayName": "Salomé Baup",
      "userId": "07571536397946550023"
     },
     "user_tz": -60
    },
    "id": "1821b30d"
   },
   "outputs": [],
   "source": [
    "def get_wordnet_pos(treebank_tag):\n",
    "\n",
    "    if treebank_tag.startswith('J'):\n",
    "        return wordnet.ADJ\n",
    "    elif treebank_tag.startswith('V'):\n",
    "        return wordnet.VERB\n",
    "    elif treebank_tag.startswith('N'):\n",
    "        return wordnet.NOUN\n",
    "    elif treebank_tag.startswith('R'):\n",
    "        return wordnet.ADV\n",
    "    else:\n",
    "        return ''"
   ]
  },
  {
   "cell_type": "code",
   "execution_count": 17,
   "id": "2479400a",
   "metadata": {
    "colab": {
     "base_uri": "https://localhost:8080/",
     "height": 161
    },
    "executionInfo": {
     "elapsed": 61727,
     "status": "ok",
     "timestamp": 1668729033360,
     "user": {
      "displayName": "Salomé Baup",
      "userId": "07571536397946550023"
     },
     "user_tz": -60
    },
    "id": "2479400a",
    "outputId": "21255042-e125-4de7-9650-0b42eb5bb7f0"
   },
   "outputs": [
    {
     "name": "stderr",
     "output_type": "stream",
     "text": [
      "100%|██████████| 42275/42275 [01:01<00:00, 687.71it/s]\n"
     ]
    },
    {
     "data": {
      "text/html": [
       "\n",
       "  <div id=\"df-59b273df-73e3-4e4c-b693-5b4613acde5b\">\n",
       "    <div class=\"colab-df-container\">\n",
       "      <div>\n",
       "<style scoped>\n",
       "    .dataframe tbody tr th:only-of-type {\n",
       "        vertical-align: middle;\n",
       "    }\n",
       "\n",
       "    .dataframe tbody tr th {\n",
       "        vertical-align: top;\n",
       "    }\n",
       "\n",
       "    .dataframe thead th {\n",
       "        text-align: right;\n",
       "    }\n",
       "</style>\n",
       "<table border=\"1\" class=\"dataframe\">\n",
       "  <thead>\n",
       "    <tr style=\"text-align: right;\">\n",
       "      <th></th>\n",
       "      <th>Plot</th>\n",
       "      <th>tokens_sentences_lemmatized</th>\n",
       "    </tr>\n",
       "  </thead>\n",
       "  <tbody>\n",
       "    <tr>\n",
       "      <th>0</th>\n",
       "      <td>Shlykov, a hard-working taxi driver and Lyosha...</td>\n",
       "      <td>[[Shlykov, ,, a, hard-working, taxi, driver, a...</td>\n",
       "    </tr>\n",
       "    <tr>\n",
       "      <th>1</th>\n",
       "      <td>The nation of Panem consists of a wealthy Capi...</td>\n",
       "      <td>[[The, nation, of, Panem, consist, of, a, weal...</td>\n",
       "    </tr>\n",
       "    <tr>\n",
       "      <th>2</th>\n",
       "      <td>Poovalli Induchoodan  is sentenced for six yea...</td>\n",
       "      <td>[[Poovalli, Induchoodan, be, sentence, for, si...</td>\n",
       "    </tr>\n",
       "  </tbody>\n",
       "</table>\n",
       "</div>\n",
       "      <button class=\"colab-df-convert\" onclick=\"convertToInteractive('df-59b273df-73e3-4e4c-b693-5b4613acde5b')\"\n",
       "              title=\"Convert this dataframe to an interactive table.\"\n",
       "              style=\"display:none;\">\n",
       "        \n",
       "  <svg xmlns=\"http://www.w3.org/2000/svg\" height=\"24px\"viewBox=\"0 0 24 24\"\n",
       "       width=\"24px\">\n",
       "    <path d=\"M0 0h24v24H0V0z\" fill=\"none\"/>\n",
       "    <path d=\"M18.56 5.44l.94 2.06.94-2.06 2.06-.94-2.06-.94-.94-2.06-.94 2.06-2.06.94zm-11 1L8.5 8.5l.94-2.06 2.06-.94-2.06-.94L8.5 2.5l-.94 2.06-2.06.94zm10 10l.94 2.06.94-2.06 2.06-.94-2.06-.94-.94-2.06-.94 2.06-2.06.94z\"/><path d=\"M17.41 7.96l-1.37-1.37c-.4-.4-.92-.59-1.43-.59-.52 0-1.04.2-1.43.59L10.3 9.45l-7.72 7.72c-.78.78-.78 2.05 0 2.83L4 21.41c.39.39.9.59 1.41.59.51 0 1.02-.2 1.41-.59l7.78-7.78 2.81-2.81c.8-.78.8-2.07 0-2.86zM5.41 20L4 18.59l7.72-7.72 1.47 1.35L5.41 20z\"/>\n",
       "  </svg>\n",
       "      </button>\n",
       "      \n",
       "  <style>\n",
       "    .colab-df-container {\n",
       "      display:flex;\n",
       "      flex-wrap:wrap;\n",
       "      gap: 12px;\n",
       "    }\n",
       "\n",
       "    .colab-df-convert {\n",
       "      background-color: #E8F0FE;\n",
       "      border: none;\n",
       "      border-radius: 50%;\n",
       "      cursor: pointer;\n",
       "      display: none;\n",
       "      fill: #1967D2;\n",
       "      height: 32px;\n",
       "      padding: 0 0 0 0;\n",
       "      width: 32px;\n",
       "    }\n",
       "\n",
       "    .colab-df-convert:hover {\n",
       "      background-color: #E2EBFA;\n",
       "      box-shadow: 0px 1px 2px rgba(60, 64, 67, 0.3), 0px 1px 3px 1px rgba(60, 64, 67, 0.15);\n",
       "      fill: #174EA6;\n",
       "    }\n",
       "\n",
       "    [theme=dark] .colab-df-convert {\n",
       "      background-color: #3B4455;\n",
       "      fill: #D2E3FC;\n",
       "    }\n",
       "\n",
       "    [theme=dark] .colab-df-convert:hover {\n",
       "      background-color: #434B5C;\n",
       "      box-shadow: 0px 1px 3px 1px rgba(0, 0, 0, 0.15);\n",
       "      filter: drop-shadow(0px 1px 2px rgba(0, 0, 0, 0.3));\n",
       "      fill: #FFFFFF;\n",
       "    }\n",
       "  </style>\n",
       "\n",
       "      <script>\n",
       "        const buttonEl =\n",
       "          document.querySelector('#df-59b273df-73e3-4e4c-b693-5b4613acde5b button.colab-df-convert');\n",
       "        buttonEl.style.display =\n",
       "          google.colab.kernel.accessAllowed ? 'block' : 'none';\n",
       "\n",
       "        async function convertToInteractive(key) {\n",
       "          const element = document.querySelector('#df-59b273df-73e3-4e4c-b693-5b4613acde5b');\n",
       "          const dataTable =\n",
       "            await google.colab.kernel.invokeFunction('convertToInteractive',\n",
       "                                                     [key], {});\n",
       "          if (!dataTable) return;\n",
       "\n",
       "          const docLinkHtml = 'Like what you see? Visit the ' +\n",
       "            '<a target=\"_blank\" href=https://colab.research.google.com/notebooks/data_table.ipynb>data table notebook</a>'\n",
       "            + ' to learn more about interactive tables.';\n",
       "          element.innerHTML = '';\n",
       "          dataTable['output_type'] = 'display_data';\n",
       "          await google.colab.output.renderOutput(dataTable, element);\n",
       "          const docLink = document.createElement('div');\n",
       "          docLink.innerHTML = docLinkHtml;\n",
       "          element.appendChild(docLink);\n",
       "        }\n",
       "      </script>\n",
       "    </div>\n",
       "  </div>\n",
       "  "
      ],
      "text/plain": [
       "                                                Plot  \\\n",
       "0  Shlykov, a hard-working taxi driver and Lyosha...   \n",
       "1  The nation of Panem consists of a wealthy Capi...   \n",
       "2  Poovalli Induchoodan  is sentenced for six yea...   \n",
       "\n",
       "                         tokens_sentences_lemmatized  \n",
       "0  [[Shlykov, ,, a, hard-working, taxi, driver, a...  \n",
       "1  [[The, nation, of, Panem, consist, of, a, weal...  \n",
       "2  [[Poovalli, Induchoodan, be, sentence, for, si...  "
      ]
     },
     "execution_count": 17,
     "metadata": {},
     "output_type": "execute_result"
    }
   ],
   "source": [
    "lemmatizer = WordNetLemmatizer()\n",
    "\n",
    "# Lemmatizing each word with its POS tag, in each sentence\n",
    "plot_summaries['tokens_sentences_lemmatized'] = plot_summaries['POS_tokens'].progress_apply(\n",
    "    lambda list_tokens_POS: [\n",
    "        [\n",
    "            lemmatizer.lemmatize(el[0], get_wordnet_pos(el[1])) \n",
    "            if get_wordnet_pos(el[1]) != '' else el[0] for el in tokens_POS\n",
    "        ] \n",
    "        for tokens_POS in list_tokens_POS\n",
    "    ]\n",
    ")\n",
    "\n",
    "plot_summaries[['Plot','tokens_sentences_lemmatized']].head(3)"
   ]
  },
  {
   "cell_type": "markdown",
   "id": "e473b965",
   "metadata": {
    "id": "e473b965",
    "tags": []
   },
   "source": [
    "### 2.1.6 Grouping tokens and removing stop words <a id='2.1.6'></a>"
   ]
  },
  {
   "cell_type": "markdown",
   "id": "82ca0181",
   "metadata": {
    "id": "82ca0181"
   },
   "source": [
    "In order to extact interesting information from the words present in the plot summaries, we have to take into account only the meaningful words by removing insignificant ones called stop words.\n",
    "What we have seen is that the names of the characters in the plot summaries create a lot of unwanted noise which in turn disturbs greatly our results in the topic extraction methods.Therefore, we introduce the [name-dataset](https://pypi.org/project/names-dataset/), which used a Facebook dump to create a first and last name database. From there  we extract the top 1000 first names for each gender and use them as stopwords. "
   ]
  },
  {
   "cell_type": "code",
   "execution_count": 18,
   "id": "260785d3",
   "metadata": {
    "executionInfo": {
     "elapsed": 20097,
     "status": "ok",
     "timestamp": 1668729053427,
     "user": {
      "displayName": "Salomé Baup",
      "userId": "07571536397946550023"
     },
     "user_tz": -60
    },
    "id": "260785d3"
   },
   "outputs": [],
   "source": [
    "nd = NameDataset()\n",
    "names = nd.get_top_names(n=2000, country_alpha2=\"US\")\n",
    "names = names[\"US\"][\"M\"] + names[\"US\"][\"F\"]\n",
    "names = [name.lower() for name in names]"
   ]
  },
  {
   "cell_type": "code",
   "execution_count": 19,
   "id": "b4b6bdae",
   "metadata": {
    "colab": {
     "base_uri": "https://localhost:8080/"
    },
    "executionInfo": {
     "elapsed": 908,
     "status": "ok",
     "timestamp": 1668729054317,
     "user": {
      "displayName": "Salomé Baup",
      "userId": "07571536397946550023"
     },
     "user_tz": -60
    },
    "id": "b4b6bdae",
    "outputId": "b44cb836-5e9b-4026-d6c8-94e4da8395c1"
   },
   "outputs": [
    {
     "name": "stderr",
     "output_type": "stream",
     "text": [
      "100%|██████████| 42275/42275 [00:00<00:00, 42991.52it/s]\n"
     ]
    }
   ],
   "source": [
    "# Words gathered after running the LDA model and collecting the words appearing in more than 4 topics \n",
    "stops = [\"one\", \"two\", \"also\", \"see\", \"take\", \"get\", \"find\", \"try\", \"however\", \"go\", \"come\", \"leave\", \"become\", \"make\", \"back\", \"run\"]\n",
    "my_stopwords = stopwords.words('english') + names + stops\n",
    "\n",
    "plot_summaries['tokens'] = plot_summaries['tokens_sentences_lemmatized'].progress_apply(lambda sentences: list(chain.from_iterable(sentences)))"
   ]
  },
  {
   "cell_type": "code",
   "execution_count": 20,
   "id": "2a4a6f88",
   "metadata": {
    "colab": {
     "base_uri": "https://localhost:8080/"
    },
    "executionInfo": {
     "elapsed": 544810,
     "status": "ok",
     "timestamp": 1668729599113,
     "user": {
      "displayName": "Salomé Baup",
      "userId": "07571536397946550023"
     },
     "user_tz": -60
    },
    "id": "2a4a6f88",
    "outputId": "05f9ed57-70dd-4c43-862e-0856819f8465"
   },
   "outputs": [
    {
     "name": "stderr",
     "output_type": "stream",
     "text": [
      "100%|██████████| 42275/42275 [09:04<00:00, 77.63it/s]\n"
     ]
    }
   ],
   "source": [
    "plot_summaries['tokens'] = plot_summaries['tokens'].progress_apply(lambda tokens: [token.lower() for token in tokens if token.isalpha() \n",
    "                                                    and token.lower() not in my_stopwords and len(token)>1])"
   ]
  },
  {
   "cell_type": "markdown",
   "id": "vwijcd6v9W1t",
   "metadata": {
    "id": "vwijcd6v9W1t"
   },
   "source": [
    "Saving plot summaries dataframe to access it later without performing again the previous steps:"
   ]
  },
  {
   "cell_type": "code",
   "execution_count": 21,
   "id": "Mt1vmEwl9feb",
   "metadata": {
    "executionInfo": {
     "elapsed": 36369,
     "status": "ok",
     "timestamp": 1668729637225,
     "user": {
      "displayName": "Salomé Baup",
      "userId": "07571536397946550023"
     },
     "user_tz": -60
    },
    "id": "Mt1vmEwl9feb"
   },
   "outputs": [],
   "source": [
    "plot_summaries.to_pickle('data/plot_summaries_aug.pkl')"
   ]
  },
  {
   "cell_type": "markdown",
   "id": "5cf3dc48",
   "metadata": {
    "id": "5cf3dc48",
    "tags": []
   },
   "source": [
    "### 2.1.7 Integration into movies dataset <a id='2.1.7'></a>"
   ]
  },
  {
   "cell_type": "code",
   "execution_count": 3,
   "id": "rL0hjuLj-Dq7",
   "metadata": {
    "executionInfo": {
     "elapsed": 25538,
     "status": "ok",
     "timestamp": 1668730851861,
     "user": {
      "displayName": "Salomé Baup",
      "userId": "07571536397946550023"
     },
     "user_tz": -60
    },
    "id": "rL0hjuLj-Dq7"
   },
   "outputs": [],
   "source": [
    "plot_summaries = pd.read_pickle('data/plot_summaries_aug.pkl')"
   ]
  },
  {
   "cell_type": "markdown",
   "id": "6e77f136-694c-4e85-8614-8452952cbbff",
   "metadata": {
    "id": "6e77f136-694c-4e85-8614-8452952cbbff"
   },
   "source": [
    "The preprocessed plot summaries `plot_summaries` are added to the `movies` dataset according to the Wikipedia movie ID, `WikiMovieID`. "
   ]
  },
  {
   "cell_type": "code",
   "execution_count": 11,
   "id": "8985339f",
   "metadata": {
    "executionInfo": {
     "elapsed": 374,
     "status": "ok",
     "timestamp": 1668730918130,
     "user": {
      "displayName": "Salomé Baup",
      "userId": "07571536397946550023"
     },
     "user_tz": -60
    },
    "id": "8985339f"
   },
   "outputs": [],
   "source": [
    "movies = movies.merge(plot_summaries, how=\"left\", on='WikiMovieID') "
   ]
  },
  {
   "cell_type": "code",
   "execution_count": 12,
   "id": "Y8FBJ0YZC73K",
   "metadata": {
    "executionInfo": {
     "elapsed": 733,
     "status": "ok",
     "timestamp": 1668730921524,
     "user": {
      "displayName": "Salomé Baup",
      "userId": "07571536397946550023"
     },
     "user_tz": -60
    },
    "id": "Y8FBJ0YZC73K"
   },
   "outputs": [],
   "source": [
    "movies = movies.dropna(subset=['Plot'])"
   ]
  },
  {
   "cell_type": "markdown",
   "id": "658ea17b-e28a-40b8-9782-f0d078ca9015",
   "metadata": {
    "id": "658ea17b-e28a-40b8-9782-f0d078ca9015"
   },
   "source": [
    "### 2.1.8 Preprocessing results <a id='2.1.8'></a>"
   ]
  },
  {
   "cell_type": "code",
   "execution_count": 13,
   "id": "c8a99c29",
   "metadata": {
    "colab": {
     "base_uri": "https://localhost:8080/",
     "height": 240
    },
    "executionInfo": {
     "elapsed": 410,
     "status": "ok",
     "timestamp": 1668730927444,
     "user": {
      "displayName": "Salomé Baup",
      "userId": "07571536397946550023"
     },
     "user_tz": -60
    },
    "id": "c8a99c29",
    "outputId": "df9a8c56-0f9d-4d4d-9942-82f437c15f84"
   },
   "outputs": [
    {
     "data": {
      "text/html": [
       "\n",
       "  <div id=\"df-8010b4a7-6ca0-461f-9b30-c23f901f077b\">\n",
       "    <div class=\"colab-df-container\">\n",
       "      <div>\n",
       "<style scoped>\n",
       "    .dataframe tbody tr th:only-of-type {\n",
       "        vertical-align: middle;\n",
       "    }\n",
       "\n",
       "    .dataframe tbody tr th {\n",
       "        vertical-align: top;\n",
       "    }\n",
       "\n",
       "    .dataframe thead th {\n",
       "        text-align: right;\n",
       "    }\n",
       "</style>\n",
       "<table border=\"1\" class=\"dataframe\">\n",
       "  <thead>\n",
       "    <tr style=\"text-align: right;\">\n",
       "      <th></th>\n",
       "      <th>Plot</th>\n",
       "      <th>words_punc</th>\n",
       "      <th>sentences</th>\n",
       "      <th>tokens_sentences</th>\n",
       "      <th>tokens</th>\n",
       "    </tr>\n",
       "  </thead>\n",
       "  <tbody>\n",
       "    <tr>\n",
       "      <th>0</th>\n",
       "      <td>Set in the second half of the 22nd century, th...</td>\n",
       "      <td>[Set, in, the, second, half, of, the, 22nd, ce...</td>\n",
       "      <td>[Set in the second half of the 22nd century, t...</td>\n",
       "      <td>[[Set, in, the, second, half, of, the, 22nd, c...</td>\n",
       "      <td>[set, second, half, century, film, depict, mar...</td>\n",
       "    </tr>\n",
       "    <tr>\n",
       "      <th>3</th>\n",
       "      <td>A series of murders of rich young women throug...</td>\n",
       "      <td>[A, series, of, murders, of, rich, young, wome...</td>\n",
       "      <td>[A series of murders of rich young women throu...</td>\n",
       "      <td>[[A, series, of, murders, of, rich, young, wom...</td>\n",
       "      <td>[series, murder, woman, throughout, arizona, d...</td>\n",
       "    </tr>\n",
       "    <tr>\n",
       "      <th>4</th>\n",
       "      <td>Eva, an upper class housewife, becomes frustra...</td>\n",
       "      <td>[Eva, ,, an, upper, class, housewife, ,, becom...</td>\n",
       "      <td>[Eva, an upper class housewife, becomes frustr...</td>\n",
       "      <td>[[Eva, ,, an, upper, class, housewife, ,, beco...</td>\n",
       "      <td>[upper, class, housewife, becomes, frustrated,...</td>\n",
       "    </tr>\n",
       "  </tbody>\n",
       "</table>\n",
       "</div>\n",
       "      <button class=\"colab-df-convert\" onclick=\"convertToInteractive('df-8010b4a7-6ca0-461f-9b30-c23f901f077b')\"\n",
       "              title=\"Convert this dataframe to an interactive table.\"\n",
       "              style=\"display:none;\">\n",
       "        \n",
       "  <svg xmlns=\"http://www.w3.org/2000/svg\" height=\"24px\"viewBox=\"0 0 24 24\"\n",
       "       width=\"24px\">\n",
       "    <path d=\"M0 0h24v24H0V0z\" fill=\"none\"/>\n",
       "    <path d=\"M18.56 5.44l.94 2.06.94-2.06 2.06-.94-2.06-.94-.94-2.06-.94 2.06-2.06.94zm-11 1L8.5 8.5l.94-2.06 2.06-.94-2.06-.94L8.5 2.5l-.94 2.06-2.06.94zm10 10l.94 2.06.94-2.06 2.06-.94-2.06-.94-.94-2.06-.94 2.06-2.06.94z\"/><path d=\"M17.41 7.96l-1.37-1.37c-.4-.4-.92-.59-1.43-.59-.52 0-1.04.2-1.43.59L10.3 9.45l-7.72 7.72c-.78.78-.78 2.05 0 2.83L4 21.41c.39.39.9.59 1.41.59.51 0 1.02-.2 1.41-.59l7.78-7.78 2.81-2.81c.8-.78.8-2.07 0-2.86zM5.41 20L4 18.59l7.72-7.72 1.47 1.35L5.41 20z\"/>\n",
       "  </svg>\n",
       "      </button>\n",
       "      \n",
       "  <style>\n",
       "    .colab-df-container {\n",
       "      display:flex;\n",
       "      flex-wrap:wrap;\n",
       "      gap: 12px;\n",
       "    }\n",
       "\n",
       "    .colab-df-convert {\n",
       "      background-color: #E8F0FE;\n",
       "      border: none;\n",
       "      border-radius: 50%;\n",
       "      cursor: pointer;\n",
       "      display: none;\n",
       "      fill: #1967D2;\n",
       "      height: 32px;\n",
       "      padding: 0 0 0 0;\n",
       "      width: 32px;\n",
       "    }\n",
       "\n",
       "    .colab-df-convert:hover {\n",
       "      background-color: #E2EBFA;\n",
       "      box-shadow: 0px 1px 2px rgba(60, 64, 67, 0.3), 0px 1px 3px 1px rgba(60, 64, 67, 0.15);\n",
       "      fill: #174EA6;\n",
       "    }\n",
       "\n",
       "    [theme=dark] .colab-df-convert {\n",
       "      background-color: #3B4455;\n",
       "      fill: #D2E3FC;\n",
       "    }\n",
       "\n",
       "    [theme=dark] .colab-df-convert:hover {\n",
       "      background-color: #434B5C;\n",
       "      box-shadow: 0px 1px 3px 1px rgba(0, 0, 0, 0.15);\n",
       "      filter: drop-shadow(0px 1px 2px rgba(0, 0, 0, 0.3));\n",
       "      fill: #FFFFFF;\n",
       "    }\n",
       "  </style>\n",
       "\n",
       "      <script>\n",
       "        const buttonEl =\n",
       "          document.querySelector('#df-8010b4a7-6ca0-461f-9b30-c23f901f077b button.colab-df-convert');\n",
       "        buttonEl.style.display =\n",
       "          google.colab.kernel.accessAllowed ? 'block' : 'none';\n",
       "\n",
       "        async function convertToInteractive(key) {\n",
       "          const element = document.querySelector('#df-8010b4a7-6ca0-461f-9b30-c23f901f077b');\n",
       "          const dataTable =\n",
       "            await google.colab.kernel.invokeFunction('convertToInteractive',\n",
       "                                                     [key], {});\n",
       "          if (!dataTable) return;\n",
       "\n",
       "          const docLinkHtml = 'Like what you see? Visit the ' +\n",
       "            '<a target=\"_blank\" href=https://colab.research.google.com/notebooks/data_table.ipynb>data table notebook</a>'\n",
       "            + ' to learn more about interactive tables.';\n",
       "          element.innerHTML = '';\n",
       "          dataTable['output_type'] = 'display_data';\n",
       "          await google.colab.output.renderOutput(dataTable, element);\n",
       "          const docLink = document.createElement('div');\n",
       "          docLink.innerHTML = docLinkHtml;\n",
       "          element.appendChild(docLink);\n",
       "        }\n",
       "      </script>\n",
       "    </div>\n",
       "  </div>\n",
       "  "
      ],
      "text/plain": [
       "                                                Plot  \\\n",
       "0  Set in the second half of the 22nd century, th...   \n",
       "3  A series of murders of rich young women throug...   \n",
       "4  Eva, an upper class housewife, becomes frustra...   \n",
       "\n",
       "                                          words_punc  \\\n",
       "0  [Set, in, the, second, half, of, the, 22nd, ce...   \n",
       "3  [A, series, of, murders, of, rich, young, wome...   \n",
       "4  [Eva, ,, an, upper, class, housewife, ,, becom...   \n",
       "\n",
       "                                           sentences  \\\n",
       "0  [Set in the second half of the 22nd century, t...   \n",
       "3  [A series of murders of rich young women throu...   \n",
       "4  [Eva, an upper class housewife, becomes frustr...   \n",
       "\n",
       "                                    tokens_sentences  \\\n",
       "0  [[Set, in, the, second, half, of, the, 22nd, c...   \n",
       "3  [[A, series, of, murders, of, rich, young, wom...   \n",
       "4  [[Eva, ,, an, upper, class, housewife, ,, beco...   \n",
       "\n",
       "                                              tokens  \n",
       "0  [set, second, half, century, film, depict, mar...  \n",
       "3  [series, murder, woman, throughout, arizona, d...  \n",
       "4  [upper, class, housewife, becomes, frustrated,...  "
      ]
     },
     "execution_count": 13,
     "metadata": {},
     "output_type": "execute_result"
    }
   ],
   "source": [
    "movies[['Plot','words_punc','sentences','tokens_sentences','tokens']].head(3)"
   ]
  },
  {
   "cell_type": "code",
   "execution_count": 14,
   "id": "46a23b34",
   "metadata": {
    "colab": {
     "base_uri": "https://localhost:8080/"
    },
    "executionInfo": {
     "elapsed": 12,
     "status": "ok",
     "timestamp": 1668730929596,
     "user": {
      "displayName": "Salomé Baup",
      "userId": "07571536397946550023"
     },
     "user_tz": -60
    },
    "id": "46a23b34",
    "outputId": "a2050b10-17ae-49bb-d08c-38ee6ab8a0a6"
   },
   "outputs": [
    {
     "name": "stdout",
     "output_type": "stream",
     "text": [
      "Set in the second half of the 22nd century, the film depicts Mars as a planet that has been 84% terraformed, allowing humans to walk on the surface without wearing pressure suits. The Martian society has become largely matriarchal, with women in most positions of authority. The story concerns a police officer, Melanie Ballard , second in command of a small team alongside Sergeant Jericho  sent to pick up and transport a prisoner named Desolation Williams . Arriving at the remote mining town where Williams is being held, Ballard finds virtually all of the people missing. She learns that the miners had discovered an underground doorway created by an ancient Martian civilization. When the door was opened it released \"ghosts,\" disembodied spirits which possessed the miners. Violence ensues, as the possessed miners commit horrific acts of death and destruction, as well as self-mutilation. With their team leader Helena Bradock  murdered, Ballard must fight off the attacking miners, escape the town, and destroy the ghosts, if possible. Unfortunately, her intentions are complicated by the fact that killing a possessed human merely releases the Martian spirit to possess another human. The team eventually decides to blow up a nuclear reactor to try and vaporize all of the ghosts. At several points in the film Sergeant Jericho shows a romantic interest in Ballard, mostly unreciprocated. Ballard's crew along with survivors who manage to gather in the jail are eventually wiped out by the miners after many fierce battles and events , leaving only her and Williams after Sergeant Jericho and the other remaining officers and the two operators of the train are killed upon returning from a brief retreat to finish the fight. Not wanting the authorities to blame the massacre on him, he handcuffs Ballard to her cot and escapes from the train, leaving her to return home and deliver her report, which is received with skepticism by her superiors. While Ballard recuperates at a hospital, the released spirits, who weren't destroyed after all, attack the city. The end scene sets the movie up for a sequel as Williams returns to team up with Ballard to fight the possessed.\n"
     ]
    }
   ],
   "source": [
    "print(movies['Plot'][0])"
   ]
  },
  {
   "cell_type": "code",
   "execution_count": 15,
   "id": "860bd599",
   "metadata": {
    "colab": {
     "base_uri": "https://localhost:8080/"
    },
    "executionInfo": {
     "elapsed": 12,
     "status": "ok",
     "timestamp": 1668730933048,
     "user": {
      "displayName": "Salomé Baup",
      "userId": "07571536397946550023"
     },
     "user_tz": -60
    },
    "id": "860bd599",
    "outputId": "b78c4ff6-60af-4a9a-8154-8bdfefb09d35"
   },
   "outputs": [
    {
     "name": "stdout",
     "output_type": "stream",
     "text": [
      "[[('Set', 'NN'), ('in', 'IN'), ('the', 'DT'), ('second', 'JJ'), ('half', 'NN'), ('of', 'IN'), ('the', 'DT'), ('22nd', 'JJ'), ('century', 'NN'), (',', ','), ('the', 'DT'), ('film', 'NN'), ('depicts', 'VBZ'), ('Mars', 'NNP'), ('as', 'IN'), ('a', 'DT'), ('planet', 'NN'), ('that', 'WDT'), ('has', 'VBZ'), ('been', 'VBN'), ('84', 'CD'), ('%', 'NN'), ('terraformed', 'VBN'), (',', ','), ('allowing', 'VBG'), ('humans', 'NNS'), ('to', 'TO'), ('walk', 'VB'), ('on', 'IN'), ('the', 'DT'), ('surface', 'NN'), ('without', 'IN'), ('wearing', 'VBG'), ('pressure', 'NN'), ('suits', 'NNS'), ('.', '.')], [('The', 'DT'), ('Martian', 'JJ'), ('society', 'NN'), ('has', 'VBZ'), ('become', 'VBN'), ('largely', 'RB'), ('matriarchal', 'JJ'), (',', ','), ('with', 'IN'), ('women', 'NNS'), ('in', 'IN'), ('most', 'JJS'), ('positions', 'NNS'), ('of', 'IN'), ('authority', 'NN'), ('.', '.')], [('The', 'DT'), ('story', 'NN'), ('concerns', 'VBZ'), ('a', 'DT'), ('police', 'NN'), ('officer', 'NN'), (',', ','), ('Melanie', 'NNP'), ('Ballard', 'NNP'), (',', ','), ('second', 'JJ'), ('in', 'IN'), ('command', 'NN'), ('of', 'IN'), ('a', 'DT'), ('small', 'JJ'), ('team', 'NN'), ('alongside', 'RB'), ('Sergeant', 'NNP'), ('Jericho', 'NNP'), ('sent', 'VBD'), ('to', 'TO'), ('pick', 'VB'), ('up', 'RP'), ('and', 'CC'), ('transport', 'VB'), ('a', 'DT'), ('prisoner', 'NN'), ('named', 'VBN'), ('Desolation', 'NNP'), ('Williams', 'NNP'), ('.', '.')], [('Arriving', 'VBG'), ('at', 'IN'), ('the', 'DT'), ('remote', 'JJ'), ('mining', 'NN'), ('town', 'NN'), ('where', 'WRB'), ('Williams', 'NNP'), ('is', 'VBZ'), ('being', 'VBG'), ('held', 'VBN'), (',', ','), ('Ballard', 'NNP'), ('finds', 'VBZ'), ('virtually', 'RB'), ('all', 'DT'), ('of', 'IN'), ('the', 'DT'), ('people', 'NNS'), ('missing', 'VBG'), ('.', '.')], [('She', 'PRP'), ('learns', 'VBZ'), ('that', 'IN'), ('the', 'DT'), ('miners', 'NNS'), ('had', 'VBD'), ('discovered', 'VBN'), ('an', 'DT'), ('underground', 'JJ'), ('doorway', 'NN'), ('created', 'VBN'), ('by', 'IN'), ('an', 'DT'), ('ancient', 'JJ'), ('Martian', 'JJ'), ('civilization', 'NN'), ('.', '.')], [('When', 'WRB'), ('the', 'DT'), ('door', 'NN'), ('was', 'VBD'), ('opened', 'VBN'), ('it', 'PRP'), ('released', 'VBD'), ('``', '``'), ('ghosts', 'NNS'), (',', ','), (\"''\", \"''\"), ('disembodied', 'VBD'), ('spirits', 'NNS'), ('which', 'WDT'), ('possessed', 'VBD'), ('the', 'DT'), ('miners', 'NNS'), ('.', '.')], [('Violence', 'NN'), ('ensues', 'NNS'), (',', ','), ('as', 'IN'), ('the', 'DT'), ('possessed', 'JJ'), ('miners', 'NNS'), ('commit', 'VBP'), ('horrific', 'JJ'), ('acts', 'NNS'), ('of', 'IN'), ('death', 'NN'), ('and', 'CC'), ('destruction', 'NN'), (',', ','), ('as', 'RB'), ('well', 'RB'), ('as', 'IN'), ('self-mutilation', 'NN'), ('.', '.')], [('With', 'IN'), ('their', 'PRP$'), ('team', 'NN'), ('leader', 'NN'), ('Helena', 'NNP'), ('Bradock', 'NNP'), ('murdered', 'VBD'), (',', ','), ('Ballard', 'NNP'), ('must', 'MD'), ('fight', 'VB'), ('off', 'RP'), ('the', 'DT'), ('attacking', 'VBG'), ('miners', 'NNS'), (',', ','), ('escape', 'VBP'), ('the', 'DT'), ('town', 'NN'), (',', ','), ('and', 'CC'), ('destroy', 'VB'), ('the', 'DT'), ('ghosts', 'NNS'), (',', ','), ('if', 'IN'), ('possible', 'JJ'), ('.', '.')], [('Unfortunately', 'RB'), (',', ','), ('her', 'PRP'), ('intentions', 'NNS'), ('are', 'VBP'), ('complicated', 'VBN'), ('by', 'IN'), ('the', 'DT'), ('fact', 'NN'), ('that', 'IN'), ('killing', 'VBG'), ('a', 'DT'), ('possessed', 'JJ'), ('human', 'NN'), ('merely', 'RB'), ('releases', 'VBZ'), ('the', 'DT'), ('Martian', 'JJ'), ('spirit', 'NN'), ('to', 'TO'), ('possess', 'VB'), ('another', 'DT'), ('human', 'NN'), ('.', '.')], [('The', 'DT'), ('team', 'NN'), ('eventually', 'RB'), ('decides', 'VBZ'), ('to', 'TO'), ('blow', 'VB'), ('up', 'RP'), ('a', 'DT'), ('nuclear', 'JJ'), ('reactor', 'NN'), ('to', 'TO'), ('try', 'VB'), ('and', 'CC'), ('vaporize', 'VB'), ('all', 'DT'), ('of', 'IN'), ('the', 'DT'), ('ghosts', 'NNS'), ('.', '.')], [('At', 'IN'), ('several', 'JJ'), ('points', 'NNS'), ('in', 'IN'), ('the', 'DT'), ('film', 'NN'), ('Sergeant', 'NNP'), ('Jericho', 'NNP'), ('shows', 'VBZ'), ('a', 'DT'), ('romantic', 'JJ'), ('interest', 'NN'), ('in', 'IN'), ('Ballard', 'NNP'), (',', ','), ('mostly', 'RB'), ('unreciprocated', 'JJ'), ('.', '.')], [('Ballard', 'NNP'), (\"'s\", 'POS'), ('crew', 'NN'), ('along', 'IN'), ('with', 'IN'), ('survivors', 'NNS'), ('who', 'WP'), ('manage', 'VBP'), ('to', 'TO'), ('gather', 'VB'), ('in', 'IN'), ('the', 'DT'), ('jail', 'NN'), ('are', 'VBP'), ('eventually', 'RB'), ('wiped', 'VBN'), ('out', 'RP'), ('by', 'IN'), ('the', 'DT'), ('miners', 'NNS'), ('after', 'IN'), ('many', 'JJ'), ('fierce', 'JJ'), ('battles', 'NNS'), ('and', 'CC'), ('events', 'NNS'), (',', ','), ('leaving', 'VBG'), ('only', 'RB'), ('her', 'PRP$'), ('and', 'CC'), ('Williams', 'NNP'), ('after', 'IN'), ('Sergeant', 'NNP'), ('Jericho', 'NNP'), ('and', 'CC'), ('the', 'DT'), ('other', 'JJ'), ('remaining', 'VBG'), ('officers', 'NNS'), ('and', 'CC'), ('the', 'DT'), ('two', 'CD'), ('operators', 'NNS'), ('of', 'IN'), ('the', 'DT'), ('train', 'NN'), ('are', 'VBP'), ('killed', 'VBN'), ('upon', 'IN'), ('returning', 'VBG'), ('from', 'IN'), ('a', 'DT'), ('brief', 'JJ'), ('retreat', 'NN'), ('to', 'TO'), ('finish', 'VB'), ('the', 'DT'), ('fight', 'NN'), ('.', '.')], [('Not', 'RB'), ('wanting', 'VBG'), ('the', 'DT'), ('authorities', 'NNS'), ('to', 'TO'), ('blame', 'VB'), ('the', 'DT'), ('massacre', 'NN'), ('on', 'IN'), ('him', 'PRP'), (',', ','), ('he', 'PRP'), ('handcuffs', 'VBZ'), ('Ballard', 'NNP'), ('to', 'TO'), ('her', 'PRP$'), ('cot', 'NN'), ('and', 'CC'), ('escapes', 'NNS'), ('from', 'IN'), ('the', 'DT'), ('train', 'NN'), (',', ','), ('leaving', 'VBG'), ('her', 'PRP$'), ('to', 'TO'), ('return', 'VB'), ('home', 'NN'), ('and', 'CC'), ('deliver', 'VB'), ('her', 'PRP$'), ('report', 'NN'), (',', ','), ('which', 'WDT'), ('is', 'VBZ'), ('received', 'VBN'), ('with', 'IN'), ('skepticism', 'NN'), ('by', 'IN'), ('her', 'PRP$'), ('superiors', 'NNS'), ('.', '.')], [('While', 'IN'), ('Ballard', 'NNP'), ('recuperates', 'VBZ'), ('at', 'IN'), ('a', 'DT'), ('hospital', 'NN'), (',', ','), ('the', 'DT'), ('released', 'JJ'), ('spirits', 'NNS'), (',', ','), ('who', 'WP'), ('were', 'VBD'), (\"n't\", 'RB'), ('destroyed', 'VBN'), ('after', 'IN'), ('all', 'DT'), (',', ','), ('attack', 'VBP'), ('the', 'DT'), ('city', 'NN'), ('.', '.')], [('The', 'DT'), ('end', 'NN'), ('scene', 'NN'), ('sets', 'VBZ'), ('the', 'DT'), ('movie', 'NN'), ('up', 'RP'), ('for', 'IN'), ('a', 'DT'), ('sequel', 'NN'), ('as', 'IN'), ('Williams', 'NNP'), ('returns', 'VBZ'), ('to', 'TO'), ('team', 'VB'), ('up', 'RP'), ('with', 'IN'), ('Ballard', 'NNP'), ('to', 'TO'), ('fight', 'VB'), ('the', 'DT'), ('possessed', 'VBN'), ('.', '.')]]\n"
     ]
    }
   ],
   "source": [
    "print(movies['POS_tokens'][0])"
   ]
  },
  {
   "cell_type": "code",
   "execution_count": 16,
   "id": "28708c37",
   "metadata": {
    "colab": {
     "base_uri": "https://localhost:8080/"
    },
    "executionInfo": {
     "elapsed": 411,
     "status": "ok",
     "timestamp": 1668730936103,
     "user": {
      "displayName": "Salomé Baup",
      "userId": "07571536397946550023"
     },
     "user_tz": -60
    },
    "id": "28708c37",
    "outputId": "7bd539fa-e62a-42f6-c19a-001d205cc611"
   },
   "outputs": [
    {
     "name": "stdout",
     "output_type": "stream",
     "text": [
      "[['Set', 'in', 'the', 'second', 'half', 'of', 'the', '22nd', 'century', ',', 'the', 'film', 'depict', 'Mars', 'as', 'a', 'planet', 'that', 'have', 'be', '84', '%', 'terraformed', ',', 'allow', 'human', 'to', 'walk', 'on', 'the', 'surface', 'without', 'wear', 'pressure', 'suit', '.'], ['The', 'Martian', 'society', 'have', 'become', 'largely', 'matriarchal', ',', 'with', 'woman', 'in', 'most', 'position', 'of', 'authority', '.'], ['The', 'story', 'concern', 'a', 'police', 'officer', ',', 'Melanie', 'Ballard', ',', 'second', 'in', 'command', 'of', 'a', 'small', 'team', 'alongside', 'Sergeant', 'Jericho', 'send', 'to', 'pick', 'up', 'and', 'transport', 'a', 'prisoner', 'name', 'Desolation', 'Williams', '.'], ['Arriving', 'at', 'the', 'remote', 'mining', 'town', 'where', 'Williams', 'be', 'be', 'hold', ',', 'Ballard', 'find', 'virtually', 'all', 'of', 'the', 'people', 'miss', '.'], ['She', 'learn', 'that', 'the', 'miner', 'have', 'discover', 'an', 'underground', 'doorway', 'create', 'by', 'an', 'ancient', 'Martian', 'civilization', '.'], ['When', 'the', 'door', 'be', 'open', 'it', 'release', '``', 'ghost', ',', \"''\", 'disembody', 'spirit', 'which', 'possess', 'the', 'miner', '.'], ['Violence', 'ensues', ',', 'as', 'the', 'possessed', 'miner', 'commit', 'horrific', 'act', 'of', 'death', 'and', 'destruction', ',', 'as', 'well', 'as', 'self-mutilation', '.'], ['With', 'their', 'team', 'leader', 'Helena', 'Bradock', 'murder', ',', 'Ballard', 'must', 'fight', 'off', 'the', 'attack', 'miner', ',', 'escape', 'the', 'town', ',', 'and', 'destroy', 'the', 'ghost', ',', 'if', 'possible', '.'], ['Unfortunately', ',', 'her', 'intention', 'be', 'complicate', 'by', 'the', 'fact', 'that', 'kill', 'a', 'possessed', 'human', 'merely', 'release', 'the', 'Martian', 'spirit', 'to', 'possess', 'another', 'human', '.'], ['The', 'team', 'eventually', 'decide', 'to', 'blow', 'up', 'a', 'nuclear', 'reactor', 'to', 'try', 'and', 'vaporize', 'all', 'of', 'the', 'ghost', '.'], ['At', 'several', 'point', 'in', 'the', 'film', 'Sergeant', 'Jericho', 'show', 'a', 'romantic', 'interest', 'in', 'Ballard', ',', 'mostly', 'unreciprocated', '.'], ['Ballard', \"'s\", 'crew', 'along', 'with', 'survivor', 'who', 'manage', 'to', 'gather', 'in', 'the', 'jail', 'be', 'eventually', 'wipe', 'out', 'by', 'the', 'miner', 'after', 'many', 'fierce', 'battle', 'and', 'event', ',', 'leave', 'only', 'her', 'and', 'Williams', 'after', 'Sergeant', 'Jericho', 'and', 'the', 'other', 'remain', 'officer', 'and', 'the', 'two', 'operator', 'of', 'the', 'train', 'be', 'kill', 'upon', 'return', 'from', 'a', 'brief', 'retreat', 'to', 'finish', 'the', 'fight', '.'], ['Not', 'want', 'the', 'authority', 'to', 'blame', 'the', 'massacre', 'on', 'him', ',', 'he', 'handcuff', 'Ballard', 'to', 'her', 'cot', 'and', 'escape', 'from', 'the', 'train', ',', 'leave', 'her', 'to', 'return', 'home', 'and', 'deliver', 'her', 'report', ',', 'which', 'be', 'receive', 'with', 'skepticism', 'by', 'her', 'superior', '.'], ['While', 'Ballard', 'recuperate', 'at', 'a', 'hospital', ',', 'the', 'released', 'spirit', ',', 'who', 'be', \"n't\", 'destroy', 'after', 'all', ',', 'attack', 'the', 'city', '.'], ['The', 'end', 'scene', 'set', 'the', 'movie', 'up', 'for', 'a', 'sequel', 'as', 'Williams', 'return', 'to', 'team', 'up', 'with', 'Ballard', 'to', 'fight', 'the', 'possess', '.']]\n"
     ]
    }
   ],
   "source": [
    "print(movies['tokens_sentences_lemmatized'][0])"
   ]
  },
  {
   "cell_type": "code",
   "execution_count": 17,
   "id": "cad52ee3",
   "metadata": {
    "colab": {
     "base_uri": "https://localhost:8080/"
    },
    "executionInfo": {
     "elapsed": 17,
     "status": "ok",
     "timestamp": 1668730936711,
     "user": {
      "displayName": "Salomé Baup",
      "userId": "07571536397946550023"
     },
     "user_tz": -60
    },
    "id": "cad52ee3",
    "outputId": "7556e0f7-2752-45f3-b14f-d97cb8642c88"
   },
   "outputs": [
    {
     "name": "stdout",
     "output_type": "stream",
     "text": [
      "['set', 'second', 'half', 'century', 'film', 'depict', 'mars', 'planet', 'terraformed', 'allow', 'human', 'walk', 'surface', 'without', 'wear', 'pressure', 'suit', 'martian', 'society', 'largely', 'matriarchal', 'woman', 'position', 'authority', 'story', 'concern', 'police', 'officer', 'ballard', 'second', 'command', 'small', 'team', 'alongside', 'sergeant', 'jericho', 'send', 'pick', 'transport', 'prisoner', 'name', 'desolation', 'arriving', 'remote', 'mining', 'town', 'hold', 'ballard', 'virtually', 'people', 'miss', 'learn', 'miner', 'discover', 'underground', 'doorway', 'create', 'ancient', 'martian', 'civilization', 'door', 'open', 'release', 'ghost', 'disembody', 'spirit', 'possess', 'miner', 'violence', 'ensues', 'possessed', 'miner', 'commit', 'horrific', 'act', 'death', 'destruction', 'well', 'team', 'leader', 'bradock', 'murder', 'ballard', 'must', 'fight', 'attack', 'miner', 'escape', 'town', 'destroy', 'ghost', 'possible', 'unfortunately', 'intention', 'complicate', 'fact', 'kill', 'possessed', 'human', 'merely', 'release', 'martian', 'spirit', 'possess', 'another', 'human', 'team', 'eventually', 'decide', 'blow', 'nuclear', 'reactor', 'vaporize', 'ghost', 'several', 'point', 'film', 'sergeant', 'jericho', 'show', 'romantic', 'interest', 'ballard', 'mostly', 'unreciprocated', 'ballard', 'crew', 'along', 'survivor', 'manage', 'gather', 'jail', 'eventually', 'wipe', 'miner', 'many', 'fierce', 'battle', 'event', 'sergeant', 'jericho', 'remain', 'officer', 'operator', 'train', 'kill', 'upon', 'return', 'brief', 'retreat', 'finish', 'fight', 'want', 'authority', 'blame', 'massacre', 'handcuff', 'ballard', 'cot', 'escape', 'train', 'return', 'home', 'deliver', 'report', 'receive', 'skepticism', 'superior', 'ballard', 'recuperate', 'hospital', 'released', 'spirit', 'destroy', 'attack', 'city', 'end', 'scene', 'set', 'movie', 'sequel', 'return', 'team', 'ballard', 'fight', 'possess']\n"
     ]
    }
   ],
   "source": [
    "print(movies['tokens'][0])"
   ]
  },
  {
   "cell_type": "markdown",
   "id": "cf3ecdb6",
   "metadata": {
    "id": "cf3ecdb6",
    "tags": []
   },
   "source": [
    "## 2.2 Importing Metascore  <a id='2.2'></a>"
   ]
  },
  {
   "cell_type": "markdown",
   "id": "a284815f",
   "metadata": {
    "id": "a284815f"
   },
   "source": [
    "When considering film rating, we can think about using the IMDb database. In particular, it provides the variable `averageRating` which is the weighted average of all the individual user ratings. However, IMDb user opinions can be given whenever the user wants. So, the ratings of IMDb do not match with the release date of the movie. It only works for analyzing the current opinions, as very recent reviews and can be written for an old film. \n",
    "\n",
    "In order to have an insigth into the movie impression at a time closer to the release date, we can consider metascore. [Metascore](https://github.com/miazhx/metacritic) is a weighted average of reviews from top published critic reviews for a given movie, and thus does not include any votes or comments from our users.\n"
   ]
  },
  {
   "cell_type": "markdown",
   "id": "694bfb38-e7d7-44d6-906d-c0afe62a2574",
   "metadata": {
    "id": "694bfb38-e7d7-44d6-906d-c0afe62a2574"
   },
   "source": [
    "#### Metacritic dataset loading"
   ]
  },
  {
   "cell_type": "markdown",
   "id": "400f0855",
   "metadata": {
    "id": "400f0855"
   },
   "source": [
    "We use a dataset which brings together the film title, release date, metascore and other scores. We load it and add the `metascore` information into the `movie` dataset."
   ]
  },
  {
   "cell_type": "code",
   "execution_count": null,
   "id": "bd623c12",
   "metadata": {
    "id": "bd623c12"
   },
   "outputs": [],
   "source": [
    "metacritic_url = \"https://raw.githubusercontent.com/miazhx/metacritic/master/data/metacritic_movies.csv\"\n",
    "\n",
    "metacritic = pd.read_csv(metacritic_url)"
   ]
  },
  {
   "cell_type": "code",
   "execution_count": null,
   "id": "af68bc44",
   "metadata": {
    "id": "af68bc44",
    "outputId": "c922e6c6-ed4f-45c1-c59c-01b68f8772b1"
   },
   "outputs": [
    {
     "data": {
      "text/html": [
       "<div>\n",
       "<style scoped>\n",
       "    .dataframe tbody tr th:only-of-type {\n",
       "        vertical-align: middle;\n",
       "    }\n",
       "\n",
       "    .dataframe tbody tr th {\n",
       "        vertical-align: top;\n",
       "    }\n",
       "\n",
       "    .dataframe thead th {\n",
       "        text-align: right;\n",
       "    }\n",
       "</style>\n",
       "<table border=\"1\" class=\"dataframe\">\n",
       "  <thead>\n",
       "    <tr style=\"text-align: right;\">\n",
       "      <th></th>\n",
       "      <th>movie_title</th>\n",
       "      <th>release_date</th>\n",
       "      <th>genre</th>\n",
       "      <th>meta_mixed</th>\n",
       "      <th>meta_negative</th>\n",
       "      <th>meta_positive</th>\n",
       "      <th>metascore</th>\n",
       "      <th>user_mixed</th>\n",
       "      <th>user_negative</th>\n",
       "      <th>user_positive</th>\n",
       "      <th>userscore</th>\n",
       "    </tr>\n",
       "  </thead>\n",
       "  <tbody>\n",
       "    <tr>\n",
       "      <th>0</th>\n",
       "      <td>Anatomy of a Murder</td>\n",
       "      <td>1-Jul-59</td>\n",
       "      <td>Drama,Mystery,Thriller,Crime</td>\n",
       "      <td>0</td>\n",
       "      <td>0</td>\n",
       "      <td>15</td>\n",
       "      <td>95</td>\n",
       "      <td>0</td>\n",
       "      <td>0</td>\n",
       "      <td>3</td>\n",
       "      <td>tbd</td>\n",
       "    </tr>\n",
       "    <tr>\n",
       "      <th>1</th>\n",
       "      <td>Bringing Up Baby</td>\n",
       "      <td>18-Feb-38</td>\n",
       "      <td>Comedy,Romance,Family</td>\n",
       "      <td>0</td>\n",
       "      <td>1</td>\n",
       "      <td>16</td>\n",
       "      <td>91</td>\n",
       "      <td>1</td>\n",
       "      <td>0</td>\n",
       "      <td>2</td>\n",
       "      <td>tbd</td>\n",
       "    </tr>\n",
       "    <tr>\n",
       "      <th>2</th>\n",
       "      <td>After Life</td>\n",
       "      <td>12-May-99</td>\n",
       "      <td>Drama,Fantasy</td>\n",
       "      <td>0</td>\n",
       "      <td>0</td>\n",
       "      <td>19</td>\n",
       "      <td>91</td>\n",
       "      <td>0</td>\n",
       "      <td>2</td>\n",
       "      <td>1</td>\n",
       "      <td>tbd</td>\n",
       "    </tr>\n",
       "    <tr>\n",
       "      <th>3</th>\n",
       "      <td>Gavagai</td>\n",
       "      <td>3-Aug-18</td>\n",
       "      <td>Drama</td>\n",
       "      <td>1</td>\n",
       "      <td>0</td>\n",
       "      <td>6</td>\n",
       "      <td>91</td>\n",
       "      <td>0</td>\n",
       "      <td>1</td>\n",
       "      <td>2</td>\n",
       "      <td>tbd</td>\n",
       "    </tr>\n",
       "    <tr>\n",
       "      <th>4</th>\n",
       "      <td>The Hustler</td>\n",
       "      <td>25-Sep-61</td>\n",
       "      <td>Drama,Sport</td>\n",
       "      <td>1</td>\n",
       "      <td>0</td>\n",
       "      <td>17</td>\n",
       "      <td>90</td>\n",
       "      <td>0</td>\n",
       "      <td>0</td>\n",
       "      <td>3</td>\n",
       "      <td>tbd</td>\n",
       "    </tr>\n",
       "  </tbody>\n",
       "</table>\n",
       "</div>"
      ],
      "text/plain": [
       "           movie_title release_date                         genre  meta_mixed  \\\n",
       "0  Anatomy of a Murder     1-Jul-59  Drama,Mystery,Thriller,Crime           0   \n",
       "1     Bringing Up Baby    18-Feb-38         Comedy,Romance,Family           0   \n",
       "2           After Life    12-May-99                 Drama,Fantasy           0   \n",
       "3              Gavagai     3-Aug-18                         Drama           1   \n",
       "4          The Hustler    25-Sep-61                   Drama,Sport           1   \n",
       "\n",
       "   meta_negative  meta_positive  metascore user_mixed user_negative  \\\n",
       "0              0             15         95          0             0   \n",
       "1              1             16         91          1             0   \n",
       "2              0             19         91          0             2   \n",
       "3              0              6         91          0             1   \n",
       "4              0             17         90          0             0   \n",
       "\n",
       "  user_positive userscore  \n",
       "0             3       tbd  \n",
       "1             2       tbd  \n",
       "2             1       tbd  \n",
       "3             2       tbd  \n",
       "4             3       tbd  "
      ]
     },
     "execution_count": 47,
     "metadata": {},
     "output_type": "execute_result"
    }
   ],
   "source": [
    "metacritic.head()"
   ]
  },
  {
   "cell_type": "markdown",
   "id": "f785b867-462f-434b-8f9c-0550a7295133",
   "metadata": {
    "id": "f785b867-462f-434b-8f9c-0550a7295133"
   },
   "source": [
    "#### Missing value check"
   ]
  },
  {
   "cell_type": "code",
   "execution_count": null,
   "id": "4106617f",
   "metadata": {
    "id": "4106617f",
    "outputId": "449038e9-d19c-46b1-c110-950f255829a1"
   },
   "outputs": [
    {
     "name": "stdout",
     "output_type": "stream",
     "text": [
      "Number of missing metascore in metacritic dataset: 0\n"
     ]
    }
   ],
   "source": [
    "print('Number of missing metascore in metacritic dataset: {}'.format(metacritic['metascore'].isna().sum()))"
   ]
  },
  {
   "cell_type": "code",
   "execution_count": null,
   "id": "014281ff-59db-414f-8ea6-a0a0e99a00b8",
   "metadata": {
    "id": "014281ff-59db-414f-8ea6-a0a0e99a00b8",
    "outputId": "f6a73f34-ab9e-4d93-c95a-8aaad1898ea0"
   },
   "outputs": [
    {
     "name": "stdout",
     "output_type": "stream",
     "text": [
      "There are 9121 metascores for 81741 movies (including 42176 with plot summary available).\n"
     ]
    }
   ],
   "source": [
    "print('There are {} metascores for {} movies (including {} with plot summary available).'.format(len(metacritic),len(movies), (len(movies)-movies.Plot.isna().sum())))"
   ]
  },
  {
   "cell_type": "markdown",
   "id": "14ba8920-9cef-4da5-b030-c207ae08ce59",
   "metadata": {
    "id": "14ba8920-9cef-4da5-b030-c207ae08ce59"
   },
   "source": [
    "#### Sub-dataset with the features we are interested in"
   ]
  },
  {
   "cell_type": "code",
   "execution_count": null,
   "id": "9b352ec3",
   "metadata": {
    "id": "9b352ec3"
   },
   "outputs": [],
   "source": [
    "metacritic_score = metacritic[['movie_title','metascore','release_date']].rename(columns = {'movie_title':'Title'})"
   ]
  },
  {
   "cell_type": "code",
   "execution_count": null,
   "id": "daf60d1c-289d-49b3-8018-167447b572ec",
   "metadata": {
    "id": "daf60d1c-289d-49b3-8018-167447b572ec",
    "outputId": "81f5e890-d042-49a4-c22a-d846708f1dd8"
   },
   "outputs": [
    {
     "data": {
      "text/html": [
       "<div>\n",
       "<style scoped>\n",
       "    .dataframe tbody tr th:only-of-type {\n",
       "        vertical-align: middle;\n",
       "    }\n",
       "\n",
       "    .dataframe tbody tr th {\n",
       "        vertical-align: top;\n",
       "    }\n",
       "\n",
       "    .dataframe thead th {\n",
       "        text-align: right;\n",
       "    }\n",
       "</style>\n",
       "<table border=\"1\" class=\"dataframe\">\n",
       "  <thead>\n",
       "    <tr style=\"text-align: right;\">\n",
       "      <th></th>\n",
       "      <th>Title</th>\n",
       "      <th>metascore</th>\n",
       "      <th>release_date</th>\n",
       "    </tr>\n",
       "  </thead>\n",
       "  <tbody>\n",
       "    <tr>\n",
       "      <th>0</th>\n",
       "      <td>Anatomy of a Murder</td>\n",
       "      <td>95</td>\n",
       "      <td>1-Jul-59</td>\n",
       "    </tr>\n",
       "    <tr>\n",
       "      <th>1</th>\n",
       "      <td>Bringing Up Baby</td>\n",
       "      <td>91</td>\n",
       "      <td>18-Feb-38</td>\n",
       "    </tr>\n",
       "    <tr>\n",
       "      <th>2</th>\n",
       "      <td>After Life</td>\n",
       "      <td>91</td>\n",
       "      <td>12-May-99</td>\n",
       "    </tr>\n",
       "  </tbody>\n",
       "</table>\n",
       "</div>"
      ],
      "text/plain": [
       "                 Title  metascore release_date\n",
       "0  Anatomy of a Murder         95     1-Jul-59\n",
       "1     Bringing Up Baby         91    18-Feb-38\n",
       "2           After Life         91    12-May-99"
      ]
     },
     "execution_count": 53,
     "metadata": {},
     "output_type": "execute_result"
    }
   ],
   "source": [
    "metacritic_score.head(3)"
   ]
  },
  {
   "cell_type": "code",
   "execution_count": null,
   "id": "14cb61b7-4504-43d1-ab6d-f504f710425a",
   "metadata": {
    "id": "14cb61b7-4504-43d1-ab6d-f504f710425a",
    "outputId": "9a4fdc7c-42d3-42d2-f31e-1541f420bdec"
   },
   "outputs": [
    {
     "data": {
      "text/plain": [
       "0    1-Jul-59\n",
       "Name: release_date, dtype: object"
      ]
     },
     "execution_count": 60,
     "metadata": {},
     "output_type": "execute_result"
    }
   ],
   "source": [
    "metacritic_score.release_date[[0]]"
   ]
  },
  {
   "cell_type": "code",
   "execution_count": null,
   "id": "6930b58f-3275-45d6-89df-a0b0dac6a983",
   "metadata": {
    "id": "6930b58f-3275-45d6-89df-a0b0dac6a983",
    "outputId": "7bbaa45a-1a9a-4379-cc1d-5e6f516e1e33"
   },
   "outputs": [
    {
     "data": {
      "text/plain": [
       "0   2059-07-01\n",
       "Name: release_date, dtype: datetime64[ns]"
      ]
     },
     "execution_count": 68,
     "metadata": {},
     "output_type": "execute_result"
    }
   ],
   "source": [
    "date=pd.to_datetime(metacritic_score.release_date[[0]], format='%d-%b-%y')\n",
    "date"
   ]
  },
  {
   "cell_type": "code",
   "execution_count": null,
   "id": "65cef74a-59de-406b-b0e0-3dbee2e4c2c9",
   "metadata": {
    "id": "65cef74a-59de-406b-b0e0-3dbee2e4c2c9"
   },
   "outputs": [],
   "source": [
    "metacritic['release_date_'] = pd.to_datetime(metacritic['release_date'], format='%d-%b-%y')"
   ]
  },
  {
   "cell_type": "code",
   "execution_count": null,
   "id": "9822a7ea-ac86-42a3-8070-1f72f8d99891",
   "metadata": {
    "id": "9822a7ea-ac86-42a3-8070-1f72f8d99891"
   },
   "outputs": [],
   "source": [
    "metacritic['year_last_digits']=metacritic['release_date_'].apply( lambda x: x.year-2000 )"
   ]
  },
  {
   "cell_type": "code",
   "execution_count": null,
   "id": "b2ea2856-bae2-4cc9-abd7-218a3eb9f653",
   "metadata": {
    "id": "b2ea2856-bae2-4cc9-abd7-218a3eb9f653",
    "outputId": "e33a4589-501f-488f-abb3-bdd7327d51be"
   },
   "outputs": [
    {
     "ename": "OutOfBoundsDatetime",
     "evalue": "Out of bounds nanosecond timestamp: 1010-12-02 00:00:00",
     "output_type": "error",
     "traceback": [
      "\u001b[0;31m---------------------------------------------------------------------------\u001b[0m",
      "\u001b[0;31mTypeError\u001b[0m                                 Traceback (most recent call last)",
      "File \u001b[0;32m/opt/anaconda3/envs/ada/lib/python3.9/site-packages/pandas/core/arrays/datetimes.py:2236\u001b[0m, in \u001b[0;36mobjects_to_datetime64ns\u001b[0;34m(data, dayfirst, yearfirst, utc, errors, require_iso8601, allow_object, allow_mixed)\u001b[0m\n\u001b[1;32m   2235\u001b[0m \u001b[38;5;28;01mtry\u001b[39;00m:\n\u001b[0;32m-> 2236\u001b[0m     values, tz_parsed \u001b[38;5;241m=\u001b[39m \u001b[43mconversion\u001b[49m\u001b[38;5;241;43m.\u001b[39;49m\u001b[43mdatetime_to_datetime64\u001b[49m\u001b[43m(\u001b[49m\u001b[43mdata\u001b[49m\u001b[38;5;241;43m.\u001b[39;49m\u001b[43mravel\u001b[49m\u001b[43m(\u001b[49m\u001b[38;5;124;43m\"\u001b[39;49m\u001b[38;5;124;43mK\u001b[39;49m\u001b[38;5;124;43m\"\u001b[39;49m\u001b[43m)\u001b[49m\u001b[43m)\u001b[49m\n\u001b[1;32m   2237\u001b[0m     \u001b[38;5;66;03m# If tzaware, these values represent unix timestamps, so we\u001b[39;00m\n\u001b[1;32m   2238\u001b[0m     \u001b[38;5;66;03m#  return them as i8 to distinguish from wall times\u001b[39;00m\n",
      "File \u001b[0;32m/opt/anaconda3/envs/ada/lib/python3.9/site-packages/pandas/_libs/tslibs/conversion.pyx:360\u001b[0m, in \u001b[0;36mpandas._libs.tslibs.conversion.datetime_to_datetime64\u001b[0;34m()\u001b[0m\n",
      "\u001b[0;31mTypeError\u001b[0m: Unrecognized value type: <class 'str'>",
      "\nDuring handling of the above exception, another exception occurred:\n",
      "\u001b[0;31mOutOfBoundsDatetime\u001b[0m                       Traceback (most recent call last)",
      "Input \u001b[0;32mIn [59]\u001b[0m, in \u001b[0;36m<cell line: 1>\u001b[0;34m()\u001b[0m\n\u001b[0;32m----> 1\u001b[0m \u001b[43mpd\u001b[49m\u001b[38;5;241;43m.\u001b[39;49m\u001b[43mto_datetime\u001b[49m\u001b[43m(\u001b[49m\u001b[43mmovies\u001b[49m\u001b[43m[\u001b[49m\u001b[38;5;124;43m'\u001b[39;49m\u001b[38;5;124;43mReleaseDate\u001b[39;49m\u001b[38;5;124;43m'\u001b[39;49m\u001b[43m]\u001b[49m\u001b[43m)\u001b[49m\u001b[38;5;241m.\u001b[39mhead()\n",
      "File \u001b[0;32m/opt/anaconda3/envs/ada/lib/python3.9/site-packages/pandas/core/tools/datetimes.py:1051\u001b[0m, in \u001b[0;36mto_datetime\u001b[0;34m(arg, errors, dayfirst, yearfirst, utc, format, exact, unit, infer_datetime_format, origin, cache)\u001b[0m\n\u001b[1;32m   1049\u001b[0m         result \u001b[38;5;241m=\u001b[39m arg\u001b[38;5;241m.\u001b[39mmap(cache_array)\n\u001b[1;32m   1050\u001b[0m     \u001b[38;5;28;01melse\u001b[39;00m:\n\u001b[0;32m-> 1051\u001b[0m         values \u001b[38;5;241m=\u001b[39m \u001b[43mconvert_listlike\u001b[49m\u001b[43m(\u001b[49m\u001b[43marg\u001b[49m\u001b[38;5;241;43m.\u001b[39;49m\u001b[43m_values\u001b[49m\u001b[43m,\u001b[49m\u001b[43m \u001b[49m\u001b[38;5;28;43mformat\u001b[39;49m\u001b[43m)\u001b[49m\n\u001b[1;32m   1052\u001b[0m         result \u001b[38;5;241m=\u001b[39m arg\u001b[38;5;241m.\u001b[39m_constructor(values, index\u001b[38;5;241m=\u001b[39marg\u001b[38;5;241m.\u001b[39mindex, name\u001b[38;5;241m=\u001b[39marg\u001b[38;5;241m.\u001b[39mname)\n\u001b[1;32m   1053\u001b[0m \u001b[38;5;28;01melif\u001b[39;00m \u001b[38;5;28misinstance\u001b[39m(arg, (ABCDataFrame, abc\u001b[38;5;241m.\u001b[39mMutableMapping)):\n",
      "File \u001b[0;32m/opt/anaconda3/envs/ada/lib/python3.9/site-packages/pandas/core/tools/datetimes.py:402\u001b[0m, in \u001b[0;36m_convert_listlike_datetimes\u001b[0;34m(arg, format, name, tz, unit, errors, infer_datetime_format, dayfirst, yearfirst, exact)\u001b[0m\n\u001b[1;32m    400\u001b[0m \u001b[38;5;28;01massert\u001b[39;00m \u001b[38;5;28mformat\u001b[39m \u001b[38;5;129;01mis\u001b[39;00m \u001b[38;5;28;01mNone\u001b[39;00m \u001b[38;5;129;01mor\u001b[39;00m infer_datetime_format\n\u001b[1;32m    401\u001b[0m utc \u001b[38;5;241m=\u001b[39m tz \u001b[38;5;241m==\u001b[39m \u001b[38;5;124m\"\u001b[39m\u001b[38;5;124mutc\u001b[39m\u001b[38;5;124m\"\u001b[39m\n\u001b[0;32m--> 402\u001b[0m result, tz_parsed \u001b[38;5;241m=\u001b[39m \u001b[43mobjects_to_datetime64ns\u001b[49m\u001b[43m(\u001b[49m\n\u001b[1;32m    403\u001b[0m \u001b[43m    \u001b[49m\u001b[43marg\u001b[49m\u001b[43m,\u001b[49m\n\u001b[1;32m    404\u001b[0m \u001b[43m    \u001b[49m\u001b[43mdayfirst\u001b[49m\u001b[38;5;241;43m=\u001b[39;49m\u001b[43mdayfirst\u001b[49m\u001b[43m,\u001b[49m\n\u001b[1;32m    405\u001b[0m \u001b[43m    \u001b[49m\u001b[43myearfirst\u001b[49m\u001b[38;5;241;43m=\u001b[39;49m\u001b[43myearfirst\u001b[49m\u001b[43m,\u001b[49m\n\u001b[1;32m    406\u001b[0m \u001b[43m    \u001b[49m\u001b[43mutc\u001b[49m\u001b[38;5;241;43m=\u001b[39;49m\u001b[43mutc\u001b[49m\u001b[43m,\u001b[49m\n\u001b[1;32m    407\u001b[0m \u001b[43m    \u001b[49m\u001b[43merrors\u001b[49m\u001b[38;5;241;43m=\u001b[39;49m\u001b[43merrors\u001b[49m\u001b[43m,\u001b[49m\n\u001b[1;32m    408\u001b[0m \u001b[43m    \u001b[49m\u001b[43mrequire_iso8601\u001b[49m\u001b[38;5;241;43m=\u001b[39;49m\u001b[43mrequire_iso8601\u001b[49m\u001b[43m,\u001b[49m\n\u001b[1;32m    409\u001b[0m \u001b[43m    \u001b[49m\u001b[43mallow_object\u001b[49m\u001b[38;5;241;43m=\u001b[39;49m\u001b[38;5;28;43;01mTrue\u001b[39;49;00m\u001b[43m,\u001b[49m\n\u001b[1;32m    410\u001b[0m \u001b[43m\u001b[49m\u001b[43m)\u001b[49m\n\u001b[1;32m    412\u001b[0m \u001b[38;5;28;01mif\u001b[39;00m tz_parsed \u001b[38;5;129;01mis\u001b[39;00m \u001b[38;5;129;01mnot\u001b[39;00m \u001b[38;5;28;01mNone\u001b[39;00m:\n\u001b[1;32m    413\u001b[0m     \u001b[38;5;66;03m# We can take a shortcut since the datetime64 numpy array\u001b[39;00m\n\u001b[1;32m    414\u001b[0m     \u001b[38;5;66;03m# is in UTC\u001b[39;00m\n\u001b[1;32m    415\u001b[0m     dta \u001b[38;5;241m=\u001b[39m DatetimeArray(result, dtype\u001b[38;5;241m=\u001b[39mtz_to_dtype(tz_parsed))\n",
      "File \u001b[0;32m/opt/anaconda3/envs/ada/lib/python3.9/site-packages/pandas/core/arrays/datetimes.py:2242\u001b[0m, in \u001b[0;36mobjects_to_datetime64ns\u001b[0;34m(data, dayfirst, yearfirst, utc, errors, require_iso8601, allow_object, allow_mixed)\u001b[0m\n\u001b[1;32m   2240\u001b[0m         \u001b[38;5;28;01mreturn\u001b[39;00m values\u001b[38;5;241m.\u001b[39mview(\u001b[38;5;124m\"\u001b[39m\u001b[38;5;124mi8\u001b[39m\u001b[38;5;124m\"\u001b[39m), tz_parsed\n\u001b[1;32m   2241\u001b[0m     \u001b[38;5;28;01mexcept\u001b[39;00m (\u001b[38;5;167;01mValueError\u001b[39;00m, \u001b[38;5;167;01mTypeError\u001b[39;00m):\n\u001b[0;32m-> 2242\u001b[0m         \u001b[38;5;28;01mraise\u001b[39;00m err\n\u001b[1;32m   2244\u001b[0m \u001b[38;5;28;01mif\u001b[39;00m tz_parsed \u001b[38;5;129;01mis\u001b[39;00m \u001b[38;5;129;01mnot\u001b[39;00m \u001b[38;5;28;01mNone\u001b[39;00m:\n\u001b[1;32m   2245\u001b[0m     \u001b[38;5;66;03m# We can take a shortcut since the datetime64 numpy array\u001b[39;00m\n\u001b[1;32m   2246\u001b[0m     \u001b[38;5;66;03m#  is in UTC\u001b[39;00m\n\u001b[1;32m   2247\u001b[0m     \u001b[38;5;66;03m# Return i8 values to denote unix timestamps\u001b[39;00m\n\u001b[1;32m   2248\u001b[0m     \u001b[38;5;28;01mreturn\u001b[39;00m result\u001b[38;5;241m.\u001b[39mview(\u001b[38;5;124m\"\u001b[39m\u001b[38;5;124mi8\u001b[39m\u001b[38;5;124m\"\u001b[39m), tz_parsed\n",
      "File \u001b[0;32m/opt/anaconda3/envs/ada/lib/python3.9/site-packages/pandas/core/arrays/datetimes.py:2224\u001b[0m, in \u001b[0;36mobjects_to_datetime64ns\u001b[0;34m(data, dayfirst, yearfirst, utc, errors, require_iso8601, allow_object, allow_mixed)\u001b[0m\n\u001b[1;32m   2222\u001b[0m order: Literal[\u001b[38;5;124m\"\u001b[39m\u001b[38;5;124mF\u001b[39m\u001b[38;5;124m\"\u001b[39m, \u001b[38;5;124m\"\u001b[39m\u001b[38;5;124mC\u001b[39m\u001b[38;5;124m\"\u001b[39m] \u001b[38;5;241m=\u001b[39m \u001b[38;5;124m\"\u001b[39m\u001b[38;5;124mF\u001b[39m\u001b[38;5;124m\"\u001b[39m \u001b[38;5;28;01mif\u001b[39;00m flags\u001b[38;5;241m.\u001b[39mf_contiguous \u001b[38;5;28;01melse\u001b[39;00m \u001b[38;5;124m\"\u001b[39m\u001b[38;5;124mC\u001b[39m\u001b[38;5;124m\"\u001b[39m\n\u001b[1;32m   2223\u001b[0m \u001b[38;5;28;01mtry\u001b[39;00m:\n\u001b[0;32m-> 2224\u001b[0m     result, tz_parsed \u001b[38;5;241m=\u001b[39m \u001b[43mtslib\u001b[49m\u001b[38;5;241;43m.\u001b[39;49m\u001b[43marray_to_datetime\u001b[49m\u001b[43m(\u001b[49m\n\u001b[1;32m   2225\u001b[0m \u001b[43m        \u001b[49m\u001b[43mdata\u001b[49m\u001b[38;5;241;43m.\u001b[39;49m\u001b[43mravel\u001b[49m\u001b[43m(\u001b[49m\u001b[38;5;124;43m\"\u001b[39;49m\u001b[38;5;124;43mK\u001b[39;49m\u001b[38;5;124;43m\"\u001b[39;49m\u001b[43m)\u001b[49m\u001b[43m,\u001b[49m\n\u001b[1;32m   2226\u001b[0m \u001b[43m        \u001b[49m\u001b[43merrors\u001b[49m\u001b[38;5;241;43m=\u001b[39;49m\u001b[43merrors\u001b[49m\u001b[43m,\u001b[49m\n\u001b[1;32m   2227\u001b[0m \u001b[43m        \u001b[49m\u001b[43mutc\u001b[49m\u001b[38;5;241;43m=\u001b[39;49m\u001b[43mutc\u001b[49m\u001b[43m,\u001b[49m\n\u001b[1;32m   2228\u001b[0m \u001b[43m        \u001b[49m\u001b[43mdayfirst\u001b[49m\u001b[38;5;241;43m=\u001b[39;49m\u001b[43mdayfirst\u001b[49m\u001b[43m,\u001b[49m\n\u001b[1;32m   2229\u001b[0m \u001b[43m        \u001b[49m\u001b[43myearfirst\u001b[49m\u001b[38;5;241;43m=\u001b[39;49m\u001b[43myearfirst\u001b[49m\u001b[43m,\u001b[49m\n\u001b[1;32m   2230\u001b[0m \u001b[43m        \u001b[49m\u001b[43mrequire_iso8601\u001b[49m\u001b[38;5;241;43m=\u001b[39;49m\u001b[43mrequire_iso8601\u001b[49m\u001b[43m,\u001b[49m\n\u001b[1;32m   2231\u001b[0m \u001b[43m        \u001b[49m\u001b[43mallow_mixed\u001b[49m\u001b[38;5;241;43m=\u001b[39;49m\u001b[43mallow_mixed\u001b[49m\u001b[43m,\u001b[49m\n\u001b[1;32m   2232\u001b[0m \u001b[43m    \u001b[49m\u001b[43m)\u001b[49m\n\u001b[1;32m   2233\u001b[0m     result \u001b[38;5;241m=\u001b[39m result\u001b[38;5;241m.\u001b[39mreshape(data\u001b[38;5;241m.\u001b[39mshape, order\u001b[38;5;241m=\u001b[39morder)\n\u001b[1;32m   2234\u001b[0m \u001b[38;5;28;01mexcept\u001b[39;00m \u001b[38;5;167;01mValueError\u001b[39;00m \u001b[38;5;28;01mas\u001b[39;00m err:\n",
      "File \u001b[0;32m/opt/anaconda3/envs/ada/lib/python3.9/site-packages/pandas/_libs/tslib.pyx:381\u001b[0m, in \u001b[0;36mpandas._libs.tslib.array_to_datetime\u001b[0;34m()\u001b[0m\n",
      "File \u001b[0;32m/opt/anaconda3/envs/ada/lib/python3.9/site-packages/pandas/_libs/tslib.pyx:608\u001b[0m, in \u001b[0;36mpandas._libs.tslib.array_to_datetime\u001b[0;34m()\u001b[0m\n",
      "File \u001b[0;32m/opt/anaconda3/envs/ada/lib/python3.9/site-packages/pandas/_libs/tslib.pyx:604\u001b[0m, in \u001b[0;36mpandas._libs.tslib.array_to_datetime\u001b[0;34m()\u001b[0m\n",
      "File \u001b[0;32m/opt/anaconda3/envs/ada/lib/python3.9/site-packages/pandas/_libs/tslib.pyx:580\u001b[0m, in \u001b[0;36mpandas._libs.tslib.array_to_datetime\u001b[0;34m()\u001b[0m\n",
      "File \u001b[0;32m/opt/anaconda3/envs/ada/lib/python3.9/site-packages/pandas/_libs/tslibs/np_datetime.pyx:120\u001b[0m, in \u001b[0;36mpandas._libs.tslibs.np_datetime.check_dts_bounds\u001b[0;34m()\u001b[0m\n",
      "\u001b[0;31mOutOfBoundsDatetime\u001b[0m: Out of bounds nanosecond timestamp: 1010-12-02 00:00:00"
     ]
    }
   ],
   "source": [
    "pd.to_datetime(movies['ReleaseDate']).head()"
   ]
  },
  {
   "cell_type": "code",
   "execution_count": null,
   "id": "4b1b7388-b0d6-45a3-bf95-dd43c510de55",
   "metadata": {
    "id": "4b1b7388-b0d6-45a3-bf95-dd43c510de55",
    "outputId": "f7ab428c-4e32-45dd-f00a-d8f29d884362"
   },
   "outputs": [
    {
     "data": {
      "text/html": [
       "<div>\n",
       "<style scoped>\n",
       "    .dataframe tbody tr th:only-of-type {\n",
       "        vertical-align: middle;\n",
       "    }\n",
       "\n",
       "    .dataframe tbody tr th {\n",
       "        vertical-align: top;\n",
       "    }\n",
       "\n",
       "    .dataframe thead th {\n",
       "        text-align: right;\n",
       "    }\n",
       "</style>\n",
       "<table border=\"1\" class=\"dataframe\">\n",
       "  <thead>\n",
       "    <tr style=\"text-align: right;\">\n",
       "      <th></th>\n",
       "      <th>Title</th>\n",
       "      <th>metascore</th>\n",
       "      <th>release_date</th>\n",
       "    </tr>\n",
       "  </thead>\n",
       "  <tbody>\n",
       "    <tr>\n",
       "      <th>0</th>\n",
       "      <td>Anatomy of a Murder</td>\n",
       "      <td>95</td>\n",
       "      <td>1-Jul-59</td>\n",
       "    </tr>\n",
       "    <tr>\n",
       "      <th>1</th>\n",
       "      <td>Bringing Up Baby</td>\n",
       "      <td>91</td>\n",
       "      <td>18-Feb-38</td>\n",
       "    </tr>\n",
       "    <tr>\n",
       "      <th>2</th>\n",
       "      <td>After Life</td>\n",
       "      <td>91</td>\n",
       "      <td>12-May-99</td>\n",
       "    </tr>\n",
       "  </tbody>\n",
       "</table>\n",
       "</div>"
      ],
      "text/plain": [
       "                 Title  metascore release_date\n",
       "0  Anatomy of a Murder         95     1-Jul-59\n",
       "1     Bringing Up Baby         91    18-Feb-38\n",
       "2           After Life         91    12-May-99"
      ]
     },
     "execution_count": 58,
     "metadata": {},
     "output_type": "execute_result"
    }
   ],
   "source": [
    "metacritic_score.head(3)"
   ]
  },
  {
   "cell_type": "code",
   "execution_count": null,
   "id": "a40ef0b7-5143-4ebd-8ace-f2e9aa9bbb47",
   "metadata": {
    "id": "a40ef0b7-5143-4ebd-8ace-f2e9aa9bbb47"
   },
   "outputs": [],
   "source": [
    "metacritic['release_date'] "
   ]
  },
  {
   "cell_type": "code",
   "execution_count": null,
   "id": "b6537a28",
   "metadata": {
    "id": "b6537a28"
   },
   "outputs": [],
   "source": [
    "# Trying to convert release_date to date time, in order to compare the movies release date and the metacritic release date\n",
    "# => handle metascore for the movie series (same title but different release date)\n",
    "#metacritic_score[\"release_date\"] = metacritic_score[\"release_date\"].apply( lambda x:'{:%Y-%m-%d}'.format(x.replace(\" \", \"\").strptime(no_space, '%d''%B''%Y')))"
   ]
  },
  {
   "cell_type": "code",
   "execution_count": null,
   "id": "2660491f",
   "metadata": {
    "id": "2660491f",
    "outputId": "01466936-4421-43dd-870f-03885d1385da"
   },
   "outputs": [
    {
     "ename": "AttributeError",
     "evalue": "'str' object has no attribute 'strptime'",
     "output_type": "error",
     "traceback": [
      "\u001b[0;31m---------------------------------------------------------------------------\u001b[0m",
      "\u001b[0;31mAttributeError\u001b[0m                            Traceback (most recent call last)",
      "Input \u001b[0;32mIn [56]\u001b[0m, in \u001b[0;36m<cell line: 1>\u001b[0;34m()\u001b[0m\n\u001b[0;32m----> 1\u001b[0m \u001b[43mmetacritic_score\u001b[49m\u001b[43m[\u001b[49m\u001b[38;5;124;43m\"\u001b[39;49m\u001b[38;5;124;43mrelease_date\u001b[39;49m\u001b[38;5;124;43m\"\u001b[39;49m\u001b[43m]\u001b[49m\u001b[38;5;241;43m.\u001b[39;49m\u001b[43mapply\u001b[49m\u001b[43m(\u001b[49m\u001b[43m \u001b[49m\u001b[38;5;28;43;01mlambda\u001b[39;49;00m\u001b[43m \u001b[49m\u001b[43mx\u001b[49m\u001b[43m:\u001b[49m\u001b[38;5;124;43m'\u001b[39;49m\u001b[38;5;124;43m{\u001b[39;49m\u001b[38;5;124;43m:\u001b[39;49m\u001b[38;5;124;43m%\u001b[39;49m\u001b[38;5;124;43mY-\u001b[39;49m\u001b[38;5;124;43m%\u001b[39;49m\u001b[38;5;124;43mm-\u001b[39;49m\u001b[38;5;132;43;01m%d\u001b[39;49;00m\u001b[38;5;124;43m}\u001b[39;49m\u001b[38;5;124;43m'\u001b[39;49m\u001b[38;5;241;43m.\u001b[39;49m\u001b[43mformat\u001b[49m\u001b[43m(\u001b[49m\u001b[43mx\u001b[49m\u001b[38;5;241;43m.\u001b[39;49m\u001b[43mreplace\u001b[49m\u001b[43m(\u001b[49m\u001b[38;5;124;43m\"\u001b[39;49m\u001b[38;5;124;43m \u001b[39;49m\u001b[38;5;124;43m\"\u001b[39;49m\u001b[43m,\u001b[49m\u001b[43m \u001b[49m\u001b[38;5;124;43m\"\u001b[39;49m\u001b[38;5;124;43m\"\u001b[39;49m\u001b[43m)\u001b[49m\u001b[38;5;241;43m.\u001b[39;49m\u001b[43mstrptime\u001b[49m\u001b[43m(\u001b[49m\u001b[43mno_space\u001b[49m\u001b[43m,\u001b[49m\u001b[43m \u001b[49m\u001b[38;5;124;43m'\u001b[39;49m\u001b[38;5;132;43;01m%d\u001b[39;49;00m\u001b[38;5;124;43m'\u001b[39;49m\u001b[38;5;124;43m'\u001b[39;49m\u001b[38;5;124;43m%\u001b[39;49m\u001b[38;5;124;43mB\u001b[39;49m\u001b[38;5;124;43m'\u001b[39;49m\u001b[38;5;124;43m'\u001b[39;49m\u001b[38;5;124;43m%\u001b[39;49m\u001b[38;5;124;43mY\u001b[39;49m\u001b[38;5;124;43m'\u001b[39;49m\u001b[43m)\u001b[49m\u001b[43m)\u001b[49m\u001b[43m)\u001b[49m\u001b[38;5;241m.\u001b[39mhead()\n",
      "File \u001b[0;32m/opt/anaconda3/envs/ada/lib/python3.9/site-packages/pandas/core/series.py:4433\u001b[0m, in \u001b[0;36mSeries.apply\u001b[0;34m(self, func, convert_dtype, args, **kwargs)\u001b[0m\n\u001b[1;32m   4323\u001b[0m \u001b[38;5;28;01mdef\u001b[39;00m \u001b[38;5;21mapply\u001b[39m(\n\u001b[1;32m   4324\u001b[0m     \u001b[38;5;28mself\u001b[39m,\n\u001b[1;32m   4325\u001b[0m     func: AggFuncType,\n\u001b[0;32m   (...)\u001b[0m\n\u001b[1;32m   4328\u001b[0m     \u001b[38;5;241m*\u001b[39m\u001b[38;5;241m*\u001b[39mkwargs,\n\u001b[1;32m   4329\u001b[0m ) \u001b[38;5;241m-\u001b[39m\u001b[38;5;241m>\u001b[39m DataFrame \u001b[38;5;241m|\u001b[39m Series:\n\u001b[1;32m   4330\u001b[0m     \u001b[38;5;124;03m\"\"\"\u001b[39;00m\n\u001b[1;32m   4331\u001b[0m \u001b[38;5;124;03m    Invoke function on values of Series.\u001b[39;00m\n\u001b[1;32m   4332\u001b[0m \n\u001b[0;32m   (...)\u001b[0m\n\u001b[1;32m   4431\u001b[0m \u001b[38;5;124;03m    dtype: float64\u001b[39;00m\n\u001b[1;32m   4432\u001b[0m \u001b[38;5;124;03m    \"\"\"\u001b[39;00m\n\u001b[0;32m-> 4433\u001b[0m     \u001b[38;5;28;01mreturn\u001b[39;00m \u001b[43mSeriesApply\u001b[49m\u001b[43m(\u001b[49m\u001b[38;5;28;43mself\u001b[39;49m\u001b[43m,\u001b[49m\u001b[43m \u001b[49m\u001b[43mfunc\u001b[49m\u001b[43m,\u001b[49m\u001b[43m \u001b[49m\u001b[43mconvert_dtype\u001b[49m\u001b[43m,\u001b[49m\u001b[43m \u001b[49m\u001b[43margs\u001b[49m\u001b[43m,\u001b[49m\u001b[43m \u001b[49m\u001b[43mkwargs\u001b[49m\u001b[43m)\u001b[49m\u001b[38;5;241;43m.\u001b[39;49m\u001b[43mapply\u001b[49m\u001b[43m(\u001b[49m\u001b[43m)\u001b[49m\n",
      "File \u001b[0;32m/opt/anaconda3/envs/ada/lib/python3.9/site-packages/pandas/core/apply.py:1088\u001b[0m, in \u001b[0;36mSeriesApply.apply\u001b[0;34m(self)\u001b[0m\n\u001b[1;32m   1084\u001b[0m \u001b[38;5;28;01mif\u001b[39;00m \u001b[38;5;28misinstance\u001b[39m(\u001b[38;5;28mself\u001b[39m\u001b[38;5;241m.\u001b[39mf, \u001b[38;5;28mstr\u001b[39m):\n\u001b[1;32m   1085\u001b[0m     \u001b[38;5;66;03m# if we are a string, try to dispatch\u001b[39;00m\n\u001b[1;32m   1086\u001b[0m     \u001b[38;5;28;01mreturn\u001b[39;00m \u001b[38;5;28mself\u001b[39m\u001b[38;5;241m.\u001b[39mapply_str()\n\u001b[0;32m-> 1088\u001b[0m \u001b[38;5;28;01mreturn\u001b[39;00m \u001b[38;5;28;43mself\u001b[39;49m\u001b[38;5;241;43m.\u001b[39;49m\u001b[43mapply_standard\u001b[49m\u001b[43m(\u001b[49m\u001b[43m)\u001b[49m\n",
      "File \u001b[0;32m/opt/anaconda3/envs/ada/lib/python3.9/site-packages/pandas/core/apply.py:1143\u001b[0m, in \u001b[0;36mSeriesApply.apply_standard\u001b[0;34m(self)\u001b[0m\n\u001b[1;32m   1137\u001b[0m         values \u001b[38;5;241m=\u001b[39m obj\u001b[38;5;241m.\u001b[39mastype(\u001b[38;5;28mobject\u001b[39m)\u001b[38;5;241m.\u001b[39m_values\n\u001b[1;32m   1138\u001b[0m         \u001b[38;5;66;03m# error: Argument 2 to \"map_infer\" has incompatible type\u001b[39;00m\n\u001b[1;32m   1139\u001b[0m         \u001b[38;5;66;03m# \"Union[Callable[..., Any], str, List[Union[Callable[..., Any], str]],\u001b[39;00m\n\u001b[1;32m   1140\u001b[0m         \u001b[38;5;66;03m# Dict[Hashable, Union[Union[Callable[..., Any], str],\u001b[39;00m\n\u001b[1;32m   1141\u001b[0m         \u001b[38;5;66;03m# List[Union[Callable[..., Any], str]]]]]\"; expected\u001b[39;00m\n\u001b[1;32m   1142\u001b[0m         \u001b[38;5;66;03m# \"Callable[[Any], Any]\"\u001b[39;00m\n\u001b[0;32m-> 1143\u001b[0m         mapped \u001b[38;5;241m=\u001b[39m \u001b[43mlib\u001b[49m\u001b[38;5;241;43m.\u001b[39;49m\u001b[43mmap_infer\u001b[49m\u001b[43m(\u001b[49m\n\u001b[1;32m   1144\u001b[0m \u001b[43m            \u001b[49m\u001b[43mvalues\u001b[49m\u001b[43m,\u001b[49m\n\u001b[1;32m   1145\u001b[0m \u001b[43m            \u001b[49m\u001b[43mf\u001b[49m\u001b[43m,\u001b[49m\u001b[43m  \u001b[49m\u001b[38;5;66;43;03m# type: ignore[arg-type]\u001b[39;49;00m\n\u001b[1;32m   1146\u001b[0m \u001b[43m            \u001b[49m\u001b[43mconvert\u001b[49m\u001b[38;5;241;43m=\u001b[39;49m\u001b[38;5;28;43mself\u001b[39;49m\u001b[38;5;241;43m.\u001b[39;49m\u001b[43mconvert_dtype\u001b[49m\u001b[43m,\u001b[49m\n\u001b[1;32m   1147\u001b[0m \u001b[43m        \u001b[49m\u001b[43m)\u001b[49m\n\u001b[1;32m   1149\u001b[0m \u001b[38;5;28;01mif\u001b[39;00m \u001b[38;5;28mlen\u001b[39m(mapped) \u001b[38;5;129;01mand\u001b[39;00m \u001b[38;5;28misinstance\u001b[39m(mapped[\u001b[38;5;241m0\u001b[39m], ABCSeries):\n\u001b[1;32m   1150\u001b[0m     \u001b[38;5;66;03m# GH#43986 Need to do list(mapped) in order to get treated as nested\u001b[39;00m\n\u001b[1;32m   1151\u001b[0m     \u001b[38;5;66;03m#  See also GH#25959 regarding EA support\u001b[39;00m\n\u001b[1;32m   1152\u001b[0m     \u001b[38;5;28;01mreturn\u001b[39;00m obj\u001b[38;5;241m.\u001b[39m_constructor_expanddim(\u001b[38;5;28mlist\u001b[39m(mapped), index\u001b[38;5;241m=\u001b[39mobj\u001b[38;5;241m.\u001b[39mindex)\n",
      "File \u001b[0;32m/opt/anaconda3/envs/ada/lib/python3.9/site-packages/pandas/_libs/lib.pyx:2870\u001b[0m, in \u001b[0;36mpandas._libs.lib.map_infer\u001b[0;34m()\u001b[0m\n",
      "Input \u001b[0;32mIn [56]\u001b[0m, in \u001b[0;36m<lambda>\u001b[0;34m(x)\u001b[0m\n\u001b[0;32m----> 1\u001b[0m metacritic_score[\u001b[38;5;124m\"\u001b[39m\u001b[38;5;124mrelease_date\u001b[39m\u001b[38;5;124m\"\u001b[39m]\u001b[38;5;241m.\u001b[39mapply( \u001b[38;5;28;01mlambda\u001b[39;00m x:\u001b[38;5;124m'\u001b[39m\u001b[38;5;124m{\u001b[39m\u001b[38;5;124m:\u001b[39m\u001b[38;5;124m%\u001b[39m\u001b[38;5;124mY-\u001b[39m\u001b[38;5;124m%\u001b[39m\u001b[38;5;124mm-\u001b[39m\u001b[38;5;132;01m%d\u001b[39;00m\u001b[38;5;124m}\u001b[39m\u001b[38;5;124m'\u001b[39m\u001b[38;5;241m.\u001b[39mformat(\u001b[43mx\u001b[49m\u001b[38;5;241;43m.\u001b[39;49m\u001b[43mreplace\u001b[49m\u001b[43m(\u001b[49m\u001b[38;5;124;43m\"\u001b[39;49m\u001b[38;5;124;43m \u001b[39;49m\u001b[38;5;124;43m\"\u001b[39;49m\u001b[43m,\u001b[49m\u001b[43m \u001b[49m\u001b[38;5;124;43m\"\u001b[39;49m\u001b[38;5;124;43m\"\u001b[39;49m\u001b[43m)\u001b[49m\u001b[38;5;241;43m.\u001b[39;49m\u001b[43mstrptime\u001b[49m(no_space, \u001b[38;5;124m'\u001b[39m\u001b[38;5;132;01m%d\u001b[39;00m\u001b[38;5;124m'\u001b[39m\u001b[38;5;124m'\u001b[39m\u001b[38;5;124m%\u001b[39m\u001b[38;5;124mB\u001b[39m\u001b[38;5;124m'\u001b[39m\u001b[38;5;124m'\u001b[39m\u001b[38;5;124m%\u001b[39m\u001b[38;5;124mY\u001b[39m\u001b[38;5;124m'\u001b[39m)))\u001b[38;5;241m.\u001b[39mhead()\n",
      "\u001b[0;31mAttributeError\u001b[0m: 'str' object has no attribute 'strptime'"
     ]
    }
   ],
   "source": [
    "metacritic_score[\"release_date\"].apply( lambda x:'{:%Y-%m-%d}'.format(x.replace(\" \", \"\").strptime(no_space, '%d''%B''%Y'))).head()"
   ]
  },
  {
   "cell_type": "markdown",
   "id": "cadb5a32-fcad-4c6b-ac2a-dbe4a32bbf2e",
   "metadata": {
    "id": "cadb5a32-fcad-4c6b-ac2a-dbe4a32bbf2e"
   },
   "source": [
    "#### Adding metascores to the `movies` dataset"
   ]
  },
  {
   "cell_type": "code",
   "execution_count": null,
   "id": "704c39a8",
   "metadata": {
    "id": "704c39a8"
   },
   "outputs": [],
   "source": [
    "movies = movies.merge(metacritic_score, how=\"left\", on=\"Title\") # Not really sure how this works but there's no duplicates or sth"
   ]
  },
  {
   "cell_type": "code",
   "execution_count": null,
   "id": "8e34c676",
   "metadata": {
    "id": "8e34c676",
    "outputId": "2212bf23-f4c0-4b46-f6e7-91c702190319"
   },
   "outputs": [
    {
     "data": {
      "text/html": [
       "<div>\n",
       "<style scoped>\n",
       "    .dataframe tbody tr th:only-of-type {\n",
       "        vertical-align: middle;\n",
       "    }\n",
       "\n",
       "    .dataframe tbody tr th {\n",
       "        vertical-align: top;\n",
       "    }\n",
       "\n",
       "    .dataframe thead th {\n",
       "        text-align: right;\n",
       "    }\n",
       "</style>\n",
       "<table border=\"1\" class=\"dataframe\">\n",
       "  <thead>\n",
       "    <tr style=\"text-align: right;\">\n",
       "      <th></th>\n",
       "      <th>WikiMovieID</th>\n",
       "      <th>FreeMovieID</th>\n",
       "      <th>Title</th>\n",
       "      <th>ReleaseDate</th>\n",
       "      <th>Revenue</th>\n",
       "      <th>Runtime</th>\n",
       "      <th>Languages</th>\n",
       "      <th>Countries</th>\n",
       "      <th>Genres</th>\n",
       "      <th>Plot</th>\n",
       "      <th>lang</th>\n",
       "      <th>words_punc</th>\n",
       "      <th>sentences</th>\n",
       "      <th>tokens_sentences</th>\n",
       "      <th>POS_tokens</th>\n",
       "      <th>tokens_sentences_lemmatized</th>\n",
       "      <th>tokens</th>\n",
       "      <th>metascore</th>\n",
       "      <th>release_date</th>\n",
       "    </tr>\n",
       "  </thead>\n",
       "  <tbody>\n",
       "    <tr>\n",
       "      <th>0</th>\n",
       "      <td>975900</td>\n",
       "      <td>/m/03vyhn</td>\n",
       "      <td>Ghosts of Mars</td>\n",
       "      <td>2001-08-24</td>\n",
       "      <td>14010832.0</td>\n",
       "      <td>98.0</td>\n",
       "      <td>[English Language]</td>\n",
       "      <td>[United States of America]</td>\n",
       "      <td>[Thriller, Science Fiction, Horror, Adventure,...</td>\n",
       "      <td>Set in the second half of the 22nd century, th...</td>\n",
       "      <td>en</td>\n",
       "      <td>[Set, in, the, second, half, of, the, 22nd, ce...</td>\n",
       "      <td>[Set in the second half of the 22nd century, t...</td>\n",
       "      <td>[[Set, in, the, second, half, of, the, 22nd, c...</td>\n",
       "      <td>[[(Set, NN), (in, IN), (the, DT), (second, JJ)...</td>\n",
       "      <td>[[Set, in, the, second, half, of, the, 22nd, c...</td>\n",
       "      <td>[set, second, half, century, film, depict, mar...</td>\n",
       "      <td>35.0</td>\n",
       "      <td>24-Aug-01</td>\n",
       "    </tr>\n",
       "    <tr>\n",
       "      <th>1</th>\n",
       "      <td>3196793</td>\n",
       "      <td>/m/08yl5d</td>\n",
       "      <td>Getting Away with Murder: The JonBenét Ramsey ...</td>\n",
       "      <td>2000-02-16</td>\n",
       "      <td>NaN</td>\n",
       "      <td>95.0</td>\n",
       "      <td>[English Language]</td>\n",
       "      <td>[United States of America]</td>\n",
       "      <td>[Mystery, Biographical film, Drama, Crime Drama]</td>\n",
       "      <td>NaN</td>\n",
       "      <td>NaN</td>\n",
       "      <td>NaN</td>\n",
       "      <td>NaN</td>\n",
       "      <td>NaN</td>\n",
       "      <td>NaN</td>\n",
       "      <td>NaN</td>\n",
       "      <td>NaN</td>\n",
       "      <td>NaN</td>\n",
       "      <td>NaN</td>\n",
       "    </tr>\n",
       "    <tr>\n",
       "      <th>2</th>\n",
       "      <td>28463795</td>\n",
       "      <td>/m/0crgdbh</td>\n",
       "      <td>Brun bitter</td>\n",
       "      <td>1988</td>\n",
       "      <td>NaN</td>\n",
       "      <td>83.0</td>\n",
       "      <td>[Norwegian Language]</td>\n",
       "      <td>[Norway]</td>\n",
       "      <td>[Crime Fiction, Drama]</td>\n",
       "      <td>NaN</td>\n",
       "      <td>NaN</td>\n",
       "      <td>NaN</td>\n",
       "      <td>NaN</td>\n",
       "      <td>NaN</td>\n",
       "      <td>NaN</td>\n",
       "      <td>NaN</td>\n",
       "      <td>NaN</td>\n",
       "      <td>NaN</td>\n",
       "      <td>NaN</td>\n",
       "    </tr>\n",
       "    <tr>\n",
       "      <th>3</th>\n",
       "      <td>9363483</td>\n",
       "      <td>/m/0285_cd</td>\n",
       "      <td>White Of The Eye</td>\n",
       "      <td>1987</td>\n",
       "      <td>NaN</td>\n",
       "      <td>110.0</td>\n",
       "      <td>[English Language]</td>\n",
       "      <td>[United Kingdom]</td>\n",
       "      <td>[Thriller, Erotic thriller, Psychological thri...</td>\n",
       "      <td>A series of murders of rich young women throug...</td>\n",
       "      <td>en</td>\n",
       "      <td>[A, series, of, murders, of, rich, young, wome...</td>\n",
       "      <td>[A series of murders of rich young women throu...</td>\n",
       "      <td>[[A, series, of, murders, of, rich, young, wom...</td>\n",
       "      <td>[[(A, DT), (series, NN), (of, IN), (murders, N...</td>\n",
       "      <td>[[A, series, of, murder, of, rich, young, woma...</td>\n",
       "      <td>[series, murder, woman, throughout, arizona, d...</td>\n",
       "      <td>NaN</td>\n",
       "      <td>NaN</td>\n",
       "    </tr>\n",
       "    <tr>\n",
       "      <th>4</th>\n",
       "      <td>261236</td>\n",
       "      <td>/m/01mrr1</td>\n",
       "      <td>A Woman in Flames</td>\n",
       "      <td>1983</td>\n",
       "      <td>NaN</td>\n",
       "      <td>106.0</td>\n",
       "      <td>[German Language]</td>\n",
       "      <td>[Germany]</td>\n",
       "      <td>[Drama]</td>\n",
       "      <td>Eva, an upper class housewife, becomes frustra...</td>\n",
       "      <td>en</td>\n",
       "      <td>[Eva, ,, an, upper, class, housewife, ,, becom...</td>\n",
       "      <td>[Eva, an upper class housewife, becomes frustr...</td>\n",
       "      <td>[[Eva, ,, an, upper, class, housewife, ,, beco...</td>\n",
       "      <td>[[(Eva, NNP), (,, ,), (an, DT), (upper, JJ), (...</td>\n",
       "      <td>[[Eva, ,, an, upper, class, housewife, ,, beco...</td>\n",
       "      <td>[upper, class, housewife, becomes, frustrated,...</td>\n",
       "      <td>NaN</td>\n",
       "      <td>NaN</td>\n",
       "    </tr>\n",
       "  </tbody>\n",
       "</table>\n",
       "</div>"
      ],
      "text/plain": [
       "   WikiMovieID FreeMovieID                                              Title  \\\n",
       "0       975900   /m/03vyhn                                     Ghosts of Mars   \n",
       "1      3196793   /m/08yl5d  Getting Away with Murder: The JonBenét Ramsey ...   \n",
       "2     28463795  /m/0crgdbh                                        Brun bitter   \n",
       "3      9363483  /m/0285_cd                                   White Of The Eye   \n",
       "4       261236   /m/01mrr1                                  A Woman in Flames   \n",
       "\n",
       "  ReleaseDate     Revenue  Runtime             Languages  \\\n",
       "0  2001-08-24  14010832.0     98.0    [English Language]   \n",
       "1  2000-02-16         NaN     95.0    [English Language]   \n",
       "2        1988         NaN     83.0  [Norwegian Language]   \n",
       "3        1987         NaN    110.0    [English Language]   \n",
       "4        1983         NaN    106.0     [German Language]   \n",
       "\n",
       "                    Countries  \\\n",
       "0  [United States of America]   \n",
       "1  [United States of America]   \n",
       "2                    [Norway]   \n",
       "3            [United Kingdom]   \n",
       "4                   [Germany]   \n",
       "\n",
       "                                              Genres  \\\n",
       "0  [Thriller, Science Fiction, Horror, Adventure,...   \n",
       "1   [Mystery, Biographical film, Drama, Crime Drama]   \n",
       "2                             [Crime Fiction, Drama]   \n",
       "3  [Thriller, Erotic thriller, Psychological thri...   \n",
       "4                                            [Drama]   \n",
       "\n",
       "                                                Plot lang  \\\n",
       "0  Set in the second half of the 22nd century, th...   en   \n",
       "1                                                NaN  NaN   \n",
       "2                                                NaN  NaN   \n",
       "3  A series of murders of rich young women throug...   en   \n",
       "4  Eva, an upper class housewife, becomes frustra...   en   \n",
       "\n",
       "                                          words_punc  \\\n",
       "0  [Set, in, the, second, half, of, the, 22nd, ce...   \n",
       "1                                                NaN   \n",
       "2                                                NaN   \n",
       "3  [A, series, of, murders, of, rich, young, wome...   \n",
       "4  [Eva, ,, an, upper, class, housewife, ,, becom...   \n",
       "\n",
       "                                           sentences  \\\n",
       "0  [Set in the second half of the 22nd century, t...   \n",
       "1                                                NaN   \n",
       "2                                                NaN   \n",
       "3  [A series of murders of rich young women throu...   \n",
       "4  [Eva, an upper class housewife, becomes frustr...   \n",
       "\n",
       "                                    tokens_sentences  \\\n",
       "0  [[Set, in, the, second, half, of, the, 22nd, c...   \n",
       "1                                                NaN   \n",
       "2                                                NaN   \n",
       "3  [[A, series, of, murders, of, rich, young, wom...   \n",
       "4  [[Eva, ,, an, upper, class, housewife, ,, beco...   \n",
       "\n",
       "                                          POS_tokens  \\\n",
       "0  [[(Set, NN), (in, IN), (the, DT), (second, JJ)...   \n",
       "1                                                NaN   \n",
       "2                                                NaN   \n",
       "3  [[(A, DT), (series, NN), (of, IN), (murders, N...   \n",
       "4  [[(Eva, NNP), (,, ,), (an, DT), (upper, JJ), (...   \n",
       "\n",
       "                         tokens_sentences_lemmatized  \\\n",
       "0  [[Set, in, the, second, half, of, the, 22nd, c...   \n",
       "1                                                NaN   \n",
       "2                                                NaN   \n",
       "3  [[A, series, of, murder, of, rich, young, woma...   \n",
       "4  [[Eva, ,, an, upper, class, housewife, ,, beco...   \n",
       "\n",
       "                                              tokens  metascore release_date  \n",
       "0  [set, second, half, century, film, depict, mar...       35.0    24-Aug-01  \n",
       "1                                                NaN        NaN          NaN  \n",
       "2                                                NaN        NaN          NaN  \n",
       "3  [series, murder, woman, throughout, arizona, d...        NaN          NaN  \n",
       "4  [upper, class, housewife, becomes, frustrated,...        NaN          NaN  "
      ]
     },
     "execution_count": 140,
     "metadata": {},
     "output_type": "execute_result"
    }
   ],
   "source": [
    "movies.head()"
   ]
  },
  {
   "cell_type": "code",
   "execution_count": null,
   "id": "ab6273b6",
   "metadata": {
    "id": "ab6273b6",
    "outputId": "b3c612a9-8686-4643-edd7-d3044d13170a"
   },
   "outputs": [
    {
     "name": "stdout",
     "output_type": "stream",
     "text": [
      "Missing metascores in movies dataset: 90.50%\n"
     ]
    }
   ],
   "source": [
    "print(\"Missing metascores in movies dataset: {:.2f}%\".format(movies['metascore'].isna().sum()/len(movies)*100))"
   ]
  },
  {
   "cell_type": "markdown",
   "id": "4f0f440d",
   "metadata": {
    "id": "4f0f440d",
    "tags": []
   },
   "source": [
    "## 2.3 Initial analysis  <a id='2.3'></a>"
   ]
  },
  {
   "cell_type": "markdown",
   "id": "0f78ad43",
   "metadata": {
    "id": "0f78ad43",
    "tags": []
   },
   "source": [
    "### 2.3.1 Plot structure <a id='2.3.1'></a>\n",
    "\n",
    "Here, for each plot summary, we investigate the number of sentences, number of words, numbers of the different punctuation marks."
   ]
  },
  {
   "cell_type": "markdown",
   "id": "bf84136c-0550-4734-9a34-f029cf94ae4c",
   "metadata": {
    "id": "bf84136c-0550-4734-9a34-f029cf94ae4c"
   },
   "source": [
    "We add new columns to the `movies` dataframe by summing the number of sentences, words, punctuation marks."
   ]
  },
  {
   "cell_type": "code",
   "execution_count": 18,
   "id": "Y8H86yPaDV7L",
   "metadata": {
    "colab": {
     "base_uri": "https://localhost:8080/",
     "height": 270
    },
    "executionInfo": {
     "elapsed": 7393,
     "status": "ok",
     "timestamp": 1668730952305,
     "user": {
      "displayName": "Salomé Baup",
      "userId": "07571536397946550023"
     },
     "user_tz": -60
    },
    "id": "Y8H86yPaDV7L",
    "outputId": "b8992474-e8a4-4631-f680-b47f20aad4b1"
   },
   "outputs": [
    {
     "data": {
      "text/html": [
       "\n",
       "  <div id=\"df-5c2c6b2e-3e94-4d34-93fe-f88dc3729e6f\">\n",
       "    <div class=\"colab-df-container\">\n",
       "      <div>\n",
       "<style scoped>\n",
       "    .dataframe tbody tr th:only-of-type {\n",
       "        vertical-align: middle;\n",
       "    }\n",
       "\n",
       "    .dataframe tbody tr th {\n",
       "        vertical-align: top;\n",
       "    }\n",
       "\n",
       "    .dataframe thead th {\n",
       "        text-align: right;\n",
       "    }\n",
       "</style>\n",
       "<table border=\"1\" class=\"dataframe\">\n",
       "  <thead>\n",
       "    <tr style=\"text-align: right;\">\n",
       "      <th></th>\n",
       "      <th>plot_num_sentences</th>\n",
       "      <th>plot_num_words</th>\n",
       "      <th>plot_num_dot</th>\n",
       "      <th>plot_num_coma</th>\n",
       "      <th>plot_num_interrogation</th>\n",
       "      <th>plot_num_exclamation</th>\n",
       "      <th>plot_num_percentage</th>\n",
       "      <th>plot_num_semicolon</th>\n",
       "      <th>plot_num_colon</th>\n",
       "    </tr>\n",
       "  </thead>\n",
       "  <tbody>\n",
       "    <tr>\n",
       "      <th>0</th>\n",
       "      <td>15</td>\n",
       "      <td>357</td>\n",
       "      <td>15</td>\n",
       "      <td>22</td>\n",
       "      <td>0</td>\n",
       "      <td>0</td>\n",
       "      <td>1</td>\n",
       "      <td>0</td>\n",
       "      <td>0</td>\n",
       "    </tr>\n",
       "    <tr>\n",
       "      <th>3</th>\n",
       "      <td>36</td>\n",
       "      <td>600</td>\n",
       "      <td>36</td>\n",
       "      <td>23</td>\n",
       "      <td>0</td>\n",
       "      <td>0</td>\n",
       "      <td>0</td>\n",
       "      <td>1</td>\n",
       "      <td>0</td>\n",
       "    </tr>\n",
       "    <tr>\n",
       "      <th>4</th>\n",
       "      <td>24</td>\n",
       "      <td>441</td>\n",
       "      <td>24</td>\n",
       "      <td>30</td>\n",
       "      <td>0</td>\n",
       "      <td>0</td>\n",
       "      <td>0</td>\n",
       "      <td>0</td>\n",
       "      <td>0</td>\n",
       "    </tr>\n",
       "    <tr>\n",
       "      <th>6</th>\n",
       "      <td>7</td>\n",
       "      <td>165</td>\n",
       "      <td>7</td>\n",
       "      <td>8</td>\n",
       "      <td>0</td>\n",
       "      <td>0</td>\n",
       "      <td>0</td>\n",
       "      <td>0</td>\n",
       "      <td>0</td>\n",
       "    </tr>\n",
       "    <tr>\n",
       "      <th>12</th>\n",
       "      <td>9</td>\n",
       "      <td>235</td>\n",
       "      <td>9</td>\n",
       "      <td>15</td>\n",
       "      <td>0</td>\n",
       "      <td>0</td>\n",
       "      <td>0</td>\n",
       "      <td>0</td>\n",
       "      <td>0</td>\n",
       "    </tr>\n",
       "  </tbody>\n",
       "</table>\n",
       "</div>\n",
       "      <button class=\"colab-df-convert\" onclick=\"convertToInteractive('df-5c2c6b2e-3e94-4d34-93fe-f88dc3729e6f')\"\n",
       "              title=\"Convert this dataframe to an interactive table.\"\n",
       "              style=\"display:none;\">\n",
       "        \n",
       "  <svg xmlns=\"http://www.w3.org/2000/svg\" height=\"24px\"viewBox=\"0 0 24 24\"\n",
       "       width=\"24px\">\n",
       "    <path d=\"M0 0h24v24H0V0z\" fill=\"none\"/>\n",
       "    <path d=\"M18.56 5.44l.94 2.06.94-2.06 2.06-.94-2.06-.94-.94-2.06-.94 2.06-2.06.94zm-11 1L8.5 8.5l.94-2.06 2.06-.94-2.06-.94L8.5 2.5l-.94 2.06-2.06.94zm10 10l.94 2.06.94-2.06 2.06-.94-2.06-.94-.94-2.06-.94 2.06-2.06.94z\"/><path d=\"M17.41 7.96l-1.37-1.37c-.4-.4-.92-.59-1.43-.59-.52 0-1.04.2-1.43.59L10.3 9.45l-7.72 7.72c-.78.78-.78 2.05 0 2.83L4 21.41c.39.39.9.59 1.41.59.51 0 1.02-.2 1.41-.59l7.78-7.78 2.81-2.81c.8-.78.8-2.07 0-2.86zM5.41 20L4 18.59l7.72-7.72 1.47 1.35L5.41 20z\"/>\n",
       "  </svg>\n",
       "      </button>\n",
       "      \n",
       "  <style>\n",
       "    .colab-df-container {\n",
       "      display:flex;\n",
       "      flex-wrap:wrap;\n",
       "      gap: 12px;\n",
       "    }\n",
       "\n",
       "    .colab-df-convert {\n",
       "      background-color: #E8F0FE;\n",
       "      border: none;\n",
       "      border-radius: 50%;\n",
       "      cursor: pointer;\n",
       "      display: none;\n",
       "      fill: #1967D2;\n",
       "      height: 32px;\n",
       "      padding: 0 0 0 0;\n",
       "      width: 32px;\n",
       "    }\n",
       "\n",
       "    .colab-df-convert:hover {\n",
       "      background-color: #E2EBFA;\n",
       "      box-shadow: 0px 1px 2px rgba(60, 64, 67, 0.3), 0px 1px 3px 1px rgba(60, 64, 67, 0.15);\n",
       "      fill: #174EA6;\n",
       "    }\n",
       "\n",
       "    [theme=dark] .colab-df-convert {\n",
       "      background-color: #3B4455;\n",
       "      fill: #D2E3FC;\n",
       "    }\n",
       "\n",
       "    [theme=dark] .colab-df-convert:hover {\n",
       "      background-color: #434B5C;\n",
       "      box-shadow: 0px 1px 3px 1px rgba(0, 0, 0, 0.15);\n",
       "      filter: drop-shadow(0px 1px 2px rgba(0, 0, 0, 0.3));\n",
       "      fill: #FFFFFF;\n",
       "    }\n",
       "  </style>\n",
       "\n",
       "      <script>\n",
       "        const buttonEl =\n",
       "          document.querySelector('#df-5c2c6b2e-3e94-4d34-93fe-f88dc3729e6f button.colab-df-convert');\n",
       "        buttonEl.style.display =\n",
       "          google.colab.kernel.accessAllowed ? 'block' : 'none';\n",
       "\n",
       "        async function convertToInteractive(key) {\n",
       "          const element = document.querySelector('#df-5c2c6b2e-3e94-4d34-93fe-f88dc3729e6f');\n",
       "          const dataTable =\n",
       "            await google.colab.kernel.invokeFunction('convertToInteractive',\n",
       "                                                     [key], {});\n",
       "          if (!dataTable) return;\n",
       "\n",
       "          const docLinkHtml = 'Like what you see? Visit the ' +\n",
       "            '<a target=\"_blank\" href=https://colab.research.google.com/notebooks/data_table.ipynb>data table notebook</a>'\n",
       "            + ' to learn more about interactive tables.';\n",
       "          element.innerHTML = '';\n",
       "          dataTable['output_type'] = 'display_data';\n",
       "          await google.colab.output.renderOutput(dataTable, element);\n",
       "          const docLink = document.createElement('div');\n",
       "          docLink.innerHTML = docLinkHtml;\n",
       "          element.appendChild(docLink);\n",
       "        }\n",
       "      </script>\n",
       "    </div>\n",
       "  </div>\n",
       "  "
      ],
      "text/plain": [
       "    plot_num_sentences  plot_num_words  plot_num_dot  plot_num_coma  \\\n",
       "0                   15             357            15             22   \n",
       "3                   36             600            36             23   \n",
       "4                   24             441            24             30   \n",
       "6                    7             165             7              8   \n",
       "12                   9             235             9             15   \n",
       "\n",
       "    plot_num_interrogation  plot_num_exclamation  plot_num_percentage  \\\n",
       "0                        0                     0                    1   \n",
       "3                        0                     0                    0   \n",
       "4                        0                     0                    0   \n",
       "6                        0                     0                    0   \n",
       "12                       0                     0                    0   \n",
       "\n",
       "    plot_num_semicolon  plot_num_colon  \n",
       "0                    0               0  \n",
       "3                    1               0  \n",
       "4                    0               0  \n",
       "6                    0               0  \n",
       "12                   0               0  "
      ]
     },
     "execution_count": 18,
     "metadata": {},
     "output_type": "execute_result"
    }
   ],
   "source": [
    "movies['plot_num_sentences'] = movies.sentences.apply( lambda x: len(x))\n",
    "movies['plot_num_words'] =  movies.Plot.apply( lambda x: len(RegexpTokenizer(r'\\w+').tokenize(x)))\n",
    "movies['plot_num_dot'] = movies.words_punc.apply( lambda x: list(x).count('.'))\n",
    "movies['plot_num_coma'] = movies.words_punc.apply( lambda x: x.count(','))\n",
    "movies['plot_num_interrogation'] = movies.words_punc.apply( lambda x: x.count('?'))\n",
    "movies['plot_num_exclamation'] = movies.words_punc.apply( lambda x: x.count('!'))\n",
    "movies['plot_num_percentage'] = movies.words_punc.apply( lambda x: x.count('%'))\n",
    "movies['plot_num_semicolon'] = movies.words_punc.apply( lambda x: x.count(';'))\n",
    "movies['plot_num_colon'] = movies.words_punc.apply( lambda x: x.count(':'))\n",
    "\n",
    "movies[['plot_num_sentences','plot_num_words','plot_num_dot','plot_num_coma','plot_num_interrogation',\\\n",
    "        'plot_num_exclamation','plot_num_percentage','plot_num_semicolon','plot_num_colon']].head()"
   ]
  },
  {
   "cell_type": "markdown",
   "id": "8a1ac363",
   "metadata": {
    "id": "8a1ac363",
    "tags": []
   },
   "source": [
    "#### 2.3.1.1 Statistics"
   ]
  },
  {
   "cell_type": "code",
   "execution_count": 19,
   "id": "5638b53e",
   "metadata": {
    "colab": {
     "base_uri": "https://localhost:8080/",
     "height": 364
    },
    "executionInfo": {
     "elapsed": 18,
     "status": "ok",
     "timestamp": 1668730952309,
     "user": {
      "displayName": "Salomé Baup",
      "userId": "07571536397946550023"
     },
     "user_tz": -60
    },
    "id": "5638b53e",
    "outputId": "0f642a54-89ff-4bbe-d626-2308ef2d0b12"
   },
   "outputs": [
    {
     "data": {
      "text/html": [
       "\n",
       "  <div id=\"df-7e656238-9ad8-4b4b-90c5-c5b0d815b18d\">\n",
       "    <div class=\"colab-df-container\">\n",
       "      <div>\n",
       "<style scoped>\n",
       "    .dataframe tbody tr th:only-of-type {\n",
       "        vertical-align: middle;\n",
       "    }\n",
       "\n",
       "    .dataframe tbody tr th {\n",
       "        vertical-align: top;\n",
       "    }\n",
       "\n",
       "    .dataframe thead th {\n",
       "        text-align: right;\n",
       "    }\n",
       "</style>\n",
       "<table border=\"1\" class=\"dataframe\">\n",
       "  <thead>\n",
       "    <tr style=\"text-align: right;\">\n",
       "      <th></th>\n",
       "      <th>plot_num_sentences</th>\n",
       "      <th>plot_num_words</th>\n",
       "      <th>plot_num_dot</th>\n",
       "      <th>plot_num_coma</th>\n",
       "      <th>plot_num_interrogation</th>\n",
       "      <th>plot_num_exclamation</th>\n",
       "      <th>plot_num_percentage</th>\n",
       "      <th>plot_num_semicolon</th>\n",
       "      <th>plot_num_colon</th>\n",
       "    </tr>\n",
       "  </thead>\n",
       "  <tbody>\n",
       "    <tr>\n",
       "      <th>count</th>\n",
       "      <td>42176.000</td>\n",
       "      <td>42176.000</td>\n",
       "      <td>42176.000</td>\n",
       "      <td>42176.000</td>\n",
       "      <td>42176.000</td>\n",
       "      <td>42176.000</td>\n",
       "      <td>42176.000</td>\n",
       "      <td>42176.000</td>\n",
       "      <td>42176.000</td>\n",
       "    </tr>\n",
       "    <tr>\n",
       "      <th>mean</th>\n",
       "      <td>15.689</td>\n",
       "      <td>316.001</td>\n",
       "      <td>15.454</td>\n",
       "      <td>18.627</td>\n",
       "      <td>0.079</td>\n",
       "      <td>0.089</td>\n",
       "      <td>0.009</td>\n",
       "      <td>0.415</td>\n",
       "      <td>0.304</td>\n",
       "    </tr>\n",
       "    <tr>\n",
       "      <th>std</th>\n",
       "      <td>16.596</td>\n",
       "      <td>323.367</td>\n",
       "      <td>16.504</td>\n",
       "      <td>20.719</td>\n",
       "      <td>0.449</td>\n",
       "      <td>0.560</td>\n",
       "      <td>0.284</td>\n",
       "      <td>1.202</td>\n",
       "      <td>0.930</td>\n",
       "    </tr>\n",
       "    <tr>\n",
       "      <th>min</th>\n",
       "      <td>1.000</td>\n",
       "      <td>14.000</td>\n",
       "      <td>0.000</td>\n",
       "      <td>0.000</td>\n",
       "      <td>0.000</td>\n",
       "      <td>0.000</td>\n",
       "      <td>0.000</td>\n",
       "      <td>0.000</td>\n",
       "      <td>0.000</td>\n",
       "    </tr>\n",
       "    <tr>\n",
       "      <th>25%</th>\n",
       "      <td>4.000</td>\n",
       "      <td>89.000</td>\n",
       "      <td>4.000</td>\n",
       "      <td>4.000</td>\n",
       "      <td>0.000</td>\n",
       "      <td>0.000</td>\n",
       "      <td>0.000</td>\n",
       "      <td>0.000</td>\n",
       "      <td>0.000</td>\n",
       "    </tr>\n",
       "    <tr>\n",
       "      <th>50%</th>\n",
       "      <td>9.000</td>\n",
       "      <td>190.000</td>\n",
       "      <td>9.000</td>\n",
       "      <td>11.000</td>\n",
       "      <td>0.000</td>\n",
       "      <td>0.000</td>\n",
       "      <td>0.000</td>\n",
       "      <td>0.000</td>\n",
       "      <td>0.000</td>\n",
       "    </tr>\n",
       "    <tr>\n",
       "      <th>75%</th>\n",
       "      <td>23.000</td>\n",
       "      <td>460.000</td>\n",
       "      <td>23.000</td>\n",
       "      <td>27.000</td>\n",
       "      <td>0.000</td>\n",
       "      <td>0.000</td>\n",
       "      <td>0.000</td>\n",
       "      <td>0.000</td>\n",
       "      <td>0.000</td>\n",
       "    </tr>\n",
       "    <tr>\n",
       "      <th>max</th>\n",
       "      <td>344.000</td>\n",
       "      <td>5016.000</td>\n",
       "      <td>333.000</td>\n",
       "      <td>307.000</td>\n",
       "      <td>30.000</td>\n",
       "      <td>27.000</td>\n",
       "      <td>52.000</td>\n",
       "      <td>65.000</td>\n",
       "      <td>48.000</td>\n",
       "    </tr>\n",
       "  </tbody>\n",
       "</table>\n",
       "</div>\n",
       "      <button class=\"colab-df-convert\" onclick=\"convertToInteractive('df-7e656238-9ad8-4b4b-90c5-c5b0d815b18d')\"\n",
       "              title=\"Convert this dataframe to an interactive table.\"\n",
       "              style=\"display:none;\">\n",
       "        \n",
       "  <svg xmlns=\"http://www.w3.org/2000/svg\" height=\"24px\"viewBox=\"0 0 24 24\"\n",
       "       width=\"24px\">\n",
       "    <path d=\"M0 0h24v24H0V0z\" fill=\"none\"/>\n",
       "    <path d=\"M18.56 5.44l.94 2.06.94-2.06 2.06-.94-2.06-.94-.94-2.06-.94 2.06-2.06.94zm-11 1L8.5 8.5l.94-2.06 2.06-.94-2.06-.94L8.5 2.5l-.94 2.06-2.06.94zm10 10l.94 2.06.94-2.06 2.06-.94-2.06-.94-.94-2.06-.94 2.06-2.06.94z\"/><path d=\"M17.41 7.96l-1.37-1.37c-.4-.4-.92-.59-1.43-.59-.52 0-1.04.2-1.43.59L10.3 9.45l-7.72 7.72c-.78.78-.78 2.05 0 2.83L4 21.41c.39.39.9.59 1.41.59.51 0 1.02-.2 1.41-.59l7.78-7.78 2.81-2.81c.8-.78.8-2.07 0-2.86zM5.41 20L4 18.59l7.72-7.72 1.47 1.35L5.41 20z\"/>\n",
       "  </svg>\n",
       "      </button>\n",
       "      \n",
       "  <style>\n",
       "    .colab-df-container {\n",
       "      display:flex;\n",
       "      flex-wrap:wrap;\n",
       "      gap: 12px;\n",
       "    }\n",
       "\n",
       "    .colab-df-convert {\n",
       "      background-color: #E8F0FE;\n",
       "      border: none;\n",
       "      border-radius: 50%;\n",
       "      cursor: pointer;\n",
       "      display: none;\n",
       "      fill: #1967D2;\n",
       "      height: 32px;\n",
       "      padding: 0 0 0 0;\n",
       "      width: 32px;\n",
       "    }\n",
       "\n",
       "    .colab-df-convert:hover {\n",
       "      background-color: #E2EBFA;\n",
       "      box-shadow: 0px 1px 2px rgba(60, 64, 67, 0.3), 0px 1px 3px 1px rgba(60, 64, 67, 0.15);\n",
       "      fill: #174EA6;\n",
       "    }\n",
       "\n",
       "    [theme=dark] .colab-df-convert {\n",
       "      background-color: #3B4455;\n",
       "      fill: #D2E3FC;\n",
       "    }\n",
       "\n",
       "    [theme=dark] .colab-df-convert:hover {\n",
       "      background-color: #434B5C;\n",
       "      box-shadow: 0px 1px 3px 1px rgba(0, 0, 0, 0.15);\n",
       "      filter: drop-shadow(0px 1px 2px rgba(0, 0, 0, 0.3));\n",
       "      fill: #FFFFFF;\n",
       "    }\n",
       "  </style>\n",
       "\n",
       "      <script>\n",
       "        const buttonEl =\n",
       "          document.querySelector('#df-7e656238-9ad8-4b4b-90c5-c5b0d815b18d button.colab-df-convert');\n",
       "        buttonEl.style.display =\n",
       "          google.colab.kernel.accessAllowed ? 'block' : 'none';\n",
       "\n",
       "        async function convertToInteractive(key) {\n",
       "          const element = document.querySelector('#df-7e656238-9ad8-4b4b-90c5-c5b0d815b18d');\n",
       "          const dataTable =\n",
       "            await google.colab.kernel.invokeFunction('convertToInteractive',\n",
       "                                                     [key], {});\n",
       "          if (!dataTable) return;\n",
       "\n",
       "          const docLinkHtml = 'Like what you see? Visit the ' +\n",
       "            '<a target=\"_blank\" href=https://colab.research.google.com/notebooks/data_table.ipynb>data table notebook</a>'\n",
       "            + ' to learn more about interactive tables.';\n",
       "          element.innerHTML = '';\n",
       "          dataTable['output_type'] = 'display_data';\n",
       "          await google.colab.output.renderOutput(dataTable, element);\n",
       "          const docLink = document.createElement('div');\n",
       "          docLink.innerHTML = docLinkHtml;\n",
       "          element.appendChild(docLink);\n",
       "        }\n",
       "      </script>\n",
       "    </div>\n",
       "  </div>\n",
       "  "
      ],
      "text/plain": [
       "       plot_num_sentences  plot_num_words  plot_num_dot  plot_num_coma  \\\n",
       "count           42176.000       42176.000     42176.000      42176.000   \n",
       "mean               15.689         316.001        15.454         18.627   \n",
       "std                16.596         323.367        16.504         20.719   \n",
       "min                 1.000          14.000         0.000          0.000   \n",
       "25%                 4.000          89.000         4.000          4.000   \n",
       "50%                 9.000         190.000         9.000         11.000   \n",
       "75%                23.000         460.000        23.000         27.000   \n",
       "max               344.000        5016.000       333.000        307.000   \n",
       "\n",
       "       plot_num_interrogation  plot_num_exclamation  plot_num_percentage  \\\n",
       "count               42176.000             42176.000            42176.000   \n",
       "mean                    0.079                 0.089                0.009   \n",
       "std                     0.449                 0.560                0.284   \n",
       "min                     0.000                 0.000                0.000   \n",
       "25%                     0.000                 0.000                0.000   \n",
       "50%                     0.000                 0.000                0.000   \n",
       "75%                     0.000                 0.000                0.000   \n",
       "max                    30.000                27.000               52.000   \n",
       "\n",
       "       plot_num_semicolon  plot_num_colon  \n",
       "count           42176.000       42176.000  \n",
       "mean                0.415           0.304  \n",
       "std                 1.202           0.930  \n",
       "min                 0.000           0.000  \n",
       "25%                 0.000           0.000  \n",
       "50%                 0.000           0.000  \n",
       "75%                 0.000           0.000  \n",
       "max                65.000          48.000  "
      ]
     },
     "execution_count": 19,
     "metadata": {},
     "output_type": "execute_result"
    }
   ],
   "source": [
    "pd.set_option('display.float_format', lambda x: '%.3f' % x)\n",
    "movies[['plot_num_sentences','plot_num_words','plot_num_dot','plot_num_coma','plot_num_interrogation',\n",
    "        'plot_num_exclamation','plot_num_percentage','plot_num_semicolon','plot_num_colon']].describe()"
   ]
  },
  {
   "cell_type": "markdown",
   "id": "345460aa-4d58-4fa5-84cb-32672c4e89d1",
   "metadata": {
    "id": "345460aa-4d58-4fa5-84cb-32672c4e89d1",
    "tags": []
   },
   "source": [
    "#### 2.3.1.2 Visualizations"
   ]
  },
  {
   "cell_type": "code",
   "execution_count": 32,
   "id": "4ed875a8-5d8e-44b5-8e98-855bb334d3ed",
   "metadata": {
    "colab": {
     "base_uri": "https://localhost:8080/",
     "height": 300
    },
    "executionInfo": {
     "elapsed": 2981,
     "status": "ok",
     "timestamp": 1668730040397,
     "user": {
      "displayName": "Salomé Baup",
      "userId": "07571536397946550023"
     },
     "user_tz": -60
    },
    "id": "4ed875a8-5d8e-44b5-8e98-855bb334d3ed",
    "outputId": "526b4d3b-f2c7-4c9d-e27a-aec3111ab610"
   },
   "outputs": [
    {
     "data": {
      "image/png": "[encoded data removed]",
      "text/plain": [
       "<Figure size 648x288 with 2 Axes>"
      ]
     },
     "metadata": {
      "needs_background": "light"
     },
     "output_type": "display_data"
    }
   ],
   "source": [
    "fig, axs = plt.subplots(1, 2, figsize=(9,4))\n",
    "fig.tight_layout(pad=3)\n",
    "axs[0].hist(movies.plot_num_sentences,bins=40,log=True)\n",
    "axs[0].set_title('Distribution of sentences number \\nacross plot summaries')\n",
    "axs[0].set_xlabel('Number of sentences')\n",
    "axs[0].set_ylabel('Counts (log)')\n",
    "\n",
    "axs[1].hist(movies.plot_num_words,bins=40,log=True)\n",
    "axs[1].set_title('Distribution of words number \\nacross plot summaries')\n",
    "axs[1].set_xlabel('Number of words')\n",
    "axs[1].set_ylabel('Counts (log)')\n",
    "\n",
    "plt.show()"
   ]
  },
  {
   "cell_type": "code",
   "execution_count": 33,
   "id": "07efef71-dfc7-4eee-a772-e202cea123b0",
   "metadata": {
    "colab": {
     "base_uri": "https://localhost:8080/",
     "height": 295
    },
    "executionInfo": {
     "elapsed": 1657,
     "status": "ok",
     "timestamp": 1668730044722,
     "user": {
      "displayName": "Salomé Baup",
      "userId": "07571536397946550023"
     },
     "user_tz": -60
    },
    "id": "07efef71-dfc7-4eee-a772-e202cea123b0",
    "outputId": "eb907eeb-014e-4787-ac2e-29fb61ab0409"
   },
   "outputs": [
    {
     "data": {
      "image/png": "[encoded data removed]",
      "text/plain": [
       "<Figure size 432x288 with 1 Axes>"
      ]
     },
     "metadata": {
      "needs_background": "light"
     },
     "output_type": "display_data"
    }
   ],
   "source": [
    "punctuation1 = movies[['plot_num_coma','plot_num_dot']]\n",
    "punctuation1.plot.hist(bins=40, log=True, alpha=0.5)\n",
    "plt.title('Distribution of coma and dot number across plot summaries')\n",
    "plt.xlabel('Number of punctuation mark')\n",
    "plt.ylabel('Counts (log)')\n",
    "plt.show()"
   ]
  },
  {
   "cell_type": "code",
   "execution_count": 34,
   "id": "8a3a899e-2888-489b-93e8-6c0936a876da",
   "metadata": {
    "colab": {
     "base_uri": "https://localhost:8080/",
     "height": 310
    },
    "executionInfo": {
     "elapsed": 1270,
     "status": "ok",
     "timestamp": 1668730049043,
     "user": {
      "displayName": "Salomé Baup",
      "userId": "07571536397946550023"
     },
     "user_tz": -60
    },
    "id": "8a3a899e-2888-489b-93e8-6c0936a876da",
    "outputId": "eee00869-c870-466d-e37b-35fbc37e8e48"
   },
   "outputs": [
    {
     "data": {
      "image/png": "[encoded data removed]",
      "text/plain": [
       "<Figure size 432x288 with 1 Axes>"
      ]
     },
     "metadata": {
      "needs_background": "light"
     },
     "output_type": "display_data"
    }
   ],
   "source": [
    "punctuation2 = movies[['plot_num_semicolon','plot_num_colon','plot_num_exclamation','plot_num_percentage','plot_num_interrogation']]\n",
    "punctuation2.plot.hist(bins=40, log=True, alpha=0.5)\n",
    "plt.title('Distribution of exclamation points, interrogation points, semicolon, colon, \\nand percent symbol number across plot summaries')\n",
    "plt.xlabel('Number of punctuation mark')\n",
    "plt.ylabel('Counts (log)')\n",
    "plt.show()"
   ]
  },
  {
   "cell_type": "markdown",
   "id": "b3c4458f",
   "metadata": {
    "id": "b3c4458f",
    "tags": []
   },
   "source": [
    "### 2.3.2 Most common tokens in plot summaries <a id='2.3.2'></a>"
   ]
  },
  {
   "cell_type": "code",
   "execution_count": 20,
   "id": "97f7116b",
   "metadata": {
    "executionInfo": {
     "elapsed": 378,
     "status": "ok",
     "timestamp": 1668730957978,
     "user": {
      "displayName": "Salomé Baup",
      "userId": "07571536397946550023"
     },
     "user_tz": -60
    },
    "id": "97f7116b"
   },
   "outputs": [],
   "source": [
    "def most_frequent(List,n):\n",
    "    occurence_count = Counter(List)\n",
    "    return occurence_count.most_common(n)"
   ]
  },
  {
   "cell_type": "code",
   "execution_count": 21,
   "id": "19ab78fd",
   "metadata": {
    "colab": {
     "base_uri": "https://localhost:8080/"
    },
    "executionInfo": {
     "elapsed": 2543,
     "status": "ok",
     "timestamp": 1668730961812,
     "user": {
      "displayName": "Salomé Baup",
      "userId": "07571536397946550023"
     },
     "user_tz": -60
    },
    "id": "19ab78fd",
    "outputId": "14b2f96b-94a5-433a-8bfa-5eae5a3e2e05"
   },
   "outputs": [
    {
     "data": {
      "text/plain": [
       "0     [(ballard, 8), (miner, 5), (team, 4), (human, ...\n",
       "3     [(gun, 4), (quarry, 4), (sound, 3), (echo, 3),...\n",
       "4     [(scene, 4), (look, 3), (money, 3), (romantic,...\n",
       "6     [(year, 3), (evil, 3), (hundred, 2), (morgana,...\n",
       "12    [(break, 4), (relationship, 2), (woman, 2), (m...\n",
       "Name: plot_top_ten_tokens, dtype: object"
      ]
     },
     "execution_count": 21,
     "metadata": {},
     "output_type": "execute_result"
    }
   ],
   "source": [
    "movies['plot_top_ten_tokens'] = movies.tokens.apply( lambda x: most_frequent(x,10))\n",
    "\n",
    "movies['plot_top_ten_tokens'].head() "
   ]
  },
  {
   "cell_type": "markdown",
   "id": "xEE41ga4iQuD",
   "metadata": {
    "id": "xEE41ga4iQuD"
   },
   "source": [
    "The ten most used token are represented in the dataframe as a pair or token and its occurence. For the analysis of the most used token accross genre, we will remove the occurence."
   ]
  },
  {
   "cell_type": "code",
   "execution_count": 22,
   "id": "mOesb8T_M5y5",
   "metadata": {
    "executionInfo": {
     "elapsed": 416,
     "status": "ok",
     "timestamp": 1668730965205,
     "user": {
      "displayName": "Salomé Baup",
      "userId": "07571536397946550023"
     },
     "user_tz": -60
    },
    "id": "mOesb8T_M5y5"
   },
   "outputs": [],
   "source": [
    "def remove_nb_usage(list_tokens):\n",
    "  # to remove the number of occurence of the 10 most used tokens\n",
    "    clean_tokens = []\n",
    "    for pair in list_tokens:\n",
    "        clean_tokens.append(pair[0])\n",
    "    return clean_tokens"
   ]
  },
  {
   "cell_type": "code",
   "execution_count": 23,
   "id": "ra02UotANjYO",
   "metadata": {
    "executionInfo": {
     "elapsed": 10,
     "status": "ok",
     "timestamp": 1668730966632,
     "user": {
      "displayName": "Salomé Baup",
      "userId": "07571536397946550023"
     },
     "user_tz": -60
    },
    "id": "ra02UotANjYO"
   },
   "outputs": [],
   "source": [
    "movies['clean_top_ten_tokens'] = movies['plot_top_ten_tokens'].apply(remove_nb_usage)"
   ]
  },
  {
   "cell_type": "code",
   "execution_count": 24,
   "id": "r0glXTFiN0AW",
   "metadata": {
    "colab": {
     "base_uri": "https://localhost:8080/"
    },
    "executionInfo": {
     "elapsed": 9,
     "status": "ok",
     "timestamp": 1668730967947,
     "user": {
      "displayName": "Salomé Baup",
      "userId": "07571536397946550023"
     },
     "user_tz": -60
    },
    "id": "r0glXTFiN0AW",
    "outputId": "3b7590a3-f91b-4f8a-e79b-2cfbce38c551"
   },
   "outputs": [
    {
     "data": {
      "text/plain": [
       "0    [ballard, miner, team, human, martian, sergean...\n",
       "3    [gun, quarry, sound, echo, head, away, abandon...\n",
       "4    [scene, look, money, romantic, gigolo, slowly,...\n",
       "Name: clean_top_ten_tokens, dtype: object"
      ]
     },
     "execution_count": 24,
     "metadata": {},
     "output_type": "execute_result"
    }
   ],
   "source": [
    "movies['clean_top_ten_tokens'].head(3)"
   ]
  },
  {
   "cell_type": "markdown",
   "id": "pXLYEHqzN-by",
   "metadata": {
    "id": "pXLYEHqzN-by"
   },
   "source": [
    "In Milestone3, we would like to match movie genres with most used tokens, to see if some tokens are repeated. For now, we begin with a raw clustering of movie genres."
   ]
  },
  {
   "cell_type": "markdown",
   "id": "uG3LygAXiwql",
   "metadata": {
    "id": "uG3LygAXiwql"
   },
   "source": [
    "In the movies dataframe, movie genre are usually multiple. First, we extract each individual genres. "
   ]
  },
  {
   "cell_type": "code",
   "execution_count": 25,
   "id": "F5E43TNCxjVZ",
   "metadata": {
    "executionInfo": {
     "elapsed": 392,
     "status": "ok",
     "timestamp": 1668730970751,
     "user": {
      "displayName": "Salomé Baup",
      "userId": "07571536397946550023"
     },
     "user_tz": -60
    },
    "id": "F5E43TNCxjVZ"
   },
   "outputs": [],
   "source": [
    "def to_1D(series):\n",
    " return pd.Series([x for list_ in series for x in list_])"
   ]
  },
  {
   "cell_type": "code",
   "execution_count": 26,
   "id": "w3D_1IgAjCUl",
   "metadata": {
    "colab": {
     "base_uri": "https://localhost:8080/"
    },
    "executionInfo": {
     "elapsed": 9,
     "status": "ok",
     "timestamp": 1668730972175,
     "user": {
      "displayName": "Salomé Baup",
      "userId": "07571536397946550023"
     },
     "user_tz": -60
    },
    "id": "w3D_1IgAjCUl",
    "outputId": "48172f70-057e-459b-e85c-8a4a43c4ac0c"
   },
   "outputs": [
    {
     "data": {
      "text/plain": [
       "Drama                                       19121\n",
       "Comedy                                      10463\n",
       "Romance Film                                 6662\n",
       "Thriller                                     6529\n",
       "Action                                       5863\n",
       "World cinema                                 5151\n",
       "Crime Fiction                                4270\n",
       "Horror                                       4081\n",
       "Black-and-white                              3726\n",
       "Indie                                        3667\n",
       "Action/Adventure                             3553\n",
       "Adventure                                    3248\n",
       "Family Film                                  3218\n",
       "Short Film                                   3192\n",
       "Romantic drama                               2571\n",
       "Animation                                    2440\n",
       "Musical                                      2414\n",
       "Science Fiction                              2339\n",
       "Mystery                                      2117\n",
       "Romantic comedy                              2075\n",
       "Fantasy                                      2012\n",
       "Comedy film                                  1776\n",
       "Crime Thriller                               1681\n",
       "War film                                     1556\n",
       "Period piece                                 1321\n",
       "Japanese Movies                              1289\n",
       "Comedy-drama                                 1261\n",
       "Film adaptation                              1225\n",
       "Documentary                                  1213\n",
       "Silent film                                  1198\n",
       "Psychological thriller                       1138\n",
       "Bollywood                                    1058\n",
       "Western                                      1022\n",
       "Chinese Movies                                998\n",
       "Black comedy                                  834\n",
       "Teen                                          824\n",
       "LGBT                                          824\n",
       "Parody                                        767\n",
       "Family Drama                                  765\n",
       "Children's/Family                             759\n",
       "Coming of age                                 741\n",
       "Martial Arts Film                             706\n",
       "Cult                                          680\n",
       "Sports                                        672\n",
       "Television movie                              665\n",
       "Slasher                                       654\n",
       "Suspense                                      651\n",
       "Biographical film                             625\n",
       "Biography                                     592\n",
       "Supernatural                                  571\n",
       "Satire                                        532\n",
       "Political drama                               531\n",
       "Film noir                                     524\n",
       "Slapstick                                     518\n",
       "Melodrama                                     498\n",
       "Children's                                    412\n",
       "Action Thrillers                              405\n",
       "Crime Drama                                   391\n",
       "B-movie                                       386\n",
       "Costume drama                                 367\n",
       "Biopic [feature]                              365\n",
       "History                                       358\n",
       "Music                                         356\n",
       "Art film                                      351\n",
       "Ensemble Film                                 349\n",
       "Creature Film                                 347\n",
       "Spy                                           342\n",
       "Gangster Film                                 338\n",
       "Buddy film                                    325\n",
       "Anime                                         305\n",
       "Historical fiction                            304\n",
       "Detective                                     282\n",
       "Road movie                                    268\n",
       "Gay Themed                                    263\n",
       "Superhero movie                               258\n",
       "Sex comedy                                    253\n",
       "Docudrama                                     252\n",
       "Screwball comedy                              246\n",
       "Children's Fantasy                            244\n",
       "Disaster                                      238\n",
       "Erotica                                       235\n",
       "Zombie Film                                   233\n",
       "Crime Comedy                                  231\n",
       "Detective fiction                             225\n",
       "Filipino Movies                               220\n",
       "Gay                                           218\n",
       "Gay Interest                                  216\n",
       "Family-Oriented Adventure                     213\n",
       "Comedy of manners                             212\n",
       "Horror Comedy                                 206\n",
       "Culture & Society                             204\n",
       "Fantasy Comedy                                196\n",
       "Epic                                          196\n",
       "Political thriller                            195\n",
       "Computer Animation                            195\n",
       "Fantasy Adventure                             190\n",
       "Courtroom Drama                               184\n",
       "Political cinema                              176\n",
       "Musical comedy                                175\n",
       "Domestic Comedy                               172\n",
       "Erotic thriller                               170\n",
       "Comedy of Errors                              169\n",
       "Monster movie                                 168\n",
       "Natural horror films                          153\n",
       "Heist                                         145\n",
       "Pornographic movie                            145\n",
       "Action Comedy                                 142\n",
       "Animal Picture                                141\n",
       "Marriage Drama                                137\n",
       "Musical Drama                                 136\n",
       "Stop motion                                   134\n",
       "Pre-Code                                      130\n",
       "Sci-Fi Horror                                 124\n",
       "Adventure Comedy                              123\n",
       "Adult                                         117\n",
       "Christian film                                116\n",
       "Monster                                       113\n",
       "Erotic Drama                                  112\n",
       "Doomsday film                                 112\n",
       "Childhood Drama                               111\n",
       "Superhero                                     111\n",
       "Experimental film                             107\n",
       "Historical drama                              107\n",
       "Swashbuckler films                            104\n",
       "Social issues                                 101\n",
       "Chase Movie                                   100\n",
       "Surrealism                                     99\n",
       "Mockumentary                                   97\n",
       "Alien Film                                     97\n",
       "Holiday Film                                   94\n",
       "Animated cartoon                               94\n",
       "Slice of life story                            94\n",
       "Social problem film                            92\n",
       "Americana                                      91\n",
       "Prison                                         90\n",
       "New Hollywood                                  86\n",
       "Remake                                         85\n",
       "Workplace Comedy                               84\n",
       "Dystopia                                       84\n",
       "Combat Films                                   84\n",
       "Avant-garde                                    83\n",
       "Sexploitation                                  82\n",
       "Christmas movie                                80\n",
       "Caper story                                    80\n",
       "Blaxploitation                                 79\n",
       "Wuxia                                          79\n",
       "Absurdism                                      79\n",
       "Tragedy                                        79\n",
       "Political satire                               78\n",
       "Comedy Thriller                                78\n",
       "Propaganda film                                77\n",
       "Costume Adventure                              77\n",
       "Time travel                                    77\n",
       "Feminist Film                                  76\n",
       "Media Satire                                   71\n",
       "Dance                                          69\n",
       "Haunted House Film                             65\n",
       "Historical Epic                                63\n",
       "Tamil cinema                                   63\n",
       "Gothic Film                                    62\n",
       "Jungle Film                                    62\n",
       "Religious Film                                 61\n",
       "Revisionist Western                            60\n",
       "Romantic fantasy                               59\n",
       "Gross out                                      58\n",
       "Gross-out film                                 58\n",
       "Neo-noir                                       57\n",
       "Spaghetti Western                              56\n",
       "Medical fiction                                56\n",
       "Costume Horror                                 55\n",
       "Comedy Western                                 53\n",
       "Airplanes and airports                         53\n",
       "Tragicomedy                                    51\n",
       "Boxing                                         51\n",
       "Auto racing                                    50\n",
       "Fairy tale                                     48\n",
       "Stoner film                                    46\n",
       "Glamorized Spy Film                            45\n",
       "Escape Film                                    45\n",
       "Animated Musical                               43\n",
       "Whodunit                                       43\n",
       "Addiction Drama                                42\n",
       "Juvenile Delinquency Film                      42\n",
       "Softcore Porn                                  41\n",
       "Rockumentary                                   40\n",
       "Sword and sorcery                              39\n",
       "Sword and sorcery films                        37\n",
       "Existentialism                                 34\n",
       "Apocalyptic and post-apocalyptic fiction       32\n",
       "Sci-Fi Adventure                               32\n",
       "Anti-war                                       32\n",
       "Roadshow theatrical release                    32\n",
       "Tollywood                                      32\n",
       "Hip hop movies                                 31\n",
       "Anti-war film                                  31\n",
       "Steampunk                                      30\n",
       "Future noir                                    29\n",
       "Film à clef                                    29\n",
       "Hybrid Western                                 29\n",
       "Splatter film                                  28\n",
       "Heavenly Comedy                                27\n",
       "Samurai cinema                                 27\n",
       "Inspirational Drama                            27\n",
       "Crime                                          26\n",
       "Mythological Fantasy                           26\n",
       "Master Criminal Films                          25\n",
       "Giallo                                         25\n",
       "Pinku eiga                                     24\n",
       "Punk rock                                      23\n",
       "Gay pornography                                21\n",
       "Law & Crime                                    21\n",
       "Heaven-Can-Wait Fantasies                      21\n",
       "Interpersonal Relationships                    21\n",
       "British Empire Film                            20\n",
       "Biker Film                                     20\n",
       "Backstage Musical                              20\n",
       "Gender Issues                                  19\n",
       "Hagiography                                    19\n",
       "Comedy horror                                  19\n",
       "Beach Film                                     19\n",
       "Road-Horror                                    19\n",
       "Film                                           19\n",
       "B-Western                                      19\n",
       "Fan film                                       18\n",
       "Indian Western                                 18\n",
       "Nature                                         17\n",
       "Epic Western                                   17\n",
       "Dogme 95                                       17\n",
       "Fantasy Drama                                  16\n",
       "Educational                                    16\n",
       "Sword and Sandal                               16\n",
       "Animals                                        15\n",
       "Travel                                         14\n",
       "Natural disaster                               14\n",
       "Albino bias                                    14\n",
       "Kitchen sink realism                           14\n",
       "Illnesses & Disabilities                       14\n",
       "British New Wave                               13\n",
       "Women in prison films                          13\n",
       "Outlaw biker film                              12\n",
       "Malayalam Cinema                               12\n",
       "Exploitation                                   12\n",
       "Cavalry Film                                   12\n",
       "Prison film                                    12\n",
       "Stand-up comedy                                12\n",
       "Ealing Comedies                                12\n",
       "Space western                                  12\n",
       "Film & Television History                      11\n",
       "Buddy cop                                      11\n",
       "Movie serial                                   11\n",
       "Children's Entertainment                       11\n",
       "Concert film                                   11\n",
       "Cold War                                       10\n",
       "Foreign legion                                 10\n",
       "Family & Personal Relationships                10\n",
       "Filipino                                       10\n",
       "Psycho-biddy                                   10\n",
       "World History                                  10\n",
       "Bengali Cinema                                 10\n",
       "Archaeology                                    10\n",
       "Extreme Sports                                 10\n",
       "Baseball                                        9\n",
       "Legal drama                                     8\n",
       "Essay Film                                      8\n",
       "Horse racing                                    8\n",
       "Fictional film                                  8\n",
       "Feature film                                    8\n",
       "Reboot                                          8\n",
       "Language & Literature                           8\n",
       "Anthology                                       7\n",
       "News                                            7\n",
       "Pornography                                     7\n",
       "Czechoslovak New Wave                           7\n",
       "Hardcore pornography                            7\n",
       "Northern                                        7\n",
       "Media Studies                                   7\n",
       "Mumblecore                                      7\n",
       "Jukebox musical                                 7\n",
       "Acid western                                    7\n",
       "Courtroom Comedy                                6\n",
       "Demonic child                                   6\n",
       "Parkour in popular culture                      6\n",
       "Early Black Cinema                              6\n",
       "Environmental Science                           6\n",
       "Kafkaesque                                      6\n",
       "Archives and records                            6\n",
       "Sci-Fi Thriller                                 5\n",
       "Cyberpunk                                       5\n",
       "Outlaw                                          5\n",
       "Space opera                                     5\n",
       "Movies About Gladiators                         5\n",
       "Science fiction Western                         5\n",
       "Gulf War                                        5\n",
       "Libraries and librarians                        5\n",
       "Mondo film                                      5\n",
       "Graphic & Applied Arts                          4\n",
       "School story                                    4\n",
       "Alien invasion                                  4\n",
       "Finance & Investing                             4\n",
       "Sponsored film                                  4\n",
       "Clay animation                                  4\n",
       "Inventions & Innovations                        4\n",
       "Werewolf fiction                                4\n",
       "Coming-of-age film                              4\n",
       "Sci Fi Pictures original films                  4\n",
       "Roadshow/Carny                                  4\n",
       "Female buddy film                               4\n",
       "Operetta                                        4\n",
       "Business                                        4\n",
       "Therimin music                                  4\n",
       "Humour                                          4\n",
       "Instrumental Music                              4\n",
       "Plague                                          4\n",
       "Computers                                       4\n",
       "Goat gland                                      4\n",
       "Latino                                          3\n",
       "Film-Opera                                      3\n",
       "Point of view shot                              3\n",
       "Bloopers & Candid Camera                        3\n",
       "Camp                                            3\n",
       "Vampire movies                                  3\n",
       "Supermarionation                                3\n",
       "Health & Fitness                                3\n",
       "Singing cowboy                                  3\n",
       "Race movie                                      3\n",
       "Psychological horror                            3\n",
       "Bruceploitation                                 3\n",
       "Education                                       3\n",
       "Nuclear warfare                                 3\n",
       "Filmed Play                                     3\n",
       "Expressionism                                   2\n",
       "Z movie                                         2\n",
       "Tokusatsu                                       2\n",
       "Journalism                                      2\n",
       "Revisionist Fairy Tale                          2\n",
       "Beach Party film                                2\n",
       "Period Horror                                   2\n",
       "Live action                                     2\n",
       "Prison escape                                   2\n",
       "Revenge                                         2\n",
       "Star vehicle                                    2\n",
       "Private military company                        2\n",
       "The Netherlands in World War II                 2\n",
       "Anthropology                                    2\n",
       "Historical Documentaries                        2\n",
       "Conspiracy fiction                              2\n",
       "Neorealism                                      1\n",
       "New Queer Cinema                                1\n",
       "Buddy Picture                                   1\n",
       "Statutory rape                                  1\n",
       "War effort                                      1\n",
       "Ninja movie                                     1\n",
       "Chick flick                                     1\n",
       "Patriotic film                                  1\n",
       "Romantic thriller                               1\n",
       "Linguistics                                     1\n",
       "Breakdance                                      1\n",
       "Silhouette animation                            1\n",
       "Children's Issues                               1\n",
       "Political Documetary                            1\n",
       "C-Movie                                         1\n",
       "Comdedy                                         1\n",
       "Homoeroticism                                   1\n",
       "dtype: int64"
      ]
     },
     "execution_count": 26,
     "metadata": {},
     "output_type": "execute_result"
    }
   ],
   "source": [
    "pd.set_option('display.max_rows', None)\n",
    "individual_genres = to_1D(movies['Genres'])\n",
    "individual_genres.value_counts()"
   ]
  },
  {
   "cell_type": "code",
   "execution_count": 27,
   "id": "mjTooHegjJhB",
   "metadata": {
    "colab": {
     "base_uri": "https://localhost:8080/"
    },
    "executionInfo": {
     "elapsed": 376,
     "status": "ok",
     "timestamp": 1668730976431,
     "user": {
      "displayName": "Salomé Baup",
      "userId": "07571536397946550023"
     },
     "user_tz": -60
    },
    "id": "mjTooHegjJhB",
    "outputId": "6514b91b-8653-4d6c-c593-78dd81f23d24"
   },
   "outputs": [
    {
     "name": "stdout",
     "output_type": "stream",
     "text": [
      "There are 363 unique genres\n"
     ]
    }
   ],
   "source": [
    "print('There are', len(individual_genres.value_counts()), 'unique genres')"
   ]
  },
  {
   "cell_type": "markdown",
   "id": "m22s02gaFTIt",
   "metadata": {
    "id": "m22s02gaFTIt"
   },
   "source": [
    "!!!!!! there is one typo : Comdedy instead of Comedy : --> need to replace it,\n",
    "but for this we need to iterate through each lists of Genre.... TODO"
   ]
  },
  {
   "cell_type": "markdown",
   "id": "ycYtUxaxje5z",
   "metadata": {
    "id": "ycYtUxaxje5z"
   },
   "source": [
    "For visualization purpose, we won't use the 363 different genres for now.  \n",
    "\n",
    "For now, we will create bigger theme/genre clusters.   Disclaimer : This is a first, raw extraction of bigger movie theme/genre, to have some insights about movie genres. However his grouping is not exhaustive and as not complete, may lead to bias in interpretation.\n",
    "\n",
    "To do so, we create 25 big clusters. A first cluster list will contain keywords that are present in the genre name. Then, we search if a genre is present in a cluster and add it to a final cluster list, that will contain the actual genre names."
   ]
  },
  {
   "cell_type": "code",
   "execution_count": 28,
   "id": "mu81VewFkUh5",
   "metadata": {
    "executionInfo": {
     "elapsed": 575,
     "status": "ok",
     "timestamp": 1668730991229,
     "user": {
      "displayName": "Salomé Baup",
      "userId": "07571536397946550023"
     },
     "user_tz": -60
    },
    "id": "mu81VewFkUh5"
   },
   "outputs": [],
   "source": [
    "# lists containing cluster keywords \n",
    "comedy = ['comedy', 'comedies', 'humour', 'satire', 'parody', 'bloopers',\\\n",
    "          'gross', 'slapstick']\n",
    "drama = ['drama']\n",
    "horror = ['horror', 'haunted', 'demonic', 'escape']\n",
    "romance = ['romance', 'romantic']\n",
    "criminal = ['thriller', 'crime', 'detective', 'gangset', 'criminal', 'giallo',\\\n",
    "            'heist'] \n",
    "action_adventure = ['action', 'adventure', 'war', 'spy', 'ninja', 'martial',\\\n",
    "                    'tokusatsu', 'outlaw', 'combat', 'buddy', 'biker', 'epic'] \n",
    "entertainment_hobby = ['family', 'children', 'sport', 'baseball', 'dance',\\\n",
    "                       'holiday', 'christmas', 'party', 'hip hop', 'beach']\n",
    "fiction = ['fiction', 'fictional']\n",
    "erotism = ['erotic','pornography', 'erotica', 'adult', 'porn', 'homoeroticism']\n",
    "sci_fi = ['science fiction', 'sci-fi', 'alien', 'supernatural', 'time travel',\\\n",
    "          'space opera']\n",
    "animation = ['animation', 'anime', 'animated']\n",
    "musical = ['musical', 'music', 'concert', 'operetta', 'film-opera']\n",
    "fantasy = ['fantasy', 'fantasies', 'superhero', 'werewolf', 'sorcery', 'fairy',\\\n",
    "           'vampire', 'creature', 'zombie', 'monster']\n",
    "western = ['western', 'cowboy']\n",
    "biography = ['biography', 'biographical']\n",
    "queer = ['gay', 'lgbt', 'queer']\n",
    "apocalypse = ['disaster', 'apocalyptic']\n",
    "historical = ['history', 'historical', 'cold war', 'gulf war', 'world war',\\\n",
    "              'empire', 'gladiators', 'inventions']\n",
    "society = ['social', 'prison', 'gender', 'media', 'society', 'disabilities',\\\n",
    "           'relationships', 'journalism', 'education', ]\n",
    "religion = ['christian', 'religious', 'hagiography']\n",
    "engaged = ['anti-war', 'feminist', 'political']\n",
    "world_region = ['chinese', 'filipino', 'samurai', 'japanese', 'bollywood',\\\n",
    "                'latino', 'malayalam', 'world cinema', 'bengali', 'tollywood'\\\n",
    "                'czechoslovak', 'northern']\n",
    "low_budget = ['b-', 'c-', 'z movie']\n",
    "_ism = ['surrealism', 'expressionism', 'neorealism', 'existentialism',\\\n",
    "        'realism', 'avant-garde', 'absurdism', 'kafkaesque']"
   ]
  },
  {
   "cell_type": "code",
   "execution_count": 29,
   "id": "75_JxVvYCK59",
   "metadata": {
    "executionInfo": {
     "elapsed": 590,
     "status": "ok",
     "timestamp": 1668730995914,
     "user": {
      "displayName": "Salomé Baup",
      "userId": "07571536397946550023"
     },
     "user_tz": -60
    },
    "id": "75_JxVvYCK59"
   },
   "outputs": [],
   "source": [
    "# lists that will contain actual genre names\n",
    "group_comedy, numbers_comedy = [], []\n",
    "group_drama, numbers_drama = [], []\n",
    "group_horror, numbers_horror = [], []\n",
    "group_romance, numbers_romance = [], []\n",
    "group_criminal, numbers_criminal = [], []\n",
    "group_action_adv, numbers_action_adv = [], []\n",
    "group_entert_hobb, numbers_entert_hobb = [], []\n",
    "group_fiction, numbers_fiction = [], []\n",
    "group_erotism, numbers_erotism = [], []\n",
    "group_scifi, numbers_scifi = [], []\n",
    "group_animation, numbers_animation = [], []\n",
    "group_musical, numbers_musical = [], []\n",
    "group_fantasy, numbers_fantasy = [], []\n",
    "group_western, numbers_western = [], []\n",
    "group_biography, numbers_biography = [], []\n",
    "group_queer, numbers_queer = [], []\n",
    "group_apocalypse, numbers_apocalypse = [], []\n",
    "group_history, numbers_hystory = [], []\n",
    "group_society, numbers_society = [], []\n",
    "group_religion, numbers_religion = [], []\n",
    "group_engaged, numbers_engaged = [], []\n",
    "group_world, numbers_world = [], []\n",
    "group_lowbud, numbers_lowbud = [], []\n",
    "group_ism, numbers_ism = [], []"
   ]
  },
  {
   "cell_type": "code",
   "execution_count": 30,
   "id": "izK9MHQHmSkt",
   "metadata": {
    "executionInfo": {
     "elapsed": 8,
     "status": "ok",
     "timestamp": 1668730997291,
     "user": {
      "displayName": "Salomé Baup",
      "userId": "07571536397946550023"
     },
     "user_tz": -60
    },
    "id": "izK9MHQHmSkt"
   },
   "outputs": [],
   "source": [
    "def find_cluster(cluster, genre, count, group, numbers):\n",
    "  for keyword in cluster :\n",
    "    if keyword in genre:\n",
    "      group.append(genre)\n",
    "      numbers.append(count)\n",
    "      break"
   ]
  },
  {
   "cell_type": "code",
   "execution_count": 31,
   "id": "peCe6hrj3p60",
   "metadata": {
    "executionInfo": {
     "elapsed": 6,
     "status": "ok",
     "timestamp": 1668730999588,
     "user": {
      "displayName": "Salomé Baup",
      "userId": "07571536397946550023"
     },
     "user_tz": -60
    },
    "id": "peCe6hrj3p60"
   },
   "outputs": [],
   "source": [
    "indiv_genres = [x.lower() for x in individual_genres.value_counts().index.to_numpy()]\n",
    "indiv_counts = [x for x in individual_genres.value_counts().values]\n",
    "for g, count in zip(indiv_genres, indiv_counts):\n",
    "  find_cluster(comedy, g, count, group_comedy, numbers_comedy)\n",
    "  find_cluster(drama, g, count, group_drama, numbers_drama)\n",
    "  find_cluster(horror, g, count, group_horror, numbers_horror)\n",
    "  find_cluster(romance, g, count, group_romance, numbers_romance)\n",
    "  find_cluster(criminal, g, count, group_criminal, numbers_criminal)\n",
    "  find_cluster(action_adventure, g, count, group_action_adv, numbers_action_adv)\n",
    "  find_cluster(entertainment_hobby, g, count, group_entert_hobb, numbers_entert_hobb)\n",
    "  find_cluster(fiction, g, count, group_fiction, numbers_fiction)\n",
    "  find_cluster(erotism, g, count, group_erotism, numbers_erotism)\n",
    "  find_cluster(sci_fi, g, count, group_scifi, numbers_scifi)\n",
    "  find_cluster(animation, g, count, group_animation, numbers_animation)\n",
    "  find_cluster(musical, g, count, group_musical, numbers_musical)\n",
    "  find_cluster(fantasy, g, count, group_fantasy, numbers_fantasy)\n",
    "  find_cluster(western, g, count, group_western, numbers_western)\n",
    "  find_cluster(biography, g, count, group_biography, numbers_biography)\n",
    "  find_cluster(queer, g, count, group_queer, numbers_queer)\n",
    "  find_cluster(apocalypse, g, count, group_apocalypse, numbers_apocalypse)\n",
    "  find_cluster(historical, g, count, group_history, numbers_hystory)\n",
    "  find_cluster(society, g, count, group_society, numbers_society)\n",
    "  find_cluster(religion, g, count, group_religion, numbers_religion)\n",
    "  find_cluster(engaged, g, count, group_engaged, numbers_engaged)\n",
    "  find_cluster(world_region, g, count, group_world, numbers_world)\n",
    "  find_cluster(low_budget, g, count, group_lowbud, numbers_lowbud)\n",
    "  find_cluster(_ism, g, count, group_ism, numbers_ism)"
   ]
  },
  {
   "cell_type": "code",
   "execution_count": 32,
   "id": "SPsH61WMtX7Z",
   "metadata": {
    "executionInfo": {
     "elapsed": 4,
     "status": "ok",
     "timestamp": 1668731001109,
     "user": {
      "displayName": "Salomé Baup",
      "userId": "07571536397946550023"
     },
     "user_tz": -60
    },
    "id": "SPsH61WMtX7Z"
   },
   "outputs": [],
   "source": [
    "def plot_clusters(ix, iy, group, counts, title):\n",
    "  axs[ix, iy].bar(group, counts, log=True)\n",
    "  axs[ix, iy].tick_params(labelrotation=90)\n",
    "  axs[ix, iy].set_ylabel('counts (log)')\n",
    "  axs[ix, iy].set_title(title+' movie genre cluster')"
   ]
  },
  {
   "cell_type": "markdown",
   "id": "8aYJMUSgwFbv",
   "metadata": {
    "id": "8aYJMUSgwFbv"
   },
   "source": [
    "We are now plotting each cluster to see the distribution of its individual subgenres."
   ]
  },
  {
   "cell_type": "code",
   "execution_count": 34,
   "id": "QJz7soVppUOH",
   "metadata": {
    "colab": {
     "base_uri": "https://localhost:8080/",
     "height": 1000
    },
    "executionInfo": {
     "elapsed": 15237,
     "status": "ok",
     "timestamp": 1668731103580,
     "user": {
      "displayName": "Salomé Baup",
      "userId": "07571536397946550023"
     },
     "user_tz": -60
    },
    "id": "QJz7soVppUOH",
    "outputId": "f98d4d1b-95c0-4fa2-c15d-3fd34948a97b"
   },
   "outputs": [
    {
     "data": {
      "image/png": "[encoded data removed]",
      "text/plain": [
       "<Figure size 1080x5040 with 24 Axes>"
      ]
     },
     "metadata": {
      "needs_background": "light"
     },
     "output_type": "display_data"
    }
   ],
   "source": [
    "fig, axs = plt.subplots(12, 2, figsize = (15,70))\n",
    "fig.tight_layout(h_pad=16, w_pad=5)\n",
    "\n",
    "plot_clusters(0,0, group_comedy, numbers_comedy, 'Comedy')\n",
    "plot_clusters(0,1, group_drama, numbers_drama, 'Drama')\n",
    "plot_clusters(1,0, group_horror, numbers_horror, 'Horror')\n",
    "plot_clusters(1,1, group_romance, numbers_romance, 'Romance')\n",
    "plot_clusters(2,0, group_criminal, numbers_criminal, 'Criminal/Thriller')\n",
    "plot_clusters(2,1, group_action_adv, numbers_action_adv, 'Action/Adventure')\n",
    "plot_clusters(3,0, group_entert_hobb, numbers_entert_hobb, 'Entertainment/Hobby')\n",
    "plot_clusters(3,1, group_fiction, numbers_fiction, 'Fiction')\n",
    "plot_clusters(4,0, group_erotism, numbers_erotism, 'Erotism')\n",
    "plot_clusters(4,1, group_scifi, numbers_scifi, 'Science Fiction')\n",
    "plot_clusters(5,0, group_animation, numbers_animation, 'Animation')\n",
    "plot_clusters(5,1, group_musical, numbers_musical, 'Musical')\n",
    "plot_clusters(6,0, group_fantasy, numbers_fantasy, 'Fantasy')\n",
    "plot_clusters(6,1, group_western, numbers_western, 'Western')\n",
    "plot_clusters(7,0, group_biography, numbers_biography, 'Biography')\n",
    "plot_clusters(7,1, group_queer, numbers_queer, 'Queer')\n",
    "plot_clusters(8,0, group_apocalypse, numbers_apocalypse, 'Apocalypse')\n",
    "plot_clusters(8,1, group_history, numbers_hystory, 'Historical')\n",
    "plot_clusters(9,0, group_society, numbers_society, 'Societal')\n",
    "plot_clusters(9,1, group_religion, numbers_religion, 'Religious')\n",
    "plot_clusters(10,0, group_engaged, numbers_engaged, 'Engaged')\n",
    "plot_clusters(10,1, group_world, numbers_world, 'World region')\n",
    "plot_clusters(11,0, group_lowbud, numbers_lowbud, 'Low budget')\n",
    "plot_clusters(11,1, group_ism, numbers_ism, 'Current, movement')\n",
    "\n",
    "plt.show()"
   ]
  },
  {
   "cell_type": "markdown",
   "id": "02862e67-155a-4990-8fbf-4a0bcc706745",
   "metadata": {},
   "source": [
    "The combinaisons genres:most_used_tokens is let for Milestone3. We will also finetune our `Genres` approach."
   ]
  },
  {
   "cell_type": "markdown",
   "id": "71bc26a0",
   "metadata": {
    "id": "71bc26a0",
    "tags": []
   },
   "source": [
    "### 2.3.3 Words polarity <a id='2.3.3'></a>"
   ]
  },
  {
   "cell_type": "code",
   "execution_count": 35,
   "id": "lZ6VwtEv6tST",
   "metadata": {
    "executionInfo": {
     "elapsed": 406,
     "status": "ok",
     "timestamp": 1668731122355,
     "user": {
      "displayName": "Salomé Baup",
      "userId": "07571536397946550023"
     },
     "user_tz": -60
    },
    "id": "lZ6VwtEv6tST"
   },
   "outputs": [],
   "source": [
    "# Count of the different negative and positive words\n",
    "positive_txt = requests.get('https://ptrckprry.com/course/ssd/data/positive-words.txt').text\n",
    "negative_txt = requests.get('https://ptrckprry.com/course/ssd/data/negative-words.txt').text\n",
    "\n",
    "def parse_str(s):\n",
    "    return list(filter(lambda x:x[0]!=';', list(filter(None, s.split(\"\\n\")))))"
   ]
  },
  {
   "cell_type": "code",
   "execution_count": 36,
   "id": "PoUdjXXW6vaF",
   "metadata": {
    "colab": {
     "base_uri": "https://localhost:8080/",
     "height": 143
    },
    "executionInfo": {
     "elapsed": 106647,
     "status": "ok",
     "timestamp": 1668731231393,
     "user": {
      "displayName": "Salomé Baup",
      "userId": "07571536397946550023"
     },
     "user_tz": -60
    },
    "id": "PoUdjXXW6vaF",
    "outputId": "8dce465c-57b7-4564-82ce-aaf9afa6b76a"
   },
   "outputs": [
    {
     "data": {
      "text/html": [
       "\n",
       "  <div id=\"df-8e1c63d7-7a27-4808-8e40-b60c0e56656e\">\n",
       "    <div class=\"colab-df-container\">\n",
       "      <div>\n",
       "<style scoped>\n",
       "    .dataframe tbody tr th:only-of-type {\n",
       "        vertical-align: middle;\n",
       "    }\n",
       "\n",
       "    .dataframe tbody tr th {\n",
       "        vertical-align: top;\n",
       "    }\n",
       "\n",
       "    .dataframe thead th {\n",
       "        text-align: right;\n",
       "    }\n",
       "</style>\n",
       "<table border=\"1\" class=\"dataframe\">\n",
       "  <thead>\n",
       "    <tr style=\"text-align: right;\">\n",
       "      <th></th>\n",
       "      <th>plot_num_positive</th>\n",
       "      <th>plot_num_negative</th>\n",
       "    </tr>\n",
       "  </thead>\n",
       "  <tbody>\n",
       "    <tr>\n",
       "      <th>0</th>\n",
       "      <td>2</td>\n",
       "      <td>18</td>\n",
       "    </tr>\n",
       "    <tr>\n",
       "      <th>3</th>\n",
       "      <td>15</td>\n",
       "      <td>22</td>\n",
       "    </tr>\n",
       "    <tr>\n",
       "      <th>4</th>\n",
       "      <td>11</td>\n",
       "      <td>14</td>\n",
       "    </tr>\n",
       "  </tbody>\n",
       "</table>\n",
       "</div>\n",
       "      <button class=\"colab-df-convert\" onclick=\"convertToInteractive('df-8e1c63d7-7a27-4808-8e40-b60c0e56656e')\"\n",
       "              title=\"Convert this dataframe to an interactive table.\"\n",
       "              style=\"display:none;\">\n",
       "        \n",
       "  <svg xmlns=\"http://www.w3.org/2000/svg\" height=\"24px\"viewBox=\"0 0 24 24\"\n",
       "       width=\"24px\">\n",
       "    <path d=\"M0 0h24v24H0V0z\" fill=\"none\"/>\n",
       "    <path d=\"M18.56 5.44l.94 2.06.94-2.06 2.06-.94-2.06-.94-.94-2.06-.94 2.06-2.06.94zm-11 1L8.5 8.5l.94-2.06 2.06-.94-2.06-.94L8.5 2.5l-.94 2.06-2.06.94zm10 10l.94 2.06.94-2.06 2.06-.94-2.06-.94-.94-2.06-.94 2.06-2.06.94z\"/><path d=\"M17.41 7.96l-1.37-1.37c-.4-.4-.92-.59-1.43-.59-.52 0-1.04.2-1.43.59L10.3 9.45l-7.72 7.72c-.78.78-.78 2.05 0 2.83L4 21.41c.39.39.9.59 1.41.59.51 0 1.02-.2 1.41-.59l7.78-7.78 2.81-2.81c.8-.78.8-2.07 0-2.86zM5.41 20L4 18.59l7.72-7.72 1.47 1.35L5.41 20z\"/>\n",
       "  </svg>\n",
       "      </button>\n",
       "      \n",
       "  <style>\n",
       "    .colab-df-container {\n",
       "      display:flex;\n",
       "      flex-wrap:wrap;\n",
       "      gap: 12px;\n",
       "    }\n",
       "\n",
       "    .colab-df-convert {\n",
       "      background-color: #E8F0FE;\n",
       "      border: none;\n",
       "      border-radius: 50%;\n",
       "      cursor: pointer;\n",
       "      display: none;\n",
       "      fill: #1967D2;\n",
       "      height: 32px;\n",
       "      padding: 0 0 0 0;\n",
       "      width: 32px;\n",
       "    }\n",
       "\n",
       "    .colab-df-convert:hover {\n",
       "      background-color: #E2EBFA;\n",
       "      box-shadow: 0px 1px 2px rgba(60, 64, 67, 0.3), 0px 1px 3px 1px rgba(60, 64, 67, 0.15);\n",
       "      fill: #174EA6;\n",
       "    }\n",
       "\n",
       "    [theme=dark] .colab-df-convert {\n",
       "      background-color: #3B4455;\n",
       "      fill: #D2E3FC;\n",
       "    }\n",
       "\n",
       "    [theme=dark] .colab-df-convert:hover {\n",
       "      background-color: #434B5C;\n",
       "      box-shadow: 0px 1px 3px 1px rgba(0, 0, 0, 0.15);\n",
       "      filter: drop-shadow(0px 1px 2px rgba(0, 0, 0, 0.3));\n",
       "      fill: #FFFFFF;\n",
       "    }\n",
       "  </style>\n",
       "\n",
       "      <script>\n",
       "        const buttonEl =\n",
       "          document.querySelector('#df-8e1c63d7-7a27-4808-8e40-b60c0e56656e button.colab-df-convert');\n",
       "        buttonEl.style.display =\n",
       "          google.colab.kernel.accessAllowed ? 'block' : 'none';\n",
       "\n",
       "        async function convertToInteractive(key) {\n",
       "          const element = document.querySelector('#df-8e1c63d7-7a27-4808-8e40-b60c0e56656e');\n",
       "          const dataTable =\n",
       "            await google.colab.kernel.invokeFunction('convertToInteractive',\n",
       "                                                     [key], {});\n",
       "          if (!dataTable) return;\n",
       "\n",
       "          const docLinkHtml = 'Like what you see? Visit the ' +\n",
       "            '<a target=\"_blank\" href=https://colab.research.google.com/notebooks/data_table.ipynb>data table notebook</a>'\n",
       "            + ' to learn more about interactive tables.';\n",
       "          element.innerHTML = '';\n",
       "          dataTable['output_type'] = 'display_data';\n",
       "          await google.colab.output.renderOutput(dataTable, element);\n",
       "          const docLink = document.createElement('div');\n",
       "          docLink.innerHTML = docLinkHtml;\n",
       "          element.appendChild(docLink);\n",
       "        }\n",
       "      </script>\n",
       "    </div>\n",
       "  </div>\n",
       "  "
      ],
      "text/plain": [
       "   plot_num_positive  plot_num_negative\n",
       "0                  2                 18\n",
       "3                 15                 22\n",
       "4                 11                 14"
      ]
     },
     "execution_count": 36,
     "metadata": {},
     "output_type": "execute_result"
    }
   ],
   "source": [
    "movies['plot_num_positive']= movies.Plot.apply(lambda x : len(set(parse_str(positive_txt)) & set(RegexpTokenizer(r'\\w+').tokenize(x.lower()))))\n",
    "movies['plot_num_negative']= movies.Plot.apply(lambda x : len(set(parse_str(negative_txt)) & set(RegexpTokenizer(r'\\w+').tokenize(x.lower()))))\n",
    "\n",
    "movies[['plot_num_positive','plot_num_negative']].head(3)"
   ]
  },
  {
   "cell_type": "markdown",
   "id": "61d06561",
   "metadata": {
    "id": "61d06561",
    "tags": []
   },
   "source": [
    "#### Saving `movies`"
   ]
  },
  {
   "cell_type": "code",
   "execution_count": 37,
   "id": "0qPYqGZS60KB",
   "metadata": {
    "executionInfo": {
     "elapsed": 49961,
     "status": "ok",
     "timestamp": 1668731368615,
     "user": {
      "displayName": "Salomé Baup",
      "userId": "07571536397946550023"
     },
     "user_tz": -60
    },
    "id": "0qPYqGZS60KB"
   },
   "outputs": [],
   "source": [
    "movies.to_pickle('data/movies_aug_withoutMetascores.pkl')"
   ]
  },
  {
   "cell_type": "code",
   "execution_count": null,
   "id": "4ZDQSIaXGg3Z",
   "metadata": {
    "id": "4ZDQSIaXGg3Z"
   },
   "outputs": [],
   "source": [
    "movies = pd.read_pickle('data/movies_aug_withoutMetascores.pkl')"
   ]
  },
  {
   "cell_type": "code",
   "execution_count": 36,
   "id": "zIwkHGr33279",
   "metadata": {
    "colab": {
     "base_uri": "https://localhost:8080/",
     "height": 305
    },
    "executionInfo": {
     "elapsed": 1187,
     "status": "ok",
     "timestamp": 1668726891212,
     "user": {
      "displayName": "Salomé Baup",
      "userId": "07571536397946550023"
     },
     "user_tz": -60
    },
    "id": "zIwkHGr33279",
    "outputId": "a3495d2c-f530-4520-9acb-cefc324e6aa5"
   },
   "outputs": [
    {
     "data": {
      "image/png": "[encoded data removed]",
      "text/plain": [
       "<Figure size 648x288 with 2 Axes>"
      ]
     },
     "metadata": {
      "needs_background": "light"
     },
     "output_type": "display_data"
    }
   ],
   "source": [
    "fig, axs = plt.subplots(1, 2, figsize=(9,4))\n",
    "fig.tight_layout(pad=2)\n",
    "axs[0].hist(movies.plot_num_negative,bins=40,log=True)\n",
    "axs[0].set_title('Distribution of negative words across movies')\n",
    "axs[0].set_xlabel('Number negative words')\n",
    "axs[0].set_ylabel('Counts (log)')\n",
    "\n",
    "axs[1].hist(movies.plot_num_positive,bins=40,log=True)\n",
    "axs[1].set_title('Distribution of positive words across movies')\n",
    "axs[1].set_xlabel('Number of positive words')\n",
    "axs[1].set_ylabel('Counts (log)')\n",
    "\n",
    "plt.show()"
   ]
  },
  {
   "cell_type": "markdown",
   "id": "LHKfEubH4CZU",
   "metadata": {
    "id": "LHKfEubH4CZU"
   },
   "source": [
    "We observe that most movies use mainly a relatively small number of positive and negative words. Indeed, the distribution is the highest between 0 and 10 words. The main part use 40 or less positive words and 80 or less negative words.  \n",
    "\n",
    "A deeper anaysis could be done across genres or countries instead of movies. We will let this for Milestone3."
   ]
  },
  {
   "cell_type": "code",
   "execution_count": 37,
   "id": "ltUL4Wnt4Lia",
   "metadata": {
    "colab": {
     "base_uri": "https://localhost:8080/",
     "height": 310
    },
    "executionInfo": {
     "elapsed": 3938,
     "status": "ok",
     "timestamp": 1668726969981,
     "user": {
      "displayName": "Salomé Baup",
      "userId": "07571536397946550023"
     },
     "user_tz": -60
    },
    "id": "ltUL4Wnt4Lia",
    "outputId": "27d8cd69-5e9c-4c99-cfc1-7ed160a6df51"
   },
   "outputs": [
    {
     "data": {
      "image/png": "[encoded data removed]",
      "text/plain": [
       "<Figure size 432x288 with 1 Axes>"
      ]
     },
     "metadata": {
      "needs_background": "light"
     },
     "output_type": "display_data"
    }
   ],
   "source": [
    "plt.scatter(movies.plot_num_negative, movies.plot_num_positive)\n",
    "plt.title('Relationship between number of negative words and number of \\npositive words in plot summaries')\n",
    "plt.xlabel('Number of negative words')\n",
    "plt.ylabel('Number of positive words')\n",
    "plt.show()"
   ]
  },
  {
   "cell_type": "markdown",
   "id": "mN2mlik44RnM",
   "metadata": {
    "id": "mN2mlik44RnM"
   },
   "source": [
    "We observe an approximative linear trend : few negative words used correspond to few positive words used, and a lot of negative words correspond to a lot of positive words. However, most movies use a small/an average number of both positive and negative words.  \n",
    "\n",
    "Again, this analysis will be further explored with genres and countries in Milestone3."
   ]
  },
  {
   "cell_type": "markdown",
   "id": "83e4931d-c9c5-4216-a08d-5e021fc366ed",
   "metadata": {
    "id": "83e4931d-c9c5-4216-a08d-5e021fc366ed"
   },
   "source": [
    "### 2.3.4 Ratings <a id='2.3.4'></a>"
   ]
  },
  {
   "cell_type": "markdown",
   "id": "63876bcb-2860-451c-b735-46c0d9eea01a",
   "metadata": {
    "id": "63876bcb-2860-451c-b735-46c0d9eea01a"
   },
   "source": [
    "### 2.3.5 Combined information <a id='2.3.5'></a>"
   ]
  },
  {
   "cell_type": "markdown",
   "id": "9a9d7665",
   "metadata": {
    "id": "9a9d7665"
   },
   "source": [
    "# 3. Topic Extraction "
   ]
  },
  {
   "cell_type": "markdown",
   "id": "fbe32486-e1c5-48f6-a455-2f556dafaecb",
   "metadata": {
    "tags": []
   },
   "source": [
    "## 3.1 LDA <a id='3.1'></a>"
   ]
  },
  {
   "cell_type": "markdown",
   "id": "4941481d-6e9a-4119-97c5-6e84a003a0cc",
   "metadata": {
    "tags": []
   },
   "source": [
    "### 3.1.1 Data preparation <a id='3.1.1'></a>"
   ]
  },
  {
   "cell_type": "markdown",
   "id": "57772619-9cda-494b-892d-c6d0291bbcb1",
   "metadata": {},
   "source": [
    "#### Prepare bi-grams and tri-grams"
   ]
  },
  {
   "cell_type": "code",
   "execution_count": 150,
   "id": "08db24f3",
   "metadata": {},
   "outputs": [],
   "source": [
    "tokens = plot_summaries['tokens'].tolist()\n",
    "bigram_model = Phrases(tokens)\n",
    "trigram_model = Phrases(bigram_model[tokens], min_count=1)\n",
    "tokens = list(trigram_model[bigram_model[tokens]])"
   ]
  },
  {
   "cell_type": "markdown",
   "id": "77a2d6ad-0368-47ba-ad3b-97e54c982276",
   "metadata": {},
   "source": [
    "#### Prepare objects for LDA gensim implementation"
   ]
  },
  {
   "cell_type": "code",
   "execution_count": 151,
   "id": "90db40c2",
   "metadata": {},
   "outputs": [],
   "source": [
    "dictionary_LDA = corpora.Dictionary(tokens)\n",
    "dictionary_LDA.filter_extremes(no_below=3)\n",
    "corpus = [dictionary_LDA.doc2bow(tok) for tok in tokens]"
   ]
  },
  {
   "cell_type": "markdown",
   "id": "8b4d0268-cb46-43aa-90e5-d897bddb90a1",
   "metadata": {
    "tags": []
   },
   "source": [
    "### 3.1.2 Implementation <a id='3.1.2'></a>"
   ]
  },
  {
   "cell_type": "code",
   "execution_count": 152,
   "id": "0abf63e6",
   "metadata": {},
   "outputs": [
    {
     "name": "stdout",
     "output_type": "stream",
     "text": [
      "CPU times: user 1min 41s, sys: 572 ms, total: 1min 41s\n",
      "Wall time: 1min 42s\n"
     ]
    }
   ],
   "source": [
    "np.random.seed(123456)\n",
    "num_topics = 20\n",
    "%time lda_model = models.LdaModel(corpus, num_topics=num_topics, \\\n",
    "                                  id2word=dictionary_LDA, \\\n",
    "                                  passes=4, alpha=[0.01]*num_topics, \\\n",
    "                                  eta=[0.01]*len(dictionary_LDA.keys()))"
   ]
  },
  {
   "cell_type": "markdown",
   "id": "6ae39a3d-1784-4202-99a8-9b03afa3ea39",
   "metadata": {
    "tags": []
   },
   "source": [
    "### 3.1.3 Model evaluation <a id='3.1.3'></a>\n",
    "\n",
    "(by checking how many topics a word exists in)"
   ]
  },
  {
   "cell_type": "code",
   "execution_count": 153,
   "id": "381afe7d",
   "metadata": {},
   "outputs": [],
   "source": [
    "topics_ = dict()\n",
    "for i,topic in lda_model.show_topics(formatted=False, num_topics=num_topics, num_words=20):\n",
    "    topics_[i]=topic"
   ]
  },
  {
   "cell_type": "code",
   "execution_count": 156,
   "id": "3be6e552",
   "metadata": {},
   "outputs": [],
   "source": [
    "\"\"\"\n",
    "Counts for each word the number of topics that include it\n",
    "\"\"\"\n",
    "def count_words(topics_):\n",
    "    counts = dict()\n",
    "    for i in topics_:\n",
    "        for word in topics_[i]:\n",
    "            if word[0] in counts:\n",
    "                counts[word[0]]+=1\n",
    "            else:\n",
    "                counts[word[0]]=1\n",
    "    return counts\n",
    "\n",
    "def takeSecond(elem):\n",
    "    return elem[1]"
   ]
  },
  {
   "cell_type": "code",
   "execution_count": 157,
   "id": "a8759e8f",
   "metadata": {},
   "outputs": [
    {
     "data": {
      "text/plain": [
       "[('woman', 5),\n",
       " ('fall', 5),\n",
       " ('life', 4),\n",
       " ('play', 4),\n",
       " ('give', 4),\n",
       " ('meet', 4),\n",
       " ('time', 4),\n",
       " ('escape', 4),\n",
       " ('men', 4),\n",
       " ('attack', 4),\n",
       " ('begin', 4),\n",
       " ('group', 4)]"
      ]
     },
     "execution_count": 157,
     "metadata": {},
     "output_type": "execute_result"
    }
   ],
   "source": [
    "counts = count_words(topics_)\n",
    "repeated_words = [(k,v) for k,v in counts.items() if v>=4]\n",
    "repeated_words.sort(reverse=True, key = takeSecond)\n",
    "repeated_words"
   ]
  },
  {
   "cell_type": "markdown",
   "id": "759452a2-94d7-467f-a7ad-2ddf474740e2",
   "metadata": {
    "tags": []
   },
   "source": [
    "### 3.1.4 Resulting topics <a id='3.1.4'></a>"
   ]
  },
  {
   "cell_type": "code",
   "execution_count": 158,
   "id": "ddc77619",
   "metadata": {},
   "outputs": [
    {
     "name": "stdout",
     "output_type": "stream",
     "text": [
      "Topic 0 : ['story', 'raja', 'uncle', 'life', 'hollis', 'kang', 'expand_section', 'lambert', 'cite_web', 'play', 'follow', 'idol', 'guru', 'poet', 'bergman', 'millionaire', 'film_tell_story', 'child', 'woman', 'set']\n",
      "\n",
      "Topic 1 : ['money', 'boy', 'kid', 'steal', 'work', 'gang', 'sell', 'bank', 'pay', 'plan', 'give', 'car', 'decide', 'big', 'new', 'company', 'business', 'buy', 'owner', 'town']\n",
      "\n",
      "Topic 2 : ['family', 'mother', 'life', 'father', 'friend', 'child', 'meet', 'wife', 'marry', 'husband', 'live', 'work', 'home', 'woman', 'daughter', 'decide', 'relationship', 'time', 'return', 'fall']\n",
      "\n",
      "Topic 3 : ['kill', 'police', 'escape', 'men', 'shoot', 'murder', 'tell', 'help', 'meet', 'plan', 'fight', 'reveal', 'brother', 'death', 'arrive', 'arrest', 'later', 'gun', 'gang', 'attack']\n",
      "\n",
      "Topic 4 : ['japanese', 'camp', 'spike', 'bowen', 'japan', 'lion', 'korea', 'tokyo', 'circus', 'mace', 'sullivan', 'whitey', 'toshio', 'tarzan', 'preacher', 'korean', 'finch', 'mississippi', 'pa', 'winter']\n",
      "\n",
      "Topic 5 : ['play', 'show', 'dance', 'perform', 'sex', 'act', 'club', 'woman', 'music', 'sing', 'stage', 'performance', 'song', 'begin', 'audience', 'turn', 'dress', 'guest', 'room', 'appear']\n",
      "\n",
      "Topic 6 : ['tell', 'say', 'ask', 'house', 'call', 'give', 'home', 'show', 'want', 'next', 'later', 'night', 'room', 'friend', 'look', 'talk', 'time', 'arrive', 'start', 'think']\n",
      "\n",
      "Topic 7 : ['dog', 'house', 'kill', 'body', 'ghost', 'attack', 'dead', 'baby', 'begin', 'zombie', 'discover', 'head', 'girl', 'child', 'woman', 'old', 'death', 'group', 'wood', 'mother']\n",
      "\n",
      "Topic 8 : ['return', 'ship', 'captain', 'men', 'sir', 'british', 'send', 'order', 'war', 'french', 'england', 'english', 'island', 'give', 'baron', 'count', 'rescue', 'land', 'france', 'crew']\n",
      "\n",
      "Topic 9 : ['dragon', 'castle', 'queen', 'daffy', 'palace', 'kingdom', 'wu', 'sharpe', 'lord', 'turner', 'knight', 'crown', 'puppet', 'boone', 'give', 'fall', 'harper', 'fairy', 'judah', 'gopal']\n",
      "\n",
      "Topic 10 : ['band', 'race', 'win', 'horse', 'fight', 'mayor', 'competition', 'blue', 'samurai', 'local', 'town', 'roberts', 'match', 'train', 'fighter', 'compete', 'team', 'champion', 'challenge', 'crowd']\n",
      "\n",
      "Topic 11 : ['team', 'soldier', 'game', 'agent', 'mission', 'order', 'president', 'men', 'war', 'player', 'lead', 'base', 'group', 'army', 'vampire', 'use', 'attack', 'force', 'tank', 'general']\n",
      "\n",
      "Topic 12 : ['raju', 'murphy', 'kong', 'miller', 'bond', 'scholar', 'chinese', 'pirate', 'treasure', 'wong', 'smuggler', 'fei', 'gayatri', 'jeb', 'hill', 'baker', 'shanghai', 'crawford', 'meet', 'pizza']\n",
      "\n",
      "Topic 13 : ['island', 'water', 'boat', 'fly', 'attempt', 'fall', 'escape', 'head', 'rescue', 'group', 'plane', 'begin', 'land', 'snake', 'trap', 'egg', 'ship', 'another', 'animal', 'pilot']\n",
      "\n",
      "Topic 14 : ['train', 'group', 'camp', 'truck', 'town', 'gold', 'men', 'station', 'soldier', 'escape', 'travel', 'stop', 'survivor', 'hayes', 'mountain', 'prisoner', 'bus', 'mine', 'area', 'driver']\n",
      "\n",
      "Topic 15 : ['film', 'movie', 'show', 'story', 'character', 'play', 'life', 'scene', 'include', 'first', 'people', 'world', 'end', 'director', 'actor', 'part', 'set', 'interview', 'many', 'event']\n",
      "\n",
      "Topic 16 : ['wife', 'life', 'work', 'people', 'case', 'lead', 'death', 'murder', 'involve', 'woman', 'doctor', 'time', 'story', 'state', 'begin', 'know', 'family', 'even', 'believe', 'place']\n",
      "\n",
      "Topic 17 : ['father', 'school', 'girl', 'brother', 'village', 'daughter', 'family', 'student', 'fall', 'mother', 'boy', 'friend', 'marry', 'help', 'sister', 'know', 'meet', 'want', 'decide', 'start']\n",
      "\n",
      "Topic 18 : ['bugs', 'end', 'mouse', 'godzilla', 'wile', 'start', 'fall', 'porky', 'coyote', 'duck', 'rabbit', 'kamini', 'turn', 'cause', 'hit', 'use', 'head', 'play', 'ball', 'attempt']\n",
      "\n",
      "Topic 19 : ['kill', 'use', 'destroy', 'attack', 'world', 'fight', 'escape', 'earth', 'human', 'force', 'return', 'save', 'discover', 'power', 'capture', 'battle', 'monster', 'time', 'reveal', 'attempt']\n",
      "\n"
     ]
    }
   ],
   "source": [
    "for i in topics_:\n",
    "    message = \"Topic {} : \".format(i) \n",
    "    words = str([k for (k,v) in topics_[i]])\n",
    "    print(message+words)\n",
    "    print()"
   ]
  },
  {
   "cell_type": "markdown",
   "id": "639dccf1-c908-4333-b68f-9a7f75204194",
   "metadata": {
    "tags": []
   },
   "source": [
    "### 3.1.5 Topic Visualizations <a id='3.1.5'></a>"
   ]
  },
  {
   "cell_type": "code",
   "execution_count": null,
   "id": "7b2afa5e",
   "metadata": {},
   "outputs": [],
   "source": [
    "%matplotlib inline\n",
    "vis = gensimvis.prepare(topic_model=lda_model, corpus=corpus, dictionary=dictionary_LDA)\n",
    "pyLDAvis.enable_notebook()\n",
    "pyLDAvis.display(vis)"
   ]
  },
  {
   "cell_type": "markdown",
   "id": "2bfe4e3d-3e8a-41ba-b2cf-c232e3bc2cee",
   "metadata": {
    "tags": []
   },
   "source": [
    "### 3.1.6 Assigning topics to movies <a id='3.1.6'></a>"
   ]
  },
  {
   "cell_type": "code",
   "execution_count": 159,
   "id": "dfb28a9d",
   "metadata": {},
   "outputs": [],
   "source": [
    "def most_probable_topic(possible_topics):\n",
    "    possible_topics.sort(reverse=True, key = takeSecond)\n",
    "    return possible_topics[0][0]"
   ]
  },
  {
   "cell_type": "code",
   "execution_count": 160,
   "id": "131b101b",
   "metadata": {},
   "outputs": [
    {
     "name": "stderr",
     "output_type": "stream",
     "text": [
      "100%|███████████████████████████████████| 42276/42276 [00:18<00:00, 2309.42it/s]\n"
     ]
    }
   ],
   "source": [
    "chosen_topics = list()\n",
    "for plot in tqdm(corpus):\n",
    "    possible_topics = lda_model[plot]\n",
    "    chosen_topic = most_probable_topic(possible_topics)\n",
    "    chosen_topics.append(chosen_topic)\n",
    "\n",
    "chosen_topics = np.array(chosen_topics)"
   ]
  },
  {
   "cell_type": "code",
   "execution_count": 161,
   "id": "d4d5de8d",
   "metadata": {},
   "outputs": [
    {
     "data": {
      "text/html": [
       "<div>\n",
       "<style scoped>\n",
       "    .dataframe tbody tr th:only-of-type {\n",
       "        vertical-align: middle;\n",
       "    }\n",
       "\n",
       "    .dataframe tbody tr th {\n",
       "        vertical-align: top;\n",
       "    }\n",
       "\n",
       "    .dataframe thead th {\n",
       "        text-align: right;\n",
       "    }\n",
       "</style>\n",
       "<table border=\"1\" class=\"dataframe\">\n",
       "  <thead>\n",
       "    <tr style=\"text-align: right;\">\n",
       "      <th></th>\n",
       "      <th>Topic</th>\n",
       "      <th>Index</th>\n",
       "    </tr>\n",
       "  </thead>\n",
       "  <tbody>\n",
       "    <tr>\n",
       "      <th>0</th>\n",
       "      <td>2</td>\n",
       "      <td>0</td>\n",
       "    </tr>\n",
       "    <tr>\n",
       "      <th>1</th>\n",
       "      <td>19</td>\n",
       "      <td>1</td>\n",
       "    </tr>\n",
       "    <tr>\n",
       "      <th>2</th>\n",
       "      <td>16</td>\n",
       "      <td>2</td>\n",
       "    </tr>\n",
       "    <tr>\n",
       "      <th>3</th>\n",
       "      <td>1</td>\n",
       "      <td>3</td>\n",
       "    </tr>\n",
       "    <tr>\n",
       "      <th>4</th>\n",
       "      <td>16</td>\n",
       "      <td>4</td>\n",
       "    </tr>\n",
       "  </tbody>\n",
       "</table>\n",
       "</div>"
      ],
      "text/plain": [
       "   Topic  Index\n",
       "0      2      0\n",
       "1     19      1\n",
       "2     16      2\n",
       "3      1      3\n",
       "4     16      4"
      ]
     },
     "metadata": {},
     "output_type": "display_data"
    }
   ],
   "source": [
    "topics_df = pd.DataFrame(chosen_topics, columns = [\"Topic\"]) #Rename this to Topic_LDA\n",
    "\n",
    "topics_df[\"Index\"] = topics_df.index\n",
    "\n",
    "display(topics_df.head())"
   ]
  },
  {
   "cell_type": "code",
   "execution_count": 163,
   "id": "6dfd6755",
   "metadata": {},
   "outputs": [],
   "source": [
    "plot_summaries[\"Index\"] = plot_summaries.index\n",
    "\n",
    "plot_summaries = plot_summaries.merge(topics_df, left_on=\"Index\", right_on=\"Index\").drop(columns=[\"Index\"])"
   ]
  },
  {
   "cell_type": "code",
   "execution_count": 165,
   "id": "276bd929",
   "metadata": {},
   "outputs": [
    {
     "data": {
      "text/html": [
       "<div>\n",
       "<style scoped>\n",
       "    .dataframe tbody tr th:only-of-type {\n",
       "        vertical-align: middle;\n",
       "    }\n",
       "\n",
       "    .dataframe tbody tr th {\n",
       "        vertical-align: top;\n",
       "    }\n",
       "\n",
       "    .dataframe thead th {\n",
       "        text-align: right;\n",
       "    }\n",
       "</style>\n",
       "<table border=\"1\" class=\"dataframe\">\n",
       "  <thead>\n",
       "    <tr style=\"text-align: right;\">\n",
       "      <th></th>\n",
       "      <th>WikiMovieID</th>\n",
       "      <th>Plot</th>\n",
       "      <th>Topic</th>\n",
       "    </tr>\n",
       "  </thead>\n",
       "  <tbody>\n",
       "    <tr>\n",
       "      <th>0</th>\n",
       "      <td>23890098</td>\n",
       "      <td>Shlykov, a hard-working taxi driver and Lyosha...</td>\n",
       "      <td>2</td>\n",
       "    </tr>\n",
       "    <tr>\n",
       "      <th>1</th>\n",
       "      <td>31186339</td>\n",
       "      <td>The nation of Panem consists of a wealthy Capi...</td>\n",
       "      <td>19</td>\n",
       "    </tr>\n",
       "    <tr>\n",
       "      <th>2</th>\n",
       "      <td>20663735</td>\n",
       "      <td>Poovalli Induchoodan  is sentenced for six yea...</td>\n",
       "      <td>16</td>\n",
       "    </tr>\n",
       "    <tr>\n",
       "      <th>3</th>\n",
       "      <td>2231378</td>\n",
       "      <td>The Lemon Drop Kid , a New York City swindler,...</td>\n",
       "      <td>1</td>\n",
       "    </tr>\n",
       "    <tr>\n",
       "      <th>4</th>\n",
       "      <td>595909</td>\n",
       "      <td>Seventh-day Adventist Church pastor Michael Ch...</td>\n",
       "      <td>16</td>\n",
       "    </tr>\n",
       "  </tbody>\n",
       "</table>\n",
       "</div>"
      ],
      "text/plain": [
       "   WikiMovieID                                               Plot  Topic\n",
       "0     23890098  Shlykov, a hard-working taxi driver and Lyosha...      2\n",
       "1     31186339  The nation of Panem consists of a wealthy Capi...     19\n",
       "2     20663735  Poovalli Induchoodan  is sentenced for six yea...     16\n",
       "3      2231378  The Lemon Drop Kid , a New York City swindler,...      1\n",
       "4       595909  Seventh-day Adventist Church pastor Michael Ch...     16"
      ]
     },
     "execution_count": 165,
     "metadata": {},
     "output_type": "execute_result"
    }
   ],
   "source": [
    "plot_summaries[[\"WikiMovieID\", \"Plot\", \"Topic\"]].head() # Can merge again with movies "
   ]
  },
  {
   "cell_type": "markdown",
   "id": "68cdf064-7568-4af8-b1d5-ee75f090925e",
   "metadata": {},
   "source": [
    "#### Saving `movies`"
   ]
  },
  {
   "cell_type": "code",
   "execution_count": 166,
   "id": "971ea89d",
   "metadata": {},
   "outputs": [],
   "source": [
    "merging_cols = list(plot_summaries.columns.difference(movies.columns)) + [\"WikiMovieID\"]\n",
    "movies = movies.merge(plot_summaries[merging_cols], how=\"left\", on=\"WikiMovieID\")"
   ]
  },
  {
   "cell_type": "code",
   "execution_count": 168,
   "id": "ae95a9a1",
   "metadata": {},
   "outputs": [],
   "source": [
    "os.makedirs('data', exist_ok=True)  \n",
    "movies.to_pickle('data/movies_aug3.pkl')"
   ]
  },
  {
   "cell_type": "code",
   "execution_count": 6,
   "id": "84175ef1",
   "metadata": {},
   "outputs": [],
   "source": [
    "movies = pd.read_pickle('data/movies_aug3.pkl')"
   ]
  },
  {
   "cell_type": "markdown",
   "id": "c8a0eb59",
   "metadata": {
    "id": "c8a0eb59",
    "tags": []
   },
   "source": [
    "## 3.2 BERTopic"
   ]
  },
  {
   "cell_type": "markdown",
   "id": "5a94d81b-baff-4f2b-a959-bfdb73f8f38e",
   "metadata": {
    "tags": []
   },
   "source": [
    "### 3.2.1 Data preparation <a id='3.2.1'></a>"
   ]
  },
  {
   "cell_type": "code",
   "execution_count": 15,
   "id": "be9026fb",
   "metadata": {},
   "outputs": [
    {
     "name": "stderr",
     "output_type": "stream",
     "text": [
      "100%|████████████████████████████████████| 42490/42490 [05:23<00:00, 131.41it/s]\n"
     ]
    }
   ],
   "source": [
    "# List of docs\n",
    "docs = movies[~movies.Plot.isna()].Plot.tolist()\n",
    "\n",
    "# List of punctuation marks\n",
    "punctuations = list()\n",
    "for punctuation in string.punctuation:\n",
    "    punctuations.append(punctuation)\n",
    "\n",
    "# Stopwords to use\n",
    "stop_words = list(set(stopwords.words('english'))) + punctuations + names\n",
    "\n",
    "# Tokenization : List of Lists of Tokens\n",
    "docs_tokenized = [word_tokenize(doc) for doc in docs]\n",
    "\n",
    "# Removing the stopwords\n",
    "filtered_docs = list()\n",
    "for doc in tqdm(docs_tokenized):\n",
    "    filtered_doc = \" \".join([w.lower() for w in doc if not w.lower() in stop_words])\n",
    "    filtered_docs.append(filtered_doc)"
   ]
  },
  {
   "cell_type": "markdown",
   "id": "c55c36fd-c598-44a7-bba3-24b03c956f30",
   "metadata": {
    "tags": []
   },
   "source": [
    "### 3.2.2 Implementation <a id='3.2.2'></a>"
   ]
  },
  {
   "cell_type": "markdown",
   "id": "7f0036ff-33d4-4911-a4cb-49a38d33e1d5",
   "metadata": {},
   "source": [
    "BERT is a transformer-based machine learning technique which is unfortunately extremely heavy (?) computation wise. Therefore, we decided to execute it in google colab to utilise the provided gpu. The instructions followed there are the same as the ones portrayed in this notebook. We then saved the model and its predictions. The model can be found in this [drive](https://www.google.com) UPDATE LINK"
   ]
  },
  {
   "cell_type": "code",
   "execution_count": 1,
   "id": "b3ae32ef",
   "metadata": {},
   "outputs": [],
   "source": [
    "model = BERTopic(language=\"english\")\n",
    "topics, probs = model.fit_transform(filtered_docs)"
   ]
  },
  {
   "cell_type": "markdown",
   "id": "5ddb17bc-e40b-476f-a1f0-271c667cd2e9",
   "metadata": {
    "tags": []
   },
   "source": [
    "### 3.2.3 Model Evaluation <a id='3.2.3'></a>"
   ]
  },
  {
   "cell_type": "markdown",
   "id": "3104c8e1-47b0-4a45-903b-ca9de892d1ed",
   "metadata": {},
   "source": [
    "We saved our model form cloud using `pickle` and the equivalent command given by the `bertopic` library. However when we try to load them we get the following error message : *RuntimeError: Attempting to deserialize object on a CUDA device but torch.cuda.is_available() is False. If you are running on a CPU-only machine, please use torch.load with map_location=torch.device('cpu') to map your storages to the CPU*. We don't really need this step to continue our analysis but it would be nice to load it as we can show the words associated to each topic and therefore the reason why we chose to name for each topic."
   ]
  },
  {
   "cell_type": "code",
   "execution_count": 31,
   "id": "a2992901-ec2a-4f1e-9328-89b138c63a59",
   "metadata": {},
   "outputs": [],
   "source": [
    "#model = BERTopic.load('models/BERTopic')\n",
    "#model = pickle.load(open('models/bert_model', 'rb'))"
   ]
  },
  {
   "cell_type": "markdown",
   "id": "c23c84d5-2e7b-4801-8b79-9702bbbb3c41",
   "metadata": {
    "tags": []
   },
   "source": [
    "### 3.2.4 Predictions <a id='3.2.4'></a>"
   ]
  },
  {
   "cell_type": "code",
   "execution_count": 7,
   "id": "2f67b5ce-6710-45d5-a5b7-b5e37e9c31d3",
   "metadata": {},
   "outputs": [],
   "source": [
    "bert_predictions = pd.read_pickle('predictions/bert_predictions.pkl')\n",
    "\n",
    "bert_predictions.rename(columns={\"Topic\":\"BERT\"}, inplace=True)"
   ]
  },
  {
   "cell_type": "markdown",
   "id": "419d6ff3-3ca7-4cdb-9ca0-228a1e446e4f",
   "metadata": {
    "tags": []
   },
   "source": [
    "### 3.2.5 Topic Visualizations <a id='3.2.5'></a>"
   ]
  },
  {
   "cell_type": "markdown",
   "id": "e55d8016-4d65-42b1-9478-f1805a265ee1",
   "metadata": {
    "tags": []
   },
   "source": [
    "### 3.2.6 Assigning topics to movies <a id='3.2.6'></a>"
   ]
  },
  {
   "cell_type": "code",
   "execution_count": 18,
   "id": "2e56d0c1-efdb-48af-b831-aee999deade8",
   "metadata": {},
   "outputs": [
    {
     "data": {
      "text/html": [
       "<div>\n",
       "<style scoped>\n",
       "    .dataframe tbody tr th:only-of-type {\n",
       "        vertical-align: middle;\n",
       "    }\n",
       "\n",
       "    .dataframe tbody tr th {\n",
       "        vertical-align: top;\n",
       "    }\n",
       "\n",
       "    .dataframe thead th {\n",
       "        text-align: right;\n",
       "    }\n",
       "</style>\n",
       "<table border=\"1\" class=\"dataframe\">\n",
       "  <thead>\n",
       "    <tr style=\"text-align: right;\">\n",
       "      <th></th>\n",
       "      <th>Plot</th>\n",
       "      <th>BERT</th>\n",
       "    </tr>\n",
       "  </thead>\n",
       "  <tbody>\n",
       "    <tr>\n",
       "      <th>0</th>\n",
       "      <td>Set in the second half of the 22nd century, th...</td>\n",
       "      <td>-1.0</td>\n",
       "    </tr>\n",
       "    <tr>\n",
       "      <th>1</th>\n",
       "      <td>NaN</td>\n",
       "      <td>NaN</td>\n",
       "    </tr>\n",
       "    <tr>\n",
       "      <th>2</th>\n",
       "      <td>NaN</td>\n",
       "      <td>NaN</td>\n",
       "    </tr>\n",
       "    <tr>\n",
       "      <th>3</th>\n",
       "      <td>A series of murders of rich young women throug...</td>\n",
       "      <td>0.0</td>\n",
       "    </tr>\n",
       "    <tr>\n",
       "      <th>4</th>\n",
       "      <td>Eva, an upper class housewife, becomes frustra...</td>\n",
       "      <td>-1.0</td>\n",
       "    </tr>\n",
       "  </tbody>\n",
       "</table>\n",
       "</div>"
      ],
      "text/plain": [
       "                                                Plot  BERT\n",
       "0  Set in the second half of the 22nd century, th...  -1.0\n",
       "1                                                NaN   NaN\n",
       "2                                                NaN   NaN\n",
       "3  A series of murders of rich young women throug...   0.0\n",
       "4  Eva, an upper class housewife, becomes frustra...  -1.0"
      ]
     },
     "execution_count": 18,
     "metadata": {},
     "output_type": "execute_result"
    }
   ],
   "source": [
    "movies = movies.merge(bert_predictions, how=\"left\", on=\"WikiMovieID\")\n",
    "movies[[\"Plot\", \"BERT\"]].head()"
   ]
  }
 ],
 "metadata": {
  "colab": {
   "collapsed_sections": [
    "83e4931d-c9c5-4216-a08d-5e021fc366ed",
    "63876bcb-2860-451c-b735-46c0d9eea01a",
    "36c9d8e9",
    "6f9943c3",
    "b3bef03c",
    "24f46c80",
    "da4dfb74",
    "6ba22ba2",
    "2c657085",
    "a1ebccbc",
    "359ec31c",
    "5edd742b",
    "c8a0eb59",
    "246235aa",
    "3d67fd5c",
    "aa4dabf3",
    "57ee736b",
    "2a890834"
   ],
   "provenance": []
  },
  "gpuClass": "standard",
  "kernelspec": {
   "display_name": "Python",
   "language": "python",
   "name": "python3"
  },
  "language_info": {
   "codemirror_mode": {
    "name": "ipython",
    "version": 3
   },
   "file_extension": ".py",
   "mimetype": "text/x-python",
   "name": "python",
   "nbconvert_exporter": "python",
   "pygments_lexer": "ipython3",
   "version": "3.8.10"
  }
 },
 "nbformat": 4,
 "nbformat_minor": 5
}
