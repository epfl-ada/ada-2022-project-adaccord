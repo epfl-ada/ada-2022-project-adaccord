{
 "cells": [
  {
   "cell_type": "markdown",
   "metadata": {
    "id": "bEZOjuleiQeT"
   },
   "source": [
    "# Setup\n"
   ]
  },
  {
   "cell_type": "code",
   "execution_count": 1,
   "metadata": {
    "id": "0feRV9UbiJj1"
   },
   "outputs": [],
   "source": [
    "import pandas as pd\n",
    "import json"
   ]
  },
  {
   "cell_type": "markdown",
   "metadata": {},
   "source": [
    "# METADATA"
   ]
  },
  {
   "cell_type": "markdown",
   "metadata": {},
   "source": [
    "1. `movie.metadata.tsv.gz` [3.4 M]\n",
    "\n",
    "\n",
    "Metadata for 81,741 movies, extracted from the Noverber 4, 2012 dump of Freebase.  Tab-separated; columns:\n",
    "\n",
    "1. Wikipedia movie ID\n",
    "2. Freebase movie ID\n",
    "3. Movie name\n",
    "4. Movie release date\n",
    "5. Movie box office revenue\n",
    "6. Movie runtime\n",
    "7. Movie languages (Freebase ID:name tuples)\n",
    "8. Movie countries (Freebase ID:name tuples)\n",
    "9. Movie genres (Freebase ID:name tuples)\n",
    "\n",
    "\n",
    "\n",
    "2. `character.metadata.tsv.gz` [14 M]\n",
    "\n",
    "Metadata for 450,669 characters aligned to the movies above, extracted from the Noverber 4, 2012 dump of Freebase.  Tab-separated; columns:\n",
    "\n",
    "1. Wikipedia movie ID\n",
    "2. Freebase movie ID\n",
    "3. Movie release date\n",
    "4. Character name\n",
    "5. Actor date of birth\n",
    "6. Actor gender\n",
    "7. Actor height (in meters)\n",
    "8. Actor ethnicity (Freebase ID)\n",
    "9. Actor name\n",
    "10. Actor age at movie release\n",
    "11. Freebase character/actor map ID\n",
    "12. Freebase character ID\n",
    "13. Freebase actor ID"
   ]
  },
  {
   "cell_type": "markdown",
   "metadata": {
    "id": "haFE2mt8iQnC"
   },
   "source": [
    "# Importing the datasets\n"
   ]
  },
  {
   "cell_type": "code",
   "execution_count": 2,
   "metadata": {
    "id": "Lh7MrLDZiVK2"
   },
   "outputs": [],
   "source": [
    "movies_path = \"data/movie.metadata.tsv\"\n",
    "character_path = \"data/character.metadata.tsv\"\n",
    "\n",
    "movie_column_names = [\"WikiID\", \"FreeID\", \"Title\", \"RelDate\", \"Revenue\", \"Runtime\", \"Languages\", \"Countries\", \"Genres\"]\n",
    "character_column_names = [\"WikiID\", \"FreeID\", \"MovieRelDate\", \"CharName\", \"DOB\", \"Gender\", \"Height\", \"Ethnicity\", \"Actor\", \"Age\", \"FreeMapID\", \"FreeCharID\", \"FreeActorID\"]\n",
    "\n",
    "movies = pd.read_csv(movies_path, sep='\\t', header=None, names=movie_column_names)\n",
    "characters = pd.read_csv(character_path, sep='\\t', header=None, names=character_column_names)"
   ]
  },
  {
   "cell_type": "markdown",
   "metadata": {
    "id": "-UY2gXSMjENs"
   },
   "source": [
    "# Looking at the data"
   ]
  },
  {
   "cell_type": "code",
   "execution_count": 3,
   "metadata": {
    "colab": {
     "base_uri": "https://localhost:8080/",
     "height": 395
    },
    "id": "0CjYHaB8jDbi",
    "outputId": "82c1dbfb-c311-4816-9dcb-c10952ca5c16"
   },
   "outputs": [
    {
     "data": {
      "text/html": [
       "<div>\n",
       "<style scoped>\n",
       "    .dataframe tbody tr th:only-of-type {\n",
       "        vertical-align: middle;\n",
       "    }\n",
       "\n",
       "    .dataframe tbody tr th {\n",
       "        vertical-align: top;\n",
       "    }\n",
       "\n",
       "    .dataframe thead th {\n",
       "        text-align: right;\n",
       "    }\n",
       "</style>\n",
       "<table border=\"1\" class=\"dataframe\">\n",
       "  <thead>\n",
       "    <tr style=\"text-align: right;\">\n",
       "      <th></th>\n",
       "      <th>WikiID</th>\n",
       "      <th>FreeID</th>\n",
       "      <th>Title</th>\n",
       "      <th>RelDate</th>\n",
       "      <th>Revenue</th>\n",
       "      <th>Runtime</th>\n",
       "      <th>Languages</th>\n",
       "      <th>Countries</th>\n",
       "      <th>Genres</th>\n",
       "    </tr>\n",
       "  </thead>\n",
       "  <tbody>\n",
       "    <tr>\n",
       "      <th>0</th>\n",
       "      <td>975900</td>\n",
       "      <td>/m/03vyhn</td>\n",
       "      <td>Ghosts of Mars</td>\n",
       "      <td>2001-08-24</td>\n",
       "      <td>14010832.0</td>\n",
       "      <td>98.0</td>\n",
       "      <td>{\"/m/02h40lc\": \"English Language\"}</td>\n",
       "      <td>{\"/m/09c7w0\": \"United States of America\"}</td>\n",
       "      <td>{\"/m/01jfsb\": \"Thriller\", \"/m/06n90\": \"Science...</td>\n",
       "    </tr>\n",
       "    <tr>\n",
       "      <th>1</th>\n",
       "      <td>3196793</td>\n",
       "      <td>/m/08yl5d</td>\n",
       "      <td>Getting Away with Murder: The JonBenét Ramsey ...</td>\n",
       "      <td>2000-02-16</td>\n",
       "      <td>NaN</td>\n",
       "      <td>95.0</td>\n",
       "      <td>{\"/m/02h40lc\": \"English Language\"}</td>\n",
       "      <td>{\"/m/09c7w0\": \"United States of America\"}</td>\n",
       "      <td>{\"/m/02n4kr\": \"Mystery\", \"/m/03bxz7\": \"Biograp...</td>\n",
       "    </tr>\n",
       "    <tr>\n",
       "      <th>2</th>\n",
       "      <td>28463795</td>\n",
       "      <td>/m/0crgdbh</td>\n",
       "      <td>Brun bitter</td>\n",
       "      <td>1988</td>\n",
       "      <td>NaN</td>\n",
       "      <td>83.0</td>\n",
       "      <td>{\"/m/05f_3\": \"Norwegian Language\"}</td>\n",
       "      <td>{\"/m/05b4w\": \"Norway\"}</td>\n",
       "      <td>{\"/m/0lsxr\": \"Crime Fiction\", \"/m/07s9rl0\": \"D...</td>\n",
       "    </tr>\n",
       "    <tr>\n",
       "      <th>3</th>\n",
       "      <td>9363483</td>\n",
       "      <td>/m/0285_cd</td>\n",
       "      <td>White Of The Eye</td>\n",
       "      <td>1987</td>\n",
       "      <td>NaN</td>\n",
       "      <td>110.0</td>\n",
       "      <td>{\"/m/02h40lc\": \"English Language\"}</td>\n",
       "      <td>{\"/m/07ssc\": \"United Kingdom\"}</td>\n",
       "      <td>{\"/m/01jfsb\": \"Thriller\", \"/m/0glj9q\": \"Erotic...</td>\n",
       "    </tr>\n",
       "    <tr>\n",
       "      <th>4</th>\n",
       "      <td>261236</td>\n",
       "      <td>/m/01mrr1</td>\n",
       "      <td>A Woman in Flames</td>\n",
       "      <td>1983</td>\n",
       "      <td>NaN</td>\n",
       "      <td>106.0</td>\n",
       "      <td>{\"/m/04306rv\": \"German Language\"}</td>\n",
       "      <td>{\"/m/0345h\": \"Germany\"}</td>\n",
       "      <td>{\"/m/07s9rl0\": \"Drama\"}</td>\n",
       "    </tr>\n",
       "  </tbody>\n",
       "</table>\n",
       "</div>"
      ],
      "text/plain": [
       "     WikiID      FreeID                                              Title  \\\n",
       "0    975900   /m/03vyhn                                     Ghosts of Mars   \n",
       "1   3196793   /m/08yl5d  Getting Away with Murder: The JonBenét Ramsey ...   \n",
       "2  28463795  /m/0crgdbh                                        Brun bitter   \n",
       "3   9363483  /m/0285_cd                                   White Of The Eye   \n",
       "4    261236   /m/01mrr1                                  A Woman in Flames   \n",
       "\n",
       "      RelDate     Revenue  Runtime                           Languages  \\\n",
       "0  2001-08-24  14010832.0     98.0  {\"/m/02h40lc\": \"English Language\"}   \n",
       "1  2000-02-16         NaN     95.0  {\"/m/02h40lc\": \"English Language\"}   \n",
       "2        1988         NaN     83.0  {\"/m/05f_3\": \"Norwegian Language\"}   \n",
       "3        1987         NaN    110.0  {\"/m/02h40lc\": \"English Language\"}   \n",
       "4        1983         NaN    106.0   {\"/m/04306rv\": \"German Language\"}   \n",
       "\n",
       "                                   Countries  \\\n",
       "0  {\"/m/09c7w0\": \"United States of America\"}   \n",
       "1  {\"/m/09c7w0\": \"United States of America\"}   \n",
       "2                     {\"/m/05b4w\": \"Norway\"}   \n",
       "3             {\"/m/07ssc\": \"United Kingdom\"}   \n",
       "4                    {\"/m/0345h\": \"Germany\"}   \n",
       "\n",
       "                                              Genres  \n",
       "0  {\"/m/01jfsb\": \"Thriller\", \"/m/06n90\": \"Science...  \n",
       "1  {\"/m/02n4kr\": \"Mystery\", \"/m/03bxz7\": \"Biograp...  \n",
       "2  {\"/m/0lsxr\": \"Crime Fiction\", \"/m/07s9rl0\": \"D...  \n",
       "3  {\"/m/01jfsb\": \"Thriller\", \"/m/0glj9q\": \"Erotic...  \n",
       "4                            {\"/m/07s9rl0\": \"Drama\"}  "
      ]
     },
     "metadata": {},
     "output_type": "display_data"
    },
    {
     "data": {
      "text/html": [
       "<div>\n",
       "<style scoped>\n",
       "    .dataframe tbody tr th:only-of-type {\n",
       "        vertical-align: middle;\n",
       "    }\n",
       "\n",
       "    .dataframe tbody tr th {\n",
       "        vertical-align: top;\n",
       "    }\n",
       "\n",
       "    .dataframe thead th {\n",
       "        text-align: right;\n",
       "    }\n",
       "</style>\n",
       "<table border=\"1\" class=\"dataframe\">\n",
       "  <thead>\n",
       "    <tr style=\"text-align: right;\">\n",
       "      <th></th>\n",
       "      <th>WikiID</th>\n",
       "      <th>FreeID</th>\n",
       "      <th>MovieRelDate</th>\n",
       "      <th>CharName</th>\n",
       "      <th>DOB</th>\n",
       "      <th>Gender</th>\n",
       "      <th>Height</th>\n",
       "      <th>Ethnicity</th>\n",
       "      <th>Actor</th>\n",
       "      <th>Age</th>\n",
       "      <th>FreeMapID</th>\n",
       "      <th>FreeCharID</th>\n",
       "      <th>FreeActorID</th>\n",
       "    </tr>\n",
       "  </thead>\n",
       "  <tbody>\n",
       "    <tr>\n",
       "      <th>0</th>\n",
       "      <td>975900</td>\n",
       "      <td>/m/03vyhn</td>\n",
       "      <td>2001-08-24</td>\n",
       "      <td>Akooshay</td>\n",
       "      <td>1958-08-26</td>\n",
       "      <td>F</td>\n",
       "      <td>1.620</td>\n",
       "      <td>NaN</td>\n",
       "      <td>Wanda De Jesus</td>\n",
       "      <td>42.0</td>\n",
       "      <td>/m/0bgchxw</td>\n",
       "      <td>/m/0bgcj3x</td>\n",
       "      <td>/m/03wcfv7</td>\n",
       "    </tr>\n",
       "    <tr>\n",
       "      <th>1</th>\n",
       "      <td>975900</td>\n",
       "      <td>/m/03vyhn</td>\n",
       "      <td>2001-08-24</td>\n",
       "      <td>Lieutenant Melanie Ballard</td>\n",
       "      <td>1974-08-15</td>\n",
       "      <td>F</td>\n",
       "      <td>1.780</td>\n",
       "      <td>/m/044038p</td>\n",
       "      <td>Natasha Henstridge</td>\n",
       "      <td>27.0</td>\n",
       "      <td>/m/0jys3m</td>\n",
       "      <td>/m/0bgchn4</td>\n",
       "      <td>/m/0346l4</td>\n",
       "    </tr>\n",
       "    <tr>\n",
       "      <th>2</th>\n",
       "      <td>975900</td>\n",
       "      <td>/m/03vyhn</td>\n",
       "      <td>2001-08-24</td>\n",
       "      <td>Desolation Williams</td>\n",
       "      <td>1969-06-15</td>\n",
       "      <td>M</td>\n",
       "      <td>1.727</td>\n",
       "      <td>/m/0x67</td>\n",
       "      <td>Ice Cube</td>\n",
       "      <td>32.0</td>\n",
       "      <td>/m/0jys3g</td>\n",
       "      <td>/m/0bgchn_</td>\n",
       "      <td>/m/01vw26l</td>\n",
       "    </tr>\n",
       "    <tr>\n",
       "      <th>3</th>\n",
       "      <td>975900</td>\n",
       "      <td>/m/03vyhn</td>\n",
       "      <td>2001-08-24</td>\n",
       "      <td>Sgt Jericho Butler</td>\n",
       "      <td>1967-09-12</td>\n",
       "      <td>M</td>\n",
       "      <td>1.750</td>\n",
       "      <td>NaN</td>\n",
       "      <td>Jason Statham</td>\n",
       "      <td>33.0</td>\n",
       "      <td>/m/02vchl6</td>\n",
       "      <td>/m/0bgchnq</td>\n",
       "      <td>/m/034hyc</td>\n",
       "    </tr>\n",
       "    <tr>\n",
       "      <th>4</th>\n",
       "      <td>975900</td>\n",
       "      <td>/m/03vyhn</td>\n",
       "      <td>2001-08-24</td>\n",
       "      <td>Bashira Kincaid</td>\n",
       "      <td>1977-09-25</td>\n",
       "      <td>F</td>\n",
       "      <td>1.650</td>\n",
       "      <td>NaN</td>\n",
       "      <td>Clea DuVall</td>\n",
       "      <td>23.0</td>\n",
       "      <td>/m/02vbb3r</td>\n",
       "      <td>/m/0bgchp9</td>\n",
       "      <td>/m/01y9xg</td>\n",
       "    </tr>\n",
       "  </tbody>\n",
       "</table>\n",
       "</div>"
      ],
      "text/plain": [
       "   WikiID     FreeID MovieRelDate                    CharName         DOB  \\\n",
       "0  975900  /m/03vyhn   2001-08-24                    Akooshay  1958-08-26   \n",
       "1  975900  /m/03vyhn   2001-08-24  Lieutenant Melanie Ballard  1974-08-15   \n",
       "2  975900  /m/03vyhn   2001-08-24         Desolation Williams  1969-06-15   \n",
       "3  975900  /m/03vyhn   2001-08-24          Sgt Jericho Butler  1967-09-12   \n",
       "4  975900  /m/03vyhn   2001-08-24             Bashira Kincaid  1977-09-25   \n",
       "\n",
       "  Gender  Height   Ethnicity               Actor   Age   FreeMapID  \\\n",
       "0      F   1.620         NaN      Wanda De Jesus  42.0  /m/0bgchxw   \n",
       "1      F   1.780  /m/044038p  Natasha Henstridge  27.0   /m/0jys3m   \n",
       "2      M   1.727     /m/0x67            Ice Cube  32.0   /m/0jys3g   \n",
       "3      M   1.750         NaN       Jason Statham  33.0  /m/02vchl6   \n",
       "4      F   1.650         NaN         Clea DuVall  23.0  /m/02vbb3r   \n",
       "\n",
       "   FreeCharID FreeActorID  \n",
       "0  /m/0bgcj3x  /m/03wcfv7  \n",
       "1  /m/0bgchn4   /m/0346l4  \n",
       "2  /m/0bgchn_  /m/01vw26l  \n",
       "3  /m/0bgchnq   /m/034hyc  \n",
       "4  /m/0bgchp9   /m/01y9xg  "
      ]
     },
     "metadata": {},
     "output_type": "display_data"
    }
   ],
   "source": [
    "display(movies.head())\n",
    "display(characters.head())"
   ]
  },
  {
   "cell_type": "markdown",
   "metadata": {
    "id": "X6iUOgrb_zJk"
   },
   "source": [
    "\n",
    "\n",
    "*   Note : `RelDate`doesn't have a standard format\n",
    "\n"
   ]
  },
  {
   "cell_type": "markdown",
   "metadata": {},
   "source": [
    "### Exploring length of the two datasets"
   ]
  },
  {
   "cell_type": "code",
   "execution_count": 4,
   "metadata": {},
   "outputs": [
    {
     "name": "stdout",
     "output_type": "stream",
     "text": [
      "Number of rows in the movie.metadata dataset : 81741\n",
      "Number of rows in the character.metadata dataset : 450669\n"
     ]
    }
   ],
   "source": [
    "n_mov = len(movies)\n",
    "n_char = len(characters)\n",
    "print('Number of rows in the movie.metadata dataset :', n_mov)\n",
    "print('Number of rows in the character.metadata dataset :', n_char)"
   ]
  },
  {
   "cell_type": "markdown",
   "metadata": {
    "id": "rjVmf5vLn1Ag"
   },
   "source": [
    "# Cleaning Dictionaries\n",
    "Columns `Languages`, `Countries`, `Genres` contain wikipedia ID + actual name for each entry. For the moment, keeping just the name for the sake of clarity"
   ]
  },
  {
   "cell_type": "code",
   "execution_count": 5,
   "metadata": {
    "id": "jgCSb-o_lbq_"
   },
   "outputs": [],
   "source": [
    "def extract_values(column):\n",
    "  values = []\n",
    "  column=json.loads(column)\n",
    "  for key in column:\n",
    "    values.append(column[key])\n",
    "  return values\n",
    "\n",
    "movies.Languages = movies.Languages.apply(extract_values)\n",
    "movies.Countries = movies.Countries.apply(extract_values)\n",
    "movies.Genres = movies.Genres.apply(extract_values)"
   ]
  },
  {
   "cell_type": "code",
   "execution_count": 6,
   "metadata": {
    "colab": {
     "base_uri": "https://localhost:8080/",
     "height": 112
    },
    "id": "zjW3fO0Ol9jF",
    "outputId": "d884b570-b8c7-4842-805b-6ed0eeeb28a5"
   },
   "outputs": [
    {
     "data": {
      "text/html": [
       "<div>\n",
       "<style scoped>\n",
       "    .dataframe tbody tr th:only-of-type {\n",
       "        vertical-align: middle;\n",
       "    }\n",
       "\n",
       "    .dataframe tbody tr th {\n",
       "        vertical-align: top;\n",
       "    }\n",
       "\n",
       "    .dataframe thead th {\n",
       "        text-align: right;\n",
       "    }\n",
       "</style>\n",
       "<table border=\"1\" class=\"dataframe\">\n",
       "  <thead>\n",
       "    <tr style=\"text-align: right;\">\n",
       "      <th></th>\n",
       "      <th>Languages</th>\n",
       "      <th>Countries</th>\n",
       "      <th>Genres</th>\n",
       "    </tr>\n",
       "  </thead>\n",
       "  <tbody>\n",
       "    <tr>\n",
       "      <th>0</th>\n",
       "      <td>[English Language]</td>\n",
       "      <td>[United States of America]</td>\n",
       "      <td>[Thriller, Science Fiction, Horror, Adventure,...</td>\n",
       "    </tr>\n",
       "    <tr>\n",
       "      <th>1</th>\n",
       "      <td>[English Language]</td>\n",
       "      <td>[United States of America]</td>\n",
       "      <td>[Mystery, Biographical film, Drama, Crime Drama]</td>\n",
       "    </tr>\n",
       "  </tbody>\n",
       "</table>\n",
       "</div>"
      ],
      "text/plain": [
       "            Languages                   Countries  \\\n",
       "0  [English Language]  [United States of America]   \n",
       "1  [English Language]  [United States of America]   \n",
       "\n",
       "                                              Genres  \n",
       "0  [Thriller, Science Fiction, Horror, Adventure,...  \n",
       "1   [Mystery, Biographical film, Drama, Crime Drama]  "
      ]
     },
     "metadata": {},
     "output_type": "display_data"
    }
   ],
   "source": [
    "display(movies[[\"Languages\", \"Countries\", \"Genres\"]].head(2))"
   ]
  },
  {
   "cell_type": "markdown",
   "metadata": {
    "id": "WVAODRGY4OmE"
   },
   "source": [
    "# Duplicates"
   ]
  },
  {
   "cell_type": "code",
   "execution_count": 7,
   "metadata": {
    "colab": {
     "base_uri": "https://localhost:8080/"
    },
    "id": "moSpedsF4QP8",
    "outputId": "68874924-0ddd-4757-e01a-43cfe78e191d"
   },
   "outputs": [
    {
     "name": "stdout",
     "output_type": "stream",
     "text": [
      "WikiID has 0 duplicated rows\n",
      "FreeID has 0 duplicated rows\n",
      "Title has 6263 duplicated rows\n",
      "RelDate has 61351 duplicated rows\n",
      "Revenue has 74378 duplicated rows\n",
      "Runtime has 81143 duplicated rows\n",
      "Languages has 79924 duplicated rows\n",
      "Countries has 79617 duplicated rows\n",
      "Genres has 57924 duplicated rows\n"
     ]
    }
   ],
   "source": [
    "for column in movies.columns:\n",
    "  duplicated_rows = movies[column].duplicated().sum()\n",
    "  print(\"{} has {} duplicated rows\".format(column, duplicated_rows))"
   ]
  },
  {
   "cell_type": "markdown",
   "metadata": {
    "id": "z-OCRjOv6OLy"
   },
   "source": [
    "`WikiID`& `FreeID`-> Good\n",
    "\n",
    "`Title`-> Bit concerning -> Check with Runtime\n",
    "\n",
    "\n",
    "> ~~Runtime not enough. There are :~~\n",
    "\n",
    "1.   ~~Movies with same runtime + Title but actually different~~\n",
    "2.   ~~Movies with same runtime + Title but actually the same~~\n",
    "\n",
    "\n",
    "\n"
   ]
  },
  {
   "cell_type": "code",
   "execution_count": 8,
   "metadata": {
    "colab": {
     "base_uri": "https://localhost:8080/",
     "height": 81
    },
    "id": "mwYgX2b9V-fE",
    "outputId": "bdb71854-bdd3-4f21-d866-0faa908a574f"
   },
   "outputs": [
    {
     "data": {
      "text/html": [
       "<div>\n",
       "<style scoped>\n",
       "    .dataframe tbody tr th:only-of-type {\n",
       "        vertical-align: middle;\n",
       "    }\n",
       "\n",
       "    .dataframe tbody tr th {\n",
       "        vertical-align: top;\n",
       "    }\n",
       "\n",
       "    .dataframe thead th {\n",
       "        text-align: right;\n",
       "    }\n",
       "</style>\n",
       "<table border=\"1\" class=\"dataframe\">\n",
       "  <thead>\n",
       "    <tr style=\"text-align: right;\">\n",
       "      <th></th>\n",
       "      <th>WikiID</th>\n",
       "      <th>FreeID</th>\n",
       "      <th>Title</th>\n",
       "      <th>RelDate</th>\n",
       "      <th>Revenue</th>\n",
       "      <th>Runtime</th>\n",
       "      <th>Languages</th>\n",
       "      <th>Countries</th>\n",
       "      <th>Genres</th>\n",
       "    </tr>\n",
       "  </thead>\n",
       "  <tbody>\n",
       "    <tr>\n",
       "      <th>62836</th>\n",
       "      <td>29666067</td>\n",
       "      <td>/m/0fphzrf</td>\n",
       "      <td>Hunting Season</td>\n",
       "      <td>1010-12-02</td>\n",
       "      <td>12160978.0</td>\n",
       "      <td>140.0</td>\n",
       "      <td>[Turkish Language, English Language]</td>\n",
       "      <td>[Turkey]</td>\n",
       "      <td>[Crime Fiction, Mystery, Drama, Thriller]</td>\n",
       "    </tr>\n",
       "  </tbody>\n",
       "</table>\n",
       "</div>"
      ],
      "text/plain": [
       "         WikiID      FreeID           Title     RelDate     Revenue  Runtime  \\\n",
       "62836  29666067  /m/0fphzrf  Hunting Season  1010-12-02  12160978.0    140.0   \n",
       "\n",
       "                                  Languages Countries  \\\n",
       "62836  [Turkish Language, English Language]  [Turkey]   \n",
       "\n",
       "                                          Genres  \n",
       "62836  [Crime Fiction, Mystery, Drama, Thriller]  "
      ]
     },
     "execution_count": 8,
     "metadata": {},
     "output_type": "execute_result"
    }
   ],
   "source": [
    "movies[movies.Title==\"Hunting Season\"]"
   ]
  },
  {
   "cell_type": "markdown",
   "metadata": {
    "id": "tAEMhesrWCPY"
   },
   "source": [
    "Wrong input for release date (1010->2010)"
   ]
  },
  {
   "cell_type": "code",
   "execution_count": 9,
   "metadata": {
    "colab": {
     "base_uri": "https://localhost:8080/",
     "height": 112
    },
    "id": "C8g5ZN_c7C-b",
    "outputId": "5fc871f2-fb2b-4650-bf6c-381596d624a7"
   },
   "outputs": [
    {
     "data": {
      "text/html": [
       "<div>\n",
       "<style scoped>\n",
       "    .dataframe tbody tr th:only-of-type {\n",
       "        vertical-align: middle;\n",
       "    }\n",
       "\n",
       "    .dataframe tbody tr th {\n",
       "        vertical-align: top;\n",
       "    }\n",
       "\n",
       "    .dataframe thead th {\n",
       "        text-align: right;\n",
       "    }\n",
       "</style>\n",
       "<table border=\"1\" class=\"dataframe\">\n",
       "  <thead>\n",
       "    <tr style=\"text-align: right;\">\n",
       "      <th></th>\n",
       "      <th>WikiID</th>\n",
       "      <th>FreeID</th>\n",
       "      <th>Title</th>\n",
       "      <th>RelDate</th>\n",
       "      <th>Revenue</th>\n",
       "      <th>Runtime</th>\n",
       "      <th>Languages</th>\n",
       "      <th>Countries</th>\n",
       "      <th>Genres</th>\n",
       "    </tr>\n",
       "  </thead>\n",
       "  <tbody>\n",
       "    <tr>\n",
       "      <th>623</th>\n",
       "      <td>3670013</td>\n",
       "      <td>/m/09thsq</td>\n",
       "      <td>Harlow</td>\n",
       "      <td>1965-06-23</td>\n",
       "      <td>1000000.0</td>\n",
       "      <td>109.0</td>\n",
       "      <td>[English Language]</td>\n",
       "      <td>[United States of America]</td>\n",
       "      <td>[Biographical film, Biography, Drama, Black-an...</td>\n",
       "    </tr>\n",
       "    <tr>\n",
       "      <th>1223</th>\n",
       "      <td>27171821</td>\n",
       "      <td>/m/0bwklv0</td>\n",
       "      <td>Harlow</td>\n",
       "      <td>1965</td>\n",
       "      <td>NaN</td>\n",
       "      <td>109.0</td>\n",
       "      <td>[]</td>\n",
       "      <td>[United States of America]</td>\n",
       "      <td>[Biographical film]</td>\n",
       "    </tr>\n",
       "  </tbody>\n",
       "</table>\n",
       "</div>"
      ],
      "text/plain": [
       "        WikiID      FreeID   Title     RelDate    Revenue  Runtime  \\\n",
       "623    3670013   /m/09thsq  Harlow  1965-06-23  1000000.0    109.0   \n",
       "1223  27171821  /m/0bwklv0  Harlow        1965        NaN    109.0   \n",
       "\n",
       "               Languages                   Countries  \\\n",
       "623   [English Language]  [United States of America]   \n",
       "1223                  []  [United States of America]   \n",
       "\n",
       "                                                 Genres  \n",
       "623   [Biographical film, Biography, Drama, Black-an...  \n",
       "1223                                [Biographical film]  "
      ]
     },
     "execution_count": 9,
     "metadata": {},
     "output_type": "execute_result"
    }
   ],
   "source": [
    "movies[movies.Title==\"Harlow\"]"
   ]
  },
  {
   "cell_type": "markdown",
   "metadata": {
    "id": "EM2wFqtq94YV"
   },
   "source": [
    "Actually these are 2 different movies BUT first movie `WikiID`=3670013 has wrong rutime (correct =125).\n",
    "\n",
    "So far couldn't find an example of a duplicated movie + No duplicated Wiki/Freebase IDs -> Lets trust the dataset 🙃"
   ]
  },
  {
   "cell_type": "markdown",
   "metadata": {},
   "source": [
    "# Missing values"
   ]
  },
  {
   "cell_type": "markdown",
   "metadata": {},
   "source": [
    "### Check for missing entries :\n",
    "In which columns are they present, and for those columns : what is the percentage how missing entries."
   ]
  },
  {
   "cell_type": "code",
   "execution_count": 10,
   "metadata": {},
   "outputs": [
    {
     "data": {
      "text/plain": [
       "WikiID       False\n",
       "FreeID       False\n",
       "Title        False\n",
       "RelDate       True\n",
       "Revenue       True\n",
       "Runtime       True\n",
       "Languages    False\n",
       "Countries    False\n",
       "Genres       False\n",
       "dtype: bool"
      ]
     },
     "execution_count": 10,
     "metadata": {},
     "output_type": "execute_result"
    }
   ],
   "source": [
    "movies.isna().any()"
   ]
  },
  {
   "cell_type": "code",
   "execution_count": 11,
   "metadata": {},
   "outputs": [
    {
     "name": "stdout",
     "output_type": "stream",
     "text": [
      "Percentage of missing entries in the movie dataset:\n",
      " RelDate     8.443743\n",
      "Revenue    89.722416\n",
      "Runtime    25.018045\n",
      "dtype: float64\n"
     ]
    }
   ],
   "source": [
    "print('Percentage of missing entries in the movie dataset:\\n', 100*movies[['RelDate', 'Revenue', 'Runtime']].isna().sum() / n_mov)"
   ]
  },
  {
   "cell_type": "markdown",
   "metadata": {},
   "source": [
    "There are 90% of revenues that are non specified. We probably won't be able to use this feature.  \n",
    "8% of the release dates and 25% of the runtimes are missing, we can fill them if we find the correct ones."
   ]
  },
  {
   "cell_type": "code",
   "execution_count": 12,
   "metadata": {},
   "outputs": [
    {
     "data": {
      "text/plain": [
       "WikiID          False\n",
       "FreeID          False\n",
       "MovieRelDate     True\n",
       "CharName         True\n",
       "DOB              True\n",
       "Gender           True\n",
       "Height           True\n",
       "Ethnicity        True\n",
       "Actor            True\n",
       "Age              True\n",
       "FreeMapID       False\n",
       "FreeCharID       True\n",
       "FreeActorID      True\n",
       "dtype: bool"
      ]
     },
     "execution_count": 12,
     "metadata": {},
     "output_type": "execute_result"
    }
   ],
   "source": [
    "characters.isna().any()"
   ]
  },
  {
   "cell_type": "code",
   "execution_count": 13,
   "metadata": {},
   "outputs": [
    {
     "name": "stdout",
     "output_type": "stream",
     "text": [
      "Percentage of missing entries in the character dataset:\n",
      " MovieRelDate     2.217814\n",
      "CharName        57.220488\n",
      "DOB             23.552763\n",
      "Gender          10.120288\n",
      "Height          65.645740\n",
      "Ethnicity       76.466542\n",
      "Actor            0.272484\n",
      "Age             35.084064\n",
      "FreeCharID      57.218269\n",
      "FreeActorID      0.180842\n",
      "dtype: float64\n"
     ]
    }
   ],
   "source": [
    "print('Percentage of missing entries in the character dataset:\\n', 100*characters[['MovieRelDate', 'CharName',\n",
    "                                                                                   'DOB', 'Gender', 'Height', 'Ethnicity',\n",
    "                                                                                   'Actor', 'Age', 'FreeCharID',\n",
    "                                                                                   'FreeActorID']].isna().sum() / n_char)"
   ]
  },
  {
   "cell_type": "markdown",
   "metadata": {},
   "source": [
    "# Wikidata API\n",
    "\n",
    "To begin with there are some features like `Ethnicity` and `FreeCharId`that only have the Id of the Freebase database whose API is currently depreciated. To solve this problem we use the [Freebase/Wikidata Mappings](https://developers.google.com/freebase#freebase-wikidata-mappings) which as the name suggests maps the given Freebase Ids to WikiData.\n",
    "\n",
    "- Note : The data has been created based on the Wikidata-Dump of October 28, 2013, and contains only those links that have at least two common Wikipedia-Links and not a single disagreeing Wikipedia-Link. Since the movies/characters dataset were gathered during that time too there is no time conflict."
   ]
  },
  {
   "cell_type": "code",
   "execution_count": 14,
   "metadata": {},
   "outputs": [
    {
     "data": {
      "text/html": [
       "<div>\n",
       "<style scoped>\n",
       "    .dataframe tbody tr th:only-of-type {\n",
       "        vertical-align: middle;\n",
       "    }\n",
       "\n",
       "    .dataframe tbody tr th {\n",
       "        vertical-align: top;\n",
       "    }\n",
       "\n",
       "    .dataframe thead th {\n",
       "        text-align: right;\n",
       "    }\n",
       "</style>\n",
       "<table border=\"1\" class=\"dataframe\">\n",
       "  <thead>\n",
       "    <tr style=\"text-align: right;\">\n",
       "      <th></th>\n",
       "      <th>Freebase</th>\n",
       "      <th>W3</th>\n",
       "      <th>Wiki</th>\n",
       "    </tr>\n",
       "  </thead>\n",
       "  <tbody>\n",
       "    <tr>\n",
       "      <th>0</th>\n",
       "      <td>&lt;http://rdf.freebase.com/ns/m.0695j&gt;</td>\n",
       "      <td>&lt;http://www.w3.org/2002/07/owl#sameAs&gt;</td>\n",
       "      <td>&lt;http://www.wikidata.org/entity/Q6718&gt; .</td>\n",
       "    </tr>\n",
       "    <tr>\n",
       "      <th>1</th>\n",
       "      <td>&lt;http://rdf.freebase.com/ns/m.05nrg&gt;</td>\n",
       "      <td>&lt;http://www.w3.org/2002/07/owl#sameAs&gt;</td>\n",
       "      <td>&lt;http://www.wikidata.org/entity/Q538&gt; .</td>\n",
       "    </tr>\n",
       "    <tr>\n",
       "      <th>2</th>\n",
       "      <td>&lt;http://rdf.freebase.com/ns/m.0jgd&gt;</td>\n",
       "      <td>&lt;http://www.w3.org/2002/07/owl#sameAs&gt;</td>\n",
       "      <td>&lt;http://www.wikidata.org/entity/Q414&gt; .</td>\n",
       "    </tr>\n",
       "    <tr>\n",
       "      <th>3</th>\n",
       "      <td>&lt;http://rdf.freebase.com/ns/m.0d_23&gt;</td>\n",
       "      <td>&lt;http://www.w3.org/2002/07/owl#sameAs&gt;</td>\n",
       "      <td>&lt;http://www.wikidata.org/entity/Q2537&gt; .</td>\n",
       "    </tr>\n",
       "    <tr>\n",
       "      <th>4</th>\n",
       "      <td>&lt;http://rdf.freebase.com/ns/m.04g7d&gt;</td>\n",
       "      <td>&lt;http://www.w3.org/2002/07/owl#sameAs&gt;</td>\n",
       "      <td>&lt;http://www.wikidata.org/entity/Q315&gt; .</td>\n",
       "    </tr>\n",
       "  </tbody>\n",
       "</table>\n",
       "</div>"
      ],
      "text/plain": [
       "                               Freebase  \\\n",
       "0  <http://rdf.freebase.com/ns/m.0695j>   \n",
       "1  <http://rdf.freebase.com/ns/m.05nrg>   \n",
       "2   <http://rdf.freebase.com/ns/m.0jgd>   \n",
       "3  <http://rdf.freebase.com/ns/m.0d_23>   \n",
       "4  <http://rdf.freebase.com/ns/m.04g7d>   \n",
       "\n",
       "                                       W3  \\\n",
       "0  <http://www.w3.org/2002/07/owl#sameAs>   \n",
       "1  <http://www.w3.org/2002/07/owl#sameAs>   \n",
       "2  <http://www.w3.org/2002/07/owl#sameAs>   \n",
       "3  <http://www.w3.org/2002/07/owl#sameAs>   \n",
       "4  <http://www.w3.org/2002/07/owl#sameAs>   \n",
       "\n",
       "                                       Wiki  \n",
       "0  <http://www.wikidata.org/entity/Q6718> .  \n",
       "1   <http://www.wikidata.org/entity/Q538> .  \n",
       "2   <http://www.wikidata.org/entity/Q414> .  \n",
       "3  <http://www.wikidata.org/entity/Q2537> .  \n",
       "4   <http://www.wikidata.org/entity/Q315> .  "
      ]
     },
     "metadata": {},
     "output_type": "display_data"
    }
   ],
   "source": [
    "mappings_path = \"data/fb2w.nt.gz\"\n",
    "maps = pd.read_csv(mappings_path, sep='\\t', header=None, skiprows=4, names=[\"Freebase\", \"W3\", \"Wiki\"])\n",
    "display(maps.head())"
   ]
  },
  {
   "cell_type": "markdown",
   "metadata": {},
   "source": [
    "We only need the Id and not the whole website link so we transform columns in the following way :\n",
    "- Freebase : <http://rdf.freebase.com/ns/m.CODE_ID> -> /m/CODE_ID\n",
    "- Wiki : <http://www.wikidata.org/entity/CODE_ID> -> CODE_ID"
   ]
  },
  {
   "cell_type": "code",
   "execution_count": 15,
   "metadata": {},
   "outputs": [],
   "source": [
    "\"\"\"\n",
    "Transforms the Freebase website to Freebase ID\n",
    "\"\"\"\n",
    "def elim_freebase(web):\n",
    "    return \"/m/\"+web[30:-1]\n",
    "\n",
    "\"\"\"\n",
    "Transforms the Freebase website to Freebase ID\n",
    "\"\"\"\n",
    "def elim_wiki(web):\n",
    "    return web[32:-3]"
   ]
  },
  {
   "cell_type": "code",
   "execution_count": 16,
   "metadata": {},
   "outputs": [
    {
     "data": {
      "text/html": [
       "<div>\n",
       "<style scoped>\n",
       "    .dataframe tbody tr th:only-of-type {\n",
       "        vertical-align: middle;\n",
       "    }\n",
       "\n",
       "    .dataframe tbody tr th {\n",
       "        vertical-align: top;\n",
       "    }\n",
       "\n",
       "    .dataframe thead th {\n",
       "        text-align: right;\n",
       "    }\n",
       "</style>\n",
       "<table border=\"1\" class=\"dataframe\">\n",
       "  <thead>\n",
       "    <tr style=\"text-align: right;\">\n",
       "      <th></th>\n",
       "      <th>free</th>\n",
       "      <th>wiki</th>\n",
       "    </tr>\n",
       "  </thead>\n",
       "  <tbody>\n",
       "    <tr>\n",
       "      <th>0</th>\n",
       "      <td>/m/0695j</td>\n",
       "      <td>Q6718</td>\n",
       "    </tr>\n",
       "    <tr>\n",
       "      <th>1</th>\n",
       "      <td>/m/05nrg</td>\n",
       "      <td>Q538</td>\n",
       "    </tr>\n",
       "    <tr>\n",
       "      <th>2</th>\n",
       "      <td>/m/0jgd</td>\n",
       "      <td>Q414</td>\n",
       "    </tr>\n",
       "    <tr>\n",
       "      <th>3</th>\n",
       "      <td>/m/0d_23</td>\n",
       "      <td>Q2537</td>\n",
       "    </tr>\n",
       "    <tr>\n",
       "      <th>4</th>\n",
       "      <td>/m/04g7d</td>\n",
       "      <td>Q315</td>\n",
       "    </tr>\n",
       "  </tbody>\n",
       "</table>\n",
       "</div>"
      ],
      "text/plain": [
       "       free   wiki\n",
       "0  /m/0695j  Q6718\n",
       "1  /m/05nrg   Q538\n",
       "2   /m/0jgd   Q414\n",
       "3  /m/0d_23  Q2537\n",
       "4  /m/04g7d   Q315"
      ]
     },
     "execution_count": 16,
     "metadata": {},
     "output_type": "execute_result"
    }
   ],
   "source": [
    "maps[\"free\"] = maps.Freebase.apply(elim_freebase)\n",
    "maps[\"wiki\"] = maps.Wiki.apply(elim_wiki)\n",
    "\n",
    "# We don't need the rest of the columns so we drop them \n",
    "maps.drop(columns = [\"Freebase\", \"W3\", \"Wiki\"], inplace=True)\n",
    "maps.head()"
   ]
  },
  {
   "cell_type": "markdown",
   "metadata": {},
   "source": [
    "## Ethnicity labels\n",
    "\n",
    "Firstly, we get the Wikidata IDs based on the mapping we created :"
   ]
  },
  {
   "cell_type": "code",
   "execution_count": 17,
   "metadata": {},
   "outputs": [
    {
     "data": {
      "text/html": [
       "<div>\n",
       "<style scoped>\n",
       "    .dataframe tbody tr th:only-of-type {\n",
       "        vertical-align: middle;\n",
       "    }\n",
       "\n",
       "    .dataframe tbody tr th {\n",
       "        vertical-align: top;\n",
       "    }\n",
       "\n",
       "    .dataframe thead th {\n",
       "        text-align: right;\n",
       "    }\n",
       "</style>\n",
       "<table border=\"1\" class=\"dataframe\">\n",
       "  <thead>\n",
       "    <tr style=\"text-align: right;\">\n",
       "      <th></th>\n",
       "      <th>WikiID</th>\n",
       "      <th>FreeID</th>\n",
       "      <th>MovieRelDate</th>\n",
       "      <th>CharName</th>\n",
       "      <th>DOB</th>\n",
       "      <th>Gender</th>\n",
       "      <th>Height</th>\n",
       "      <th>Ethnicity</th>\n",
       "      <th>Actor</th>\n",
       "      <th>Age</th>\n",
       "      <th>FreeMapID</th>\n",
       "      <th>FreeCharID</th>\n",
       "      <th>FreeActorID</th>\n",
       "      <th>Ethnicity_W</th>\n",
       "    </tr>\n",
       "  </thead>\n",
       "  <tbody>\n",
       "    <tr>\n",
       "      <th>0</th>\n",
       "      <td>975900</td>\n",
       "      <td>/m/03vyhn</td>\n",
       "      <td>2001-08-24</td>\n",
       "      <td>Akooshay</td>\n",
       "      <td>1958-08-26</td>\n",
       "      <td>F</td>\n",
       "      <td>1.620</td>\n",
       "      <td>NaN</td>\n",
       "      <td>Wanda De Jesus</td>\n",
       "      <td>42.0</td>\n",
       "      <td>/m/0bgchxw</td>\n",
       "      <td>/m/0bgcj3x</td>\n",
       "      <td>/m/03wcfv7</td>\n",
       "      <td>NaN</td>\n",
       "    </tr>\n",
       "    <tr>\n",
       "      <th>1</th>\n",
       "      <td>975900</td>\n",
       "      <td>/m/03vyhn</td>\n",
       "      <td>2001-08-24</td>\n",
       "      <td>Lieutenant Melanie Ballard</td>\n",
       "      <td>1974-08-15</td>\n",
       "      <td>F</td>\n",
       "      <td>1.780</td>\n",
       "      <td>/m/044038p</td>\n",
       "      <td>Natasha Henstridge</td>\n",
       "      <td>27.0</td>\n",
       "      <td>/m/0jys3m</td>\n",
       "      <td>/m/0bgchn4</td>\n",
       "      <td>/m/0346l4</td>\n",
       "      <td>NaN</td>\n",
       "    </tr>\n",
       "    <tr>\n",
       "      <th>2</th>\n",
       "      <td>975900</td>\n",
       "      <td>/m/03vyhn</td>\n",
       "      <td>2001-08-24</td>\n",
       "      <td>Desolation Williams</td>\n",
       "      <td>1969-06-15</td>\n",
       "      <td>M</td>\n",
       "      <td>1.727</td>\n",
       "      <td>/m/0x67</td>\n",
       "      <td>Ice Cube</td>\n",
       "      <td>32.0</td>\n",
       "      <td>/m/0jys3g</td>\n",
       "      <td>/m/0bgchn_</td>\n",
       "      <td>/m/01vw26l</td>\n",
       "      <td>Q49085</td>\n",
       "    </tr>\n",
       "    <tr>\n",
       "      <th>3</th>\n",
       "      <td>975900</td>\n",
       "      <td>/m/03vyhn</td>\n",
       "      <td>2001-08-24</td>\n",
       "      <td>Sgt Jericho Butler</td>\n",
       "      <td>1967-09-12</td>\n",
       "      <td>M</td>\n",
       "      <td>1.750</td>\n",
       "      <td>NaN</td>\n",
       "      <td>Jason Statham</td>\n",
       "      <td>33.0</td>\n",
       "      <td>/m/02vchl6</td>\n",
       "      <td>/m/0bgchnq</td>\n",
       "      <td>/m/034hyc</td>\n",
       "      <td>NaN</td>\n",
       "    </tr>\n",
       "    <tr>\n",
       "      <th>4</th>\n",
       "      <td>975900</td>\n",
       "      <td>/m/03vyhn</td>\n",
       "      <td>2001-08-24</td>\n",
       "      <td>Bashira Kincaid</td>\n",
       "      <td>1977-09-25</td>\n",
       "      <td>F</td>\n",
       "      <td>1.650</td>\n",
       "      <td>NaN</td>\n",
       "      <td>Clea DuVall</td>\n",
       "      <td>23.0</td>\n",
       "      <td>/m/02vbb3r</td>\n",
       "      <td>/m/0bgchp9</td>\n",
       "      <td>/m/01y9xg</td>\n",
       "      <td>NaN</td>\n",
       "    </tr>\n",
       "    <tr>\n",
       "      <th>...</th>\n",
       "      <td>...</td>\n",
       "      <td>...</td>\n",
       "      <td>...</td>\n",
       "      <td>...</td>\n",
       "      <td>...</td>\n",
       "      <td>...</td>\n",
       "      <td>...</td>\n",
       "      <td>...</td>\n",
       "      <td>...</td>\n",
       "      <td>...</td>\n",
       "      <td>...</td>\n",
       "      <td>...</td>\n",
       "      <td>...</td>\n",
       "      <td>...</td>\n",
       "    </tr>\n",
       "    <tr>\n",
       "      <th>450727</th>\n",
       "      <td>913762</td>\n",
       "      <td>/m/03pcrp</td>\n",
       "      <td>1992-05-21</td>\n",
       "      <td>Elensh</td>\n",
       "      <td>1970-05</td>\n",
       "      <td>F</td>\n",
       "      <td>NaN</td>\n",
       "      <td>NaN</td>\n",
       "      <td>Dorothy Elias-Fahn</td>\n",
       "      <td>NaN</td>\n",
       "      <td>/m/0kr406c</td>\n",
       "      <td>/m/0kr406h</td>\n",
       "      <td>/m/0b_vcv</td>\n",
       "      <td>NaN</td>\n",
       "    </tr>\n",
       "    <tr>\n",
       "      <th>450728</th>\n",
       "      <td>913762</td>\n",
       "      <td>/m/03pcrp</td>\n",
       "      <td>1992-05-21</td>\n",
       "      <td>Hibiki</td>\n",
       "      <td>1965-04-12</td>\n",
       "      <td>M</td>\n",
       "      <td>NaN</td>\n",
       "      <td>NaN</td>\n",
       "      <td>Jonathan Fahn</td>\n",
       "      <td>27.0</td>\n",
       "      <td>/m/0kr405_</td>\n",
       "      <td>/m/0kr4090</td>\n",
       "      <td>/m/0bx7_j</td>\n",
       "      <td>NaN</td>\n",
       "    </tr>\n",
       "    <tr>\n",
       "      <th>450729</th>\n",
       "      <td>28308153</td>\n",
       "      <td>/m/0cp05t9</td>\n",
       "      <td>1957</td>\n",
       "      <td>NaN</td>\n",
       "      <td>1941-11-18</td>\n",
       "      <td>M</td>\n",
       "      <td>1.730</td>\n",
       "      <td>/m/02w7gg</td>\n",
       "      <td>David Hemmings</td>\n",
       "      <td>15.0</td>\n",
       "      <td>/m/0g8ngmc</td>\n",
       "      <td>NaN</td>\n",
       "      <td>/m/022g44</td>\n",
       "      <td>Q42406</td>\n",
       "    </tr>\n",
       "    <tr>\n",
       "      <th>450730</th>\n",
       "      <td>28308153</td>\n",
       "      <td>/m/0cp05t9</td>\n",
       "      <td>1957</td>\n",
       "      <td>NaN</td>\n",
       "      <td>NaN</td>\n",
       "      <td>NaN</td>\n",
       "      <td>NaN</td>\n",
       "      <td>NaN</td>\n",
       "      <td>Roberta Paterson</td>\n",
       "      <td>NaN</td>\n",
       "      <td>/m/0g8ngmj</td>\n",
       "      <td>NaN</td>\n",
       "      <td>/m/0g8ngmm</td>\n",
       "      <td>NaN</td>\n",
       "    </tr>\n",
       "    <tr>\n",
       "      <th>450731</th>\n",
       "      <td>28308153</td>\n",
       "      <td>/m/0cp05t9</td>\n",
       "      <td>1957</td>\n",
       "      <td>NaN</td>\n",
       "      <td>NaN</td>\n",
       "      <td>NaN</td>\n",
       "      <td>NaN</td>\n",
       "      <td>NaN</td>\n",
       "      <td>John Rogers</td>\n",
       "      <td>NaN</td>\n",
       "      <td>/m/0g8ngmw</td>\n",
       "      <td>NaN</td>\n",
       "      <td>/m/0btz19d</td>\n",
       "      <td>NaN</td>\n",
       "    </tr>\n",
       "  </tbody>\n",
       "</table>\n",
       "<p>450732 rows × 14 columns</p>\n",
       "</div>"
      ],
      "text/plain": [
       "          WikiID      FreeID MovieRelDate                    CharName  \\\n",
       "0         975900   /m/03vyhn   2001-08-24                    Akooshay   \n",
       "1         975900   /m/03vyhn   2001-08-24  Lieutenant Melanie Ballard   \n",
       "2         975900   /m/03vyhn   2001-08-24         Desolation Williams   \n",
       "3         975900   /m/03vyhn   2001-08-24          Sgt Jericho Butler   \n",
       "4         975900   /m/03vyhn   2001-08-24             Bashira Kincaid   \n",
       "...          ...         ...          ...                         ...   \n",
       "450727    913762   /m/03pcrp   1992-05-21                      Elensh   \n",
       "450728    913762   /m/03pcrp   1992-05-21                      Hibiki   \n",
       "450729  28308153  /m/0cp05t9         1957                         NaN   \n",
       "450730  28308153  /m/0cp05t9         1957                         NaN   \n",
       "450731  28308153  /m/0cp05t9         1957                         NaN   \n",
       "\n",
       "               DOB Gender  Height   Ethnicity               Actor   Age  \\\n",
       "0       1958-08-26      F   1.620         NaN      Wanda De Jesus  42.0   \n",
       "1       1974-08-15      F   1.780  /m/044038p  Natasha Henstridge  27.0   \n",
       "2       1969-06-15      M   1.727     /m/0x67            Ice Cube  32.0   \n",
       "3       1967-09-12      M   1.750         NaN       Jason Statham  33.0   \n",
       "4       1977-09-25      F   1.650         NaN         Clea DuVall  23.0   \n",
       "...            ...    ...     ...         ...                 ...   ...   \n",
       "450727     1970-05      F     NaN         NaN  Dorothy Elias-Fahn   NaN   \n",
       "450728  1965-04-12      M     NaN         NaN       Jonathan Fahn  27.0   \n",
       "450729  1941-11-18      M   1.730   /m/02w7gg      David Hemmings  15.0   \n",
       "450730         NaN    NaN     NaN         NaN    Roberta Paterson   NaN   \n",
       "450731         NaN    NaN     NaN         NaN         John Rogers   NaN   \n",
       "\n",
       "         FreeMapID  FreeCharID FreeActorID Ethnicity_W  \n",
       "0       /m/0bgchxw  /m/0bgcj3x  /m/03wcfv7         NaN  \n",
       "1        /m/0jys3m  /m/0bgchn4   /m/0346l4         NaN  \n",
       "2        /m/0jys3g  /m/0bgchn_  /m/01vw26l      Q49085  \n",
       "3       /m/02vchl6  /m/0bgchnq   /m/034hyc         NaN  \n",
       "4       /m/02vbb3r  /m/0bgchp9   /m/01y9xg         NaN  \n",
       "...            ...         ...         ...         ...  \n",
       "450727  /m/0kr406c  /m/0kr406h   /m/0b_vcv         NaN  \n",
       "450728  /m/0kr405_  /m/0kr4090   /m/0bx7_j         NaN  \n",
       "450729  /m/0g8ngmc         NaN   /m/022g44      Q42406  \n",
       "450730  /m/0g8ngmj         NaN  /m/0g8ngmm         NaN  \n",
       "450731  /m/0g8ngmw         NaN  /m/0btz19d         NaN  \n",
       "\n",
       "[450732 rows x 14 columns]"
      ]
     },
     "metadata": {},
     "output_type": "display_data"
    }
   ],
   "source": [
    "characters = characters.merge(maps, how=\"left\", left_on=\"Ethnicity\", right_on=\"free\")\n",
    "characters.drop(columns=[\"free\"], inplace=True)\n",
    "characters.rename(columns={\"wiki\":\"Ethnicity_W\"}, inplace=True)\n",
    "display(characters)"
   ]
  },
  {
   "cell_type": "markdown",
   "metadata": {},
   "source": [
    "As we can see the mapping is not complete : Some Freebase IDs do not correspond to any Wikidata ID. "
   ]
  },
  {
   "cell_type": "code",
   "execution_count": 18,
   "metadata": {},
   "outputs": [
    {
     "name": "stdout",
     "output_type": "stream",
     "text": [
      "There are 12992 instances of ethnicities that we could not map from Freebase to Wikidata\n"
     ]
    }
   ],
   "source": [
    "unmapped_ethnicities = characters.Ethnicity_W.isna().sum() - characters.Ethnicity.isna().sum()\n",
    "print(\"There are {} instances of ethnicities that we could not map from Freebase to Wikidata\".format(unmapped_ethnicities))\n",
    "# Instances of ethnicities -> Can we replace by number of actors ethnicities? Actors with different initial ethnicities ?"
   ]
  },
  {
   "cell_type": "code",
   "execution_count": 19,
   "metadata": {},
   "outputs": [],
   "source": [
    "from wikidata.client import Client\n",
    "\n",
    "\"\"\"\n",
    "Given a Wikidata ID (eg. \"Q49085\") returns the corresponding label \n",
    "\n",
    "Using this function row by row (pd.apply method) takes enormous time -> improvement? For ethnicities its ok as they're only 350 dinstinct ones\n",
    "\"\"\"\n",
    "def get_wikidata_label(wikidata_id):\n",
    "    client = Client()\n",
    "    entity = client.get(wikidata_id, load=True)\n",
    "    return str(entity.label)"
   ]
  },
  {
   "cell_type": "code",
   "execution_count": 20,
   "metadata": {},
   "outputs": [],
   "source": [
    "# No official comment haha this will probably change (Takes 2-3 minutes to complete). \n",
    "# Result is map_Ethnicity_W_to_Ethnicity_name a map between Ethnicity wikidata ID and Ethnicity label\n",
    "map_Ethnicity_W_to_Ethnicity_name = pd.DataFrame(characters.Ethnicity_W.unique(), columns=[\"Ethnicity_W\"]).dropna()\n",
    "map_Ethnicity_W_to_Ethnicity_name[\"Ethnicity_name\"] = map_Ethnicity_W_to_Ethnicity_name.Ethnicity_W.apply(get_wikidata_label)"
   ]
  },
  {
   "cell_type": "code",
   "execution_count": 21,
   "metadata": {},
   "outputs": [
    {
     "data": {
      "text/html": [
       "<div>\n",
       "<style scoped>\n",
       "    .dataframe tbody tr th:only-of-type {\n",
       "        vertical-align: middle;\n",
       "    }\n",
       "\n",
       "    .dataframe tbody tr th {\n",
       "        vertical-align: top;\n",
       "    }\n",
       "\n",
       "    .dataframe thead th {\n",
       "        text-align: right;\n",
       "    }\n",
       "</style>\n",
       "<table border=\"1\" class=\"dataframe\">\n",
       "  <thead>\n",
       "    <tr style=\"text-align: right;\">\n",
       "      <th></th>\n",
       "      <th>WikiID</th>\n",
       "      <th>FreeID</th>\n",
       "      <th>MovieRelDate</th>\n",
       "      <th>CharName</th>\n",
       "      <th>DOB</th>\n",
       "      <th>Gender</th>\n",
       "      <th>Height</th>\n",
       "      <th>Actor</th>\n",
       "      <th>Age</th>\n",
       "      <th>FreeMapID</th>\n",
       "      <th>FreeCharID</th>\n",
       "      <th>FreeActorID</th>\n",
       "      <th>Ethnicity_name</th>\n",
       "    </tr>\n",
       "  </thead>\n",
       "  <tbody>\n",
       "    <tr>\n",
       "      <th>0</th>\n",
       "      <td>975900</td>\n",
       "      <td>/m/03vyhn</td>\n",
       "      <td>2001-08-24</td>\n",
       "      <td>Akooshay</td>\n",
       "      <td>1958-08-26</td>\n",
       "      <td>F</td>\n",
       "      <td>1.620</td>\n",
       "      <td>Wanda De Jesus</td>\n",
       "      <td>42.0</td>\n",
       "      <td>/m/0bgchxw</td>\n",
       "      <td>/m/0bgcj3x</td>\n",
       "      <td>/m/03wcfv7</td>\n",
       "      <td>NaN</td>\n",
       "    </tr>\n",
       "    <tr>\n",
       "      <th>1</th>\n",
       "      <td>975900</td>\n",
       "      <td>/m/03vyhn</td>\n",
       "      <td>2001-08-24</td>\n",
       "      <td>Lieutenant Melanie Ballard</td>\n",
       "      <td>1974-08-15</td>\n",
       "      <td>F</td>\n",
       "      <td>1.780</td>\n",
       "      <td>Natasha Henstridge</td>\n",
       "      <td>27.0</td>\n",
       "      <td>/m/0jys3m</td>\n",
       "      <td>/m/0bgchn4</td>\n",
       "      <td>/m/0346l4</td>\n",
       "      <td>NaN</td>\n",
       "    </tr>\n",
       "    <tr>\n",
       "      <th>2</th>\n",
       "      <td>975900</td>\n",
       "      <td>/m/03vyhn</td>\n",
       "      <td>2001-08-24</td>\n",
       "      <td>Desolation Williams</td>\n",
       "      <td>1969-06-15</td>\n",
       "      <td>M</td>\n",
       "      <td>1.727</td>\n",
       "      <td>Ice Cube</td>\n",
       "      <td>32.0</td>\n",
       "      <td>/m/0jys3g</td>\n",
       "      <td>/m/0bgchn_</td>\n",
       "      <td>/m/01vw26l</td>\n",
       "      <td>African Americans</td>\n",
       "    </tr>\n",
       "    <tr>\n",
       "      <th>3</th>\n",
       "      <td>975900</td>\n",
       "      <td>/m/03vyhn</td>\n",
       "      <td>2001-08-24</td>\n",
       "      <td>Sgt Jericho Butler</td>\n",
       "      <td>1967-09-12</td>\n",
       "      <td>M</td>\n",
       "      <td>1.750</td>\n",
       "      <td>Jason Statham</td>\n",
       "      <td>33.0</td>\n",
       "      <td>/m/02vchl6</td>\n",
       "      <td>/m/0bgchnq</td>\n",
       "      <td>/m/034hyc</td>\n",
       "      <td>NaN</td>\n",
       "    </tr>\n",
       "    <tr>\n",
       "      <th>4</th>\n",
       "      <td>975900</td>\n",
       "      <td>/m/03vyhn</td>\n",
       "      <td>2001-08-24</td>\n",
       "      <td>Bashira Kincaid</td>\n",
       "      <td>1977-09-25</td>\n",
       "      <td>F</td>\n",
       "      <td>1.650</td>\n",
       "      <td>Clea DuVall</td>\n",
       "      <td>23.0</td>\n",
       "      <td>/m/02vbb3r</td>\n",
       "      <td>/m/0bgchp9</td>\n",
       "      <td>/m/01y9xg</td>\n",
       "      <td>NaN</td>\n",
       "    </tr>\n",
       "    <tr>\n",
       "      <th>...</th>\n",
       "      <td>...</td>\n",
       "      <td>...</td>\n",
       "      <td>...</td>\n",
       "      <td>...</td>\n",
       "      <td>...</td>\n",
       "      <td>...</td>\n",
       "      <td>...</td>\n",
       "      <td>...</td>\n",
       "      <td>...</td>\n",
       "      <td>...</td>\n",
       "      <td>...</td>\n",
       "      <td>...</td>\n",
       "      <td>...</td>\n",
       "    </tr>\n",
       "    <tr>\n",
       "      <th>450727</th>\n",
       "      <td>913762</td>\n",
       "      <td>/m/03pcrp</td>\n",
       "      <td>1992-05-21</td>\n",
       "      <td>Elensh</td>\n",
       "      <td>1970-05</td>\n",
       "      <td>F</td>\n",
       "      <td>NaN</td>\n",
       "      <td>Dorothy Elias-Fahn</td>\n",
       "      <td>NaN</td>\n",
       "      <td>/m/0kr406c</td>\n",
       "      <td>/m/0kr406h</td>\n",
       "      <td>/m/0b_vcv</td>\n",
       "      <td>NaN</td>\n",
       "    </tr>\n",
       "    <tr>\n",
       "      <th>450728</th>\n",
       "      <td>913762</td>\n",
       "      <td>/m/03pcrp</td>\n",
       "      <td>1992-05-21</td>\n",
       "      <td>Hibiki</td>\n",
       "      <td>1965-04-12</td>\n",
       "      <td>M</td>\n",
       "      <td>NaN</td>\n",
       "      <td>Jonathan Fahn</td>\n",
       "      <td>27.0</td>\n",
       "      <td>/m/0kr405_</td>\n",
       "      <td>/m/0kr4090</td>\n",
       "      <td>/m/0bx7_j</td>\n",
       "      <td>NaN</td>\n",
       "    </tr>\n",
       "    <tr>\n",
       "      <th>450729</th>\n",
       "      <td>28308153</td>\n",
       "      <td>/m/0cp05t9</td>\n",
       "      <td>1957</td>\n",
       "      <td>NaN</td>\n",
       "      <td>1941-11-18</td>\n",
       "      <td>M</td>\n",
       "      <td>1.730</td>\n",
       "      <td>David Hemmings</td>\n",
       "      <td>15.0</td>\n",
       "      <td>/m/0g8ngmc</td>\n",
       "      <td>NaN</td>\n",
       "      <td>/m/022g44</td>\n",
       "      <td>English people</td>\n",
       "    </tr>\n",
       "    <tr>\n",
       "      <th>450730</th>\n",
       "      <td>28308153</td>\n",
       "      <td>/m/0cp05t9</td>\n",
       "      <td>1957</td>\n",
       "      <td>NaN</td>\n",
       "      <td>NaN</td>\n",
       "      <td>NaN</td>\n",
       "      <td>NaN</td>\n",
       "      <td>Roberta Paterson</td>\n",
       "      <td>NaN</td>\n",
       "      <td>/m/0g8ngmj</td>\n",
       "      <td>NaN</td>\n",
       "      <td>/m/0g8ngmm</td>\n",
       "      <td>NaN</td>\n",
       "    </tr>\n",
       "    <tr>\n",
       "      <th>450731</th>\n",
       "      <td>28308153</td>\n",
       "      <td>/m/0cp05t9</td>\n",
       "      <td>1957</td>\n",
       "      <td>NaN</td>\n",
       "      <td>NaN</td>\n",
       "      <td>NaN</td>\n",
       "      <td>NaN</td>\n",
       "      <td>John Rogers</td>\n",
       "      <td>NaN</td>\n",
       "      <td>/m/0g8ngmw</td>\n",
       "      <td>NaN</td>\n",
       "      <td>/m/0btz19d</td>\n",
       "      <td>NaN</td>\n",
       "    </tr>\n",
       "  </tbody>\n",
       "</table>\n",
       "<p>450732 rows × 13 columns</p>\n",
       "</div>"
      ],
      "text/plain": [
       "          WikiID      FreeID MovieRelDate                    CharName  \\\n",
       "0         975900   /m/03vyhn   2001-08-24                    Akooshay   \n",
       "1         975900   /m/03vyhn   2001-08-24  Lieutenant Melanie Ballard   \n",
       "2         975900   /m/03vyhn   2001-08-24         Desolation Williams   \n",
       "3         975900   /m/03vyhn   2001-08-24          Sgt Jericho Butler   \n",
       "4         975900   /m/03vyhn   2001-08-24             Bashira Kincaid   \n",
       "...          ...         ...          ...                         ...   \n",
       "450727    913762   /m/03pcrp   1992-05-21                      Elensh   \n",
       "450728    913762   /m/03pcrp   1992-05-21                      Hibiki   \n",
       "450729  28308153  /m/0cp05t9         1957                         NaN   \n",
       "450730  28308153  /m/0cp05t9         1957                         NaN   \n",
       "450731  28308153  /m/0cp05t9         1957                         NaN   \n",
       "\n",
       "               DOB Gender  Height               Actor   Age   FreeMapID  \\\n",
       "0       1958-08-26      F   1.620      Wanda De Jesus  42.0  /m/0bgchxw   \n",
       "1       1974-08-15      F   1.780  Natasha Henstridge  27.0   /m/0jys3m   \n",
       "2       1969-06-15      M   1.727            Ice Cube  32.0   /m/0jys3g   \n",
       "3       1967-09-12      M   1.750       Jason Statham  33.0  /m/02vchl6   \n",
       "4       1977-09-25      F   1.650         Clea DuVall  23.0  /m/02vbb3r   \n",
       "...            ...    ...     ...                 ...   ...         ...   \n",
       "450727     1970-05      F     NaN  Dorothy Elias-Fahn   NaN  /m/0kr406c   \n",
       "450728  1965-04-12      M     NaN       Jonathan Fahn  27.0  /m/0kr405_   \n",
       "450729  1941-11-18      M   1.730      David Hemmings  15.0  /m/0g8ngmc   \n",
       "450730         NaN    NaN     NaN    Roberta Paterson   NaN  /m/0g8ngmj   \n",
       "450731         NaN    NaN     NaN         John Rogers   NaN  /m/0g8ngmw   \n",
       "\n",
       "        FreeCharID FreeActorID     Ethnicity_name  \n",
       "0       /m/0bgcj3x  /m/03wcfv7                NaN  \n",
       "1       /m/0bgchn4   /m/0346l4                NaN  \n",
       "2       /m/0bgchn_  /m/01vw26l  African Americans  \n",
       "3       /m/0bgchnq   /m/034hyc                NaN  \n",
       "4       /m/0bgchp9   /m/01y9xg                NaN  \n",
       "...            ...         ...                ...  \n",
       "450727  /m/0kr406h   /m/0b_vcv                NaN  \n",
       "450728  /m/0kr4090   /m/0bx7_j                NaN  \n",
       "450729         NaN   /m/022g44     English people  \n",
       "450730         NaN  /m/0g8ngmm                NaN  \n",
       "450731         NaN  /m/0btz19d                NaN  \n",
       "\n",
       "[450732 rows x 13 columns]"
      ]
     },
     "metadata": {},
     "output_type": "display_data"
    }
   ],
   "source": [
    "characters = characters.merge(map_Ethnicity_W_to_Ethnicity_name, how=\"left\", left_on=\"Ethnicity_W\", right_on=\"Ethnicity_W\").drop(columns= [\"Ethnicity\", \"Ethnicity_W\"])\n",
    "display(characters)"
   ]
  },
  {
   "cell_type": "code",
   "execution_count": 22,
   "metadata": {},
   "outputs": [
    {
     "data": {
      "text/plain": [
       "Indians              16351\n",
       "African Americans    10159\n",
       "Jewish people        10121\n",
       "English people        6165\n",
       "Irish Americans       3857\n",
       "Italian Americans     2956\n",
       "white Americans       2250\n",
       "Scottish American     2223\n",
       "Irish people          1637\n",
       "French                1350\n",
       "Name: Ethnicity_name, dtype: int64"
      ]
     },
     "execution_count": 22,
     "metadata": {},
     "output_type": "execute_result"
    }
   ],
   "source": [
    "characters.Ethnicity_name.value_counts()[:10] \n",
    "# Should we even continue with these ethnicities ? These results aren't affected by the lack of mappings between Freebase and Wiki"
   ]
  },
  {
   "cell_type": "code",
   "execution_count": 23,
   "metadata": {},
   "outputs": [
    {
     "data": {
      "text/plain": [
       "355"
      ]
     },
     "execution_count": 23,
     "metadata": {},
     "output_type": "execute_result"
    }
   ],
   "source": [
    "ethn_len = len(characters.Ethnicity_name.value_counts())\n",
    "ethn_len"
   ]
  },
  {
   "cell_type": "code",
   "execution_count": 24,
   "metadata": {},
   "outputs": [
    {
     "data": {
      "image/png": "[encoded data removed]",
      "text/plain": [
       "<Figure size 1500x500 with 1 Axes>"
      ]
     },
     "metadata": {},
     "output_type": "display_data"
    }
   ],
   "source": [
    "# Ethnicities visualization\n",
    "import matplotlib.pyplot as plt\n",
    "plt.figure(figsize=(15,5))\n",
    "characters['Ethnicity_name'].hist(bins = ethn_len, grid = False, xlabelsize=6, xrot=90)\n",
    "plt.xlabel('Actors ethnicities')\n",
    "plt.ylabel('Count')\n",
    "plt.title('Histogram of ethnicities distribution');"
   ]
  },
  {
   "cell_type": "markdown",
   "metadata": {},
   "source": [
    "Not really readable, should do :\n",
    "- what are the most present ones \n",
    "- group some ethnicities together into big categories"
   ]
  },
  {
   "cell_type": "code",
   "execution_count": 67,
   "metadata": {},
   "outputs": [
    {
     "data": {
      "text/plain": [
       "array(['Indians', 'African Americans', 'Jewish people', 'English people',\n",
       "       'Irish Americans', 'Italian Americans', 'white Americans',\n",
       "       'Scottish American', 'Irish people', 'French', 'Italians', 'Tamil',\n",
       "       'Punjabis', 'Malayali', 'Swedish Americans', 'German Americans',\n",
       "       'Swedes', 'American Jews', 'Bengali people', 'Marathi people'],\n",
       "      dtype=object)"
      ]
     },
     "execution_count": 67,
     "metadata": {},
     "output_type": "execute_result"
    }
   ],
   "source": [
    "# THe twenty most represented ethnicities (for non NaN entries...)\n",
    "most_rep = characters.Ethnicity_name.value_counts()[:20] \n",
    "most_rep.index.values"
   ]
  },
  {
   "cell_type": "markdown",
   "metadata": {},
   "source": [
    "### I don't know how to do the histogram selecting only the ethnicities that are among the 20 most represented !!"
   ]
  },
  {
   "cell_type": "markdown",
   "metadata": {},
   "source": [
    "### I don't know on what I should base the big ethnicity categories : maybe\n",
    "- American Indian or Alaska Native\n",
    "- Asian\n",
    "- Black or African American\n",
    "- Hispanic or Latino\n",
    "- Native Hawaiian or Other Pacific Islander\n",
    "- White"
   ]
  },
  {
   "cell_type": "markdown",
   "metadata": {},
   "source": [
    "## Actors\n",
    "In addition, some actors do not have their name and/or date of birth and/or sex specified but the actor freebase ID is present. We can use the actor freebase ID to recover their Wikidata information. This gives us access to the following relevant information about the actor :\n",
    "- Name\n",
    "- Sex/Gender\n",
    "- Date of Birth\n",
    "We can therefore replace the missing values in those categories."
   ]
  },
  {
   "cell_type": "code",
   "execution_count": 25,
   "metadata": {},
   "outputs": [
    {
     "name": "stdout",
     "output_type": "stream",
     "text": [
      "Number of rows where:\n",
      "\tActor is missing but actor ID is specified : 413\n",
      "\tActor and DOB are missing but actor ID is specified : 400\n",
      "\tActor and Gender are missing but actor ID is specified : 401\n",
      "\tActor, DOB and Gender are missing but actor ID is specified : 400\n",
      "\tDOB is missing but Actor and actor ID are specified : 104930\n",
      "\tGender is missing but Actor and actor ID are specified : 44393\n",
      "\tDOB and Gender are missing but Actor and actor ID are specified : 62635\n"
     ]
    }
   ],
   "source": [
    "print('Number of rows where:\\n\\tActor is missing but actor ID is specified :', len(characters[(characters['Actor'].isna() & ~characters['FreeActorID'].isna())]))\n",
    "print('\\tActor and DOB are missing but actor ID is specified :', len(characters[(characters['Actor'].isna() & characters['DOB'].isna() & ~characters['FreeActorID'].isna())]))\n",
    "print('\\tActor and Gender are missing but actor ID is specified :', len(characters[(characters['Actor'].isna() & characters['Gender'].isna() & ~characters['FreeActorID'].isna())]))\n",
    "print('\\tActor, DOB and Gender are missing but actor ID is specified :', len(characters[(characters['Actor'].isna() & characters['DOB'].isna() & characters['Gender'].isna() & ~characters['FreeActorID'].isna())]))\n",
    "print('\\tDOB is missing but Actor and actor ID are specified :', len(characters[(~characters['Actor'].isna() & characters['DOB'].isna() & ~characters['FreeActorID'].isna())]))\n",
    "print('\\tGender is missing but Actor and actor ID are specified :', len(characters[(~characters['Actor'].isna() & characters['Gender'].isna() & ~characters['FreeActorID'].isna())]))\n",
    "print('\\tDOB and Gender are missing but Actor and actor ID are specified :', len(characters[(~characters['Actor'].isna() & characters['DOB'].isna() & characters['Gender'] & ~characters['FreeActorID'].isna())]))\n"
   ]
  },
  {
   "cell_type": "markdown",
   "metadata": {},
   "source": [
    "From wikidata actor page,\n",
    "- sex/gender (P21) is given as : male (Q6581097), female (Q6581072), intersex (Q1097630), transgender female (Q1052281), transgender male (Q2449503).\n",
    "- date of birth (P569) is given as : Day of the month as a zero-padded decimal number, blank space, Month full name, blank space, Year with century as a decimal number. To recover the date of birth in the same format as the ones in the characters dataset, we must read the date given by wikidata without the blank spaces and then use datetime to format it correctly. See example just below :"
   ]
  },
  {
   "cell_type": "code",
   "execution_count": 26,
   "metadata": {},
   "outputs": [
    {
     "name": "stdout",
     "output_type": "stream",
     "text": [
      "1949-12-26\n"
     ]
    }
   ],
   "source": [
    "from datetime import datetime\n",
    "wiki_date = '26 December 1949'\n",
    "no_space = wiki_date.replace(\" \", \"\")\n",
    "date = datetime.strptime(no_space, '%d''%B''%Y')\n",
    "formated_date = '{:%Y-%m-%d}'.format(date)\n",
    "print(formated_date)"
   ]
  },
  {
   "cell_type": "markdown",
   "metadata": {},
   "source": [
    "# DATA"
   ]
  },
  {
   "cell_type": "markdown",
   "metadata": {},
   "source": [
    "This part deals with plot summaries data."
   ]
  },
  {
   "cell_type": "markdown",
   "metadata": {},
   "source": [
    "1. `plot_summaries.txt.gz` [29 M]\n",
    "\n",
    "Plot summaries of 42,306 movies extracted from the November 2, 2012 dump of English-language Wikipedia.  Each line contains the Wikipedia movie ID (which indexes into `movie.metadata.tsv`) followed by the summary.\n",
    "\n",
    "\n",
    "2. `corenlp_plot_summaries.tar.gz` [628 M, separate download]\n",
    "\n",
    "The plot summaries from above, run through the Stanford CoreNLP pipeline (tagging, parsing, NER and coref). Each filename begins with the Wikipedia movie ID (which indexes into `movie.metadata.tsv`).\n"
   ]
  },
  {
   "cell_type": "markdown",
   "metadata": {},
   "source": [
    "# TEST DATA"
   ]
  },
  {
   "cell_type": "markdown",
   "metadata": {},
   "source": [
    "1. `tvtropes.clusters.txt`\n",
    "\n",
    "72 character types drawn from tvtropes.com, along with 501 instances of those types.  The ID field indexes into the Freebase character/actor map ID in `character.metadata.tsv`.\n",
    "\n",
    "2. `name.clusters.txt`\n",
    "\n",
    "\n",
    "970 unique character names used in at least two different movies, along with 2,666 instances of those types.  The ID field indexes into the Freebase character/actor map ID in `character.metadata.tsv`.\n"
   ]
  },
  {
   "cell_type": "code",
   "execution_count": 23,
   "metadata": {},
   "outputs": [],
   "source": [
    "tvtropes_path = \"data/tvtropes.clusters.txt\"\n",
    "name_path = \"data/name.clusters.txt\""
   ]
  },
  {
   "cell_type": "code",
   "execution_count": null,
   "metadata": {},
   "outputs": [],
   "source": []
  },
  {
   "cell_type": "markdown",
   "metadata": {},
   "source": [
    "##### Mapping: put clusters info into character dataset:"
   ]
  },
  {
   "cell_type": "markdown",
   "metadata": {
    "id": "SMRfZb6MVhcs"
   },
   "source": [
    "---"
   ]
  }
 ],
 "metadata": {
  "colab": {
   "collapsed_sections": [],
   "provenance": []
  },
  "kernelspec": {
   "display_name": "Python",
   "language": "python",
   "name": "python3"
  },
  "language_info": {
   "codemirror_mode": {
    "name": "ipython",
    "version": 3
   },
   "file_extension": ".py",
   "mimetype": "text/x-python",
   "name": "python",
   "nbconvert_exporter": "python",
   "pygments_lexer": "ipython3",
   "version": "3.8.10"
  }
 },
 "nbformat": 4,
 "nbformat_minor": 4
}
