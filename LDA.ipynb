{
 "cells": [
  {
   "cell_type": "markdown",
   "id": "d017c827-ae17-4eec-b698-f451e6f2feb4",
   "metadata": {},
   "source": [
    "# Setup"
   ]
  },
  {
   "cell_type": "code",
   "execution_count": 1,
   "id": "6165711e-bbd7-4ada-a285-b87100f0af22",
   "metadata": {},
   "outputs": [
    {
     "name": "stdout",
     "output_type": "stream",
     "text": [
      "Requirement already satisfied: langdetect in /Users/nearchospotamitis/opt/anaconda3/lib/python3.8/site-packages (1.0.9)\n",
      "Requirement already satisfied: six in /Users/nearchospotamitis/opt/anaconda3/lib/python3.8/site-packages (from langdetect) (1.16.0)\n",
      "Requirement already satisfied: names-dataset in /Users/nearchospotamitis/opt/anaconda3/lib/python3.8/site-packages (3.1.0)\n",
      "Requirement already satisfied: pycountry in /Users/nearchospotamitis/opt/anaconda3/lib/python3.8/site-packages (from names-dataset) (22.3.5)\n",
      "Requirement already satisfied: setuptools in /Users/nearchospotamitis/opt/anaconda3/lib/python3.8/site-packages (from pycountry->names-dataset) (58.0.4)\n"
     ]
    }
   ],
   "source": [
    "!pip install langdetect\n",
    "!pip install names-dataset"
   ]
  },
  {
   "cell_type": "code",
   "execution_count": 2,
   "id": "a6098761-e884-4bd2-aa05-3fea3d18f4ac",
   "metadata": {},
   "outputs": [],
   "source": [
    "import pickle\n",
    "import os \n",
    "import numpy as np\n",
    "import pandas as pd\n",
    "\n",
    "# Preprocessing\n",
    "from langdetect import detect\n",
    "from tqdm import tqdm_notebook\n",
    "from tqdm import tqdm\n",
    "from nltk.tokenize import sent_tokenize\n",
    "from nltk.tokenize import word_tokenize\n",
    "from nltk.stem.wordnet import WordNetLemmatizer\n",
    "from nltk import pos_tag\n",
    "from nltk.corpus import wordnet\n",
    "from names_dataset import NameDataset\n",
    "from nltk.corpus import stopwords\n",
    "from itertools import chain \n",
    "\n",
    "# LDA\n",
    "from gensim.models import Phrases\n",
    "from gensim import corpora\n",
    "from gensim import models\n"
   ]
  },
  {
   "cell_type": "code",
   "execution_count": 3,
   "id": "935bd07d-d365-496c-9cb9-f1347f8e363c",
   "metadata": {},
   "outputs": [
    {
     "name": "stderr",
     "output_type": "stream",
     "text": [
      "[nltk_data] Downloading package averaged_perceptron_tagger to\n",
      "[nltk_data]     /Users/nearchospotamitis/nltk_data...\n",
      "[nltk_data]   Package averaged_perceptron_tagger is already up-to-\n",
      "[nltk_data]       date!\n",
      "[nltk_data] Downloading package wordnet to\n",
      "[nltk_data]     /Users/nearchospotamitis/nltk_data...\n",
      "[nltk_data]   Package wordnet is already up-to-date!\n",
      "[nltk_data] Downloading package omw-1.4 to\n",
      "[nltk_data]     /Users/nearchospotamitis/nltk_data...\n",
      "[nltk_data]   Package omw-1.4 is already up-to-date!\n"
     ]
    },
    {
     "data": {
      "text/plain": [
       "True"
      ]
     },
     "execution_count": 3,
     "metadata": {},
     "output_type": "execute_result"
    }
   ],
   "source": [
    "from nltk import download\n",
    "download('averaged_perceptron_tagger')\n",
    "download('wordnet')\n",
    "download('omw-1.4')"
   ]
  },
  {
   "cell_type": "code",
   "execution_count": 4,
   "id": "99d26dad-bad8-44a2-9fea-bb554512461e",
   "metadata": {},
   "outputs": [
    {
     "name": "stderr",
     "output_type": "stream",
     "text": [
      "/var/folders/k_/c3cbvfzs61374h16mfb1dxb00000gn/T/ipykernel_22353/1238162131.py:2: TqdmDeprecationWarning: This function will be removed in tqdm==5.0.0\n",
      "Please use `tqdm.notebook.tqdm` instead of `tqdm.tqdm_notebook`\n",
      "  tqdm_notebook().pandas()\n"
     ]
    },
    {
     "data": {
      "application/vnd.jupyter.widget-view+json": {
       "model_id": "07b8132f0ddf4595af82c3adae750a8f",
       "version_major": 2,
       "version_minor": 0
      },
      "text/plain": [
       "0it [00:00, ?it/s]"
      ]
     },
     "metadata": {},
     "output_type": "display_data"
    }
   ],
   "source": [
    "pd.set_option('display.max_colwidth', None)\n",
    "tqdm_notebook().pandas()"
   ]
  },
  {
   "cell_type": "markdown",
   "id": "9858b0a7-fbc2-4a00-9b57-622ca9a67ff4",
   "metadata": {
    "tags": []
   },
   "source": [
    "# Preprocessing  <a id='preprocess'></a>\n",
    "\n",
    "Already done and saved in `data/plot_summaries_aug.pkl` (takes about 45 minutes). Can be skipped by moving to the next [part](#lda)"
   ]
  },
  {
   "cell_type": "code",
   "execution_count": null,
   "id": "681a0f12-0763-4d46-9377-ef10a02d41bb",
   "metadata": {},
   "outputs": [],
   "source": [
    "data = pd.read_csv('data/plot_summaries.txt', sep=\"\\t\", header=None,names=[\"WikiMovieID\", \"Plot\"] )\n",
    "display(data.head(3))"
   ]
  },
  {
   "cell_type": "markdown",
   "id": "f02fa637-7299-4087-b7fc-7614ab09fb7c",
   "metadata": {},
   "source": [
    "## Cleaning"
   ]
  },
  {
   "cell_type": "code",
   "execution_count": null,
   "id": "de293909-6fc8-4757-9219-8b4b05d5937e",
   "metadata": {},
   "outputs": [],
   "source": [
    "data['lang'] = data.Plot.progress_map(detect)"
   ]
  },
  {
   "cell_type": "code",
   "execution_count": null,
   "id": "9c50f378-bd9c-4037-bad7-a1e751c3dc85",
   "metadata": {},
   "outputs": [],
   "source": [
    "data.lang.value_counts()"
   ]
  },
  {
   "cell_type": "code",
   "execution_count": null,
   "id": "b14c6c7d-f5ba-43fe-a662-346098ff28dd",
   "metadata": {},
   "outputs": [],
   "source": [
    "data = data.loc[data.lang=='en']"
   ]
  },
  {
   "cell_type": "markdown",
   "id": "3af6361f-52ca-4e46-b3f4-13b4ea6aa86c",
   "metadata": {},
   "source": [
    "## Tokenization"
   ]
  },
  {
   "cell_type": "code",
   "execution_count": null,
   "id": "d87fbfe4-ab63-4b7d-abb3-cf1d8134804d",
   "metadata": {},
   "outputs": [],
   "source": [
    "data['sentences'] = data.Plot.progress_map(sent_tokenize)"
   ]
  },
  {
   "cell_type": "code",
   "execution_count": null,
   "id": "b2fec146-db05-428c-9829-02ba8a238651",
   "metadata": {},
   "outputs": [],
   "source": [
    "data['tokens_sentences'] = data['sentences'].progress_map(lambda sentences: [word_tokenize(sentence) for sentence in sentences])"
   ]
  },
  {
   "cell_type": "markdown",
   "id": "67fa881b-c992-416c-aa42-54967ffe8d20",
   "metadata": {},
   "source": [
    "## Lemmatization"
   ]
  },
  {
   "cell_type": "code",
   "execution_count": null,
   "id": "62b0cdaf-325b-4bf4-9cf3-c7efb701706f",
   "metadata": {},
   "outputs": [],
   "source": [
    "data['POS_tokens'] = data['tokens_sentences'].progress_map(lambda tokens_sentences: [pos_tag(tokens) for tokens in tokens_sentences])"
   ]
  },
  {
   "cell_type": "code",
   "execution_count": null,
   "id": "32fffe56-3a4f-4d7a-bfb3-15dffa986779",
   "metadata": {},
   "outputs": [],
   "source": [
    "def get_wordnet_pos(treebank_tag):\n",
    "\n",
    "    if treebank_tag.startswith('J'):\n",
    "        return wordnet.ADJ\n",
    "    elif treebank_tag.startswith('V'):\n",
    "        return wordnet.VERB\n",
    "    elif treebank_tag.startswith('N'):\n",
    "        return wordnet.NOUN\n",
    "    elif treebank_tag.startswith('R'):\n",
    "        return wordnet.ADV\n",
    "    else:\n",
    "        return ''\n",
    "    \n",
    "lemmatizer = WordNetLemmatizer()"
   ]
  },
  {
   "cell_type": "code",
   "execution_count": null,
   "id": "fa0c4bbf-9d2c-4506-93d8-f21bb6d26469",
   "metadata": {},
   "outputs": [],
   "source": [
    "# Lemmatizing each word with its POS tag, in each sentence\n",
    "data['tokens_sentences_lemmatized'] = data['POS_tokens'].progress_map(\n",
    "    lambda list_tokens_POS: [\n",
    "        [\n",
    "            lemmatizer.lemmatize(el[0], get_wordnet_pos(el[1])) \n",
    "            if get_wordnet_pos(el[1]) != '' else el[0] for el in tokens_POS\n",
    "        ] \n",
    "        for tokens_POS in list_tokens_POS\n",
    "    ]\n",
    ")"
   ]
  },
  {
   "cell_type": "code",
   "execution_count": null,
   "id": "166929ad-d3d2-4c77-82a2-4bf8e562a0ec",
   "metadata": {},
   "outputs": [],
   "source": [
    "os.makedirs('data', exist_ok=True)  \n",
    "data.to_pickle('data/plot_summaries_mid.pkl')"
   ]
  },
  {
   "cell_type": "markdown",
   "id": "8fbc3ead-b7a5-49bd-b3c1-2de1025eae0e",
   "metadata": {},
   "source": [
    "## Regrouping tokens and removing stop words"
   ]
  },
  {
   "cell_type": "code",
   "execution_count": 5,
   "id": "77ccc5b5-44e0-46be-af27-d43d1f3220de",
   "metadata": {},
   "outputs": [],
   "source": [
    "data = pd.read_pickle('data/plot_summaries_mid.pkl')"
   ]
  },
  {
   "cell_type": "markdown",
   "id": "5db52fe6-f6b5-4e59-a14b-c9a4b1dbc1f9",
   "metadata": {},
   "source": [
    "---\n",
    "**Names**"
   ]
  },
  {
   "cell_type": "code",
   "execution_count": 6,
   "id": "f4e49a73-424c-4595-9a5d-f18f39063bcd",
   "metadata": {},
   "outputs": [],
   "source": [
    "nd = NameDataset()\n",
    "names = nd.get_top_names(n=2000, country_alpha2=\"US\")\n",
    "names = names[\"US\"][\"M\"] + names[\"US\"][\"F\"]\n",
    "names = [name.lower() for name in names]"
   ]
  },
  {
   "cell_type": "markdown",
   "id": "0e133490-181b-4774-846d-7dbbcfe60a39",
   "metadata": {},
   "source": [
    "---"
   ]
  },
  {
   "cell_type": "code",
   "execution_count": 7,
   "id": "6a2a65a8-ba20-4aa2-b014-934764a15d8c",
   "metadata": {},
   "outputs": [
    {
     "data": {
      "application/vnd.jupyter.widget-view+json": {
       "model_id": "9d54f5c2244047f8bfea457ac02709f0",
       "version_major": 2,
       "version_minor": 0
      },
      "text/plain": [
       "  0%|          | 0/42276 [00:00<?, ?it/s]"
      ]
     },
     "metadata": {},
     "output_type": "display_data"
    }
   ],
   "source": [
    "#stops_1 = ['use', 'take', 'one', 'find', 'kill', 'two', 'leave', 'however', 'life', 'also', 'make', 'play', 'go', 'get', 'tell', 'work', 'friend', 'woman', 'wife', 'husband', 'meet']\n",
    "#stops_2 = ['return', 'family', 'love', 'see', 'ask', 'house', 'try', 'back', 'escape', 'run']\n",
    "#stops_3 = ['discover', 'man', 'help', 'attack', 'give', 'show', 'want', 'end', 'become', 'child', 'come']\n",
    "#stops_4 = ['police', 'decide', 'fight', 'father', 'son', 'fall', 'know', 'daughter', 'mother', 'home', 'live', 'say', 'start', 'group']\n",
    "#stops = stops_1 + stops_2 + stops_3 + names\n",
    "\n",
    "stops = [\"one\", \"two\", \"also\", \"see\", \"take\", \"get\", \"find\", \"try\", \"however\", \"go\", \"come\", \"leave\", \"become\", \"make\", \"back\", \"run\"]\n",
    "my_stopwords = stopwords.words('English') + names + stops\n",
    "\n",
    "data['tokens'] = data['tokens_sentences_lemmatized'].progress_map(lambda sentences: list(chain.from_iterable(sentences)))"
   ]
  },
  {
   "cell_type": "code",
   "execution_count": 8,
   "id": "95cc6ff8-1085-439c-a032-f7f757b3d9a9",
   "metadata": {},
   "outputs": [
    {
     "data": {
      "application/vnd.jupyter.widget-view+json": {
       "model_id": "63a8685c5cd2480aaad03f5cc8c27ea6",
       "version_major": 2,
       "version_minor": 0
      },
      "text/plain": [
       "  0%|          | 0/42276 [00:00<?, ?it/s]"
      ]
     },
     "metadata": {},
     "output_type": "display_data"
    }
   ],
   "source": [
    "data['tokens'] = data['tokens'].progress_map(lambda tokens: [token.lower() for token in tokens if token.isalpha() \n",
    "                                                    and token.lower() not in my_stopwords and len(token)>1])"
   ]
  },
  {
   "cell_type": "markdown",
   "id": "fa4e74b7-d106-42b2-a1a7-70022eb5b5b3",
   "metadata": {},
   "source": [
    "## Saving our results"
   ]
  },
  {
   "cell_type": "markdown",
   "id": "9de96c38-9e9a-41ca-9cf1-70aa243bf649",
   "metadata": {},
   "source": [
    "# LDA <a id='lda'></a>\n",
    "Loading the preprocessed data (in case [preprocessing](#preprocess) part is not run)"
   ]
  },
  {
   "cell_type": "markdown",
   "id": "4c2e6c15-5fd7-4c7d-aabb-6b120cdf426f",
   "metadata": {},
   "source": [
    "## Data preparation\n",
    "### Prepare bi-grams and tri-grams"
   ]
  },
  {
   "cell_type": "code",
   "execution_count": 9,
   "id": "cab7ca7b-83fe-4046-a625-35df0add64ee",
   "metadata": {},
   "outputs": [],
   "source": [
    "tokens = data['tokens'].tolist()\n",
    "bigram_model = Phrases(tokens)\n",
    "trigram_model = Phrases(bigram_model[tokens], min_count=1)\n",
    "tokens = list(trigram_model[bigram_model[tokens]])"
   ]
  },
  {
   "cell_type": "markdown",
   "id": "2e06a628-4599-4ac8-8257-432e4a0a169c",
   "metadata": {},
   "source": [
    "### Prepare objects for LDA gensim implementation"
   ]
  },
  {
   "cell_type": "code",
   "execution_count": 10,
   "id": "56f550dc-4693-414e-9b71-26814980ed3c",
   "metadata": {},
   "outputs": [],
   "source": [
    "dictionary_LDA = corpora.Dictionary(tokens)\n",
    "dictionary_LDA.filter_extremes(no_below=3)\n",
    "corpus = [dictionary_LDA.doc2bow(tok) for tok in tokens]"
   ]
  },
  {
   "cell_type": "markdown",
   "id": "90b8b516-12be-4956-9fd7-9cac93394121",
   "metadata": {},
   "source": [
    "## Implementation"
   ]
  },
  {
   "cell_type": "code",
   "execution_count": 11,
   "id": "073deb0e-cf22-4c02-a10f-66a023d73e02",
   "metadata": {},
   "outputs": [
    {
     "name": "stdout",
     "output_type": "stream",
     "text": [
      "CPU times: user 1min 48s, sys: 382 ms, total: 1min 49s\n",
      "Wall time: 1min 36s\n"
     ]
    }
   ],
   "source": [
    "np.random.seed(123456)\n",
    "num_topics = 20\n",
    "%time lda_model = models.LdaModel(corpus, num_topics=num_topics, \\\n",
    "                                  id2word=dictionary_LDA, \\\n",
    "                                  passes=4, alpha=[0.01]*num_topics, \\\n",
    "                                  eta=[0.01]*len(dictionary_LDA.keys()))"
   ]
  },
  {
   "cell_type": "markdown",
   "id": "33a15564-1181-40e1-b926-79d4051408a7",
   "metadata": {},
   "source": [
    "# Assigning topics to plots"
   ]
  },
  {
   "cell_type": "code",
   "execution_count": 12,
   "id": "13ec3f9c-b20f-42b2-95b2-62392ab826bc",
   "metadata": {},
   "outputs": [],
   "source": [
    "topics = dict()\n",
    "for i,topic in lda_model.show_topics(formatted=True, num_topics=num_topics, num_words=20):\n",
    "    topics[i]=topic"
   ]
  },
  {
   "cell_type": "markdown",
   "id": "edaac411-c2e2-4fc1-9aa7-10fe1626abf8",
   "metadata": {},
   "source": [
    "## Example"
   ]
  },
  {
   "cell_type": "code",
   "execution_count": 13,
   "id": "bfa4d12c-00fb-4f23-b286-4d6a935a0f01",
   "metadata": {},
   "outputs": [
    {
     "data": {
      "text/plain": [
       "\"The president is on his way to give a speech. While he is traveling there a man shows up with a camera. A reporter tries to ask a member of the secret service a question. When the president enters he is shot by the man with the camera. The president's main bodyguard, Alex Thomas , is grazed by the bullet that hits the president. The shooter is gunned down by Alex and other secret service agents. The president dies at the hospital. Kate Crawford , an investigative journalist, starts asking questions about the assassination. Anyone she questions is killed. She goes to Alex Thomas's house to tell him what is happening. As they head to his boat, Thomas sees some men hiding in the bushes. He throws Kate into the water and dives in. Thomas jumps out of the water to kill two of the hitmen while a third hitman drives off to inform his boss what happened. They are able to link the hitmen to a man called Jack Baldwin . Agent Thomas and other Secret Service members attack the location of Jack Baldwin. Baldwin escapes but is later caught by Thomas. Thomas and Crawford are suspicious of Vaughan Stevens , Agent Thomas's boss, who had previous links to Baldwin. While reviewing film of the assassination at his house, Thomas discovers that Stevens handed the assassin a gun during the president's entrance. Thomas leaves to find Stevens while Kate stays at his house. When Thomas arrives at Stevens' home he finds him dead. Before entering, Thomas sees a car leaving the house. He then receives a call that Baldwin has escaped. Kate is attacked by Baldwin but Thomas arrives and kills Baldwin. Thomas arrives at the first lady's  home to see the car that left Steven's house pulling away. Thomas discovers that the first lady wanted her husband killed - due to the fact that the President was being unfaithful to her. A few weeks later Kate and Thomas have dinner. Thomas says that he still doesn't know who wanted the President dead.\""
      ]
     },
     "execution_count": 13,
     "metadata": {},
     "output_type": "execute_result"
    }
   ],
   "source": [
    "data.Plot[5]"
   ]
  },
  {
   "cell_type": "code",
   "execution_count": 14,
   "id": "b8c15f44-e2e1-4573-a2b3-b8317337f3b8",
   "metadata": {},
   "outputs": [
    {
     "data": {
      "text/plain": [
       "[(0, 1), (1, 1), (2, 1), (3, 1), (4, 1), (5, 1), (6, 1), (7, 1), (8, 1)]"
      ]
     },
     "execution_count": 14,
     "metadata": {},
     "output_type": "execute_result"
    }
   ],
   "source": [
    "corpus[0]"
   ]
  },
  {
   "cell_type": "code",
   "execution_count": 15,
   "id": "9043415b-8be4-4dbb-ba0e-082c4e4c60bd",
   "metadata": {},
   "outputs": [
    {
     "name": "stderr",
     "output_type": "stream",
     "text": [
      "100%|███████████████████████████████████| 42276/42276 [00:18<00:00, 2344.77it/s]\n"
     ]
    }
   ],
   "source": [
    "def takeSecond(elem):\n",
    "    return elem[1]\n",
    "\n",
    "def most_probable_topic(possible_topics):\n",
    "    possible_topics.sort(reverse=True, key = takeSecond)\n",
    "    return possible_topics[0][0]\n",
    "\n",
    "chosen_topics = list()\n",
    "for plot in tqdm(corpus):\n",
    "    possible_topics = lda_model[plot]\n",
    "    chosen_topic = most_probable_topic(possible_topics)\n",
    "    chosen_topics.append(chosen_topic)\n",
    "\n",
    "chosen_topics = np.array(chosen_topics)"
   ]
  },
  {
   "cell_type": "code",
   "execution_count": 16,
   "id": "e3065dee-c5d5-4138-b0e7-74c8b3649695",
   "metadata": {},
   "outputs": [
    {
     "data": {
      "text/html": [
       "<div>\n",
       "<style scoped>\n",
       "    .dataframe tbody tr th:only-of-type {\n",
       "        vertical-align: middle;\n",
       "    }\n",
       "\n",
       "    .dataframe tbody tr th {\n",
       "        vertical-align: top;\n",
       "    }\n",
       "\n",
       "    .dataframe thead th {\n",
       "        text-align: right;\n",
       "    }\n",
       "</style>\n",
       "<table border=\"1\" class=\"dataframe\">\n",
       "  <thead>\n",
       "    <tr style=\"text-align: right;\">\n",
       "      <th></th>\n",
       "      <th>Topic</th>\n",
       "      <th>Index</th>\n",
       "    </tr>\n",
       "  </thead>\n",
       "  <tbody>\n",
       "    <tr>\n",
       "      <th>0</th>\n",
       "      <td>16</td>\n",
       "      <td>0</td>\n",
       "    </tr>\n",
       "    <tr>\n",
       "      <th>1</th>\n",
       "      <td>6</td>\n",
       "      <td>1</td>\n",
       "    </tr>\n",
       "    <tr>\n",
       "      <th>2</th>\n",
       "      <td>16</td>\n",
       "      <td>2</td>\n",
       "    </tr>\n",
       "    <tr>\n",
       "      <th>3</th>\n",
       "      <td>1</td>\n",
       "      <td>3</td>\n",
       "    </tr>\n",
       "    <tr>\n",
       "      <th>4</th>\n",
       "      <td>16</td>\n",
       "      <td>4</td>\n",
       "    </tr>\n",
       "  </tbody>\n",
       "</table>\n",
       "</div>"
      ],
      "text/plain": [
       "   Topic  Index\n",
       "0     16      0\n",
       "1      6      1\n",
       "2     16      2\n",
       "3      1      3\n",
       "4     16      4"
      ]
     },
     "metadata": {},
     "output_type": "display_data"
    }
   ],
   "source": [
    "topics_df = pd.DataFrame(chosen_topics, columns = [\"Topic\"])\n",
    "\n",
    "topics_df[\"Index\"] = topics_df.index\n",
    "\n",
    "display(topics_df.head())"
   ]
  },
  {
   "cell_type": "code",
   "execution_count": 17,
   "id": "33a3ce44-5cc4-4f7e-99d7-3f57d5336942",
   "metadata": {},
   "outputs": [
    {
     "data": {
      "text/html": [
       "<div>\n",
       "<style scoped>\n",
       "    .dataframe tbody tr th:only-of-type {\n",
       "        vertical-align: middle;\n",
       "    }\n",
       "\n",
       "    .dataframe tbody tr th {\n",
       "        vertical-align: top;\n",
       "    }\n",
       "\n",
       "    .dataframe thead th {\n",
       "        text-align: right;\n",
       "    }\n",
       "</style>\n",
       "<table border=\"1\" class=\"dataframe\">\n",
       "  <thead>\n",
       "    <tr style=\"text-align: right;\">\n",
       "      <th></th>\n",
       "      <th>WikiMovieID</th>\n",
       "      <th>Plot</th>\n",
       "      <th>Topic</th>\n",
       "    </tr>\n",
       "  </thead>\n",
       "  <tbody>\n",
       "    <tr>\n",
       "      <th>0</th>\n",
       "      <td>23890098</td>\n",
       "      <td>Shlykov, a hard-working taxi driver and Lyosha, a saxophonist, develop a bizarre love-hate relationship, and despite their prejudices, realize they aren't so different after all.</td>\n",
       "      <td>16</td>\n",
       "    </tr>\n",
       "    <tr>\n",
       "      <th>1</th>\n",
       "      <td>31186339</td>\n",
       "      <td>The nation of Panem consists of a wealthy Capitol and twelve poorer districts. As punishment for a past rebellion, each district must provide a boy and girl  between the ages of 12 and 18 selected by lottery  for the annual Hunger Games. The tributes must fight to the death in an arena; the sole survivor is rewarded with fame and wealth. In her first Reaping, 12-year-old Primrose Everdeen is chosen from District 12. Her older sister Katniss volunteers to take her place. Peeta Mellark, a baker's son who once gave Katniss bread when she was starving, is the other District 12 tribute. Katniss and Peeta are taken to the Capitol, accompanied by their frequently drunk mentor, past victor Haymitch Abernathy. He warns them about the \"Career\" tributes who train intensively at special academies and almost always win. During a TV interview with Caesar Flickerman, Peeta unexpectedly reveals his love for Katniss. She is outraged, believing it to be a ploy to gain audience support, as \"sponsors\" may provide in-Games gifts of food, medicine, and tools. However, she discovers Peeta meant what he said. The televised Games begin with half of the tributes killed in the first few minutes; Katniss barely survives ignoring Haymitch's advice to run away from the melee over the tempting supplies and weapons strewn in front of a structure called the Cornucopia. Peeta forms an uneasy alliance with the four Careers. They later find Katniss and corner her up a tree. Rue, hiding in a nearby tree, draws her attention to a poisonous tracker jacker nest hanging from a branch. Katniss drops it on her sleeping besiegers. They all scatter, except for Glimmer, who is killed by the insects. Hallucinating due to tracker jacker venom, Katniss is warned to run away by Peeta. Rue cares for Katniss for a couple of days until she recovers. Meanwhile, the alliance has gathered all the supplies into a pile. Katniss has Rue draw them off, then destroys the stockpile by setting off the mines planted around it. Furious, Cato kills the boy assigned to guard it. As Katniss runs from the scene, she hears Rue calling her name. She finds Rue trapped and releases her. Marvel, a tribute from District 1, throws a spear at Katniss, but she dodges the spear, causing it to stab Rue in the stomach instead. Katniss shoots him dead with an arrow. She then comforts the dying Rue with a song. Afterward, she gathers and arranges flowers around Rue's body. When this is televised, it sparks a riot in Rue's District 11. President Snow summons Seneca Crane, the Gamemaker, to express his displeasure at the way the Games are turning out. Since Katniss and Peeta have been presented to the public as \"star-crossed lovers\", Haymitch is able to convince Crane to make a rule change to avoid inciting further riots. It is announced that tributes from the same district can win as a pair. Upon hearing this, Katniss searches for Peeta and finds him with an infected sword wound in the leg. She portrays herself as deeply in love with him and gains a sponsor's gift of soup. An announcer proclaims a feast, where the thing each survivor needs most will be provided. Peeta begs her not to risk getting him medicine. Katniss promises not to go, but after he falls asleep, she heads to the feast. Clove ambushes her and pins her down. As Clove gloats, Thresh, the other District 11 tribute, kills Clove after overhearing her tormenting Katniss about killing Rue. He spares Katniss \"just this time...for Rue\". The medicine works, keeping Peeta mobile. Foxface, the girl from District 5, dies from eating nightlock berries she stole from Peeta; neither knew they are highly poisonous. Crane changes the time of day in the arena to late at night and unleashes a pack of hound-like creatures to speed things up. They kill Thresh and force Katniss and Peeta to flee to the roof of the Cornucopia, where they encounter Cato. After a battle, Katniss wounds Cato with an arrow and Peeta hurls him to the creatures below. Katniss shoots Cato to spare him a prolonged death. With Peeta and Katniss apparently victorious, the rule change allowing two winners is suddenly revoked. Peeta tells Katniss to shoot him. Instead, she gives him half of the nightlock. However, before they can commit suicide, they are hastily proclaimed the victors of the 74th Hunger Games. Haymitch warns Katniss that she has made powerful enemies after her display of defiance. She and Peeta return to District 12, while Crane is locked in a room with a bowl of nightlock berries, and President Snow considers the situation.</td>\n",
       "      <td>6</td>\n",
       "    </tr>\n",
       "  </tbody>\n",
       "</table>\n",
       "</div>"
      ],
      "text/plain": [
       "   WikiMovieID  \\\n",
       "0     23890098   \n",
       "1     31186339   \n",
       "\n",
       "                                                                                                                                                                                                                                                                                                                                                                                                                                                                                                                                                                                                                                                                                                                                                                                                                                                                                                                                                                                                                                                                                                                                                                                                                                                                                                                                                                                                                                                                                                                                                                                                                                                                                                                                                                                                                                                                                                                                                                                                                                                                                                                                                                                                                                                                                                                                                                                                                                                                                                                                                                                                                                                                                                                                                                                                                                                                                                                                                                                                                                                                                                                                                                                                                                                                                                                                                                                                                                                                                                                                                                                                                                                                                                                                                                                                                                                                                                                                                                                                                                                                                                                                                                                                                                                                                                                                                                                                                                                                                                                                                                                                                                                                                                                                              Plot  \\\n",
       "0                                                                                                                                                                                                                                                                                                                                                                                                                                                                                                                                                                                                                                                                                                                                                                                                                                                                                                                                                                                                                                                                                                                                                                                                                                                                                                                                                                                                                                                                                                                                                                                                                                                                                                                                                                                                                                                                                                                                                                                                                                                                                                                                                                                                                                                                                                                                                                                                                                                                                                                                                                                                                                                                                                                                                                                                                                                                                                                                                                                                                                                                                                                                                                                                                                                                                                                                                                                                                                                                                                                                                                                                                                                                                                                                                                                                                                                                                                                                                                                                                                                                                                                                                                                                                                                                                                                                                                                                                                                                                                                                                               Shlykov, a hard-working taxi driver and Lyosha, a saxophonist, develop a bizarre love-hate relationship, and despite their prejudices, realize they aren't so different after all.   \n",
       "1  The nation of Panem consists of a wealthy Capitol and twelve poorer districts. As punishment for a past rebellion, each district must provide a boy and girl  between the ages of 12 and 18 selected by lottery  for the annual Hunger Games. The tributes must fight to the death in an arena; the sole survivor is rewarded with fame and wealth. In her first Reaping, 12-year-old Primrose Everdeen is chosen from District 12. Her older sister Katniss volunteers to take her place. Peeta Mellark, a baker's son who once gave Katniss bread when she was starving, is the other District 12 tribute. Katniss and Peeta are taken to the Capitol, accompanied by their frequently drunk mentor, past victor Haymitch Abernathy. He warns them about the \"Career\" tributes who train intensively at special academies and almost always win. During a TV interview with Caesar Flickerman, Peeta unexpectedly reveals his love for Katniss. She is outraged, believing it to be a ploy to gain audience support, as \"sponsors\" may provide in-Games gifts of food, medicine, and tools. However, she discovers Peeta meant what he said. The televised Games begin with half of the tributes killed in the first few minutes; Katniss barely survives ignoring Haymitch's advice to run away from the melee over the tempting supplies and weapons strewn in front of a structure called the Cornucopia. Peeta forms an uneasy alliance with the four Careers. They later find Katniss and corner her up a tree. Rue, hiding in a nearby tree, draws her attention to a poisonous tracker jacker nest hanging from a branch. Katniss drops it on her sleeping besiegers. They all scatter, except for Glimmer, who is killed by the insects. Hallucinating due to tracker jacker venom, Katniss is warned to run away by Peeta. Rue cares for Katniss for a couple of days until she recovers. Meanwhile, the alliance has gathered all the supplies into a pile. Katniss has Rue draw them off, then destroys the stockpile by setting off the mines planted around it. Furious, Cato kills the boy assigned to guard it. As Katniss runs from the scene, she hears Rue calling her name. She finds Rue trapped and releases her. Marvel, a tribute from District 1, throws a spear at Katniss, but she dodges the spear, causing it to stab Rue in the stomach instead. Katniss shoots him dead with an arrow. She then comforts the dying Rue with a song. Afterward, she gathers and arranges flowers around Rue's body. When this is televised, it sparks a riot in Rue's District 11. President Snow summons Seneca Crane, the Gamemaker, to express his displeasure at the way the Games are turning out. Since Katniss and Peeta have been presented to the public as \"star-crossed lovers\", Haymitch is able to convince Crane to make a rule change to avoid inciting further riots. It is announced that tributes from the same district can win as a pair. Upon hearing this, Katniss searches for Peeta and finds him with an infected sword wound in the leg. She portrays herself as deeply in love with him and gains a sponsor's gift of soup. An announcer proclaims a feast, where the thing each survivor needs most will be provided. Peeta begs her not to risk getting him medicine. Katniss promises not to go, but after he falls asleep, she heads to the feast. Clove ambushes her and pins her down. As Clove gloats, Thresh, the other District 11 tribute, kills Clove after overhearing her tormenting Katniss about killing Rue. He spares Katniss \"just this time...for Rue\". The medicine works, keeping Peeta mobile. Foxface, the girl from District 5, dies from eating nightlock berries she stole from Peeta; neither knew they are highly poisonous. Crane changes the time of day in the arena to late at night and unleashes a pack of hound-like creatures to speed things up. They kill Thresh and force Katniss and Peeta to flee to the roof of the Cornucopia, where they encounter Cato. After a battle, Katniss wounds Cato with an arrow and Peeta hurls him to the creatures below. Katniss shoots Cato to spare him a prolonged death. With Peeta and Katniss apparently victorious, the rule change allowing two winners is suddenly revoked. Peeta tells Katniss to shoot him. Instead, she gives him half of the nightlock. However, before they can commit suicide, they are hastily proclaimed the victors of the 74th Hunger Games. Haymitch warns Katniss that she has made powerful enemies after her display of defiance. She and Peeta return to District 12, while Crane is locked in a room with a bowl of nightlock berries, and President Snow considers the situation.   \n",
       "\n",
       "   Topic  \n",
       "0     16  \n",
       "1      6  "
      ]
     },
     "metadata": {},
     "output_type": "display_data"
    }
   ],
   "source": [
    "data.drop(columns=[\"lang\", \"sentences\", \"tokens_sentences\", \"POS_tokens\",\"tokens_sentences_lemmatized\", \"tokens\"], inplace=True)\n",
    "\n",
    "data[\"Index\"] = data.index\n",
    "\n",
    "data = data.merge(topics_df, left_on=\"Index\", right_on=\"Index\").drop(columns=[\"Index\"])\n",
    "\n",
    "display(data.head(2))"
   ]
  },
  {
   "cell_type": "code",
   "execution_count": 18,
   "id": "e4e260de-f00e-4d61-b3a3-60eb556c1dbe",
   "metadata": {},
   "outputs": [
    {
     "data": {
      "text/plain": [
       "2     11285\n",
       "3      6411\n",
       "16     4616\n",
       "6      4453\n",
       "19     3948\n",
       "0      3047\n",
       "11     1729\n",
       "15     1373\n",
       "7      1255\n",
       "13     1064\n",
       "17     1012\n",
       "1       936\n",
       "5       466\n",
       "8       175\n",
       "18      141\n",
       "9       134\n",
       "12       83\n",
       "10       71\n",
       "14       36\n",
       "4        14\n",
       "Name: Topic, dtype: int64"
      ]
     },
     "execution_count": 18,
     "metadata": {},
     "output_type": "execute_result"
    }
   ],
   "source": [
    "data.Topic.value_counts()"
   ]
  },
  {
   "cell_type": "markdown",
   "id": "a5db9424-9a21-4cb8-a993-f42c32f8f903",
   "metadata": {},
   "source": [
    "---\n",
    "\n",
    "# Results"
   ]
  },
  {
   "cell_type": "code",
   "execution_count": 19,
   "id": "3abed4a7-7b94-4245-9282-1ac5fc5bd386",
   "metadata": {},
   "outputs": [],
   "source": [
    "topics_ = dict()\n",
    "for i,topic in lda_model.show_topics(formatted=False, num_topics=num_topics, num_words=20):\n",
    "    topics_[i]=topic"
   ]
  },
  {
   "cell_type": "code",
   "execution_count": 20,
   "id": "639811b7-10a7-40b8-81bc-3336378e12ea",
   "metadata": {},
   "outputs": [],
   "source": [
    "\"\"\"\n",
    "Counts for each word the number of topics that include it\n",
    "\"\"\"\n",
    "def count_words(topics_):\n",
    "    counts = dict()\n",
    "    for i in topics_:\n",
    "        for word in topics_[i]:\n",
    "            if word[0] in counts:\n",
    "                counts[word[0]]+=1\n",
    "            else:\n",
    "                counts[word[0]]=1\n",
    "    return counts"
   ]
  },
  {
   "cell_type": "code",
   "execution_count": 21,
   "id": "c315a4b4-2525-4f7b-bd02-97dec8439247",
   "metadata": {},
   "outputs": [
    {
     "data": {
      "text/plain": [
       "[('meet', 4),\n",
       " ('return', 4),\n",
       " ('time', 4),\n",
       " ('end', 4),\n",
       " ('kill', 4),\n",
       " ('escape', 4),\n",
       " ('fight', 4)]"
      ]
     },
     "execution_count": 21,
     "metadata": {},
     "output_type": "execute_result"
    }
   ],
   "source": [
    "counts = count_words(topics_)\n",
    "repeated_words = [(k,v) for k,v in counts.items() if v>=4]\n",
    "repeated_words.sort(reverse=True, key = takeSecond)\n",
    "repeated_words"
   ]
  },
  {
   "cell_type": "code",
   "execution_count": 22,
   "id": "81c39a5e-3bfa-4912-b727-8d6a446cce59",
   "metadata": {},
   "outputs": [
    {
     "name": "stdout",
     "output_type": "stream",
     "text": [
      "Topic 0 : ['family', 'father', 'child', 'daughter', 'brother', 'marry', 'mother', 'fall', 'girl', 'sister', 'house', 'live', 'village', 'wife', 'uncle', 'know', 'help', 'meet', 'home', 'story']\n",
      "\n",
      "Topic 1 : ['boy', 'money', 'car', 'kid', 'race', 'gang', 'pay', 'town', 'steal', 'work', 'sell', 'give', 'big', 'horse', 'owner', 'new', 'bank', 'decide', 'buy', 'old']\n",
      "\n",
      "Topic 2 : ['mother', 'father', 'life', 'friend', 'meet', 'work', 'family', 'decide', 'relationship', 'home', 'wife', 'live', 'parent', 'return', 'husband', 'woman', 'marry', 'time', 'new', 'end']\n",
      "\n",
      "Topic 3 : ['kill', 'police', 'escape', 'murder', 'shoot', 'men', 'tell', 'help', 'plan', 'meet', 'reveal', 'arrest', 'fight', 'gang', 'brother', 'name', 'death', 'gun', 'later', 'arrive']\n",
      "\n",
      "Topic 4 : ['camp', 'japanese', 'bowen', 'expand_section', 'japan', 'circus', 'lion', 'tokyo', 'mace', 'sullivan', 'whitey', 'toshio', 'africa', 'preacher', 'tarzan', 'finch', 'pa', 'godfrey', 'oz', 'mississippi']\n",
      "\n",
      "Topic 5 : ['woman', 'room', 'sex', 'apartment', 'book', 'hotel', 'show', 'guest', 'act', 'begin', 'doctor', 'discover', 'appear', 'night', 'turn', 'perform', 'return', 'face', 'club', 'dance']\n",
      "\n",
      "Topic 6 : ['tell', 'say', 'ask', 'house', 'call', 'give', 'home', 'want', 'show', 'next', 'later', 'night', 'friend', 'talk', 'look', 'time', 'know', 'arrive', 'start', 'think']\n",
      "\n",
      "Topic 7 : ['kill', 'house', 'dog', 'attack', 'body', 'dead', 'group', 'ghost', 'begin', 'discover', 'zombie', 'death', 'car', 'head', 'girl', 'escape', 'night', 'die', 'porky', 'inside']\n",
      "\n",
      "Topic 8 : ['baron', 'english', 'return', 'morton', 'adams', 'laxmi', 'hawk', 'england', 'villa', 'barney', 'native', 'nbsp', 'ford', 'penguin', 'thompson', 'babu', 'steele', 'thailand', 'cardinal', 'donor']\n",
      "\n",
      "Topic 9 : ['dragon', 'queen', 'castle', 'witch', 'palace', 'daffy', 'kingdom', 'give', 'knight', 'wu', 'emperor', 'order', 'fall', 'lord', 'guard', 'crown', 'magic', 'sword', 'turner', 'away']\n",
      "\n",
      "Topic 10 : ['team', 'village', 'win', 'villager', 'fight', 'mayor', 'factory', 'competition', 'match', 'local', 'roberts', 'canada', 'fighter', 'worker', 'champion', 'foster', 'train', 'defeat', 'boxer', 'arena']\n",
      "\n",
      "Topic 11 : ['men', 'soldier', 'kill', 'order', 'war', 'agent', 'group', 'attack', 'force', 'mission', 'army', 'send', 'lead', 'general', 'president', 'officer', 'capture', 'team', 'plan', 'base']\n",
      "\n",
      "Topic 12 : ['ship', 'raju', 'crew', 'island', 'captain', 'kong', 'boat', 'miller', 'bond', 'sea', 'pirate', 'treasure', 'sailor', 'sir', 'gold', 'wong', 'smuggler', 'fei', 'gayatri', 'jeb']\n",
      "\n",
      "Topic 13 : ['fall', 'attempt', 'head', 'end', 'mouse', 'water', 'fly', 'use', 'start', 'cause', 'catch', 'way', 'escape', 'land', 'away', 'tree', 'begin', 'pull', 'finally', 'trap']\n",
      "\n",
      "Topic 14 : ['train', 'godzilla', 'hayes', 'cabot', 'passenger', 'station', 'mine', 'shaw', 'jews', 'jewish', 'burke', 'nazis', 'goofy', 'berlin', 'germans', 'nazi', 'hillbilly', 'cable', 'first_class', 'jew']\n",
      "\n",
      "Topic 15 : ['film', 'show', 'play', 'movie', 'story', 'scene', 'character', 'include', 'first', 'actor', 'life', 'director', 'end', 'song', 'music', 'set', 'world', 'part', 'follow', 'interview']\n",
      "\n",
      "Topic 16 : ['life', 'wife', 'people', 'story', 'woman', 'work', 'death', 'lead', 'time', 'case', 'involve', 'film', 'family', 'doctor', 'even', 'know', 'state', 'place', 'whose', 'city']\n",
      "\n",
      "Topic 17 : ['school', 'student', 'girl', 'teacher', 'class', 'friend', 'new', 'college', 'win', 'professor', 'teach', 'classmate', 'decide', 'father', 'high_school', 'help', 'fight', 'meet', 'first', 'start']\n",
      "\n",
      "Topic 18 : ['game', 'play', 'band', 'bugs', 'player', 'vampire', 'wile', 'coyote', 'kamini', 'end', 'coach', 'sing', 'team', 'rabbit', 'ball', 'road_runner', 'turn', 'ho', 'concert', 'kabir']\n",
      "\n",
      "Topic 19 : ['use', 'kill', 'destroy', 'world', 'attack', 'fight', 'escape', 'human', 'earth', 'discover', 'save', 'return', 'power', 'time', 'monster', 'force', 'reveal', 'battle', 'capture', 'group']\n",
      "\n"
     ]
    }
   ],
   "source": [
    "for i in topics_:\n",
    "    message = \"Topic {} : \".format(i) \n",
    "    words = str([k for (k,v) in topics_[i]])\n",
    "    print(message+words)\n",
    "    print()"
   ]
  },
  {
   "cell_type": "markdown",
   "id": "53b2a7de-f41b-42f3-b540-620ea5f3ae9a",
   "metadata": {},
   "source": [
    "## Top 10 most frequent topics"
   ]
  },
  {
   "cell_type": "code",
   "execution_count": 34,
   "id": "b8cfd5bc-19f2-4f38-9ae5-b7b46c425325",
   "metadata": {},
   "outputs": [
    {
     "name": "stdout",
     "output_type": "stream",
     "text": [
      "Topic 2 : ['mother', 'father', 'life', 'friend', 'meet', 'work', 'family', 'decide', 'relationship', 'home', 'wife', 'live', 'parent', 'return', 'husband', 'woman', 'marry', 'time', 'new', 'end'](11285)\n",
      "\n",
      "Topic 3 : ['kill', 'police', 'escape', 'murder', 'shoot', 'men', 'tell', 'help', 'plan', 'meet', 'reveal', 'arrest', 'fight', 'gang', 'brother', 'name', 'death', 'gun', 'later', 'arrive'](6411)\n",
      "\n",
      "Topic 16 : ['life', 'wife', 'people', 'story', 'woman', 'work', 'death', 'lead', 'time', 'case', 'involve', 'film', 'family', 'doctor', 'even', 'know', 'state', 'place', 'whose', 'city'](4616)\n",
      "\n",
      "Topic 6 : ['tell', 'say', 'ask', 'house', 'call', 'give', 'home', 'want', 'show', 'next', 'later', 'night', 'friend', 'talk', 'look', 'time', 'know', 'arrive', 'start', 'think'](4453)\n",
      "\n",
      "Topic 19 : ['use', 'kill', 'destroy', 'world', 'attack', 'fight', 'escape', 'human', 'earth', 'discover', 'save', 'return', 'power', 'time', 'monster', 'force', 'reveal', 'battle', 'capture', 'group'](3948)\n",
      "\n",
      "Topic 0 : ['family', 'father', 'child', 'daughter', 'brother', 'marry', 'mother', 'fall', 'girl', 'sister', 'house', 'live', 'village', 'wife', 'uncle', 'know', 'help', 'meet', 'home', 'story'](3047)\n",
      "\n",
      "Topic 11 : ['men', 'soldier', 'kill', 'order', 'war', 'agent', 'group', 'attack', 'force', 'mission', 'army', 'send', 'lead', 'general', 'president', 'officer', 'capture', 'team', 'plan', 'base'](1729)\n",
      "\n",
      "Topic 15 : ['film', 'show', 'play', 'movie', 'story', 'scene', 'character', 'include', 'first', 'actor', 'life', 'director', 'end', 'song', 'music', 'set', 'world', 'part', 'follow', 'interview'](1373)\n",
      "\n",
      "Topic 7 : ['kill', 'house', 'dog', 'attack', 'body', 'dead', 'group', 'ghost', 'begin', 'discover', 'zombie', 'death', 'car', 'head', 'girl', 'escape', 'night', 'die', 'porky', 'inside'](1255)\n",
      "\n",
      "Topic 13 : ['fall', 'attempt', 'head', 'end', 'mouse', 'water', 'fly', 'use', 'start', 'cause', 'catch', 'way', 'escape', 'land', 'away', 'tree', 'begin', 'pull', 'finally', 'trap'](1064)\n",
      "\n"
     ]
    }
   ],
   "source": [
    "topic_counts = data.Topic.value_counts()\n",
    "for i in topic_counts.index[:10]:\n",
    "    message = \"Topic {} : \".format(i) \n",
    "    words = str([k for (k,v) in topics_[i]])\n",
    "    print(message+words + \"({})\".format(topic_counts[i]))\n",
    "    print()"
   ]
  },
  {
   "cell_type": "markdown",
   "id": "2e5bc4b2-4cda-48e0-9eb5-fb74545e913b",
   "metadata": {},
   "source": [
    "Top 10 topics include a few random topics (16,13,7)"
   ]
  },
  {
   "cell_type": "markdown",
   "id": "55ec4bdb-48a3-453d-8f76-7eba7140ebc5",
   "metadata": {},
   "source": [
    "## Visualization"
   ]
  },
  {
   "cell_type": "code",
   "execution_count": null,
   "id": "147fd293-0052-471b-a1be-6d50b67cfeb0",
   "metadata": {},
   "outputs": [],
   "source": [
    "%matplotlib inline\n",
    "import pyLDAvis\n",
    "import pyLDAvis.gensim_models as gensimvis\n",
    "vis = gensimvis.prepare(topic_model=lda_model, corpus=corpus, dictionary=dictionary_LDA)\n",
    "pyLDAvis.enable_notebook()\n",
    "pyLDAvis.display(vis)"
   ]
  }
 ],
 "metadata": {
  "kernelspec": {
   "display_name": "Python 3 (ipykernel)",
   "language": "python",
   "name": "python3"
  },
  "language_info": {
   "codemirror_mode": {
    "name": "ipython",
    "version": 3
   },
   "file_extension": ".py",
   "mimetype": "text/x-python",
   "name": "python",
   "nbconvert_exporter": "python",
   "pygments_lexer": "ipython3",
   "version": "3.8.12"
  }
 },
 "nbformat": 4,
 "nbformat_minor": 5
}
