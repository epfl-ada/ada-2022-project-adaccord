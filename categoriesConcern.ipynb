{
 "cells": [
  {
   "cell_type": "code",
   "execution_count": 1,
   "id": "885626ef-ef16-47bf-9a75-8aa7e5fe7fe1",
   "metadata": {},
   "outputs": [],
   "source": [
    "from empath import Empath"
   ]
  },
  {
   "cell_type": "code",
   "execution_count": 2,
   "id": "05cd7ae7-9659-4e96-a785-012f00a47464",
   "metadata": {},
   "outputs": [],
   "source": [
    "lexicon = Empath()"
   ]
  },
  {
   "cell_type": "markdown",
   "id": "8a5a06a2-5a9e-49bc-b9b5-40f93836c0e3",
   "metadata": {},
   "source": [
    "## Initial categories from empath"
   ]
  },
  {
   "cell_type": "code",
   "execution_count": 3,
   "id": "5a275a34-47eb-4222-b81f-7e3c278364b7",
   "metadata": {},
   "outputs": [
    {
     "data": {
      "text/plain": [
       "dict_keys(['help', 'office', 'dance', 'money', 'wedding', 'domestic_work', 'sleep', 'medical_emergency', 'cold', 'hate', 'cheerfulness', 'aggression', 'occupation', 'envy', 'anticipation', 'family', 'vacation', 'crime', 'attractive', 'masculine', 'prison', 'health', 'pride', 'dispute', 'nervousness', 'government', 'weakness', 'horror', 'swearing_terms', 'leisure', 'suffering', 'royalty', 'wealthy', 'tourism', 'furniture', 'school', 'magic', 'beach', 'journalism', 'morning', 'banking', 'social_media', 'exercise', 'night', 'kill', 'blue_collar_job', 'art', 'ridicule', 'play', 'computer', 'college', 'optimism', 'stealing', 'real_estate', 'home', 'divine', 'sexual', 'fear', 'irritability', 'superhero', 'business', 'driving', 'pet', 'childish', 'cooking', 'exasperation', 'religion', 'hipster', 'internet', 'surprise', 'reading', 'worship', 'leader', 'independence', 'movement', 'body', 'noise', 'eating', 'medieval', 'zest', 'confusion', 'water', 'sports', 'death', 'healing', 'legend', 'heroic', 'celebration', 'restaurant', 'violence', 'programming', 'dominant_heirarchical', 'military', 'neglect', 'swimming', 'exotic', 'love', 'hiking', 'communication', 'hearing', 'order', 'sympathy', 'hygiene', 'weather', 'anonymity', 'trust', 'ancient', 'deception', 'fabric', 'air_travel', 'fight', 'dominant_personality', 'music', 'vehicle', 'politeness', 'toy', 'farming', 'meeting', 'war', 'speaking', 'listen', 'urban', 'shopping', 'disgust', 'fire', 'tool', 'phone', 'gain', 'sound', 'injury', 'sailing', 'rage', 'science', 'work', 'appearance', 'valuable', 'warmth', 'youth', 'sadness', 'fun', 'emotional', 'joy', 'affection', 'traveling', 'fashion', 'ugliness', 'lust', 'shame', 'torment', 'economics', 'anger', 'politics', 'ship', 'clothing', 'car', 'strength', 'technology', 'breaking', 'shape_and_size', 'power', 'white_collar_job', 'animal', 'party', 'terrorism', 'smell', 'disappointment', 'poor', 'plant', 'pain', 'beauty', 'timidity', 'philosophy', 'negotiate', 'negative_emotion', 'cleaning', 'messaging', 'competing', 'law', 'friends', 'payment', 'achievement', 'alcohol', 'liquid', 'feminine', 'weapon', 'children', 'monster', 'ocean', 'giving', 'contentment', 'writing', 'rural', 'positive_emotion', 'musical'])"
      ]
     },
     "execution_count": 3,
     "metadata": {},
     "output_type": "execute_result"
    }
   ],
   "source": [
    "lexicon.cats.keys()"
   ]
  },
  {
   "cell_type": "markdown",
   "id": "00e844eb-6a0e-4eaf-a3ee-af5a89591cd3",
   "metadata": {},
   "source": [
    "## Concern categories creation\n",
    "Model used is \"reddit\", except for war category the model used is nytimes because it gave more accurate words."
   ]
  },
  {
   "cell_type": "markdown",
   "id": "0e18e36e-7ba2-4a44-8162-32fdf5934017",
   "metadata": {},
   "source": [
    "### Ecological concern lexical field"
   ]
  },
  {
   "cell_type": "code",
   "execution_count": 4,
   "id": "4027b200-9bda-4b61-a87b-be3dac73a6b3",
   "metadata": {},
   "outputs": [
    {
     "name": "stdout",
     "output_type": "stream",
     "text": [
      "[\"ecology\", \"global_climate_change\", \"climate_change\", \"human_activity\", \"climate\", \"human_activities\", \"biodiversity\", \"environmental_issues\", \"global_warming\", \"environment\", \"changing_climate\", \"Climate_change\", \"global_climate\", \"climate\", \"human_impact\", \"ocean_acidification\", \"climate_changes\", \"ecosystems\", \"biosphere\", \"environmental\", \"human_development\", \"climate_science\", \"environmental_problems\", \"scientific_research\", \"human_health\", \"human_influence\", \"environmental_impacts\", \"global_environment\", \"industrial_agriculture\", \"animal_agriculture\", \"rising_temperatures\", \"fisheries\", \"agriculture\", \"genetic_engineering\", \"environmental_changes\", \"ecological\", \"genetic_modification\", \"resource_depletion\", \"Global_warming\", \"environmental_concerns\", \"human_society\", \"scientific_consensus\", \"human_behavior\", \"weather_patterns\", \"anthropogenic_climate_change\", \"modern_agriculture\", \"natural_cycles\", \"anthropogenic\", \"human_survival\", \"food_system\", \"overpopulation\", \"Climate_Change\", \"environmentalism\", \"sustainable_energy\", \"food_production\", \"deforestation\", \"human_involvement\", \"Global_Warming\", \"many_scientists\", \"ecological_impact\", \"environmentalists\", \"greenhouse_gases\", \"entire_ecosystems\", \"scientific_advances\", \"environmental_degradation\", \"scientific_progress\", \"natural_processes\", \"environmental_change\", \"scientific_advancement\", \"human_behaviour\", \"reforestation\", \"evolution\", \"human_interference\", \"scientific_understanding\", \"catastrophic_climate_change\", \"overfishing\", \"human_actions\", \"geoengineering\", \"scientists\", \"science\", \"greenhouse_gasses\", \"environmental_protection\", \"local_environment\", \"GMOs\", \"climate_research\", \"desertification\", \"climate_system\", \"food_security\", \"environmental_conservation\", \"public_health\", \"geoengineering\", \"environmental_pollution\", \"water_conservation\", \"nuclear_energy\", \"environmental_policy\", \"climatology\", \"scientific_community\", \"technological_innovation\", \"GMO\", \"carbon_cycle\", \"natural_systems\", \"climatologists\", \"AGW\", \"public_policy\", \"human_evolution\", \"most_scientists\", \"pollution\", \"Most_scientists\", \"natural_environment\", \"natural_selection\", \"nuclear_power\", \"energy_industry\", \"natural_process\", \"environmental_damage\", \"space_exploration\", \"environmental_destruction\", \"natural_environments\", \"extinctions\", \"ecologist\", \"sustainable_agriculture\", \"social_structure\", \"Climate_science\", \"agricultural_practices\", \"environmental_impact\", \"ecologists\", \"mass_extinction\", \"habitat\", \"environmental_regulation\", \"farming_practices\", \"CO2_emissions\", \"greenhouse_gas_emissions\", \"basic_science\", \"carbon_emissions\", \"biology\", \"environmental_sciences\", \"plant_life\", \"technological_development\", \"climate_scientist\", \"policy_makers\", \"human_action\", \"coral_reefs\", \"sustainability\", \"organisms\", \"environmental_conditions\", \"land_management\", \"water_management\", \"food_supply\", \"social_systems\", \"evolutionary_biology\", \"water_cycle\", \"environmental_effects\", \"economic_systems\", \"medical_research\", \"environmental_issue\", \"Climate_scientists\", \"green_house_gases\", \"Environmentalists\", \"agribusiness\", \"human_genetics\", \"fracking\", \"carbon_sequestration\", \"fossil_fuels\", \"coal_industry\", \"energy_policy\", \"carbon_pollution\", \"scientific_process\", \"habitats\", \"greenhouse_effect\", \"biological_organisms\", \"social_structures\", \"habitat_destruction\"]\n"
     ]
    }
   ],
   "source": [
    "lexicon.create_category(\"ecological_concern\", [\"ecology\", \"environment\", \"climate_change\"], model=\"reddit\", size=200)"
   ]
  },
  {
   "cell_type": "code",
   "execution_count": 5,
   "id": "c99903f2-83b6-46a5-bdca-7a7509af7ae3",
   "metadata": {},
   "outputs": [
    {
     "data": {
      "text/plain": [
       "169"
      ]
     },
     "execution_count": 5,
     "metadata": {},
     "output_type": "execute_result"
    }
   ],
   "source": [
    "len(lexicon.cats[\"ecological_concern\"])"
   ]
  },
  {
   "cell_type": "markdown",
   "id": "530801fe-2256-4fcb-a361-3ca78aedf989",
   "metadata": {},
   "source": [
    "### Health concern lexical field"
   ]
  },
  {
   "cell_type": "code",
   "execution_count": 16,
   "id": "6e532edf-d329-4447-9511-5b9be4e4c632",
   "metadata": {},
   "outputs": [
    {
     "name": "stdout",
     "output_type": "stream",
     "text": [
      "[\"disease\", \"diseases\", \"illnesses\", \"infectious_diseases\", \"infectious_disease\", \"many_diseases\", \"various_diseases\", \"other_diseases\", \"disease\", \"diseases\", \"cancers\", \"other_causes\", \"epidemics\", \"other_disease\", \"most_diseases\", \"pandemics\", \"autoimmune_diseases\", \"chronic_diseases\", \"many_illnesses\", \"particular_disease\", \"serious_diseases\", \"communicable_diseases\", \"certain_disease\", \"serious_disease\", \"major_diseases\", \"tuberculosis\", \"common_cold\", \"immunosuppression\", \"certain_diseases\", \"deadly_diseases\", \"viral_infection\", \"other_illnesses\", \"certain_illnesses\", \"malaria\", \"prevention\", \"specific_disease\", \"underlying_conditions\", \"chronic_disease\", \"other_ailments\", \"deadly_disease\", \"illness\", \"other_conditions\", \"serious_complications\", \"immunization\", \"ailments\", \"risk_factors\", \"most_cancers\", \"serious_illness\", \"neurological_damage\", \"genetic_disease\", \"vaccination\", \"chemotherapy\", \"contagious_diseases\", \"related_conditions\", \"outbreaks\", \"viral_infections\", \"serious_side_effects\", \"communicable_disease\", \"inoculations\", \"influenza\", \"malignancy\", \"autoimmunity\", \"radiation_exposure\", \"other_medical_conditions\", \"contagious_disease\", \"vaccine\", \"serious_illnesses\", \"sicknesses\", \"HIV_infection\", \"many_conditions\", \"various_cancers\", \"Vaccines\", \"neurological_disorders\", \"HIV/AIDS\", \"preventable_diseases\", \"malnutrition\", \"medical_treatments\", \"childhood_diseases\", \"increased_risk\", \"terrible_diseases\", \"weakened_immune_system\", \"other_complications\", \"antibiotic_resistant_bacteria\", \"such_diseases\", \"decease\", \"single_disease\", \"infections\", \"certain_cancers\", \"sterility\", \"actual_disease\", \"vaccines\", \"infection\", \"other_infections\", \"birth_defects\", \"antibiotic_resistance\", \"effective_treatment\", \"hypertension\", \"autoimmune_disorders\", \"bacterial_infections\", \"susceptibility\", \"adverse_effects\", \"Vaccination\", \"Measles\", \"Influenza\", \"chronic_conditions\", \"health_conditions\", \"autoimmune_disease\", \"diabetes\", \"serious_effects\", \"mitochondrial_disease\", \"ailment\", \"sickness\", \"Vaccinations\", \"autoimmune_response\", \"pathogens\", \"Malaria\", \"Diseases\", \"several_diseases\", \"meningitis\", \"hospitalization\", \"mortality\", \"Antibiotics\", \"medical_treatment\", \"other_medical_issues\", \"Lyme_disease\", \"other_health_problems\", \"severe_complications\", \"cure\", \"rare_diseases\", \"outbreak\", \"weakened_immune_systems\", \"tumours\", \"human_disease\", \"_Vaccines\", \"antibiotic_use\", \"liver_disease\", \"Disease\", \"kidney_disease\", \"measles\", \"certain_medical_conditions\", \"cancer\", \"brain_tumors\", \"heart_conditions\", \"heart_disease\", \"HIV\", \"cancer_patients\", \"Tuberculosis\", \"organ_failure\", \"increased_risks\", \"polio\", \"desease\", \"genetic_disorders\", \"immunizations\", \"causes\", \"morbidity\", \"treatment\", \"curable\", \"immune_response\", \"treatable\", \"immune_function\", \"antibiotics\", \"blindness\", \"lyme\", \"malnourishment\", \"immune_system\", \"sickle_cell_anemia\", \"related_diseases\", \"medicines\", \"effective_treatments\", \"prophylaxis\"]\n"
     ]
    }
   ],
   "source": [
    "lexicon.create_category(\"health_concern\", [\"health\", \"disease\", \"pandemics\", \"medical\"], model=\"reddit\", size = 200)"
   ]
  },
  {
   "cell_type": "code",
   "execution_count": 17,
   "id": "804b2e70-e706-455b-b019-75f238820142",
   "metadata": {},
   "outputs": [
    {
     "data": {
      "text/plain": [
       "168"
      ]
     },
     "execution_count": 17,
     "metadata": {},
     "output_type": "execute_result"
    }
   ],
   "source": [
    "len(lexicon.cats[\"health_concern\"])"
   ]
  },
  {
   "cell_type": "markdown",
   "id": "84d6834c-2bae-4e1e-9040-e9e2a48632d1",
   "metadata": {},
   "source": [
    "### War and conflicts concern lexical field"
   ]
  },
  {
   "cell_type": "code",
   "execution_count": 18,
   "id": "eb2e0bb5-fd2d-4576-92c3-f2fee4acd233",
   "metadata": {},
   "outputs": [
    {
     "name": "stdout",
     "output_type": "stream",
     "text": [
      "[\"war\", \"armed_conflict\", \"warfare\", \"American_involvement\", \"terrorism\", \"nuclear_arms_race\", \"conflict\", \"nuclear_proliferation\", \"American_occupation\", \"military_power\", \"drug_war\", \"guerrilla_war\", \"arms_race\", \"insurgency\", \"American_presence\", \"superpowers\", \"military_intervention\", \"guerrilla_warfare\", \"American_role\", \"American_foreign_policy\", \"international_terrorism\", \"Iran-Iraq_war\", \"Islamic_fundamentalism\", \"long_war\", \"American_intervention\", \"cold_war\", \"military_establishment\", \"Soviet_threat\", \"Balkans\", \"domestic_politics\", \"occupation\", \"Soviet_military\", \"military_conflict\", \"disarmament\", \"new_war\", \"military_forces\", \"United_States_policy\", \"political_struggle\", \"nuclear_war\", \"the_cold_war\", \"American_government\", \"American_policy\", \"Korean_peninsula\", \"American_military_presence\", \"immigration\", \"extremism\", \"NATO_alliance\", \"ethnic_conflict\", \"political_dialogue\", \"destabilization\", \"Arab-Israeli_conflict\", \"Western_powers\", \"Israeli-Palestinian_conflict\", \"arms_control\", \"containment\", \"American_power\", \"nuclear\", \"Afghanistan\", \"current_crisis\", \"Indochina\", \"ethnic_conflicts\", \"hostilities\", \"nuclear_power\", \"Iraq\", \"illegal_immigration\", \"military_campaign\", \"military-industrial_complex\", \"military\", \"military_buildup\", \"American_leadership\", \"gulf_crisis\", \"repression\", \"strife\", \"regional_conflicts\", \"major_war\", \"all-out_war\", \"dictatorships\", \"American_military_power\", \"military_force\", \"wars\", \"South_Asia\", \"militancy\", \"wartime\", \"nuclear_arms\", \"terrorist_threat\", \"nuclear_disarmament\", \"nuclear_testing\", \"American_military\", \"Western_alliance\", \"American_interests\", \"former_Yugoslavia\", \"regimes\", \"civil_war\", \"the_Afghan_war\", \"U.S._policy\", \"national_security\", \"great_powers\", \"nuclear_threat\", \"civil_strife\", \"U.S._interests\", \"the_Korean_Peninsula\", \"armed_struggle\", \"Baltics\", \"deterrence\", \"United_States_interests\", \"Kurdistan\", \"Islamic_world\", \"military_presence\", \"immigration_policy\", \"armed_force\", \"national_sovereignty\", \"diplomacy\", \"postwar_Iraq\", \"current_conflict\", \"military_solution\", \"bloodshed\", \"Soviet_power\", \"separatism\", \"Iraq_war\", \"warlords\", \"civil_wars\", \"ethnic_tensions\", \"Soviet_bloc\", \"the_Middle_East\", \"nationalism\", \"nuclear_weapons\", \"emigration\", \"third_world\", \"militant_Islam\", \"American_effort\", \"Government_policy\", \"military_involvement\", \"political_leadership\", \"internal_conflicts\", \"Indonesian_military\", \"the_Soviet_Union's\", \"Islamic_extremism\", \"civil_unrest\", \"gulf\", \"American_security\", \"military\", \"Muslim_world\", \"Bosnian_war\", \"instability\", \"political_problems\", \"American_military_action\", \"military_occupation\", \"reunification\", \"democratization\", \"military_might\", \"world_opinion\", \"military_operations\", \"American_policies\", \"military_actions\", \"superpower\", \"military_confrontation\", \"collective_security\", \"human_rights_issues\", \"civil_conflict\", \"political_solution\", \"military_strategy\", \"escalation\", \"military_threat\", \"national_interest\", \"peacemaking\", \"chemical_warfare\", \"Islamic_militancy\", \"American_support\", \"nuclear_powers\", \"Iraqi_regime\", \"rebellions\", \"human_rights_abuses\", \"American_policy_makers\", \"Central_America\", \"Western_allies\", \"fundamentalism\", \"missile_defense\", \"colonialism\", \"insurrection\", \"global_terrorism\", \"total_war\", \"civil_liberties\", \"Iraqi_military\", \"nation-building\", \"air_power\", \"Persian_Gulf\", \"American_Government\", \"gulf_war\", \"peace_negotiations\", \"neighboring_countries\", \"neutrality\", \"political_opposition\", \"security_issues\", \"unification\", \"normalization\", \"U.S._military\", \"military_operation\", \"Iraqi_government\", \"government\", \"Balkan_war\"]\n"
     ]
    }
   ],
   "source": [
    "lexicon.create_category(\"conflict_concern\", [\"war\", \"conflict\", \"nuclear\", \"immigration\"], model=\"nytimes\", size = 200)"
   ]
  },
  {
   "cell_type": "code",
   "execution_count": 19,
   "id": "f10bcf60-8752-437d-89f0-1d04ae6dd3a5",
   "metadata": {},
   "outputs": [
    {
     "data": {
      "text/plain": [
       "199"
      ]
     },
     "execution_count": 19,
     "metadata": {},
     "output_type": "execute_result"
    }
   ],
   "source": [
    "len(lexicon.cats[\"conflict_concern\"])"
   ]
  },
  {
   "cell_type": "markdown",
   "id": "d83c5b78-04a4-48eb-80c8-75244e90c99a",
   "metadata": {},
   "source": [
    "### Technologies concern lexical field"
   ]
  },
  {
   "cell_type": "code",
   "execution_count": 20,
   "id": "7503ed9e-6ca3-4591-bcb6-c75104ac97ad",
   "metadata": {},
   "outputs": [
    {
     "name": "stdout",
     "output_type": "stream",
     "text": [
      "[\"technology\", \"technological_advancement\", \"technological_advances\", \"Artificial_intelligence\", \"technological_advancements\", \"technological_progress\", \"artificial_intelligence\", \"human_technology\", \"space_travel\", \"technological_development\", \"technology\", \"human_ingenuity\", \"advancements\", \"new_technologies\", \"computer_technology\", \"technological_innovation\", \"technological\", \"scientific_advances\", \"strong_AI\", \"true_AI\", \"human_civilization\", \"technological_advance\", \"space_technology\", \"technological_revolution\", \"machine_intelligence\", \"modern_technology\", \"new_technology\", \"nanotechnology\", \"advancing_technology\", \"space_colonization\", \"technological_singularity\", \"technologies\", \"high_technology\", \"technological_evolution\", \"future_technology\", \"civilization\", \"scientific_progress\", \"industrial_civilization\", \"space_flight\", \"AI_research\", \"Advancements\", \"technological_innovations\", \"human_kind\", \"human_intelligence\", \"information_age\", \"space_exploration\", \"technological_developments\", \"human_progress\", \"many_technologies\", \"industrial_revolution\", \"advancement\", \"human_civilisation\", \"technological_growth\", \"Advances\", \"human_advancement\", \"scientific_advancement\", \"post-scarcity\", \"advanced_technology\", \"exponential_growth\", \"_technology\", \"scientific_discovery\", \"superintelligence\", \"breakthroughs\", \"exponential_rate\", \"current_technology\", \"modern_age\", \"industrial_age\", \"interstellar_travel\", \"spaceflight\", \"AI_technology\", \"scientific_knowledge\", \"technological_progression\", \"scientific_advancements\", \"Technological_advancement\", \"new_inventions\", \"biosphere\", \"post-scarcity_society\", \"human_evolution\", \"future_technologies\", \"advanced_technologies\", \"human_development\", \"technological_capability\", \"Strong_AI\", \"robotics\", \"scientific_breakthroughs\", \"enough_technology\", \"digital_revolution\", \"scientific_development\", \"such_technology\", \"human_society\", \"discoveries\", \"information_technology\", \"fusion_power\", \"complex_systems\", \"futurists\", \"genetic_engineering\", \"human_engineering\", \"brightest_minds\", \"computing\", \"advanced_civilization\", \"industrialization\", \"technology_development\", \"modern_civilization\", \"other_technology\", \"biological_organisms\", \"digital_technology\", \"quantum_computing\", \"utopian_society\", \"emerging_technologies\", \"post_scarcity\", \"modern_industry\", \"Human_civilization\", \"human_thought\", \"other_technologies\", \"automation\", \"humankind\", \"_Technology\", \"advanced_society\", \"Space_exploration\", \"innovation\", \"paradigm_shift\", \"cold_fusion\", \"intelligent_machines\", \"existing_technology\", \"future_tech\", \"global_society\", \"certain_technologies\", \"revolutionary_technology\", \"industrial_society\", \"technological_age\", \"super-intelligence\", \"communications_technology\", \"incredible_technology\", \"_Humanity\", \"interplanetary_travel\", \"global_civilization\", \"certain_technology\", \"current_technologies\", \"post-scarcity_world\", \"A.I.\", \"human_consciousness\", \"faster-than-light_travel\", \"space_age\", \"Technology\", \"new_advances\", \"human_race\", \"scientific_discoveries\", \"human_labor\", \"technological_improvements\", \"modern_economy\", \"mechanization\", \"artificial_intelligences\", \"nuclear_fusion\", \"virtual_reality\", \"finite_resources\", \"biological_life\", \"consumer_technology\", \"space_programs\", \"Industrialization\", \"amazing_technology\", \"cheap_energy\", \"robots\", \"inventions\", \"AI_development\", \"space_colonies\", \"new_discoveries\", \"post_scarcity_society\", \"more_technology\", \"medical_advancements\"]\n"
     ]
    }
   ],
   "source": [
    "lexicon.create_category(\"technological_concern\", [\"Artificial_intelligence\", \"space\", \"technology\", \"progress\", \"industrial_revolution\"], model=\"reddit\", size = 200)"
   ]
  },
  {
   "cell_type": "code",
   "execution_count": 21,
   "id": "b5ba3f44-719d-405d-b1de-74b9cbc669f7",
   "metadata": {},
   "outputs": [
    {
     "data": {
      "text/plain": [
       "168"
      ]
     },
     "execution_count": 21,
     "metadata": {},
     "output_type": "execute_result"
    }
   ],
   "source": [
    "len(lexicon.cats[\"technological_concern\"])"
   ]
  },
  {
   "cell_type": "markdown",
   "id": "679add20-91d3-49b6-b4d2-a3f859a98961",
   "metadata": {},
   "source": [
    "### Gender inequalities concern lexical field"
   ]
  },
  {
   "cell_type": "code",
   "execution_count": 22,
   "id": "34e9983a-fa1c-4f19-a236-03d6628d17f3",
   "metadata": {},
   "outputs": [
    {
     "name": "stdout",
     "output_type": "stream",
     "text": [
      "[\"sexism\", \"misogyny\", \"rape_culture\", \"gender_inequality\", \"toxic_masculinity\", \"misandry\", \"misogyny\", \"misandry\", \"misogyny\", \"homophobia\", \"sexual_objectification\", \"victimization\", \"transphobia\", \"institutional_sexism\", \"slut-shaming\", \"Sexism\", \"blatant_sexism\", \"feminism\", \"male_rape\", \"slut_shaming\", \"racism\", \"feminist_movement\", \"mysogyny\", \"transmisogyny\", \"feminists\", \"male_rape_victims\", \"patriarchy\", \"objectification\", \"modern_feminism\", \"gender_issue\", \"benevolent_sexism\", \"male_privilege\", \"male_victims\", \"gendered_violence\", \"actual_sexism\", \"trivialization\", \"gender_bias\", \"prison_rape\", \"microaggressions\", \"rape_hysteria\", \"many_feminists\", \"sexual_violence\", \"social_injustice\", \"classism\", \"domestic_abuse\", \"systemic_oppression\", \"domestic_violence\", \"casual_sexism\", \"systematic_oppression\", \"feminist_issue\", \"Misogyny\", \"microagressions\", \"rampant_sexism\", \"gendered_issue\", \"feminist_issues\", \"racism/sexism\", \"third_wave_feminism\", \"gender_equality\", \"marginalization\", \"male_issues\", \"MRAs\", \"institutionalized_sexism\", \"harmful_stereotypes\", \"female_privilege\", \"modern_feminists\", \"male_problems\", \"feminist_rhetoric\", \"male_entitlement\", \"male_violence\", \"discrimination\", \"prejudice\", \"gender_discrimination\", \"Feminists\", \"gender_issues\", \"stereotyping\", \"systemic_sexism\", \"Rape_culture\", \"rights_movement\", \"oppression\", \"male_suicide\", \"3rd_wave_feminism\", \"ableism\", \"false_rape_accusations\", \"feminists\", \"street_harassment\", \"male_culture\", \"empathy_gap\", \"feminist_ideology\", \"historical_oppression\", \"structural_oppression\", \"institutional_racism\", \"most_feminists\", \"mainstream_feminism\", \"internalized_misogyny\", \"female_oppression\", \"radfems\", \"patriarchal_society\", \"mysoginy\", \"heterosexism\", \"institutional_oppression\", \"Domestic_violence\", \"more_sexism\", \"social_problem\", \"MRA\", \"actual_discrimination\", \"mens_issues\", \"demonization\", \"rape\", \"racial_inequality\", \"feminist_narrative\", \"online_harassment\", \"victim_blaming\", \"MRM\", \"gender_politics\", \"dehumanization\", \"feminist_ideas\", \"intersectionality\", \"micro-aggressions\", \"double_standards\", \"MRA_movement\", \"systemic_racism\", \"white_feminism\", \"Feminism\", \"sexist_behavior\", \"feminist_argument\", \"heteronormativity\", \"bigotry\", \"equality_movement\", \"pedophilia\", \"feminist_theory\", \"anti-feminism\", \"sexist_attitudes\", \"biphobia\", \"other_feminists\", \"social_issue\", \"catcalling\", \"gynocentrism\", \"cissexism\", \"societal_problem\", \"extreme_feminists\", \"Third_wave_feminism\", \"patriarchy_theory\", \"rights_activists\", \"just_sexism\", \"societal_issue\", \"feminist_community\", \"gendered_issues\", \"Patriarchy\", \"third-wave_feminists\", \"rights_activism\", \"Duluth_model\", \"actual_racism\", \"just_women\", \"third_wave_feminists\", \"sexual_assault\", \"feminist_activism\", \"internalized_racism\", \"gender_roles\", \"radical_feminists\", \"female_victims\", \"male_sexuality\", \"gender_oppression\", \"toxic_femininity\", \"denigration\", \"female_rape_victims\", \"patriarchal_culture\", \"&gt;Feminists\", \"rape_victims\", \"false_rape_allegations\", \"double_standard\", \"unequal_treatment\", \"male_disposability\", \"misogynistic\", \"double-standards\", \"campus_rape\", \"systematic_discrimination\", \"transpeople\", \"Misogyny\", \"straight_white_men\", \"feminist_ideals\", \"male_oppression\", \"social_inequalities\", \"systemic_discrimination\", \"sexist_people\"]\n"
     ]
    }
   ],
   "source": [
    "lexicon.create_category(\"gender_inequality_concern\", [\"gender_inequality\", \"misoginy\", \"sexism\", \"domestic_violence\"], model=\"reddit\", size = 200)"
   ]
  },
  {
   "cell_type": "code",
   "execution_count": 23,
   "id": "9eee4c9d-682d-4844-90c2-100f24747aa9",
   "metadata": {},
   "outputs": [
    {
     "data": {
      "text/plain": [
       "179"
      ]
     },
     "execution_count": 23,
     "metadata": {},
     "output_type": "execute_result"
    }
   ],
   "source": [
    "len(lexicon.cats[\"gender_inequality_concern\"])"
   ]
  },
  {
   "cell_type": "markdown",
   "id": "0fa363c0-c679-4ffe-a287-fdc9a66af4d9",
   "metadata": {},
   "source": [
    "### LBGQT+ and Homophobia concern lexical field\n"
   ]
  },
  {
   "cell_type": "code",
   "execution_count": 24,
   "id": "d7eaf2ae-1338-47bb-8889-7b71bb05042c",
   "metadata": {},
   "outputs": [
    {
     "name": "stdout",
     "output_type": "stream",
     "text": [
      "[\"homophobia\", \"homosexual_people\", \"transgenders\", \"LGBT\", \"sexual_minorities\", \"lgbt\", \"transgendered_people\", \"LGBT_people\", \"discrimination\", \"transpeople\", \"transphobia\", \"sexism\", \"prejudice\", \"queer_people\", \"gender\", \"LGBT_community\", \"transgender_people\", \"sexual_preference\", \"trans_folk\", \"bigotry\", \"trans_people\", \"bigoted\", \"sexual_orientation\", \"transexuals\", \"lgbt_community\", \"sexual_orientations\", \"gay_people\", \"transgender\", \"transmisogyny\", \"lgbt_people\", \"LGBTQ_people\", \"misogyny\", \"transsexuals\", \"LGBTQ_community\", \"LGBTQ\", \"racism\", \"stereotyping\", \"queer\", \"marginalized_group\", \"racial_minorities\", \"biphobia\", \"transgendered\", \"trans\", \"trans_community\", \"sexuality\", \"gay_community\", \"LGBT_folk\", \"minority_groups\", \"oppressed_group\", \"feminism\", \"heterosexism\", \"LGBT\", \"sexualities\", \"minority_group\", \"heterosexual_people\", \"LGBT\", \"anti-racism\", \"sexual_minority\", \"straight_people\", \"sexual_identity\", \"misandry\", \"feminists\", \"gender_identity\", \"sexual_preferences\", \"heterosexuality\", \"trans_rights\", \"based_discrimination\", \"LGB_people\", \"misandry\", \"Homophobia\", \"gender_equality\", \"feminist_movement\", \"Sexism\", \"gender_inequality\", \"gender_binary\", \"racism/sexism\", \"bisexuals\", \"transgender_community\", \"own_gender\", \"feminist\", \"feminist\", \"other_sexualities\", \"transphobic\", \"LGBT_communities\", \"cissexism\", \"LGBTs\", \"straight_white_men\", \"equal_rights\", \"systematic_oppression\", \"feminist_views\", \"homosexual_community\", \"transgender\", \"LGBT\", \"sex/gender\", \"queer\", \"LGBT_movement\", \"homosexuals\", \"feminist_ideals\", \"transgender_rights\", \"marginalization\", \"based_violence\", \"gay_culture\", \"trans_folks\", \"LBGT_community\", \"bigots\", \"gays\", \"marginalized_groups\", \"queer_community\", \"gender_norms\", \"gender_identities\", \"transgender_folks\", \"trans\", \"legal_discrimination\", \"misogyny\", \"trans_individuals\", \"transgendered_individuals\", \"LGBT_folks\", \"bisexuality\", \"bigoted_views\", \"male_privilege\", \"transgender\", \"radical_feminists\", \"sexual_identities\", \"different_sexuality\", \"homophobes\", \"LBGT\", \"LGBTQ\", \"homophobic_people\", \"heterosexuals\", \"heteronormativity\", \"trans\", \"actual_discrimination\", \"rape_culture\", \"pro-equality\", \"homosexuality\", \"oppression\", \"cis_people\", \"binary_genders\", \"minorities\", \"other_gender\", \"mainstream_feminism\", \"interracial_relationships\", \"feminist_issues\", \"modern_feminism\", \"descrimination\", \"misogyny\", \"self_identification\", \"race/ethnicity\", \"radfems\", \"same_sex_relationships\", \"slut-shaming\", \"transgender_individuals\", \"heteronormative\", \"misogynistic\", \"gender_issues\", \"homophobic\", \"slut_shaming\", \"pedophilia\", \"privileged_group\", \"sexual_equality\", \"transgendered\", \"transphobia\", \"bisexual_people\", \"word_feminism\", \"other_genders\", \"gender_identification\", \"LGBT+_community\", \"ableism\", \"feminist_ideology\", \"straight_white_males\", \"gender/sex\", \"othering\", \"classism\", \"gender_roles\", \"transgenderism\", \"anti-feminism\", \"homosexual\", \"rights_movement\", \"LGBT.\", \"racial_prejudice\", \"systemic_oppression\", \"racial_equality\", \"gay_relationships\", \"feminist_community\", \"Racism\", \"minorites\", \"Gay_people\", \"trans_issues\", \"mainstream_society\", \"othering\", \"MRA\", \"homosexual\", \"TERF\", \"trans\", \"cisgender\"]\n"
     ]
    }
   ],
   "source": [
    "lexicon.create_category(\"homophobia_concern\", [\"lgbt\", \"homophobia\", \"gender\"], model=\"reddit\", size = 200)"
   ]
  },
  {
   "cell_type": "code",
   "execution_count": 25,
   "id": "39b8c958-1fb4-4505-8dd0-171e9e608e06",
   "metadata": {},
   "outputs": [
    {
     "data": {
      "text/plain": [
       "177"
      ]
     },
     "execution_count": 25,
     "metadata": {},
     "output_type": "execute_result"
    }
   ],
   "source": [
    "len(lexicon.cats[\"homophobia_concern\"])"
   ]
  },
  {
   "cell_type": "markdown",
   "id": "8635d83b-59e6-449d-96f7-d5c75b6162bd",
   "metadata": {},
   "source": [
    "### Racism concern lexical field"
   ]
  },
  {
   "cell_type": "code",
   "execution_count": 26,
   "id": "9e229a0e-d92a-4985-b92c-3de72291f3a5",
   "metadata": {},
   "outputs": [
    {
     "name": "stdout",
     "output_type": "stream",
     "text": [
      "[\"racism\", \"actual_racism\", \"institutional_racism\", \"bigotry\", \"prejudice\", \"racial_prejudice\", \"xenophobia\", \"classism\", \"homophobia\", \"real_racism\", \"white_supremacy\", \"systemic_racism\", \"institutionalized_racism\", \"Racism\", \"blatant_racism\", \"sexism\", \"systematic_racism\", \"stereotyping\", \"racism/sexism\", \"systematic_oppression\", \"overt_racism\", \"white_racism\", \"reverse_racism\", \"systemic_oppression\", \"oppression\", \"just_racism\", \"anti-white_racism\", \"anti-black_racism\", \"casual_racism\", \"misogyny\", \"islamophobia\", \"white_privilege\", \"rampant_racism\", \"white_guilt\", \"racial_bigotry\", \"inherent_racism\", \"institutionalized_oppression\", \"racisim\", \"rascism\", \"Islamophobia\", \"marginalization\", \"racial_oppression\", \"social_injustice\", \"structural_racism\", \"racial_discrimination\", \"ethnocentrism\", \"race_issues\", \"religious_intolerance\", \"racial_stereotyping\", \"discrimination\", \"anti-semitism\", \"white_oppression\", \"white_culture\", \"chauvinism\", \"transphobia\", \"political_correctness\", \"anti-racism\", \"internalized_racism\", \"racial_issues\", \"obvious_racism\", \"institutionalised_racism\", \"racial_issue\", \"racial_inequality\", \"racists\", \"only_racism\", \"islamaphobia\", \"non-whites\", \"race_issue\", \"racial_violence\", \"racist\", \"racist\", \"outright_racism\", \"extreme_racism\", \"Islamophobia\", \"institutional_oppression\", \"black_culture\", \"race_realism\", \"misandry\", \"racist_attitudes\", \"Islamaphobia\", \"anti_semitism\", \"&gt;Racism\", \"non-white_people\", \"Islamophobia\", \"opression\", \"subtle_racism\", \"microagressions\", \"racist_people\", \"white_people\", \"white_America\", \"ableism\", \"institutionalized_discrimination\", \"black_racism\", \"systemic_discrimination\", \"rape_culture\", \"-isms\", \"white_pride\", \"white_supremacism\", \"more_racism\", \"minorities\", \"misandry\", \"black_community\", \"white_genocide\", \"thug_culture\", \"minority_groups\", \"antisemitism\", \"racial_tension\", \"racist_stereotypes\", \"historical_oppression\", \"racial_prejudices\", \"microaggressions\", \"stereotypes\", \"sexism/racism\", \"dehumanization\", \"racist_ideas\", \"anti-Semitism\", \"systematic_discrimination\", \"anti-racists\", \"religious_bigotry\", \"segregation\", \"PC_culture\", \"Bigotry\", \"racial_superiority\", \"Islamaphobia\", \"racial_stereotypes\", \"casual_sexism\", \"black_America\", \"own_racism\", \"perceived_racism\", \"structural_oppression\", \"negative_stereotypes\", \"racial_segregation\", \"racist_statement\", \"black_communities\", \"racial_profiling\", \"white_racists\", \"racist_white_people\", \"nonwhites\", \"mysogyny\", \"PoC\", \"Black_culture\", \"backwardness\", \"cultural_appropriation\", \"White_privilege\", \"oppressed_minority\", \"ageism\", \"race_problem\", \"racial_equality\", \"black_people\", \"actual_racists\", \"institutional_discrimination\", \"white_supremacists\", \"Sexism\", \"ghetto_culture\", \"racist_ideology\", \"transmisogyny\", \"colorism\", \"real_oppression\", \"black_problem\", \"pure_racism\", \"Homophobia\", \"racist_beliefs\", \"real_racists\", \"oppresion\", \"white_rights\", \"term_racism\", \"Institutional_racism\", \"thinly_veiled_racism\", \"race_relations\", \"othering\", \"racialism\", \"actual_sexism\", \"casteism\", \"multiculturalism\", \"disenfranchisement\", \"injustices\", \"latent_racism\", \"racial_minorities\", \"white_liberals\"]\n"
     ]
    }
   ],
   "source": [
    "lexicon.create_category(\"racism_concern\", [\"racism\"], model=\"reddit\", size = 200)"
   ]
  },
  {
   "cell_type": "code",
   "execution_count": 27,
   "id": "4d91e94f-a467-4df4-a0bb-55f2b048e7eb",
   "metadata": {},
   "outputs": [
    {
     "data": {
      "text/plain": [
       "174"
      ]
     },
     "execution_count": 27,
     "metadata": {},
     "output_type": "execute_result"
    }
   ],
   "source": [
    "len(lexicon.cats[\"racism_concern\"])"
   ]
  },
  {
   "cell_type": "markdown",
   "id": "03ace254-a2b4-4701-87ea-c078770eed3b",
   "metadata": {},
   "source": [
    "### Mental concern lexical field"
   ]
  },
  {
   "cell_type": "code",
   "execution_count": 28,
   "id": "6a790198-f4de-41c4-b369-4e9692a935d7",
   "metadata": {},
   "outputs": [
    {
     "name": "stdout",
     "output_type": "stream",
     "text": [
      "[\"mental_issues\", \"mental_health\", \"mental_health_problems\", \"mental_problems\", \"severe_mental_illness\", \"mental_wellbeing\", \"mental_condition\", \"mental_health_issues\", \"mental_health_issue\", \"psychological_issues\", \"mental_illness\", \"mental_stability\", \"mental\", \"psychological_problems\", \"anger_issues\", \"mental_and_physical_health\", \"mental_state\", \"mental_well-being\", \"mental_disorder\", \"physical_health\", \"mental_issue\", \"psychological_condition\", \"depression\", \"lifestyle_habits\", \"psychiatric_problems\", \"mental_illnesses\", \"psychological_disorder\", \"serious_mental_illness\", \"underlying_issues\", \"mental_disorders\", \"mental_health_problem\", \"destructive_behaviors\", \"clinical_depression\", \"emotional_stability\", \"psychological_health\", \"physical_problems\", \"emotional_issues\", \"mental_disease\", \"mental_health_conditions\", \"anxiety_problems\", \"anxiety/depression\", \"disorder\", \"own_mental_health\", \"chronic_depression\", \"mental_conditions\", \"health_problem\", \"neurosis\", \"very_serious_issue\", \"self-image\", \"childhood_trauma\", \"chronic_illness\", \"suicidal_tendencies\", \"psychological_problem\", \"social_anxiety\", \"stressors\", \"mental_instability\", \"addiction\", \"social_isolation\", \"symptomatic\", \"addictions\", \"substance_use\", \"Depression\", \"physical_and_mental_health\", \"anxiety_issues\", \"actual_depression\", \"substance_abuse\", \"codependency\", \"self-esteem\", \"anger_management_issues\", \"psychological_issue\", \"psychiatric_disorders\", \"self-esteem_issues\", \"serious_medical_condition\", \"severe_mental_health_issues\", \"mental_problem\", \"life_issues\", \"serious_mental_health_issues\", \"body_issues\", \"social_disorders\", \"Mental_health\", \"suicidality\", \"therapy\", \"pathological\", \"serious_issue\", \"anger_problems\", \"porn_addiction\", \"alcoholism\", \"drug_abuse\", \"substance_abuse_issues\", \"severe_mental_issues\", \"suicidal_ideation\", \"underlying_causes\", \"depression/anxiety\", \"body_dysmorphia\", \"self_esteem_issues\", \"narcissism\", \"own_condition\", \"PMO_addiction\", \"suicidal_thoughts\", \"BPD\", \"bpd\", \"health_issue\", \"ptsd\", \"alcohol_abuse\", \"self-medication\", \"substance_addiction\", \"body_image\", \"physical_condition\", \"PTSD.\", \"major_depression\", \"compulsive_behavior\", \"deeper_problems\", \"Mental_illness\", \"poor_mental_health\", \"psychiatric_drugs\", \"impulse_control\", \"mild_depression\", \"anxiety\", \"self-image_issues\", \"personal_health\", \"underlying_issue\", \"illness\", \"other_mental_health_issues\", \"chronic_anxiety\", \"delusional_thinking\", \"low_self_esteem\", \"symptom\", \"bipolar\", \"health_condition\", \"eating_disorders\", \"delusions\", \"obsessive_compulsive_disorder\", \"self-harm\", \"emotional_health\", \"video_game_addiction\", \"anxiety_disorder\", \"poor_self-esteem\", \"bi-polar\", \"chronic_pain\", \"serious_problem\", \"real_condition\", \"psychiatric_medications\", \"underlying_conditions\", \"bipolar\", \"medical_condition\", \"bipolar_disorder\", \"depression_symptoms\", \"coping_mechanism\", \"agoraphobia\", \"mental_well\", \"severe_depression\", \"serious_depression\", \"self_image\", \"serious_mental_issues\", \"bulimia\", \"serious_issues\", \"mental_health_concerns\", \"addictive_behavior\", \"morbid_obesity\", \"intimacy_issues\", \"medical_problems\", \"other_mental_issues\", \"life_problems\", \"medical_issue\", \"mental_health_disorder\", \"destructive_behavior\", \"irrational_thoughts\", \"deeper_issues\", \"disorders\", \"anorexia\", \"low_self-esteem\", \"sex_addiction\", \"PTSD\", \"health_issues\", \"drug_use\"]\n"
     ]
    }
   ],
   "source": [
    "lexicon.create_category(\"mental_concern\", [\"mental\", \"mental_health\"], model=\"reddit\", size = 200)"
   ]
  },
  {
   "cell_type": "code",
   "execution_count": 29,
   "id": "4a27524f-0c12-48ef-a918-ec2ff4d2fa64",
   "metadata": {},
   "outputs": [
    {
     "data": {
      "text/plain": [
       "174"
      ]
     },
     "execution_count": 29,
     "metadata": {},
     "output_type": "execute_result"
    }
   ],
   "source": [
    "len(lexicon.cats[\"mental_concern\"])"
   ]
  },
  {
   "cell_type": "markdown",
   "id": "15f6a488-aa82-4b23-8b4b-bbbe20ea6568",
   "metadata": {},
   "source": [
    "### Human interactions and relationships concern lexical field"
   ]
  },
  {
   "cell_type": "code",
   "execution_count": 30,
   "id": "a8849f68-4809-467a-8bbd-0f9ad7fc0408",
   "metadata": {},
   "outputs": [
    {
     "name": "stdout",
     "output_type": "stream",
     "text": [
      "[\"family\", \"interaction\", \"family_life\", \"positive_relationship\", \"family_relationships\", \"family\", \"personal_relationships\", \"relationship\", \"intimate_relationships\", \"relationships\", \"own_family\", \"own_relationship\", \"romantic_life\", \"home_life\", \"family_&amp\", \"interactions\", \"love_life\", \"friendship\", \"own_friends\", \"significant_others\", \"friendships\", \"social_ties\", \"emotional_support\", \"intimate_relationship\", \"important_way\", \"family_unit\", \"shared_experience\", \"closest_people\", \"family/friends\", \"social_connections\", \"close_relationships\", \"estrangement\", \"personal_life\", \"social_connection\", \"confiding\", \"family_members\", \"even_family\", \"social_contact\", \"well-being\", \"loved_ones\", \"_family\", \"emotional_well-being\", \"realtionship\", \"loving_relationship\", \"partner\", \"feelings\", \"social_interactions\", \"lives\", \"other_relationships\", \"support_network\", \"own_life\", \"family-\", \"emotional_investment\", \"emotional_wellbeing\", \"social_function\", \"emotional_state\", \"affection\", \"family_relationship\", \"close_friends\", \"social_life\", \"personal_level\", \"meaningful_relationships\", \"close_friendships\", \"romantic_relationships\", \"wellbeing\", \"social_functions\", \"romantic_partners\", \"personal_way\", \"personal_interaction\", \"interpersonal_relationships\", \"emotional_distance\", \"actual_life\", \"hurt_feelings\", \"grieving\", \"emotional_connections\", \"actual_interaction\", \"romantic_partner\", \"bonding\", \"spouse\", \"wellbeing\", \"emotional_comfort\", \"intimacy\", \"prior_relationship\", \"loving_relationships\", \"very_real_way\", \"own_personal_issues\", \"better_relationship\", \"close_family\", \"wanting\", \"interacting\", \"social_environment\", \"closeness\", \"social_interaction\", \"emotional_attachment\", \"guilting\", \"emotional_stability\", \"spouses\", \"outside_life\", \"conversations\", \"friendship\", \"social_contacts\", \"social_circle\", \"other_family_members\", \"emotional_involvement\", \"more_personal_level\", \"emotional_health\", \"desire\", \"resent\", \"healthy_relationships\", \"work_life\", \"caring\", \"families\", \"only_you\", \"SOs\", \"acquaintances\", \"genuine_love\", \"inappropriate_behavior\", \"grieving\", \"work_colleagues\", \"physical_affection\", \"friends/family\", \"personal_interactions\", \"sex_life\", \"emotional_needs\", \"her/them\", \"reciprocation\", \"sexual_life\", \"emotional_relationship\", \"strong_relationship\", \"Interacting\", \"respect\", \"even_strangers\", \"current_relationships\", \"personal_growth\", \"romantic_interests\", \"social_circles\", \"own_terms\", \"support_system\", \"good_relationship\", \"social_engagement\", \"social_lives\", \"anything/anyone\", \"own_parents\", \"partners\", \"complete_strangers\", \"meaningful_conversations\", \"family_environment\", \"physical_interaction\", \"social_time\", \"open_conversation\", \"close_family_members\", \"close_relationship\", \"social_activities\", \"said_person\", \"committment\", \"mutual_understanding\", \"real_interaction\", \"SO._\", \"close_circle\", \"good_relationships\", \"wife/husband\", \"sex_lives\", \"daily_interactions\", \"abusive\", \"physical_intimacy\", \"other_close_friends\", \"emotional_fulfillment\", \"emotional_connection\", \"deep_conversation\", \"entire_relationship\", \"emotional_feelings\", \"shunning\", \"sexual_intimacy\", \"sexual_relationships\", \"sibling\", \"social_relationships\", \"family_relations\", \"family_situation\", \"commitment\", \"behavior\", \"constant_reminders\", \"Telling\", \"negative_influence\", \"romantic_relationship\", \"love_relationship\", \"behaviour\"]\n"
     ]
    }
   ],
   "source": [
    "lexicon.create_category(\"relationships_concern\", [\"interaction\", \"relationshps\", \"family\"], model=\"reddit\", size = 200)"
   ]
  },
  {
   "cell_type": "code",
   "execution_count": 31,
   "id": "d4266879-76c7-4c0c-80a1-1dd50349ab6d",
   "metadata": {},
   "outputs": [
    {
     "data": {
      "text/plain": [
       "182"
      ]
     },
     "execution_count": 31,
     "metadata": {},
     "output_type": "execute_result"
    }
   ],
   "source": [
    "len(lexicon.cats[\"relationships_concern\"])"
   ]
  }
 ],
 "metadata": {
  "kernelspec": {
   "display_name": "Python 3 (ipykernel)",
   "language": "python",
   "name": "python3"
  },
  "language_info": {
   "codemirror_mode": {
    "name": "ipython",
    "version": 3
   },
   "file_extension": ".py",
   "mimetype": "text/x-python",
   "name": "python",
   "nbconvert_exporter": "python",
   "pygments_lexer": "ipython3",
   "version": "3.9.13"
  }
 },
 "nbformat": 4,
 "nbformat_minor": 5
}
