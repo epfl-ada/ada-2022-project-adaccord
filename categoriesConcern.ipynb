{
 "cells": [
  {
   "cell_type": "code",
   "execution_count": 1,
   "id": "885626ef-ef16-47bf-9a75-8aa7e5fe7fe1",
   "metadata": {},
   "outputs": [],
   "source": [
    "from empath import Empath"
   ]
  },
  {
   "cell_type": "code",
   "execution_count": 2,
   "id": "05cd7ae7-9659-4e96-a785-012f00a47464",
   "metadata": {},
   "outputs": [],
   "source": [
    "lexicon = Empath()"
   ]
  },
  {
   "cell_type": "markdown",
   "id": "8a5a06a2-5a9e-49bc-b9b5-40f93836c0e3",
   "metadata": {},
   "source": [
    "## Initial categories from empath"
   ]
  },
  {
   "cell_type": "code",
   "execution_count": 3,
   "id": "5a275a34-47eb-4222-b81f-7e3c278364b7",
   "metadata": {},
   "outputs": [
    {
     "data": {
      "text/plain": [
       "dict_keys(['help', 'office', 'dance', 'money', 'wedding', 'domestic_work', 'sleep', 'medical_emergency', 'cold', 'hate', 'cheerfulness', 'aggression', 'occupation', 'envy', 'anticipation', 'family', 'vacation', 'crime', 'attractive', 'masculine', 'prison', 'health', 'pride', 'dispute', 'nervousness', 'government', 'weakness', 'horror', 'swearing_terms', 'leisure', 'suffering', 'royalty', 'wealthy', 'tourism', 'furniture', 'school', 'magic', 'beach', 'journalism', 'morning', 'banking', 'social_media', 'exercise', 'night', 'kill', 'blue_collar_job', 'art', 'ridicule', 'play', 'computer', 'college', 'optimism', 'stealing', 'real_estate', 'home', 'divine', 'sexual', 'fear', 'irritability', 'superhero', 'business', 'driving', 'pet', 'childish', 'cooking', 'exasperation', 'religion', 'hipster', 'internet', 'surprise', 'reading', 'worship', 'leader', 'independence', 'movement', 'body', 'noise', 'eating', 'medieval', 'zest', 'confusion', 'water', 'sports', 'death', 'healing', 'legend', 'heroic', 'celebration', 'restaurant', 'violence', 'programming', 'dominant_heirarchical', 'military', 'neglect', 'swimming', 'exotic', 'love', 'hiking', 'communication', 'hearing', 'order', 'sympathy', 'hygiene', 'weather', 'anonymity', 'trust', 'ancient', 'deception', 'fabric', 'air_travel', 'fight', 'dominant_personality', 'music', 'vehicle', 'politeness', 'toy', 'farming', 'meeting', 'war', 'speaking', 'listen', 'urban', 'shopping', 'disgust', 'fire', 'tool', 'phone', 'gain', 'sound', 'injury', 'sailing', 'rage', 'science', 'work', 'appearance', 'valuable', 'warmth', 'youth', 'sadness', 'fun', 'emotional', 'joy', 'affection', 'traveling', 'fashion', 'ugliness', 'lust', 'shame', 'torment', 'economics', 'anger', 'politics', 'ship', 'clothing', 'car', 'strength', 'technology', 'breaking', 'shape_and_size', 'power', 'white_collar_job', 'animal', 'party', 'terrorism', 'smell', 'disappointment', 'poor', 'plant', 'pain', 'beauty', 'timidity', 'philosophy', 'negotiate', 'negative_emotion', 'cleaning', 'messaging', 'competing', 'law', 'friends', 'payment', 'achievement', 'alcohol', 'liquid', 'feminine', 'weapon', 'children', 'monster', 'ocean', 'giving', 'contentment', 'writing', 'rural', 'positive_emotion', 'musical', 'conflict_concern', 'ecological_concern', 'familial_concern', 'gender_inequality_concern', 'health_concern', 'homophobia_concern', 'lgbtq+', 'mental_concern', 'racism_concern', 'technological_concern'])"
      ]
     },
     "execution_count": 3,
     "metadata": {},
     "output_type": "execute_result"
    }
   ],
   "source": [
    "lexicon.cats.keys()"
   ]
  },
  {
   "cell_type": "markdown",
   "id": "0e18e36e-7ba2-4a44-8162-32fdf5934017",
   "metadata": {},
   "source": [
    "## Ecological concern lexical field"
   ]
  },
  {
   "cell_type": "code",
   "execution_count": 4,
   "id": "2d848b8d-3e82-48c0-a7f3-747e7c526c17",
   "metadata": {},
   "outputs": [
    {
     "name": "stdout",
     "output_type": "stream",
     "text": [
      "[\"environment\", \"biodiversity\", \"ecology\", \"climate_change\", \"ecosystems\", \"global_environment\", \"biological_diversity\", \"ecosystem\", \"human_health\", \"natural_environment\", \"environmental_problems\", \"public_health\", \"water_quality\", \"global_warming\", \"environmental_concerns\", \"global_climate_change\", \"natural_resources\", \"environmental_issues\", \"scientific_research\", \"human_activity\", \"acid_rain\", \"global_climate\", \"environmental_protection\", \"agriculture\", \"greenhouse_effect\", \"water_resources\", \"climate\", \"pollution\", \"environmental_degradation\", \"conservation\", \"marine_environment\", \"fisheries\", \"nuclear_energy\", \"wildlife\", \"genetic_engineering\", \"deforestation\", \"sustainability\", \"sustainable_development\", \"habitats\", \"natural_systems\", \"ozone_layer\", \"weather_patterns\", \"depletion\", \"water_pollution\", \"clean_air\", \"environmentalism\", \"energy_production\", \"ecological\", \"food_safety\", \"human_needs\", \"human_activities\", \"environmental_impact\", \"air_pollution\", \"marine_life\", \"food_supply\", \"overpopulation\", \"warming\", \"pollution_problems\", \"habitat\", \"urbanization\", \"ozone_depletion\", \"many_fields\", \"environmental_conditions\", \"basic_science\", \"government_policy\", \"impacts\", \"nuclear_power\", \"oceans\", \"space_exploration\", \"ecologists\", \"rain_forests\", \"government_policies\", \"environmental_damage\", \"commercialization\", \"fossil_fuels\", \"biosphere\", \"entire_region\", \"forests\", \"energy_conservation\", \"natural_forces\", \"tropical_forests\", \"food_production\", \"science\", \"watershed\", \"energy_security\", \"scientific_consensus\", \"basic_research\", \"processes\", \"energy_efficiency\", \"public_policy\", \"nature\", \"American_education\", \"environmental_movement\", \"human_behavior\", \"fishing_industry\", \"economic_life\", \"ozone\", \"many_scientists\", \"bioterrorism\", \"better_understanding\", \"educational_system\", \"overdevelopment\", \"American_agriculture\", \"genetics\", \"air_quality\", \"social_policy\", \"social_behavior\", \"population_control\", \"new_technologies\", \"oil_spills\", \"environmental_quality\", \"wildlife_habitat\", \"climate_system\", \"living_things\", \"water_supplies\", \"greenhouse_gases\", \"international_cooperation\", \"organisms\", \"new_approaches\", \"watersheds\", \"worker_safety\", \"functioning\", \"economic_development\", \"industrialization\", \"geology\", \"population_explosion\", \"renewable_energy\", \"economic_progress\", \"animal_species\", \"plant_growth\", \"erosion\", \"environments\", \"international_trade\", \"practical_applications\", \"demography\", \"invasive_species\", \"social_stability\", \"national_policy\", \"commercial_interests\", \"flood_control\", \"alternative_energy_sources\", \"nanotechnology\", \"economic_competitiveness\", \"such_research\", \"economic_potential\", \"tropical_rain_forests\", \"economic_security\", \"new_research\", \"urban_sprawl\", \"economic_efficiency\", \"biomedical_research\", \"social_problems\", \"environmental_consequences\", \"scientific_community\", \"new_methods\", \"interdependence\", \"endangered_species\", \"family_structure\", \"mechanisms\", \"fragmentation\", \"organic_farming\", \"environmental_hazards\", \"overfishing\", \"pollutants\", \"national_defense\", \"renewable_energy_sources\", \"soil_erosion\", \"wetlands\", \"urban_environment\", \"public_understanding\", \"agribusiness\", \"new_thinking\", \"conserving\", \"degradation\", \"economic_well-being\", \"economic_forces\", \"phenomena\", \"social_structure\", \"scientific_knowledge\", \"animal_life\", \"societies\", \"industrial_development\", \"greater_awareness\", \"good_science\", \"logging\", \"environmental_policy\", \"natural_processes\", \"fish_stocks\", \"aesthetics\", \"many_areas\", \"incineration\", \"natural_selection\", \"other_areas\", \"technological_innovation\", \"economic_needs\", \"public_awareness\"]\n"
     ]
    }
   ],
   "source": [
    "lexicon.create_category(\"ecological_concern\", [\"climate_change\", \"ecology\", \"environment\"], model=\"nytimes\", size=200)"
   ]
  },
  {
   "cell_type": "code",
   "execution_count": 5,
   "id": "c99903f2-83b6-46a5-bdca-7a7509af7ae3",
   "metadata": {},
   "outputs": [
    {
     "data": {
      "text/plain": [
       "196"
      ]
     },
     "execution_count": 5,
     "metadata": {},
     "output_type": "execute_result"
    }
   ],
   "source": [
    "len(lexicon.cats[\"ecological_concern\"])"
   ]
  },
  {
   "cell_type": "markdown",
   "id": "530801fe-2256-4fcb-a361-3ca78aedf989",
   "metadata": {},
   "source": [
    "## Health concern lexical field"
   ]
  },
  {
   "cell_type": "code",
   "execution_count": 6,
   "id": "6e532edf-d329-4447-9511-5b9be4e4c632",
   "metadata": {},
   "outputs": [
    {
     "name": "stdout",
     "output_type": "stream",
     "text": [
      "[\"medicine\", \"disease\", \"other_diseases\", \"infectious_diseases\", \"infectious_disease\", \"diseases\", \"many_patients\", \"health\", \"cancer_patients\", \"malaria\", \"immunization\", \"therapies\", \"antibiotics\", \"hypertension\", \"early_detection\", \"osteoporosis\", \"infections\", \"infertility\", \"blood_supply\", \"cures\", \"vaccines\", \"sexually_transmitted_diseases\", \"cancer_treatment\", \"tuberculosis\", \"obesity\", \"H.I.V._infection\", \"vaccination\", \"organ_transplants\", \"chronic_pain\", \"mental_health\", \"cardiovascular_disease\", \"birth_defects\", \"AIDS_patients\", \"TB\", \"new_treatments\", \"chronic_disease\", \"breast-feeding\", \"illnesses\", \"ulcers\", \"health_problems\", \"diabetes\", \"bone_marrow_transplants\", \"allergy\", \"pain_management\", \"H.I.V.\", \"public_health\", \"sufferers\", \"anemia\", \"medical_care\", \"asthma\", \"cancer\", \"acquired_immune_deficiency_syndrome\", \"medical_problems\", \"effective_treatment\", \"sick_people\", \"many_diseases\", \"medications\", \"diagnosing\", \"vaccine\", \"heart_disease\", \"disorders\", \"vaccinations\", \"high_blood_pressure\", \"nutrition\", \"epilepsy\", \"medical_practice\", \"chronic_diseases\", \"preventive\", \"ailments\", \"treatments\", \"infection\", \"immune_systems\", \"adverse_effects\", \"chronic_illness\", \"fatal_disease\", \"psychotherapy\", \"transfusions\", \"physical_health\", \"treatment\", \"medical_technology\", \"diabetics\", \"most_patients\", \"medical_research\", \"influenza\", \"allergies\", \"pain_relief\", \"leprosy\", \"AIDS.\", \"hepatitis_C\", \"modern_medicine\", \"acupuncture\", \"anesthesia\", \"dementia\", \"healthy_people\", \"palliative_care\", \"malnutrition\", \"gene_therapy\", \"transplantation\", \"primary_care\", \"hormone_replacement_therapy\", \"early_treatment\", \"cystic_fibrosis\", \"thalidomide\", \"hormones\", \"premature_infants\", \"childbirth\", \"blood_transfusions\", \"side_effects\", \"curing\", \"health_workers\", \"own_health\", \"migraines\", \"serious_side_effects\", \"insulin\", \"blindness\", \"sickness\", \"chronic_fatigue_syndrome\", \"polio\", \"illness\", \"epidemics\", \"skin_cancer\", \"older_patients\", \"estrogen\", \"pregnant_women\", \"new_treatment\", \"medical_community\", \"multiple_sclerosis\", \"fertility\", \"transfusion\", \"other_causes\", \"medicines\", \"cervical_cancer\", \"patients\", \"spinal_cord_injuries\", \"hepatitis_B\", \"prenatal_care\", \"many_doctors\", \"melanoma\", \"such_patients\", \"other_illnesses\", \"drug_therapy\", \"human_immunodeficiency_virus\", \"weight_loss\", \"food_supply\", \"coronary_artery_disease\", \"medical_profession\", \"cataracts\", \"cancers\", \"cholera\", \"deadly_disease\", \"medical_advances\", \"protease_inhibitors\", \"infected_people\", \"such_drugs\", \"common_cold\", \"medical_science\", \"patient_care\", \"chronic_conditions\", \"penicillin\", \"arthritis\", \"risk_factors\", \"hormone_therapy\", \"other_ailments\", \"dialysis\", \"hemophilia\", \"heart_attacks\", \"brain_tumors\", \"diagnostic_tests\", \"medication\", \"measles\", \"therapy\", \"Parkinson\", \"schizophrenia\", \"mental_disorders\", \"smallpox\", \"high_cholesterol\", \"mammography\", \"standard_treatment\", \"newborns\", \"other_treatments\", \"diagnoses\", \"American_doctors\", \"diarrhea\", \"chemotherapy\", \"prevention\", \"immunizations\", \"syphilis\", \"medical_system\", \"cigarette_smoking\", \"kidney_disease\", \"Lyme_disease\", \"antidepressants\", \"epidemic\", \"hormone\", \"proper_treatment\", \"rheumatoid_arthritis\", \"overuse\", \"new_therapies\", \"tamoxifen\", \"serious_health_problems\"]\n"
     ]
    }
   ],
   "source": [
    "lexicon.create_category(\"health_concern\", [\"health\", \"disease\", \"medicine\", \"pandemics\"], model=\"nytimes\", size = 200)"
   ]
  },
  {
   "cell_type": "code",
   "execution_count": 7,
   "id": "804b2e70-e706-455b-b019-75f238820142",
   "metadata": {},
   "outputs": [
    {
     "data": {
      "text/plain": [
       "200"
      ]
     },
     "execution_count": 7,
     "metadata": {},
     "output_type": "execute_result"
    }
   ],
   "source": [
    "len(lexicon.cats[\"health_concern\"])"
   ]
  },
  {
   "cell_type": "markdown",
   "id": "84d6834c-2bae-4e1e-9040-e9e2a48632d1",
   "metadata": {},
   "source": [
    "## War and conflicts concern lexical field"
   ]
  },
  {
   "cell_type": "code",
   "execution_count": 8,
   "id": "eb2e0bb5-fd2d-4576-92c3-f2fee4acd233",
   "metadata": {},
   "outputs": [
    {
     "name": "stdout",
     "output_type": "stream",
     "text": [
      "[\"war\", \"armed_conflict\", \"warfare\", \"American_involvement\", \"terrorism\", \"nuclear_arms_race\", \"conflict\", \"nuclear_proliferation\", \"American_occupation\", \"military_power\", \"drug_war\", \"guerrilla_war\", \"arms_race\", \"insurgency\", \"American_presence\", \"superpowers\", \"military_intervention\", \"guerrilla_warfare\", \"American_role\", \"American_foreign_policy\", \"international_terrorism\", \"Iran-Iraq_war\", \"Islamic_fundamentalism\", \"long_war\", \"American_intervention\", \"cold_war\", \"military_establishment\", \"Soviet_threat\", \"Balkans\", \"domestic_politics\", \"occupation\", \"Soviet_military\", \"military_conflict\", \"disarmament\", \"new_war\", \"military_forces\", \"United_States_policy\", \"political_struggle\", \"nuclear_war\", \"the_cold_war\", \"American_government\", \"American_policy\", \"Korean_peninsula\", \"American_military_presence\", \"immigration\", \"extremism\", \"NATO_alliance\", \"ethnic_conflict\", \"political_dialogue\", \"destabilization\", \"Arab-Israeli_conflict\", \"Western_powers\", \"Israeli-Palestinian_conflict\", \"arms_control\", \"containment\", \"American_power\", \"nuclear\", \"Afghanistan\", \"current_crisis\", \"Indochina\", \"ethnic_conflicts\", \"hostilities\", \"nuclear_power\", \"Iraq\", \"illegal_immigration\", \"military_campaign\", \"military-industrial_complex\", \"military\", \"military_buildup\", \"American_leadership\", \"gulf_crisis\", \"repression\", \"strife\", \"regional_conflicts\", \"major_war\", \"all-out_war\", \"dictatorships\", \"American_military_power\", \"military_force\", \"wars\", \"South_Asia\", \"militancy\", \"wartime\", \"nuclear_arms\", \"terrorist_threat\", \"nuclear_disarmament\", \"nuclear_testing\", \"American_military\", \"Western_alliance\", \"American_interests\", \"former_Yugoslavia\", \"regimes\", \"civil_war\", \"the_Afghan_war\", \"U.S._policy\", \"national_security\", \"great_powers\", \"nuclear_threat\", \"civil_strife\", \"U.S._interests\", \"the_Korean_Peninsula\", \"armed_struggle\", \"Baltics\", \"deterrence\", \"United_States_interests\", \"Kurdistan\", \"Islamic_world\", \"military_presence\", \"immigration_policy\", \"armed_force\", \"national_sovereignty\", \"diplomacy\", \"postwar_Iraq\", \"current_conflict\", \"military_solution\", \"bloodshed\", \"Soviet_power\", \"separatism\", \"Iraq_war\", \"warlords\", \"civil_wars\", \"ethnic_tensions\", \"Soviet_bloc\", \"the_Middle_East\", \"nationalism\", \"nuclear_weapons\", \"emigration\", \"third_world\", \"militant_Islam\", \"American_effort\", \"Government_policy\", \"military_involvement\", \"political_leadership\", \"internal_conflicts\", \"Indonesian_military\", \"the_Soviet_Union's\", \"Islamic_extremism\", \"civil_unrest\", \"gulf\", \"American_security\", \"military\", \"Muslim_world\", \"Bosnian_war\", \"instability\", \"political_problems\", \"American_military_action\", \"military_occupation\", \"reunification\", \"democratization\", \"military_might\", \"world_opinion\", \"military_operations\", \"American_policies\", \"military_actions\", \"superpower\", \"military_confrontation\", \"collective_security\", \"human_rights_issues\", \"civil_conflict\", \"political_solution\", \"military_strategy\", \"escalation\", \"military_threat\", \"national_interest\", \"peacemaking\", \"chemical_warfare\", \"Islamic_militancy\", \"American_support\", \"nuclear_powers\", \"Iraqi_regime\", \"rebellions\", \"human_rights_abuses\", \"American_policy_makers\", \"Central_America\", \"Western_allies\", \"fundamentalism\", \"missile_defense\", \"colonialism\", \"insurrection\", \"global_terrorism\", \"total_war\", \"civil_liberties\", \"Iraqi_military\", \"nation-building\", \"air_power\", \"Persian_Gulf\", \"American_Government\", \"gulf_war\", \"peace_negotiations\", \"neighboring_countries\", \"neutrality\", \"political_opposition\", \"security_issues\", \"unification\", \"normalization\", \"U.S._military\", \"military_operation\", \"Iraqi_government\", \"government\", \"Balkan_war\"]\n"
     ]
    }
   ],
   "source": [
    "lexicon.create_category(\"conflict_concern\", [\"war\", \"conflict\", \"nuclear\", \"immigration\"], model=\"nytimes\", size = 200)"
   ]
  },
  {
   "cell_type": "code",
   "execution_count": 9,
   "id": "f10bcf60-8752-437d-89f0-1d04ae6dd3a5",
   "metadata": {},
   "outputs": [
    {
     "data": {
      "text/plain": [
       "199"
      ]
     },
     "execution_count": 9,
     "metadata": {},
     "output_type": "execute_result"
    }
   ],
   "source": [
    "len(lexicon.cats[\"conflict_concern\"])"
   ]
  },
  {
   "cell_type": "markdown",
   "id": "d83c5b78-04a4-48eb-80c8-75244e90c99a",
   "metadata": {},
   "source": [
    "## Technologies concern lexical field"
   ]
  },
  {
   "cell_type": "code",
   "execution_count": 10,
   "id": "7503ed9e-6ca3-4591-bcb6-c75104ac97ad",
   "metadata": {},
   "outputs": [
    {
     "name": "stdout",
     "output_type": "stream",
     "text": [
      "[\"Artificial_intelligence\", \"artificial_intelligence\", \"technology\", \"space_travel\", \"technology\", \"human_technology\", \"strong_AI\", \"true_AI\", \"nanotechnology\", \"space_flight\", \"future_technology\", \"interstellar_travel\", \"technologies\", \"machine_intelligence\", \"virtual_reality\", \"new_technologies\", \"current_technology\", \"superintelligence\", \"advanced_AI\", \"intelligent_machines\", \"other_technology\", \"space\", \"computer_technology\", \"enough_technology\", \"robotics\", \"faster-than-light_travel\", \"advanced_technology\", \"human_ingenuity\", \"spaceflight\", \"advanced_technologies\", \"artificial_intelligences\", \"space_technology\", \"warp_drives\", \"future_tech\", \"high_technology\", \"robots\", \"AI_technology\", \"space_colonization\", \"such_technology\", \"FTL_travel\", \"other_technologies\", \"biological_organisms\", \"AI_research\", \"A.I.\", \"brightest_minds\", \"future_technologies\", \"new_technology\", \"human_intelligence\", \"quantum_computing\", \"current_technologies\", \"technological\", \"existing_technology\", \"computing\", \"technological_advancements\", \"technological_singularity\", \"many_technologies\", \"advancements\", \"interplanetary_travel\", \"fusion_reactors\", \"modern_technology\", \"nanotech\", \"technological_advances\", \"Strong_AI\", \"super-intelligence\", \"technological_capability\", \"human_engineering\", \"Artificial_Intelligence\", \"space_exploration\", \"real_AI\", \"warp_drive\", \"Advancements\", \"technological_advancement\", \"Space_travel\", \"amazing_technology\", \"current_tech\", \"only_technology\", \"biological_life\", \"incredible_technology\", \"human_capabilities\", \"ASI\", \"A.I.\", \"technological_capabilities\", \"fusion_power\", \"space_colonies\", \"life_forms\", \"communications_technology\", \"super_intelligence\", \"AI_systems\", \"human_consciousness\", \"alien_civilizations\", \"sentient_AI\", \"replicators\", \"complex_systems\", \"supercomputers\", \"technological_developments\", \"Artificial_Intelligence\", \"outer_space\", \"Advances\", \"right_technology\", \"technological_development\", \"genetic_engineering\", \"microprocessors\", \"Nanotechnology\", \"nuclear_fusion\", \"neural_nets\", \"AIs\", \"AI_development\", \"advancing_technology\", \"quantum_computers\", \"asteroid_mining\", \"Virtual_reality\", \"computing_power\", \"spaceships\", \"information_technology\", \"_technology\", \"lifeforms\", \"human_thought\", \"interstellar_space\", \"technological_progress\", \"virtual_worlds\", \"new_advances\", \"digital_technology\", \"new_frontiers\", \"breakthroughs\", \"alien_technology\", \"new_inventions\", \"space_elevators\", \"advanced_race\", \"various_technologies\", \"certain_technologies\", \"biosphere\", \"certain_technology\", \"advanced_civilization\", \"space_tech\", \"space_craft\", \"modern_technologies\", \"best_minds\", \"distant_future\", \"virtual_realities\", \"space_ships\", \"human_level_intelligence\", \"emerging_technologies\", \"human_minds\", \"great_technology\", \"cold_fusion\", \"warp_travel\", \"intelligence_explosion\", \"Space_exploration\", \"particle_accelerators\", \"superintelligent\", \"material_science\", \"starships\", \"A.I.\", \"Quantum_computing\", \"intergalactic_travel\", \"deep_space\", \"international_space_station\", \"terrestrial_life\", \"life_extension\", \"A.I.\", \"best_technology\", \"such_technologies\", \"intelligent_beings\", \"post-scarcity\"]\n"
     ]
    }
   ],
   "source": [
    "lexicon.create_category(\"technological_concern\", [\"Artificial_intelligence\", \"space\", \"technology\"], model=\"reddit\", size = 200)"
   ]
  },
  {
   "cell_type": "code",
   "execution_count": 11,
   "id": "b5ba3f44-719d-405d-b1de-74b9cbc669f7",
   "metadata": {},
   "outputs": [
    {
     "data": {
      "text/plain": [
       "159"
      ]
     },
     "execution_count": 11,
     "metadata": {},
     "output_type": "execute_result"
    }
   ],
   "source": [
    "len(lexicon.cats[\"technological_concern\"])"
   ]
  },
  {
   "cell_type": "markdown",
   "id": "679add20-91d3-49b6-b4d2-a3f859a98961",
   "metadata": {},
   "source": [
    "## Gender inequalities concern lexical field\n",
    "really not optimal..."
   ]
  },
  {
   "cell_type": "code",
   "execution_count": 12,
   "id": "34e9983a-fa1c-4f19-a236-03d6628d17f3",
   "metadata": {},
   "outputs": [
    {
     "name": "stdout",
     "output_type": "stream",
     "text": [
      "[\"gender_inequality\", \"sexism\", \"gender_equality\", \"feminism\", \"gender_relations\", \"empathy_gap\", \"feminist_movement\", \"rape_culture\", \"gender_bias\", \"modern_feminism\", \"inequalities\", \"male_issues\", \"gender_issues\", \"social_problem\", \"intersectionality\", \"many_feminists\", \"racial_inequality\", \"male_disposability\", \"toxic_masculinity\", \"patriarchy\", \"institutional_sexism\", \"feminist_theory\", \"feminist_issues\", \"gynocentrism\", \"gendered_issues\", \"gender_disparity\", \"gender_inequalities\", \"benevolent_sexism\", \"gender_roles\", \"sexual_equality\", \"equality_movement\", \"societal_problems\", \"systemic_sexism\", \"gender_discrimination\", \"mens_issues\", \"Feminism\", \"patriarchal_society\", \"male_privilege\", \"gender_oppression\", \"social_issue\", \"third_wave_feminism\", \"sexual_objectification\", \"gender_politics\", \"misogyny\", \"3rd_wave_feminism\", \"rights_movement\", \"&gt;Feminism\", \"MRM\", \"systemic_oppression\", \"inequality\", \"feminist_movements\", \"patriarchal_culture\", \"social_equality\", \"social_injustice\", \"social_inequalities\", \"gender_issue\", \"mainstream_feminism\", \"class_issues\", \"inequity\", \"patriarchy_theory\", \"marginalization\", \"institutionalized_sexism\", \"misandry\", \"societal_problem\", \"female_oppression\", \"feminist_ideology\", \"societal_issues\", \"structural_oppression\", \"societal_issue\", \"Gender_equality\", \"misandry\", \"feminist_activism\", \"egalitarianism\", \"female_issues\", \"feminist_issue\", \"female_privilege\", \"traditional_gender_roles\", \"modern_feminists\", \"rights_movements\", \"gender_biases\", \"equality\", \"systematic_oppression\", \"male_problems\", \"feminists\", \"systemic_discrimination\", \"wage_gaps\", \"objectification\", \"institutional_racism\", \"third-wave_feminism\", \"MRA_movement\", \"systemic_inequality\", \"most_feminists\", \"gender_rights\", \"misogyny\", \"classism\", \"intersectional_feminism\", \"true_equality\", \"wage_inequality\", \"Feminists\", \"systematic_discrimination\", \"female_superiority\", \"feminist_ideas\", \"male_culture\", \"heteronormativity\", \"feminist_rhetoric\", \"Third_wave_feminism\", \"identity_politics\", \"actual_discrimination\", \"gender_imbalance\", \"feminist_ideals\", \"underrepresentation\", \"oppression\", \"economic_inequality\", \"womens_issues\", \"misogyny\", \"Patriarchy\", \"societal_attitudes\", \"cultural_issues\", \"cultural_problem\", \"gender_dynamics\", \"gender_essentialism\", \"social_injustices\", \"gender_norms\", \"feminist_narrative\", \"Indian_society\", \"heightism\", \"blatant_sexism\", \"social_movement\", \"feminist_discourse\", \"societal_level\", \"Sexism\", \"systemic_racism\", \"rape_hysteria\", \"male_gender_roles\", \"historical_oppression\", \"female_supremacy\", \"feminism_movement\", \"equality_issues\", \"rights_activism\", \"male_suicide\", \"female_equality\", \"heterosexism\", \"racial_equality\", \"homophobia\", \"discrimination\", \"gender_equity\", \"gender_expectations\", \"intersectional\", \"male_dominance\", \"gendered_issue\", \"feminist_perspective\", \"power_structures\", \"rampant_sexism\", \"harmful_stereotypes\", \"social_ills\", \"western_feminism\", \"feminist_argument\", \"institutional_discrimination\", \"minority_women\", \"feminists\", \"male_rights\", \"feminist_groups\", \"institutional_oppression\", \"white_feminism\", \"sexist_attitudes\", \"Men's_Rights\", \"patriarchal_system\", \"social_phenomenon\", \"MRAs\", \"mens_rights\", \"systemic_issues\", \"racism\", \"male_oppression\", \"&gt;Feminists\", \"racism/sexism\", \"marginalized_groups\", \"cultural_attitudes\", \"human_issue\", \"Egalitarianism\", \"structural_racism\", \"male_rape_victims\", \"male_experience\", \"white_feminists\", \"Feminism\", \"activism\", \"male_rape\", \"power_dynamics\", \"broader_issue\", \"actual_sexism\", \"more_sexism\", \"MHRM\"]\n"
     ]
    }
   ],
   "source": [
    "lexicon.create_category(\"gender_inequality_concern\", [\"gender_inequality\"], model=\"reddit\", size = 200)"
   ]
  },
  {
   "cell_type": "code",
   "execution_count": 13,
   "id": "9eee4c9d-682d-4844-90c2-100f24747aa9",
   "metadata": {},
   "outputs": [
    {
     "data": {
      "text/plain": [
       "186"
      ]
     },
     "execution_count": 13,
     "metadata": {},
     "output_type": "execute_result"
    }
   ],
   "source": [
    "len(lexicon.cats[\"gender_inequality_concern\"])"
   ]
  },
  {
   "cell_type": "markdown",
   "id": "0fa363c0-c679-4ffe-a287-fdc9a66af4d9",
   "metadata": {},
   "source": [
    "## Homophobia concern lexical field\n",
    "not optimal either"
   ]
  },
  {
   "cell_type": "code",
   "execution_count": 14,
   "id": "d7eaf2ae-1338-47bb-8889-7b71bb05042c",
   "metadata": {},
   "outputs": [
    {
     "name": "stdout",
     "output_type": "stream",
     "text": [
      "[\"homophobia\", \"bigotry\", \"transphobia\", \"sexism\", \"racism\", \"misogyny\", \"classism\", \"xenophobia\", \"Homophobia\", \"prejudice\", \"ableism\", \"islamophobia\", \"misandry\", \"transmisogyny\", \"stereotyping\", \"Homophobia\", \"marginalization\", \"misandry\", \"mysogyny\", \"religious_intolerance\", \"biphobia\", \"Islamophobia\", \"religious_bigotry\", \"heterosexism\", \"discrimination\", \"actual_racism\", \"white_supremacy\", \"real_racism\", \"overt_racism\", \"rape_culture\", \"Racism\", \"cissexism\", \"Sexism\", \"racisim\", \"anti-racism\", \"ageism\", \"Misogyny\", \"pedophilia\", \"systematic_oppression\", \"blatant_racism\", \"misogyny\", \"racial_prejudice\", \"racism/sexism\", \"denigration\", \"oppression\", \"anti-semitism\", \"political_correctness\", \"systemic_oppression\", \"chauvinism\", \"institutional_racism\", \"transphobia\", \"gay_bashing\", \"homosexual_people\", \"microagressions\", \"harmful_stereotypes\", \"islamaphobia\", \"Islamophobia\", \"gender_inequality\", \"heteronormativity\", \"Islamophobia\", \"mysoginy\", \"casual_sexism\", \"Islamaphobia\", \"casual_racism\", \"race_realism\", \"Bigotry\", \"Homophobia\", \"LGBT_people\", \"misogyny\", \"racial_bigotry\", \"just_racism\", \"reverse_racism\", \"anti_semitism\", \"institutionalized_oppression\", \"casteism\", \"LGBT_movement\", \"ethnocentrism\", \"antisemitism\", \"-isms\", \"modern_feminism\", \"vilification\", \"slut-shaming\", \"social_injustice\", \"slut_shaming\", \"bigoted\", \"negative_attitudes\", \"rampant_racism\", \"anti-Semitism\", \"third_wave_feminism\", \"paedophilia\", \"homosexuality\", \"sexual_repression\", \"gay_community\", \"Islamophobia\", \"historical_oppression\", \"internalized_racism\", \"feminism\", \"trivialization\", \"othering\", \"toxic_masculinity\", \"othering\", \"LGBTQ_people\", \"gay_culture\", \"institutionalized_racism\", \"actual_sexism\", \"anti-white_racism\", \"anti-feminism\", \"demonization\", \"sexual_minorities\", \"blatant_sexism\", \"racist_ideas\", \"Islamaphobia\", \"intolerance\", \"dehumanization\", \"Misogyny\", \"homosexual_community\", \"opression\", \"rampant_misogyny\", \"PC_culture\", \"microaggressions\", \"racial_inequality\", \"LGBT_community\", \"double-standards\", \"race_issues\", \"systemic_racism\", \"blatant_misogyny\", \"queer_people\", \"misogynistic\", \"transphobia\", \"interracial_relationships\", \"puritanism\", \"transpeople\", \"rampant_sexism\", \"feminist_movement\", \"stigmatization\", \"negative_stereotypes\", \"institutionalized_discrimination\", \"micro-aggressions\", \"bigots\", \"persecution\", \"racial_equality\", \"racial_segregation\", \"cultural_appropriation\", \"racial_discrimination\", \"Transphobia\", \"racial_issues\", \"social_justice\", \"white_guilt\", \"systematic_racism\", \"homophobes\", \"internalized\", \"institutional_discrimination\", \"heightism\", \"racial_oppression\", \"homophobic\", \"gender_politics\", \"gay_people\", \"institutionalized_sexism\", \"minority_groups\", \"gender_equality\", \"violence\", \"segregation\", \"LGBT_communities\", \"just_sexism\", \"mainstream_feminism\", \"outright_racism\", \"misandry\", \"Misandry\", \"victimization\", \"even_violence\", \"white_pride\", \"legal_discrimination\", \"rascism\", \"social_justice_movement\", \"white_supremacism\", \"internalized_homophobia\", \"feminist_circles\"]\n"
     ]
    }
   ],
   "source": [
    "lexicon.create_category(\"homophobia_concern\", [\"homophobia\"], model=\"reddit\", size = 200)"
   ]
  },
  {
   "cell_type": "code",
   "execution_count": 15,
   "id": "39b8c958-1fb4-4505-8dd0-171e9e608e06",
   "metadata": {},
   "outputs": [
    {
     "data": {
      "text/plain": [
       "163"
      ]
     },
     "execution_count": 15,
     "metadata": {},
     "output_type": "execute_result"
    }
   ],
   "source": [
    "len(lexicon.cats[\"homophobia_concern\"])"
   ]
  },
  {
   "cell_type": "markdown",
   "id": "8635d83b-59e6-449d-96f7-d5c75b6162bd",
   "metadata": {},
   "source": [
    "## Racism concern lexical field"
   ]
  },
  {
   "cell_type": "code",
   "execution_count": 16,
   "id": "9e229a0e-d92a-4985-b92c-3de72291f3a5",
   "metadata": {},
   "outputs": [
    {
     "name": "stdout",
     "output_type": "stream",
     "text": [
      "[\"racism\", \"actual_racism\", \"institutional_racism\", \"bigotry\", \"prejudice\", \"racial_prejudice\", \"xenophobia\", \"classism\", \"homophobia\", \"real_racism\", \"white_supremacy\", \"systemic_racism\", \"institutionalized_racism\", \"Racism\", \"blatant_racism\", \"sexism\", \"systematic_racism\", \"stereotyping\", \"racism/sexism\", \"systematic_oppression\", \"overt_racism\", \"white_racism\", \"reverse_racism\", \"systemic_oppression\", \"oppression\", \"just_racism\", \"anti-white_racism\", \"anti-black_racism\", \"casual_racism\", \"misogyny\", \"islamophobia\", \"white_privilege\", \"rampant_racism\", \"white_guilt\", \"racial_bigotry\", \"inherent_racism\", \"institutionalized_oppression\", \"racisim\", \"rascism\", \"Islamophobia\", \"marginalization\", \"racial_oppression\", \"social_injustice\", \"structural_racism\", \"racial_discrimination\", \"ethnocentrism\", \"race_issues\", \"religious_intolerance\", \"racial_stereotyping\", \"discrimination\", \"anti-semitism\", \"white_oppression\", \"white_culture\", \"chauvinism\", \"transphobia\", \"political_correctness\", \"anti-racism\", \"internalized_racism\", \"racial_issues\", \"obvious_racism\", \"institutionalised_racism\", \"racial_issue\", \"racial_inequality\", \"racists\", \"only_racism\", \"islamaphobia\", \"non-whites\", \"race_issue\", \"racial_violence\", \"racist\", \"racist\", \"outright_racism\", \"extreme_racism\", \"Islamophobia\", \"institutional_oppression\", \"black_culture\", \"race_realism\", \"misandry\", \"racist_attitudes\", \"Islamaphobia\", \"anti_semitism\", \"&gt;Racism\", \"non-white_people\", \"Islamophobia\", \"opression\", \"subtle_racism\", \"microagressions\", \"racist_people\", \"white_people\", \"white_America\", \"ableism\", \"institutionalized_discrimination\", \"black_racism\", \"systemic_discrimination\", \"rape_culture\", \"-isms\", \"white_pride\", \"white_supremacism\", \"more_racism\", \"minorities\", \"misandry\", \"black_community\", \"white_genocide\", \"thug_culture\", \"minority_groups\", \"antisemitism\", \"racial_tension\", \"racist_stereotypes\", \"historical_oppression\", \"racial_prejudices\", \"microaggressions\", \"stereotypes\", \"sexism/racism\", \"dehumanization\", \"racist_ideas\", \"anti-Semitism\", \"systematic_discrimination\", \"anti-racists\", \"religious_bigotry\", \"segregation\", \"PC_culture\", \"Bigotry\", \"racial_superiority\", \"Islamaphobia\", \"racial_stereotypes\", \"casual_sexism\", \"black_America\", \"own_racism\", \"perceived_racism\", \"structural_oppression\", \"negative_stereotypes\", \"racial_segregation\", \"racist_statement\", \"black_communities\", \"racial_profiling\", \"white_racists\", \"racist_white_people\", \"nonwhites\", \"mysogyny\", \"PoC\", \"Black_culture\", \"backwardness\", \"cultural_appropriation\", \"White_privilege\", \"oppressed_minority\", \"ageism\", \"race_problem\", \"racial_equality\", \"black_people\", \"actual_racists\", \"institutional_discrimination\", \"white_supremacists\", \"Sexism\", \"ghetto_culture\", \"racist_ideology\", \"transmisogyny\", \"colorism\", \"real_oppression\", \"black_problem\", \"pure_racism\", \"Homophobia\", \"racist_beliefs\", \"real_racists\", \"oppresion\", \"white_rights\", \"term_racism\", \"Institutional_racism\", \"thinly_veiled_racism\", \"race_relations\", \"othering\", \"racialism\", \"actual_sexism\", \"casteism\", \"multiculturalism\", \"disenfranchisement\", \"injustices\", \"latent_racism\", \"racial_minorities\", \"white_liberals\"]\n"
     ]
    }
   ],
   "source": [
    "lexicon.create_category(\"racism_concern\", [\"racism\"], model=\"reddit\", size = 200)"
   ]
  },
  {
   "cell_type": "code",
   "execution_count": 17,
   "id": "4d91e94f-a467-4df4-a0bb-55f2b048e7eb",
   "metadata": {},
   "outputs": [
    {
     "data": {
      "text/plain": [
       "174"
      ]
     },
     "execution_count": 17,
     "metadata": {},
     "output_type": "execute_result"
    }
   ],
   "source": [
    "len(lexicon.cats[\"racism_concern\"])"
   ]
  },
  {
   "cell_type": "markdown",
   "id": "03ace254-a2b4-4701-87ea-c078770eed3b",
   "metadata": {},
   "source": [
    "## Mental concern lexical field"
   ]
  },
  {
   "cell_type": "code",
   "execution_count": 18,
   "id": "6a790198-f4de-41c4-b369-4e9692a935d7",
   "metadata": {},
   "outputs": [
    {
     "name": "stdout",
     "output_type": "stream",
     "text": [
      "[\"mental\", \"mental_health\", \"substance_abuse\", \"physical_health\", \"mental_retardation\", \"psychotherapy\", \"chronic_illness\", \"mental_illness\", \"psychiatric\", \"retardation\", \"emotional_problems\", \"mental_disorders\", \"alcoholism\", \"prevention\", \"disability\", \"deafness\", \"occupational\", \"patient_care\", \"attention_deficit_disorder\", \"mental_illnesses\", \"medical_problems\", \"palliative_care\", \"drug_abuse\", \"physical_illness\", \"drug_addiction\", \"chronic\", \"infertility\", \"pain_management\", \"medical_problem\", \"alcohol_abuse\", \"own_health\", \"preventive\", \"impairment\", \"family_violence\", \"early_intervention\", \"wellness\", \"blindness\", \"socialization\", \"therapy\", \"addictions\", \"medical_needs\", \"autism\", \"diagnoses\", \"neurological\", \"severe_mental_illness\", \"mental_health_care\", \"primary_care\", \"disorders\", \"dementia\", \"reproductive\", \"chronic_pain\", \"health\", \"hygiene\", \"psychiatric_care\", \"dyslexia\", \"schizophrenia\", \"sickness\", \"epilepsy\", \"diagnosing\", \"psychosis\", \"psychiatric_problems\", \"clinical\", \"behavioral\", \"counseling\", \"motor_skills\", \"hypertension\", \"sexually_transmitted_diseases\", \"serious_mental_illness\", \"physical\", \"psychological_problems\", \"medical_profession\", \"mental_disorder\", \"hyperactivity\", \"family_support\", \"terminal_illness\", \"child-rearing\", \"hospice_care\", \"early_detection\", \"clinical_depression\", \"sufferers\", \"developmental_disabilities\", \"behavioral_problems\", \"mental_health_problems\", \"incontinence\", \"spinal_cord_injuries\", \"family_counseling\", \"cognitive\", \"medical_condition\", \"serious_illness\", \"disease_prevention\", \"physical_activity\", \"effective_treatment\", \"bulimia\", \"impairments\", \"respiratory\", \"prenatal_care\", \"parental\", \"treatment\", \"psychological\", \"preventive_care\", \"chronic_fatigue_syndrome\", \"medical_care\", \"therapies\", \"cancer_patients\", \"chronic_disease\", \"ailments\", \"medical_science\", \"parenting\", \"health_problem\", \"manic_depression\", \"pathology\", \"rehabilitation_programs\", \"immunization\", \"obesity\", \"aging\", \"acupuncture\", \"mental_health_system\", \"medical\", \"infectious_disease\", \"drug_therapy\", \"psychiatric_disorders\", \"teenage_pregnancy\", \"nutrition\", \"addiction\", \"drug_problems\", \"medical_practice\", \"cardiovascular_disease\", \"chronic_diseases\", \"delinquency\", \"anorexia\", \"physical_condition\", \"illnesses\", \"breast-feeding\", \"health_services\", \"disabilities\", \"proper_treatment\", \"asthma\", \"child_abuse\", \"prenatal\", \"other_illnesses\", \"diagnosis\", \"therapist\", \"bipolar_disorder\", \"medical_history\", \"psychiatry\", \"carpal_tunnel_syndrome\", \"socioeconomic_status\", \"modern_medicine\", \"learning_disabilities\", \"nursing\", \"memory_loss\", \"hearing_loss\", \"low_self-esteem\", \"family_structure\", \"chronic_illnesses\", \"chronic_conditions\", \"mental_health_professionals\", \"childbirth\", \"preventive_medicine\", \"bone_marrow_transplants\", \"emotional_stress\", \"disorder\", \"teen-age_pregnancy\", \"case_management\", \"genetic_predisposition\", \"impotence\", \"risk_factors\", \"anesthesia\", \"transplantation\", \"physical_fitness\", \"infectious_diseases\", \"clinician\", \"weight_loss\", \"social_support\", \"mental_health_services\", \"manic-depression\", \"migraines\", \"abused_children\", \"child_development\", \"medical_knowledge\", \"childbearing\", \"therapeutic\", \"social_isolation\", \"hydration\", \"medical_training\", \"early_treatment\", \"medical_community\", \"therapists\", \"H.I.V._infection\", \"home_care\", \"clinicians\"]\n"
     ]
    }
   ],
   "source": [
    "lexicon.create_category(\"mental_concern\", [\"mental\", \"mental_health\"], model=\"nytimes\", size = 200)"
   ]
  },
  {
   "cell_type": "code",
   "execution_count": 19,
   "id": "4a27524f-0c12-48ef-a918-ec2ff4d2fa64",
   "metadata": {},
   "outputs": [
    {
     "data": {
      "text/plain": [
       "191"
      ]
     },
     "execution_count": 19,
     "metadata": {},
     "output_type": "execute_result"
    }
   ],
   "source": [
    "len(lexicon.cats[\"mental_concern\"])"
   ]
  },
  {
   "cell_type": "markdown",
   "id": "15f6a488-aa82-4b23-8b4b-bbbe20ea6568",
   "metadata": {},
   "source": [
    "# Not bad nor negative concerns "
   ]
  },
  {
   "cell_type": "code",
   "execution_count": 20,
   "id": "a8849f68-4809-467a-8bbd-0f9ad7fc0408",
   "metadata": {},
   "outputs": [
    {
     "name": "stdout",
     "output_type": "stream",
     "text": [
      "[\"family\", \"extended_family\", \"mother\", \"own_family\", \"grandparents\", \"husband\", \"large_family\", \"relatives\", \"siblings\", \"in-laws\", \"other_family_members\", \"friends\", \"aunt\", \"wife\", \"home\", \"immediate_family\", \"family_members\", \"house\", \"widowed_mother\", \"other_relatives\", \"relative\", \"uncle\", \"parents\", \"father\", \"cousins\", \"neighbors\", \"families\", \"sister\", \"child\", \"own_home\", \"own_children\", \"mother-in-law\", \"housekeeper\", \"young_son\", \"comfortable_life\", \"niece\", \"widow\", \"family_home\", \"cousin\", \"neighbor\", \"sisters\", \"nanny\", \"younger_sister\", \"aunts\", \"orphanage\", \"new_wife\", \"inheritance\", \"children\", \"only_child\", \"grown_children\", \"young_sons\", \"young_daughters\", \"other_families\", \"young_daughter\", \"grandmother\", \"own_parents\", \"uncles\", \"brother\", \"whole_family\", \"former_wife\", \"life\", \"friend\", \"adult_children\", \"her\", \"household\", \"childhood\"]\n"
     ]
    }
   ],
   "source": [
    "lexicon.create_category(\"familial_concern\", [\"family\"], model=\"nytimes\", size = 200)"
   ]
  },
  {
   "cell_type": "code",
   "execution_count": 21,
   "id": "330b28cf-c3c0-4b64-8f95-d1d7af323f3c",
   "metadata": {},
   "outputs": [
    {
     "name": "stdout",
     "output_type": "stream",
     "text": [
      "[\"gender\", \"lgbt\", \"transgenders\", \"sexual_preference\", \"LGBT\", \"sexual_orientation\", \"transgendered_people\", \"transgender\", \"transgender_people\", \"homosexual_people\", \"own_gender\", \"LGBT\", \"sexual_minorities\", \"transgendered\", \"transpeople\", \"trans\", \"gender\", \"gender_identity\", \"sexual_orientations\", \"queer_people\", \"sex/gender\", \"sexual_minority\", \"transexuals\", \"LGBT_people\", \"LGBTQ\", \"trans_people\", \"trans_folk\", \"LGBT_community\", \"transgender\", \"LGBT\", \"other_gender\", \"transsexuals\", \"gender_identities\", \"gender/sex\", \"queer\", \"lgbt_community\", \"sexual_preferences\", \"minority_group\", \"lgbt_people\", \"LGBT\", \"sexualities\", \"trans\", \"sexuality\", \"hetero\", \"sexual_identity\", \"straight_people\", \"heterosexual_people\", \"trans\", \"discrimination\", \"LGBTQ\", \"transgendered\", \"other_genders\", \"marginalized_group\", \"transgender\", \"transgender\", \"LGBTQ_community\", \"transgendered_individuals\", \"gender_binary\", \"gender_orientation\", \"gay_people\", \"trans_community\", \"based_discrimination\", \"gender_identification\", \"binary_genders\", \"LGBT.\", \"trans\", \"bisexuals\", \"transgender_folks\", \"trans\", \"bigoted\", \"sexual_identities\", \"queer\", \"trans_individuals\", \"cis\", \"certain_gender\", \"LBGT\", \"transgender_individuals\", \"cisgender\", \"trans_rights\", \"transgendered\", \"own_sex\", \"racial_minorities\", \"trans\", \"oppressed_group\", \"feminist\", \"LGBT_folk\", \"race/ethnicity\", \"feminist\", \"LGB_people\", \"transgender_community\", \"self_identification\", \"gender_expression\", \"equal_rights\", \"heterosexuals\", \"Gay_people\", \"different_sexuality\", \"trans_women\", \"LBGT_community\", \"other_sex\", \"transgender_person\", \"LGBTQ_people\", \"Transgender_people\", \"transwomen\", \"heterosexual\", \"cis_people\", \"prejudice\", \"trans_person\", \"minority_groups\", \"other_sexualities\", \"Trans_people\", \"binary_people\", \"biological_sex\", \"opposite_gender\", \"homosexual\", \"transfolk\", \"trans_folks\", \"feminist_views\", \"discriminated\", \"LGBT.\", \"cisgender_people\", \"queer_community\", \"particular_gender\", \"gender_norms\", \"gay_community\", \"feminists\", \"same_gender\", \"cisgendered\", \"privileged_group\", \"heterosexuality\", \"crossdressers\", \"Trans\", \"gay_men\", \"LGBT+_community\", \"gay\", \"transphobic\", \"bisexual_people\", \"LGBT_folks\", \"male_gender\", \"bisexuality\", \"homosexual\", \"LGBTQ+_community\", \"particular_group\", \"transgender_rights\", \"feminism\", \"feminist_women\", \"nonbinary_people\", \"gender/sexuality\", \"discriminating\", \"LGBTs\", \"bigoted_views\", \"political_belief\", \"bi_people\", \"gays\", \"cis\", \"self-identification\", \"certain_race\", \"cis\", \"transsexual_people\", \"LBGT\", \"LGBT\", \"binary_gender\", \"biological_gender\", \"feminist_ideals\", \"certain_religion\", \"gender_equality\", \"trans_men\", \"sexes\", \"based_violence\", \"straight_white_men\", \"Discriminating\", \"non-binary\", \"homosexuals\", \"heterosexual_relationships\", \"asexuals\", \"certain_group\", \"heteronormative\", \"trans_woman\", \"same_sex_relationships\", \"feminist_movement\", \"Transgender\", \"straight_community\", \"gay_person\", \"lgbt\", \"pro-equality\", \"feminist_issues\", \"homophobia\", \"lesbians\", \"LGBT_communities\", \"gendered\"]\n"
     ]
    }
   ],
   "source": [
    "lexicon.create_category(\"lgbtq+\", [\"lgbt\", \"gender\"], model=\"reddit\", size = 200)"
   ]
  },
  {
   "cell_type": "code",
   "execution_count": null,
   "id": "b63a6591-148c-4419-a38f-73ce6a5dd518",
   "metadata": {},
   "outputs": [],
   "source": []
  }
 ],
 "metadata": {
  "kernelspec": {
   "display_name": "Python 3 (ipykernel)",
   "language": "python",
   "name": "python3"
  },
  "language_info": {
   "codemirror_mode": {
    "name": "ipython",
    "version": 3
   },
   "file_extension": ".py",
   "mimetype": "text/x-python",
   "name": "python",
   "nbconvert_exporter": "python",
   "pygments_lexer": "ipython3",
   "version": "3.9.13"
  }
 },
 "nbformat": 4,
 "nbformat_minor": 5
}
